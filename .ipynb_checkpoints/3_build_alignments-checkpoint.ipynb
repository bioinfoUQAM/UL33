{
 "cells": [
  {
   "cell_type": "code",
   "execution_count": 1,
   "metadata": {
    "vscode": {
     "languageId": "plaintext"
    }
   },
   "outputs": [],
   "source": [
    "# Imports\n",
    "import subprocess\n",
    "from Bio import SeqIO\n",
    "from Bio.Seq import Seq"
   ]
  },
  {
   "cell_type": "code",
   "execution_count": 2,
   "metadata": {},
   "outputs": [],
   "source": [
    "def truncate_aligned_sequences(sample):\n",
    "    # Define the start and end motifs\n",
    "    motif_start = \"ATGGACACCATCATCCAC\"\n",
    "    motif_end = \"GGGTATGA\"\n",
    "    # Read the FASTA file containing aligned sequences based on the sample nam\n",
    "    records = list(SeqIO.parse(\"data/fasta/\" + sample + \".fasta\", \"fasta\"))\n",
    "    truncated_sequences = []\n",
    "    for record in records:\n",
    "        sequence = str(record.seq)\n",
    "        # Find the start motif in the sequence and truncate the sequence from that motif onwards\n",
    "        motif_start_index = sequence.find(motif_start)\n",
    "        if motif_start_index != -1:\n",
    "            sequence = sequence[motif_start_index:]\n",
    "        # Find the end motif and truncate the sequence to only include up to and including this motif\n",
    "        motif_end_index = sequence.find(motif_end)\n",
    "        if motif_end_index != -1:\n",
    "            sequence = sequence[:motif_end_index+len(motif_end)]\n",
    "        # Update the sequence of the record\n",
    "        record.seq = Seq(sequence) \n",
    "         # Append the truncated sequence to the list\n",
    "        truncated_sequences.append(record)\n",
    "    # Write the truncated sequences back to the FASTA file\n",
    "    SeqIO.write(truncated_sequences, \"data/fasta/\" + sample + \"_truncated.fasta\", \"fasta\")"
   ]
  },
  {
   "cell_type": "code",
   "execution_count": 3,
   "metadata": {},
   "outputs": [],
   "source": [
    "def align_sequences(sample):\n",
    "    # Construct the command to align sequences using Muscle.\n",
    "    command = \"muscle -in data/fasta/\" + sample + \"_truncated.fasta -out data/fasta/\" + sample + \"_aligned.fasta -maxiters 100\"\n",
    "    # Execute the Muscle command\n",
    "    subprocess.run(command, check=True, shell=True)"
   ]
  },
  {
   "cell_type": "code",
   "execution_count": 12,
   "metadata": {},
   "outputs": [],
   "source": [
    "def combine_samples(samples):\n",
    "    all_samples_fasta = \"data/fasta/all_samples.fasta\"\n",
    "    ids = set()\n",
    "    with open(all_samples_fasta, 'w') as output:\n",
    "        for sample in samples:\n",
    "            input_path = \"data/fasta/\" + sample + \"_truncated.fasta\"\n",
    "            for record in SeqIO.parse(input_path, \"fasta\"):\n",
    "                if record.id not in ids:\n",
    "                    SeqIO.write(record, output, \"fasta\")\n",
    "                    ids.add(record.id)"
   ]
  },
  {
   "cell_type": "code",
   "execution_count": 4,
   "metadata": {},
   "outputs": [
    {
     "name": "stdout",
     "output_type": "stream",
     "text": [
      "Truncation and alignment of sample: 04.B1.W14.01_04.M1.W09.02\n"
     ]
    },
    {
     "name": "stderr",
     "output_type": "stream",
     "text": [
      "\n",
      "MUSCLE v3.8.1551 by Robert C. Edgar\n",
      "\n",
      "http://www.drive5.com/muscle\n",
      "This software is donated to the public domain.\n",
      "Please cite: Edgar, R.C. Nucleic Acids Res 32(5), 1792-97.\n",
      "\n",
      "04.B1.W14.01_04.M1.W09.02_trunc 12 seqs, lengths min 1274, max 1360, avg 1333\n",
      "00:00:00    16 MB(-1%)  Iter   1  100.00%  K-mer dist pass 1\n",
      "00:00:00    16 MB(-1%)  Iter   1  100.00%  K-mer dist pass 2\n",
      "00:00:00    31 MB(-2%)  Iter   1  100.00%  Align node       \n",
      "00:00:00    31 MB(-2%)  Iter   1  100.00%  Root alignment\n",
      "00:00:01    31 MB(-2%)  Iter   2  100.00%  Refine tree   \n",
      "00:00:01    31 MB(-2%)  Iter   2  100.00%  Root alignment\n",
      "00:00:01    31 MB(-2%)  Iter   2  100.00%  Root alignment\n",
      "00:00:01    31 MB(-2%)  Iter   3  100.00%  Refine biparts\n",
      "00:00:02    31 MB(-2%)  Iter   4  100.00%  Refine biparts\n",
      "00:00:02    31 MB(-2%)  Iter   5  100.00%  Refine biparts\n",
      "00:00:02    31 MB(-2%)  Iter   5  100.00%  Refine biparts\n",
      "\n",
      "MUSCLE v3.8.1551 by Robert C. Edgar\n",
      "\n",
      "http://www.drive5.com/muscle\n",
      "This software is donated to the public domain.\n",
      "Please cite: Edgar, R.C. Nucleic Acids Res 32(5), 1792-97.\n",
      "\n",
      "05.B1.W14.04_05.M1.W08.03_trunc 9 seqs, lengths min 1324, max 1360, avg 1343\n",
      "00:00:00    16 MB(-1%)  Iter   1  100.00%  K-mer dist pass 1\n",
      "00:00:00    16 MB(-1%)  Iter   1  100.00%  K-mer dist pass 2\n",
      "00:00:00    26 MB(-2%)  Iter   1   62.50%  Align node       \r"
     ]
    },
    {
     "name": "stdout",
     "output_type": "stream",
     "text": [
      "Truncation and alignment of sample: 05.B1.W14.04_05.M1.W08.03\n"
     ]
    },
    {
     "name": "stderr",
     "output_type": "stream",
     "text": [
      "00:00:00    28 MB(-2%)  Iter   1  100.00%  Align node\n",
      "00:00:00    28 MB(-2%)  Iter   1  100.00%  Root alignment\n",
      "00:00:00    28 MB(-2%)  Iter   2  100.00%  Refine tree   \n",
      "00:00:00    28 MB(-2%)  Iter   2  100.00%  Root alignment\n",
      "00:00:00    28 MB(-2%)  Iter   2  100.00%  Root alignment\n",
      "00:00:01    28 MB(-2%)  Iter   3  100.00%  Refine biparts\n",
      "00:00:01    28 MB(-2%)  Iter   4  100.00%  Refine biparts\n",
      "\n",
      "MUSCLE v3.8.1551 by Robert C. Edgar\n",
      "\n",
      "http://www.drive5.com/muscle\n",
      "This software is donated to the public domain.\n",
      "Please cite: Edgar, R.C. Nucleic Acids Res 32(5), 1792-97.\n",
      "\n",
      "27.B1.W13.06_27.M1.W10.07_trunc 11 seqs, lengths min 1297, max 1360, avg 1333\n",
      "00:00:00    16 MB(-1%)  Iter   1  100.00%  K-mer dist pass 1\n",
      "00:00:00    16 MB(-1%)  Iter   1  100.00%  K-mer dist pass 2\n",
      "00:00:00    27 MB(-2%)  Iter   1   40.00%  Align node       \r"
     ]
    },
    {
     "name": "stdout",
     "output_type": "stream",
     "text": [
      "Truncation and alignment of sample: 27.B1.W13.06_27.M1.W10.07\n"
     ]
    },
    {
     "name": "stderr",
     "output_type": "stream",
     "text": [
      "00:00:00    30 MB(-2%)  Iter   1  100.00%  Align node\n",
      "00:00:00    30 MB(-2%)  Iter   1  100.00%  Root alignment\n",
      "00:00:00    30 MB(-2%)  Iter   2  100.00%  Root alignment\n",
      "00:00:00    31 MB(-2%)  Iter   3  100.00%  Refine biparts\n",
      "00:00:01    31 MB(-2%)  Iter   4  100.00%  Refine biparts\n",
      "\n",
      "MUSCLE v3.8.1551 by Robert C. Edgar\n",
      "\n",
      "http://www.drive5.com/muscle\n",
      "This software is donated to the public domain.\n",
      "Please cite: Edgar, R.C. Nucleic Acids Res 32(5), 1792-97.\n",
      "\n",
      "30.B1.W11.08_30.M1.W04.09_trunc 6 seqs, lengths min 1345, max 1360, avg 1353\n",
      "00:00:00    16 MB(-1%)  Iter   1  100.00%  K-mer dist pass 1\n",
      "00:00:00    16 MB(-1%)  Iter   1  100.00%  K-mer dist pass 2\n",
      "00:00:00    26 MB(-2%)  Iter   1  100.00%  Align node       \n",
      "00:00:00    26 MB(-2%)  Iter   1  100.00%  Root alignment\n",
      "00:00:00    26 MB(-2%)  Iter   2  100.00%  Root alignment\n",
      "00:00:00    26 MB(-2%)  Iter   3   22.22%  Refine biparts\r"
     ]
    },
    {
     "name": "stdout",
     "output_type": "stream",
     "text": [
      "Truncation and alignment of sample: 30.B1.W11.08_30.M1.W04.09\n"
     ]
    },
    {
     "name": "stderr",
     "output_type": "stream",
     "text": [
      "00:00:00    26 MB(-2%)  Iter   3  100.00%  Refine biparts\n",
      "00:00:00    26 MB(-2%)  Iter   4  100.00%  Refine biparts\n",
      "\n",
      "MUSCLE v3.8.1551 by Robert C. Edgar\n",
      "\n",
      "http://www.drive5.com/muscle\n",
      "This software is donated to the public domain.\n",
      "Please cite: Edgar, R.C. Nucleic Acids Res 32(5), 1792-97.\n",
      "\n",
      "38.B1.W10.11_38.M1.W03.10_trunc 10 seqs, lengths min 1338, max 1360, avg 1346\n",
      "00:00:00    16 MB(-1%)  Iter   1  100.00%  K-mer dist pass 1\n",
      "00:00:00    16 MB(-1%)  Iter   1  100.00%  K-mer dist pass 2\n",
      "00:00:00    27 MB(-2%)  Iter   1   55.56%  Align node       \r"
     ]
    },
    {
     "name": "stdout",
     "output_type": "stream",
     "text": [
      "Truncation and alignment of sample: 38.B1.W10.11_38.M1.W03.10\n"
     ]
    },
    {
     "name": "stderr",
     "output_type": "stream",
     "text": [
      "00:00:01    29 MB(-2%)  Iter   1  100.00%  Align node\n",
      "00:00:01    29 MB(-2%)  Iter   1  100.00%  Root alignment\n",
      "00:00:01    29 MB(-2%)  Iter   2  100.00%  Refine tree   \n",
      "00:00:01    29 MB(-2%)  Iter   2  100.00%  Root alignment\n",
      "00:00:01    29 MB(-2%)  Iter   2  100.00%  Root alignment\n",
      "00:00:01    29 MB(-2%)  Iter   3  100.00%  Refine biparts\n",
      "\n",
      "MUSCLE v3.8.1551 by Robert C. Edgar\n",
      "\n",
      "http://www.drive5.com/muscle\n",
      "This software is donated to the public domain.\n",
      "Please cite: Edgar, R.C. Nucleic Acids Res 32(5), 1792-97.\n",
      "\n",
      "39.B1.W11.12_39.M1.W03.13_39.M1 14 seqs, lengths min 1297, max 1360, avg 1332\n",
      "00:00:00    16 MB(-1%)  Iter   1  100.00%  K-mer dist pass 1\n",
      "00:00:00    16 MB(-1%)  Iter   1  100.00%  K-mer dist pass 2\n",
      "00:00:00    28 MB(-2%)  Iter   1   53.85%  Align node       \r"
     ]
    },
    {
     "name": "stdout",
     "output_type": "stream",
     "text": [
      "Truncation and alignment of sample: 39.B1.W11.12_39.M1.W03.13_39.M1.W05.14\n"
     ]
    },
    {
     "name": "stderr",
     "output_type": "stream",
     "text": [
      "00:00:01    32 MB(-2%)  Iter   1  100.00%  Align node\n",
      "00:00:01    32 MB(-2%)  Iter   1  100.00%  Root alignment\n",
      "00:00:01    32 MB(-2%)  Iter   2  100.00%  Root alignment\n",
      "00:00:01    34 MB(-2%)  Iter   3  100.00%  Refine biparts\n",
      "00:00:02    34 MB(-2%)  Iter   4  100.00%  Refine biparts\n",
      "00:00:02    34 MB(-2%)  Iter   5  100.00%  Refine biparts\n",
      "00:00:02    34 MB(-2%)  Iter   5  100.00%  Refine biparts\n",
      "\n",
      "MUSCLE v3.8.1551 by Robert C. Edgar\n",
      "\n",
      "http://www.drive5.com/muscle\n",
      "This software is donated to the public domain.\n",
      "Please cite: Edgar, R.C. Nucleic Acids Res 32(5), 1792-97.\n",
      "\n",
      "51.M1.W03.26_51.S1.W05.27_trunc 9 seqs, lengths min 1281, max 1360, avg 1329\n",
      "00:00:00    16 MB(-1%)  Iter   1  100.00%  K-mer dist pass 1\n",
      "00:00:00    16 MB(-1%)  Iter   1  100.00%  K-mer dist pass 2\n",
      "00:00:00    23 MB(-2%)  Iter   1   25.00%  Align node       \r"
     ]
    },
    {
     "name": "stdout",
     "output_type": "stream",
     "text": [
      "Truncation and alignment of sample: 51.M1.W03.26_51.S1.W05.27\n"
     ]
    },
    {
     "name": "stderr",
     "output_type": "stream",
     "text": [
      "00:00:00    28 MB(-2%)  Iter   1  100.00%  Align node\n",
      "00:00:00    28 MB(-2%)  Iter   1  100.00%  Root alignment\n",
      "00:00:00    28 MB(-2%)  Iter   2  100.00%  Root alignment\n",
      "00:00:00    28 MB(-2%)  Iter   3  100.00%  Refine biparts\n",
      "00:00:01    29 MB(-2%)  Iter   4  100.00%  Refine biparts\n",
      "00:00:01    29 MB(-2%)  Iter   5  100.00%  Refine biparts\n",
      "00:00:01    29 MB(-2%)  Iter   5  100.00%  Refine biparts\n",
      "\n",
      "MUSCLE v3.8.1551 by Robert C. Edgar\n",
      "\n",
      "http://www.drive5.com/muscle\n",
      "This software is donated to the public domain.\n",
      "Please cite: Edgar, R.C. Nucleic Acids Res 32(5), 1792-97.\n",
      "\n",
      "53.B1.W14.17_53.M1.W07.16_trunc 9 seqs, lengths min 1331, max 1360, avg 1348\n",
      "00:00:00    16 MB(-1%)  Iter   1  100.00%  K-mer dist pass 1\n",
      "00:00:00    16 MB(-1%)  Iter   1  100.00%  K-mer dist pass 2\n",
      "00:00:00    27 MB(-2%)  Iter   1   75.00%  Align node       \r"
     ]
    },
    {
     "name": "stdout",
     "output_type": "stream",
     "text": [
      "Truncation and alignment of sample: 53.B1.W14.17_53.M1.W07.16\n"
     ]
    },
    {
     "name": "stderr",
     "output_type": "stream",
     "text": [
      "00:00:00    28 MB(-2%)  Iter   1  100.00%  Align node\n",
      "00:00:00    28 MB(-2%)  Iter   1  100.00%  Root alignment\n",
      "00:00:00    28 MB(-2%)  Iter   2  100.00%  Refine tree   \n",
      "00:00:00    28 MB(-2%)  Iter   2  100.00%  Root alignment\n",
      "00:00:00    28 MB(-2%)  Iter   2  100.00%  Root alignment\n",
      "00:00:00    28 MB(-2%)  Iter   3  100.00%  Refine biparts\n",
      "00:00:01    28 MB(-2%)  Iter   4  100.00%  Refine biparts\n",
      "00:00:01    28 MB(-2%)  Iter   5  100.00%  Refine biparts\n",
      "00:00:01    28 MB(-2%)  Iter   5  100.00%  Refine biparts\n"
     ]
    },
    {
     "name": "stdout",
     "output_type": "stream",
     "text": [
      "Truncation and alignment of sample: 54.M1.W03.18_54.M1.W05.19\n"
     ]
    },
    {
     "name": "stderr",
     "output_type": "stream",
     "text": [
      "\n",
      "MUSCLE v3.8.1551 by Robert C. Edgar\n",
      "\n",
      "http://www.drive5.com/muscle\n",
      "This software is donated to the public domain.\n",
      "Please cite: Edgar, R.C. Nucleic Acids Res 32(5), 1792-97.\n",
      "\n",
      "54.M1.W03.18_54.M1.W05.19_trunc 8 seqs, lengths min 1295, max 1360, avg 1333\n",
      "00:00:00    16 MB(-1%)  Iter   1  100.00%  K-mer dist pass 1\n",
      "00:00:00    16 MB(-1%)  Iter   1  100.00%  K-mer dist pass 2\n",
      "00:00:00    27 MB(-2%)  Iter   1  100.00%  Align node       \n",
      "00:00:00    27 MB(-2%)  Iter   1  100.00%  Root alignment\n",
      "00:00:00    27 MB(-2%)  Iter   2  100.00%  Root alignment\n",
      "00:00:00    27 MB(-2%)  Iter   3  100.00%  Refine biparts\n",
      "00:00:01    28 MB(-2%)  Iter   4  100.00%  Refine biparts\n",
      "00:00:01    29 MB(-2%)  Iter   5  100.00%  Refine biparts\n",
      "00:00:01    29 MB(-2%)  Iter   5  100.00%  Refine biparts\n",
      "\n",
      "MUSCLE v3.8.1551 by Robert C. Edgar\n",
      "\n",
      "http://www.drive5.com/muscle\n",
      "This software is donated to the public domain.\n",
      "Please cite: Edgar, R.C. Nucleic Acids Res 32(5), 1792-97.\n",
      "\n",
      "56.B1.W09.22_56.M1.W03.21_trunc 9 seqs, lengths min 1270, max 1360, avg 1318\n",
      "00:00:00    16 MB(-1%)  Iter   1  100.00%  K-mer dist pass 1\n",
      "00:00:00    16 MB(-1%)  Iter   1  100.00%  K-mer dist pass 2\n",
      "00:00:00    27 MB(-2%)  Iter   1   87.50%  Align node       \r"
     ]
    },
    {
     "name": "stdout",
     "output_type": "stream",
     "text": [
      "Truncation and alignment of sample: 56.B1.W09.22_56.M1.W03.21\n"
     ]
    },
    {
     "name": "stderr",
     "output_type": "stream",
     "text": [
      "00:00:00    28 MB(-2%)  Iter   1  100.00%  Align node\n",
      "00:00:00    28 MB(-2%)  Iter   1  100.00%  Root alignment\n",
      "00:00:00    28 MB(-2%)  Iter   2  100.00%  Root alignment\n",
      "00:00:00    28 MB(-2%)  Iter   3  100.00%  Refine biparts\n",
      "00:00:00    28 MB(-2%)  Iter   4  100.00%  Refine biparts\n",
      "\n",
      "MUSCLE v3.8.1551 by Robert C. Edgar\n",
      "\n",
      "http://www.drive5.com/muscle\n",
      "This software is donated to the public domain.\n",
      "Please cite: Edgar, R.C. Nucleic Acids Res 32(5), 1792-97.\n",
      "\n",
      "63.B1.W09.29_63.M1.W02.30_trunc 8 seqs, lengths min 1347, max 1360, avg 1355\n",
      "00:00:00    16 MB(-1%)  Iter   1  100.00%  K-mer dist pass 1\n",
      "00:00:00    16 MB(-1%)  Iter   1  100.00%  K-mer dist pass 2\n",
      "00:00:01    27 MB(-2%)  Iter   1  100.00%  Align node       \r"
     ]
    },
    {
     "name": "stdout",
     "output_type": "stream",
     "text": [
      "Truncation and alignment of sample: 63.B1.W09.29_63.M1.W02.30\n"
     ]
    },
    {
     "name": "stderr",
     "output_type": "stream",
     "text": [
      "00:00:01    28 MB(-2%)  Iter   1  100.00%  Align node\n",
      "00:00:01    28 MB(-2%)  Iter   1  100.00%  Root alignment\n",
      "00:00:01    28 MB(-2%)  Iter   2  100.00%  Refine tree   \n",
      "00:00:01    28 MB(-2%)  Iter   2  100.00%  Root alignment\n",
      "00:00:01    28 MB(-2%)  Iter   2  100.00%  Root alignment\n",
      "00:00:01    28 MB(-2%)  Iter   3  100.00%  Refine biparts\n",
      "00:00:01    28 MB(-2%)  Iter   4  100.00%  Refine biparts\n",
      "\n",
      "MUSCLE v3.8.1551 by Robert C. Edgar\n",
      "\n",
      "http://www.drive5.com/muscle\n",
      "This software is donated to the public domain.\n",
      "Please cite: Edgar, R.C. Nucleic Acids Res 32(5), 1792-97.\n",
      "\n",
      "66.B1.W09.25_66.M1.W02.24_trunc 9 seqs, lengths min 1290, max 1360, avg 1338\n",
      "00:00:00    16 MB(-1%)  Iter   1  100.00%  K-mer dist pass 1\n",
      "00:00:00    16 MB(-1%)  Iter   1  100.00%  K-mer dist pass 2\n",
      "00:00:00    17 MB(-1%)  Iter   1   12.50%  Align node       \r"
     ]
    },
    {
     "name": "stdout",
     "output_type": "stream",
     "text": [
      "Truncation and alignment of sample: 66.B1.W09.25_66.M1.W02.24\n"
     ]
    },
    {
     "name": "stderr",
     "output_type": "stream",
     "text": [
      "00:00:00    28 MB(-2%)  Iter   1  100.00%  Align node\n",
      "00:00:00    28 MB(-2%)  Iter   1  100.00%  Root alignment\n",
      "00:00:00    28 MB(-2%)  Iter   2  100.00%  Root alignment\n",
      "00:00:01    29 MB(-2%)  Iter   3  100.00%  Refine biparts\n",
      "00:00:01    29 MB(-2%)  Iter   4  100.00%  Refine biparts\n",
      "00:00:01    29 MB(-2%)  Iter   5  100.00%  Refine biparts\n",
      "00:00:01    29 MB(-2%)  Iter   5  100.00%  Refine biparts\n"
     ]
    }
   ],
   "source": [
    "# Define list of samples to process\n",
    "samples = [\"04.B1.W14.01_04.M1.W09.02\", \"05.B1.W14.04_05.M1.W08.03\", \"27.B1.W13.06_27.M1.W10.07\",\n",
    "           \"30.B1.W11.08_30.M1.W04.09\", \"38.B1.W10.11_38.M1.W03.10\", \"39.B1.W11.12_39.M1.W03.13_39.M1.W05.14\",\n",
    "           \"51.M1.W03.26_51.S1.W05.27\", \"53.B1.W14.17_53.M1.W07.16\", \"54.M1.W03.18_54.M1.W05.19\",\n",
    "           \"56.B1.W09.22_56.M1.W03.21\", \"63.B1.W09.29_63.M1.W02.30\", \"66.B1.W09.25_66.M1.W02.24\"]\n",
    "\n",
    "# For each sample in the list:\n",
    "for sample in samples: \n",
    "    # Print the alignment in process\n",
    "    print(\"Truncation and alignment of sample:\", sample)\n",
    "    # Truncate the sequences of the sample based on specific motifs\n",
    "    #truncate_aligned_sequences(sample)\n",
    "    # Align the sequences of the sample using Muscle\n",
    "    align_sequences(sample)"
   ]
  },
  {
   "cell_type": "code",
   "execution_count": 18,
   "metadata": {},
   "outputs": [
    {
     "name": "stderr",
     "output_type": "stream",
     "text": [
      "\n",
      "MUSCLE v3.8.1551 by Robert C. Edgar\n",
      "\n",
      "http://www.drive5.com/muscle\n",
      "This software is donated to the public domain.\n",
      "Please cite: Edgar, R.C. Nucleic Acids Res 32(5), 1792-97.\n",
      "\n",
      "all_samples_truncated 92 seqs, lengths min 1270, max 1360, avg 1332\n",
      "00:00:00    16 MB(-1%)  Iter   1  100.00%  K-mer dist pass 1\n",
      "00:00:00    16 MB(-1%)  Iter   1  100.00%  K-mer dist pass 2\n",
      "00:00:02    95 MB(-6%)  Iter   1  100.00%  Align node       \n",
      "00:00:02    95 MB(-6%)  Iter   1  100.00%  Root alignment\n",
      "00:00:04    95 MB(-6%)  Iter   2  100.00%  Refine tree   \n",
      "00:00:04    95 MB(-6%)  Iter   2  100.00%  Root alignment\n",
      "00:00:04    95 MB(-6%)  Iter   2  100.00%  Root alignment\n",
      "00:00:10    95 MB(-6%)  Iter   3  100.00%  Refine biparts\n",
      "00:00:16    95 MB(-6%)  Iter   4  100.00%  Refine biparts\n",
      "00:00:16    95 MB(-6%)  Iter   5  100.00%  Refine biparts\n",
      "00:00:16    95 MB(-6%)  Iter   5  100.00%  Refine biparts\n"
     ]
    }
   ],
   "source": [
    "combine_samples(samples)\n",
    "truncate_aligned_sequences(\"all_samples\")\n",
    "align_sequences(\"all_samples\")"
   ]
  }
 ],
 "metadata": {
  "kernelspec": {
   "display_name": "Python 3 (ipykernel)",
   "language": "python",
   "name": "python3"
  },
  "language_info": {
   "codemirror_mode": {
    "name": "ipython",
    "version": 3
   },
   "file_extension": ".py",
   "mimetype": "text/x-python",
   "name": "python",
   "nbconvert_exporter": "python",
   "pygments_lexer": "ipython3",
   "version": "3.10.12"
  },
  "vscode": {
   "interpreter": {
    "hash": "c1d675c2f4f889dd09212fec10ba36e21d8557edcac2b728432b54c97897b7bb"
   }
  }
 },
 "nbformat": 4,
 "nbformat_minor": 2
}
