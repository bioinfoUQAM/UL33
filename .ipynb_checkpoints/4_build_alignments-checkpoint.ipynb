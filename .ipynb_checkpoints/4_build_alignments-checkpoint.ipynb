{
 "cells": [
  {
   "cell_type": "code",
   "execution_count": 6,
   "metadata": {
    "vscode": {
     "languageId": "plaintext"
    }
   },
   "outputs": [],
   "source": [
    "# Imports\n",
    "import subprocess"
   ]
  },
  {
   "cell_type": "code",
   "execution_count": 7,
   "metadata": {},
   "outputs": [],
   "source": [
    "def align_sequences(sample):\n",
    "    # Construct the command to align sequences using Muscle.\n",
    "    command = \"muscle -in data/fasta/truncated/\" + sample + \"_truncated.fasta -out data/fasta/aligned/\" + sample + \"_aligned.fasta -maxiters 100\"\n",
    "    # Execute the Muscle command\n",
    "    subprocess.run(command, check=True, shell=True)"
   ]
  },
  {
   "cell_type": "code",
   "execution_count": 8,
   "metadata": {},
   "outputs": [
    {
     "name": "stdout",
     "output_type": "stream",
     "text": [
      "Alignment of sample: 04.B1.W14.01_04.M1.W09.02\n"
     ]
    },
    {
     "name": "stderr",
     "output_type": "stream",
     "text": [
      "\n",
      "MUSCLE v3.8.1551 by Robert C. Edgar\n",
      "\n",
      "http://www.drive5.com/muscle\n",
      "This software is donated to the public domain.\n",
      "Please cite: Edgar, R.C. Nucleic Acids Res 32(5), 1792-97.\n",
      "\n",
      "04.B1.W14.01_04.M1.W09.02_trunc 12 seqs, lengths min 1306, max 1360, avg 1341\n",
      "00:00:00    16 MB(-1%)  Iter   1  100.00%  K-mer dist pass 1\n",
      "00:00:00    16 MB(-1%)  Iter   1  100.00%  K-mer dist pass 2\n",
      "00:00:01    31 MB(-2%)  Iter   1  100.00%  Align node       \n",
      "00:00:01    31 MB(-2%)  Iter   1  100.00%  Root alignment\n",
      "00:00:01    31 MB(-2%)  Iter   2  100.00%  Refine tree   \n",
      "00:00:01    31 MB(-2%)  Iter   2  100.00%  Root alignment\n",
      "00:00:01    31 MB(-2%)  Iter   2  100.00%  Root alignment\n",
      "00:00:01    31 MB(-2%)  Iter   3  100.00%  Refine biparts\n",
      "00:00:01    31 MB(-2%)  Iter   4  100.00%  Refine biparts\n",
      "\n",
      "MUSCLE v3.8.1551 by Robert C. Edgar\n",
      "\n",
      "http://www.drive5.com/muscle\n",
      "This software is donated to the public domain.\n",
      "Please cite: Edgar, R.C. Nucleic Acids Res 32(5), 1792-97.\n",
      "\n",
      "05.B1.W14.04_05.M1.W08.03_trunc 10 seqs, lengths min 1324, max 1360, avg 1346\n",
      "00:00:00    16 MB(-1%)  Iter   1  100.00%  K-mer dist pass 1\n",
      "00:00:00    16 MB(-1%)  Iter   1  100.00%  K-mer dist pass 2\n",
      "00:00:01    28 MB(-2%)  Iter   1   88.89%  Align node       \r"
     ]
    },
    {
     "name": "stdout",
     "output_type": "stream",
     "text": [
      "Alignment of sample: 05.B1.W14.04_05.M1.W08.03\n"
     ]
    },
    {
     "name": "stderr",
     "output_type": "stream",
     "text": [
      "00:00:01    29 MB(-2%)  Iter   1  100.00%  Align node\n",
      "00:00:01    29 MB(-2%)  Iter   1  100.00%  Root alignment\n",
      "00:00:01    29 MB(-2%)  Iter   2  100.00%  Refine tree   \n",
      "00:00:01    29 MB(-2%)  Iter   2  100.00%  Root alignment\n",
      "00:00:01    29 MB(-2%)  Iter   2  100.00%  Root alignment\n",
      "00:00:01    29 MB(-2%)  Iter   3  100.00%  Refine biparts\n",
      "00:00:01    29 MB(-2%)  Iter   4  100.00%  Refine biparts\n",
      "\n",
      "MUSCLE v3.8.1551 by Robert C. Edgar\n",
      "\n",
      "http://www.drive5.com/muscle\n",
      "This software is donated to the public domain.\n",
      "Please cite: Edgar, R.C. Nucleic Acids Res 32(5), 1792-97.\n",
      "\n",
      "27.B1.W13.06_27.M1.W10.07_trunc 10 seqs, lengths min 1333, max 1360, avg 1344\n",
      "00:00:00    16 MB(-1%)  Iter   1  100.00%  K-mer dist pass 1\n",
      "00:00:00    16 MB(-1%)  Iter   1  100.00%  K-mer dist pass 2\n",
      "00:00:00    26 MB(-2%)  Iter   1   55.56%  Align node       \r"
     ]
    },
    {
     "name": "stdout",
     "output_type": "stream",
     "text": [
      "Alignment of sample: 27.B1.W13.06_27.M1.W10.07\n"
     ]
    },
    {
     "name": "stderr",
     "output_type": "stream",
     "text": [
      "00:00:01    29 MB(-2%)  Iter   1  100.00%  Align node\n",
      "00:00:01    29 MB(-2%)  Iter   1  100.00%  Root alignment\n",
      "00:00:01    29 MB(-2%)  Iter   2  100.00%  Root alignment\n",
      "00:00:01    30 MB(-2%)  Iter   3  100.00%  Refine biparts\n",
      "00:00:01    30 MB(-2%)  Iter   4  100.00%  Refine biparts\n",
      "00:00:01    30 MB(-2%)  Iter   5  100.00%  Refine biparts\n",
      "00:00:01    30 MB(-2%)  Iter   5  100.00%  Refine biparts\n",
      "\n",
      "MUSCLE v3.8.1551 by Robert C. Edgar\n",
      "\n",
      "http://www.drive5.com/muscle\n",
      "This software is donated to the public domain.\n",
      "Please cite: Edgar, R.C. Nucleic Acids Res 32(5), 1792-97.\n",
      "\n",
      "30.B1.W11.08_30.M1.W04.09_trunc 6 seqs, lengths min 1355, max 1360, avg 1357\n",
      "00:00:00    16 MB(-1%)  Iter   1  100.00%  K-mer dist pass 1\n",
      "00:00:00    16 MB(-1%)  Iter   1  100.00%  K-mer dist pass 2\n",
      "00:00:00    24 MB(-1%)  Iter   1   60.00%  Align node       \r"
     ]
    },
    {
     "name": "stdout",
     "output_type": "stream",
     "text": [
      "Alignment of sample: 30.B1.W11.08_30.M1.W04.09\n"
     ]
    },
    {
     "name": "stderr",
     "output_type": "stream",
     "text": [
      "00:00:00    26 MB(-2%)  Iter   1  100.00%  Align node\n",
      "00:00:00    26 MB(-2%)  Iter   1  100.00%  Root alignment\n",
      "00:00:00    26 MB(-2%)  Iter   2  100.00%  Root alignment\n",
      "00:00:01    26 MB(-2%)  Iter   3  100.00%  Refine biparts\n",
      "00:00:01    26 MB(-2%)  Iter   4  100.00%  Refine biparts\n",
      "\n",
      "MUSCLE v3.8.1551 by Robert C. Edgar\n",
      "\n",
      "http://www.drive5.com/muscle\n",
      "This software is donated to the public domain.\n",
      "Please cite: Edgar, R.C. Nucleic Acids Res 32(5), 1792-97.\n",
      "\n",
      "38.B1.W10.11_38.M1.W03.10_trunc 13 seqs, lengths min 1339, max 1360, avg 1348\n",
      "00:00:00    16 MB(-1%)  Iter   1  100.00%  K-mer dist pass 1\n",
      "00:00:00    16 MB(-1%)  Iter   1  100.00%  K-mer dist pass 2\n",
      "00:00:00    24 MB(-1%)  Iter   1   16.67%  Align node       \r"
     ]
    },
    {
     "name": "stdout",
     "output_type": "stream",
     "text": [
      "Alignment of sample: 38.B1.W10.11_38.M1.W03.10\n"
     ]
    },
    {
     "name": "stderr",
     "output_type": "stream",
     "text": [
      "00:00:00    32 MB(-2%)  Iter   1  100.00%  Align node\n",
      "00:00:00    32 MB(-2%)  Iter   1  100.00%  Root alignment\n",
      "00:00:00    32 MB(-2%)  Iter   2  100.00%  Refine tree   \n",
      "00:00:00    32 MB(-2%)  Iter   2  100.00%  Root alignment\n",
      "00:00:00    32 MB(-2%)  Iter   2  100.00%  Root alignment\n",
      "00:00:00    32 MB(-2%)  Iter   3  100.00%  Refine biparts\n",
      "00:00:01    32 MB(-2%)  Iter   4  100.00%  Refine biparts\n",
      "\n",
      "MUSCLE v3.8.1551 by Robert C. Edgar\n",
      "\n",
      "http://www.drive5.com/muscle\n",
      "This software is donated to the public domain.\n",
      "Please cite: Edgar, R.C. Nucleic Acids Res 32(5), 1792-97.\n",
      "\n",
      "39.B1.W11.12_39.M1.W03.13_39.M1 16 seqs, lengths min 1313, max 1360, avg 1339\n",
      "00:00:00    16 MB(-1%)  Iter   1  100.00%  K-mer dist pass 1\n",
      "00:00:00    16 MB(-1%)  Iter   1  100.00%  K-mer dist pass 2\n",
      "00:00:00    25 MB(-1%)  Iter   1   26.67%  Align node       \r"
     ]
    },
    {
     "name": "stdout",
     "output_type": "stream",
     "text": [
      "Alignment of sample: 39.B1.W11.12_39.M1.W03.13_39.M1.W05.14\n"
     ]
    },
    {
     "name": "stderr",
     "output_type": "stream",
     "text": [
      "00:00:00    34 MB(-2%)  Iter   1  100.00%  Align node\n",
      "00:00:00    34 MB(-2%)  Iter   1  100.00%  Root alignment\n",
      "00:00:00    34 MB(-2%)  Iter   2  100.00%  Refine tree   \n",
      "00:00:00    34 MB(-2%)  Iter   2  100.00%  Root alignment\n",
      "00:00:00    34 MB(-2%)  Iter   2  100.00%  Root alignment\n",
      "00:00:01    34 MB(-2%)  Iter   3  100.00%  Refine biparts\n",
      "00:00:01    34 MB(-2%)  Iter   4  100.00%  Refine biparts\n",
      "00:00:01    34 MB(-2%)  Iter   5  100.00%  Refine biparts\n",
      "00:00:01    34 MB(-2%)  Iter   5  100.00%  Refine biparts\n",
      "\n",
      "MUSCLE v3.8.1551 by Robert C. Edgar\n",
      "\n",
      "http://www.drive5.com/muscle\n",
      "This software is donated to the public domain.\n",
      "Please cite: Edgar, R.C. Nucleic Acids Res 32(5), 1792-97.\n",
      "\n",
      "53.B1.W14.17_53.M1.W07.16_trunc 9 seqs, lengths min 1342, max 1360, avg 1353\n",
      "00:00:00    16 MB(-1%)  Iter   1  100.00%  K-mer dist pass 1\n",
      "00:00:00    16 MB(-1%)  Iter   1  100.00%  K-mer dist pass 2\n",
      "00:00:01    28 MB(-2%)  Iter   1  100.00%  Align node       \n",
      "00:00:01    28 MB(-2%)  Iter   1  100.00%  Root alignment\n",
      "00:00:01    28 MB(-2%)  Iter   2   42.86%  Refine tree   \r"
     ]
    },
    {
     "name": "stdout",
     "output_type": "stream",
     "text": [
      "Alignment of sample: 53.B1.W14.17_53.M1.W07.16\n"
     ]
    },
    {
     "name": "stderr",
     "output_type": "stream",
     "text": [
      "00:00:01    28 MB(-2%)  Iter   2  100.00%  Refine tree\n",
      "00:00:01    28 MB(-2%)  Iter   2  100.00%  Root alignment\n",
      "00:00:01    28 MB(-2%)  Iter   2  100.00%  Root alignment\n",
      "00:00:01    28 MB(-2%)  Iter   3  100.00%  Refine biparts\n",
      "00:00:01    28 MB(-2%)  Iter   4  100.00%  Refine biparts\n",
      "\n",
      "MUSCLE v3.8.1551 by Robert C. Edgar\n",
      "\n",
      "http://www.drive5.com/muscle\n",
      "This software is donated to the public domain.\n",
      "Please cite: Edgar, R.C. Nucleic Acids Res 32(5), 1792-97.\n",
      "\n"
     ]
    },
    {
     "name": "stdout",
     "output_type": "stream",
     "text": [
      "Alignment of sample: 56.B1.W09.22_56.M1.W03.21\n"
     ]
    },
    {
     "name": "stderr",
     "output_type": "stream",
     "text": [
      "56.B1.W09.22_56.M1.W03.21_trunc 10 seqs, lengths min 1297, max 1360, avg 1334\n",
      "00:00:00    16 MB(-1%)  Iter   1  100.00%  K-mer dist pass 1\n",
      "00:00:00    16 MB(-1%)  Iter   1  100.00%  K-mer dist pass 2\n",
      "00:00:00    29 MB(-2%)  Iter   1  100.00%  Align node       \n",
      "00:00:00    29 MB(-2%)  Iter   1  100.00%  Root alignment\n",
      "00:00:01    29 MB(-2%)  Iter   2  100.00%  Refine tree   \n",
      "00:00:01    29 MB(-2%)  Iter   2  100.00%  Root alignment\n",
      "00:00:01    29 MB(-2%)  Iter   2  100.00%  Root alignment\n",
      "00:00:01    29 MB(-2%)  Iter   3  100.00%  Refine biparts\n",
      "00:00:01    29 MB(-2%)  Iter   4  100.00%  Refine biparts\n",
      "00:00:01    29 MB(-2%)  Iter   5  100.00%  Refine biparts\n",
      "00:00:01    29 MB(-2%)  Iter   5  100.00%  Refine biparts\n",
      "\n",
      "MUSCLE v3.8.1551 by Robert C. Edgar\n",
      "\n",
      "http://www.drive5.com/muscle\n",
      "This software is donated to the public domain.\n",
      "Please cite: Edgar, R.C. Nucleic Acids Res 32(5), 1792-97.\n",
      "\n",
      "63.B1.W09.29_63.M1.W02.30_trunc 8 seqs, lengths min 1355, max 1360, avg 1357\n",
      "00:00:00    16 MB(-1%)  Iter   1  100.00%  K-mer dist pass 1\n",
      "00:00:00    16 MB(-1%)  Iter   1  100.00%  K-mer dist pass 2\n",
      "00:00:00    27 MB(-2%)  Iter   1  100.00%  Align node       \r"
     ]
    },
    {
     "name": "stdout",
     "output_type": "stream",
     "text": [
      "Alignment of sample: 63.B1.W09.29_63.M1.W02.30\n"
     ]
    },
    {
     "name": "stderr",
     "output_type": "stream",
     "text": [
      "00:00:00    28 MB(-2%)  Iter   1  100.00%  Align node\n",
      "00:00:00    28 MB(-2%)  Iter   1  100.00%  Root alignment\n",
      "00:00:00    28 MB(-2%)  Iter   2  100.00%  Refine tree   \n",
      "00:00:00    28 MB(-2%)  Iter   2  100.00%  Root alignment\n",
      "00:00:00    28 MB(-2%)  Iter   2  100.00%  Root alignment\n",
      "00:00:01    28 MB(-2%)  Iter   3  100.00%  Refine biparts\n",
      "00:00:01    28 MB(-2%)  Iter   4  100.00%  Refine biparts\n",
      "\n",
      "MUSCLE v3.8.1551 by Robert C. Edgar\n",
      "\n",
      "http://www.drive5.com/muscle\n",
      "This software is donated to the public domain.\n",
      "Please cite: Edgar, R.C. Nucleic Acids Res 32(5), 1792-97.\n",
      "\n",
      "66.B1.W09.25_66.M1.W02.24_trunc 10 seqs, lengths min 1326, max 1360, avg 1347\n",
      "00:00:00    16 MB(-1%)  Iter   1  100.00%  K-mer dist pass 1\n",
      "00:00:00    16 MB(-1%)  Iter   1  100.00%  K-mer dist pass 2\n",
      "00:00:00    25 MB(-1%)  Iter   1   33.33%  Align node       \r"
     ]
    },
    {
     "name": "stdout",
     "output_type": "stream",
     "text": [
      "Alignment of sample: 66.B1.W09.25_66.M1.W02.24\n"
     ]
    },
    {
     "name": "stderr",
     "output_type": "stream",
     "text": [
      "00:00:00    29 MB(-2%)  Iter   1  100.00%  Align node\n",
      "00:00:00    29 MB(-2%)  Iter   1  100.00%  Root alignment\n",
      "00:00:00    29 MB(-2%)  Iter   2  100.00%  Refine tree   \n",
      "00:00:00    29 MB(-2%)  Iter   2  100.00%  Root alignment\n",
      "00:00:00    29 MB(-2%)  Iter   2  100.00%  Root alignment\n",
      "00:00:00    29 MB(-2%)  Iter   3  100.00%  Refine biparts\n",
      "00:00:01    29 MB(-2%)  Iter   4  100.00%  Refine biparts\n"
     ]
    }
   ],
   "source": [
    "# Define list of samples to process\n",
    "samples = [\"04.B1.W14.01_04.M1.W09.02\", \"05.B1.W14.04_05.M1.W08.03\", \n",
    "           \"27.B1.W13.06_27.M1.W10.07\",\"30.B1.W11.08_30.M1.W04.09\",\n",
    "           \"38.B1.W10.11_38.M1.W03.10\", \"39.B1.W11.12_39.M1.W03.13_39.M1.W05.14\",\n",
    "           \"53.B1.W14.17_53.M1.W07.16\", \"56.B1.W09.22_56.M1.W03.21\", \n",
    "           \"63.B1.W09.29_63.M1.W02.30\", \"66.B1.W09.25_66.M1.W02.24\"]\n",
    "\n",
    "# For each sample in the list:\n",
    "for sample in samples: \n",
    "    # Print the alignment in process\n",
    "    print(\"Alignment of sample:\", sample)\n",
    "    # Align the sequences of the sample using Muscle\n",
    "    align_sequences(sample)"
   ]
  }
 ],
 "metadata": {
  "kernelspec": {
   "display_name": "Python 3 (ipykernel)",
   "language": "python",
   "name": "python3"
  },
  "language_info": {
   "codemirror_mode": {
    "name": "ipython",
    "version": 3
   },
   "file_extension": ".py",
   "mimetype": "text/x-python",
   "name": "python",
   "nbconvert_exporter": "python",
   "pygments_lexer": "ipython3",
   "version": "3.10.12"
  },
  "vscode": {
   "interpreter": {
    "hash": "c1d675c2f4f889dd09212fec10ba36e21d8557edcac2b728432b54c97897b7bb"
   }
  }
 },
 "nbformat": 4,
 "nbformat_minor": 4
}
