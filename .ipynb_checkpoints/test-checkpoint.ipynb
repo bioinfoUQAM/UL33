{
 "cells": [
  {
   "cell_type": "code",
   "execution_count": 1,
   "metadata": {},
   "outputs": [],
   "source": [
    "from Bio import SeqIO\n",
    "from math import ceil\n",
    "from Bio.SeqRecord import SeqRecord\n",
    "import warnings\n",
    "from Bio.Seq import Seq\n",
    "warnings.filterwarnings('ignore')"
   ]
  },
  {
   "cell_type": "code",
   "execution_count": 15,
   "metadata": {},
   "outputs": [
    {
     "name": "stdout",
     "output_type": "stream",
     "text": [
      "66.M1.W02.24 1\n",
      "Pour l'échantillon 66.M1.W02.24_H0, le pourcentage de nucléotides égaux à '-': 8.02%\n",
      "Pour l'échantillon 66.M1.W02.24_H1, le pourcentage de nucléotides égaux à '-': 12.80%\n",
      "Pour l'échantillon 66.M1.W02.24_H2, le pourcentage de nucléotides égaux à '-': 3.97%\n",
      "Pour l'échantillon 66.M1.W02.24_H3, le pourcentage de nucléotides égaux à '-': 3.97%\n",
      "Pour l'échantillon 66.M1.W02.24_H4, le pourcentage de nucléotides égaux à '-': 6.18%\n",
      "66.M1.W02.24 2\n",
      "Pour l'échantillon 66.M1.W02.24_H0, le pourcentage de nucléotides égaux à '-': 8.02%\n",
      "Pour l'échantillon 66.M1.W02.24_H1, le pourcentage de nucléotides égaux à '-': 6.18%\n",
      "Pour l'échantillon 66.M1.W02.24_H2, le pourcentage de nucléotides égaux à '-': 12.80%\n",
      "Pour l'échantillon 66.M1.W02.24_H3, le pourcentage de nucléotides égaux à '-': 3.97%\n",
      "Pour l'échantillon 66.M1.W02.24_H4, le pourcentage de nucléotides égaux à '-': 3.97%\n",
      "66.M1.W02.24 3\n",
      "Pour l'échantillon 66.M1.W02.24_H0, le pourcentage de nucléotides égaux à '-': 8.02%\n",
      "Pour l'échantillon 66.M1.W02.24_H1, le pourcentage de nucléotides égaux à '-': 6.18%\n",
      "Pour l'échantillon 66.M1.W02.24_H2, le pourcentage de nucléotides égaux à '-': 3.97%\n",
      "Pour l'échantillon 66.M1.W02.24_H3, le pourcentage de nucléotides égaux à '-': 12.80%\n",
      "Pour l'échantillon 66.M1.W02.24_H4, le pourcentage de nucléotides égaux à '-': 3.97%\n",
      "66.M1.W02.24 4\n",
      "Pour l'échantillon 66.M1.W02.24_H0, le pourcentage de nucléotides égaux à '-': 6.18%\n",
      "Pour l'échantillon 66.M1.W02.24_H1, le pourcentage de nucléotides égaux à '-': 12.80%\n",
      "Pour l'échantillon 66.M1.W02.24_H2, le pourcentage de nucléotides égaux à '-': 8.02%\n",
      "Pour l'échantillon 66.M1.W02.24_H3, le pourcentage de nucléotides égaux à '-': 3.97%\n",
      "Pour l'échantillon 66.M1.W02.24_H4, le pourcentage de nucléotides égaux à '-': 3.97%\n",
      "66.M1.W02.24 5\n",
      "Pour l'échantillon 66.M1.W02.24_H0, le pourcentage de nucléotides égaux à '-': 8.02%\n",
      "Pour l'échantillon 66.M1.W02.24_H1, le pourcentage de nucléotides égaux à '-': 6.18%\n",
      "Pour l'échantillon 66.M1.W02.24_H2, le pourcentage de nucléotides égaux à '-': 12.80%\n",
      "Pour l'échantillon 66.M1.W02.24_H3, le pourcentage de nucléotides égaux à '-': 3.97%\n",
      "Pour l'échantillon 66.M1.W02.24_H4, le pourcentage de nucléotides égaux à '-': 3.97%\n",
      "66.M1.W02.24 6\n",
      "Pour l'échantillon 66.M1.W02.24_H0, le pourcentage de nucléotides égaux à '-': 6.18%\n",
      "Pour l'échantillon 66.M1.W02.24_H1, le pourcentage de nucléotides égaux à '-': 12.80%\n",
      "Pour l'échantillon 66.M1.W02.24_H2, le pourcentage de nucléotides égaux à '-': 3.97%\n",
      "Pour l'échantillon 66.M1.W02.24_H3, le pourcentage de nucléotides égaux à '-': 8.02%\n",
      "Pour l'échantillon 66.M1.W02.24_H4, le pourcentage de nucléotides égaux à '-': 3.97%\n",
      "66.M1.W02.24 7\n",
      "Pour l'échantillon 66.M1.W02.24_H0, le pourcentage de nucléotides égaux à '-': 6.18%\n",
      "Pour l'échantillon 66.M1.W02.24_H1, le pourcentage de nucléotides égaux à '-': 8.02%\n",
      "Pour l'échantillon 66.M1.W02.24_H2, le pourcentage de nucléotides égaux à '-': 3.97%\n",
      "Pour l'échantillon 66.M1.W02.24_H3, le pourcentage de nucléotides égaux à '-': 3.97%\n",
      "Pour l'échantillon 66.M1.W02.24_H4, le pourcentage de nucléotides égaux à '-': 12.80%\n",
      "66.M1.W02.24 8\n",
      "Pour l'échantillon 66.M1.W02.24_H0, le pourcentage de nucléotides égaux à '-': 6.18%\n",
      "Pour l'échantillon 66.M1.W02.24_H1, le pourcentage de nucléotides égaux à '-': 8.02%\n",
      "Pour l'échantillon 66.M1.W02.24_H2, le pourcentage de nucléotides égaux à '-': 3.97%\n",
      "Pour l'échantillon 66.M1.W02.24_H3, le pourcentage de nucléotides égaux à '-': 3.97%\n",
      "Pour l'échantillon 66.M1.W02.24_H4, le pourcentage de nucléotides égaux à '-': 12.80%\n",
      "66.M1.W02.24 9\n",
      "Pour l'échantillon 66.M1.W02.24_H0, le pourcentage de nucléotides égaux à '-': 8.02%\n",
      "Pour l'échantillon 66.M1.W02.24_H1, le pourcentage de nucléotides égaux à '-': 6.18%\n",
      "Pour l'échantillon 66.M1.W02.24_H2, le pourcentage de nucléotides égaux à '-': 12.80%\n",
      "Pour l'échantillon 66.M1.W02.24_H3, le pourcentage de nucléotides égaux à '-': 3.97%\n",
      "Pour l'échantillon 66.M1.W02.24_H4, le pourcentage de nucléotides égaux à '-': 3.97%\n",
      "66.M1.W02.24 10\n",
      "Pour l'échantillon 66.M1.W02.24_H0, le pourcentage de nucléotides égaux à '-': 8.02%\n",
      "Pour l'échantillon 66.M1.W02.24_H1, le pourcentage de nucléotides égaux à '-': 6.18%\n",
      "Pour l'échantillon 66.M1.W02.24_H2, le pourcentage de nucléotides égaux à '-': 3.97%\n",
      "Pour l'échantillon 66.M1.W02.24_H3, le pourcentage de nucléotides égaux à '-': 3.97%\n",
      "Pour l'échantillon 66.M1.W02.24_H4, le pourcentage de nucléotides égaux à '-': 12.80%\n",
      "66.M1.W02.24 11\n",
      "Pour l'échantillon 66.M1.W02.24_H0, le pourcentage de nucléotides égaux à '-': 8.02%\n",
      "Pour l'échantillon 66.M1.W02.24_H1, le pourcentage de nucléotides égaux à '-': 12.80%\n",
      "Pour l'échantillon 66.M1.W02.24_H2, le pourcentage de nucléotides égaux à '-': 3.97%\n",
      "Pour l'échantillon 66.M1.W02.24_H3, le pourcentage de nucléotides égaux à '-': 3.97%\n",
      "Pour l'échantillon 66.M1.W02.24_H4, le pourcentage de nucléotides égaux à '-': 6.18%\n",
      "66.M1.W02.24 12\n",
      "Pour l'échantillon 66.M1.W02.24_H0, le pourcentage de nucléotides égaux à '-': 12.80%\n",
      "Pour l'échantillon 66.M1.W02.24_H1, le pourcentage de nucléotides égaux à '-': 6.18%\n",
      "Pour l'échantillon 66.M1.W02.24_H2, le pourcentage de nucléotides égaux à '-': 3.97%\n",
      "Pour l'échantillon 66.M1.W02.24_H3, le pourcentage de nucléotides égaux à '-': 3.97%\n",
      "Pour l'échantillon 66.M1.W02.24_H4, le pourcentage de nucléotides égaux à '-': 8.02%\n",
      "66.M1.W02.24 13\n",
      "Pour l'échantillon 66.M1.W02.24_H0, le pourcentage de nucléotides égaux à '-': 6.18%\n",
      "Pour l'échantillon 66.M1.W02.24_H1, le pourcentage de nucléotides égaux à '-': 8.02%\n",
      "Pour l'échantillon 66.M1.W02.24_H2, le pourcentage de nucléotides égaux à '-': 12.80%\n",
      "Pour l'échantillon 66.M1.W02.24_H3, le pourcentage de nucléotides égaux à '-': 3.97%\n",
      "Pour l'échantillon 66.M1.W02.24_H4, le pourcentage de nucléotides égaux à '-': 3.97%\n",
      "66.M1.W02.24 14\n",
      "Pour l'échantillon 66.M1.W02.24_H0, le pourcentage de nucléotides égaux à '-': 12.80%\n",
      "Pour l'échantillon 66.M1.W02.24_H1, le pourcentage de nucléotides égaux à '-': 6.18%\n",
      "Pour l'échantillon 66.M1.W02.24_H2, le pourcentage de nucléotides égaux à '-': 8.02%\n",
      "Pour l'échantillon 66.M1.W02.24_H3, le pourcentage de nucléotides égaux à '-': 3.97%\n",
      "Pour l'échantillon 66.M1.W02.24_H4, le pourcentage de nucléotides égaux à '-': 3.97%\n",
      "66.M1.W02.24 15\n",
      "Pour l'échantillon 66.M1.W02.24_H0, le pourcentage de nucléotides égaux à '-': 6.18%\n",
      "Pour l'échantillon 66.M1.W02.24_H1, le pourcentage de nucléotides égaux à '-': 8.02%\n",
      "Pour l'échantillon 66.M1.W02.24_H2, le pourcentage de nucléotides égaux à '-': 3.97%\n",
      "Pour l'échantillon 66.M1.W02.24_H3, le pourcentage de nucléotides égaux à '-': 12.80%\n",
      "Pour l'échantillon 66.M1.W02.24_H4, le pourcentage de nucléotides égaux à '-': 3.97%\n",
      "66.M1.W02.24 16\n",
      "Pour l'échantillon 66.M1.W02.24_H0, le pourcentage de nucléotides égaux à '-': 12.80%\n",
      "Pour l'échantillon 66.M1.W02.24_H1, le pourcentage de nucléotides égaux à '-': 6.18%\n",
      "Pour l'échantillon 66.M1.W02.24_H2, le pourcentage de nucléotides égaux à '-': 8.02%\n",
      "Pour l'échantillon 66.M1.W02.24_H3, le pourcentage de nucléotides égaux à '-': 3.97%\n",
      "Pour l'échantillon 66.M1.W02.24_H4, le pourcentage de nucléotides égaux à '-': 3.97%\n",
      "66.M1.W02.24 17\n",
      "Pour l'échantillon 66.M1.W02.24_H0, le pourcentage de nucléotides égaux à '-': 12.80%\n",
      "Pour l'échantillon 66.M1.W02.24_H1, le pourcentage de nucléotides égaux à '-': 6.18%\n",
      "Pour l'échantillon 66.M1.W02.24_H2, le pourcentage de nucléotides égaux à '-': 3.97%\n",
      "Pour l'échantillon 66.M1.W02.24_H3, le pourcentage de nucléotides égaux à '-': 3.97%\n",
      "Pour l'échantillon 66.M1.W02.24_H4, le pourcentage de nucléotides égaux à '-': 8.02%\n",
      "66.M1.W02.24 18\n"
     ]
    },
    {
     "ename": "FileNotFoundError",
     "evalue": "[Errno 2] No such file or directory: 'data/66.M1.W02.24/18/step_2/66.M1.W02.24.fasta'",
     "output_type": "error",
     "traceback": [
      "\u001b[0;31m---------------------------------------------------------------------------\u001b[0m",
      "\u001b[0;31mFileNotFoundError\u001b[0m                         Traceback (most recent call last)",
      "Cell \u001b[0;32mIn[15], line 35\u001b[0m\n\u001b[1;32m     33\u001b[0m \u001b[38;5;28;01mfor\u001b[39;00m n \u001b[38;5;129;01min\u001b[39;00m \u001b[38;5;28mrange\u001b[39m(\u001b[38;5;241m1\u001b[39m, \u001b[38;5;241m21\u001b[39m):\n\u001b[1;32m     34\u001b[0m     \u001b[38;5;28mprint\u001b[39m(sample, n)\n\u001b[0;32m---> 35\u001b[0m     \u001b[43mcompute_percentage_gap\u001b[49m\u001b[43m(\u001b[49m\u001b[38;5;124;43m\"\u001b[39;49m\u001b[38;5;124;43mdata/\u001b[39;49m\u001b[38;5;124;43m\"\u001b[39;49m\u001b[43m \u001b[49m\u001b[38;5;241;43m+\u001b[39;49m\u001b[43m \u001b[49m\u001b[43msample\u001b[49m\u001b[43m \u001b[49m\u001b[38;5;241;43m+\u001b[39;49m\u001b[43m \u001b[49m\u001b[38;5;124;43m\"\u001b[39;49m\u001b[38;5;124;43m/\u001b[39;49m\u001b[38;5;124;43m\"\u001b[39;49m\u001b[43m \u001b[49m\u001b[38;5;241;43m+\u001b[39;49m\u001b[43m \u001b[49m\u001b[38;5;28;43mstr\u001b[39;49m\u001b[43m(\u001b[49m\u001b[43mn\u001b[49m\u001b[43m)\u001b[49m\u001b[43m \u001b[49m\u001b[38;5;241;43m+\u001b[39;49m\u001b[43m \u001b[49m\u001b[38;5;124;43m\"\u001b[39;49m\u001b[38;5;124;43m/step_2/\u001b[39;49m\u001b[38;5;124;43m\"\u001b[39;49m\u001b[43m \u001b[49m\u001b[38;5;241;43m+\u001b[39;49m\u001b[43msample\u001b[49m\u001b[43m \u001b[49m\u001b[38;5;241;43m+\u001b[39;49m\u001b[43m  \u001b[49m\u001b[38;5;124;43m\"\u001b[39;49m\u001b[38;5;124;43m.fasta\u001b[39;49m\u001b[38;5;124;43m\"\u001b[39;49m\u001b[43m)\u001b[49m\n\u001b[1;32m     36\u001b[0m \u001b[38;5;28mprint\u001b[39m(\u001b[38;5;124m\"\u001b[39m\u001b[38;5;124m---------------------------\u001b[39m\u001b[38;5;124m\"\u001b[39m)  \u001b[38;5;66;03m# Juste pour séparer les résultats\u001b[39;00m\n",
      "Cell \u001b[0;32mIn[15], line 8\u001b[0m, in \u001b[0;36mcompute_percentage_gap\u001b[0;34m(filename)\u001b[0m\n\u001b[1;32m      6\u001b[0m \u001b[38;5;28;01mdef\u001b[39;00m \u001b[38;5;21mcompute_percentage_gap\u001b[39m(filename):\n\u001b[1;32m      7\u001b[0m     \u001b[38;5;66;03m# Lire le fichier FASTA\u001b[39;00m\n\u001b[0;32m----> 8\u001b[0m     \u001b[38;5;28;01mwith\u001b[39;00m \u001b[38;5;28;43mopen\u001b[39;49m\u001b[43m(\u001b[49m\u001b[43mfilename\u001b[49m\u001b[43m,\u001b[49m\u001b[43m \u001b[49m\u001b[38;5;124;43m'\u001b[39;49m\u001b[38;5;124;43mr\u001b[39;49m\u001b[38;5;124;43m'\u001b[39;49m\u001b[43m)\u001b[49m \u001b[38;5;28;01mas\u001b[39;00m file:\n\u001b[1;32m      9\u001b[0m         records \u001b[38;5;241m=\u001b[39m \u001b[38;5;28mlist\u001b[39m(SeqIO\u001b[38;5;241m.\u001b[39mparse(file, \u001b[38;5;124m'\u001b[39m\u001b[38;5;124mfasta\u001b[39m\u001b[38;5;124m'\u001b[39m))\n\u001b[1;32m     11\u001b[0m         \u001b[38;5;28;01mif\u001b[39;00m \u001b[38;5;129;01mnot\u001b[39;00m records:\n",
      "File \u001b[0;32m~/.local/lib/python3.10/site-packages/IPython/core/interactiveshell.py:284\u001b[0m, in \u001b[0;36m_modified_open\u001b[0;34m(file, *args, **kwargs)\u001b[0m\n\u001b[1;32m    277\u001b[0m \u001b[38;5;28;01mif\u001b[39;00m file \u001b[38;5;129;01min\u001b[39;00m {\u001b[38;5;241m0\u001b[39m, \u001b[38;5;241m1\u001b[39m, \u001b[38;5;241m2\u001b[39m}:\n\u001b[1;32m    278\u001b[0m     \u001b[38;5;28;01mraise\u001b[39;00m \u001b[38;5;167;01mValueError\u001b[39;00m(\n\u001b[1;32m    279\u001b[0m         \u001b[38;5;124mf\u001b[39m\u001b[38;5;124m\"\u001b[39m\u001b[38;5;124mIPython won\u001b[39m\u001b[38;5;124m'\u001b[39m\u001b[38;5;124mt let you open fd=\u001b[39m\u001b[38;5;132;01m{\u001b[39;00mfile\u001b[38;5;132;01m}\u001b[39;00m\u001b[38;5;124m by default \u001b[39m\u001b[38;5;124m\"\u001b[39m\n\u001b[1;32m    280\u001b[0m         \u001b[38;5;124m\"\u001b[39m\u001b[38;5;124mas it is likely to crash IPython. If you know what you are doing, \u001b[39m\u001b[38;5;124m\"\u001b[39m\n\u001b[1;32m    281\u001b[0m         \u001b[38;5;124m\"\u001b[39m\u001b[38;5;124myou can use builtins\u001b[39m\u001b[38;5;124m'\u001b[39m\u001b[38;5;124m open.\u001b[39m\u001b[38;5;124m\"\u001b[39m\n\u001b[1;32m    282\u001b[0m     )\n\u001b[0;32m--> 284\u001b[0m \u001b[38;5;28;01mreturn\u001b[39;00m \u001b[43mio_open\u001b[49m\u001b[43m(\u001b[49m\u001b[43mfile\u001b[49m\u001b[43m,\u001b[49m\u001b[43m \u001b[49m\u001b[38;5;241;43m*\u001b[39;49m\u001b[43margs\u001b[49m\u001b[43m,\u001b[49m\u001b[43m \u001b[49m\u001b[38;5;241;43m*\u001b[39;49m\u001b[38;5;241;43m*\u001b[39;49m\u001b[43mkwargs\u001b[49m\u001b[43m)\u001b[49m\n",
      "\u001b[0;31mFileNotFoundError\u001b[0m: [Errno 2] No such file or directory: 'data/66.M1.W02.24/18/step_2/66.M1.W02.24.fasta'"
     ]
    }
   ],
   "source": [
    "from Bio import SeqIO\n",
    "\n",
    "motif_start = \"ATGGACACCATCATCCAC\"\n",
    "motif_end = \"GGGTATGA\"\n",
    "\n",
    "def compute_percentage_gap(filename):\n",
    "    # Lire le fichier FASTA\n",
    "    with open(filename, 'r') as file:\n",
    "        records = list(SeqIO.parse(file, 'fasta'))\n",
    "        \n",
    "        if not records:\n",
    "            raise ValueError(\"Le fichier FASTA est vide ou n'a pas été lu correctement.\")\n",
    "\n",
    "        for record in records:\n",
    "            sequence = str(record.seq)\n",
    "            motif_start_index = sequence.find(motif_start)\n",
    "            if motif_start_index != -1:sequence = sequence[motif_start_index:]\n",
    "        \n",
    "            motif_end_index = sequence.find(motif_end)\n",
    "            if motif_end_index != -1: sequence = sequence[:motif_end_index+len(motif_end)]\n",
    "            record.seq = Seq(sequence)\n",
    "\n",
    "            total_length = len(record.seq)\n",
    "            gap_count = record.seq.count('-')\n",
    "            # Calculer le pourcentage\n",
    "            percentage_gap = (gap_count / total_length) * 100\n",
    "            print(f\"Pour l'échantillon {record.id}, le pourcentage de nucléotides égaux à '-': {percentage_gap:.2f}%\")\n",
    "\n",
    "samples = [\"66.M1.W02.24\"]\n",
    "\n",
    "# Loop through each sample in the list\n",
    "for sample in samples:\n",
    "    for n in range(1, 21):\n",
    "        print(sample, n)\n",
    "        compute_percentage_gap(\"data/\" + sample + \"/\" + str(n) + \"/step_2/\" +sample +  \".fasta\")\n",
    "    print(\"---------------------------\")  # Juste pour séparer les résultats\n"
   ]
  },
  {
   "cell_type": "code",
   "execution_count": null,
   "metadata": {},
   "outputs": [],
   "source": []
  },
  {
   "cell_type": "code",
   "execution_count": null,
   "metadata": {},
   "outputs": [],
   "source": []
  },
  {
   "cell_type": "code",
   "execution_count": null,
   "metadata": {},
   "outputs": [],
   "source": [
    "import matplotlib.pyplot as plt\n",
    "from Bio import Phylo\n",
    "\n",
    "def adjust_color_based_on_taxon(clade):\n",
    "    if clade.name:\n",
    "        if \"04.M1.W09.02_H0\" in clade.name:\n",
    "            clade.label_color = 'green'\n",
    "        elif \"HCMV_AD169_UL33\" in clade.name:\n",
    "            clade.color = \"blue\"\n",
    "            clade.label_color = 'blue'\n",
    "        elif \"HCMV_Merlin_UL33\" in clade.name:\n",
    "            clade.color = \"red\"\n",
    "            clade.label_color = 'red'\n",
    "        else:\n",
    "            clade.label_color = 'black'\n",
    "\n",
    "def label_func(clade):\n",
    "    \"\"\"Custom label function to color the labels.\"\"\"\n",
    "    if hasattr(clade, \"label_color\"):\n",
    "        return f\"\\033[{clade.label_color}m{clade.name}\\033[0m\"\n",
    "    else:\n",
    "        return clade.name\n",
    "\n",
    "# List of sample names\n",
    "samples = [\"04.B1.W14.01_04.M1.W09.02\", \"05.B1.W14.04_05.M1.W08.03\", \"27.B1.W13.06_27.M1.W10.07\",\n",
    "           \"30.B1.W11.08_30.M1.W04.09\", \"38.B1.W10.11_38.M1.W03.10\", \"39.B1.W11.12_39.M1.W03.13_39.M1.W05.14\",\n",
    "           \"53.B1.W14.17_53.M1.W07.16\", \"56.B1.W09.22_56.M1.W03.21\", \"63.B1.W09.29_63.M1.W02.30\", \"66.B1.W09.25_66.M1.W02.24\"]\n",
    "figure_width = 8\n",
    "figure_height = 5\n",
    "# Create a figure and axes in a 4x2 grid\n",
    "fig, axes = plt.subplots(nrows=5, ncols=2, figsize=(2*figure_width, 4*figure_height))\n",
    "\n",
    "# Loop through each sample and corresponding ax in the axes array\n",
    "for sample_name, ax in zip(samples, axes.ravel()):\n",
    "    # Read the tree\n",
    "    tree = Phylo.read(f\"data/raxml_tree/RAxML_bipartitions.{sample_name}_raxml_tree\", \"newick\")\n",
    "    \n",
    "    # Apply the color function to each clade in the tree\n",
    "    for clade in tree.find_clades():\n",
    "        adjust_color_based_on_taxon(clade)\n",
    "\n",
    "    #print(tree.clade.name)\n",
    "    \n",
    "    # Draw the tree on the given ax\n",
    "    Phylo.draw(tree, axes=ax, label_colors=label_colors, label_func=lambda x: str(x)[:], do_show=False)\n",
    "    ax.get_yaxis().set_visible(False)\n",
    "    ax.set_title(\"Family \" + sample_name[0:2], fontsize=12, weight='bold')\n",
    "\n",
    "\n",
    "plt.tight_layout()\n",
    "\n",
    "# Save the figure\n",
    "output_path = \"fig/figure_name_all.pdf\"  # Modify the path and file name as needed\n",
    "plt.savefig(output_path, format='pdf', dpi=300, bbox_inches='tight')\n",
    "\n",
    "plt.show()\n"
   ]
  },
  {
   "cell_type": "code",
   "execution_count": null,
   "metadata": {},
   "outputs": [],
   "source": [
    "def remove_duplicates(sample):\n",
    "    # Remove duplicates from fasta based on sequence content\n",
    "    unique_haplotypes = {}\n",
    "    records = list(SeqIO.parse(\"data/\" + sample + \"/\" + sample + \".fasta\",  \"fasta\"))\n",
    "    for record in records:\n",
    "        if str(record.seq) not in unique_haplotypes:\n",
    "            unique_haplotypes[str(record.seq)] = record.id\n",
    "    # Using dictionary to keep unique records based on sequence content\n",
    "    with open(\"data/\" + sample + \"/\" + sample + \".fasta\", \"w\") as output_file:\n",
    "        for key, value in unique_haplotypes.items():\n",
    "            output_file.write(f\">{value}\\n{key}\\n\")"
   ]
  },
  {
   "cell_type": "code",
   "execution_count": null,
   "metadata": {},
   "outputs": [],
   "source": [
    "def get_frequencies(sample):\n",
    "    # Initialize dictionaries to store unique haplotypes and their frequencies\n",
    "    unique_haplotypes = {}\n",
    "    haplotype_frequencies = {}\n",
    "    \n",
    "    # Flag to identify if we are within the \"Haplotype frequencies\" section in the file\n",
    "    is_in_haplotype_section = False\n",
    "\n",
    "    # Open and read the file\n",
    "    with open(\"data/\" + sample + \"/\" + sample + \".log\", \"r\") as file:\n",
    "        lines = file.readlines()\n",
    "        for line in lines:\n",
    "            # Strip the line to remove leading and trailing whitespaces\n",
    "            stripped_line = line.strip()\n",
    "            \n",
    "            # If we encounter the \"Haplotype frequencies\" line, set the flag to True\n",
    "            if 'Haplotype frequencies' in stripped_line:\n",
    "                is_in_haplotype_section = True\n",
    "                continue\n",
    "\n",
    "            # If we're inside the \"Haplotype frequencies\" section and we encounter \n",
    "            # a blank line or a line starting with a non-digit, break out of the loop\n",
    "            if is_in_haplotype_section and (stripped_line == \"\" or not stripped_line[0].isdigit()):\n",
    "                break\n",
    "\n",
    "            # If we're inside the \"Haplotype frequencies\" section, extract key-value pairs and update the dictionary\n",
    "            if is_in_haplotype_section:\n",
    "                key, value = stripped_line.split()\n",
    "                haplotype_frequencies[int(key)] = round(float(value), 3)\n",
    "\n",
    "    # Print the final dictionary to verify results\n",
    "    print(haplotype_frequencies)"
   ]
  },
  {
   "cell_type": "code",
   "execution_count": 1,
   "metadata": {},
   "outputs": [],
   "source": [
    "import subprocess\n",
    "\n",
    "def generate_raxml_tree(sample_name):\n",
    "    input_file = \"data/tree/\" + sample_name + \"_aligned.fasta\"\n",
    "    output_tree_name = sample_name + \"_raxml_tree\"\n",
    "\n",
    "    # Define the RAxML command\n",
    "    command = [\n",
    "        \"raxmlHPC\", \n",
    "        \"-f\", \"a\", \n",
    "        \"-s\", input_file, \n",
    "        \"-n\", output_tree_name, \n",
    "        \"-m\", \"GTRGAMMA\", \n",
    "        \"-p\", \"12345\", \n",
    "        \"-x\", \"12345\", \n",
    "        \"-#\", \"1000\"\n",
    "    ]\n",
    "\n",
    "    # Run the RAxML command\n",
    "    subprocess.run(command, check=True)"
   ]
  },
  {
   "cell_type": "code",
   "execution_count": 2,
   "metadata": {},
   "outputs": [
    {
     "name": "stdout",
     "output_type": "stream",
     "text": [
      "Use raxml with SSE3 support (6 cpus)\n",
      "\n",
      "RAxML can't, parse the alignment file as phylip file \n",
      "it will now try to parse it as FASTA file\n",
      "\n",
      "RAxML output files with the run ID <04.B1.W14.01_04.M1.W09.02_raxml_tree> already exist \n",
      "in directory /home/vboxuser/Documents/HaROLD/ ...... exiting\n"
     ]
    },
    {
     "ename": "CalledProcessError",
     "evalue": "Command '['raxmlHPC', '-f', 'a', '-s', 'data/tree/04.B1.W14.01_04.M1.W09.02_aligned.fasta', '-n', '04.B1.W14.01_04.M1.W09.02_raxml_tree', '-m', 'GTRGAMMA', '-p', '12345', '-x', '12345', '-#', '1000']' returned non-zero exit status 255.",
     "output_type": "error",
     "traceback": [
      "\u001b[0;31m---------------------------------------------------------------------------\u001b[0m",
      "\u001b[0;31mCalledProcessError\u001b[0m                        Traceback (most recent call last)",
      "Cell \u001b[0;32mIn[2], line 1\u001b[0m\n\u001b[0;32m----> 1\u001b[0m \u001b[43mgenerate_raxml_tree\u001b[49m\u001b[43m(\u001b[49m\u001b[38;5;124;43m\"\u001b[39;49m\u001b[38;5;124;43m04.B1.W14.01_04.M1.W09.02\u001b[39;49m\u001b[38;5;124;43m\"\u001b[39;49m\u001b[43m)\u001b[49m\n",
      "Cell \u001b[0;32mIn[1], line 20\u001b[0m, in \u001b[0;36mgenerate_raxml_tree\u001b[0;34m(sample_name)\u001b[0m\n\u001b[1;32m      8\u001b[0m command \u001b[38;5;241m=\u001b[39m [\n\u001b[1;32m      9\u001b[0m     \u001b[38;5;124m\"\u001b[39m\u001b[38;5;124mraxmlHPC\u001b[39m\u001b[38;5;124m\"\u001b[39m, \n\u001b[1;32m     10\u001b[0m     \u001b[38;5;124m\"\u001b[39m\u001b[38;5;124m-f\u001b[39m\u001b[38;5;124m\"\u001b[39m, \u001b[38;5;124m\"\u001b[39m\u001b[38;5;124ma\u001b[39m\u001b[38;5;124m\"\u001b[39m, \n\u001b[0;32m   (...)\u001b[0m\n\u001b[1;32m     16\u001b[0m     \u001b[38;5;124m\"\u001b[39m\u001b[38;5;124m-#\u001b[39m\u001b[38;5;124m\"\u001b[39m, \u001b[38;5;124m\"\u001b[39m\u001b[38;5;124m1000\u001b[39m\u001b[38;5;124m\"\u001b[39m\n\u001b[1;32m     17\u001b[0m ]\n\u001b[1;32m     19\u001b[0m \u001b[38;5;66;03m# Run the RAxML command\u001b[39;00m\n\u001b[0;32m---> 20\u001b[0m \u001b[43msubprocess\u001b[49m\u001b[38;5;241;43m.\u001b[39;49m\u001b[43mrun\u001b[49m\u001b[43m(\u001b[49m\u001b[43mcommand\u001b[49m\u001b[43m,\u001b[49m\u001b[43m \u001b[49m\u001b[43mcheck\u001b[49m\u001b[38;5;241;43m=\u001b[39;49m\u001b[38;5;28;43;01mTrue\u001b[39;49;00m\u001b[43m)\u001b[49m\n",
      "File \u001b[0;32m/usr/lib/python3.10/subprocess.py:526\u001b[0m, in \u001b[0;36mrun\u001b[0;34m(input, capture_output, timeout, check, *popenargs, **kwargs)\u001b[0m\n\u001b[1;32m    524\u001b[0m     retcode \u001b[38;5;241m=\u001b[39m process\u001b[38;5;241m.\u001b[39mpoll()\n\u001b[1;32m    525\u001b[0m     \u001b[38;5;28;01mif\u001b[39;00m check \u001b[38;5;129;01mand\u001b[39;00m retcode:\n\u001b[0;32m--> 526\u001b[0m         \u001b[38;5;28;01mraise\u001b[39;00m CalledProcessError(retcode, process\u001b[38;5;241m.\u001b[39margs,\n\u001b[1;32m    527\u001b[0m                                  output\u001b[38;5;241m=\u001b[39mstdout, stderr\u001b[38;5;241m=\u001b[39mstderr)\n\u001b[1;32m    528\u001b[0m \u001b[38;5;28;01mreturn\u001b[39;00m CompletedProcess(process\u001b[38;5;241m.\u001b[39margs, retcode, stdout, stderr)\n",
      "\u001b[0;31mCalledProcessError\u001b[0m: Command '['raxmlHPC', '-f', 'a', '-s', 'data/tree/04.B1.W14.01_04.M1.W09.02_aligned.fasta', '-n', '04.B1.W14.01_04.M1.W09.02_raxml_tree', '-m', 'GTRGAMMA', '-p', '12345', '-x', '12345', '-#', '1000']' returned non-zero exit status 255."
     ]
    }
   ],
   "source": [
    "generate_raxml_tree(\"04.B1.W14.01_04.M1.W09.02\")"
   ]
  },
  {
   "cell_type": "code",
   "execution_count": 2,
   "metadata": {},
   "outputs": [],
   "source": [
    "def compute_distance_matrixe(sample_name, figure_width, figure_height):\n",
    "    # Define the path to the FASTA file containing the aligned sequences\n",
    "    file_path = \"data/tree/\" + sample_name + \"_aligned.fasta\"\n",
    "    # Open the FASTA file using Biopython's AlignIO\n",
    "    alignment = AlignIO.read(file_path, \"fasta\")\n",
    "    # Use Jaccard distance to calculate the similarity matrix\n",
    "    calculator = DistanceCalculator('identity') # blastn identity trans\n",
    "    matrix = calculator.get_distance(alignment)\n",
    "    # Create a heatmap of the similarity matrix\n",
    "    plt.figure(figsize=(figure_width, figure_height))  # Adjust the figure size as needed\n",
    "    heatmap = plt.imshow(matrix, cmap='coolwarm', aspect='auto')\n",
    "    # Add colorbar\n",
    "    plt.colorbar(heatmap, label=\"Distance\")\n",
    "    # Set the sequence names as tick labels on the axes\n",
    "    sequence_names = [record.id for record in alignment]\n",
    "    plt.xticks(ticks=range(len(sequence_names)), labels=sequence_names, rotation=90)\n",
    "    plt.yticks(ticks=range(len(sequence_names)), labels=sequence_names)\n",
    "    # Display the similarity values within the heatmap cells\n",
    "    for i in range(len(sequence_names)):\n",
    "        for j in range(len(sequence_names)):\n",
    "            plt.text(j, i, f\"{matrix[i][j]:.2f}\", ha='center', va='center', color='black')\n",
    "\n",
    "    # Set the axis labels and title\n",
    "    plt.xlabel(\"Sequence\")\n",
    "    plt.ylabel(\"Sequence\")\n",
    "    plt.title(\"Distance Matrix\")\n",
    "    # Adjust the layout to prevent label cutoff\n",
    "    plt.tight_layout()\n",
    "    # Display the heatmap\n",
    "    plt.show()\n",
    "    return matrix"
   ]
  },
  {
   "cell_type": "code",
   "execution_count": 3,
   "metadata": {},
   "outputs": [
    {
     "ename": "NameError",
     "evalue": "name 'AlignIO' is not defined",
     "output_type": "error",
     "traceback": [
      "\u001b[0;31m---------------------------------------------------------------------------\u001b[0m",
      "\u001b[0;31mNameError\u001b[0m                                 Traceback (most recent call last)",
      "Cell \u001b[0;32mIn[3], line 2\u001b[0m\n\u001b[1;32m      1\u001b[0m sample_name \u001b[38;5;241m=\u001b[39m \u001b[38;5;124m\"\u001b[39m\u001b[38;5;124m04.B1.W14.01_04.M1.W09.02\u001b[39m\u001b[38;5;124m\"\u001b[39m\n\u001b[0;32m----> 2\u001b[0m \u001b[43mcompute_distance_matrixe\u001b[49m\u001b[43m(\u001b[49m\u001b[43msample_name\u001b[49m\u001b[43m,\u001b[49m\u001b[43m \u001b[49m\u001b[38;5;241;43m8\u001b[39;49m\u001b[43m,\u001b[49m\u001b[43m \u001b[49m\u001b[38;5;241;43m6\u001b[39;49m\u001b[43m)\u001b[49m\n",
      "Cell \u001b[0;32mIn[2], line 5\u001b[0m, in \u001b[0;36mcompute_distance_matrixe\u001b[0;34m(sample_name, figure_width, figure_height)\u001b[0m\n\u001b[1;32m      3\u001b[0m file_path \u001b[38;5;241m=\u001b[39m \u001b[38;5;124m\"\u001b[39m\u001b[38;5;124mdata/tree/\u001b[39m\u001b[38;5;124m\"\u001b[39m \u001b[38;5;241m+\u001b[39m sample_name \u001b[38;5;241m+\u001b[39m \u001b[38;5;124m\"\u001b[39m\u001b[38;5;124m_aligned.fasta\u001b[39m\u001b[38;5;124m\"\u001b[39m\n\u001b[1;32m      4\u001b[0m \u001b[38;5;66;03m# Open the FASTA file using Biopython's AlignIO\u001b[39;00m\n\u001b[0;32m----> 5\u001b[0m alignment \u001b[38;5;241m=\u001b[39m \u001b[43mAlignIO\u001b[49m\u001b[38;5;241m.\u001b[39mread(file_path, \u001b[38;5;124m\"\u001b[39m\u001b[38;5;124mfasta\u001b[39m\u001b[38;5;124m\"\u001b[39m)\n\u001b[1;32m      6\u001b[0m \u001b[38;5;66;03m# Use Jaccard distance to calculate the similarity matrix\u001b[39;00m\n\u001b[1;32m      7\u001b[0m calculator \u001b[38;5;241m=\u001b[39m DistanceCalculator(\u001b[38;5;124m'\u001b[39m\u001b[38;5;124midentity\u001b[39m\u001b[38;5;124m'\u001b[39m) \u001b[38;5;66;03m# blastn identity trans\u001b[39;00m\n",
      "\u001b[0;31mNameError\u001b[0m: name 'AlignIO' is not defined"
     ]
    }
   ],
   "source": [
    "sample_name = \"04.B1.W14.01_04.M1.W09.02\"\n",
    "compute_distance_matrixe(sample_name, 8, 6)"
   ]
  },
  {
   "cell_type": "code",
   "execution_count": 15,
   "metadata": {},
   "outputs": [
    {
     "data": {
      "image/png": "[encoded data removed]",
      "text/plain": [
       "<Figure size 1500x1000 with 1 Axes>"
      ]
     },
     "metadata": {},
     "output_type": "display_data"
    }
   ],
   "source": [
    "import matplotlib.pyplot as plt\n",
    "from Bio import Phylo\n",
    "\n",
    "def plot_tree(tree_path):\n",
    "    # Load the tree from the given path\n",
    "    tree = Phylo.read(tree_path, \"newick\")\n",
    "    \n",
    "    # Set up the figure and axes\n",
    "    fig = plt.figure(figsize=(15, 10), dpi=100)\n",
    "    axes = fig.add_subplot(1, 1, 1)\n",
    "    \n",
    "    # Draw the tree\n",
    "    Phylo.draw(tree, axes=axes, show_confidence=True)\n",
    "    \n",
    "    plt.show()\n",
    "\n",
    "# Replace with the path to your RAxML bipartitions tree\n",
    "tree_path = \"/home/vboxuser/Documents/HaROLD/RAxML_bipartitions.04.B1.W14.01_04.M1.W09.02_raxml_tree\"\n",
    "plot_tree(tree_path)\n"
   ]
  },
  {
   "cell_type": "code",
   "execution_count": 3,
   "metadata": {},
   "outputs": [
    {
     "name": "stderr",
     "output_type": "stream",
     "text": [
      "/tmp/ipykernel_6768/1746036971.py:16: ClusterWarning: scipy.cluster: The symmetric non-negative hollow observation matrix looks suspiciously like an uncondensed distance matrix\n",
      "  Z = linkage(dist_array, method='ward')\n"
     ]
    },
    {
     "data": {
      "image/png": "[encoded data removed]",
      "text/plain": [
       "<Figure size 1000x700 with 1 Axes>"
      ]
     },
     "metadata": {},
     "output_type": "display_data"
    }
   ],
   "source": [
    "import numpy as np\n",
    "import matplotlib.pyplot as plt\n",
    "from scipy.cluster.hierarchy import dendrogram, linkage\n",
    "from Bio import AlignIO\n",
    "from Bio.Phylo.TreeConstruction import DistanceCalculator\n",
    "\n",
    "# Étape 1 : Calcul de la matrice de distance\n",
    "alignment = AlignIO.read(\"data/tree/04.B1.W14.01_04.M1.W09.02_aligned.fasta\", \"fasta\")\n",
    "calculator = DistanceCalculator('blastn')\n",
    "distance_matrix = calculator.get_distance(alignment)\n",
    "\n",
    "# Convert the distance matrix to a 2D numpy array (required for hierarchical clustering)\n",
    "dist_array = np.array(distance_matrix)\n",
    "\n",
    "# Étape 2 : Effectuer le clustering hiérarchique\n",
    "Z = linkage(dist_array, method='ward')\n",
    "\n",
    "# Étape 3 : Visualiser avec un dendrogramme\n",
    "fig = plt.figure(figsize=(10, 7))\n",
    "dn = dendrogram(Z, labels=[seq.id for seq in alignment])\n",
    "plt.title('Hierarchical Clustering of Sequences')\n",
    "plt.xlabel('Sequence ID')\n",
    "plt.ylabel('Distance (Ward)')\n",
    "plt.xticks(rotation=90)\n",
    "plt.show()\n"
   ]
  },
  {
   "cell_type": "code",
   "execution_count": 4,
   "metadata": {},
   "outputs": [
    {
     "ename": "NameError",
     "evalue": "name 'dist_array' is not defined",
     "output_type": "error",
     "traceback": [
      "\u001b[0;31m---------------------------------------------------------------------------\u001b[0m",
      "\u001b[0;31mNameError\u001b[0m                                 Traceback (most recent call last)",
      "Cell \u001b[0;32mIn[4], line 5\u001b[0m\n\u001b[1;32m      2\u001b[0m \u001b[38;5;28;01mfrom\u001b[39;00m \u001b[38;5;21;01msklearn\u001b[39;00m\u001b[38;5;21;01m.\u001b[39;00m\u001b[38;5;21;01mmetrics\u001b[39;00m \u001b[38;5;28;01mimport\u001b[39;00m silhouette_score\n\u001b[1;32m      4\u001b[0m \u001b[38;5;66;03m# Convertir la matrice de distance en une matrice de similarité (nécessaire pour le clustering agglomératif)\u001b[39;00m\n\u001b[0;32m----> 5\u001b[0m similarity_matrix \u001b[38;5;241m=\u001b[39m \u001b[43mdist_array\u001b[49m\n\u001b[1;32m      7\u001b[0m best_silhouette \u001b[38;5;241m=\u001b[39m \u001b[38;5;241m-\u001b[39m\u001b[38;5;241m1\u001b[39m\n\u001b[1;32m      8\u001b[0m best_num_clusters \u001b[38;5;241m=\u001b[39m \u001b[38;5;241m0\u001b[39m\n",
      "\u001b[0;31mNameError\u001b[0m: name 'dist_array' is not defined"
     ]
    }
   ],
   "source": [
    "from sklearn.cluster import AgglomerativeClustering\n",
    "from sklearn.metrics import silhouette_score\n",
    "\n",
    "# Convertir la matrice de distance en une matrice de similarité (nécessaire pour le clustering agglomératif)\n",
    "similarity_matrix = dist_array\n",
    "\n",
    "best_silhouette = -1\n",
    "best_num_clusters = 0\n",
    "\n",
    "# Testez une gamme de nombre de clusters\n",
    "for num_clusters in range(2, 10):  # Commencer à 2 car la silhouette ne peut être calculée avec seulement 1 cluster\n",
    "    clusterer = AgglomerativeClustering(n_clusters=num_clusters, affinity='precomputed', linkage='complete')\n",
    "    cluster_labels = clusterer.fit_predict(similarity_matrix)\n",
    "    silhouette_avg = silhouette_score(similarity_matrix, cluster_labels, metric='precomputed')\n",
    "    \n",
    "    print(f\"Pour n_clusters = {num_clusters}, la silhouette moyenne est de : {silhouette_avg}\")\n",
    "    \n",
    "    # Conservez le meilleur score et le nombre de clusters correspondant\n",
    "    if silhouette_avg > best_silhouette:\n",
    "        best_silhouette = silhouette_avg\n",
    "        best_num_clusters = num_clusters\n",
    "\n",
    "print(f\"Le nombre optimal de clusters est {best_num_clusters} avec une silhouette moyenne de {best_silhouette}\")\n"
   ]
  },
  {
   "cell_type": "code",
   "execution_count": 3,
   "metadata": {},
   "outputs": [
    {
     "ename": "NameError",
     "evalue": "name 'AgglomerativeClustering' is not defined",
     "output_type": "error",
     "traceback": [
      "\u001b[0;31m---------------------------------------------------------------------------\u001b[0m",
      "\u001b[0;31mNameError\u001b[0m                                 Traceback (most recent call last)",
      "Cell \u001b[0;32mIn[3], line 5\u001b[0m\n\u001b[1;32m      2\u001b[0m \u001b[38;5;28;01mimport\u001b[39;00m \u001b[38;5;21;01mmatplotlib\u001b[39;00m\u001b[38;5;21;01m.\u001b[39;00m\u001b[38;5;21;01mpyplot\u001b[39;00m \u001b[38;5;28;01mas\u001b[39;00m \u001b[38;5;21;01mplt\u001b[39;00m\n\u001b[1;32m      4\u001b[0m \u001b[38;5;66;03m# 1. Utilisez le clustering optimal que vous avez déterminé précédemment\u001b[39;00m\n\u001b[0;32m----> 5\u001b[0m clusterer \u001b[38;5;241m=\u001b[39m \u001b[43mAgglomerativeClustering\u001b[49m(n_clusters\u001b[38;5;241m=\u001b[39mbest_num_clusters, affinity\u001b[38;5;241m=\u001b[39m\u001b[38;5;124m'\u001b[39m\u001b[38;5;124mprecomputed\u001b[39m\u001b[38;5;124m'\u001b[39m, linkage\u001b[38;5;241m=\u001b[39m\u001b[38;5;124m'\u001b[39m\u001b[38;5;124mward\u001b[39m\u001b[38;5;124m'\u001b[39m)\n\u001b[1;32m      6\u001b[0m best_cluster_labels \u001b[38;5;241m=\u001b[39m clusterer\u001b[38;5;241m.\u001b[39mfit_predict(similarity_matrix)\n\u001b[1;32m      8\u001b[0m alignment \u001b[38;5;241m=\u001b[39m AlignIO\u001b[38;5;241m.\u001b[39mread(\u001b[38;5;124m\"\u001b[39m\u001b[38;5;124mdata/tree/04.B1.W14.01_04.M1.W09.02_aligned.fasta\u001b[39m\u001b[38;5;124m\"\u001b[39m, \u001b[38;5;124m\"\u001b[39m\u001b[38;5;124mfasta\u001b[39m\u001b[38;5;124m\"\u001b[39m)\n",
      "\u001b[0;31mNameError\u001b[0m: name 'AgglomerativeClustering' is not defined"
     ]
    }
   ],
   "source": [
    "from sklearn.decomposition import PCA\n",
    "import matplotlib.pyplot as plt\n",
    "\n",
    "# 1. Utilisez le clustering optimal que vous avez déterminé précédemment\n",
    "clusterer = AgglomerativeClustering(n_clusters=best_num_clusters, affinity='precomputed', linkage='ward')\n",
    "best_cluster_labels = clusterer.fit_predict(similarity_matrix)\n",
    "\n",
    "alignment = AlignIO.read(\"data/tree/04.B1.W14.01_04.M1.W09.02_aligned.fasta\", \"fasta\")\n",
    "labels=[seq.id for seq in alignment]\n",
    "\n",
    "# 2. Réduction de dimension avec PCA\n",
    "pca = PCA(n_components=2)\n",
    "principal_components = pca.fit_transform(similarity_matrix)\n",
    "\n",
    "# 3. Scatter plot\n",
    "plt.figure(figsize=(10, 7))\n",
    "plt.scatter(principal_components[:, 0], principal_components[:, 1], c=best_cluster_labels, cmap='rainbow')\n",
    "plt.xlabel('Principal Component 1')\n",
    "plt.ylabel('Principal Component 2')\n",
    "plt.title('2D PCA of Sequences')\n",
    "for i, txt in enumerate(labels):\n",
    "    plt.annotate(txt, (principal_components[i, 0], principal_components[i, 1]), rotation=5, fontsize=8)  # this line will label the points with the sequence ids\n",
    "plt.show()\n"
   ]
  },
  {
   "cell_type": "code",
   "execution_count": 19,
   "metadata": {},
   "outputs": [
    {
     "data": {
      "text/plain": [
       "array([1, 1, 1, 1, 1, 1, 1, 0, 0, 2, 3, 3])"
      ]
     },
     "execution_count": 19,
     "metadata": {},
     "output_type": "execute_result"
    }
   ],
   "source": [
    "best_cluster_labels"
   ]
  },
  {
   "cell_type": "code",
   "execution_count": 15,
   "metadata": {},
   "outputs": [
    {
     "name": "stdout",
     "output_type": "stream",
     "text": [
      "Nombre d'instances de la classe AD169 : 35\n",
      "Nombre d'instances de la classe Merlin : 10\n"
     ]
    }
   ],
   "source": [
    "functional_class_AD169 = [\"04.B1.W14.01_H0\", \"04.B1.W14.01_H2\", \"04.B1.W14.01_H4\", \"04.B1.W14.01_H3\", \n",
    "                         \"04.B1.W14.01_H1\", \"HCMV_AD169_UL33\", \"04.M1.W09.02_H4\", \"04.B1.W14.01_H0\", ]\n",
    "functional_class_Merlin = [\"04.M1.W09.02_H1\", \"HCMV_Merlin_UL33\"]\n",
    "\n",
    "records = []\n",
    "\n",
    "# Initialiser les compteurs\n",
    "count_AD169 = 0\n",
    "count_Merlin = 0\n",
    "\n",
    "# Première passe pour compter les instances\n",
    "for record in SeqIO.parse(\"data/tree/04.B1.W14.01_04.M1.W09.02_and_references.fasta\", \"fasta\"):\n",
    "    if record.id in functional_class_AD169:\n",
    "        count_AD169 += 1\n",
    "    elif record.id in functional_class_Merlin:\n",
    "        count_Merlin += 1\n",
    "\n",
    "# Calculer le facteur de multiplication basé sur la plus petite classe\n",
    "multiply_factor = ceil(10 / min(count_AD169, count_Merlin)) if min(count_AD169, count_Merlin) else 0\n",
    "\n",
    "# Réinitialiser les compteurs\n",
    "count_AD169 = 0\n",
    "count_Merlin = 0\n",
    "\n",
    "# Deuxième passe pour créer les copies\n",
    "for record in SeqIO.parse(\"data/tree/04.B1.W14.01_04.M1.W09.02_and_references.fasta\", \"fasta\"):\n",
    "    if record.id in functional_class_AD169:\n",
    "        for i in range(multiply_factor):\n",
    "            original_id = record.id\n",
    "            new_id = original_id + f\"_{i+1}\" + \"|Functional_class_AD169\"\n",
    "            records.append(SeqRecord(record.seq, id=new_id, description=\"\"))\n",
    "            count_AD169 += 1\n",
    "    elif record.id in functional_class_Merlin:\n",
    "        for i in range(multiply_factor):\n",
    "            original_id = record.id\n",
    "            new_id = original_id + f\"_{i+1}\" + \"|Functional_class_Merlin\"\n",
    "            records.append(SeqRecord(record.seq, id=new_id, description=\"\"))\n",
    "            count_Merlin += 1\n",
    "\n",
    "# Afficher les comptes\n",
    "print(f'Nombre d\\'instances de la classe AD169 : {count_AD169}')\n",
    "print(f'Nombre d\\'instances de la classe Merlin : {count_Merlin}')\n",
    "\n",
    "with open(\"data/fasta/04.B1.W14.01.fasta\", \"w\") as output_file:\n",
    "    for record in records:\n",
    "        output_file.write(\">\" + record.id + \"\\n\" + str(record.seq).upper() + \"\\n\")"
   ]
  },
  {
   "cell_type": "code",
   "execution_count": null,
   "metadata": {},
   "outputs": [],
   "source": []
  },
  {
   "cell_type": "code",
   "execution_count": 3,
   "metadata": {},
   "outputs": [
    {
     "name": "stdout",
     "output_type": "stream",
     "text": [
      "Nombre d'instances de la classe AD169 : 1\n",
      "Nombre d'instances de la classe Merlin : 6\n",
      "Nombre d'instances de la classe AD169 : 10\n",
      "Nombre d'instances de la classe Merlin : 60\n"
     ]
    }
   ],
   "source": [
    "from Bio import SeqIO\n",
    "from math import ceil\n",
    "from Bio.SeqRecord import SeqRecord\n",
    "\n",
    "functional_class_AD169 = [\"HCMV_AD169_UL33\"]\n",
    "functional_class_Merlin = [\"05.B1.W14.04_H0\", \"05.B1.W14.04_H1\", \"05.B1.W14.04_H2\", \"05.B1.W14.04_H3\", \n",
    "                           \"05.M1.W08.03_H0\", \"HCMV_Merlin_UL33\"]\n",
    "\n",
    "records = []\n",
    "\n",
    "# Initialiser les compteurs\n",
    "count_AD169 = 0\n",
    "count_Merlin = 0\n",
    "\n",
    "# Première passe pour compter les instances\n",
    "for record in SeqIO.parse(\"data/tree/05.B1.W14.04_05.M1.W08.03_and_references.fasta\", \"fasta\"):\n",
    "    if record.id in functional_class_AD169:\n",
    "        count_AD169 += 1\n",
    "    elif record.id in functional_class_Merlin:\n",
    "        count_Merlin += 1\n",
    "\n",
    "print(f'Nombre d\\'instances de la classe AD169 : {count_AD169}')\n",
    "print(f'Nombre d\\'instances de la classe Merlin : {count_Merlin}')\n",
    "\n",
    "# Calculer le facteur de multiplication basé sur la plus petite classe\n",
    "multiply_factor = ceil(10 / min(count_AD169, count_Merlin)) if min(count_AD169, count_Merlin) else 0\n",
    "\n",
    "# Réinitialiser les compteurs\n",
    "count_AD169 = 0\n",
    "count_Merlin = 0\n",
    "\n",
    "# Deuxième passe pour créer les copies\n",
    "for record in SeqIO.parse(\"data/tree/05.B1.W14.04_05.M1.W08.03_and_references.fasta\", \"fasta\"):\n",
    "    if record.id in functional_class_AD169:\n",
    "        for i in range(multiply_factor):\n",
    "            original_id = record.id\n",
    "            new_id = original_id + f\"_{i+1}\" + \"|Functional_class_AD169\"\n",
    "            records.append(SeqRecord(record.seq, id=new_id, description=\"\"))\n",
    "            count_AD169 += 1\n",
    "    elif record.id in functional_class_Merlin:\n",
    "        for i in range(multiply_factor):\n",
    "            original_id = record.id\n",
    "            new_id = original_id + f\"_{i+1}\" + \"|Functional_class_Merlin\"\n",
    "            records.append(SeqRecord(record.seq, id=new_id, description=\"\"))\n",
    "            count_Merlin += 1\n",
    "\n",
    "# Afficher les comptes\n",
    "print(f'Nombre d\\'instances de la classe AD169 : {count_AD169}')\n",
    "print(f'Nombre d\\'instances de la classe Merlin : {count_Merlin}')\n",
    "\n",
    "with open(\"data/fasta/04_A.fasta\", \"w\") as output_file:\n",
    "    for record in records:\n",
    "        output_file.write(\">\" + record.id + \"\\n\" + str(record.seq).upper() + \"\\n\")\n"
   ]
  },
  {
   "cell_type": "code",
   "execution_count": null,
   "metadata": {},
   "outputs": [],
   "source": []
  }
 ],
 "metadata": {
  "kernelspec": {
   "display_name": "Python 3 (ipykernel)",
   "language": "python",
   "name": "python3"
  },
  "language_info": {
   "codemirror_mode": {
    "name": "ipython",
    "version": 3
   },
   "file_extension": ".py",
   "mimetype": "text/x-python",
   "name": "python",
   "nbconvert_exporter": "python",
   "pygments_lexer": "ipython3",
   "version": "3.10.12"
  },
  "vscode": {
   "interpreter": {
    "hash": "c1d675c2f4f889dd09212fec10ba36e21d8557edcac2b728432b54c97897b7bb"
   }
  }
 },
 "nbformat": 4,
 "nbformat_minor": 4
}
