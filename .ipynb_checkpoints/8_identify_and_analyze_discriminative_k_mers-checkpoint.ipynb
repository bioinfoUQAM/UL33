{
 "cells": [
  {
   "cell_type": "code",
   "execution_count": 1,
   "id": "9b7a5040",
   "metadata": {},
   "outputs": [],
   "source": [
    "# Imports\n",
    "import os\n",
    "import json\n",
    "import subprocess"
   ]
  },
  {
   "cell_type": "code",
   "execution_count": 2,
   "id": "94fe7479",
   "metadata": {
    "scrolled": true
   },
   "outputs": [
    {
     "name": "stdout",
     "output_type": "stream",
     "text": [
      "Sample: 04.B1.W14.01_04.M1.W09.02 (Comparison_1: 9-mers)\n",
      "\n",
      "KEVOLVE: extraction mode\n",
      "\n",
      "Load sequences...\n",
      "Count k-mers...\n",
      "Generate matrices...\n",
      "Preprocessing...\n",
      "Solution search...\n",
      "\n",
      "Iteration: 1 | Attempt(s): 1 / 1\n",
      "Mean weighted score 0.946 Max weighted score 1.0 Mean unweighted score 0.918 Max unweighted score 1.0\n",
      "Number of genes : 1\n",
      "\n",
      "Identified solutions (831) saved at : data/comparisons/04.B1.W14.01_04.M1.W09.02/Comparison_1/9\n",
      "Execution time:  144.81068801879883\n",
      "\n",
      "KEVOLVE: motif analyzer mode\n",
      "\n",
      "\n",
      "Identifying perfect matches...\n",
      "\n",
      "Identifying variations...\n"
     ]
    },
    {
     "name": "stderr",
     "output_type": "stream",
     "text": [
      "Processing k-mers: 100%|██████████| 831/831 [00:00<00:00, 5836.73it/s]\n",
      "Processing k-mers for variations: 100%|██████████| 831/831 [00:09<00:00, 83.25it/s]\n",
      "Processing k-mers to extract information:   0%|          | 0/831 [00:00<?, ?it/s]"
     ]
    },
    {
     "name": "stdout",
     "output_type": "stream",
     "text": [
      "\n",
      "Extract information related to signatures/variations...\n"
     ]
    },
    {
     "name": "stderr",
     "output_type": "stream",
     "text": [
      "Processing k-mers to extract information: 100%|██████████| 831/831 [04:53<00:00,  2.83it/s]\n"
     ]
    },
    {
     "name": "stdout",
     "output_type": "stream",
     "text": [
      "Execution time:  304.1720676422119\n",
      "Sample: 04.B1.W14.01_04.M1.W09.02 (Comparison_1: 10-mers)\n",
      "\n",
      "KEVOLVE: extraction mode\n",
      "\n",
      "Load sequences...\n",
      "Count k-mers...\n",
      "Generate matrices...\n",
      "Preprocessing...\n",
      "Solution search...\n",
      "\n",
      "Iteration: 1 | Attempt(s): 1 / 1\n",
      "Mean weighted score 0.945 Max weighted score 1.0 Mean unweighted score 0.916 Max unweighted score 1.0\n",
      "Number of genes : 1\n",
      "\n",
      "Identified solutions (812) saved at : data/comparisons/04.B1.W14.01_04.M1.W09.02/Comparison_1/10\n",
      "Execution time:  144.43289422988892\n",
      "\n",
      "KEVOLVE: motif analyzer mode\n",
      "\n",
      "\n",
      "Identifying perfect matches...\n",
      "\n",
      "Identifying variations...\n"
     ]
    },
    {
     "name": "stderr",
     "output_type": "stream",
     "text": [
      "Processing k-mers: 100%|██████████| 812/812 [00:00<00:00, 5573.75it/s]\n",
      "Processing k-mers for variations: 100%|██████████| 812/812 [00:10<00:00, 74.88it/s]\n",
      "Processing k-mers to extract information:   0%|          | 0/812 [00:00<?, ?it/s]"
     ]
    },
    {
     "name": "stdout",
     "output_type": "stream",
     "text": [
      "\n",
      "Extract information related to signatures/variations...\n"
     ]
    },
    {
     "name": "stderr",
     "output_type": "stream",
     "text": [
      "Processing k-mers to extract information: 100%|██████████| 812/812 [02:05<00:00,  6.45it/s]\n"
     ]
    },
    {
     "name": "stdout",
     "output_type": "stream",
     "text": [
      "Execution time:  136.83438444137573\n",
      "Sample: 04.B1.W14.01_04.M1.W09.02 (Comparison_1: 11-mers)\n",
      "\n",
      "KEVOLVE: extraction mode\n",
      "\n",
      "Load sequences...\n",
      "Count k-mers...\n",
      "Generate matrices...\n",
      "Preprocessing...\n",
      "Solution search...\n",
      "\n",
      "Iteration: 1 | Attempt(s): 1 / 1\n",
      "Mean weighted score 0.938 Max weighted score 1.0 Mean unweighted score 0.906 Max unweighted score 1.0\n",
      "Number of genes : 1\n",
      "\n",
      "Identified solutions (785) saved at : data/comparisons/04.B1.W14.01_04.M1.W09.02/Comparison_1/11\n",
      "Execution time:  144.7564127445221\n",
      "\n",
      "KEVOLVE: motif analyzer mode\n",
      "\n",
      "\n",
      "Identifying perfect matches...\n",
      "\n",
      "Identifying variations...\n"
     ]
    },
    {
     "name": "stderr",
     "output_type": "stream",
     "text": [
      "Processing k-mers: 100%|██████████| 785/785 [00:00<00:00, 5709.66it/s]\n",
      "Processing k-mers for variations: 100%|██████████| 785/785 [00:11<00:00, 67.93it/s]\n",
      "Processing k-mers to extract information:   0%|          | 0/785 [00:00<?, ?it/s]"
     ]
    },
    {
     "name": "stdout",
     "output_type": "stream",
     "text": [
      "\n",
      "Extract information related to signatures/variations...\n"
     ]
    },
    {
     "name": "stderr",
     "output_type": "stream",
     "text": [
      "Processing k-mers to extract information: 100%|██████████| 785/785 [01:32<00:00,  8.51it/s]\n"
     ]
    },
    {
     "name": "stdout",
     "output_type": "stream",
     "text": [
      "Execution time:  103.97646021842957\n",
      "Sample: 04.B1.W14.01_04.M1.W09.02 (Comparison_1: 12-mers)\n",
      "\n",
      "KEVOLVE: extraction mode\n",
      "\n",
      "Load sequences...\n",
      "Count k-mers...\n",
      "Generate matrices...\n",
      "Preprocessing...\n",
      "Solution search...\n",
      "\n",
      "Iteration: 1 | Attempt(s): 1 / 1\n",
      "Mean weighted score 0.932 Max weighted score 1.0 Mean unweighted score 0.897 Max unweighted score 1.0\n",
      "Number of genes : 1\n",
      "\n",
      "Identified solutions (760) saved at : data/comparisons/04.B1.W14.01_04.M1.W09.02/Comparison_1/12\n",
      "Execution time:  144.6138458251953\n",
      "\n",
      "KEVOLVE: motif analyzer mode\n",
      "\n",
      "\n",
      "Identifying perfect matches...\n",
      "\n",
      "Identifying variations...\n"
     ]
    },
    {
     "name": "stderr",
     "output_type": "stream",
     "text": [
      "Processing k-mers: 100%|██████████| 760/760 [00:00<00:00, 5259.22it/s]\n",
      "Processing k-mers for variations: 100%|██████████| 760/760 [00:12<00:00, 62.06it/s]\n",
      "Processing k-mers to extract information:   0%|          | 0/760 [00:00<?, ?it/s]"
     ]
    },
    {
     "name": "stdout",
     "output_type": "stream",
     "text": [
      "\n",
      "Extract information related to signatures/variations...\n"
     ]
    },
    {
     "name": "stderr",
     "output_type": "stream",
     "text": [
      "Processing k-mers to extract information: 100%|██████████| 760/760 [01:15<00:00, 10.13it/s]\n"
     ]
    },
    {
     "name": "stdout",
     "output_type": "stream",
     "text": [
      "Execution time:  87.42452263832092\n",
      "Sample: 04.B1.W14.01_04.M1.W09.02 (Comparison_1: 13-mers)\n",
      "\n",
      "KEVOLVE: extraction mode\n",
      "\n",
      "Load sequences...\n",
      "Count k-mers...\n",
      "Generate matrices...\n",
      "Preprocessing...\n",
      "Solution search...\n",
      "\n",
      "Iteration: 1 | Attempt(s): 1 / 1\n",
      "Mean weighted score 0.925 Max weighted score 1.0 Mean unweighted score 0.885 Max unweighted score 1.0\n",
      "Number of genes : 1\n",
      "\n",
      "Identified solutions (727) saved at : data/comparisons/04.B1.W14.01_04.M1.W09.02/Comparison_1/13\n",
      "Execution time:  144.62523937225342\n",
      "\n",
      "KEVOLVE: motif analyzer mode\n",
      "\n",
      "\n",
      "Identifying perfect matches...\n",
      "\n",
      "Identifying variations...\n"
     ]
    },
    {
     "name": "stderr",
     "output_type": "stream",
     "text": [
      "Processing k-mers: 100%|██████████| 727/727 [00:00<00:00, 5497.24it/s]\n",
      "Processing k-mers for variations: 100%|██████████| 727/727 [00:12<00:00, 57.39it/s]\n"
     ]
    },
    {
     "name": "stdout",
     "output_type": "stream",
     "text": [
      "\n",
      "Extract information related to signatures/variations...\n"
     ]
    },
    {
     "name": "stderr",
     "output_type": "stream",
     "text": [
      "Processing k-mers to extract information: 100%|██████████| 727/727 [01:04<00:00, 11.23it/s]\n"
     ]
    },
    {
     "name": "stdout",
     "output_type": "stream",
     "text": [
      "Execution time:  77.59188890457153\n",
      "Sample: 04.B1.W14.01_04.M1.W09.02 (Comparison_1: 14-mers)\n",
      "\n",
      "KEVOLVE: extraction mode\n",
      "\n",
      "Load sequences...\n",
      "Count k-mers...\n",
      "Generate matrices...\n",
      "Preprocessing...\n",
      "Solution search...\n",
      "\n",
      "Iteration: 1 | Attempt(s): 1 / 1\n",
      "Mean weighted score 0.92 Max weighted score 1.0 Mean unweighted score 0.879 Max unweighted score 1.0\n",
      "Number of genes : 1\n",
      "\n",
      "Identified solutions (695) saved at : data/comparisons/04.B1.W14.01_04.M1.W09.02/Comparison_1/14\n",
      "Execution time:  144.7179572582245\n",
      "\n",
      "KEVOLVE: motif analyzer mode\n",
      "\n",
      "\n",
      "Identifying perfect matches...\n",
      "\n",
      "Identifying variations...\n"
     ]
    },
    {
     "name": "stderr",
     "output_type": "stream",
     "text": [
      "Processing k-mers: 100%|██████████| 695/695 [00:00<00:00, 5605.21it/s]\n",
      "Processing k-mers for variations: 100%|██████████| 695/695 [00:13<00:00, 53.21it/s]\n",
      "Processing k-mers to extract information:   0%|          | 0/695 [00:00<?, ?it/s]"
     ]
    },
    {
     "name": "stdout",
     "output_type": "stream",
     "text": [
      "\n",
      "Extract information related to signatures/variations...\n"
     ]
    },
    {
     "name": "stderr",
     "output_type": "stream",
     "text": [
      "Processing k-mers to extract information: 100%|██████████| 695/695 [00:59<00:00, 11.60it/s]\n"
     ]
    },
    {
     "name": "stdout",
     "output_type": "stream",
     "text": [
      "Execution time:  73.12814235687256\n",
      "Sample: 04.B1.W14.01_04.M1.W09.02 (Comparison_1: 15-mers)\n",
      "\n",
      "KEVOLVE: extraction mode\n",
      "\n",
      "Load sequences...\n",
      "Count k-mers...\n",
      "Generate matrices...\n",
      "Preprocessing...\n",
      "Solution search...\n",
      "\n",
      "Iteration: 1 | Attempt(s): 1 / 1\n",
      "Mean weighted score 0.918 Max weighted score 1.0 Mean unweighted score 0.874 Max unweighted score 1.0\n",
      "Number of genes : 1\n",
      "\n",
      "Identified solutions (667) saved at : data/comparisons/04.B1.W14.01_04.M1.W09.02/Comparison_1/15\n",
      "Execution time:  144.63847422599792\n",
      "\n",
      "KEVOLVE: motif analyzer mode\n",
      "\n",
      "\n",
      "Identifying perfect matches...\n",
      "\n",
      "Identifying variations...\n"
     ]
    },
    {
     "name": "stderr",
     "output_type": "stream",
     "text": [
      "Processing k-mers: 100%|██████████| 667/667 [00:00<00:00, 5629.67it/s]\n",
      "Processing k-mers for variations: 100%|██████████| 667/667 [00:13<00:00, 49.70it/s]\n",
      "Processing k-mers to extract information:   0%|          | 0/667 [00:00<?, ?it/s]"
     ]
    },
    {
     "name": "stdout",
     "output_type": "stream",
     "text": [
      "\n",
      "Extract information related to signatures/variations...\n"
     ]
    },
    {
     "name": "stderr",
     "output_type": "stream",
     "text": [
      "Processing k-mers to extract information: 100%|██████████| 667/667 [00:53<00:00, 12.49it/s]\n"
     ]
    },
    {
     "name": "stdout",
     "output_type": "stream",
     "text": [
      "Execution time:  66.95000624656677\n",
      "Sample: 04.B1.W14.01_04.M1.W09.02 (Comparison_1: 16-mers)\n",
      "\n",
      "KEVOLVE: extraction mode\n",
      "\n",
      "Load sequences...\n",
      "Count k-mers...\n",
      "Generate matrices...\n",
      "Preprocessing...\n",
      "Solution search...\n",
      "\n",
      "Iteration: 1 | Attempt(s): 1 / 1\n",
      "Mean weighted score 0.91 Max weighted score 1.0 Mean unweighted score 0.861 Max unweighted score 1.0\n",
      "Number of genes : 1\n",
      "\n",
      "Identified solutions (637) saved at : data/comparisons/04.B1.W14.01_04.M1.W09.02/Comparison_1/16\n",
      "Execution time:  144.90066075325012\n",
      "\n",
      "KEVOLVE: motif analyzer mode\n",
      "\n",
      "\n",
      "Identifying perfect matches...\n",
      "\n",
      "Identifying variations...\n"
     ]
    },
    {
     "name": "stderr",
     "output_type": "stream",
     "text": [
      "Processing k-mers: 100%|██████████| 637/637 [00:00<00:00, 5627.78it/s]\n",
      "Processing k-mers for variations: 100%|██████████| 637/637 [00:13<00:00, 46.57it/s]\n",
      "Processing k-mers to extract information:   0%|          | 0/637 [00:00<?, ?it/s]"
     ]
    },
    {
     "name": "stdout",
     "output_type": "stream",
     "text": [
      "\n",
      "Extract information related to signatures/variations...\n"
     ]
    },
    {
     "name": "stderr",
     "output_type": "stream",
     "text": [
      "Processing k-mers to extract information: 100%|██████████| 637/637 [01:04<00:00,  9.89it/s]\n"
     ]
    },
    {
     "name": "stdout",
     "output_type": "stream",
     "text": [
      "Execution time:  78.2362425327301\n",
      "Sample: 04.B1.W14.01_04.M1.W09.02 (Comparison_1: 17-mers)\n",
      "\n",
      "KEVOLVE: extraction mode\n",
      "\n",
      "Load sequences...\n",
      "Count k-mers...\n",
      "Generate matrices...\n",
      "Preprocessing...\n",
      "Solution search...\n",
      "\n",
      "Iteration: 1 | Attempt(s): 1 / 1\n",
      "Mean weighted score 0.903 Max weighted score 1.0 Mean unweighted score 0.851 Max unweighted score 1.0\n",
      "Number of genes : 1\n",
      "\n",
      "Identified solutions (609) saved at : data/comparisons/04.B1.W14.01_04.M1.W09.02/Comparison_1/17\n",
      "Execution time:  145.30276322364807\n",
      "\n",
      "KEVOLVE: motif analyzer mode\n",
      "\n",
      "\n",
      "Identifying perfect matches...\n",
      "\n",
      "Identifying variations...\n"
     ]
    },
    {
     "name": "stderr",
     "output_type": "stream",
     "text": [
      "Processing k-mers: 100%|██████████| 609/609 [00:00<00:00, 5437.50it/s]\n",
      "Processing k-mers for variations: 100%|██████████| 609/609 [00:13<00:00, 44.08it/s]\n",
      "Processing k-mers to extract information:   0%|          | 1/609 [00:00<01:51,  5.46it/s]"
     ]
    },
    {
     "name": "stdout",
     "output_type": "stream",
     "text": [
      "\n",
      "Extract information related to signatures/variations...\n"
     ]
    },
    {
     "name": "stderr",
     "output_type": "stream",
     "text": [
      "Processing k-mers to extract information: 100%|██████████| 609/609 [01:00<00:00, 10.14it/s]\n"
     ]
    },
    {
     "name": "stdout",
     "output_type": "stream",
     "text": [
      "Execution time:  74.0314929485321\n",
      "Sample: 04.B1.W14.01_04.M1.W09.02 (Comparison_1: 18-mers)\n",
      "\n",
      "KEVOLVE: extraction mode\n",
      "\n",
      "Load sequences...\n",
      "Count k-mers...\n",
      "Generate matrices...\n",
      "Preprocessing...\n",
      "Solution search...\n",
      "\n",
      "Iteration: 1 | Attempt(s): 1 / 1\n",
      "Mean weighted score 0.899 Max weighted score 1.0 Mean unweighted score 0.843 Max unweighted score 1.0\n",
      "Number of genes : 1\n",
      "\n",
      "Identified solutions (583) saved at : data/comparisons/04.B1.W14.01_04.M1.W09.02/Comparison_1/18\n",
      "Execution time:  144.6998200416565\n",
      "\n",
      "KEVOLVE: motif analyzer mode\n",
      "\n",
      "\n",
      "Identifying perfect matches...\n",
      "\n",
      "Identifying variations...\n"
     ]
    },
    {
     "name": "stderr",
     "output_type": "stream",
     "text": [
      "Processing k-mers: 100%|██████████| 583/583 [00:00<00:00, 5536.78it/s]\n",
      "Processing k-mers for variations: 100%|██████████| 583/583 [00:13<00:00, 41.72it/s]\n",
      "Processing k-mers to extract information:   0%|          | 1/583 [00:00<01:45,  5.51it/s]"
     ]
    },
    {
     "name": "stdout",
     "output_type": "stream",
     "text": [
      "\n",
      "Extract information related to signatures/variations...\n"
     ]
    },
    {
     "name": "stderr",
     "output_type": "stream",
     "text": [
      "Processing k-mers to extract information: 100%|██████████| 583/583 [00:54<00:00, 10.69it/s]\n"
     ]
    },
    {
     "name": "stdout",
     "output_type": "stream",
     "text": [
      "Execution time:  68.65368437767029\n",
      "Sample: 04.B1.W14.01_04.M1.W09.02 (Comparison_1: 19-mers)\n",
      "\n",
      "KEVOLVE: extraction mode\n",
      "\n",
      "Load sequences...\n",
      "Count k-mers...\n",
      "Generate matrices...\n",
      "Preprocessing...\n",
      "Solution search...\n",
      "\n",
      "Iteration: 1 | Attempt(s): 1 / 1\n",
      "Mean weighted score 0.896 Max weighted score 1.0 Mean unweighted score 0.84 Max unweighted score 1.0\n",
      "Number of genes : 1\n",
      "\n",
      "Identified solutions (554) saved at : data/comparisons/04.B1.W14.01_04.M1.W09.02/Comparison_1/19\n",
      "Execution time:  144.92899656295776\n",
      "\n",
      "KEVOLVE: motif analyzer mode\n",
      "\n",
      "\n",
      "Identifying perfect matches...\n",
      "\n",
      "Identifying variations...\n"
     ]
    },
    {
     "name": "stderr",
     "output_type": "stream",
     "text": [
      "Processing k-mers: 100%|██████████| 554/554 [00:00<00:00, 5663.36it/s]\n",
      "Processing k-mers for variations: 100%|██████████| 554/554 [00:13<00:00, 39.60it/s]\n",
      "Processing k-mers to extract information:   0%|          | 0/554 [00:00<?, ?it/s]"
     ]
    },
    {
     "name": "stdout",
     "output_type": "stream",
     "text": [
      "\n",
      "Extract information related to signatures/variations...\n"
     ]
    },
    {
     "name": "stderr",
     "output_type": "stream",
     "text": [
      "Processing k-mers to extract information: 100%|██████████| 554/554 [00:55<00:00,  9.96it/s]\n"
     ]
    },
    {
     "name": "stdout",
     "output_type": "stream",
     "text": [
      "Execution time:  69.71190047264099\n",
      "Sample: 04.B1.W14.01_04.M1.W09.02 (Comparison_1: 20-mers)\n",
      "\n",
      "KEVOLVE: extraction mode\n",
      "\n",
      "Load sequences...\n",
      "Count k-mers...\n",
      "Generate matrices...\n",
      "Preprocessing...\n",
      "Solution search...\n",
      "\n",
      "Iteration: 1 | Attempt(s): 1 / 1\n",
      "Mean weighted score 0.891 Max weighted score 1.0 Mean unweighted score 0.832 Max unweighted score 1.0\n",
      "Number of genes : 1\n",
      "\n",
      "Identified solutions (525) saved at : data/comparisons/04.B1.W14.01_04.M1.W09.02/Comparison_1/20\n",
      "Execution time:  144.67009139060974\n",
      "\n",
      "KEVOLVE: motif analyzer mode\n",
      "\n",
      "\n",
      "Identifying perfect matches...\n",
      "\n",
      "Identifying variations...\n"
     ]
    },
    {
     "name": "stderr",
     "output_type": "stream",
     "text": [
      "Processing k-mers: 100%|██████████| 525/525 [00:00<00:00, 5669.64it/s]\n",
      "Processing k-mers for variations: 100%|██████████| 525/525 [00:13<00:00, 37.88it/s]\n",
      "Processing k-mers to extract information:   0%|          | 0/525 [00:00<?, ?it/s]"
     ]
    },
    {
     "name": "stdout",
     "output_type": "stream",
     "text": [
      "\n",
      "Extract information related to signatures/variations...\n"
     ]
    },
    {
     "name": "stderr",
     "output_type": "stream",
     "text": [
      "Processing k-mers to extract information: 100%|██████████| 525/525 [00:49<00:00, 10.56it/s]\n"
     ]
    },
    {
     "name": "stdout",
     "output_type": "stream",
     "text": [
      "Execution time:  63.684288024902344\n",
      "Sample: 04.B1.W14.01_04.M1.W09.02 (Comparison_1: 21-mers)\n",
      "\n",
      "KEVOLVE: extraction mode\n",
      "\n",
      "Load sequences...\n",
      "Count k-mers...\n",
      "Generate matrices...\n",
      "Preprocessing...\n",
      "Solution search...\n",
      "\n",
      "Iteration: 1 | Attempt(s): 1 / 1\n",
      "Mean weighted score 0.882 Max weighted score 1.0 Mean unweighted score 0.818 Max unweighted score 1.0\n",
      "Number of genes : 1\n",
      "\n",
      "Identified solutions (497) saved at : data/comparisons/04.B1.W14.01_04.M1.W09.02/Comparison_1/21\n",
      "Execution time:  144.6335117816925\n",
      "\n",
      "KEVOLVE: motif analyzer mode\n",
      "\n",
      "\n",
      "Identifying perfect matches...\n",
      "\n",
      "Identifying variations...\n"
     ]
    },
    {
     "name": "stderr",
     "output_type": "stream",
     "text": [
      "Processing k-mers: 100%|██████████| 497/497 [00:00<00:00, 5643.98it/s]\n",
      "Processing k-mers for variations: 100%|██████████| 497/497 [00:13<00:00, 36.17it/s]\n",
      "Processing k-mers to extract information:   0%|          | 1/497 [00:00<01:31,  5.45it/s]"
     ]
    },
    {
     "name": "stdout",
     "output_type": "stream",
     "text": [
      "\n",
      "Extract information related to signatures/variations...\n"
     ]
    },
    {
     "name": "stderr",
     "output_type": "stream",
     "text": [
      "Processing k-mers to extract information: 100%|██████████| 497/497 [00:43<00:00, 11.40it/s]\n"
     ]
    },
    {
     "name": "stdout",
     "output_type": "stream",
     "text": [
      "Execution time:  57.462223529815674\n",
      "Sample: 04.B1.W14.01_04.M1.W09.02 (Comparison_4: 9-mers)\n",
      "\n",
      "KEVOLVE: extraction mode\n",
      "\n",
      "Load sequences...\n",
      "Count k-mers...\n",
      "Generate matrices...\n",
      "Preprocessing...\n",
      "Solution search...\n",
      "\n",
      "Iteration: 1 | Attempt(s): 1 / 1\n",
      "Mean weighted score 0.861 Max weighted score 1.0 Mean unweighted score 0.861 Max unweighted score 1.0\n",
      "Number of genes : 1\n",
      "\n",
      "Identified solutions (456) saved at : data/comparisons/04.B1.W14.01_04.M1.W09.02/Comparison_4/9\n",
      "Execution time:  143.98649740219116\n",
      "\n",
      "KEVOLVE: motif analyzer mode\n",
      "\n",
      "\n",
      "Identifying perfect matches...\n",
      "\n",
      "Identifying variations...\n"
     ]
    },
    {
     "name": "stderr",
     "output_type": "stream",
     "text": [
      "Processing k-mers: 100%|██████████| 456/456 [00:00<00:00, 9289.12it/s]\n",
      "Processing k-mers for variations: 100%|██████████| 456/456 [00:02<00:00, 168.54it/s]\n",
      "Processing k-mers to extract information:   0%|          | 1/456 [00:00<00:50,  9.09it/s]"
     ]
    },
    {
     "name": "stdout",
     "output_type": "stream",
     "text": [
      "\n",
      "Extract information related to signatures/variations...\n"
     ]
    },
    {
     "name": "stderr",
     "output_type": "stream",
     "text": [
      "Processing k-mers to extract information: 100%|██████████| 456/456 [01:25<00:00,  5.35it/s]\n"
     ]
    },
    {
     "name": "stdout",
     "output_type": "stream",
     "text": [
      "Execution time:  87.96359705924988\n",
      "Sample: 04.B1.W14.01_04.M1.W09.02 (Comparison_4: 10-mers)\n",
      "\n",
      "KEVOLVE: extraction mode\n",
      "\n",
      "Load sequences...\n",
      "Count k-mers...\n",
      "Generate matrices...\n",
      "Preprocessing...\n",
      "Solution search...\n",
      "\n",
      "Iteration: 1 | Attempt(s): 1 / 1\n",
      "Mean weighted score 0.861 Max weighted score 1.0 Mean unweighted score 0.861 Max unweighted score 1.0\n",
      "Number of genes : 1\n",
      "\n",
      "Identified solutions (456) saved at : data/comparisons/04.B1.W14.01_04.M1.W09.02/Comparison_4/10\n",
      "Execution time:  144.30717372894287\n",
      "\n",
      "KEVOLVE: motif analyzer mode\n",
      "\n",
      "\n",
      "Identifying perfect matches...\n",
      "\n",
      "Identifying variations...\n"
     ]
    },
    {
     "name": "stderr",
     "output_type": "stream",
     "text": [
      "Processing k-mers: 100%|██████████| 456/456 [00:00<00:00, 9351.67it/s]\n",
      "Processing k-mers for variations: 100%|██████████| 456/456 [00:02<00:00, 153.99it/s]\n",
      "Processing k-mers to extract information:   0%|          | 1/456 [00:00<00:52,  8.72it/s]"
     ]
    },
    {
     "name": "stdout",
     "output_type": "stream",
     "text": [
      "\n",
      "Extract information related to signatures/variations...\n"
     ]
    },
    {
     "name": "stderr",
     "output_type": "stream",
     "text": [
      "Processing k-mers to extract information: 100%|██████████| 456/456 [00:40<00:00, 11.35it/s]\n"
     ]
    },
    {
     "name": "stdout",
     "output_type": "stream",
     "text": [
      "Execution time:  43.21147274971008\n",
      "Sample: 04.B1.W14.01_04.M1.W09.02 (Comparison_4: 11-mers)\n",
      "\n",
      "KEVOLVE: extraction mode\n",
      "\n",
      "Load sequences...\n",
      "Count k-mers...\n",
      "Generate matrices...\n",
      "Preprocessing...\n",
      "Solution search...\n",
      "\n",
      "Iteration: 1 | Attempt(s): 1 / 1\n",
      "Mean weighted score 0.858 Max weighted score 1.0 Mean unweighted score 0.858 Max unweighted score 1.0\n",
      "Number of genes : 1\n",
      "\n",
      "Identified solutions (450) saved at : data/comparisons/04.B1.W14.01_04.M1.W09.02/Comparison_4/11\n",
      "Execution time:  144.49488520622253\n",
      "\n",
      "KEVOLVE: motif analyzer mode\n",
      "\n",
      "\n",
      "Identifying perfect matches...\n",
      "\n",
      "Identifying variations...\n"
     ]
    },
    {
     "name": "stderr",
     "output_type": "stream",
     "text": [
      "Processing k-mers: 100%|██████████| 450/450 [00:00<00:00, 9372.75it/s]\n",
      "Processing k-mers for variations: 100%|██████████| 450/450 [00:03<00:00, 139.28it/s]\n",
      "Processing k-mers to extract information:   0%|          | 0/450 [00:00<?, ?it/s]"
     ]
    },
    {
     "name": "stdout",
     "output_type": "stream",
     "text": [
      "\n",
      "Extract information related to signatures/variations...\n"
     ]
    },
    {
     "name": "stderr",
     "output_type": "stream",
     "text": [
      "Processing k-mers to extract information: 100%|██████████| 450/450 [00:35<00:00, 12.52it/s]\n"
     ]
    },
    {
     "name": "stdout",
     "output_type": "stream",
     "text": [
      "Execution time:  39.25758218765259\n",
      "Sample: 04.B1.W14.01_04.M1.W09.02 (Comparison_4: 12-mers)\n",
      "\n",
      "KEVOLVE: extraction mode\n",
      "\n",
      "Load sequences...\n",
      "Count k-mers...\n",
      "Generate matrices...\n",
      "Preprocessing...\n",
      "Solution search...\n",
      "\n",
      "Iteration: 1 | Attempt(s): 1 / 1\n",
      "Mean weighted score 0.858 Max weighted score 1.0 Mean unweighted score 0.858 Max unweighted score 1.0\n",
      "Number of genes : 1\n",
      "\n",
      "Identified solutions (441) saved at : data/comparisons/04.B1.W14.01_04.M1.W09.02/Comparison_4/12\n",
      "Execution time:  144.08881378173828\n",
      "\n",
      "KEVOLVE: motif analyzer mode\n",
      "\n",
      "\n",
      "Identifying perfect matches...\n",
      "\n",
      "Identifying variations...\n"
     ]
    },
    {
     "name": "stderr",
     "output_type": "stream",
     "text": [
      "Processing k-mers: 100%|██████████| 441/441 [00:00<00:00, 9184.47it/s]\n",
      "Processing k-mers for variations: 100%|██████████| 441/441 [00:03<00:00, 128.79it/s]\n",
      "Processing k-mers to extract information:   0%|          | 0/441 [00:00<?, ?it/s]"
     ]
    },
    {
     "name": "stdout",
     "output_type": "stream",
     "text": [
      "\n",
      "Extract information related to signatures/variations...\n"
     ]
    },
    {
     "name": "stderr",
     "output_type": "stream",
     "text": [
      "Processing k-mers to extract information: 100%|██████████| 441/441 [00:32<00:00, 13.49it/s]\n"
     ]
    },
    {
     "name": "stdout",
     "output_type": "stream",
     "text": [
      "Execution time:  36.17990159988403\n",
      "Sample: 04.B1.W14.01_04.M1.W09.02 (Comparison_4: 13-mers)\n",
      "\n",
      "KEVOLVE: extraction mode\n",
      "\n",
      "Load sequences...\n",
      "Count k-mers...\n",
      "Generate matrices...\n",
      "Preprocessing...\n",
      "Solution search...\n",
      "\n",
      "Iteration: 1 | Attempt(s): 1 / 1\n",
      "Mean weighted score 0.854 Max weighted score 1.0 Mean unweighted score 0.854 Max unweighted score 1.0\n",
      "Number of genes : 1\n",
      "\n",
      "Identified solutions (425) saved at : data/comparisons/04.B1.W14.01_04.M1.W09.02/Comparison_4/13\n",
      "Execution time:  143.9171657562256\n",
      "\n",
      "KEVOLVE: motif analyzer mode\n",
      "\n",
      "\n",
      "Identifying perfect matches...\n",
      "\n",
      "Identifying variations...\n"
     ]
    },
    {
     "name": "stderr",
     "output_type": "stream",
     "text": [
      "Processing k-mers: 100%|██████████| 425/425 [00:00<00:00, 9091.03it/s]\n",
      "Processing k-mers for variations: 100%|██████████| 425/425 [00:03<00:00, 119.36it/s]\n",
      "Processing k-mers to extract information:   0%|          | 0/425 [00:00<?, ?it/s]"
     ]
    },
    {
     "name": "stdout",
     "output_type": "stream",
     "text": [
      "\n",
      "Extract information related to signatures/variations...\n"
     ]
    },
    {
     "name": "stderr",
     "output_type": "stream",
     "text": [
      "Processing k-mers to extract information: 100%|██████████| 425/425 [00:26<00:00, 16.06it/s]\n"
     ]
    },
    {
     "name": "stdout",
     "output_type": "stream",
     "text": [
      "Execution time:  30.086724519729614\n",
      "Sample: 04.B1.W14.01_04.M1.W09.02 (Comparison_4: 14-mers)\n",
      "\n",
      "KEVOLVE: extraction mode\n",
      "\n",
      "Load sequences...\n",
      "Count k-mers...\n",
      "Generate matrices...\n",
      "Preprocessing...\n",
      "Solution search...\n",
      "\n",
      "Iteration: 1 | Attempt(s): 1 / 1\n",
      "Mean weighted score 0.852 Max weighted score 1.0 Mean unweighted score 0.852 Max unweighted score 1.0\n",
      "Number of genes : 1\n",
      "\n",
      "Identified solutions (407) saved at : data/comparisons/04.B1.W14.01_04.M1.W09.02/Comparison_4/14\n",
      "Execution time:  144.12854099273682\n",
      "\n",
      "KEVOLVE: motif analyzer mode\n",
      "\n",
      "\n",
      "Identifying perfect matches...\n",
      "\n",
      "Identifying variations...\n"
     ]
    },
    {
     "name": "stderr",
     "output_type": "stream",
     "text": [
      "Processing k-mers: 100%|██████████| 407/407 [00:00<00:00, 9211.14it/s]\n",
      "Processing k-mers for variations: 100%|██████████| 407/407 [00:03<00:00, 110.94it/s]\n",
      "Processing k-mers to extract information:   0%|          | 1/407 [00:00<00:44,  9.04it/s]"
     ]
    },
    {
     "name": "stdout",
     "output_type": "stream",
     "text": [
      "\n",
      "Extract information related to signatures/variations...\n"
     ]
    },
    {
     "name": "stderr",
     "output_type": "stream",
     "text": [
      "Processing k-mers to extract information: 100%|██████████| 407/407 [00:25<00:00, 15.76it/s]\n"
     ]
    },
    {
     "name": "stdout",
     "output_type": "stream",
     "text": [
      "Execution time:  29.56375789642334\n",
      "Sample: 04.B1.W14.01_04.M1.W09.02 (Comparison_4: 15-mers)\n",
      "\n",
      "KEVOLVE: extraction mode\n",
      "\n",
      "Load sequences...\n",
      "Count k-mers...\n",
      "Generate matrices...\n",
      "Preprocessing...\n",
      "Solution search...\n",
      "\n",
      "Iteration: 1 | Attempt(s): 1 / 1\n",
      "Mean weighted score 0.848 Max weighted score 1.0 Mean unweighted score 0.848 Max unweighted score 1.0\n",
      "Number of genes : 1\n",
      "\n",
      "Identified solutions (393) saved at : data/comparisons/04.B1.W14.01_04.M1.W09.02/Comparison_4/15\n",
      "Execution time:  143.58178162574768\n",
      "\n",
      "KEVOLVE: motif analyzer mode\n",
      "\n",
      "\n",
      "Identifying perfect matches...\n",
      "\n",
      "Identifying variations...\n"
     ]
    },
    {
     "name": "stderr",
     "output_type": "stream",
     "text": [
      "Processing k-mers: 100%|██████████| 393/393 [00:00<00:00, 9135.08it/s]\n",
      "Processing k-mers for variations: 100%|██████████| 393/393 [00:03<00:00, 104.77it/s]\n",
      "Processing k-mers to extract information:   0%|          | 0/393 [00:00<?, ?it/s]"
     ]
    },
    {
     "name": "stdout",
     "output_type": "stream",
     "text": [
      "\n",
      "Extract information related to signatures/variations...\n"
     ]
    },
    {
     "name": "stderr",
     "output_type": "stream",
     "text": [
      "Processing k-mers to extract information: 100%|██████████| 393/393 [00:25<00:00, 15.14it/s]\n"
     ]
    },
    {
     "name": "stdout",
     "output_type": "stream",
     "text": [
      "Execution time:  29.783233165740967\n",
      "Sample: 04.B1.W14.01_04.M1.W09.02 (Comparison_4: 16-mers)\n",
      "\n",
      "KEVOLVE: extraction mode\n",
      "\n",
      "Load sequences...\n",
      "Count k-mers...\n",
      "Generate matrices...\n",
      "Preprocessing...\n",
      "Solution search...\n",
      "\n",
      "Iteration: 1 | Attempt(s): 1 / 1\n",
      "Mean weighted score 0.809 Max weighted score 1.0 Mean unweighted score 0.809 Max unweighted score 1.0\n",
      "Number of genes : 1\n",
      "\n",
      "Identified solutions (379) saved at : data/comparisons/04.B1.W14.01_04.M1.W09.02/Comparison_4/16\n",
      "Execution time:  144.2646758556366\n",
      "\n",
      "KEVOLVE: motif analyzer mode\n",
      "\n",
      "\n",
      "Identifying perfect matches...\n",
      "\n",
      "Identifying variations...\n"
     ]
    },
    {
     "name": "stderr",
     "output_type": "stream",
     "text": [
      "Processing k-mers: 100%|██████████| 379/379 [00:00<00:00, 8884.00it/s]\n",
      "Processing k-mers for variations: 100%|██████████| 379/379 [00:03<00:00, 98.11it/s] \n",
      "Processing k-mers to extract information:   0%|          | 0/379 [00:00<?, ?it/s]"
     ]
    },
    {
     "name": "stdout",
     "output_type": "stream",
     "text": [
      "\n",
      "Extract information related to signatures/variations...\n"
     ]
    },
    {
     "name": "stderr",
     "output_type": "stream",
     "text": [
      "Processing k-mers to extract information: 100%|██████████| 379/379 [00:26<00:00, 14.33it/s]\n"
     ]
    },
    {
     "name": "stdout",
     "output_type": "stream",
     "text": [
      "Execution time:  30.385157823562622\n",
      "Sample: 04.B1.W14.01_04.M1.W09.02 (Comparison_4: 17-mers)\n",
      "\n",
      "KEVOLVE: extraction mode\n",
      "\n",
      "Load sequences...\n",
      "Count k-mers...\n",
      "Generate matrices...\n",
      "Preprocessing...\n",
      "Solution search...\n",
      "\n",
      "Iteration: 1 | Attempt(s): 1 / 1\n",
      "Mean weighted score 0.805 Max weighted score 1.0 Mean unweighted score 0.805 Max unweighted score 1.0\n",
      "Number of genes : 1\n",
      "\n",
      "Identified solutions (363) saved at : data/comparisons/04.B1.W14.01_04.M1.W09.02/Comparison_4/17\n",
      "Execution time:  144.0673704147339\n",
      "\n",
      "KEVOLVE: motif analyzer mode\n",
      "\n",
      "\n",
      "Identifying perfect matches...\n",
      "\n",
      "Identifying variations...\n"
     ]
    },
    {
     "name": "stderr",
     "output_type": "stream",
     "text": [
      "Processing k-mers: 100%|██████████| 363/363 [00:00<00:00, 9257.37it/s]\n",
      "Processing k-mers for variations: 100%|██████████| 363/363 [00:03<00:00, 92.85it/s]\n",
      "Processing k-mers to extract information:   0%|          | 0/363 [00:00<?, ?it/s]"
     ]
    },
    {
     "name": "stdout",
     "output_type": "stream",
     "text": [
      "\n",
      "Extract information related to signatures/variations...\n"
     ]
    },
    {
     "name": "stderr",
     "output_type": "stream",
     "text": [
      "Processing k-mers to extract information: 100%|██████████| 363/363 [00:23<00:00, 15.28it/s]\n"
     ]
    },
    {
     "name": "stdout",
     "output_type": "stream",
     "text": [
      "Execution time:  27.72255301475525\n",
      "Sample: 04.B1.W14.01_04.M1.W09.02 (Comparison_4: 18-mers)\n",
      "\n",
      "KEVOLVE: extraction mode\n",
      "\n",
      "Load sequences...\n",
      "Count k-mers...\n",
      "Generate matrices...\n",
      "Preprocessing...\n",
      "Solution search...\n",
      "\n",
      "Iteration: 1 | Attempt(s): 1 / 1\n",
      "Mean weighted score 0.805 Max weighted score 1.0 Mean unweighted score 0.805 Max unweighted score 1.0\n",
      "Number of genes : 1\n",
      "\n",
      "Identified solutions (344) saved at : data/comparisons/04.B1.W14.01_04.M1.W09.02/Comparison_4/18\n",
      "Execution time:  144.7380530834198\n",
      "\n",
      "KEVOLVE: motif analyzer mode\n",
      "\n",
      "\n",
      "Identifying perfect matches...\n",
      "\n",
      "Identifying variations...\n"
     ]
    },
    {
     "name": "stderr",
     "output_type": "stream",
     "text": [
      "Processing k-mers: 100%|██████████| 344/344 [00:00<00:00, 8876.72it/s]\n",
      "Processing k-mers for variations: 100%|██████████| 344/344 [00:03<00:00, 88.69it/s]\n",
      "Processing k-mers to extract information:   0%|          | 0/344 [00:00<?, ?it/s]"
     ]
    },
    {
     "name": "stdout",
     "output_type": "stream",
     "text": [
      "\n",
      "Extract information related to signatures/variations...\n"
     ]
    },
    {
     "name": "stderr",
     "output_type": "stream",
     "text": [
      "Processing k-mers to extract information: 100%|██████████| 344/344 [00:22<00:00, 15.55it/s]\n"
     ]
    },
    {
     "name": "stdout",
     "output_type": "stream",
     "text": [
      "Execution time:  26.056671619415283\n",
      "Sample: 04.B1.W14.01_04.M1.W09.02 (Comparison_4: 19-mers)\n",
      "\n",
      "KEVOLVE: extraction mode\n",
      "\n",
      "Load sequences...\n",
      "Count k-mers...\n",
      "Generate matrices...\n",
      "Preprocessing...\n",
      "Solution search...\n",
      "\n",
      "Iteration: 1 | Attempt(s): 1 / 1\n",
      "Mean weighted score 0.801 Max weighted score 1.0 Mean unweighted score 0.801 Max unweighted score 1.0\n",
      "Number of genes : 1\n",
      "\n",
      "Identified solutions (327) saved at : data/comparisons/04.B1.W14.01_04.M1.W09.02/Comparison_4/19\n",
      "Execution time:  144.13253688812256\n",
      "\n",
      "KEVOLVE: motif analyzer mode\n",
      "\n",
      "\n",
      "Identifying perfect matches...\n",
      "\n",
      "Identifying variations...\n"
     ]
    },
    {
     "name": "stderr",
     "output_type": "stream",
     "text": [
      "Processing k-mers: 100%|██████████| 327/327 [00:00<00:00, 8493.75it/s]\n",
      "Processing k-mers for variations: 100%|██████████| 327/327 [00:03<00:00, 84.37it/s]\n",
      "Processing k-mers to extract information:   1%|          | 2/327 [00:00<00:21, 14.90it/s]"
     ]
    },
    {
     "name": "stdout",
     "output_type": "stream",
     "text": [
      "\n",
      "Extract information related to signatures/variations...\n"
     ]
    },
    {
     "name": "stderr",
     "output_type": "stream",
     "text": [
      "Processing k-mers to extract information: 100%|██████████| 327/327 [00:20<00:00, 15.66it/s]\n"
     ]
    },
    {
     "name": "stdout",
     "output_type": "stream",
     "text": [
      "Execution time:  24.812957286834717\n",
      "Sample: 04.B1.W14.01_04.M1.W09.02 (Comparison_4: 20-mers)\n",
      "\n",
      "KEVOLVE: extraction mode\n",
      "\n",
      "Load sequences...\n",
      "Count k-mers...\n",
      "Generate matrices...\n",
      "Preprocessing...\n",
      "Solution search...\n",
      "\n",
      "Iteration: 1 | Attempt(s): 1 / 1\n",
      "Mean weighted score 0.799 Max weighted score 1.0 Mean unweighted score 0.799 Max unweighted score 1.0\n",
      "Number of genes : 1\n",
      "\n",
      "Identified solutions (308) saved at : data/comparisons/04.B1.W14.01_04.M1.W09.02/Comparison_4/20\n",
      "Execution time:  144.81635642051697\n",
      "\n",
      "KEVOLVE: motif analyzer mode\n",
      "\n",
      "\n",
      "Identifying perfect matches...\n",
      "\n",
      "Identifying variations...\n"
     ]
    },
    {
     "name": "stderr",
     "output_type": "stream",
     "text": [
      "Processing k-mers: 100%|██████████| 308/308 [00:00<00:00, 9308.99it/s]\n",
      "Processing k-mers for variations: 100%|██████████| 308/308 [00:03<00:00, 80.49it/s]\n",
      "Processing k-mers to extract information:   0%|          | 0/308 [00:00<?, ?it/s]"
     ]
    },
    {
     "name": "stdout",
     "output_type": "stream",
     "text": [
      "\n",
      "Extract information related to signatures/variations...\n"
     ]
    },
    {
     "name": "stderr",
     "output_type": "stream",
     "text": [
      "Processing k-mers to extract information: 100%|██████████| 308/308 [00:19<00:00, 15.86it/s]\n"
     ]
    },
    {
     "name": "stdout",
     "output_type": "stream",
     "text": [
      "Execution time:  23.298727989196777\n",
      "Sample: 04.B1.W14.01_04.M1.W09.02 (Comparison_4: 21-mers)\n",
      "\n",
      "KEVOLVE: extraction mode\n",
      "\n",
      "Load sequences...\n",
      "Count k-mers...\n",
      "Generate matrices...\n",
      "Preprocessing...\n",
      "Solution search...\n",
      "\n",
      "Iteration: 1 | Attempt(s): 1 / 1\n",
      "Mean weighted score 0.793 Max weighted score 1.0 Mean unweighted score 0.793 Max unweighted score 1.0\n",
      "Number of genes : 1\n",
      "\n",
      "Identified solutions (291) saved at : data/comparisons/04.B1.W14.01_04.M1.W09.02/Comparison_4/21\n",
      "Execution time:  143.9494504928589\n",
      "\n",
      "KEVOLVE: motif analyzer mode\n",
      "\n",
      "\n",
      "Identifying perfect matches...\n",
      "\n",
      "Identifying variations...\n"
     ]
    },
    {
     "name": "stderr",
     "output_type": "stream",
     "text": [
      "Processing k-mers: 100%|██████████| 291/291 [00:00<00:00, 9142.09it/s]\n",
      "Processing k-mers for variations: 100%|██████████| 291/291 [00:03<00:00, 76.79it/s]\n",
      "Processing k-mers to extract information:   0%|          | 1/291 [00:00<00:32,  9.01it/s]"
     ]
    },
    {
     "name": "stdout",
     "output_type": "stream",
     "text": [
      "\n",
      "Extract information related to signatures/variations...\n"
     ]
    },
    {
     "name": "stderr",
     "output_type": "stream",
     "text": [
      "Processing k-mers to extract information: 100%|██████████| 291/291 [00:17<00:00, 16.71it/s]\n"
     ]
    },
    {
     "name": "stdout",
     "output_type": "stream",
     "text": [
      "Execution time:  21.260261297225952\n",
      "Sample: 04.B1.W14.01_04.M1.W09.02 (Comparison_5: 9-mers)\n",
      "\n",
      "KEVOLVE: extraction mode\n",
      "\n",
      "Load sequences...\n",
      "Count k-mers...\n",
      "Generate matrices...\n",
      "Preprocessing...\n",
      "Solution search...\n",
      "\n",
      "Iteration: 1 | Attempt(s): 1 / 1\n",
      "Mean weighted score 0.814 Max weighted score 1.0 Mean unweighted score 0.665 Max unweighted score 1.0\n",
      "Number of genes : 1\n",
      "\n",
      "Identified solutions (114) saved at : data/comparisons/04.B1.W14.01_04.M1.W09.02/Comparison_5/9\n",
      "Execution time:  145.3439691066742\n",
      "\n",
      "KEVOLVE: motif analyzer mode\n",
      "\n",
      "\n",
      "Identifying perfect matches...\n",
      "\n",
      "Identifying variations...\n"
     ]
    },
    {
     "name": "stderr",
     "output_type": "stream",
     "text": [
      "Processing k-mers: 100%|██████████| 114/114 [00:00<00:00, 4774.39it/s]\n",
      "Processing k-mers for variations: 100%|██████████| 114/114 [00:02<00:00, 55.43it/s]\n",
      "Processing k-mers to extract information:   0%|          | 0/114 [00:00<?, ?it/s]"
     ]
    },
    {
     "name": "stdout",
     "output_type": "stream",
     "text": [
      "\n",
      "Extract information related to signatures/variations...\n"
     ]
    },
    {
     "name": "stderr",
     "output_type": "stream",
     "text": [
      "Processing k-mers to extract information: 100%|██████████| 114/114 [00:37<00:00,  3.01it/s]\n"
     ]
    },
    {
     "name": "stdout",
     "output_type": "stream",
     "text": [
      "Execution time:  39.999027490615845\n",
      "Sample: 04.B1.W14.01_04.M1.W09.02 (Comparison_5: 10-mers)\n",
      "\n",
      "KEVOLVE: extraction mode\n",
      "\n",
      "Load sequences...\n",
      "Count k-mers...\n",
      "Generate matrices...\n",
      "Preprocessing...\n",
      "Solution search...\n",
      "\n",
      "Iteration: 1 | Attempt(s): 1 / 1\n",
      "Mean weighted score 0.815 Max weighted score 1.0 Mean unweighted score 0.667 Max unweighted score 1.0\n",
      "Number of genes : 1\n",
      "\n",
      "Identified solutions (112) saved at : data/comparisons/04.B1.W14.01_04.M1.W09.02/Comparison_5/10\n",
      "Execution time:  145.89980602264404\n",
      "\n",
      "KEVOLVE: motif analyzer mode\n",
      "\n",
      "\n",
      "Identifying perfect matches...\n",
      "\n",
      "Identifying variations...\n"
     ]
    },
    {
     "name": "stderr",
     "output_type": "stream",
     "text": [
      "Processing k-mers: 100%|██████████| 112/112 [00:00<00:00, 4896.62it/s]\n",
      "Processing k-mers for variations: 100%|██████████| 112/112 [00:02<00:00, 49.57it/s]\n",
      "Processing k-mers to extract information:   0%|          | 0/112 [00:00<?, ?it/s]"
     ]
    },
    {
     "name": "stdout",
     "output_type": "stream",
     "text": [
      "\n",
      "Extract information related to signatures/variations...\n"
     ]
    },
    {
     "name": "stderr",
     "output_type": "stream",
     "text": [
      "Processing k-mers to extract information: 100%|██████████| 112/112 [00:16<00:00,  6.94it/s]\n"
     ]
    },
    {
     "name": "stdout",
     "output_type": "stream",
     "text": [
      "Execution time:  18.43861413002014\n",
      "Sample: 04.B1.W14.01_04.M1.W09.02 (Comparison_5: 11-mers)\n",
      "\n",
      "KEVOLVE: extraction mode\n",
      "\n",
      "Load sequences...\n",
      "Count k-mers...\n",
      "Generate matrices...\n",
      "Preprocessing...\n",
      "Solution search...\n",
      "\n",
      "Iteration: 1 | Attempt(s): 1 / 1\n",
      "Mean weighted score 0.815 Max weighted score 1.0 Mean unweighted score 0.666 Max unweighted score 1.0\n",
      "Number of genes : 1\n",
      "\n",
      "Identified solutions (109) saved at : data/comparisons/04.B1.W14.01_04.M1.W09.02/Comparison_5/11\n",
      "Execution time:  145.50171947479248\n",
      "\n",
      "KEVOLVE: motif analyzer mode\n",
      "\n",
      "\n",
      "Identifying perfect matches...\n",
      "\n",
      "Identifying variations...\n"
     ]
    },
    {
     "name": "stderr",
     "output_type": "stream",
     "text": [
      "Processing k-mers: 100%|██████████| 109/109 [00:00<00:00, 4798.62it/s]\n",
      "Processing k-mers for variations: 100%|██████████| 109/109 [00:02<00:00, 45.19it/s]\n",
      "Processing k-mers to extract information:   0%|          | 0/109 [00:00<?, ?it/s]"
     ]
    },
    {
     "name": "stdout",
     "output_type": "stream",
     "text": [
      "\n",
      "Extract information related to signatures/variations...\n"
     ]
    },
    {
     "name": "stderr",
     "output_type": "stream",
     "text": [
      "Processing k-mers to extract information: 100%|██████████| 109/109 [00:14<00:00,  7.66it/s]\n"
     ]
    },
    {
     "name": "stdout",
     "output_type": "stream",
     "text": [
      "Execution time:  16.68800163269043\n",
      "Sample: 04.B1.W14.01_04.M1.W09.02 (Comparison_5: 12-mers)\n",
      "\n",
      "KEVOLVE: extraction mode\n",
      "\n",
      "Load sequences...\n",
      "Count k-mers...\n",
      "Generate matrices...\n",
      "Preprocessing...\n",
      "Solution search...\n",
      "\n",
      "Iteration: 1 | Attempt(s): 1 / 1\n",
      "Mean weighted score 0.815 Max weighted score 1.0 Mean unweighted score 0.667 Max unweighted score 1.0\n",
      "Number of genes : 1\n",
      "\n",
      "Identified solutions (106) saved at : data/comparisons/04.B1.W14.01_04.M1.W09.02/Comparison_5/12\n",
      "Execution time:  145.3384108543396\n",
      "\n",
      "KEVOLVE: motif analyzer mode\n",
      "\n",
      "\n",
      "Identifying perfect matches...\n",
      "\n",
      "Identifying variations...\n"
     ]
    },
    {
     "name": "stderr",
     "output_type": "stream",
     "text": [
      "Processing k-mers: 100%|██████████| 106/106 [00:00<00:00, 4669.34it/s]\n",
      "Processing k-mers for variations: 100%|██████████| 106/106 [00:02<00:00, 41.25it/s]\n",
      "Processing k-mers to extract information:   1%|          | 1/106 [00:00<00:12,  8.59it/s]"
     ]
    },
    {
     "name": "stdout",
     "output_type": "stream",
     "text": [
      "\n",
      "Extract information related to signatures/variations...\n"
     ]
    },
    {
     "name": "stderr",
     "output_type": "stream",
     "text": [
      "Processing k-mers to extract information: 100%|██████████| 106/106 [00:12<00:00,  8.64it/s]\n"
     ]
    },
    {
     "name": "stdout",
     "output_type": "stream",
     "text": [
      "Execution time:  14.887115955352783\n",
      "Sample: 04.B1.W14.01_04.M1.W09.02 (Comparison_5: 13-mers)\n",
      "\n",
      "KEVOLVE: extraction mode\n",
      "\n",
      "Load sequences...\n",
      "Count k-mers...\n",
      "Generate matrices...\n",
      "Preprocessing...\n",
      "Solution search...\n",
      "\n",
      "Iteration: 1 | Attempt(s): 1 / 1\n",
      "Mean weighted score 0.815 Max weighted score 1.0 Mean unweighted score 0.668 Max unweighted score 1.0\n",
      "Number of genes : 1\n",
      "\n",
      "Identified solutions (94) saved at : data/comparisons/04.B1.W14.01_04.M1.W09.02/Comparison_5/13\n",
      "Execution time:  145.84728407859802\n",
      "\n",
      "KEVOLVE: motif analyzer mode\n",
      "\n",
      "\n",
      "Identifying perfect matches...\n",
      "\n",
      "Identifying variations...\n"
     ]
    },
    {
     "name": "stderr",
     "output_type": "stream",
     "text": [
      "Processing k-mers: 100%|██████████| 94/94 [00:00<00:00, 4559.98it/s]\n",
      "Processing k-mers for variations: 100%|██████████| 94/94 [00:02<00:00, 38.77it/s]\n",
      "Processing k-mers to extract information:   0%|          | 0/94 [00:00<?, ?it/s]"
     ]
    },
    {
     "name": "stdout",
     "output_type": "stream",
     "text": [
      "\n",
      "Extract information related to signatures/variations...\n"
     ]
    },
    {
     "name": "stderr",
     "output_type": "stream",
     "text": [
      "Processing k-mers to extract information: 100%|██████████| 94/94 [00:10<00:00,  9.31it/s]\n"
     ]
    },
    {
     "name": "stdout",
     "output_type": "stream",
     "text": [
      "Execution time:  12.559401512145996\n",
      "Sample: 04.B1.W14.01_04.M1.W09.02 (Comparison_5: 14-mers)\n",
      "\n",
      "KEVOLVE: extraction mode\n",
      "\n",
      "Load sequences...\n",
      "Count k-mers...\n",
      "Generate matrices...\n",
      "Preprocessing...\n",
      "Solution search...\n",
      "\n",
      "Iteration: 1 | Attempt(s): 1 / 1\n",
      "Mean weighted score 0.813 Max weighted score 1.0 Mean unweighted score 0.665 Max unweighted score 1.0\n",
      "Number of genes : 1\n",
      "\n",
      "Identified solutions (84) saved at : data/comparisons/04.B1.W14.01_04.M1.W09.02/Comparison_5/14\n",
      "Execution time:  145.183851480484\n",
      "\n",
      "KEVOLVE: motif analyzer mode\n",
      "\n",
      "\n",
      "Identifying perfect matches...\n",
      "\n",
      "Identifying variations...\n"
     ]
    },
    {
     "name": "stderr",
     "output_type": "stream",
     "text": [
      "Processing k-mers: 100%|██████████| 84/84 [00:00<00:00, 4729.72it/s]\n",
      "Processing k-mers for variations: 100%|██████████| 84/84 [00:02<00:00, 36.05it/s]\n",
      "Processing k-mers to extract information:   0%|          | 0/84 [00:00<?, ?it/s]"
     ]
    },
    {
     "name": "stdout",
     "output_type": "stream",
     "text": [
      "\n",
      "Extract information related to signatures/variations...\n"
     ]
    },
    {
     "name": "stderr",
     "output_type": "stream",
     "text": [
      "Processing k-mers to extract information: 100%|██████████| 84/84 [00:08<00:00,  9.54it/s]\n"
     ]
    },
    {
     "name": "stdout",
     "output_type": "stream",
     "text": [
      "Execution time:  11.176245927810669\n",
      "Sample: 04.B1.W14.01_04.M1.W09.02 (Comparison_5: 15-mers)\n",
      "\n",
      "KEVOLVE: extraction mode\n",
      "\n",
      "Load sequences...\n",
      "Count k-mers...\n",
      "Generate matrices...\n",
      "Preprocessing...\n",
      "Solution search...\n",
      "\n",
      "Iteration: 1 | Attempt(s): 1 / 1\n",
      "Mean weighted score 0.814 Max weighted score 1.0 Mean unweighted score 0.666 Max unweighted score 1.0\n",
      "Number of genes : 1\n",
      "\n",
      "Identified solutions (73) saved at : data/comparisons/04.B1.W14.01_04.M1.W09.02/Comparison_5/15\n",
      "Execution time:  145.37964344024658\n",
      "\n",
      "KEVOLVE: motif analyzer mode\n",
      "\n",
      "\n",
      "Identifying perfect matches...\n",
      "\n",
      "Identifying variations...\n"
     ]
    },
    {
     "name": "stderr",
     "output_type": "stream",
     "text": [
      "Processing k-mers: 100%|██████████| 73/73 [00:00<00:00, 4634.03it/s]\n",
      "Processing k-mers for variations: 100%|██████████| 73/73 [00:02<00:00, 33.12it/s]\n",
      "Processing k-mers to extract information:   0%|          | 0/73 [00:00<?, ?it/s]"
     ]
    },
    {
     "name": "stdout",
     "output_type": "stream",
     "text": [
      "\n",
      "Extract information related to signatures/variations...\n"
     ]
    },
    {
     "name": "stderr",
     "output_type": "stream",
     "text": [
      "Processing k-mers to extract information: 100%|██████████| 73/73 [00:07<00:00,  9.61it/s]\n"
     ]
    },
    {
     "name": "stdout",
     "output_type": "stream",
     "text": [
      "Execution time:  9.838515043258667\n",
      "Sample: 04.B1.W14.01_04.M1.W09.02 (Comparison_5: 16-mers)\n",
      "\n",
      "KEVOLVE: extraction mode\n",
      "\n",
      "Load sequences...\n",
      "Count k-mers...\n",
      "Generate matrices...\n",
      "Preprocessing...\n",
      "Solution search...\n",
      "\n",
      "Iteration: 1 | Attempt(s): 1 / 1\n",
      "Mean weighted score 0.813 Max weighted score 1.0 Mean unweighted score 0.664 Max unweighted score 1.0\n",
      "Number of genes : 1\n",
      "\n",
      "Identified solutions (65) saved at : data/comparisons/04.B1.W14.01_04.M1.W09.02/Comparison_5/16\n",
      "Execution time:  145.01637816429138\n",
      "\n",
      "KEVOLVE: motif analyzer mode\n",
      "\n",
      "\n",
      "Identifying perfect matches...\n",
      "\n",
      "Identifying variations...\n"
     ]
    },
    {
     "name": "stderr",
     "output_type": "stream",
     "text": [
      "Processing k-mers: 100%|██████████| 65/65 [00:00<00:00, 4503.52it/s]\n",
      "Processing k-mers for variations: 100%|██████████| 65/65 [00:02<00:00, 31.24it/s]\n",
      "Processing k-mers to extract information:   0%|          | 0/65 [00:00<?, ?it/s]"
     ]
    },
    {
     "name": "stdout",
     "output_type": "stream",
     "text": [
      "\n",
      "Extract information related to signatures/variations...\n"
     ]
    },
    {
     "name": "stderr",
     "output_type": "stream",
     "text": [
      "Processing k-mers to extract information: 100%|██████████| 65/65 [00:07<00:00,  8.55it/s]\n"
     ]
    },
    {
     "name": "stdout",
     "output_type": "stream",
     "text": [
      "Execution time:  9.721314907073975\n",
      "Sample: 04.B1.W14.01_04.M1.W09.02 (Comparison_5: 17-mers)\n",
      "\n",
      "KEVOLVE: extraction mode\n",
      "\n",
      "Load sequences...\n",
      "Count k-mers...\n",
      "Generate matrices...\n",
      "Preprocessing...\n",
      "Solution search...\n",
      "\n",
      "Iteration: 1 | Attempt(s): 1 / 1\n",
      "Mean weighted score 0.812 Max weighted score 1.0 Mean unweighted score 0.662 Max unweighted score 1.0\n",
      "Number of genes : 1\n",
      "\n",
      "Identified solutions (57) saved at : data/comparisons/04.B1.W14.01_04.M1.W09.02/Comparison_5/17\n",
      "Execution time:  145.52079153060913\n",
      "\n",
      "KEVOLVE: motif analyzer mode\n",
      "\n",
      "\n",
      "Identifying perfect matches...\n",
      "\n",
      "Identifying variations...\n"
     ]
    },
    {
     "name": "stderr",
     "output_type": "stream",
     "text": [
      "Processing k-mers: 100%|██████████| 57/57 [00:00<00:00, 4615.18it/s]\n",
      "Processing k-mers for variations: 100%|██████████| 57/57 [00:01<00:00, 29.25it/s]\n",
      "Processing k-mers to extract information:   0%|          | 0/57 [00:00<?, ?it/s]"
     ]
    },
    {
     "name": "stdout",
     "output_type": "stream",
     "text": [
      "\n",
      "Extract information related to signatures/variations...\n"
     ]
    },
    {
     "name": "stderr",
     "output_type": "stream",
     "text": [
      "Processing k-mers to extract information: 100%|██████████| 57/57 [00:06<00:00,  8.28it/s]\n"
     ]
    },
    {
     "name": "stdout",
     "output_type": "stream",
     "text": [
      "Execution time:  8.869184732437134\n",
      "Sample: 04.B1.W14.01_04.M1.W09.02 (Comparison_5: 18-mers)\n",
      "\n",
      "KEVOLVE: extraction mode\n",
      "\n",
      "Load sequences...\n",
      "Count k-mers...\n",
      "Generate matrices...\n",
      "Preprocessing...\n",
      "Solution search...\n",
      "\n",
      "Iteration: 1 | Attempt(s): 1 / 1\n",
      "Mean weighted score 0.813 Max weighted score 1.0 Mean unweighted score 0.663 Max unweighted score 1.0\n",
      "Number of genes : 1\n",
      "\n",
      "Identified solutions (49) saved at : data/comparisons/04.B1.W14.01_04.M1.W09.02/Comparison_5/18\n",
      "Execution time:  145.67856192588806\n",
      "\n",
      "KEVOLVE: motif analyzer mode\n",
      "\n",
      "\n",
      "Identifying perfect matches...\n",
      "\n",
      "Identifying variations...\n"
     ]
    },
    {
     "name": "stderr",
     "output_type": "stream",
     "text": [
      "Processing k-mers: 100%|██████████| 49/49 [00:00<00:00, 4372.04it/s]\n",
      "Processing k-mers for variations: 100%|██████████| 49/49 [00:01<00:00, 26.95it/s]\n",
      "Processing k-mers to extract information:   2%|▏         | 1/49 [00:00<00:05,  8.70it/s]"
     ]
    },
    {
     "name": "stdout",
     "output_type": "stream",
     "text": [
      "\n",
      "Extract information related to signatures/variations...\n"
     ]
    },
    {
     "name": "stderr",
     "output_type": "stream",
     "text": [
      "Processing k-mers to extract information: 100%|██████████| 49/49 [00:05<00:00,  8.97it/s]\n"
     ]
    },
    {
     "name": "stdout",
     "output_type": "stream",
     "text": [
      "Execution time:  7.31182861328125\n",
      "Sample: 04.B1.W14.01_04.M1.W09.02 (Comparison_5: 19-mers)\n",
      "\n",
      "KEVOLVE: extraction mode\n",
      "\n",
      "Load sequences...\n",
      "Count k-mers...\n",
      "Generate matrices...\n",
      "Preprocessing...\n",
      "Solution search...\n",
      "\n",
      "Iteration: 1 | Attempt(s): 1 / 1\n",
      "Mean weighted score 0.81 Max weighted score 1.0 Mean unweighted score 0.656 Max unweighted score 1.0\n",
      "Number of genes : 1\n",
      "\n",
      "Identified solutions (42) saved at : data/comparisons/04.B1.W14.01_04.M1.W09.02/Comparison_5/19\n",
      "Execution time:  145.41632533073425\n",
      "\n",
      "KEVOLVE: motif analyzer mode\n",
      "\n",
      "\n",
      "Identifying perfect matches...\n",
      "\n",
      "Identifying variations...\n"
     ]
    },
    {
     "name": "stderr",
     "output_type": "stream",
     "text": [
      "Processing k-mers: 100%|██████████| 42/42 [00:00<00:00, 4453.23it/s]\n",
      "Processing k-mers for variations: 100%|██████████| 42/42 [00:01<00:00, 25.29it/s]\n",
      "Processing k-mers to extract information:   0%|          | 0/42 [00:00<?, ?it/s]"
     ]
    },
    {
     "name": "stdout",
     "output_type": "stream",
     "text": [
      "\n",
      "Extract information related to signatures/variations...\n"
     ]
    },
    {
     "name": "stderr",
     "output_type": "stream",
     "text": [
      "Processing k-mers to extract information: 100%|██████████| 42/42 [00:05<00:00,  8.21it/s]\n"
     ]
    },
    {
     "name": "stdout",
     "output_type": "stream",
     "text": [
      "Execution time:  6.8089823722839355\n",
      "Sample: 04.B1.W14.01_04.M1.W09.02 (Comparison_5: 20-mers)\n",
      "\n",
      "KEVOLVE: extraction mode\n",
      "\n",
      "Load sequences...\n",
      "Count k-mers...\n",
      "Generate matrices...\n",
      "Preprocessing...\n",
      "Solution search...\n",
      "\n",
      "Iteration: 1 | Attempt(s): 1 / 1\n",
      "Mean weighted score 0.805 Max weighted score 1.0 Mean unweighted score 0.646 Max unweighted score 1.0\n",
      "Number of genes : 1\n",
      "\n",
      "Identified solutions (36) saved at : data/comparisons/04.B1.W14.01_04.M1.W09.02/Comparison_5/20\n",
      "Execution time:  145.37514734268188\n",
      "\n",
      "KEVOLVE: motif analyzer mode\n",
      "\n",
      "\n",
      "Identifying perfect matches...\n",
      "\n",
      "Identifying variations...\n"
     ]
    },
    {
     "name": "stderr",
     "output_type": "stream",
     "text": [
      "Processing k-mers: 100%|██████████| 36/36 [00:00<00:00, 4359.23it/s]\n",
      "Processing k-mers for variations: 100%|██████████| 36/36 [00:01<00:00, 23.00it/s]\n",
      "Processing k-mers to extract information:   0%|          | 0/36 [00:00<?, ?it/s]"
     ]
    },
    {
     "name": "stdout",
     "output_type": "stream",
     "text": [
      "\n",
      "Extract information related to signatures/variations...\n"
     ]
    },
    {
     "name": "stderr",
     "output_type": "stream",
     "text": [
      "Processing k-mers to extract information: 100%|██████████| 36/36 [00:04<00:00,  8.17it/s]\n"
     ]
    },
    {
     "name": "stdout",
     "output_type": "stream",
     "text": [
      "Execution time:  5.999509572982788\n",
      "Sample: 04.B1.W14.01_04.M1.W09.02 (Comparison_5: 21-mers)\n",
      "\n",
      "KEVOLVE: extraction mode\n",
      "\n",
      "Load sequences...\n",
      "Count k-mers...\n",
      "Generate matrices...\n",
      "Preprocessing...\n",
      "Solution search...\n",
      "\n",
      "Iteration: 1 | Attempt(s): 1 / 1\n",
      "Mean weighted score 0.806 Max weighted score 1.0 Mean unweighted score 0.647 Max unweighted score 1.0\n",
      "Number of genes : 1\n",
      "\n",
      "Identified solutions (31) saved at : data/comparisons/04.B1.W14.01_04.M1.W09.02/Comparison_5/21\n",
      "Execution time:  145.74907064437866\n",
      "\n",
      "KEVOLVE: motif analyzer mode\n",
      "\n",
      "\n",
      "Identifying perfect matches...\n",
      "\n",
      "Identifying variations...\n"
     ]
    },
    {
     "name": "stderr",
     "output_type": "stream",
     "text": [
      "Processing k-mers: 100%|██████████| 31/31 [00:00<00:00, 4216.20it/s]\n",
      "Processing k-mers for variations: 100%|██████████| 31/31 [00:01<00:00, 21.45it/s]\n",
      "Processing k-mers to extract information:   0%|          | 0/31 [00:00<?, ?it/s]"
     ]
    },
    {
     "name": "stdout",
     "output_type": "stream",
     "text": [
      "\n",
      "Extract information related to signatures/variations...\n"
     ]
    },
    {
     "name": "stderr",
     "output_type": "stream",
     "text": [
      "Processing k-mers to extract information: 100%|██████████| 31/31 [00:03<00:00,  8.33it/s]\n"
     ]
    },
    {
     "name": "stdout",
     "output_type": "stream",
     "text": [
      "Execution time:  5.19478440284729\n",
      "Sample: 04.B1.W14.01_04.M1.W09.02 (Comparison_2: 9-mers)\n",
      "\n",
      "KEVOLVE: extraction mode\n",
      "\n",
      "Load sequences...\n",
      "Count k-mers...\n",
      "Generate matrices...\n",
      "Preprocessing...\n",
      "Solution search...\n",
      "\n",
      "Iteration: 1 | Attempt(s): 1 / 1\n",
      "Mean weighted score 0.892 Max weighted score 1.0 Mean unweighted score 0.838 Max unweighted score 1.0\n",
      "Number of genes : 1\n",
      "\n",
      "Identified solutions (422) saved at : data/comparisons/04.B1.W14.01_04.M1.W09.02/Comparison_2/9\n",
      "Execution time:  144.82092595100403\n",
      "\n",
      "KEVOLVE: motif analyzer mode\n",
      "\n",
      "\n",
      "Identifying perfect matches...\n",
      "\n",
      "Identifying variations...\n"
     ]
    },
    {
     "name": "stderr",
     "output_type": "stream",
     "text": [
      "Processing k-mers: 100%|██████████| 422/422 [00:00<00:00, 6240.47it/s]\n",
      "Processing k-mers for variations: 100%|██████████| 422/422 [00:03<00:00, 106.36it/s]\n",
      "Processing k-mers to extract information:   0%|          | 0/422 [00:00<?, ?it/s]"
     ]
    },
    {
     "name": "stdout",
     "output_type": "stream",
     "text": [
      "\n",
      "Extract information related to signatures/variations...\n"
     ]
    },
    {
     "name": "stderr",
     "output_type": "stream",
     "text": [
      "Processing k-mers to extract information: 100%|██████████| 422/422 [02:27<00:00,  2.87it/s]\n"
     ]
    },
    {
     "name": "stdout",
     "output_type": "stream",
     "text": [
      "Execution time:  151.100239276886\n",
      "Sample: 04.B1.W14.01_04.M1.W09.02 (Comparison_2: 10-mers)\n",
      "\n",
      "KEVOLVE: extraction mode\n",
      "\n",
      "Load sequences...\n",
      "Count k-mers...\n",
      "Generate matrices...\n",
      "Preprocessing...\n",
      "Solution search...\n",
      "\n",
      "Iteration: 1 | Attempt(s): 1 / 1\n",
      "Mean weighted score 0.892 Max weighted score 1.0 Mean unweighted score 0.837 Max unweighted score 1.0\n",
      "Number of genes : 1\n",
      "\n",
      "Identified solutions (423) saved at : data/comparisons/04.B1.W14.01_04.M1.W09.02/Comparison_2/10\n",
      "Execution time:  144.7024998664856\n",
      "\n",
      "KEVOLVE: motif analyzer mode\n",
      "\n",
      "\n",
      "Identifying perfect matches...\n",
      "\n",
      "Identifying variations...\n"
     ]
    },
    {
     "name": "stderr",
     "output_type": "stream",
     "text": [
      "Processing k-mers: 100%|██████████| 423/423 [00:00<00:00, 6022.90it/s]\n",
      "Processing k-mers for variations: 100%|██████████| 423/423 [00:04<00:00, 98.29it/s] \n",
      "Processing k-mers to extract information:   0%|          | 0/423 [00:00<?, ?it/s]"
     ]
    },
    {
     "name": "stdout",
     "output_type": "stream",
     "text": [
      "\n",
      "Extract information related to signatures/variations...\n"
     ]
    },
    {
     "name": "stderr",
     "output_type": "stream",
     "text": [
      "Processing k-mers to extract information: 100%|██████████| 423/423 [01:04<00:00,  6.58it/s]\n"
     ]
    },
    {
     "name": "stdout",
     "output_type": "stream",
     "text": [
      "Execution time:  68.64980864524841\n",
      "Sample: 04.B1.W14.01_04.M1.W09.02 (Comparison_2: 11-mers)\n",
      "\n",
      "KEVOLVE: extraction mode\n",
      "\n",
      "Load sequences...\n",
      "Count k-mers...\n",
      "Generate matrices...\n",
      "Preprocessing...\n",
      "Solution search...\n",
      "\n",
      "Iteration: 1 | Attempt(s): 1 / 1\n",
      "Mean weighted score 0.886 Max weighted score 1.0 Mean unweighted score 0.828 Max unweighted score 1.0\n",
      "Number of genes : 1\n",
      "\n",
      "Identified solutions (417) saved at : data/comparisons/04.B1.W14.01_04.M1.W09.02/Comparison_2/11\n",
      "Execution time:  144.42684602737427\n",
      "\n",
      "KEVOLVE: motif analyzer mode\n",
      "\n",
      "\n",
      "Identifying perfect matches...\n",
      "\n",
      "Identifying variations...\n"
     ]
    },
    {
     "name": "stderr",
     "output_type": "stream",
     "text": [
      "Processing k-mers: 100%|██████████| 417/417 [00:00<00:00, 5946.72it/s]\n",
      "Processing k-mers for variations: 100%|██████████| 417/417 [00:04<00:00, 91.17it/s] \n",
      "Processing k-mers to extract information:   0%|          | 0/417 [00:00<?, ?it/s]"
     ]
    },
    {
     "name": "stdout",
     "output_type": "stream",
     "text": [
      "\n",
      "Extract information related to signatures/variations...\n"
     ]
    },
    {
     "name": "stderr",
     "output_type": "stream",
     "text": [
      "Processing k-mers to extract information: 100%|██████████| 417/417 [00:51<00:00,  8.10it/s]\n"
     ]
    },
    {
     "name": "stdout",
     "output_type": "stream",
     "text": [
      "Execution time:  56.153355836868286\n",
      "Sample: 04.B1.W14.01_04.M1.W09.02 (Comparison_2: 12-mers)\n",
      "\n",
      "KEVOLVE: extraction mode\n",
      "\n",
      "Load sequences...\n",
      "Count k-mers...\n",
      "Generate matrices...\n",
      "Preprocessing...\n",
      "Solution search...\n",
      "\n",
      "Iteration: 1 | Attempt(s): 1 / 1\n",
      "Mean weighted score 0.883 Max weighted score 1.0 Mean unweighted score 0.824 Max unweighted score 1.0\n",
      "Number of genes : 1\n",
      "\n",
      "Identified solutions (411) saved at : data/comparisons/04.B1.W14.01_04.M1.W09.02/Comparison_2/12\n",
      "Execution time:  144.97720575332642\n",
      "\n",
      "KEVOLVE: motif analyzer mode\n",
      "\n",
      "\n",
      "Identifying perfect matches...\n",
      "\n",
      "Identifying variations...\n"
     ]
    },
    {
     "name": "stderr",
     "output_type": "stream",
     "text": [
      "Processing k-mers: 100%|██████████| 411/411 [00:00<00:00, 6289.05it/s]\n",
      "Processing k-mers for variations: 100%|██████████| 411/411 [00:04<00:00, 85.18it/s]\n",
      "Processing k-mers to extract information:   0%|          | 0/411 [00:00<?, ?it/s]"
     ]
    },
    {
     "name": "stdout",
     "output_type": "stream",
     "text": [
      "\n",
      "Extract information related to signatures/variations...\n"
     ]
    },
    {
     "name": "stderr",
     "output_type": "stream",
     "text": [
      "Processing k-mers to extract information: 100%|██████████| 411/411 [00:43<00:00,  9.35it/s]\n"
     ]
    },
    {
     "name": "stdout",
     "output_type": "stream",
     "text": [
      "Execution time:  48.86250567436218\n",
      "Sample: 04.B1.W14.01_04.M1.W09.02 (Comparison_2: 13-mers)\n",
      "\n",
      "KEVOLVE: extraction mode\n",
      "\n",
      "Load sequences...\n",
      "Count k-mers...\n",
      "Generate matrices...\n",
      "Preprocessing...\n",
      "Solution search...\n",
      "\n",
      "Iteration: 1 | Attempt(s): 1 / 1\n",
      "Mean weighted score 0.876 Max weighted score 1.0 Mean unweighted score 0.813 Max unweighted score 1.0\n",
      "Number of genes : 1\n",
      "\n",
      "Identified solutions (397) saved at : data/comparisons/04.B1.W14.01_04.M1.W09.02/Comparison_2/13\n",
      "Execution time:  145.15991711616516\n",
      "\n",
      "KEVOLVE: motif analyzer mode\n",
      "\n",
      "\n",
      "Identifying perfect matches...\n",
      "\n",
      "Identifying variations...\n"
     ]
    },
    {
     "name": "stderr",
     "output_type": "stream",
     "text": [
      "Processing k-mers: 100%|██████████| 397/397 [00:00<00:00, 6231.57it/s]\n",
      "Processing k-mers for variations: 100%|██████████| 397/397 [00:04<00:00, 80.40it/s]\n",
      "Processing k-mers to extract information:   0%|          | 0/397 [00:00<?, ?it/s]"
     ]
    },
    {
     "name": "stdout",
     "output_type": "stream",
     "text": [
      "\n",
      "Extract information related to signatures/variations...\n"
     ]
    },
    {
     "name": "stderr",
     "output_type": "stream",
     "text": [
      "Processing k-mers to extract information: 100%|██████████| 397/397 [00:36<00:00, 10.75it/s]\n"
     ]
    },
    {
     "name": "stdout",
     "output_type": "stream",
     "text": [
      "Execution time:  41.9483368396759\n",
      "Sample: 04.B1.W14.01_04.M1.W09.02 (Comparison_2: 14-mers)\n",
      "\n",
      "KEVOLVE: extraction mode\n",
      "\n",
      "Load sequences...\n",
      "Count k-mers...\n",
      "Generate matrices...\n",
      "Preprocessing...\n",
      "Solution search...\n",
      "\n",
      "Iteration: 1 | Attempt(s): 1 / 1\n",
      "Mean weighted score 0.873 Max weighted score 1.0 Mean unweighted score 0.809 Max unweighted score 1.0\n",
      "Number of genes : 1\n",
      "\n",
      "Identified solutions (382) saved at : data/comparisons/04.B1.W14.01_04.M1.W09.02/Comparison_2/14\n",
      "Execution time:  144.93064427375793\n",
      "\n",
      "KEVOLVE: motif analyzer mode\n",
      "\n",
      "\n",
      "Identifying perfect matches...\n",
      "\n",
      "Identifying variations...\n"
     ]
    },
    {
     "name": "stderr",
     "output_type": "stream",
     "text": [
      "Processing k-mers: 100%|██████████| 382/382 [00:00<00:00, 6097.95it/s]\n",
      "Processing k-mers for variations: 100%|██████████| 382/382 [00:04<00:00, 77.08it/s]\n",
      "Processing k-mers to extract information:   0%|          | 1/382 [00:00<00:43,  8.67it/s]"
     ]
    },
    {
     "name": "stdout",
     "output_type": "stream",
     "text": [
      "\n",
      "Extract information related to signatures/variations...\n"
     ]
    },
    {
     "name": "stderr",
     "output_type": "stream",
     "text": [
      "Processing k-mers to extract information: 100%|██████████| 382/382 [00:35<00:00, 10.72it/s]\n"
     ]
    },
    {
     "name": "stdout",
     "output_type": "stream",
     "text": [
      "Execution time:  40.66384935379028\n",
      "Sample: 04.B1.W14.01_04.M1.W09.02 (Comparison_2: 15-mers)\n",
      "\n",
      "KEVOLVE: extraction mode\n",
      "\n",
      "Load sequences...\n",
      "Count k-mers...\n",
      "Generate matrices...\n",
      "Preprocessing...\n",
      "Solution search...\n",
      "\n",
      "Iteration: 1 | Attempt(s): 1 / 1\n",
      "Mean weighted score 0.87 Max weighted score 1.0 Mean unweighted score 0.803 Max unweighted score 1.0\n",
      "Number of genes : 1\n",
      "\n",
      "Identified solutions (366) saved at : data/comparisons/04.B1.W14.01_04.M1.W09.02/Comparison_2/15\n",
      "Execution time:  145.0067687034607\n",
      "\n",
      "KEVOLVE: motif analyzer mode\n",
      "\n",
      "\n",
      "Identifying perfect matches...\n",
      "\n",
      "Identifying variations...\n"
     ]
    },
    {
     "name": "stderr",
     "output_type": "stream",
     "text": [
      "Processing k-mers: 100%|██████████| 366/366 [00:00<00:00, 5905.22it/s]\n",
      "Processing k-mers for variations: 100%|██████████| 366/366 [00:04<00:00, 73.82it/s]\n",
      "Processing k-mers to extract information:   0%|          | 0/366 [00:00<?, ?it/s]"
     ]
    },
    {
     "name": "stdout",
     "output_type": "stream",
     "text": [
      "\n",
      "Extract information related to signatures/variations...\n"
     ]
    },
    {
     "name": "stderr",
     "output_type": "stream",
     "text": [
      "Processing k-mers to extract information: 100%|██████████| 366/366 [00:32<00:00, 11.25it/s]\n"
     ]
    },
    {
     "name": "stdout",
     "output_type": "stream",
     "text": [
      "Execution time:  37.575583696365356\n",
      "Sample: 04.B1.W14.01_04.M1.W09.02 (Comparison_2: 16-mers)\n",
      "\n",
      "KEVOLVE: extraction mode\n",
      "\n",
      "Load sequences...\n",
      "Count k-mers...\n",
      "Generate matrices...\n",
      "Preprocessing...\n",
      "Solution search...\n",
      "\n",
      "Iteration: 1 | Attempt(s): 1 / 1\n",
      "Mean weighted score 0.861 Max weighted score 1.0 Mean unweighted score 0.79 Max unweighted score 1.0\n",
      "Number of genes : 1\n",
      "\n",
      "Identified solutions (347) saved at : data/comparisons/04.B1.W14.01_04.M1.W09.02/Comparison_2/16\n",
      "Execution time:  144.40345644950867\n",
      "\n",
      "KEVOLVE: motif analyzer mode\n",
      "\n",
      "\n",
      "Identifying perfect matches...\n",
      "\n",
      "Identifying variations...\n"
     ]
    },
    {
     "name": "stderr",
     "output_type": "stream",
     "text": [
      "Processing k-mers: 100%|██████████| 347/347 [00:00<00:00, 5844.49it/s]\n",
      "Processing k-mers for variations: 100%|██████████| 347/347 [00:04<00:00, 70.52it/s]\n",
      "Processing k-mers to extract information:   0%|          | 1/347 [00:00<00:39,  8.79it/s]"
     ]
    },
    {
     "name": "stdout",
     "output_type": "stream",
     "text": [
      "\n",
      "Extract information related to signatures/variations...\n"
     ]
    },
    {
     "name": "stderr",
     "output_type": "stream",
     "text": [
      "Processing k-mers to extract information: 100%|██████████| 347/347 [00:36<00:00,  9.41it/s]\n"
     ]
    },
    {
     "name": "stdout",
     "output_type": "stream",
     "text": [
      "Execution time:  41.889801025390625\n",
      "Sample: 04.B1.W14.01_04.M1.W09.02 (Comparison_2: 17-mers)\n",
      "\n",
      "KEVOLVE: extraction mode\n",
      "\n",
      "Load sequences...\n",
      "Count k-mers...\n",
      "Generate matrices...\n",
      "Preprocessing...\n",
      "Solution search...\n",
      "\n",
      "Iteration: 1 | Attempt(s): 1 / 1\n",
      "Mean weighted score 0.857 Max weighted score 1.0 Mean unweighted score 0.783 Max unweighted score 1.0\n",
      "Number of genes : 1\n",
      "\n",
      "Identified solutions (326) saved at : data/comparisons/04.B1.W14.01_04.M1.W09.02/Comparison_2/17\n",
      "Execution time:  144.9223759174347\n",
      "\n",
      "KEVOLVE: motif analyzer mode\n",
      "\n",
      "\n",
      "Identifying perfect matches...\n",
      "\n",
      "Identifying variations...\n"
     ]
    },
    {
     "name": "stderr",
     "output_type": "stream",
     "text": [
      "Processing k-mers: 100%|██████████| 326/326 [00:00<00:00, 6233.10it/s]\n",
      "Processing k-mers for variations: 100%|██████████| 326/326 [00:04<00:00, 68.19it/s]\n",
      "Processing k-mers to extract information:   0%|          | 0/326 [00:00<?, ?it/s]"
     ]
    },
    {
     "name": "stdout",
     "output_type": "stream",
     "text": [
      "\n",
      "Extract information related to signatures/variations...\n"
     ]
    },
    {
     "name": "stderr",
     "output_type": "stream",
     "text": [
      "Processing k-mers to extract information: 100%|██████████| 326/326 [00:34<00:00,  9.38it/s]\n"
     ]
    },
    {
     "name": "stdout",
     "output_type": "stream",
     "text": [
      "Execution time:  39.61319613456726\n",
      "Sample: 04.B1.W14.01_04.M1.W09.02 (Comparison_2: 18-mers)\n",
      "\n",
      "KEVOLVE: extraction mode\n",
      "\n",
      "Load sequences...\n",
      "Count k-mers...\n",
      "Generate matrices...\n",
      "Preprocessing...\n",
      "Solution search...\n",
      "\n",
      "Iteration: 1 | Attempt(s): 1 / 1\n",
      "Mean weighted score 0.855 Max weighted score 1.0 Mean unweighted score 0.782 Max unweighted score 1.0\n",
      "Number of genes : 1\n",
      "\n",
      "Identified solutions (306) saved at : data/comparisons/04.B1.W14.01_04.M1.W09.02/Comparison_2/18\n",
      "Execution time:  144.93418908119202\n",
      "\n",
      "KEVOLVE: motif analyzer mode\n",
      "\n",
      "\n",
      "Identifying perfect matches...\n",
      "\n",
      "Identifying variations...\n"
     ]
    },
    {
     "name": "stderr",
     "output_type": "stream",
     "text": [
      "Processing k-mers: 100%|██████████| 306/306 [00:00<00:00, 6047.85it/s]\n",
      "Processing k-mers for variations: 100%|██████████| 306/306 [00:04<00:00, 65.68it/s]\n",
      "Processing k-mers to extract information:   0%|          | 0/306 [00:00<?, ?it/s]"
     ]
    },
    {
     "name": "stdout",
     "output_type": "stream",
     "text": [
      "\n",
      "Extract information related to signatures/variations...\n"
     ]
    },
    {
     "name": "stderr",
     "output_type": "stream",
     "text": [
      "Processing k-mers to extract information: 100%|██████████| 306/306 [00:30<00:00,  9.96it/s]\n"
     ]
    },
    {
     "name": "stdout",
     "output_type": "stream",
     "text": [
      "Execution time:  35.446091651916504\n",
      "Sample: 04.B1.W14.01_04.M1.W09.02 (Comparison_2: 19-mers)\n",
      "\n",
      "KEVOLVE: extraction mode\n",
      "\n",
      "Load sequences...\n",
      "Count k-mers...\n",
      "Generate matrices...\n",
      "Preprocessing...\n",
      "Solution search...\n",
      "\n",
      "Iteration: 1 | Attempt(s): 1 / 1\n",
      "Mean weighted score 0.851 Max weighted score 1.0 Mean unweighted score 0.776 Max unweighted score 1.0\n",
      "Number of genes : 1\n",
      "\n",
      "Identified solutions (287) saved at : data/comparisons/04.B1.W14.01_04.M1.W09.02/Comparison_2/19\n",
      "Execution time:  145.13013434410095\n",
      "\n",
      "KEVOLVE: motif analyzer mode\n",
      "\n",
      "\n",
      "Identifying perfect matches...\n",
      "\n",
      "Identifying variations...\n"
     ]
    },
    {
     "name": "stderr",
     "output_type": "stream",
     "text": [
      "Processing k-mers: 100%|██████████| 287/287 [00:00<00:00, 6185.24it/s]\n",
      "Processing k-mers for variations: 100%|██████████| 287/287 [00:04<00:00, 63.53it/s]\n",
      "Processing k-mers to extract information:   0%|          | 0/287 [00:00<?, ?it/s]"
     ]
    },
    {
     "name": "stdout",
     "output_type": "stream",
     "text": [
      "\n",
      "Extract information related to signatures/variations...\n"
     ]
    },
    {
     "name": "stderr",
     "output_type": "stream",
     "text": [
      "Processing k-mers to extract information: 100%|██████████| 287/287 [00:29<00:00,  9.84it/s]\n"
     ]
    },
    {
     "name": "stdout",
     "output_type": "stream",
     "text": [
      "Execution time:  33.75681519508362\n",
      "Sample: 04.B1.W14.01_04.M1.W09.02 (Comparison_2: 20-mers)\n",
      "\n",
      "KEVOLVE: extraction mode\n",
      "\n",
      "Load sequences...\n",
      "Count k-mers...\n",
      "Generate matrices...\n",
      "Preprocessing...\n",
      "Solution search...\n",
      "\n",
      "Iteration: 1 | Attempt(s): 1 / 1\n",
      "Mean weighted score 0.847 Max weighted score 1.0 Mean unweighted score 0.771 Max unweighted score 1.0\n",
      "Number of genes : 1\n",
      "\n",
      "Identified solutions (269) saved at : data/comparisons/04.B1.W14.01_04.M1.W09.02/Comparison_2/20\n",
      "Execution time:  145.74636244773865\n",
      "\n",
      "KEVOLVE: motif analyzer mode\n",
      "\n",
      "\n",
      "Identifying perfect matches...\n",
      "\n",
      "Identifying variations...\n"
     ]
    },
    {
     "name": "stderr",
     "output_type": "stream",
     "text": [
      "Processing k-mers: 100%|██████████| 269/269 [00:00<00:00, 6221.32it/s]\n",
      "Processing k-mers for variations: 100%|██████████| 269/269 [00:04<00:00, 60.87it/s]\n",
      "Processing k-mers to extract information:   0%|          | 0/269 [00:00<?, ?it/s]"
     ]
    },
    {
     "name": "stdout",
     "output_type": "stream",
     "text": [
      "\n",
      "Extract information related to signatures/variations...\n"
     ]
    },
    {
     "name": "stderr",
     "output_type": "stream",
     "text": [
      "Processing k-mers to extract information: 100%|██████████| 269/269 [00:27<00:00,  9.63it/s]\n"
     ]
    },
    {
     "name": "stdout",
     "output_type": "stream",
     "text": [
      "Execution time:  32.43023061752319\n",
      "Sample: 04.B1.W14.01_04.M1.W09.02 (Comparison_2: 21-mers)\n",
      "\n",
      "KEVOLVE: extraction mode\n",
      "\n",
      "Load sequences...\n",
      "Count k-mers...\n",
      "Generate matrices...\n",
      "Preprocessing...\n",
      "Solution search...\n",
      "\n",
      "Iteration: 1 | Attempt(s): 1 / 1\n",
      "Mean weighted score 0.842 Max weighted score 1.0 Mean unweighted score 0.762 Max unweighted score 1.0\n",
      "Number of genes : 1\n",
      "\n",
      "Identified solutions (251) saved at : data/comparisons/04.B1.W14.01_04.M1.W09.02/Comparison_2/21\n",
      "Execution time:  145.34401631355286\n",
      "\n",
      "KEVOLVE: motif analyzer mode\n",
      "\n",
      "\n",
      "Identifying perfect matches...\n",
      "\n",
      "Identifying variations...\n"
     ]
    },
    {
     "name": "stderr",
     "output_type": "stream",
     "text": [
      "Processing k-mers: 100%|██████████| 251/251 [00:00<00:00, 6387.47it/s]\n",
      "Processing k-mers for variations: 100%|██████████| 251/251 [00:04<00:00, 59.18it/s]\n",
      "Processing k-mers to extract information:   0%|          | 0/251 [00:00<?, ?it/s]"
     ]
    },
    {
     "name": "stdout",
     "output_type": "stream",
     "text": [
      "\n",
      "Extract information related to signatures/variations...\n"
     ]
    },
    {
     "name": "stderr",
     "output_type": "stream",
     "text": [
      "Processing k-mers to extract information: 100%|██████████| 251/251 [00:22<00:00, 11.09it/s]\n"
     ]
    },
    {
     "name": "stdout",
     "output_type": "stream",
     "text": [
      "Execution time:  26.929728507995605\n",
      "Sample: 04.B1.W14.01_04.M1.W09.02 (Comparison_3: 9-mers)\n",
      "\n",
      "KEVOLVE: extraction mode\n",
      "\n",
      "Load sequences...\n",
      "Count k-mers...\n",
      "Generate matrices...\n",
      "Preprocessing...\n",
      "Solution search...\n",
      "\n",
      "Iteration: 1 | Attempt(s): 1 / 1\n",
      "Mean weighted score 0.8 Max weighted score 1.0 Mean unweighted score 0.781 Max unweighted score 1.0\n",
      "Number of genes : 1\n",
      "\n",
      "Identified solutions (298) saved at : data/comparisons/04.B1.W14.01_04.M1.W09.02/Comparison_3/9\n",
      "Execution time:  144.9332664012909\n",
      "\n",
      "KEVOLVE: motif analyzer mode\n",
      "\n",
      "\n",
      "Identifying perfect matches...\n",
      "\n",
      "Identifying variations...\n"
     ]
    },
    {
     "name": "stderr",
     "output_type": "stream",
     "text": [
      "Processing k-mers: 100%|██████████| 298/298 [00:00<00:00, 7076.07it/s]\n",
      "Processing k-mers for variations: 100%|██████████| 298/298 [00:02<00:00, 128.45it/s]\n",
      "Processing k-mers to extract information:   0%|          | 1/298 [00:00<00:44,  6.69it/s]"
     ]
    },
    {
     "name": "stdout",
     "output_type": "stream",
     "text": [
      "\n",
      "Extract information related to signatures/variations...\n"
     ]
    },
    {
     "name": "stderr",
     "output_type": "stream",
     "text": [
      "Processing k-mers to extract information: 100%|██████████| 298/298 [01:14<00:00,  3.99it/s]\n"
     ]
    },
    {
     "name": "stdout",
     "output_type": "stream",
     "text": [
      "Execution time:  77.13948321342468\n",
      "Sample: 04.B1.W14.01_04.M1.W09.02 (Comparison_3: 10-mers)\n",
      "\n",
      "KEVOLVE: extraction mode\n",
      "\n",
      "Load sequences...\n",
      "Count k-mers...\n",
      "Generate matrices...\n",
      "Preprocessing...\n",
      "Solution search...\n",
      "\n",
      "Iteration: 1 | Attempt(s): 1 / 1\n",
      "Mean weighted score 0.797 Max weighted score 1.0 Mean unweighted score 0.778 Max unweighted score 1.0\n",
      "Number of genes : 1\n",
      "\n",
      "Identified solutions (300) saved at : data/comparisons/04.B1.W14.01_04.M1.W09.02/Comparison_3/10\n",
      "Execution time:  144.33707809448242\n",
      "\n",
      "KEVOLVE: motif analyzer mode\n",
      "\n",
      "\n",
      "Identifying perfect matches...\n",
      "\n",
      "Identifying variations...\n"
     ]
    },
    {
     "name": "stderr",
     "output_type": "stream",
     "text": [
      "Processing k-mers: 100%|██████████| 300/300 [00:00<00:00, 7046.88it/s]\n",
      "Processing k-mers for variations: 100%|██████████| 300/300 [00:02<00:00, 117.31it/s]\n",
      "Processing k-mers to extract information:   0%|          | 0/300 [00:00<?, ?it/s]"
     ]
    },
    {
     "name": "stdout",
     "output_type": "stream",
     "text": [
      "\n",
      "Extract information related to signatures/variations...\n"
     ]
    },
    {
     "name": "stderr",
     "output_type": "stream",
     "text": [
      "Processing k-mers to extract information: 100%|██████████| 300/300 [00:32<00:00,  9.35it/s]\n"
     ]
    },
    {
     "name": "stdout",
     "output_type": "stream",
     "text": [
      "Execution time:  34.70319938659668\n",
      "Sample: 04.B1.W14.01_04.M1.W09.02 (Comparison_3: 11-mers)\n",
      "\n",
      "KEVOLVE: extraction mode\n",
      "\n",
      "Load sequences...\n",
      "Count k-mers...\n",
      "Generate matrices...\n",
      "Preprocessing...\n",
      "Solution search...\n",
      "\n",
      "Iteration: 1 | Attempt(s): 1 / 1\n",
      "Mean weighted score 0.788 Max weighted score 1.0 Mean unweighted score 0.768 Max unweighted score 1.0\n",
      "Number of genes : 1\n",
      "\n",
      "Identified solutions (296) saved at : data/comparisons/04.B1.W14.01_04.M1.W09.02/Comparison_3/11\n",
      "Execution time:  144.49912643432617\n",
      "\n",
      "KEVOLVE: motif analyzer mode\n",
      "\n",
      "\n",
      "Identifying perfect matches...\n",
      "\n",
      "Identifying variations...\n"
     ]
    },
    {
     "name": "stderr",
     "output_type": "stream",
     "text": [
      "Processing k-mers: 100%|██████████| 296/296 [00:00<00:00, 7037.90it/s]\n",
      "Processing k-mers for variations: 100%|██████████| 296/296 [00:02<00:00, 107.29it/s]\n",
      "Processing k-mers to extract information:   0%|          | 1/296 [00:00<00:44,  6.62it/s]"
     ]
    },
    {
     "name": "stdout",
     "output_type": "stream",
     "text": [
      "\n",
      "Extract information related to signatures/variations...\n"
     ]
    },
    {
     "name": "stderr",
     "output_type": "stream",
     "text": [
      "Processing k-mers to extract information: 100%|██████████| 296/296 [00:24<00:00, 11.86it/s]\n"
     ]
    },
    {
     "name": "stdout",
     "output_type": "stream",
     "text": [
      "Execution time:  27.779861450195312\n",
      "Sample: 04.B1.W14.01_04.M1.W09.02 (Comparison_3: 12-mers)\n",
      "\n",
      "KEVOLVE: extraction mode\n",
      "\n",
      "Load sequences...\n",
      "Count k-mers...\n",
      "Generate matrices...\n",
      "Preprocessing...\n",
      "Solution search...\n",
      "\n",
      "Iteration: 1 | Attempt(s): 1 / 1\n",
      "Mean weighted score 0.784 Max weighted score 1.0 Mean unweighted score 0.764 Max unweighted score 1.0\n",
      "Number of genes : 1\n",
      "\n",
      "Identified solutions (293) saved at : data/comparisons/04.B1.W14.01_04.M1.W09.02/Comparison_3/12\n",
      "Execution time:  144.82353496551514\n",
      "\n",
      "KEVOLVE: motif analyzer mode\n",
      "\n",
      "\n",
      "Identifying perfect matches...\n",
      "\n",
      "Identifying variations...\n"
     ]
    },
    {
     "name": "stderr",
     "output_type": "stream",
     "text": [
      "Processing k-mers: 100%|██████████| 293/293 [00:00<00:00, 7157.77it/s]\n",
      "Processing k-mers for variations: 100%|██████████| 293/293 [00:02<00:00, 99.13it/s] \n",
      "Processing k-mers to extract information:   0%|          | 0/293 [00:00<?, ?it/s]"
     ]
    },
    {
     "name": "stdout",
     "output_type": "stream",
     "text": [
      "\n",
      "Extract information related to signatures/variations...\n"
     ]
    },
    {
     "name": "stderr",
     "output_type": "stream",
     "text": [
      "Processing k-mers to extract information: 100%|██████████| 293/293 [00:21<00:00, 13.66it/s]\n"
     ]
    },
    {
     "name": "stdout",
     "output_type": "stream",
     "text": [
      "Execution time:  24.469475507736206\n",
      "Sample: 04.B1.W14.01_04.M1.W09.02 (Comparison_3: 13-mers)\n",
      "\n",
      "KEVOLVE: extraction mode\n",
      "\n",
      "Load sequences...\n",
      "Count k-mers...\n",
      "Generate matrices...\n",
      "Preprocessing...\n",
      "Solution search...\n",
      "\n",
      "Iteration: 1 | Attempt(s): 1 / 1\n",
      "Mean weighted score 0.778 Max weighted score 1.0 Mean unweighted score 0.758 Max unweighted score 1.0\n",
      "Number of genes : 1\n",
      "\n",
      "Identified solutions (289) saved at : data/comparisons/04.B1.W14.01_04.M1.W09.02/Comparison_3/13\n",
      "Execution time:  144.7208127975464\n",
      "\n",
      "KEVOLVE: motif analyzer mode\n",
      "\n",
      "\n",
      "Identifying perfect matches...\n",
      "\n",
      "Identifying variations...\n"
     ]
    },
    {
     "name": "stderr",
     "output_type": "stream",
     "text": [
      "Processing k-mers: 100%|██████████| 289/289 [00:00<00:00, 6395.58it/s]\n",
      "Processing k-mers for variations: 100%|██████████| 289/289 [00:03<00:00, 92.02it/s]\n",
      "Processing k-mers to extract information:   0%|          | 0/289 [00:00<?, ?it/s]"
     ]
    },
    {
     "name": "stdout",
     "output_type": "stream",
     "text": [
      "\n",
      "Extract information related to signatures/variations...\n"
     ]
    },
    {
     "name": "stderr",
     "output_type": "stream",
     "text": [
      "Processing k-mers to extract information: 100%|██████████| 289/289 [00:18<00:00, 15.80it/s]\n"
     ]
    },
    {
     "name": "stdout",
     "output_type": "stream",
     "text": [
      "Execution time:  21.497997045516968\n",
      "Sample: 04.B1.W14.01_04.M1.W09.02 (Comparison_3: 14-mers)\n",
      "\n",
      "KEVOLVE: extraction mode\n",
      "\n",
      "Load sequences...\n",
      "Count k-mers...\n",
      "Generate matrices...\n",
      "Preprocessing...\n",
      "Solution search...\n",
      "\n",
      "Iteration: 1 | Attempt(s): 1 / 1\n",
      "Mean weighted score 0.828 Max weighted score 1.0 Mean unweighted score 0.815 Max unweighted score 1.0\n",
      "Number of genes : 1\n",
      "\n",
      "Identified solutions (284) saved at : data/comparisons/04.B1.W14.01_04.M1.W09.02/Comparison_3/14\n",
      "Execution time:  144.63241505622864\n",
      "\n",
      "KEVOLVE: motif analyzer mode\n",
      "\n",
      "\n",
      "Identifying perfect matches...\n",
      "\n",
      "Identifying variations...\n"
     ]
    },
    {
     "name": "stderr",
     "output_type": "stream",
     "text": [
      "Processing k-mers: 100%|██████████| 284/284 [00:00<00:00, 6894.21it/s]\n",
      "Processing k-mers for variations: 100%|██████████| 284/284 [00:03<00:00, 85.47it/s]\n"
     ]
    },
    {
     "name": "stdout",
     "output_type": "stream",
     "text": [
      "\n",
      "Extract information related to signatures/variations...\n"
     ]
    },
    {
     "name": "stderr",
     "output_type": "stream",
     "text": [
      "Processing k-mers to extract information: 100%|██████████| 284/284 [00:18<00:00, 15.62it/s]\n"
     ]
    },
    {
     "name": "stdout",
     "output_type": "stream",
     "text": [
      "Execution time:  21.568928241729736\n",
      "Sample: 04.B1.W14.01_04.M1.W09.02 (Comparison_3: 15-mers)\n",
      "\n",
      "KEVOLVE: extraction mode\n",
      "\n",
      "Load sequences...\n",
      "Count k-mers...\n",
      "Generate matrices...\n",
      "Preprocessing...\n",
      "Solution search...\n",
      "\n",
      "Iteration: 1 | Attempt(s): 1 / 1\n",
      "Mean weighted score 0.822 Max weighted score 1.0 Mean unweighted score 0.809 Max unweighted score 1.0\n",
      "Number of genes : 1\n",
      "\n",
      "Identified solutions (280) saved at : data/comparisons/04.B1.W14.01_04.M1.W09.02/Comparison_3/15\n",
      "Execution time:  144.72061967849731\n",
      "\n",
      "KEVOLVE: motif analyzer mode\n",
      "\n",
      "\n",
      "Identifying perfect matches...\n",
      "\n",
      "Identifying variations...\n"
     ]
    },
    {
     "name": "stderr",
     "output_type": "stream",
     "text": [
      "Processing k-mers: 100%|██████████| 280/280 [00:00<00:00, 7094.52it/s]\n",
      "Processing k-mers for variations: 100%|██████████| 280/280 [00:03<00:00, 80.82it/s]\n",
      "Processing k-mers to extract information:   0%|          | 0/280 [00:00<?, ?it/s]"
     ]
    },
    {
     "name": "stdout",
     "output_type": "stream",
     "text": [
      "\n",
      "Extract information related to signatures/variations...\n"
     ]
    },
    {
     "name": "stderr",
     "output_type": "stream",
     "text": [
      "Processing k-mers to extract information: 100%|██████████| 280/280 [00:16<00:00, 17.06it/s]\n"
     ]
    },
    {
     "name": "stdout",
     "output_type": "stream",
     "text": [
      "Execution time:  19.939703941345215\n",
      "Sample: 04.B1.W14.01_04.M1.W09.02 (Comparison_3: 16-mers)\n",
      "\n",
      "KEVOLVE: extraction mode\n",
      "\n",
      "Load sequences...\n",
      "Count k-mers...\n",
      "Generate matrices...\n",
      "Preprocessing...\n",
      "Solution search...\n",
      "\n",
      "Iteration: 1 | Attempt(s): 1 / 1\n",
      "Mean weighted score 0.817 Max weighted score 1.0 Mean unweighted score 0.803 Max unweighted score 1.0\n",
      "Number of genes : 1\n",
      "\n",
      "Identified solutions (268) saved at : data/comparisons/04.B1.W14.01_04.M1.W09.02/Comparison_3/16\n",
      "Execution time:  144.94083166122437\n",
      "\n",
      "KEVOLVE: motif analyzer mode\n",
      "\n",
      "\n",
      "Identifying perfect matches...\n",
      "\n",
      "Identifying variations...\n"
     ]
    },
    {
     "name": "stderr",
     "output_type": "stream",
     "text": [
      "Processing k-mers: 100%|██████████| 268/268 [00:00<00:00, 7067.07it/s]\n",
      "Processing k-mers for variations: 100%|██████████| 268/268 [00:03<00:00, 76.22it/s]\n",
      "Processing k-mers to extract information:   0%|          | 0/268 [00:00<?, ?it/s]"
     ]
    },
    {
     "name": "stdout",
     "output_type": "stream",
     "text": [
      "\n",
      "Extract information related to signatures/variations...\n"
     ]
    },
    {
     "name": "stderr",
     "output_type": "stream",
     "text": [
      "Processing k-mers to extract information: 100%|██████████| 268/268 [00:20<00:00, 13.32it/s]\n"
     ]
    },
    {
     "name": "stdout",
     "output_type": "stream",
     "text": [
      "Execution time:  23.691259384155273\n",
      "Sample: 04.B1.W14.01_04.M1.W09.02 (Comparison_3: 17-mers)\n",
      "\n",
      "KEVOLVE: extraction mode\n",
      "\n",
      "Load sequences...\n",
      "Count k-mers...\n",
      "Generate matrices...\n",
      "Preprocessing...\n",
      "Solution search...\n",
      "\n",
      "Iteration: 1 | Attempt(s): 1 / 1\n",
      "Mean weighted score 0.813 Max weighted score 1.0 Mean unweighted score 0.799 Max unweighted score 1.0\n",
      "Number of genes : 1\n",
      "\n",
      "Identified solutions (256) saved at : data/comparisons/04.B1.W14.01_04.M1.W09.02/Comparison_3/17\n",
      "Execution time:  144.18304300308228\n",
      "\n",
      "KEVOLVE: motif analyzer mode\n",
      "\n",
      "\n",
      "Identifying perfect matches...\n",
      "\n",
      "Identifying variations...\n"
     ]
    },
    {
     "name": "stderr",
     "output_type": "stream",
     "text": [
      "Processing k-mers: 100%|██████████| 256/256 [00:00<00:00, 6984.91it/s]\n",
      "Processing k-mers for variations: 100%|██████████| 256/256 [00:03<00:00, 72.68it/s]\n",
      "Processing k-mers to extract information:   0%|          | 1/256 [00:00<00:36,  6.90it/s]"
     ]
    },
    {
     "name": "stdout",
     "output_type": "stream",
     "text": [
      "\n",
      "Extract information related to signatures/variations...\n"
     ]
    },
    {
     "name": "stderr",
     "output_type": "stream",
     "text": [
      "Processing k-mers to extract information: 100%|██████████| 256/256 [00:19<00:00, 13.30it/s]\n"
     ]
    },
    {
     "name": "stdout",
     "output_type": "stream",
     "text": [
      "Execution time:  22.832884311676025\n",
      "Sample: 04.B1.W14.01_04.M1.W09.02 (Comparison_3: 18-mers)\n",
      "\n",
      "KEVOLVE: extraction mode\n",
      "\n",
      "Load sequences...\n",
      "Count k-mers...\n",
      "Generate matrices...\n",
      "Preprocessing...\n",
      "Solution search...\n",
      "\n",
      "Iteration: 1 | Attempt(s): 1 / 1\n",
      "Mean weighted score 0.805 Max weighted score 1.0 Mean unweighted score 0.79 Max unweighted score 1.0\n",
      "Number of genes : 1\n",
      "\n",
      "Identified solutions (244) saved at : data/comparisons/04.B1.W14.01_04.M1.W09.02/Comparison_3/18\n",
      "Execution time:  144.33345580101013\n",
      "\n",
      "KEVOLVE: motif analyzer mode\n",
      "\n",
      "\n",
      "Identifying perfect matches...\n",
      "\n",
      "Identifying variations...\n"
     ]
    },
    {
     "name": "stderr",
     "output_type": "stream",
     "text": [
      "Processing k-mers: 100%|██████████| 244/244 [00:00<00:00, 7001.65it/s]\n",
      "Processing k-mers for variations: 100%|██████████| 244/244 [00:03<00:00, 68.96it/s]\n",
      "Processing k-mers to extract information:   0%|          | 0/244 [00:00<?, ?it/s]"
     ]
    },
    {
     "name": "stdout",
     "output_type": "stream",
     "text": [
      "\n",
      "Extract information related to signatures/variations...\n"
     ]
    },
    {
     "name": "stderr",
     "output_type": "stream",
     "text": [
      "Processing k-mers to extract information: 100%|██████████| 244/244 [00:17<00:00, 13.72it/s]\n"
     ]
    },
    {
     "name": "stdout",
     "output_type": "stream",
     "text": [
      "Execution time:  21.37758231163025\n",
      "Sample: 04.B1.W14.01_04.M1.W09.02 (Comparison_3: 19-mers)\n",
      "\n",
      "KEVOLVE: extraction mode\n",
      "\n",
      "Load sequences...\n",
      "Count k-mers...\n",
      "Generate matrices...\n",
      "Preprocessing...\n",
      "Solution search...\n",
      "\n",
      "Iteration: 1 | Attempt(s): 1 / 1\n",
      "Mean weighted score 0.766 Max weighted score 1.0 Mean unweighted score 0.746 Max unweighted score 1.0\n",
      "Number of genes : 1\n",
      "\n",
      "Identified solutions (231) saved at : data/comparisons/04.B1.W14.01_04.M1.W09.02/Comparison_3/19\n",
      "Execution time:  145.03526830673218\n",
      "\n",
      "KEVOLVE: motif analyzer mode\n",
      "\n",
      "\n",
      "Identifying perfect matches...\n",
      "\n",
      "Identifying variations...\n"
     ]
    },
    {
     "name": "stderr",
     "output_type": "stream",
     "text": [
      "Processing k-mers: 100%|██████████| 231/231 [00:00<00:00, 7005.97it/s]\n",
      "Processing k-mers for variations: 100%|██████████| 231/231 [00:03<00:00, 65.38it/s]\n",
      "Processing k-mers to extract information:   0%|          | 0/231 [00:00<?, ?it/s]"
     ]
    },
    {
     "name": "stdout",
     "output_type": "stream",
     "text": [
      "\n",
      "Extract information related to signatures/variations...\n"
     ]
    },
    {
     "name": "stderr",
     "output_type": "stream",
     "text": [
      "Processing k-mers to extract information: 100%|██████████| 231/231 [00:17<00:00, 13.21it/s]\n"
     ]
    },
    {
     "name": "stdout",
     "output_type": "stream",
     "text": [
      "Execution time:  21.072529077529907\n",
      "Sample: 04.B1.W14.01_04.M1.W09.02 (Comparison_3: 20-mers)\n",
      "\n",
      "KEVOLVE: extraction mode\n",
      "\n",
      "Load sequences...\n",
      "Count k-mers...\n",
      "Generate matrices...\n",
      "Preprocessing...\n",
      "Solution search...\n",
      "\n",
      "Iteration: 1 | Attempt(s): 1 / 1\n",
      "Mean weighted score 0.761 Max weighted score 1.0 Mean unweighted score 0.74 Max unweighted score 1.0\n",
      "Number of genes : 1\n",
      "\n",
      "Identified solutions (220) saved at : data/comparisons/04.B1.W14.01_04.M1.W09.02/Comparison_3/20\n",
      "Execution time:  144.48910427093506\n",
      "\n",
      "KEVOLVE: motif analyzer mode\n",
      "\n",
      "\n",
      "Identifying perfect matches...\n",
      "\n",
      "Identifying variations...\n"
     ]
    },
    {
     "name": "stderr",
     "output_type": "stream",
     "text": [
      "Processing k-mers: 100%|██████████| 220/220 [00:00<00:00, 7056.15it/s]\n",
      "Processing k-mers for variations: 100%|██████████| 220/220 [00:03<00:00, 62.62it/s]\n",
      "Processing k-mers to extract information:   0%|          | 0/220 [00:00<?, ?it/s]"
     ]
    },
    {
     "name": "stdout",
     "output_type": "stream",
     "text": [
      "\n",
      "Extract information related to signatures/variations...\n"
     ]
    },
    {
     "name": "stderr",
     "output_type": "stream",
     "text": [
      "Processing k-mers to extract information: 100%|██████████| 220/220 [00:16<00:00, 13.36it/s]\n"
     ]
    },
    {
     "name": "stdout",
     "output_type": "stream",
     "text": [
      "Execution time:  20.036285161972046\n",
      "Sample: 04.B1.W14.01_04.M1.W09.02 (Comparison_3: 21-mers)\n",
      "\n",
      "KEVOLVE: extraction mode\n",
      "\n",
      "Load sequences...\n",
      "Count k-mers...\n",
      "Generate matrices...\n",
      "Preprocessing...\n",
      "Solution search...\n",
      "\n",
      "Iteration: 1 | Attempt(s): 1 / 1\n",
      "Mean weighted score 0.759 Max weighted score 1.0 Mean unweighted score 0.739 Max unweighted score 1.0\n",
      "Number of genes : 1\n",
      "\n",
      "Identified solutions (208) saved at : data/comparisons/04.B1.W14.01_04.M1.W09.02/Comparison_3/21\n",
      "Execution time:  145.04769706726074\n",
      "\n",
      "KEVOLVE: motif analyzer mode\n",
      "\n",
      "\n",
      "Identifying perfect matches...\n",
      "\n",
      "Identifying variations...\n"
     ]
    },
    {
     "name": "stderr",
     "output_type": "stream",
     "text": [
      "Processing k-mers: 100%|██████████| 208/208 [00:00<00:00, 7234.68it/s]\n",
      "Processing k-mers for variations: 100%|██████████| 208/208 [00:03<00:00, 59.98it/s]\n",
      "Processing k-mers to extract information:   0%|          | 0/208 [00:00<?, ?it/s]"
     ]
    },
    {
     "name": "stdout",
     "output_type": "stream",
     "text": [
      "\n",
      "Extract information related to signatures/variations...\n"
     ]
    },
    {
     "name": "stderr",
     "output_type": "stream",
     "text": [
      "Processing k-mers to extract information: 100%|██████████| 208/208 [00:13<00:00, 15.17it/s]\n"
     ]
    },
    {
     "name": "stdout",
     "output_type": "stream",
     "text": [
      "Execution time:  17.22649884223938\n",
      "Sample: 05.B1.W14.04_05.M1.W08.03 (Comparison_1: 9-mers)\n",
      "\n",
      "KEVOLVE: extraction mode\n",
      "\n",
      "Load sequences...\n",
      "Count k-mers...\n",
      "Generate matrices...\n",
      "Preprocessing...\n",
      "Solution search...\n",
      "\n",
      "Iteration: 1 | Attempt(s): 1 / 1\n",
      "Mean weighted score 0.988 Max weighted score 1.0 Mean unweighted score 0.974 Max unweighted score 1.0\n",
      "Number of genes : 1\n",
      "\n",
      "Identified solutions (1094) saved at : data/comparisons/05.B1.W14.04_05.M1.W08.03/Comparison_1/9\n",
      "Execution time:  146.24898552894592\n",
      "\n",
      "KEVOLVE: motif analyzer mode\n",
      "\n",
      "\n",
      "Identifying perfect matches...\n"
     ]
    },
    {
     "name": "stderr",
     "output_type": "stream",
     "text": [
      "Processing k-mers: 100%|██████████| 1094/1094 [00:00<00:00, 3706.93it/s]\n",
      "Processing k-mers for variations:   0%|          | 0/1094 [00:00<?, ?it/s]"
     ]
    },
    {
     "name": "stdout",
     "output_type": "stream",
     "text": [
      "\n",
      "Identifying variations...\n"
     ]
    },
    {
     "name": "stderr",
     "output_type": "stream",
     "text": [
      "Processing k-mers for variations: 100%|██████████| 1094/1094 [00:27<00:00, 40.28it/s]\n"
     ]
    },
    {
     "name": "stdout",
     "output_type": "stream",
     "text": [
      "\n",
      "Extract information related to signatures/variations...\n"
     ]
    },
    {
     "name": "stderr",
     "output_type": "stream",
     "text": [
      "Processing k-mers to extract information: 100%|██████████| 1094/1094 [04:42<00:00,  3.88it/s]\n"
     ]
    },
    {
     "name": "stdout",
     "output_type": "stream",
     "text": [
      "Execution time:  309.6078054904938\n",
      "Sample: 05.B1.W14.04_05.M1.W08.03 (Comparison_1: 10-mers)\n",
      "\n",
      "KEVOLVE: extraction mode\n",
      "\n",
      "Load sequences...\n",
      "Count k-mers...\n",
      "Generate matrices...\n",
      "Preprocessing...\n",
      "Solution search...\n",
      "\n",
      "Iteration: 1 | Attempt(s): 1 / 1\n",
      "Mean weighted score 0.974 Max weighted score 1.0 Mean unweighted score 0.947 Max unweighted score 1.0\n",
      "Number of genes : 1\n",
      "\n",
      "Identified solutions (1126) saved at : data/comparisons/05.B1.W14.04_05.M1.W08.03/Comparison_1/10\n",
      "Execution time:  145.8677453994751\n",
      "\n",
      "KEVOLVE: motif analyzer mode\n",
      "\n",
      "\n",
      "Identifying perfect matches...\n"
     ]
    },
    {
     "name": "stderr",
     "output_type": "stream",
     "text": [
      "Processing k-mers: 100%|██████████| 1126/1126 [00:00<00:00, 3888.64it/s]\n",
      "Processing k-mers for variations:   0%|          | 5/1126 [00:00<00:28, 39.98it/s]"
     ]
    },
    {
     "name": "stdout",
     "output_type": "stream",
     "text": [
      "\n",
      "Identifying variations...\n"
     ]
    },
    {
     "name": "stderr",
     "output_type": "stream",
     "text": [
      "Processing k-mers for variations: 100%|██████████| 1126/1126 [00:31<00:00, 35.67it/s]\n"
     ]
    },
    {
     "name": "stdout",
     "output_type": "stream",
     "text": [
      "\n",
      "Extract information related to signatures/variations...\n"
     ]
    },
    {
     "name": "stderr",
     "output_type": "stream",
     "text": [
      "Processing k-mers to extract information: 100%|██████████| 1126/1126 [02:00<00:00,  9.32it/s]\n"
     ]
    },
    {
     "name": "stdout",
     "output_type": "stream",
     "text": [
      "Execution time:  152.69248914718628\n",
      "Sample: 05.B1.W14.04_05.M1.W08.03 (Comparison_1: 11-mers)\n",
      "\n",
      "KEVOLVE: extraction mode\n",
      "\n",
      "Load sequences...\n",
      "Count k-mers...\n",
      "Generate matrices...\n",
      "Preprocessing...\n",
      "Solution search...\n",
      "\n",
      "Iteration: 1 | Attempt(s): 1 / 1\n",
      "Mean weighted score 0.965 Max weighted score 1.0 Mean unweighted score 0.925 Max unweighted score 1.0\n",
      "Number of genes : 1\n",
      "\n",
      "Identified solutions (1156) saved at : data/comparisons/05.B1.W14.04_05.M1.W08.03/Comparison_1/11\n",
      "Execution time:  146.30732369422913\n",
      "\n",
      "KEVOLVE: motif analyzer mode\n",
      "\n",
      "\n",
      "Identifying perfect matches...\n"
     ]
    },
    {
     "name": "stderr",
     "output_type": "stream",
     "text": [
      "Processing k-mers: 100%|██████████| 1156/1156 [00:00<00:00, 3834.84it/s]\n",
      "Processing k-mers for variations:   0%|          | 4/1156 [00:00<00:37, 30.34it/s]"
     ]
    },
    {
     "name": "stdout",
     "output_type": "stream",
     "text": [
      "\n",
      "Identifying variations...\n"
     ]
    },
    {
     "name": "stderr",
     "output_type": "stream",
     "text": [
      "Processing k-mers for variations: 100%|██████████| 1156/1156 [00:35<00:00, 32.61it/s]\n",
      "Processing k-mers to extract information:   0%|          | 1/1156 [00:00<02:38,  7.27it/s]"
     ]
    },
    {
     "name": "stdout",
     "output_type": "stream",
     "text": [
      "\n",
      "Extract information related to signatures/variations...\n"
     ]
    },
    {
     "name": "stderr",
     "output_type": "stream",
     "text": [
      "Processing k-mers to extract information: 100%|██████████| 1156/1156 [01:31<00:00, 12.68it/s]\n"
     ]
    },
    {
     "name": "stdout",
     "output_type": "stream",
     "text": [
      "Execution time:  126.97260093688965\n",
      "Sample: 05.B1.W14.04_05.M1.W08.03 (Comparison_1: 12-mers)\n",
      "\n",
      "KEVOLVE: extraction mode\n",
      "\n",
      "Load sequences...\n",
      "Count k-mers...\n",
      "Generate matrices...\n",
      "Preprocessing...\n",
      "Solution search...\n",
      "\n",
      "Iteration: 1 | Attempt(s): 1 / 1\n",
      "Mean weighted score 0.964 Max weighted score 1.0 Mean unweighted score 0.924 Max unweighted score 1.0\n",
      "Number of genes : 1\n",
      "\n",
      "Identified solutions (1181) saved at : data/comparisons/05.B1.W14.04_05.M1.W08.03/Comparison_1/12\n",
      "Execution time:  145.4964051246643\n",
      "\n",
      "KEVOLVE: motif analyzer mode\n",
      "\n",
      "\n",
      "Identifying perfect matches...\n"
     ]
    },
    {
     "name": "stderr",
     "output_type": "stream",
     "text": [
      "Processing k-mers: 100%|██████████| 1181/1181 [00:00<00:00, 3843.15it/s]\n",
      "Processing k-mers for variations:   0%|          | 3/1181 [00:00<00:55, 21.04it/s]"
     ]
    },
    {
     "name": "stdout",
     "output_type": "stream",
     "text": [
      "\n",
      "Identifying variations...\n"
     ]
    },
    {
     "name": "stderr",
     "output_type": "stream",
     "text": [
      "Processing k-mers for variations: 100%|██████████| 1181/1181 [00:39<00:00, 29.65it/s]\n",
      "Processing k-mers to extract information:   0%|          | 0/1181 [00:00<?, ?it/s]"
     ]
    },
    {
     "name": "stdout",
     "output_type": "stream",
     "text": [
      "\n",
      "Extract information related to signatures/variations...\n"
     ]
    },
    {
     "name": "stderr",
     "output_type": "stream",
     "text": [
      "Processing k-mers to extract information: 100%|██████████| 1181/1181 [01:20<00:00, 14.62it/s]\n"
     ]
    },
    {
     "name": "stdout",
     "output_type": "stream",
     "text": [
      "Execution time:  120.92584824562073\n",
      "Sample: 05.B1.W14.04_05.M1.W08.03 (Comparison_1: 13-mers)\n",
      "\n",
      "KEVOLVE: extraction mode\n",
      "\n",
      "Load sequences...\n",
      "Count k-mers...\n",
      "Generate matrices...\n",
      "Preprocessing...\n",
      "Solution search...\n",
      "\n",
      "Iteration: 1 | Attempt(s): 1 / 1\n",
      "Mean weighted score 0.965 Max weighted score 1.0 Mean unweighted score 0.926 Max unweighted score 1.0\n",
      "Number of genes : 1\n",
      "\n",
      "Identified solutions (1201) saved at : data/comparisons/05.B1.W14.04_05.M1.W08.03/Comparison_1/13\n",
      "Execution time:  146.49782538414001\n",
      "\n",
      "KEVOLVE: motif analyzer mode\n",
      "\n",
      "\n",
      "Identifying perfect matches...\n"
     ]
    },
    {
     "name": "stderr",
     "output_type": "stream",
     "text": [
      "Processing k-mers: 100%|██████████| 1201/1201 [00:00<00:00, 3852.69it/s]\n",
      "Processing k-mers for variations:   0%|          | 0/1201 [00:00<?, ?it/s]"
     ]
    },
    {
     "name": "stdout",
     "output_type": "stream",
     "text": [
      "\n",
      "Identifying variations...\n"
     ]
    },
    {
     "name": "stderr",
     "output_type": "stream",
     "text": [
      "Processing k-mers for variations: 100%|██████████| 1201/1201 [00:44<00:00, 27.12it/s]\n",
      "Processing k-mers to extract information:   0%|          | 0/1201 [00:00<?, ?it/s]"
     ]
    },
    {
     "name": "stdout",
     "output_type": "stream",
     "text": [
      "\n",
      "Extract information related to signatures/variations...\n"
     ]
    },
    {
     "name": "stderr",
     "output_type": "stream",
     "text": [
      "Processing k-mers to extract information: 100%|██████████| 1201/1201 [01:12<00:00, 16.56it/s]\n"
     ]
    },
    {
     "name": "stdout",
     "output_type": "stream",
     "text": [
      "Execution time:  117.17745757102966\n",
      "Sample: 05.B1.W14.04_05.M1.W08.03 (Comparison_1: 14-mers)\n",
      "\n",
      "KEVOLVE: extraction mode\n",
      "\n",
      "Load sequences...\n",
      "Count k-mers...\n",
      "Generate matrices...\n",
      "Preprocessing...\n",
      "Solution search...\n",
      "\n",
      "Iteration: 1 | Attempt(s): 1 / 1\n",
      "Mean weighted score 0.963 Max weighted score 1.0 Mean unweighted score 0.923 Max unweighted score 1.0\n",
      "Number of genes : 1\n",
      "\n",
      "Identified solutions (1219) saved at : data/comparisons/05.B1.W14.04_05.M1.W08.03/Comparison_1/14\n",
      "Execution time:  145.85218858718872\n",
      "\n",
      "KEVOLVE: motif analyzer mode\n",
      "\n",
      "\n",
      "Identifying perfect matches...\n"
     ]
    },
    {
     "name": "stderr",
     "output_type": "stream",
     "text": [
      "Processing k-mers: 100%|██████████| 1219/1219 [00:00<00:00, 3759.10it/s]\n",
      "Processing k-mers for variations:   0%|          | 5/1219 [00:00<00:32, 37.30it/s]"
     ]
    },
    {
     "name": "stdout",
     "output_type": "stream",
     "text": [
      "\n",
      "Identifying variations...\n"
     ]
    },
    {
     "name": "stderr",
     "output_type": "stream",
     "text": [
      "Processing k-mers for variations: 100%|██████████| 1219/1219 [00:48<00:00, 25.23it/s]\n",
      "Processing k-mers to extract information:   0%|          | 0/1219 [00:00<?, ?it/s]"
     ]
    },
    {
     "name": "stdout",
     "output_type": "stream",
     "text": [
      "\n",
      "Extract information related to signatures/variations...\n"
     ]
    },
    {
     "name": "stderr",
     "output_type": "stream",
     "text": [
      "Processing k-mers to extract information: 100%|██████████| 1219/1219 [01:08<00:00, 17.72it/s]\n"
     ]
    },
    {
     "name": "stdout",
     "output_type": "stream",
     "text": [
      "Execution time:  117.46683096885681\n",
      "Sample: 05.B1.W14.04_05.M1.W08.03 (Comparison_1: 15-mers)\n",
      "\n",
      "KEVOLVE: extraction mode\n",
      "\n",
      "Load sequences...\n",
      "Count k-mers...\n",
      "Generate matrices...\n",
      "Preprocessing...\n",
      "Solution search...\n",
      "\n",
      "Iteration: 1 | Attempt(s): 1 / 1\n",
      "Mean weighted score 0.965 Max weighted score 1.0 Mean unweighted score 0.926 Max unweighted score 1.0\n",
      "Number of genes : 1\n",
      "\n",
      "Identified solutions (1238) saved at : data/comparisons/05.B1.W14.04_05.M1.W08.03/Comparison_1/15\n",
      "Execution time:  145.97750115394592\n",
      "\n",
      "KEVOLVE: motif analyzer mode\n",
      "\n",
      "\n",
      "Identifying perfect matches...\n"
     ]
    },
    {
     "name": "stderr",
     "output_type": "stream",
     "text": [
      "Processing k-mers: 100%|██████████| 1238/1238 [00:00<00:00, 3843.02it/s]\n",
      "Processing k-mers for variations:   1%|          | 7/1238 [00:00<00:19, 62.99it/s]"
     ]
    },
    {
     "name": "stdout",
     "output_type": "stream",
     "text": [
      "\n",
      "Identifying variations...\n"
     ]
    },
    {
     "name": "stderr",
     "output_type": "stream",
     "text": [
      "Processing k-mers for variations: 100%|██████████| 1238/1238 [00:52<00:00, 23.44it/s]\n",
      "Processing k-mers to extract information:   0%|          | 1/1238 [00:00<02:53,  7.14it/s]"
     ]
    },
    {
     "name": "stdout",
     "output_type": "stream",
     "text": [
      "\n",
      "Extract information related to signatures/variations...\n"
     ]
    },
    {
     "name": "stderr",
     "output_type": "stream",
     "text": [
      "Processing k-mers to extract information: 100%|██████████| 1238/1238 [01:05<00:00, 18.89it/s]\n"
     ]
    },
    {
     "name": "stdout",
     "output_type": "stream",
     "text": [
      "Execution time:  118.72573113441467\n",
      "Sample: 05.B1.W14.04_05.M1.W08.03 (Comparison_1: 16-mers)\n",
      "\n",
      "KEVOLVE: extraction mode\n",
      "\n",
      "Load sequences...\n",
      "Count k-mers...\n",
      "Generate matrices...\n",
      "Preprocessing...\n",
      "Solution search...\n",
      "\n",
      "Iteration: 1 | Attempt(s): 1 / 1\n",
      "Mean weighted score 0.964 Max weighted score 1.0 Mean unweighted score 0.925 Max unweighted score 1.0\n",
      "Number of genes : 1\n",
      "\n",
      "Identified solutions (1247) saved at : data/comparisons/05.B1.W14.04_05.M1.W08.03/Comparison_1/16\n",
      "Execution time:  145.622985124588\n",
      "\n",
      "KEVOLVE: motif analyzer mode\n",
      "\n",
      "\n",
      "Identifying perfect matches...\n"
     ]
    },
    {
     "name": "stderr",
     "output_type": "stream",
     "text": [
      "Processing k-mers: 100%|██████████| 1247/1247 [00:00<00:00, 3857.25it/s]\n",
      "Processing k-mers for variations:   0%|          | 2/1247 [00:00<01:14, 16.68it/s]"
     ]
    },
    {
     "name": "stdout",
     "output_type": "stream",
     "text": [
      "\n",
      "Identifying variations...\n"
     ]
    },
    {
     "name": "stderr",
     "output_type": "stream",
     "text": [
      "Processing k-mers for variations: 100%|██████████| 1247/1247 [00:57<00:00, 21.83it/s]\n",
      "Processing k-mers to extract information:   0%|          | 1/1247 [00:00<03:28,  5.96it/s]"
     ]
    },
    {
     "name": "stdout",
     "output_type": "stream",
     "text": [
      "\n",
      "Extract information related to signatures/variations...\n"
     ]
    },
    {
     "name": "stderr",
     "output_type": "stream",
     "text": [
      "Processing k-mers to extract information: 100%|██████████| 1247/1247 [01:21<00:00, 15.22it/s]\n"
     ]
    },
    {
     "name": "stdout",
     "output_type": "stream",
     "text": [
      "Execution time:  139.3947081565857\n",
      "Sample: 05.B1.W14.04_05.M1.W08.03 (Comparison_1: 17-mers)\n",
      "\n",
      "KEVOLVE: extraction mode\n",
      "\n",
      "Load sequences...\n",
      "Count k-mers...\n",
      "Generate matrices...\n",
      "Preprocessing...\n",
      "Solution search...\n",
      "\n",
      "Iteration: 1 | Attempt(s): 1 / 1\n",
      "Mean weighted score 0.964 Max weighted score 1.0 Mean unweighted score 0.925 Max unweighted score 1.0\n",
      "Number of genes : 1\n",
      "\n",
      "Identified solutions (1257) saved at : data/comparisons/05.B1.W14.04_05.M1.W08.03/Comparison_1/17\n",
      "Execution time:  146.1824026107788\n",
      "\n",
      "KEVOLVE: motif analyzer mode\n",
      "\n",
      "\n",
      "Identifying perfect matches...\n"
     ]
    },
    {
     "name": "stderr",
     "output_type": "stream",
     "text": [
      "Processing k-mers: 100%|██████████| 1257/1257 [00:00<00:00, 3722.17it/s]\n",
      "Processing k-mers for variations:   0%|          | 4/1257 [00:00<00:47, 26.22it/s]"
     ]
    },
    {
     "name": "stdout",
     "output_type": "stream",
     "text": [
      "\n",
      "Identifying variations...\n"
     ]
    },
    {
     "name": "stderr",
     "output_type": "stream",
     "text": [
      "Processing k-mers for variations: 100%|██████████| 1257/1257 [01:01<00:00, 20.50it/s]\n",
      "Processing k-mers to extract information:   0%|          | 1/1257 [00:00<02:54,  7.21it/s]"
     ]
    },
    {
     "name": "stdout",
     "output_type": "stream",
     "text": [
      "\n",
      "Extract information related to signatures/variations...\n"
     ]
    },
    {
     "name": "stderr",
     "output_type": "stream",
     "text": [
      "Processing k-mers to extract information: 100%|██████████| 1257/1257 [01:18<00:00, 16.00it/s]\n"
     ]
    },
    {
     "name": "stdout",
     "output_type": "stream",
     "text": [
      "Execution time:  140.26513838768005\n",
      "Sample: 05.B1.W14.04_05.M1.W08.03 (Comparison_1: 18-mers)\n",
      "\n",
      "KEVOLVE: extraction mode\n",
      "\n",
      "Load sequences...\n",
      "Count k-mers...\n",
      "Generate matrices...\n",
      "Preprocessing...\n",
      "Solution search...\n",
      "\n",
      "Iteration: 1 | Attempt(s): 1 / 1\n",
      "Mean weighted score 0.965 Max weighted score 1.0 Mean unweighted score 0.926 Max unweighted score 1.0\n",
      "Number of genes : 1\n",
      "\n",
      "Identified solutions (1268) saved at : data/comparisons/05.B1.W14.04_05.M1.W08.03/Comparison_1/18\n",
      "Execution time:  145.8558316230774\n",
      "\n",
      "KEVOLVE: motif analyzer mode\n",
      "\n",
      "\n",
      "Identifying perfect matches...\n"
     ]
    },
    {
     "name": "stderr",
     "output_type": "stream",
     "text": [
      "Processing k-mers: 100%|██████████| 1268/1268 [00:00<00:00, 3761.48it/s]\n",
      "Processing k-mers for variations:   0%|          | 2/1268 [00:00<01:23, 15.08it/s]"
     ]
    },
    {
     "name": "stdout",
     "output_type": "stream",
     "text": [
      "\n",
      "Identifying variations...\n"
     ]
    },
    {
     "name": "stderr",
     "output_type": "stream",
     "text": [
      "Processing k-mers for variations: 100%|██████████| 1268/1268 [01:05<00:00, 19.26it/s]\n",
      "Processing k-mers to extract information:   0%|          | 0/1268 [00:00<?, ?it/s]"
     ]
    },
    {
     "name": "stdout",
     "output_type": "stream",
     "text": [
      "\n",
      "Extract information related to signatures/variations...\n"
     ]
    },
    {
     "name": "stderr",
     "output_type": "stream",
     "text": [
      "Processing k-mers to extract information: 100%|██████████| 1268/1268 [01:17<00:00, 16.37it/s]\n"
     ]
    },
    {
     "name": "stdout",
     "output_type": "stream",
     "text": [
      "Execution time:  143.67016410827637\n",
      "Sample: 05.B1.W14.04_05.M1.W08.03 (Comparison_1: 19-mers)\n",
      "\n",
      "KEVOLVE: extraction mode\n",
      "\n",
      "Load sequences...\n",
      "Count k-mers...\n",
      "Generate matrices...\n",
      "Preprocessing...\n",
      "Solution search...\n",
      "\n",
      "Iteration: 1 | Attempt(s): 1 / 1\n",
      "Mean weighted score 0.963 Max weighted score 1.0 Mean unweighted score 0.922 Max unweighted score 1.0\n",
      "Number of genes : 1\n",
      "\n",
      "Identified solutions (1272) saved at : data/comparisons/05.B1.W14.04_05.M1.W08.03/Comparison_1/19\n",
      "Execution time:  145.55798053741455\n",
      "\n",
      "KEVOLVE: motif analyzer mode\n",
      "\n",
      "\n",
      "Identifying perfect matches...\n"
     ]
    },
    {
     "name": "stderr",
     "output_type": "stream",
     "text": [
      "Processing k-mers: 100%|██████████| 1272/1272 [00:00<00:00, 3739.55it/s]\n",
      "Processing k-mers for variations:   0%|          | 2/1272 [00:00<01:28, 14.43it/s]"
     ]
    },
    {
     "name": "stdout",
     "output_type": "stream",
     "text": [
      "\n",
      "Identifying variations...\n"
     ]
    },
    {
     "name": "stderr",
     "output_type": "stream",
     "text": [
      "Processing k-mers for variations: 100%|██████████| 1272/1272 [01:10<00:00, 18.15it/s]\n",
      "Processing k-mers to extract information:   0%|          | 0/1272 [00:00<?, ?it/s]"
     ]
    },
    {
     "name": "stdout",
     "output_type": "stream",
     "text": [
      "\n",
      "Extract information related to signatures/variations...\n"
     ]
    },
    {
     "name": "stderr",
     "output_type": "stream",
     "text": [
      "Processing k-mers to extract information: 100%|██████████| 1272/1272 [01:16<00:00, 16.72it/s]\n"
     ]
    },
    {
     "name": "stdout",
     "output_type": "stream",
     "text": [
      "Execution time:  146.53198218345642\n",
      "Sample: 05.B1.W14.04_05.M1.W08.03 (Comparison_1: 20-mers)\n",
      "\n",
      "KEVOLVE: extraction mode\n",
      "\n",
      "Load sequences...\n",
      "Count k-mers...\n",
      "Generate matrices...\n",
      "Preprocessing...\n",
      "Solution search...\n",
      "\n",
      "Iteration: 1 | Attempt(s): 1 / 1\n",
      "Mean weighted score 0.963 Max weighted score 1.0 Mean unweighted score 0.922 Max unweighted score 1.0\n",
      "Number of genes : 1\n",
      "\n",
      "Identified solutions (1273) saved at : data/comparisons/05.B1.W14.04_05.M1.W08.03/Comparison_1/20\n",
      "Execution time:  145.81444573402405\n",
      "\n",
      "KEVOLVE: motif analyzer mode\n",
      "\n",
      "\n",
      "Identifying perfect matches...\n"
     ]
    },
    {
     "name": "stderr",
     "output_type": "stream",
     "text": [
      "Processing k-mers: 100%|██████████| 1273/1273 [00:00<00:00, 3759.42it/s]\n",
      "Processing k-mers for variations:   0%|          | 2/1273 [00:00<01:34, 13.39it/s]"
     ]
    },
    {
     "name": "stdout",
     "output_type": "stream",
     "text": [
      "\n",
      "Identifying variations...\n"
     ]
    },
    {
     "name": "stderr",
     "output_type": "stream",
     "text": [
      "Processing k-mers for variations: 100%|██████████| 1273/1273 [01:13<00:00, 17.29it/s]\n",
      "Processing k-mers to extract information:   0%|          | 3/1273 [00:00<00:59, 21.41it/s]"
     ]
    },
    {
     "name": "stdout",
     "output_type": "stream",
     "text": [
      "\n",
      "Extract information related to signatures/variations...\n"
     ]
    },
    {
     "name": "stderr",
     "output_type": "stream",
     "text": [
      "Processing k-mers to extract information: 100%|██████████| 1273/1273 [01:16<00:00, 16.69it/s]\n"
     ]
    },
    {
     "name": "stdout",
     "output_type": "stream",
     "text": [
      "Execution time:  150.2833812236786\n",
      "Sample: 05.B1.W14.04_05.M1.W08.03 (Comparison_1: 21-mers)\n",
      "\n",
      "KEVOLVE: extraction mode\n",
      "\n",
      "Load sequences...\n",
      "Count k-mers...\n",
      "Generate matrices...\n",
      "Preprocessing...\n",
      "Solution search...\n",
      "\n",
      "Iteration: 1 | Attempt(s): 1 / 1\n",
      "Mean weighted score 0.964 Max weighted score 1.0 Mean unweighted score 0.923 Max unweighted score 1.0\n",
      "Number of genes : 1\n",
      "\n",
      "Identified solutions (1280) saved at : data/comparisons/05.B1.W14.04_05.M1.W08.03/Comparison_1/21\n",
      "Execution time:  145.57558274269104\n",
      "\n",
      "KEVOLVE: motif analyzer mode\n",
      "\n",
      "\n",
      "Identifying perfect matches...\n"
     ]
    },
    {
     "name": "stderr",
     "output_type": "stream",
     "text": [
      "Processing k-mers: 100%|██████████| 1280/1280 [00:00<00:00, 3828.82it/s]\n",
      "Processing k-mers for variations:   0%|          | 2/1280 [00:00<01:38, 13.01it/s]"
     ]
    },
    {
     "name": "stdout",
     "output_type": "stream",
     "text": [
      "\n",
      "Identifying variations...\n"
     ]
    },
    {
     "name": "stderr",
     "output_type": "stream",
     "text": [
      "Processing k-mers for variations: 100%|██████████| 1280/1280 [01:18<00:00, 16.39it/s]\n",
      "Processing k-mers to extract information:   0%|          | 0/1280 [00:00<?, ?it/s]"
     ]
    },
    {
     "name": "stdout",
     "output_type": "stream",
     "text": [
      "\n",
      "Extract information related to signatures/variations...\n"
     ]
    },
    {
     "name": "stderr",
     "output_type": "stream",
     "text": [
      "Processing k-mers to extract information: 100%|██████████| 1280/1280 [01:12<00:00, 17.63it/s]\n"
     ]
    },
    {
     "name": "stdout",
     "output_type": "stream",
     "text": [
      "Execution time:  151.07511591911316\n",
      "Sample: 05.B1.W14.04_05.M1.W08.03 (Comparison_4: 9-mers)\n",
      "\n",
      "KEVOLVE: extraction mode\n",
      "\n",
      "Load sequences...\n",
      "Count k-mers...\n",
      "Generate matrices...\n",
      "Preprocessing...\n",
      "Solution search...\n",
      "\n",
      "Iteration: 1 | Attempt(s): 1 / 1\n",
      "Mean weighted score 0.869 Max weighted score 1.0 Mean unweighted score 0.796 Max unweighted score 1.0\n",
      "Number of genes : 1\n",
      "\n",
      "Identified solutions (279) saved at : data/comparisons/05.B1.W14.04_05.M1.W08.03/Comparison_4/9\n",
      "Execution time:  145.34469151496887\n",
      "\n",
      "KEVOLVE: motif analyzer mode\n",
      "\n",
      "\n",
      "Identifying perfect matches...\n",
      "\n",
      "Identifying variations...\n"
     ]
    },
    {
     "name": "stderr",
     "output_type": "stream",
     "text": [
      "Processing k-mers: 100%|██████████| 279/279 [00:00<00:00, 5168.82it/s]\n",
      "Processing k-mers for variations: 100%|██████████| 279/279 [00:04<00:00, 55.87it/s]\n",
      "Processing k-mers to extract information:   0%|          | 0/279 [00:00<?, ?it/s]"
     ]
    },
    {
     "name": "stdout",
     "output_type": "stream",
     "text": [
      "\n",
      "Extract information related to signatures/variations...\n"
     ]
    },
    {
     "name": "stderr",
     "output_type": "stream",
     "text": [
      "Processing k-mers to extract information: 100%|██████████| 279/279 [01:12<00:00,  3.84it/s]\n"
     ]
    },
    {
     "name": "stdout",
     "output_type": "stream",
     "text": [
      "Execution time:  77.78850960731506\n",
      "Sample: 05.B1.W14.04_05.M1.W08.03 (Comparison_4: 10-mers)\n",
      "\n",
      "KEVOLVE: extraction mode\n",
      "\n",
      "Load sequences...\n",
      "Count k-mers...\n",
      "Generate matrices...\n",
      "Preprocessing...\n",
      "Solution search...\n",
      "\n",
      "Iteration: 1 | Attempt(s): 1 / 1\n",
      "Mean weighted score 0.868 Max weighted score 1.0 Mean unweighted score 0.794 Max unweighted score 1.0\n",
      "Number of genes : 1\n",
      "\n",
      "Identified solutions (290) saved at : data/comparisons/05.B1.W14.04_05.M1.W08.03/Comparison_4/10\n",
      "Execution time:  145.18854761123657\n",
      "\n",
      "KEVOLVE: motif analyzer mode\n",
      "\n",
      "\n",
      "Identifying perfect matches...\n",
      "\n",
      "Identifying variations...\n"
     ]
    },
    {
     "name": "stderr",
     "output_type": "stream",
     "text": [
      "Processing k-mers: 100%|██████████| 290/290 [00:00<00:00, 5139.51it/s]\n",
      "Processing k-mers for variations: 100%|██████████| 290/290 [00:05<00:00, 49.05it/s]\n",
      "Processing k-mers to extract information:   0%|          | 0/290 [00:00<?, ?it/s]"
     ]
    },
    {
     "name": "stdout",
     "output_type": "stream",
     "text": [
      "\n",
      "Extract information related to signatures/variations...\n"
     ]
    },
    {
     "name": "stderr",
     "output_type": "stream",
     "text": [
      "Processing k-mers to extract information: 100%|██████████| 290/290 [00:26<00:00, 10.86it/s]\n"
     ]
    },
    {
     "name": "stdout",
     "output_type": "stream",
     "text": [
      "Execution time:  32.69997978210449\n",
      "Sample: 05.B1.W14.04_05.M1.W08.03 (Comparison_4: 11-mers)\n",
      "\n",
      "KEVOLVE: extraction mode\n",
      "\n",
      "Load sequences...\n",
      "Count k-mers...\n",
      "Generate matrices...\n",
      "Preprocessing...\n",
      "Solution search...\n",
      "\n",
      "Iteration: 1 | Attempt(s): 1 / 1\n",
      "Mean weighted score 0.866 Max weighted score 1.0 Mean unweighted score 0.792 Max unweighted score 1.0\n",
      "Number of genes : 1\n",
      "\n",
      "Identified solutions (299) saved at : data/comparisons/05.B1.W14.04_05.M1.W08.03/Comparison_4/11\n",
      "Execution time:  144.96600651741028\n",
      "\n",
      "KEVOLVE: motif analyzer mode\n",
      "\n",
      "\n",
      "Identifying perfect matches...\n",
      "\n",
      "Identifying variations...\n"
     ]
    },
    {
     "name": "stderr",
     "output_type": "stream",
     "text": [
      "Processing k-mers: 100%|██████████| 299/299 [00:00<00:00, 4962.30it/s]\n",
      "Processing k-mers for variations: 100%|██████████| 299/299 [00:06<00:00, 44.46it/s]\n",
      "Processing k-mers to extract information:   0%|          | 0/299 [00:00<?, ?it/s]"
     ]
    },
    {
     "name": "stdout",
     "output_type": "stream",
     "text": [
      "\n",
      "Extract information related to signatures/variations...\n"
     ]
    },
    {
     "name": "stderr",
     "output_type": "stream",
     "text": [
      "Processing k-mers to extract information: 100%|██████████| 299/299 [00:21<00:00, 13.60it/s]\n"
     ]
    },
    {
     "name": "stdout",
     "output_type": "stream",
     "text": [
      "Execution time:  28.790093421936035\n",
      "Sample: 05.B1.W14.04_05.M1.W08.03 (Comparison_4: 12-mers)\n",
      "\n",
      "KEVOLVE: extraction mode\n",
      "\n",
      "Load sequences...\n",
      "Count k-mers...\n",
      "Generate matrices...\n",
      "Preprocessing...\n",
      "Solution search...\n",
      "\n",
      "Iteration: 1 | Attempt(s): 1 / 1\n",
      "Mean weighted score 0.865 Max weighted score 1.0 Mean unweighted score 0.789 Max unweighted score 1.0\n",
      "Number of genes : 1\n",
      "\n",
      "Identified solutions (306) saved at : data/comparisons/05.B1.W14.04_05.M1.W08.03/Comparison_4/12\n",
      "Execution time:  145.10624194145203\n",
      "\n",
      "KEVOLVE: motif analyzer mode\n",
      "\n",
      "\n",
      "Identifying perfect matches...\n",
      "\n",
      "Identifying variations...\n"
     ]
    },
    {
     "name": "stderr",
     "output_type": "stream",
     "text": [
      "Processing k-mers: 100%|██████████| 306/306 [00:00<00:00, 4725.75it/s]\n",
      "Processing k-mers for variations: 100%|██████████| 306/306 [00:07<00:00, 40.32it/s]\n",
      "Processing k-mers to extract information:   0%|          | 0/306 [00:00<?, ?it/s]"
     ]
    },
    {
     "name": "stdout",
     "output_type": "stream",
     "text": [
      "\n",
      "Extract information related to signatures/variations...\n"
     ]
    },
    {
     "name": "stderr",
     "output_type": "stream",
     "text": [
      "Processing k-mers to extract information: 100%|██████████| 306/306 [00:17<00:00, 17.10it/s]\n"
     ]
    },
    {
     "name": "stdout",
     "output_type": "stream",
     "text": [
      "Execution time:  25.57662606239319\n",
      "Sample: 05.B1.W14.04_05.M1.W08.03 (Comparison_4: 13-mers)\n",
      "\n",
      "KEVOLVE: extraction mode\n",
      "\n",
      "Load sequences...\n",
      "Count k-mers...\n",
      "Generate matrices...\n",
      "Preprocessing...\n",
      "Solution search...\n",
      "\n",
      "Iteration: 1 | Attempt(s): 1 / 1\n",
      "Mean weighted score 0.863 Max weighted score 1.0 Mean unweighted score 0.787 Max unweighted score 1.0\n",
      "Number of genes : 1\n",
      "\n",
      "Identified solutions (305) saved at : data/comparisons/05.B1.W14.04_05.M1.W08.03/Comparison_4/13\n",
      "Execution time:  144.828115940094\n",
      "\n",
      "KEVOLVE: motif analyzer mode\n",
      "\n",
      "\n",
      "Identifying perfect matches...\n",
      "\n",
      "Identifying variations...\n"
     ]
    },
    {
     "name": "stderr",
     "output_type": "stream",
     "text": [
      "Processing k-mers: 100%|██████████| 305/305 [00:00<00:00, 5020.22it/s]\n",
      "Processing k-mers for variations: 100%|██████████| 305/305 [00:08<00:00, 36.80it/s]\n",
      "Processing k-mers to extract information:   0%|          | 0/305 [00:00<?, ?it/s]"
     ]
    },
    {
     "name": "stdout",
     "output_type": "stream",
     "text": [
      "\n",
      "Extract information related to signatures/variations...\n"
     ]
    },
    {
     "name": "stderr",
     "output_type": "stream",
     "text": [
      "Processing k-mers to extract information: 100%|██████████| 305/305 [00:13<00:00, 22.22it/s]\n"
     ]
    },
    {
     "name": "stdout",
     "output_type": "stream",
     "text": [
      "Execution time:  22.09679651260376\n",
      "Sample: 05.B1.W14.04_05.M1.W08.03 (Comparison_4: 14-mers)\n",
      "\n",
      "KEVOLVE: extraction mode\n",
      "\n",
      "Load sequences...\n",
      "Count k-mers...\n",
      "Generate matrices...\n",
      "Preprocessing...\n",
      "Solution search...\n",
      "\n",
      "Iteration: 1 | Attempt(s): 1 / 1\n",
      "Mean weighted score 0.862 Max weighted score 1.0 Mean unweighted score 0.784 Max unweighted score 1.0\n",
      "Number of genes : 1\n",
      "\n",
      "Identified solutions (302) saved at : data/comparisons/05.B1.W14.04_05.M1.W08.03/Comparison_4/14\n",
      "Execution time:  145.00171780586243\n",
      "\n",
      "KEVOLVE: motif analyzer mode\n",
      "\n",
      "\n",
      "Identifying perfect matches...\n",
      "\n",
      "Identifying variations...\n"
     ]
    },
    {
     "name": "stderr",
     "output_type": "stream",
     "text": [
      "Processing k-mers: 100%|██████████| 302/302 [00:00<00:00, 4870.55it/s]\n",
      "Processing k-mers for variations: 100%|██████████| 302/302 [00:08<00:00, 33.74it/s]\n",
      "Processing k-mers to extract information:   0%|          | 0/302 [00:00<?, ?it/s]"
     ]
    },
    {
     "name": "stdout",
     "output_type": "stream",
     "text": [
      "\n",
      "Extract information related to signatures/variations...\n"
     ]
    },
    {
     "name": "stderr",
     "output_type": "stream",
     "text": [
      "Processing k-mers to extract information: 100%|██████████| 302/302 [00:15<00:00, 19.45it/s]\n"
     ]
    },
    {
     "name": "stdout",
     "output_type": "stream",
     "text": [
      "Execution time:  24.567624807357788\n",
      "Sample: 05.B1.W14.04_05.M1.W08.03 (Comparison_4: 15-mers)\n",
      "\n",
      "KEVOLVE: extraction mode\n",
      "\n",
      "Load sequences...\n",
      "Count k-mers...\n",
      "Generate matrices...\n",
      "Preprocessing...\n",
      "Solution search...\n",
      "\n",
      "Iteration: 1 | Attempt(s): 1 / 1\n",
      "Mean weighted score 0.86 Max weighted score 1.0 Mean unweighted score 0.782 Max unweighted score 1.0\n",
      "Number of genes : 1\n",
      "\n",
      "Identified solutions (300) saved at : data/comparisons/05.B1.W14.04_05.M1.W08.03/Comparison_4/15\n",
      "Execution time:  144.82411932945251\n",
      "\n",
      "KEVOLVE: motif analyzer mode\n",
      "\n",
      "\n",
      "Identifying perfect matches...\n",
      "\n",
      "Identifying variations...\n"
     ]
    },
    {
     "name": "stderr",
     "output_type": "stream",
     "text": [
      "Processing k-mers: 100%|██████████| 300/300 [00:00<00:00, 4894.42it/s]\n",
      "Processing k-mers for variations: 100%|██████████| 300/300 [00:09<00:00, 31.53it/s]\n",
      "Processing k-mers to extract information:   0%|          | 1/300 [00:00<00:38,  7.80it/s]"
     ]
    },
    {
     "name": "stdout",
     "output_type": "stream",
     "text": [
      "\n",
      "Extract information related to signatures/variations...\n"
     ]
    },
    {
     "name": "stderr",
     "output_type": "stream",
     "text": [
      "Processing k-mers to extract information: 100%|██████████| 300/300 [00:13<00:00, 21.74it/s]\n"
     ]
    },
    {
     "name": "stdout",
     "output_type": "stream",
     "text": [
      "Execution time:  23.40010976791382\n",
      "Sample: 05.B1.W14.04_05.M1.W08.03 (Comparison_4: 16-mers)\n",
      "\n",
      "KEVOLVE: extraction mode\n",
      "\n",
      "Load sequences...\n",
      "Count k-mers...\n",
      "Generate matrices...\n",
      "Preprocessing...\n",
      "Solution search...\n",
      "\n",
      "Iteration: 1 | Attempt(s): 1 / 1\n",
      "Mean weighted score 0.859 Max weighted score 1.0 Mean unweighted score 0.78 Max unweighted score 1.0\n",
      "Number of genes : 1\n",
      "\n",
      "Identified solutions (297) saved at : data/comparisons/05.B1.W14.04_05.M1.W08.03/Comparison_4/16\n",
      "Execution time:  144.6588695049286\n",
      "\n",
      "KEVOLVE: motif analyzer mode\n",
      "\n",
      "\n",
      "Identifying perfect matches...\n",
      "\n",
      "Identifying variations...\n"
     ]
    },
    {
     "name": "stderr",
     "output_type": "stream",
     "text": [
      "Processing k-mers: 100%|██████████| 297/297 [00:00<00:00, 4746.60it/s]\n",
      "Processing k-mers for variations: 100%|██████████| 297/297 [00:10<00:00, 29.23it/s]\n",
      "Processing k-mers to extract information:   0%|          | 1/297 [00:00<00:34,  8.49it/s]"
     ]
    },
    {
     "name": "stdout",
     "output_type": "stream",
     "text": [
      "\n",
      "Extract information related to signatures/variations...\n"
     ]
    },
    {
     "name": "stderr",
     "output_type": "stream",
     "text": [
      "Processing k-mers to extract information: 100%|██████████| 297/297 [00:18<00:00, 16.36it/s]\n"
     ]
    },
    {
     "name": "stdout",
     "output_type": "stream",
     "text": [
      "Execution time:  28.408874988555908\n",
      "Sample: 05.B1.W14.04_05.M1.W08.03 (Comparison_4: 17-mers)\n",
      "\n",
      "KEVOLVE: extraction mode\n",
      "\n",
      "Load sequences...\n",
      "Count k-mers...\n",
      "Generate matrices...\n",
      "Preprocessing...\n",
      "Solution search...\n",
      "\n",
      "Iteration: 1 | Attempt(s): 1 / 1\n",
      "Mean weighted score 0.848 Max weighted score 1.0 Mean unweighted score 0.763 Max unweighted score 1.0\n",
      "Number of genes : 1\n",
      "\n",
      "Identified solutions (294) saved at : data/comparisons/05.B1.W14.04_05.M1.W08.03/Comparison_4/17\n",
      "Execution time:  144.76208901405334\n",
      "\n",
      "KEVOLVE: motif analyzer mode\n",
      "\n",
      "\n",
      "Identifying perfect matches...\n",
      "\n",
      "Identifying variations...\n"
     ]
    },
    {
     "name": "stderr",
     "output_type": "stream",
     "text": [
      "Processing k-mers: 100%|██████████| 294/294 [00:00<00:00, 4776.89it/s]\n",
      "Processing k-mers for variations: 100%|██████████| 294/294 [00:10<00:00, 27.49it/s]\n",
      "Processing k-mers to extract information:   0%|          | 0/294 [00:00<?, ?it/s]"
     ]
    },
    {
     "name": "stdout",
     "output_type": "stream",
     "text": [
      "\n",
      "Extract information related to signatures/variations...\n"
     ]
    },
    {
     "name": "stderr",
     "output_type": "stream",
     "text": [
      "Processing k-mers to extract information: 100%|██████████| 294/294 [00:17<00:00, 16.88it/s]\n"
     ]
    },
    {
     "name": "stdout",
     "output_type": "stream",
     "text": [
      "Execution time:  28.19538140296936\n",
      "Sample: 05.B1.W14.04_05.M1.W08.03 (Comparison_4: 18-mers)\n",
      "\n",
      "KEVOLVE: extraction mode\n",
      "\n",
      "Load sequences...\n",
      "Count k-mers...\n",
      "Generate matrices...\n",
      "Preprocessing...\n",
      "Solution search...\n",
      "\n",
      "Iteration: 1 | Attempt(s): 1 / 1\n",
      "Mean weighted score 0.844 Max weighted score 1.0 Mean unweighted score 0.757 Max unweighted score 1.0\n",
      "Number of genes : 1\n",
      "\n",
      "Identified solutions (291) saved at : data/comparisons/05.B1.W14.04_05.M1.W08.03/Comparison_4/18\n",
      "Execution time:  144.62102913856506\n",
      "\n",
      "KEVOLVE: motif analyzer mode\n",
      "\n",
      "\n",
      "Identifying perfect matches...\n",
      "\n",
      "Identifying variations...\n"
     ]
    },
    {
     "name": "stderr",
     "output_type": "stream",
     "text": [
      "Processing k-mers: 100%|██████████| 291/291 [00:00<00:00, 4813.02it/s]\n",
      "Processing k-mers for variations: 100%|██████████| 291/291 [00:11<00:00, 25.92it/s]\n",
      "Processing k-mers to extract information:   0%|          | 0/291 [00:00<?, ?it/s]"
     ]
    },
    {
     "name": "stdout",
     "output_type": "stream",
     "text": [
      "\n",
      "Extract information related to signatures/variations...\n"
     ]
    },
    {
     "name": "stderr",
     "output_type": "stream",
     "text": [
      "Processing k-mers to extract information: 100%|██████████| 291/291 [00:16<00:00, 17.87it/s]\n"
     ]
    },
    {
     "name": "stdout",
     "output_type": "stream",
     "text": [
      "Execution time:  27.592660427093506\n",
      "Sample: 05.B1.W14.04_05.M1.W08.03 (Comparison_4: 19-mers)\n",
      "\n",
      "KEVOLVE: extraction mode\n",
      "\n",
      "Load sequences...\n",
      "Count k-mers...\n",
      "Generate matrices...\n",
      "Preprocessing...\n",
      "Solution search...\n",
      "\n",
      "Iteration: 1 | Attempt(s): 1 / 1\n",
      "Mean weighted score 0.844 Max weighted score 1.0 Mean unweighted score 0.756 Max unweighted score 1.0\n",
      "Number of genes : 1\n",
      "\n",
      "Identified solutions (287) saved at : data/comparisons/05.B1.W14.04_05.M1.W08.03/Comparison_4/19\n",
      "Execution time:  145.67312455177307\n",
      "\n",
      "KEVOLVE: motif analyzer mode\n",
      "\n",
      "\n",
      "Identifying perfect matches...\n",
      "\n",
      "Identifying variations...\n"
     ]
    },
    {
     "name": "stderr",
     "output_type": "stream",
     "text": [
      "Processing k-mers: 100%|██████████| 287/287 [00:00<00:00, 4703.42it/s]\n",
      "Processing k-mers for variations: 100%|██████████| 287/287 [00:11<00:00, 24.45it/s]\n",
      "Processing k-mers to extract information:   0%|          | 0/287 [00:00<?, ?it/s]"
     ]
    },
    {
     "name": "stdout",
     "output_type": "stream",
     "text": [
      "\n",
      "Extract information related to signatures/variations...\n"
     ]
    },
    {
     "name": "stderr",
     "output_type": "stream",
     "text": [
      "Processing k-mers to extract information: 100%|██████████| 287/287 [00:16<00:00, 17.16it/s]\n"
     ]
    },
    {
     "name": "stdout",
     "output_type": "stream",
     "text": [
      "Execution time:  28.55044937133789\n",
      "Sample: 05.B1.W14.04_05.M1.W08.03 (Comparison_4: 20-mers)\n",
      "\n",
      "KEVOLVE: extraction mode\n",
      "\n",
      "Load sequences...\n",
      "Count k-mers...\n",
      "Generate matrices...\n",
      "Preprocessing...\n",
      "Solution search...\n",
      "\n",
      "Iteration: 1 | Attempt(s): 1 / 1\n",
      "Mean weighted score 0.843 Max weighted score 1.0 Mean unweighted score 0.755 Max unweighted score 1.0\n",
      "Number of genes : 1\n",
      "\n",
      "Identified solutions (284) saved at : data/comparisons/05.B1.W14.04_05.M1.W08.03/Comparison_4/20\n",
      "Execution time:  145.38641381263733\n",
      "\n",
      "KEVOLVE: motif analyzer mode\n",
      "\n",
      "\n",
      "Identifying perfect matches...\n",
      "\n",
      "Identifying variations...\n"
     ]
    },
    {
     "name": "stderr",
     "output_type": "stream",
     "text": [
      "Processing k-mers: 100%|██████████| 284/284 [00:00<00:00, 4846.20it/s]\n",
      "Processing k-mers for variations: 100%|██████████| 284/284 [00:12<00:00, 23.28it/s]\n",
      "Processing k-mers to extract information:   0%|          | 0/284 [00:00<?, ?it/s]"
     ]
    },
    {
     "name": "stdout",
     "output_type": "stream",
     "text": [
      "\n",
      "Extract information related to signatures/variations...\n"
     ]
    },
    {
     "name": "stderr",
     "output_type": "stream",
     "text": [
      "Processing k-mers to extract information: 100%|██████████| 284/284 [00:16<00:00, 17.66it/s]\n"
     ]
    },
    {
     "name": "stdout",
     "output_type": "stream",
     "text": [
      "Execution time:  28.367332696914673\n",
      "Sample: 05.B1.W14.04_05.M1.W08.03 (Comparison_4: 21-mers)\n",
      "\n",
      "KEVOLVE: extraction mode\n",
      "\n",
      "Load sequences...\n",
      "Count k-mers...\n",
      "Generate matrices...\n",
      "Preprocessing...\n",
      "Solution search...\n",
      "\n",
      "Iteration: 1 | Attempt(s): 1 / 1\n",
      "Mean weighted score 0.84 Max weighted score 1.0 Mean unweighted score 0.75 Max unweighted score 1.0\n",
      "Number of genes : 1\n",
      "\n",
      "Identified solutions (281) saved at : data/comparisons/05.B1.W14.04_05.M1.W08.03/Comparison_4/21\n",
      "Execution time:  144.83271741867065\n",
      "\n",
      "KEVOLVE: motif analyzer mode\n",
      "\n",
      "\n",
      "Identifying perfect matches...\n",
      "\n",
      "Identifying variations...\n"
     ]
    },
    {
     "name": "stderr",
     "output_type": "stream",
     "text": [
      "Processing k-mers: 100%|██████████| 281/281 [00:00<00:00, 4671.96it/s]\n",
      "Processing k-mers for variations: 100%|██████████| 281/281 [00:12<00:00, 22.00it/s]\n",
      "Processing k-mers to extract information:   0%|          | 0/281 [00:00<?, ?it/s]"
     ]
    },
    {
     "name": "stdout",
     "output_type": "stream",
     "text": [
      "\n",
      "Extract information related to signatures/variations...\n"
     ]
    },
    {
     "name": "stderr",
     "output_type": "stream",
     "text": [
      "Processing k-mers to extract information: 100%|██████████| 281/281 [00:14<00:00, 18.95it/s]\n"
     ]
    },
    {
     "name": "stdout",
     "output_type": "stream",
     "text": [
      "Execution time:  27.684613704681396\n",
      "Sample: 05.B1.W14.04_05.M1.W08.03 (Comparison_2: 9-mers)\n",
      "\n",
      "KEVOLVE: extraction mode\n",
      "\n",
      "Load sequences...\n",
      "Count k-mers...\n",
      "Generate matrices...\n",
      "Preprocessing...\n",
      "Solution search...\n",
      "\n",
      "Iteration: 1 | Attempt(s): 1 / 1\n",
      "Mean weighted score 0.926 Max weighted score 1.0 Mean unweighted score 0.895 Max unweighted score 1.0\n",
      "Number of genes : 1\n",
      "\n",
      "Identified solutions (525) saved at : data/comparisons/05.B1.W14.04_05.M1.W08.03/Comparison_2/9\n",
      "Execution time:  144.4654839038849\n",
      "\n",
      "KEVOLVE: motif analyzer mode\n",
      "\n",
      "\n",
      "Identifying perfect matches...\n",
      "\n",
      "Identifying variations...\n"
     ]
    },
    {
     "name": "stderr",
     "output_type": "stream",
     "text": [
      "Processing k-mers: 100%|██████████| 525/525 [00:00<00:00, 6100.95it/s]\n",
      "Processing k-mers for variations: 100%|██████████| 525/525 [00:06<00:00, 83.62it/s]\n",
      "Processing k-mers to extract information:   0%|          | 0/525 [00:00<?, ?it/s]"
     ]
    },
    {
     "name": "stdout",
     "output_type": "stream",
     "text": [
      "\n",
      "Extract information related to signatures/variations...\n"
     ]
    },
    {
     "name": "stderr",
     "output_type": "stream",
     "text": [
      "Processing k-mers to extract information: 100%|██████████| 525/525 [02:00<00:00,  4.35it/s]\n"
     ]
    },
    {
     "name": "stdout",
     "output_type": "stream",
     "text": [
      "Execution time:  127.03074169158936\n",
      "Sample: 05.B1.W14.04_05.M1.W08.03 (Comparison_2: 10-mers)\n",
      "\n",
      "KEVOLVE: extraction mode\n",
      "\n",
      "Load sequences...\n",
      "Count k-mers...\n",
      "Generate matrices...\n",
      "Preprocessing...\n",
      "Solution search...\n",
      "\n",
      "Iteration: 1 | Attempt(s): 1 / 1\n",
      "Mean weighted score 0.924 Max weighted score 1.0 Mean unweighted score 0.892 Max unweighted score 1.0\n",
      "Number of genes : 1\n",
      "\n",
      "Identified solutions (535) saved at : data/comparisons/05.B1.W14.04_05.M1.W08.03/Comparison_2/10\n",
      "Execution time:  144.611266374588\n",
      "\n",
      "KEVOLVE: motif analyzer mode\n",
      "\n",
      "\n",
      "Identifying perfect matches...\n",
      "\n",
      "Identifying variations...\n"
     ]
    },
    {
     "name": "stderr",
     "output_type": "stream",
     "text": [
      "Processing k-mers: 100%|██████████| 535/535 [00:00<00:00, 5840.78it/s]\n",
      "Processing k-mers for variations: 100%|██████████| 535/535 [00:07<00:00, 74.78it/s]\n",
      "Processing k-mers to extract information:   0%|          | 0/535 [00:00<?, ?it/s]"
     ]
    },
    {
     "name": "stdout",
     "output_type": "stream",
     "text": [
      "\n",
      "Extract information related to signatures/variations...\n"
     ]
    },
    {
     "name": "stderr",
     "output_type": "stream",
     "text": [
      "Processing k-mers to extract information: 100%|██████████| 535/535 [00:58<00:00,  9.11it/s]\n"
     ]
    },
    {
     "name": "stdout",
     "output_type": "stream",
     "text": [
      "Execution time:  65.9866943359375\n",
      "Sample: 05.B1.W14.04_05.M1.W08.03 (Comparison_2: 11-mers)\n",
      "\n",
      "KEVOLVE: extraction mode\n",
      "\n",
      "Load sequences...\n",
      "Count k-mers...\n",
      "Generate matrices...\n",
      "Preprocessing...\n",
      "Solution search...\n",
      "\n",
      "Iteration: 1 | Attempt(s): 1 / 1\n",
      "Mean weighted score 0.923 Max weighted score 1.0 Mean unweighted score 0.89 Max unweighted score 1.0\n",
      "Number of genes : 1\n",
      "\n",
      "Identified solutions (542) saved at : data/comparisons/05.B1.W14.04_05.M1.W08.03/Comparison_2/11\n",
      "Execution time:  145.23648738861084\n",
      "\n",
      "KEVOLVE: motif analyzer mode\n",
      "\n",
      "\n",
      "Identifying perfect matches...\n",
      "\n",
      "Identifying variations...\n"
     ]
    },
    {
     "name": "stderr",
     "output_type": "stream",
     "text": [
      "Processing k-mers: 100%|██████████| 542/542 [00:00<00:00, 5949.26it/s]\n",
      "Processing k-mers for variations: 100%|██████████| 542/542 [00:08<00:00, 67.53it/s]\n",
      "Processing k-mers to extract information:   0%|          | 1/542 [00:00<01:12,  7.42it/s]"
     ]
    },
    {
     "name": "stdout",
     "output_type": "stream",
     "text": [
      "\n",
      "Extract information related to signatures/variations...\n"
     ]
    },
    {
     "name": "stderr",
     "output_type": "stream",
     "text": [
      "Processing k-mers to extract information: 100%|██████████| 542/542 [00:46<00:00, 11.77it/s]\n"
     ]
    },
    {
     "name": "stdout",
     "output_type": "stream",
     "text": [
      "Execution time:  54.1753511428833\n",
      "Sample: 05.B1.W14.04_05.M1.W08.03 (Comparison_2: 12-mers)\n",
      "\n",
      "KEVOLVE: extraction mode\n",
      "\n",
      "Load sequences...\n",
      "Count k-mers...\n",
      "Generate matrices...\n",
      "Preprocessing...\n",
      "Solution search...\n",
      "\n",
      "Iteration: 1 | Attempt(s): 1 / 1\n",
      "Mean weighted score 0.904 Max weighted score 1.0 Mean unweighted score 0.86 Max unweighted score 1.0\n",
      "Number of genes : 1\n",
      "\n",
      "Identified solutions (546) saved at : data/comparisons/05.B1.W14.04_05.M1.W08.03/Comparison_2/12\n",
      "Execution time:  144.9819254875183\n",
      "\n",
      "KEVOLVE: motif analyzer mode\n",
      "\n",
      "\n",
      "Identifying perfect matches...\n",
      "\n",
      "Identifying variations...\n"
     ]
    },
    {
     "name": "stderr",
     "output_type": "stream",
     "text": [
      "Processing k-mers: 100%|██████████| 546/546 [00:00<00:00, 5854.63it/s]\n",
      "Processing k-mers for variations: 100%|██████████| 546/546 [00:08<00:00, 61.57it/s]\n",
      "Processing k-mers to extract information:   0%|          | 1/546 [00:00<01:13,  7.43it/s]"
     ]
    },
    {
     "name": "stdout",
     "output_type": "stream",
     "text": [
      "\n",
      "Extract information related to signatures/variations...\n"
     ]
    },
    {
     "name": "stderr",
     "output_type": "stream",
     "text": [
      "Processing k-mers to extract information: 100%|██████████| 546/546 [00:42<00:00, 12.86it/s]\n"
     ]
    },
    {
     "name": "stdout",
     "output_type": "stream",
     "text": [
      "Execution time:  51.442033529281616\n",
      "Sample: 05.B1.W14.04_05.M1.W08.03 (Comparison_2: 13-mers)\n",
      "\n",
      "KEVOLVE: extraction mode\n",
      "\n",
      "Load sequences...\n",
      "Count k-mers...\n",
      "Generate matrices...\n",
      "Preprocessing...\n",
      "Solution search...\n",
      "\n",
      "Iteration: 1 | Attempt(s): 1 / 1\n",
      "Mean weighted score 0.904 Max weighted score 1.0 Mean unweighted score 0.861 Max unweighted score 1.0\n",
      "Number of genes : 1\n",
      "\n",
      "Identified solutions (541) saved at : data/comparisons/05.B1.W14.04_05.M1.W08.03/Comparison_2/13\n",
      "Execution time:  145.18970727920532\n",
      "\n",
      "KEVOLVE: motif analyzer mode\n",
      "\n",
      "\n",
      "Identifying perfect matches...\n",
      "\n",
      "Identifying variations...\n"
     ]
    },
    {
     "name": "stderr",
     "output_type": "stream",
     "text": [
      "Processing k-mers: 100%|██████████| 541/541 [00:00<00:00, 5915.76it/s]\n",
      "Processing k-mers for variations: 100%|██████████| 541/541 [00:09<00:00, 57.34it/s]\n",
      "Processing k-mers to extract information:   0%|          | 0/541 [00:00<?, ?it/s]"
     ]
    },
    {
     "name": "stdout",
     "output_type": "stream",
     "text": [
      "\n",
      "Extract information related to signatures/variations...\n"
     ]
    },
    {
     "name": "stderr",
     "output_type": "stream",
     "text": [
      "Processing k-mers to extract information: 100%|██████████| 541/541 [00:35<00:00, 15.07it/s]\n"
     ]
    },
    {
     "name": "stdout",
     "output_type": "stream",
     "text": [
      "Execution time:  45.45266032218933\n",
      "Sample: 05.B1.W14.04_05.M1.W08.03 (Comparison_2: 14-mers)\n",
      "\n",
      "KEVOLVE: extraction mode\n",
      "\n",
      "Load sequences...\n",
      "Count k-mers...\n",
      "Generate matrices...\n",
      "Preprocessing...\n",
      "Solution search...\n",
      "\n",
      "Iteration: 1 | Attempt(s): 1 / 1\n",
      "Mean weighted score 0.899 Max weighted score 1.0 Mean unweighted score 0.852 Max unweighted score 1.0\n",
      "Number of genes : 1\n",
      "\n",
      "Identified solutions (536) saved at : data/comparisons/05.B1.W14.04_05.M1.W08.03/Comparison_2/14\n",
      "Execution time:  145.3087980747223\n",
      "\n",
      "KEVOLVE: motif analyzer mode\n",
      "\n",
      "\n",
      "Identifying perfect matches...\n",
      "\n",
      "Identifying variations...\n"
     ]
    },
    {
     "name": "stderr",
     "output_type": "stream",
     "text": [
      "Processing k-mers: 100%|██████████| 536/536 [00:00<00:00, 5871.66it/s]\n",
      "Processing k-mers for variations: 100%|██████████| 536/536 [00:10<00:00, 52.75it/s]\n",
      "Processing k-mers to extract information:   0%|          | 0/536 [00:00<?, ?it/s]"
     ]
    },
    {
     "name": "stdout",
     "output_type": "stream",
     "text": [
      "\n",
      "Extract information related to signatures/variations...\n"
     ]
    },
    {
     "name": "stderr",
     "output_type": "stream",
     "text": [
      "Processing k-mers to extract information: 100%|██████████| 536/536 [00:35<00:00, 15.00it/s]\n"
     ]
    },
    {
     "name": "stdout",
     "output_type": "stream",
     "text": [
      "Execution time:  46.006840229034424\n",
      "Sample: 05.B1.W14.04_05.M1.W08.03 (Comparison_2: 15-mers)\n",
      "\n",
      "KEVOLVE: extraction mode\n",
      "\n",
      "Load sequences...\n",
      "Count k-mers...\n",
      "Generate matrices...\n",
      "Preprocessing...\n",
      "Solution search...\n",
      "\n",
      "Iteration: 1 | Attempt(s): 1 / 1\n",
      "Mean weighted score 0.896 Max weighted score 1.0 Mean unweighted score 0.848 Max unweighted score 1.0\n",
      "Number of genes : 1\n",
      "\n",
      "Identified solutions (532) saved at : data/comparisons/05.B1.W14.04_05.M1.W08.03/Comparison_2/15\n",
      "Execution time:  144.527911901474\n",
      "\n",
      "KEVOLVE: motif analyzer mode\n",
      "\n",
      "\n",
      "Identifying perfect matches...\n",
      "\n",
      "Identifying variations...\n"
     ]
    },
    {
     "name": "stderr",
     "output_type": "stream",
     "text": [
      "Processing k-mers: 100%|██████████| 532/532 [00:00<00:00, 5654.55it/s]\n",
      "Processing k-mers for variations: 100%|██████████| 532/532 [00:10<00:00, 49.63it/s]\n",
      "Processing k-mers to extract information:   0%|          | 0/532 [00:00<?, ?it/s]"
     ]
    },
    {
     "name": "stdout",
     "output_type": "stream",
     "text": [
      "\n",
      "Extract information related to signatures/variations...\n"
     ]
    },
    {
     "name": "stderr",
     "output_type": "stream",
     "text": [
      "Processing k-mers to extract information: 100%|██████████| 532/532 [00:32<00:00, 16.47it/s]\n"
     ]
    },
    {
     "name": "stdout",
     "output_type": "stream",
     "text": [
      "Execution time:  43.131441593170166\n",
      "Sample: 05.B1.W14.04_05.M1.W08.03 (Comparison_2: 16-mers)\n",
      "\n",
      "KEVOLVE: extraction mode\n",
      "\n",
      "Load sequences...\n",
      "Count k-mers...\n",
      "Generate matrices...\n",
      "Preprocessing...\n",
      "Solution search...\n",
      "\n",
      "Iteration: 1 | Attempt(s): 1 / 1\n",
      "Mean weighted score 0.894 Max weighted score 1.0 Mean unweighted score 0.845 Max unweighted score 1.0\n",
      "Number of genes : 1\n",
      "\n",
      "Identified solutions (523) saved at : data/comparisons/05.B1.W14.04_05.M1.W08.03/Comparison_2/16\n",
      "Execution time:  145.14176750183105\n",
      "\n",
      "KEVOLVE: motif analyzer mode\n",
      "\n",
      "\n",
      "Identifying perfect matches...\n",
      "\n",
      "Identifying variations...\n"
     ]
    },
    {
     "name": "stderr",
     "output_type": "stream",
     "text": [
      "Processing k-mers: 100%|██████████| 523/523 [00:00<00:00, 5745.37it/s]\n",
      "Processing k-mers for variations: 100%|██████████| 523/523 [00:11<00:00, 46.34it/s]\n",
      "Processing k-mers to extract information:   0%|          | 0/523 [00:00<?, ?it/s]"
     ]
    },
    {
     "name": "stdout",
     "output_type": "stream",
     "text": [
      "\n",
      "Extract information related to signatures/variations...\n"
     ]
    },
    {
     "name": "stderr",
     "output_type": "stream",
     "text": [
      "Processing k-mers to extract information: 100%|██████████| 523/523 [00:34<00:00, 15.03it/s]\n"
     ]
    },
    {
     "name": "stdout",
     "output_type": "stream",
     "text": [
      "Execution time:  46.18936038017273\n",
      "Sample: 05.B1.W14.04_05.M1.W08.03 (Comparison_2: 17-mers)\n",
      "\n",
      "KEVOLVE: extraction mode\n",
      "\n",
      "Load sequences...\n",
      "Count k-mers...\n",
      "Generate matrices...\n",
      "Preprocessing...\n",
      "Solution search...\n",
      "\n",
      "Iteration: 1 | Attempt(s): 1 / 1\n",
      "Mean weighted score 0.893 Max weighted score 1.0 Mean unweighted score 0.844 Max unweighted score 1.0\n",
      "Number of genes : 1\n",
      "\n",
      "Identified solutions (516) saved at : data/comparisons/05.B1.W14.04_05.M1.W08.03/Comparison_2/17\n",
      "Execution time:  145.32318449020386\n",
      "\n",
      "KEVOLVE: motif analyzer mode\n",
      "\n",
      "\n",
      "Identifying perfect matches...\n",
      "\n",
      "Identifying variations...\n"
     ]
    },
    {
     "name": "stderr",
     "output_type": "stream",
     "text": [
      "Processing k-mers: 100%|██████████| 516/516 [00:00<00:00, 5820.11it/s]\n",
      "Processing k-mers for variations: 100%|██████████| 516/516 [00:11<00:00, 43.53it/s]\n",
      "Processing k-mers to extract information:   0%|          | 1/516 [00:00<00:58,  8.79it/s]"
     ]
    },
    {
     "name": "stdout",
     "output_type": "stream",
     "text": [
      "\n",
      "Extract information related to signatures/variations...\n"
     ]
    },
    {
     "name": "stderr",
     "output_type": "stream",
     "text": [
      "Processing k-mers to extract information: 100%|██████████| 516/516 [00:33<00:00, 15.58it/s]\n"
     ]
    },
    {
     "name": "stdout",
     "output_type": "stream",
     "text": [
      "Execution time:  45.08774971961975\n",
      "Sample: 05.B1.W14.04_05.M1.W08.03 (Comparison_2: 18-mers)\n",
      "\n",
      "KEVOLVE: extraction mode\n",
      "\n",
      "Load sequences...\n",
      "Count k-mers...\n",
      "Generate matrices...\n",
      "Preprocessing...\n",
      "Solution search...\n",
      "\n",
      "Iteration: 1 | Attempt(s): 1 / 1\n",
      "Mean weighted score 0.888 Max weighted score 1.0 Mean unweighted score 0.837 Max unweighted score 1.0\n",
      "Number of genes : 1\n",
      "\n",
      "Identified solutions (508) saved at : data/comparisons/05.B1.W14.04_05.M1.W08.03/Comparison_2/18\n",
      "Execution time:  144.7797658443451\n",
      "\n",
      "KEVOLVE: motif analyzer mode\n",
      "\n",
      "\n",
      "Identifying perfect matches...\n",
      "\n",
      "Identifying variations...\n"
     ]
    },
    {
     "name": "stderr",
     "output_type": "stream",
     "text": [
      "Processing k-mers: 100%|██████████| 508/508 [00:00<00:00, 5532.59it/s]\n",
      "Processing k-mers for variations: 100%|██████████| 508/508 [00:12<00:00, 41.30it/s]\n",
      "Processing k-mers to extract information:   0%|          | 0/508 [00:00<?, ?it/s]"
     ]
    },
    {
     "name": "stdout",
     "output_type": "stream",
     "text": [
      "\n",
      "Extract information related to signatures/variations...\n"
     ]
    },
    {
     "name": "stderr",
     "output_type": "stream",
     "text": [
      "Processing k-mers to extract information: 100%|██████████| 508/508 [00:32<00:00, 15.72it/s]\n"
     ]
    },
    {
     "name": "stdout",
     "output_type": "stream",
     "text": [
      "Execution time:  44.72394275665283\n",
      "Sample: 05.B1.W14.04_05.M1.W08.03 (Comparison_2: 19-mers)\n",
      "\n",
      "KEVOLVE: extraction mode\n",
      "\n",
      "Load sequences...\n",
      "Count k-mers...\n",
      "Generate matrices...\n",
      "Preprocessing...\n",
      "Solution search...\n",
      "\n",
      "Iteration: 1 | Attempt(s): 1 / 1\n",
      "Mean weighted score 0.887 Max weighted score 1.0 Mean unweighted score 0.835 Max unweighted score 1.0\n",
      "Number of genes : 1\n",
      "\n",
      "Identified solutions (498) saved at : data/comparisons/05.B1.W14.04_05.M1.W08.03/Comparison_2/19\n",
      "Execution time:  144.62693762779236\n",
      "\n",
      "KEVOLVE: motif analyzer mode\n",
      "\n",
      "\n",
      "Identifying perfect matches...\n",
      "\n",
      "Identifying variations...\n"
     ]
    },
    {
     "name": "stderr",
     "output_type": "stream",
     "text": [
      "Processing k-mers: 100%|██████████| 498/498 [00:00<00:00, 5840.93it/s]\n",
      "Processing k-mers for variations: 100%|██████████| 498/498 [00:12<00:00, 39.24it/s]\n",
      "Processing k-mers to extract information:   0%|          | 0/498 [00:00<?, ?it/s]"
     ]
    },
    {
     "name": "stdout",
     "output_type": "stream",
     "text": [
      "\n",
      "Extract information related to signatures/variations...\n"
     ]
    },
    {
     "name": "stderr",
     "output_type": "stream",
     "text": [
      "Processing k-mers to extract information: 100%|██████████| 498/498 [00:31<00:00, 15.71it/s]\n"
     ]
    },
    {
     "name": "stdout",
     "output_type": "stream",
     "text": [
      "Execution time:  44.49528670310974\n",
      "Sample: 05.B1.W14.04_05.M1.W08.03 (Comparison_2: 20-mers)\n",
      "\n",
      "KEVOLVE: extraction mode\n",
      "\n",
      "Load sequences...\n",
      "Count k-mers...\n",
      "Generate matrices...\n",
      "Preprocessing...\n",
      "Solution search...\n",
      "\n",
      "Iteration: 1 | Attempt(s): 1 / 1\n",
      "Mean weighted score 0.887 Max weighted score 1.0 Mean unweighted score 0.836 Max unweighted score 1.0\n",
      "Number of genes : 1\n",
      "\n",
      "Identified solutions (489) saved at : data/comparisons/05.B1.W14.04_05.M1.W08.03/Comparison_2/20\n",
      "Execution time:  144.55260729789734\n",
      "\n",
      "KEVOLVE: motif analyzer mode\n",
      "\n",
      "\n",
      "Identifying perfect matches...\n",
      "\n",
      "Identifying variations...\n"
     ]
    },
    {
     "name": "stderr",
     "output_type": "stream",
     "text": [
      "Processing k-mers: 100%|██████████| 489/489 [00:00<00:00, 5850.58it/s]\n",
      "Processing k-mers for variations: 100%|██████████| 489/489 [00:13<00:00, 37.01it/s]\n",
      "Processing k-mers to extract information:   0%|          | 0/489 [00:00<?, ?it/s]"
     ]
    },
    {
     "name": "stdout",
     "output_type": "stream",
     "text": [
      "\n",
      "Extract information related to signatures/variations...\n"
     ]
    },
    {
     "name": "stderr",
     "output_type": "stream",
     "text": [
      "Processing k-mers to extract information: 100%|██████████| 489/489 [00:30<00:00, 16.20it/s]\n"
     ]
    },
    {
     "name": "stdout",
     "output_type": "stream",
     "text": [
      "Execution time:  43.50425696372986\n",
      "Sample: 05.B1.W14.04_05.M1.W08.03 (Comparison_2: 21-mers)\n",
      "\n",
      "KEVOLVE: extraction mode\n",
      "\n",
      "Load sequences...\n",
      "Count k-mers...\n",
      "Generate matrices...\n",
      "Preprocessing...\n",
      "Solution search...\n",
      "\n",
      "Iteration: 1 | Attempt(s): 1 / 1\n",
      "Mean weighted score 0.885 Max weighted score 1.0 Mean unweighted score 0.832 Max unweighted score 1.0\n",
      "Number of genes : 1\n",
      "\n",
      "Identified solutions (481) saved at : data/comparisons/05.B1.W14.04_05.M1.W08.03/Comparison_2/21\n",
      "Execution time:  144.90463137626648\n",
      "\n",
      "KEVOLVE: motif analyzer mode\n",
      "\n",
      "\n",
      "Identifying perfect matches...\n",
      "\n",
      "Identifying variations...\n"
     ]
    },
    {
     "name": "stderr",
     "output_type": "stream",
     "text": [
      "Processing k-mers: 100%|██████████| 481/481 [00:00<00:00, 5745.61it/s]\n",
      "Processing k-mers for variations: 100%|██████████| 481/481 [00:13<00:00, 35.37it/s]\n",
      "Processing k-mers to extract information:   0%|          | 1/481 [00:00<01:03,  7.53it/s]"
     ]
    },
    {
     "name": "stdout",
     "output_type": "stream",
     "text": [
      "\n",
      "Extract information related to signatures/variations...\n"
     ]
    },
    {
     "name": "stderr",
     "output_type": "stream",
     "text": [
      "Processing k-mers to extract information: 100%|██████████| 481/481 [00:28<00:00, 17.05it/s]\n"
     ]
    },
    {
     "name": "stdout",
     "output_type": "stream",
     "text": [
      "Execution time:  41.913371086120605\n",
      "Sample: 05.B1.W14.04_05.M1.W08.03 (Comparison_3: 9-mers)\n",
      "\n",
      "KEVOLVE: extraction mode\n",
      "\n",
      "Load sequences...\n",
      "Count k-mers...\n",
      "Generate matrices...\n",
      "Preprocessing...\n",
      "Solution search...\n",
      "\n",
      "Iteration: 1 | Attempt(s): 1 / 1\n",
      "Mean weighted score 0.881 Max weighted score 1.0 Mean unweighted score 0.86 Max unweighted score 1.0\n",
      "Number of genes : 1\n",
      "\n",
      "Identified solutions (246) saved at : data/comparisons/05.B1.W14.04_05.M1.W08.03/Comparison_3/9\n",
      "Execution time:  144.18270468711853\n",
      "\n",
      "KEVOLVE: motif analyzer mode\n",
      "\n",
      "\n",
      "Identifying perfect matches...\n",
      "\n",
      "Identifying variations...\n"
     ]
    },
    {
     "name": "stderr",
     "output_type": "stream",
     "text": [
      "Processing k-mers: 100%|██████████| 246/246 [00:00<00:00, 6290.50it/s]\n",
      "Processing k-mers for variations: 100%|██████████| 246/246 [00:02<00:00, 121.67it/s]\n",
      "Processing k-mers to extract information:   0%|          | 1/246 [00:00<00:28,  8.48it/s]"
     ]
    },
    {
     "name": "stdout",
     "output_type": "stream",
     "text": [
      "\n",
      "Extract information related to signatures/variations...\n"
     ]
    },
    {
     "name": "stderr",
     "output_type": "stream",
     "text": [
      "Processing k-mers to extract information: 100%|██████████| 246/246 [00:47<00:00,  5.17it/s]\n"
     ]
    },
    {
     "name": "stdout",
     "output_type": "stream",
     "text": [
      "Execution time:  49.62277793884277\n",
      "Sample: 05.B1.W14.04_05.M1.W08.03 (Comparison_3: 10-mers)\n",
      "\n",
      "KEVOLVE: extraction mode\n",
      "\n",
      "Load sequences...\n",
      "Count k-mers...\n",
      "Generate matrices...\n",
      "Preprocessing...\n",
      "Solution search...\n",
      "\n",
      "Iteration: 1 | Attempt(s): 1 / 1\n",
      "Mean weighted score 0.878 Max weighted score 1.0 Mean unweighted score 0.856 Max unweighted score 1.0\n",
      "Number of genes : 1\n",
      "\n",
      "Identified solutions (245) saved at : data/comparisons/05.B1.W14.04_05.M1.W08.03/Comparison_3/10\n",
      "Execution time:  145.30458641052246\n",
      "\n",
      "KEVOLVE: motif analyzer mode\n",
      "\n",
      "\n",
      "Identifying perfect matches...\n",
      "\n",
      "Identifying variations...\n"
     ]
    },
    {
     "name": "stderr",
     "output_type": "stream",
     "text": [
      "Processing k-mers: 100%|██████████| 245/245 [00:00<00:00, 6298.53it/s]\n",
      "Processing k-mers for variations: 100%|██████████| 245/245 [00:02<00:00, 112.28it/s]\n",
      "Processing k-mers to extract information:   0%|          | 0/245 [00:00<?, ?it/s]"
     ]
    },
    {
     "name": "stdout",
     "output_type": "stream",
     "text": [
      "\n",
      "Extract information related to signatures/variations...\n"
     ]
    },
    {
     "name": "stderr",
     "output_type": "stream",
     "text": [
      "Processing k-mers to extract information: 100%|██████████| 245/245 [00:20<00:00, 12.03it/s]\n"
     ]
    },
    {
     "name": "stdout",
     "output_type": "stream",
     "text": [
      "Execution time:  22.60630750656128\n",
      "Sample: 05.B1.W14.04_05.M1.W08.03 (Comparison_3: 11-mers)\n",
      "\n",
      "KEVOLVE: extraction mode\n",
      "\n",
      "Load sequences...\n",
      "Count k-mers...\n",
      "Generate matrices...\n",
      "Preprocessing...\n",
      "Solution search...\n",
      "\n",
      "Iteration: 1 | Attempt(s): 1 / 1\n",
      "Mean weighted score 0.864 Max weighted score 1.0 Mean unweighted score 0.838 Max unweighted score 1.0\n",
      "Number of genes : 1\n",
      "\n",
      "Identified solutions (243) saved at : data/comparisons/05.B1.W14.04_05.M1.W08.03/Comparison_3/11\n",
      "Execution time:  144.5740623474121\n",
      "\n",
      "KEVOLVE: motif analyzer mode\n",
      "\n",
      "\n",
      "Identifying perfect matches...\n",
      "\n",
      "Identifying variations...\n"
     ]
    },
    {
     "name": "stderr",
     "output_type": "stream",
     "text": [
      "Processing k-mers: 100%|██████████| 243/243 [00:00<00:00, 6054.00it/s]\n",
      "Processing k-mers for variations: 100%|██████████| 243/243 [00:02<00:00, 104.90it/s]\n",
      "Processing k-mers to extract information:   0%|          | 0/243 [00:00<?, ?it/s]"
     ]
    },
    {
     "name": "stdout",
     "output_type": "stream",
     "text": [
      "\n",
      "Extract information related to signatures/variations...\n"
     ]
    },
    {
     "name": "stderr",
     "output_type": "stream",
     "text": [
      "Processing k-mers to extract information: 100%|██████████| 243/243 [00:15<00:00, 15.24it/s]\n"
     ]
    },
    {
     "name": "stdout",
     "output_type": "stream",
     "text": [
      "Execution time:  18.327803373336792\n",
      "Sample: 05.B1.W14.04_05.M1.W08.03 (Comparison_3: 12-mers)\n",
      "\n",
      "KEVOLVE: extraction mode\n",
      "\n",
      "Load sequences...\n",
      "Count k-mers...\n",
      "Generate matrices...\n",
      "Preprocessing...\n",
      "Solution search...\n",
      "\n",
      "Iteration: 1 | Attempt(s): 1 / 1\n",
      "Mean weighted score 0.86 Max weighted score 1.0 Mean unweighted score 0.834 Max unweighted score 1.0\n",
      "Number of genes : 1\n",
      "\n",
      "Identified solutions (240) saved at : data/comparisons/05.B1.W14.04_05.M1.W08.03/Comparison_3/12\n",
      "Execution time:  144.7750325202942\n",
      "\n",
      "KEVOLVE: motif analyzer mode\n",
      "\n",
      "\n",
      "Identifying perfect matches...\n",
      "\n",
      "Identifying variations...\n"
     ]
    },
    {
     "name": "stderr",
     "output_type": "stream",
     "text": [
      "Processing k-mers: 100%|██████████| 240/240 [00:00<00:00, 6193.22it/s]\n",
      "Processing k-mers for variations: 100%|██████████| 240/240 [00:02<00:00, 97.20it/s] \n",
      "Processing k-mers to extract information:   0%|          | 1/240 [00:00<00:28,  8.47it/s]"
     ]
    },
    {
     "name": "stdout",
     "output_type": "stream",
     "text": [
      "\n",
      "Extract information related to signatures/variations...\n"
     ]
    },
    {
     "name": "stderr",
     "output_type": "stream",
     "text": [
      "Processing k-mers to extract information: 100%|██████████| 240/240 [00:12<00:00, 19.79it/s]\n"
     ]
    },
    {
     "name": "stdout",
     "output_type": "stream",
     "text": [
      "Execution time:  14.656416654586792\n",
      "Sample: 05.B1.W14.04_05.M1.W08.03 (Comparison_3: 13-mers)\n",
      "\n",
      "KEVOLVE: extraction mode\n",
      "\n",
      "Load sequences...\n",
      "Count k-mers...\n",
      "Generate matrices...\n",
      "Preprocessing...\n",
      "Solution search...\n",
      "\n",
      "Iteration: 1 | Attempt(s): 1 / 1\n",
      "Mean weighted score 0.86 Max weighted score 1.0 Mean unweighted score 0.835 Max unweighted score 1.0\n",
      "Number of genes : 1\n",
      "\n",
      "Identified solutions (236) saved at : data/comparisons/05.B1.W14.04_05.M1.W08.03/Comparison_3/13\n",
      "Execution time:  144.5087296962738\n",
      "\n",
      "KEVOLVE: motif analyzer mode\n",
      "\n",
      "\n",
      "Identifying perfect matches...\n",
      "\n",
      "Identifying variations...\n"
     ]
    },
    {
     "name": "stderr",
     "output_type": "stream",
     "text": [
      "Processing k-mers: 100%|██████████| 236/236 [00:00<00:00, 6227.90it/s]\n",
      "Processing k-mers for variations: 100%|██████████| 236/236 [00:02<00:00, 91.97it/s]\n",
      "Processing k-mers to extract information:   0%|          | 0/236 [00:00<?, ?it/s]"
     ]
    },
    {
     "name": "stdout",
     "output_type": "stream",
     "text": [
      "\n",
      "Extract information related to signatures/variations...\n"
     ]
    },
    {
     "name": "stderr",
     "output_type": "stream",
     "text": [
      "Processing k-mers to extract information: 100%|██████████| 236/236 [00:10<00:00, 23.02it/s]\n"
     ]
    },
    {
     "name": "stdout",
     "output_type": "stream",
     "text": [
      "Execution time:  12.877301931381226\n",
      "Sample: 05.B1.W14.04_05.M1.W08.03 (Comparison_3: 14-mers)\n",
      "\n",
      "KEVOLVE: extraction mode\n",
      "\n",
      "Load sequences...\n",
      "Count k-mers...\n",
      "Generate matrices...\n",
      "Preprocessing...\n",
      "Solution search...\n",
      "\n",
      "Iteration: 1 | Attempt(s): 1 / 1\n",
      "Mean weighted score 0.856 Max weighted score 1.0 Mean unweighted score 0.83 Max unweighted score 1.0\n",
      "Number of genes : 1\n",
      "\n",
      "Identified solutions (234) saved at : data/comparisons/05.B1.W14.04_05.M1.W08.03/Comparison_3/14\n",
      "Execution time:  144.75186777114868\n",
      "\n",
      "KEVOLVE: motif analyzer mode\n",
      "\n",
      "\n",
      "Identifying perfect matches...\n",
      "\n",
      "Identifying variations...\n"
     ]
    },
    {
     "name": "stderr",
     "output_type": "stream",
     "text": [
      "Processing k-mers: 100%|██████████| 234/234 [00:00<00:00, 6191.44it/s]\n",
      "Processing k-mers for variations: 100%|██████████| 234/234 [00:02<00:00, 86.88it/s]\n",
      "Processing k-mers to extract information:   0%|          | 1/234 [00:00<00:27,  8.52it/s]"
     ]
    },
    {
     "name": "stdout",
     "output_type": "stream",
     "text": [
      "\n",
      "Extract information related to signatures/variations...\n"
     ]
    },
    {
     "name": "stderr",
     "output_type": "stream",
     "text": [
      "Processing k-mers to extract information: 100%|██████████| 234/234 [00:10<00:00, 22.38it/s]\n"
     ]
    },
    {
     "name": "stdout",
     "output_type": "stream",
     "text": [
      "Execution time:  13.211143016815186\n",
      "Sample: 05.B1.W14.04_05.M1.W08.03 (Comparison_3: 15-mers)\n",
      "\n",
      "KEVOLVE: extraction mode\n",
      "\n",
      "Load sequences...\n",
      "Count k-mers...\n",
      "Generate matrices...\n",
      "Preprocessing...\n",
      "Solution search...\n",
      "\n",
      "Iteration: 1 | Attempt(s): 1 / 1\n",
      "Mean weighted score 0.857 Max weighted score 1.0 Mean unweighted score 0.831 Max unweighted score 1.0\n",
      "Number of genes : 1\n",
      "\n",
      "Identified solutions (232) saved at : data/comparisons/05.B1.W14.04_05.M1.W08.03/Comparison_3/15\n",
      "Execution time:  144.30502223968506\n",
      "\n",
      "KEVOLVE: motif analyzer mode\n",
      "\n",
      "\n",
      "Identifying perfect matches...\n",
      "\n",
      "Identifying variations...\n"
     ]
    },
    {
     "name": "stderr",
     "output_type": "stream",
     "text": [
      "Processing k-mers: 100%|██████████| 232/232 [00:00<00:00, 6213.19it/s]\n",
      "Processing k-mers for variations: 100%|██████████| 232/232 [00:02<00:00, 82.84it/s]\n",
      "Processing k-mers to extract information:   0%|          | 0/232 [00:00<?, ?it/s]"
     ]
    },
    {
     "name": "stdout",
     "output_type": "stream",
     "text": [
      "\n",
      "Extract information related to signatures/variations...\n"
     ]
    },
    {
     "name": "stderr",
     "output_type": "stream",
     "text": [
      "Processing k-mers to extract information: 100%|██████████| 232/232 [00:10<00:00, 22.81it/s]\n"
     ]
    },
    {
     "name": "stdout",
     "output_type": "stream",
     "text": [
      "Execution time:  13.030070781707764\n",
      "Sample: 05.B1.W14.04_05.M1.W08.03 (Comparison_3: 16-mers)\n",
      "\n",
      "KEVOLVE: extraction mode\n",
      "\n",
      "Load sequences...\n",
      "Count k-mers...\n",
      "Generate matrices...\n",
      "Preprocessing...\n",
      "Solution search...\n",
      "\n",
      "Iteration: 1 | Attempt(s): 1 / 1\n",
      "Mean weighted score 0.854 Max weighted score 1.0 Mean unweighted score 0.828 Max unweighted score 1.0\n",
      "Number of genes : 1\n",
      "\n",
      "Identified solutions (227) saved at : data/comparisons/05.B1.W14.04_05.M1.W08.03/Comparison_3/16\n",
      "Execution time:  144.34704542160034\n",
      "\n",
      "KEVOLVE: motif analyzer mode\n",
      "\n",
      "\n",
      "Identifying perfect matches...\n",
      "\n",
      "Identifying variations...\n"
     ]
    },
    {
     "name": "stderr",
     "output_type": "stream",
     "text": [
      "Processing k-mers: 100%|██████████| 227/227 [00:00<00:00, 6190.23it/s]\n",
      "Processing k-mers for variations: 100%|██████████| 227/227 [00:02<00:00, 78.83it/s]\n",
      "Processing k-mers to extract information:   0%|          | 1/227 [00:00<00:26,  8.45it/s]"
     ]
    },
    {
     "name": "stdout",
     "output_type": "stream",
     "text": [
      "\n",
      "Extract information related to signatures/variations...\n"
     ]
    },
    {
     "name": "stderr",
     "output_type": "stream",
     "text": [
      "Processing k-mers to extract information: 100%|██████████| 227/227 [00:12<00:00, 17.76it/s]\n"
     ]
    },
    {
     "name": "stdout",
     "output_type": "stream",
     "text": [
      "Execution time:  15.723142862319946\n",
      "Sample: 05.B1.W14.04_05.M1.W08.03 (Comparison_3: 17-mers)\n",
      "\n",
      "KEVOLVE: extraction mode\n",
      "\n",
      "Load sequences...\n",
      "Count k-mers...\n",
      "Generate matrices...\n",
      "Preprocessing...\n",
      "Solution search...\n",
      "\n",
      "Iteration: 1 | Attempt(s): 1 / 1\n",
      "Mean weighted score 0.836 Max weighted score 1.0 Mean unweighted score 0.804 Max unweighted score 1.0\n",
      "Number of genes : 1\n",
      "\n",
      "Identified solutions (222) saved at : data/comparisons/05.B1.W14.04_05.M1.W08.03/Comparison_3/17\n",
      "Execution time:  144.9344460964203\n",
      "\n",
      "KEVOLVE: motif analyzer mode\n",
      "\n",
      "\n",
      "Identifying perfect matches...\n",
      "\n",
      "Identifying variations...\n"
     ]
    },
    {
     "name": "stderr",
     "output_type": "stream",
     "text": [
      "Processing k-mers: 100%|██████████| 222/222 [00:00<00:00, 6316.04it/s]\n",
      "Processing k-mers for variations: 100%|██████████| 222/222 [00:02<00:00, 75.55it/s]\n",
      "Processing k-mers to extract information:   3%|▎         | 6/222 [00:00<00:04, 48.70it/s]"
     ]
    },
    {
     "name": "stdout",
     "output_type": "stream",
     "text": [
      "\n",
      "Extract information related to signatures/variations...\n"
     ]
    },
    {
     "name": "stderr",
     "output_type": "stream",
     "text": [
      "Processing k-mers to extract information: 100%|██████████| 222/222 [00:10<00:00, 21.48it/s]\n"
     ]
    },
    {
     "name": "stdout",
     "output_type": "stream",
     "text": [
      "Execution time:  13.332692384719849\n",
      "Sample: 05.B1.W14.04_05.M1.W08.03 (Comparison_3: 18-mers)\n",
      "\n",
      "KEVOLVE: extraction mode\n",
      "\n",
      "Load sequences...\n",
      "Count k-mers...\n",
      "Generate matrices...\n",
      "Preprocessing...\n",
      "Solution search...\n",
      "\n",
      "Iteration: 1 | Attempt(s): 1 / 1\n",
      "Mean weighted score 0.818 Max weighted score 1.0 Mean unweighted score 0.781 Max unweighted score 1.0\n",
      "Number of genes : 1\n",
      "\n",
      "Identified solutions (217) saved at : data/comparisons/05.B1.W14.04_05.M1.W08.03/Comparison_3/18\n",
      "Execution time:  144.80696892738342\n",
      "\n",
      "KEVOLVE: motif analyzer mode\n",
      "\n",
      "\n",
      "Identifying perfect matches...\n",
      "\n",
      "Identifying variations...\n"
     ]
    },
    {
     "name": "stderr",
     "output_type": "stream",
     "text": [
      "Processing k-mers: 100%|██████████| 217/217 [00:00<00:00, 5987.05it/s]\n",
      "Processing k-mers for variations: 100%|██████████| 217/217 [00:03<00:00, 71.70it/s]\n",
      "Processing k-mers to extract information:   0%|          | 0/217 [00:00<?, ?it/s]"
     ]
    },
    {
     "name": "stdout",
     "output_type": "stream",
     "text": [
      "\n",
      "Extract information related to signatures/variations...\n"
     ]
    },
    {
     "name": "stderr",
     "output_type": "stream",
     "text": [
      "Processing k-mers to extract information: 100%|██████████| 217/217 [00:09<00:00, 22.52it/s]\n"
     ]
    },
    {
     "name": "stdout",
     "output_type": "stream",
     "text": [
      "Execution time:  12.720506191253662\n",
      "Sample: 05.B1.W14.04_05.M1.W08.03 (Comparison_3: 19-mers)\n",
      "\n",
      "KEVOLVE: extraction mode\n",
      "\n",
      "Load sequences...\n",
      "Count k-mers...\n",
      "Generate matrices...\n",
      "Preprocessing...\n",
      "Solution search...\n",
      "\n",
      "Iteration: 1 | Attempt(s): 1 / 1\n",
      "Mean weighted score 0.823 Max weighted score 1.0 Mean unweighted score 0.787 Max unweighted score 1.0\n",
      "Number of genes : 1\n",
      "\n",
      "Identified solutions (210) saved at : data/comparisons/05.B1.W14.04_05.M1.W08.03/Comparison_3/19\n",
      "Execution time:  145.2253475189209\n",
      "\n",
      "KEVOLVE: motif analyzer mode\n",
      "\n",
      "\n",
      "Identifying perfect matches...\n",
      "\n",
      "Identifying variations...\n"
     ]
    },
    {
     "name": "stderr",
     "output_type": "stream",
     "text": [
      "Processing k-mers: 100%|██████████| 210/210 [00:00<00:00, 6188.20it/s]\n",
      "Processing k-mers for variations: 100%|██████████| 210/210 [00:03<00:00, 69.04it/s]\n",
      "Processing k-mers to extract information:   0%|          | 0/210 [00:00<?, ?it/s]"
     ]
    },
    {
     "name": "stdout",
     "output_type": "stream",
     "text": [
      "\n",
      "Extract information related to signatures/variations...\n"
     ]
    },
    {
     "name": "stderr",
     "output_type": "stream",
     "text": [
      "Processing k-mers to extract information: 100%|██████████| 210/210 [00:09<00:00, 22.59it/s]\n"
     ]
    },
    {
     "name": "stdout",
     "output_type": "stream",
     "text": [
      "Execution time:  12.394630670547485\n",
      "Sample: 05.B1.W14.04_05.M1.W08.03 (Comparison_3: 20-mers)\n",
      "\n",
      "KEVOLVE: extraction mode\n",
      "\n",
      "Load sequences...\n",
      "Count k-mers...\n",
      "Generate matrices...\n",
      "Preprocessing...\n",
      "Solution search...\n",
      "\n",
      "Iteration: 1 | Attempt(s): 1 / 1\n",
      "Mean weighted score 0.818 Max weighted score 1.0 Mean unweighted score 0.781 Max unweighted score 1.0\n",
      "Number of genes : 1\n",
      "\n",
      "Identified solutions (205) saved at : data/comparisons/05.B1.W14.04_05.M1.W08.03/Comparison_3/20\n",
      "Execution time:  144.6767451763153\n",
      "\n",
      "KEVOLVE: motif analyzer mode\n",
      "\n",
      "\n",
      "Identifying perfect matches...\n",
      "\n",
      "Identifying variations...\n"
     ]
    },
    {
     "name": "stderr",
     "output_type": "stream",
     "text": [
      "Processing k-mers: 100%|██████████| 205/205 [00:00<00:00, 6292.32it/s]\n",
      "Processing k-mers for variations: 100%|██████████| 205/205 [00:03<00:00, 66.02it/s]\n",
      "Processing k-mers to extract information:   0%|          | 0/205 [00:00<?, ?it/s]"
     ]
    },
    {
     "name": "stdout",
     "output_type": "stream",
     "text": [
      "\n",
      "Extract information related to signatures/variations...\n"
     ]
    },
    {
     "name": "stderr",
     "output_type": "stream",
     "text": [
      "Processing k-mers to extract information: 100%|██████████| 205/205 [00:08<00:00, 24.41it/s]\n"
     ]
    },
    {
     "name": "stdout",
     "output_type": "stream",
     "text": [
      "Execution time:  11.557064533233643\n",
      "Sample: 05.B1.W14.04_05.M1.W08.03 (Comparison_3: 21-mers)\n",
      "\n",
      "KEVOLVE: extraction mode\n",
      "\n",
      "Load sequences...\n",
      "Count k-mers...\n",
      "Generate matrices...\n",
      "Preprocessing...\n",
      "Solution search...\n",
      "\n",
      "Iteration: 1 | Attempt(s): 1 / 1\n",
      "Mean weighted score 0.814 Max weighted score 1.0 Mean unweighted score 0.775 Max unweighted score 1.0\n",
      "Number of genes : 1\n",
      "\n",
      "Identified solutions (200) saved at : data/comparisons/05.B1.W14.04_05.M1.W08.03/Comparison_3/21\n",
      "Execution time:  144.87193536758423\n",
      "\n",
      "KEVOLVE: motif analyzer mode\n",
      "\n",
      "\n",
      "Identifying perfect matches...\n",
      "\n",
      "Identifying variations...\n"
     ]
    },
    {
     "name": "stderr",
     "output_type": "stream",
     "text": [
      "Processing k-mers: 100%|██████████| 200/200 [00:00<00:00, 5812.10it/s]\n",
      "Processing k-mers for variations: 100%|██████████| 200/200 [00:03<00:00, 64.67it/s]\n",
      "Processing k-mers to extract information:   0%|          | 1/200 [00:00<00:23,  8.41it/s]"
     ]
    },
    {
     "name": "stdout",
     "output_type": "stream",
     "text": [
      "\n",
      "Extract information related to signatures/variations...\n"
     ]
    },
    {
     "name": "stderr",
     "output_type": "stream",
     "text": [
      "Processing k-mers to extract information: 100%|██████████| 200/200 [00:08<00:00, 23.63it/s]\n"
     ]
    },
    {
     "name": "stdout",
     "output_type": "stream",
     "text": [
      "Execution time:  11.61286449432373\n",
      "Sample: 27.B1.W13.06_27.M1.W10.07 (Comparison_1: 9-mers)\n",
      "\n",
      "KEVOLVE: extraction mode\n",
      "\n",
      "Load sequences...\n",
      "Count k-mers...\n",
      "Generate matrices...\n",
      "Preprocessing...\n",
      "Solution search...\n",
      "\n",
      "Iteration: 1 | Attempt(s): 1 / 1\n",
      "Mean weighted score 1.0 Max weighted score 1.0 Mean unweighted score 1.0 Max unweighted score 1.0\n",
      "Number of genes : 1\n",
      "\n",
      "Identified solutions (1122) saved at : data/comparisons/27.B1.W13.06_27.M1.W10.07/Comparison_1/9\n",
      "Execution time:  144.67700505256653\n",
      "\n",
      "KEVOLVE: motif analyzer mode\n",
      "\n",
      "\n",
      "Identifying perfect matches...\n",
      "\n",
      "Identifying variations...\n"
     ]
    },
    {
     "name": "stderr",
     "output_type": "stream",
     "text": [
      "Processing k-mers: 100%|██████████| 1122/1122 [00:00<00:00, 7496.16it/s]\n",
      "Processing k-mers for variations: 100%|██████████| 1122/1122 [00:10<00:00, 110.21it/s]\n",
      "Processing k-mers to extract information:   0%|          | 1/1122 [00:00<02:58,  6.28it/s]"
     ]
    },
    {
     "name": "stdout",
     "output_type": "stream",
     "text": [
      "\n",
      "Extract information related to signatures/variations...\n"
     ]
    },
    {
     "name": "stderr",
     "output_type": "stream",
     "text": [
      "Processing k-mers to extract information: 100%|██████████| 1122/1122 [04:41<00:00,  3.98it/s]\n"
     ]
    },
    {
     "name": "stdout",
     "output_type": "stream",
     "text": [
      "Execution time:  292.34443402290344\n",
      "Sample: 27.B1.W13.06_27.M1.W10.07 (Comparison_1: 10-mers)\n",
      "\n",
      "KEVOLVE: extraction mode\n",
      "\n",
      "Load sequences...\n",
      "Count k-mers...\n",
      "Generate matrices...\n",
      "Preprocessing...\n",
      "Solution search...\n",
      "\n",
      "Iteration: 1 | Attempt(s): 1 / 1\n",
      "Mean weighted score 1.0 Max weighted score 1.0 Mean unweighted score 1.0 Max unweighted score 1.0\n",
      "Number of genes : 1\n",
      "\n",
      "Identified solutions (1139) saved at : data/comparisons/27.B1.W13.06_27.M1.W10.07/Comparison_1/10\n",
      "Execution time:  144.57783818244934\n",
      "\n",
      "KEVOLVE: motif analyzer mode\n",
      "\n",
      "\n",
      "Identifying perfect matches...\n",
      "\n",
      "Identifying variations...\n"
     ]
    },
    {
     "name": "stderr",
     "output_type": "stream",
     "text": [
      "Processing k-mers: 100%|██████████| 1139/1139 [00:00<00:00, 7372.66it/s]\n",
      "Processing k-mers for variations: 100%|██████████| 1139/1139 [00:11<00:00, 98.88it/s]\n",
      "Processing k-mers to extract information:   0%|          | 1/1139 [00:00<02:56,  6.46it/s]"
     ]
    },
    {
     "name": "stdout",
     "output_type": "stream",
     "text": [
      "\n",
      "Extract information related to signatures/variations...\n"
     ]
    },
    {
     "name": "stderr",
     "output_type": "stream",
     "text": [
      "Processing k-mers to extract information: 100%|██████████| 1139/1139 [02:12<00:00,  8.60it/s]\n"
     ]
    },
    {
     "name": "stdout",
     "output_type": "stream",
     "text": [
      "Execution time:  144.12864923477173\n",
      "Sample: 27.B1.W13.06_27.M1.W10.07 (Comparison_1: 11-mers)\n",
      "\n",
      "KEVOLVE: extraction mode\n",
      "\n",
      "Load sequences...\n",
      "Count k-mers...\n",
      "Generate matrices...\n",
      "Preprocessing...\n",
      "Solution search...\n",
      "\n",
      "Iteration: 1 | Attempt(s): 1 / 1\n",
      "Mean weighted score 0.989 Max weighted score 1.0 Mean unweighted score 0.987 Max unweighted score 1.0\n",
      "Number of genes : 1\n",
      "\n",
      "Identified solutions (1140) saved at : data/comparisons/27.B1.W13.06_27.M1.W10.07/Comparison_1/11\n",
      "Execution time:  144.6857726573944\n",
      "\n",
      "KEVOLVE: motif analyzer mode\n",
      "\n",
      "\n",
      "Identifying perfect matches...\n",
      "\n",
      "Identifying variations...\n"
     ]
    },
    {
     "name": "stderr",
     "output_type": "stream",
     "text": [
      "Processing k-mers: 100%|██████████| 1140/1140 [00:00<00:00, 7309.47it/s]\n",
      "Processing k-mers for variations: 100%|██████████| 1140/1140 [00:12<00:00, 89.92it/s]\n",
      "Processing k-mers to extract information:   0%|          | 0/1140 [00:00<?, ?it/s]"
     ]
    },
    {
     "name": "stdout",
     "output_type": "stream",
     "text": [
      "\n",
      "Extract information related to signatures/variations...\n"
     ]
    },
    {
     "name": "stderr",
     "output_type": "stream",
     "text": [
      "Processing k-mers to extract information: 100%|██████████| 1140/1140 [01:43<00:00, 11.04it/s]\n"
     ]
    },
    {
     "name": "stdout",
     "output_type": "stream",
     "text": [
      "Execution time:  116.07902574539185\n",
      "Sample: 27.B1.W13.06_27.M1.W10.07 (Comparison_1: 12-mers)\n",
      "\n",
      "KEVOLVE: extraction mode\n",
      "\n",
      "Load sequences...\n",
      "Count k-mers...\n",
      "Generate matrices...\n",
      "Preprocessing...\n",
      "Solution search...\n",
      "\n",
      "Iteration: 1 | Attempt(s): 1 / 1\n",
      "Mean weighted score 0.989 Max weighted score 1.0 Mean unweighted score 0.987 Max unweighted score 1.0\n",
      "Number of genes : 1\n",
      "\n",
      "Identified solutions (1141) saved at : data/comparisons/27.B1.W13.06_27.M1.W10.07/Comparison_1/12\n",
      "Execution time:  145.02865290641785\n",
      "\n",
      "KEVOLVE: motif analyzer mode\n",
      "\n",
      "\n",
      "Identifying perfect matches...\n",
      "\n",
      "Identifying variations...\n"
     ]
    },
    {
     "name": "stderr",
     "output_type": "stream",
     "text": [
      "Processing k-mers: 100%|██████████| 1141/1141 [00:00<00:00, 7271.29it/s]\n",
      "Processing k-mers for variations: 100%|██████████| 1141/1141 [00:13<00:00, 82.81it/s]\n",
      "Processing k-mers to extract information:   0%|          | 0/1141 [00:00<?, ?it/s]"
     ]
    },
    {
     "name": "stdout",
     "output_type": "stream",
     "text": [
      "\n",
      "Extract information related to signatures/variations...\n"
     ]
    },
    {
     "name": "stderr",
     "output_type": "stream",
     "text": [
      "Processing k-mers to extract information: 100%|██████████| 1141/1141 [01:27<00:00, 13.06it/s]\n"
     ]
    },
    {
     "name": "stdout",
     "output_type": "stream",
     "text": [
      "Execution time:  101.30109786987305\n",
      "Sample: 27.B1.W13.06_27.M1.W10.07 (Comparison_1: 13-mers)\n",
      "\n",
      "KEVOLVE: extraction mode\n",
      "\n",
      "Load sequences...\n",
      "Count k-mers...\n",
      "Generate matrices...\n",
      "Preprocessing...\n",
      "Solution search...\n",
      "\n",
      "Iteration: 1 | Attempt(s): 1 / 1\n",
      "Mean weighted score 0.989 Max weighted score 1.0 Mean unweighted score 0.986 Max unweighted score 1.0\n",
      "Number of genes : 1\n",
      "\n",
      "Identified solutions (1135) saved at : data/comparisons/27.B1.W13.06_27.M1.W10.07/Comparison_1/13\n",
      "Execution time:  144.7875726222992\n",
      "\n",
      "KEVOLVE: motif analyzer mode\n",
      "\n",
      "\n",
      "Identifying perfect matches...\n",
      "\n",
      "Identifying variations...\n"
     ]
    },
    {
     "name": "stderr",
     "output_type": "stream",
     "text": [
      "Processing k-mers: 100%|██████████| 1135/1135 [00:00<00:00, 7293.47it/s]\n",
      "Processing k-mers for variations: 100%|██████████| 1135/1135 [00:14<00:00, 76.47it/s]\n",
      "Processing k-mers to extract information:   0%|          | 0/1135 [00:00<?, ?it/s]"
     ]
    },
    {
     "name": "stdout",
     "output_type": "stream",
     "text": [
      "\n",
      "Extract information related to signatures/variations...\n"
     ]
    },
    {
     "name": "stderr",
     "output_type": "stream",
     "text": [
      "Processing k-mers to extract information: 100%|██████████| 1135/1135 [01:16<00:00, 14.74it/s]\n"
     ]
    },
    {
     "name": "stdout",
     "output_type": "stream",
     "text": [
      "Execution time:  92.00677919387817\n",
      "Sample: 27.B1.W13.06_27.M1.W10.07 (Comparison_1: 14-mers)\n",
      "\n",
      "KEVOLVE: extraction mode\n",
      "\n",
      "Load sequences...\n",
      "Count k-mers...\n",
      "Generate matrices...\n",
      "Preprocessing...\n",
      "Solution search...\n",
      "\n",
      "Iteration: 1 | Attempt(s): 1 / 1\n",
      "Mean weighted score 0.988 Max weighted score 1.0 Mean unweighted score 0.985 Max unweighted score 1.0\n",
      "Number of genes : 1\n",
      "\n",
      "Identified solutions (1127) saved at : data/comparisons/27.B1.W13.06_27.M1.W10.07/Comparison_1/14\n",
      "Execution time:  144.4865255355835\n",
      "\n",
      "KEVOLVE: motif analyzer mode\n",
      "\n",
      "\n",
      "Identifying perfect matches...\n",
      "\n",
      "Identifying variations...\n"
     ]
    },
    {
     "name": "stderr",
     "output_type": "stream",
     "text": [
      "Processing k-mers: 100%|██████████| 1127/1127 [00:00<00:00, 7332.15it/s]\n",
      "Processing k-mers for variations: 100%|██████████| 1127/1127 [00:15<00:00, 71.23it/s]\n",
      "Processing k-mers to extract information:   0%|          | 0/1127 [00:00<?, ?it/s]"
     ]
    },
    {
     "name": "stdout",
     "output_type": "stream",
     "text": [
      "\n",
      "Extract information related to signatures/variations...\n"
     ]
    },
    {
     "name": "stderr",
     "output_type": "stream",
     "text": [
      "Processing k-mers to extract information: 100%|██████████| 1127/1127 [01:16<00:00, 14.79it/s]\n"
     ]
    },
    {
     "name": "stdout",
     "output_type": "stream",
     "text": [
      "Execution time:  92.21286940574646\n",
      "Sample: 27.B1.W13.06_27.M1.W10.07 (Comparison_1: 15-mers)\n",
      "\n",
      "KEVOLVE: extraction mode\n",
      "\n",
      "Load sequences...\n",
      "Count k-mers...\n",
      "Generate matrices...\n",
      "Preprocessing...\n",
      "Solution search...\n",
      "\n",
      "Iteration: 1 | Attempt(s): 1 / 1\n",
      "Mean weighted score 0.985 Max weighted score 1.0 Mean unweighted score 0.982 Max unweighted score 1.0\n",
      "Number of genes : 1\n",
      "\n",
      "Identified solutions (1119) saved at : data/comparisons/27.B1.W13.06_27.M1.W10.07/Comparison_1/15\n",
      "Execution time:  144.4349706172943\n",
      "\n",
      "KEVOLVE: motif analyzer mode\n",
      "\n",
      "\n",
      "Identifying perfect matches...\n",
      "\n",
      "Identifying variations...\n"
     ]
    },
    {
     "name": "stderr",
     "output_type": "stream",
     "text": [
      "Processing k-mers: 100%|██████████| 1119/1119 [00:00<00:00, 7175.67it/s]\n",
      "Processing k-mers for variations: 100%|██████████| 1119/1119 [00:16<00:00, 66.83it/s]\n",
      "Processing k-mers to extract information:   0%|          | 0/1119 [00:00<?, ?it/s]"
     ]
    },
    {
     "name": "stdout",
     "output_type": "stream",
     "text": [
      "\n",
      "Extract information related to signatures/variations...\n"
     ]
    },
    {
     "name": "stderr",
     "output_type": "stream",
     "text": [
      "Processing k-mers to extract information: 100%|██████████| 1119/1119 [01:11<00:00, 15.56it/s]\n"
     ]
    },
    {
     "name": "stdout",
     "output_type": "stream",
     "text": [
      "Execution time:  88.83818364143372\n",
      "Sample: 27.B1.W13.06_27.M1.W10.07 (Comparison_1: 16-mers)\n",
      "\n",
      "KEVOLVE: extraction mode\n",
      "\n",
      "Load sequences...\n",
      "Count k-mers...\n",
      "Generate matrices...\n",
      "Preprocessing...\n",
      "Solution search...\n",
      "\n",
      "Iteration: 1 | Attempt(s): 1 / 1\n",
      "Mean weighted score 0.985 Max weighted score 1.0 Mean unweighted score 0.982 Max unweighted score 1.0\n",
      "Number of genes : 1\n",
      "\n",
      "Identified solutions (1107) saved at : data/comparisons/27.B1.W13.06_27.M1.W10.07/Comparison_1/16\n",
      "Execution time:  144.78815698623657\n",
      "\n",
      "KEVOLVE: motif analyzer mode\n",
      "\n",
      "\n",
      "Identifying perfect matches...\n",
      "\n",
      "Identifying variations...\n"
     ]
    },
    {
     "name": "stderr",
     "output_type": "stream",
     "text": [
      "Processing k-mers: 100%|██████████| 1107/1107 [00:00<00:00, 7262.17it/s]\n",
      "Processing k-mers for variations: 100%|██████████| 1107/1107 [00:17<00:00, 62.53it/s]\n",
      "Processing k-mers to extract information:   0%|          | 0/1107 [00:00<?, ?it/s]"
     ]
    },
    {
     "name": "stdout",
     "output_type": "stream",
     "text": [
      "\n",
      "Extract information related to signatures/variations...\n"
     ]
    },
    {
     "name": "stderr",
     "output_type": "stream",
     "text": [
      "Processing k-mers to extract information: 100%|██████████| 1107/1107 [01:18<00:00, 14.18it/s]\n"
     ]
    },
    {
     "name": "stdout",
     "output_type": "stream",
     "text": [
      "Execution time:  95.94964718818665\n",
      "Sample: 27.B1.W13.06_27.M1.W10.07 (Comparison_1: 17-mers)\n",
      "\n",
      "KEVOLVE: extraction mode\n",
      "\n",
      "Load sequences...\n",
      "Count k-mers...\n",
      "Generate matrices...\n",
      "Preprocessing...\n",
      "Solution search...\n",
      "\n",
      "Iteration: 1 | Attempt(s): 1 / 1\n",
      "Mean weighted score 0.985 Max weighted score 1.0 Mean unweighted score 0.982 Max unweighted score 1.0\n",
      "Number of genes : 1\n",
      "\n",
      "Identified solutions (1097) saved at : data/comparisons/27.B1.W13.06_27.M1.W10.07/Comparison_1/17\n",
      "Execution time:  145.0873200893402\n",
      "\n",
      "KEVOLVE: motif analyzer mode\n",
      "\n",
      "\n",
      "Identifying perfect matches...\n",
      "\n",
      "Identifying variations...\n"
     ]
    },
    {
     "name": "stderr",
     "output_type": "stream",
     "text": [
      "Processing k-mers: 100%|██████████| 1097/1097 [00:00<00:00, 7374.29it/s]\n",
      "Processing k-mers for variations: 100%|██████████| 1097/1097 [00:18<00:00, 59.46it/s]\n",
      "Processing k-mers to extract information:   0%|          | 0/1097 [00:00<?, ?it/s]"
     ]
    },
    {
     "name": "stdout",
     "output_type": "stream",
     "text": [
      "\n",
      "Extract information related to signatures/variations...\n"
     ]
    },
    {
     "name": "stderr",
     "output_type": "stream",
     "text": [
      "Processing k-mers to extract information: 100%|██████████| 1097/1097 [01:15<00:00, 14.58it/s]\n"
     ]
    },
    {
     "name": "stdout",
     "output_type": "stream",
     "text": [
      "Execution time:  93.887446641922\n",
      "Sample: 27.B1.W13.06_27.M1.W10.07 (Comparison_1: 18-mers)\n",
      "\n",
      "KEVOLVE: extraction mode\n",
      "\n",
      "Load sequences...\n",
      "Count k-mers...\n",
      "Generate matrices...\n",
      "Preprocessing...\n",
      "Solution search...\n",
      "\n",
      "Iteration: 1 | Attempt(s): 1 / 1\n",
      "Mean weighted score 0.984 Max weighted score 1.0 Mean unweighted score 0.981 Max unweighted score 1.0\n",
      "Number of genes : 1\n",
      "\n",
      "Identified solutions (1085) saved at : data/comparisons/27.B1.W13.06_27.M1.W10.07/Comparison_1/18\n",
      "Execution time:  144.23349237442017\n",
      "\n",
      "KEVOLVE: motif analyzer mode\n",
      "\n",
      "\n",
      "Identifying perfect matches...\n",
      "\n",
      "Identifying variations...\n"
     ]
    },
    {
     "name": "stderr",
     "output_type": "stream",
     "text": [
      "Processing k-mers: 100%|██████████| 1085/1085 [00:00<00:00, 7332.99it/s]\n",
      "Processing k-mers for variations: 100%|██████████| 1085/1085 [00:19<00:00, 56.28it/s]\n",
      "Processing k-mers to extract information:   0%|          | 0/1085 [00:00<?, ?it/s]"
     ]
    },
    {
     "name": "stdout",
     "output_type": "stream",
     "text": [
      "\n",
      "Extract information related to signatures/variations...\n"
     ]
    },
    {
     "name": "stderr",
     "output_type": "stream",
     "text": [
      "Processing k-mers to extract information: 100%|██████████| 1085/1085 [01:13<00:00, 14.81it/s]\n"
     ]
    },
    {
     "name": "stdout",
     "output_type": "stream",
     "text": [
      "Execution time:  92.73330736160278\n",
      "Sample: 27.B1.W13.06_27.M1.W10.07 (Comparison_1: 19-mers)\n",
      "\n",
      "KEVOLVE: extraction mode\n",
      "\n",
      "Load sequences...\n",
      "Count k-mers...\n",
      "Generate matrices...\n",
      "Preprocessing...\n",
      "Solution search...\n",
      "\n",
      "Iteration: 1 | Attempt(s): 1 / 1\n",
      "Mean weighted score 0.984 Max weighted score 1.0 Mean unweighted score 0.981 Max unweighted score 1.0\n",
      "Number of genes : 1\n",
      "\n",
      "Identified solutions (1067) saved at : data/comparisons/27.B1.W13.06_27.M1.W10.07/Comparison_1/19\n",
      "Execution time:  144.79004311561584\n",
      "\n",
      "KEVOLVE: motif analyzer mode\n",
      "\n",
      "\n",
      "Identifying perfect matches...\n",
      "\n",
      "Identifying variations...\n"
     ]
    },
    {
     "name": "stderr",
     "output_type": "stream",
     "text": [
      "Processing k-mers: 100%|██████████| 1067/1067 [00:00<00:00, 7301.48it/s]\n",
      "Processing k-mers for variations: 100%|██████████| 1067/1067 [00:19<00:00, 53.71it/s]\n",
      "Processing k-mers to extract information:   0%|          | 0/1067 [00:00<?, ?it/s]"
     ]
    },
    {
     "name": "stdout",
     "output_type": "stream",
     "text": [
      "\n",
      "Extract information related to signatures/variations...\n"
     ]
    },
    {
     "name": "stderr",
     "output_type": "stream",
     "text": [
      "Processing k-mers to extract information: 100%|██████████| 1067/1067 [01:12<00:00, 14.81it/s]\n"
     ]
    },
    {
     "name": "stdout",
     "output_type": "stream",
     "text": [
      "Execution time:  92.06475639343262\n",
      "Sample: 27.B1.W13.06_27.M1.W10.07 (Comparison_1: 20-mers)\n",
      "\n",
      "KEVOLVE: extraction mode\n",
      "\n",
      "Load sequences...\n",
      "Count k-mers...\n",
      "Generate matrices...\n",
      "Preprocessing...\n",
      "Solution search...\n",
      "\n",
      "Iteration: 1 | Attempt(s): 1 / 1\n",
      "Mean weighted score 0.982 Max weighted score 1.0 Mean unweighted score 0.979 Max unweighted score 1.0\n",
      "Number of genes : 1\n",
      "\n",
      "Identified solutions (1048) saved at : data/comparisons/27.B1.W13.06_27.M1.W10.07/Comparison_1/20\n",
      "Execution time:  144.5376181602478\n",
      "\n",
      "KEVOLVE: motif analyzer mode\n",
      "\n",
      "\n",
      "Identifying perfect matches...\n",
      "\n",
      "Identifying variations...\n"
     ]
    },
    {
     "name": "stderr",
     "output_type": "stream",
     "text": [
      "Processing k-mers: 100%|██████████| 1048/1048 [00:00<00:00, 7294.41it/s]\n",
      "Processing k-mers for variations: 100%|██████████| 1048/1048 [00:20<00:00, 51.20it/s]\n",
      "Processing k-mers to extract information:   0%|          | 0/1048 [00:00<?, ?it/s]"
     ]
    },
    {
     "name": "stdout",
     "output_type": "stream",
     "text": [
      "\n",
      "Extract information related to signatures/variations...\n"
     ]
    },
    {
     "name": "stderr",
     "output_type": "stream",
     "text": [
      "Processing k-mers to extract information: 100%|██████████| 1048/1048 [01:08<00:00, 15.26it/s]\n"
     ]
    },
    {
     "name": "stdout",
     "output_type": "stream",
     "text": [
      "Execution time:  89.30189609527588\n",
      "Sample: 27.B1.W13.06_27.M1.W10.07 (Comparison_1: 21-mers)\n",
      "\n",
      "KEVOLVE: extraction mode\n",
      "\n",
      "Load sequences...\n",
      "Count k-mers...\n",
      "Generate matrices...\n",
      "Preprocessing...\n",
      "Solution search...\n",
      "\n",
      "Iteration: 1 | Attempt(s): 1 / 1\n",
      "Mean weighted score 0.983 Max weighted score 1.0 Mean unweighted score 0.98 Max unweighted score 1.0\n",
      "Number of genes : 1\n",
      "\n",
      "Identified solutions (1027) saved at : data/comparisons/27.B1.W13.06_27.M1.W10.07/Comparison_1/21\n",
      "Execution time:  144.3674566745758\n",
      "\n",
      "KEVOLVE: motif analyzer mode\n",
      "\n",
      "\n",
      "Identifying perfect matches...\n",
      "\n",
      "Identifying variations...\n"
     ]
    },
    {
     "name": "stderr",
     "output_type": "stream",
     "text": [
      "Processing k-mers: 100%|██████████| 1027/1027 [00:00<00:00, 7115.44it/s]\n",
      "Processing k-mers for variations: 100%|██████████| 1027/1027 [00:21<00:00, 48.57it/s]\n"
     ]
    },
    {
     "name": "stdout",
     "output_type": "stream",
     "text": [
      "\n",
      "Extract information related to signatures/variations...\n"
     ]
    },
    {
     "name": "stderr",
     "output_type": "stream",
     "text": [
      "Processing k-mers to extract information: 100%|██████████| 1027/1027 [01:04<00:00, 16.03it/s]\n"
     ]
    },
    {
     "name": "stdout",
     "output_type": "stream",
     "text": [
      "Execution time:  85.39682292938232\n",
      "Sample: 27.B1.W13.06_27.M1.W10.07 (Comparison_4: 9-mers)\n",
      "\n",
      "KEVOLVE: extraction mode\n",
      "\n",
      "Load sequences...\n",
      "Count k-mers...\n",
      "Generate matrices...\n",
      "Preprocessing...\n",
      "Solution search...\n",
      "\n",
      "Iteration: 1 | Attempt(s): 1 / 1\n",
      "Mean weighted score 0.811 Max weighted score 1.0 Mean unweighted score 0.811 Max unweighted score 1.0\n",
      "Number of genes : 1\n",
      "\n",
      "Identified solutions (382) saved at : data/comparisons/27.B1.W13.06_27.M1.W10.07/Comparison_4/9\n",
      "Execution time:  144.43994998931885\n",
      "\n",
      "KEVOLVE: motif analyzer mode\n",
      "\n",
      "\n",
      "Identifying perfect matches...\n",
      "\n",
      "Identifying variations...\n"
     ]
    },
    {
     "name": "stderr",
     "output_type": "stream",
     "text": [
      "Processing k-mers: 100%|██████████| 382/382 [00:00<00:00, 8236.39it/s]\n",
      "Processing k-mers for variations: 100%|██████████| 382/382 [00:02<00:00, 136.58it/s]\n",
      "Processing k-mers to extract information:   0%|          | 0/382 [00:00<?, ?it/s]"
     ]
    },
    {
     "name": "stdout",
     "output_type": "stream",
     "text": [
      "\n",
      "Extract information related to signatures/variations...\n"
     ]
    },
    {
     "name": "stderr",
     "output_type": "stream",
     "text": [
      "Processing k-mers to extract information: 100%|██████████| 382/382 [01:27<00:00,  4.37it/s]\n"
     ]
    },
    {
     "name": "stdout",
     "output_type": "stream",
     "text": [
      "Execution time:  90.27315402030945\n",
      "Sample: 27.B1.W13.06_27.M1.W10.07 (Comparison_4: 10-mers)\n",
      "\n",
      "KEVOLVE: extraction mode\n",
      "\n",
      "Load sequences...\n",
      "Count k-mers...\n",
      "Generate matrices...\n",
      "Preprocessing...\n",
      "Solution search...\n",
      "\n",
      "Iteration: 1 | Attempt(s): 1 / 1\n",
      "Mean weighted score 0.812 Max weighted score 1.0 Mean unweighted score 0.812 Max unweighted score 1.0\n",
      "Number of genes : 1\n",
      "\n",
      "Identified solutions (402) saved at : data/comparisons/27.B1.W13.06_27.M1.W10.07/Comparison_4/10\n",
      "Execution time:  143.93577408790588\n",
      "\n",
      "KEVOLVE: motif analyzer mode\n",
      "\n",
      "\n",
      "Identifying perfect matches...\n",
      "\n",
      "Identifying variations...\n"
     ]
    },
    {
     "name": "stderr",
     "output_type": "stream",
     "text": [
      "Processing k-mers: 100%|██████████| 402/402 [00:00<00:00, 8102.79it/s]\n",
      "Processing k-mers for variations: 100%|██████████| 402/402 [00:03<00:00, 122.70it/s]\n",
      "Processing k-mers to extract information:   0%|          | 0/402 [00:00<?, ?it/s]"
     ]
    },
    {
     "name": "stdout",
     "output_type": "stream",
     "text": [
      "\n",
      "Extract information related to signatures/variations...\n"
     ]
    },
    {
     "name": "stderr",
     "output_type": "stream",
     "text": [
      "Processing k-mers to extract information: 100%|██████████| 402/402 [00:43<00:00,  9.24it/s]\n"
     ]
    },
    {
     "name": "stdout",
     "output_type": "stream",
     "text": [
      "Execution time:  46.84607434272766\n",
      "Sample: 27.B1.W13.06_27.M1.W10.07 (Comparison_4: 11-mers)\n",
      "\n",
      "KEVOLVE: extraction mode\n",
      "\n",
      "Load sequences...\n",
      "Count k-mers...\n",
      "Generate matrices...\n",
      "Preprocessing...\n",
      "Solution search...\n",
      "\n",
      "Iteration: 1 | Attempt(s): 1 / 1\n",
      "Mean weighted score 0.811 Max weighted score 1.0 Mean unweighted score 0.811 Max unweighted score 1.0\n",
      "Number of genes : 1\n",
      "\n",
      "Identified solutions (416) saved at : data/comparisons/27.B1.W13.06_27.M1.W10.07/Comparison_4/11\n",
      "Execution time:  144.6931450366974\n",
      "\n",
      "KEVOLVE: motif analyzer mode\n",
      "\n",
      "\n",
      "Identifying perfect matches...\n",
      "\n",
      "Identifying variations...\n"
     ]
    },
    {
     "name": "stderr",
     "output_type": "stream",
     "text": [
      "Processing k-mers: 100%|██████████| 416/416 [00:00<00:00, 7796.21it/s]\n",
      "Processing k-mers for variations: 100%|██████████| 416/416 [00:03<00:00, 111.86it/s]\n",
      "Processing k-mers to extract information:   0%|          | 0/416 [00:00<?, ?it/s]"
     ]
    },
    {
     "name": "stdout",
     "output_type": "stream",
     "text": [
      "\n",
      "Extract information related to signatures/variations...\n"
     ]
    },
    {
     "name": "stderr",
     "output_type": "stream",
     "text": [
      "Processing k-mers to extract information: 100%|██████████| 416/416 [00:34<00:00, 12.05it/s]\n"
     ]
    },
    {
     "name": "stdout",
     "output_type": "stream",
     "text": [
      "Execution time:  38.30760955810547\n",
      "Sample: 27.B1.W13.06_27.M1.W10.07 (Comparison_4: 12-mers)\n",
      "\n",
      "KEVOLVE: extraction mode\n",
      "\n",
      "Load sequences...\n",
      "Count k-mers...\n",
      "Generate matrices...\n",
      "Preprocessing...\n",
      "Solution search...\n",
      "\n",
      "Iteration: 1 | Attempt(s): 1 / 1\n",
      "Mean weighted score 0.809 Max weighted score 1.0 Mean unweighted score 0.809 Max unweighted score 1.0\n",
      "Number of genes : 1\n",
      "\n",
      "Identified solutions (429) saved at : data/comparisons/27.B1.W13.06_27.M1.W10.07/Comparison_4/12\n",
      "Execution time:  144.3353955745697\n",
      "\n",
      "KEVOLVE: motif analyzer mode\n",
      "\n",
      "\n",
      "Identifying perfect matches...\n",
      "\n",
      "Identifying variations...\n"
     ]
    },
    {
     "name": "stderr",
     "output_type": "stream",
     "text": [
      "Processing k-mers: 100%|██████████| 429/429 [00:00<00:00, 7914.69it/s]\n",
      "Processing k-mers for variations: 100%|██████████| 429/429 [00:04<00:00, 101.51it/s]\n",
      "Processing k-mers to extract information:   0%|          | 0/429 [00:00<?, ?it/s]"
     ]
    },
    {
     "name": "stdout",
     "output_type": "stream",
     "text": [
      "\n",
      "Extract information related to signatures/variations...\n"
     ]
    },
    {
     "name": "stderr",
     "output_type": "stream",
     "text": [
      "Processing k-mers to extract information: 100%|██████████| 429/429 [00:30<00:00, 14.08it/s]\n"
     ]
    },
    {
     "name": "stdout",
     "output_type": "stream",
     "text": [
      "Execution time:  34.76936101913452\n",
      "Sample: 27.B1.W13.06_27.M1.W10.07 (Comparison_4: 13-mers)\n",
      "\n",
      "KEVOLVE: extraction mode\n",
      "\n",
      "Load sequences...\n",
      "Count k-mers...\n",
      "Generate matrices...\n",
      "Preprocessing...\n",
      "Solution search...\n",
      "\n",
      "Iteration: 1 | Attempt(s): 1 / 1\n",
      "Mean weighted score 0.808 Max weighted score 1.0 Mean unweighted score 0.808 Max unweighted score 1.0\n",
      "Number of genes : 1\n",
      "\n",
      "Identified solutions (435) saved at : data/comparisons/27.B1.W13.06_27.M1.W10.07/Comparison_4/13\n",
      "Execution time:  144.64805555343628\n",
      "\n",
      "KEVOLVE: motif analyzer mode\n",
      "\n",
      "\n",
      "Identifying perfect matches...\n",
      "\n",
      "Identifying variations...\n"
     ]
    },
    {
     "name": "stderr",
     "output_type": "stream",
     "text": [
      "Processing k-mers: 100%|██████████| 435/435 [00:00<00:00, 7975.43it/s]\n",
      "Processing k-mers for variations: 100%|██████████| 435/435 [00:04<00:00, 94.92it/s]\n",
      "Processing k-mers to extract information:   0%|          | 0/435 [00:00<?, ?it/s]"
     ]
    },
    {
     "name": "stdout",
     "output_type": "stream",
     "text": [
      "\n",
      "Extract information related to signatures/variations...\n"
     ]
    },
    {
     "name": "stderr",
     "output_type": "stream",
     "text": [
      "Processing k-mers to extract information: 100%|██████████| 435/435 [00:27<00:00, 15.70it/s]\n"
     ]
    },
    {
     "name": "stdout",
     "output_type": "stream",
     "text": [
      "Execution time:  32.360116958618164\n",
      "Sample: 27.B1.W13.06_27.M1.W10.07 (Comparison_4: 14-mers)\n",
      "\n",
      "KEVOLVE: extraction mode\n",
      "\n",
      "Load sequences...\n",
      "Count k-mers...\n",
      "Generate matrices...\n",
      "Preprocessing...\n",
      "Solution search...\n",
      "\n",
      "Iteration: 1 | Attempt(s): 1 / 1\n",
      "Mean weighted score 0.804 Max weighted score 1.0 Mean unweighted score 0.804 Max unweighted score 1.0\n",
      "Number of genes : 1\n",
      "\n",
      "Identified solutions (440) saved at : data/comparisons/27.B1.W13.06_27.M1.W10.07/Comparison_4/14\n",
      "Execution time:  144.8969349861145\n",
      "\n",
      "KEVOLVE: motif analyzer mode\n",
      "\n",
      "\n",
      "Identifying perfect matches...\n",
      "\n",
      "Identifying variations...\n"
     ]
    },
    {
     "name": "stderr",
     "output_type": "stream",
     "text": [
      "Processing k-mers: 100%|██████████| 440/440 [00:00<00:00, 8132.29it/s]\n",
      "Processing k-mers for variations: 100%|██████████| 440/440 [00:04<00:00, 88.47it/s]\n",
      "Processing k-mers to extract information:   0%|          | 0/440 [00:00<?, ?it/s]"
     ]
    },
    {
     "name": "stdout",
     "output_type": "stream",
     "text": [
      "\n",
      "Extract information related to signatures/variations...\n"
     ]
    },
    {
     "name": "stderr",
     "output_type": "stream",
     "text": [
      "Processing k-mers to extract information: 100%|██████████| 440/440 [00:27<00:00, 15.85it/s]\n"
     ]
    },
    {
     "name": "stdout",
     "output_type": "stream",
     "text": [
      "Execution time:  32.81501054763794\n",
      "Sample: 27.B1.W13.06_27.M1.W10.07 (Comparison_4: 15-mers)\n",
      "\n",
      "KEVOLVE: extraction mode\n",
      "\n",
      "Load sequences...\n",
      "Count k-mers...\n",
      "Generate matrices...\n",
      "Preprocessing...\n",
      "Solution search...\n",
      "\n",
      "Iteration: 1 | Attempt(s): 1 / 1\n",
      "Mean weighted score 0.802 Max weighted score 1.0 Mean unweighted score 0.802 Max unweighted score 1.0\n",
      "Number of genes : 1\n",
      "\n",
      "Identified solutions (440) saved at : data/comparisons/27.B1.W13.06_27.M1.W10.07/Comparison_4/15\n",
      "Execution time:  144.57924628257751\n",
      "\n",
      "KEVOLVE: motif analyzer mode\n",
      "\n",
      "\n",
      "Identifying perfect matches...\n",
      "\n",
      "Identifying variations...\n"
     ]
    },
    {
     "name": "stderr",
     "output_type": "stream",
     "text": [
      "Processing k-mers: 100%|██████████| 440/440 [00:00<00:00, 7812.34it/s]\n",
      "Processing k-mers for variations: 100%|██████████| 440/440 [00:05<00:00, 82.88it/s]\n",
      "Processing k-mers to extract information:   0%|          | 0/440 [00:00<?, ?it/s]"
     ]
    },
    {
     "name": "stdout",
     "output_type": "stream",
     "text": [
      "\n",
      "Extract information related to signatures/variations...\n"
     ]
    },
    {
     "name": "stderr",
     "output_type": "stream",
     "text": [
      "Processing k-mers to extract information: 100%|██████████| 440/440 [00:26<00:00, 16.49it/s]\n"
     ]
    },
    {
     "name": "stdout",
     "output_type": "stream",
     "text": [
      "Execution time:  32.07868981361389\n",
      "Sample: 27.B1.W13.06_27.M1.W10.07 (Comparison_4: 16-mers)\n",
      "\n",
      "KEVOLVE: extraction mode\n",
      "\n",
      "Load sequences...\n",
      "Count k-mers...\n",
      "Generate matrices...\n",
      "Preprocessing...\n",
      "Solution search...\n",
      "\n",
      "Iteration: 1 | Attempt(s): 1 / 1\n",
      "Mean weighted score 0.777 Max weighted score 1.0 Mean unweighted score 0.777 Max unweighted score 1.0\n",
      "Number of genes : 1\n",
      "\n",
      "Identified solutions (432) saved at : data/comparisons/27.B1.W13.06_27.M1.W10.07/Comparison_4/16\n",
      "Execution time:  145.53853154182434\n",
      "\n",
      "KEVOLVE: motif analyzer mode\n",
      "\n",
      "\n",
      "Identifying perfect matches...\n",
      "\n",
      "Identifying variations...\n"
     ]
    },
    {
     "name": "stderr",
     "output_type": "stream",
     "text": [
      "Processing k-mers: 100%|██████████| 432/432 [00:00<00:00, 7967.72it/s]\n",
      "Processing k-mers for variations: 100%|██████████| 432/432 [00:05<00:00, 77.60it/s]\n",
      "Processing k-mers to extract information:   0%|          | 0/432 [00:00<?, ?it/s]"
     ]
    },
    {
     "name": "stdout",
     "output_type": "stream",
     "text": [
      "\n",
      "Extract information related to signatures/variations...\n"
     ]
    },
    {
     "name": "stderr",
     "output_type": "stream",
     "text": [
      "Processing k-mers to extract information: 100%|██████████| 432/432 [00:28<00:00, 15.18it/s]\n"
     ]
    },
    {
     "name": "stdout",
     "output_type": "stream",
     "text": [
      "Execution time:  34.09623408317566\n",
      "Sample: 27.B1.W13.06_27.M1.W10.07 (Comparison_4: 17-mers)\n",
      "\n",
      "KEVOLVE: extraction mode\n",
      "\n",
      "Load sequences...\n",
      "Count k-mers...\n",
      "Generate matrices...\n",
      "Preprocessing...\n",
      "Solution search...\n",
      "\n",
      "Iteration: 1 | Attempt(s): 1 / 1\n",
      "Mean weighted score 0.776 Max weighted score 1.0 Mean unweighted score 0.776 Max unweighted score 1.0\n",
      "Number of genes : 1\n",
      "\n",
      "Identified solutions (425) saved at : data/comparisons/27.B1.W13.06_27.M1.W10.07/Comparison_4/17\n",
      "Execution time:  144.96800756454468\n",
      "\n",
      "KEVOLVE: motif analyzer mode\n",
      "\n",
      "\n",
      "Identifying perfect matches...\n",
      "\n",
      "Identifying variations...\n"
     ]
    },
    {
     "name": "stderr",
     "output_type": "stream",
     "text": [
      "Processing k-mers: 100%|██████████| 425/425 [00:00<00:00, 7948.82it/s]\n",
      "Processing k-mers for variations: 100%|██████████| 425/425 [00:05<00:00, 73.53it/s]\n",
      "Processing k-mers to extract information:   0%|          | 0/425 [00:00<?, ?it/s]"
     ]
    },
    {
     "name": "stdout",
     "output_type": "stream",
     "text": [
      "\n",
      "Extract information related to signatures/variations...\n"
     ]
    },
    {
     "name": "stderr",
     "output_type": "stream",
     "text": [
      "Processing k-mers to extract information: 100%|██████████| 425/425 [00:27<00:00, 15.53it/s]\n"
     ]
    },
    {
     "name": "stdout",
     "output_type": "stream",
     "text": [
      "Execution time:  33.218955516815186\n",
      "Sample: 27.B1.W13.06_27.M1.W10.07 (Comparison_4: 18-mers)\n",
      "\n",
      "KEVOLVE: extraction mode\n",
      "\n",
      "Load sequences...\n",
      "Count k-mers...\n",
      "Generate matrices...\n",
      "Preprocessing...\n",
      "Solution search...\n",
      "\n",
      "Iteration: 1 | Attempt(s): 1 / 1\n",
      "Mean weighted score 0.774 Max weighted score 1.0 Mean unweighted score 0.774 Max unweighted score 1.0\n",
      "Number of genes : 1\n",
      "\n",
      "Identified solutions (419) saved at : data/comparisons/27.B1.W13.06_27.M1.W10.07/Comparison_4/18\n",
      "Execution time:  145.09989094734192\n",
      "\n",
      "KEVOLVE: motif analyzer mode\n",
      "\n",
      "\n",
      "Identifying perfect matches...\n",
      "\n",
      "Identifying variations...\n"
     ]
    },
    {
     "name": "stderr",
     "output_type": "stream",
     "text": [
      "Processing k-mers: 100%|██████████| 419/419 [00:00<00:00, 7767.44it/s]\n",
      "Processing k-mers for variations: 100%|██████████| 419/419 [00:06<00:00, 69.76it/s]\n",
      "Processing k-mers to extract information:   0%|          | 0/419 [00:00<?, ?it/s]"
     ]
    },
    {
     "name": "stdout",
     "output_type": "stream",
     "text": [
      "\n",
      "Extract information related to signatures/variations...\n"
     ]
    },
    {
     "name": "stderr",
     "output_type": "stream",
     "text": [
      "Processing k-mers to extract information: 100%|██████████| 419/419 [00:26<00:00, 15.97it/s]\n"
     ]
    },
    {
     "name": "stdout",
     "output_type": "stream",
     "text": [
      "Execution time:  32.31792068481445\n",
      "Sample: 27.B1.W13.06_27.M1.W10.07 (Comparison_4: 19-mers)\n",
      "\n",
      "KEVOLVE: extraction mode\n",
      "\n",
      "Load sequences...\n",
      "Count k-mers...\n",
      "Generate matrices...\n",
      "Preprocessing...\n",
      "Solution search...\n",
      "\n",
      "Iteration: 1 | Attempt(s): 1 / 1\n",
      "Mean weighted score 0.773 Max weighted score 1.0 Mean unweighted score 0.773 Max unweighted score 1.0\n",
      "Number of genes : 1\n",
      "\n",
      "Identified solutions (410) saved at : data/comparisons/27.B1.W13.06_27.M1.W10.07/Comparison_4/19\n",
      "Execution time:  144.59993696212769\n",
      "\n",
      "KEVOLVE: motif analyzer mode\n",
      "\n",
      "\n",
      "Identifying perfect matches...\n",
      "\n",
      "Identifying variations...\n"
     ]
    },
    {
     "name": "stderr",
     "output_type": "stream",
     "text": [
      "Processing k-mers: 100%|██████████| 410/410 [00:00<00:00, 7854.43it/s]\n",
      "Processing k-mers for variations: 100%|██████████| 410/410 [00:06<00:00, 66.25it/s]\n",
      "Processing k-mers to extract information:   0%|          | 0/410 [00:00<?, ?it/s]"
     ]
    },
    {
     "name": "stdout",
     "output_type": "stream",
     "text": [
      "\n",
      "Extract information related to signatures/variations...\n"
     ]
    },
    {
     "name": "stderr",
     "output_type": "stream",
     "text": [
      "Processing k-mers to extract information: 100%|██████████| 410/410 [00:26<00:00, 15.20it/s]\n"
     ]
    },
    {
     "name": "stdout",
     "output_type": "stream",
     "text": [
      "Execution time:  33.244643449783325\n",
      "Sample: 27.B1.W13.06_27.M1.W10.07 (Comparison_4: 20-mers)\n",
      "\n",
      "KEVOLVE: extraction mode\n",
      "\n",
      "Load sequences...\n",
      "Count k-mers...\n",
      "Generate matrices...\n",
      "Preprocessing...\n",
      "Solution search...\n",
      "\n",
      "Iteration: 1 | Attempt(s): 1 / 1\n",
      "Mean weighted score 0.769 Max weighted score 1.0 Mean unweighted score 0.769 Max unweighted score 1.0\n",
      "Number of genes : 1\n",
      "\n",
      "Identified solutions (395) saved at : data/comparisons/27.B1.W13.06_27.M1.W10.07/Comparison_4/20\n",
      "Execution time:  144.600834608078\n",
      "\n",
      "KEVOLVE: motif analyzer mode\n",
      "\n",
      "\n",
      "Identifying perfect matches...\n",
      "\n",
      "Identifying variations...\n"
     ]
    },
    {
     "name": "stderr",
     "output_type": "stream",
     "text": [
      "Processing k-mers: 100%|██████████| 395/395 [00:00<00:00, 7811.03it/s]\n",
      "Processing k-mers for variations: 100%|██████████| 395/395 [00:06<00:00, 63.15it/s]\n",
      "Processing k-mers to extract information:   0%|          | 1/395 [00:00<00:51,  7.67it/s]"
     ]
    },
    {
     "name": "stdout",
     "output_type": "stream",
     "text": [
      "\n",
      "Extract information related to signatures/variations...\n"
     ]
    },
    {
     "name": "stderr",
     "output_type": "stream",
     "text": [
      "Processing k-mers to extract information: 100%|██████████| 395/395 [00:24<00:00, 15.82it/s]\n"
     ]
    },
    {
     "name": "stdout",
     "output_type": "stream",
     "text": [
      "Execution time:  31.295450687408447\n",
      "Sample: 27.B1.W13.06_27.M1.W10.07 (Comparison_4: 21-mers)\n",
      "\n",
      "KEVOLVE: extraction mode\n",
      "\n",
      "Load sequences...\n",
      "Count k-mers...\n",
      "Generate matrices...\n",
      "Preprocessing...\n",
      "Solution search...\n",
      "\n",
      "Iteration: 1 | Attempt(s): 1 / 1\n",
      "Mean weighted score 0.766 Max weighted score 1.0 Mean unweighted score 0.766 Max unweighted score 1.0\n",
      "Number of genes : 1\n",
      "\n",
      "Identified solutions (390) saved at : data/comparisons/27.B1.W13.06_27.M1.W10.07/Comparison_4/21\n",
      "Execution time:  145.36100316047668\n",
      "\n",
      "KEVOLVE: motif analyzer mode\n",
      "\n",
      "\n",
      "Identifying perfect matches...\n",
      "\n",
      "Identifying variations...\n"
     ]
    },
    {
     "name": "stderr",
     "output_type": "stream",
     "text": [
      "Processing k-mers: 100%|██████████| 390/390 [00:00<00:00, 7938.05it/s]\n",
      "Processing k-mers for variations: 100%|██████████| 390/390 [00:06<00:00, 60.76it/s]\n",
      "Processing k-mers to extract information:   0%|          | 1/390 [00:00<00:51,  7.62it/s]"
     ]
    },
    {
     "name": "stdout",
     "output_type": "stream",
     "text": [
      "\n",
      "Extract information related to signatures/variations...\n"
     ]
    },
    {
     "name": "stderr",
     "output_type": "stream",
     "text": [
      "Processing k-mers to extract information: 100%|██████████| 390/390 [00:23<00:00, 16.65it/s]\n"
     ]
    },
    {
     "name": "stdout",
     "output_type": "stream",
     "text": [
      "Execution time:  29.910467386245728\n",
      "Sample: 27.B1.W13.06_27.M1.W10.07 (Comparison_2: 9-mers)\n",
      "\n",
      "KEVOLVE: extraction mode\n",
      "\n",
      "Load sequences...\n",
      "Count k-mers...\n",
      "Generate matrices...\n",
      "Preprocessing...\n",
      "Solution search...\n",
      "\n",
      "Iteration: 1 | Attempt(s): 1 / 1\n",
      "Mean weighted score 0.992 Max weighted score 1.0 Mean unweighted score 0.99 Max unweighted score 1.0\n",
      "Number of genes : 1\n",
      "\n",
      "Identified solutions (905) saved at : data/comparisons/27.B1.W13.06_27.M1.W10.07/Comparison_2/9\n",
      "Execution time:  143.7945272922516\n",
      "\n",
      "KEVOLVE: motif analyzer mode\n",
      "\n",
      "\n",
      "Identifying perfect matches...\n",
      "\n",
      "Identifying variations...\n"
     ]
    },
    {
     "name": "stderr",
     "output_type": "stream",
     "text": [
      "Processing k-mers: 100%|██████████| 905/905 [00:00<00:00, 7109.02it/s]\n",
      "Processing k-mers for variations: 100%|██████████| 905/905 [00:08<00:00, 107.90it/s]\n"
     ]
    },
    {
     "name": "stdout",
     "output_type": "stream",
     "text": [
      "\n",
      "Extract information related to signatures/variations...\n"
     ]
    },
    {
     "name": "stderr",
     "output_type": "stream",
     "text": [
      "Processing k-mers to extract information: 100%|██████████| 905/905 [04:19<00:00,  3.49it/s]\n"
     ]
    },
    {
     "name": "stdout",
     "output_type": "stream",
     "text": [
      "Execution time:  267.77705240249634\n",
      "Sample: 27.B1.W13.06_27.M1.W10.07 (Comparison_2: 10-mers)\n",
      "\n",
      "KEVOLVE: extraction mode\n",
      "\n",
      "Load sequences...\n",
      "Count k-mers...\n",
      "Generate matrices...\n",
      "Preprocessing...\n",
      "Solution search...\n",
      "\n",
      "Iteration: 1 | Attempt(s): 1 / 1\n",
      "Mean weighted score 0.992 Max weighted score 1.0 Mean unweighted score 0.99 Max unweighted score 1.0\n",
      "Number of genes : 1\n",
      "\n",
      "Identified solutions (937) saved at : data/comparisons/27.B1.W13.06_27.M1.W10.07/Comparison_2/10\n",
      "Execution time:  144.16168069839478\n",
      "\n",
      "KEVOLVE: motif analyzer mode\n",
      "\n",
      "\n",
      "Identifying perfect matches...\n",
      "\n",
      "Identifying variations...\n"
     ]
    },
    {
     "name": "stderr",
     "output_type": "stream",
     "text": [
      "Processing k-mers: 100%|██████████| 937/937 [00:00<00:00, 7289.25it/s]\n",
      "Processing k-mers for variations: 100%|██████████| 937/937 [00:09<00:00, 98.21it/s] \n",
      "Processing k-mers to extract information:   0%|          | 0/937 [00:00<?, ?it/s]"
     ]
    },
    {
     "name": "stdout",
     "output_type": "stream",
     "text": [
      "\n",
      "Extract information related to signatures/variations...\n"
     ]
    },
    {
     "name": "stderr",
     "output_type": "stream",
     "text": [
      "Processing k-mers to extract information: 100%|██████████| 937/937 [02:00<00:00,  7.80it/s]\n"
     ]
    },
    {
     "name": "stdout",
     "output_type": "stream",
     "text": [
      "Execution time:  129.84429097175598\n",
      "Sample: 27.B1.W13.06_27.M1.W10.07 (Comparison_2: 11-mers)\n",
      "\n",
      "KEVOLVE: extraction mode\n",
      "\n",
      "Load sequences...\n",
      "Count k-mers...\n",
      "Generate matrices...\n",
      "Preprocessing...\n",
      "Solution search...\n",
      "\n",
      "Iteration: 1 | Attempt(s): 1 / 1\n",
      "Mean weighted score 0.991 Max weighted score 1.0 Mean unweighted score 0.989 Max unweighted score 1.0\n",
      "Number of genes : 1\n",
      "\n",
      "Identified solutions (965) saved at : data/comparisons/27.B1.W13.06_27.M1.W10.07/Comparison_2/11\n",
      "Execution time:  144.39546251296997\n",
      "\n",
      "KEVOLVE: motif analyzer mode\n",
      "\n",
      "\n",
      "Identifying perfect matches...\n",
      "\n",
      "Identifying variations...\n"
     ]
    },
    {
     "name": "stderr",
     "output_type": "stream",
     "text": [
      "Processing k-mers: 100%|██████████| 965/965 [00:00<00:00, 7363.82it/s]\n",
      "Processing k-mers for variations: 100%|██████████| 965/965 [00:10<00:00, 88.50it/s]\n",
      "Processing k-mers to extract information:   0%|          | 0/965 [00:00<?, ?it/s]"
     ]
    },
    {
     "name": "stdout",
     "output_type": "stream",
     "text": [
      "\n",
      "Extract information related to signatures/variations...\n"
     ]
    },
    {
     "name": "stderr",
     "output_type": "stream",
     "text": [
      "Processing k-mers to extract information: 100%|██████████| 965/965 [01:38<00:00,  9.83it/s]\n"
     ]
    },
    {
     "name": "stdout",
     "output_type": "stream",
     "text": [
      "Execution time:  109.23412537574768\n",
      "Sample: 27.B1.W13.06_27.M1.W10.07 (Comparison_2: 12-mers)\n",
      "\n",
      "KEVOLVE: extraction mode\n",
      "\n",
      "Load sequences...\n",
      "Count k-mers...\n",
      "Generate matrices...\n",
      "Preprocessing...\n",
      "Solution search...\n",
      "\n",
      "Iteration: 1 | Attempt(s): 1 / 1\n",
      "Mean weighted score 0.99 Max weighted score 1.0 Mean unweighted score 0.988 Max unweighted score 1.0\n",
      "Number of genes : 1\n",
      "\n",
      "Identified solutions (994) saved at : data/comparisons/27.B1.W13.06_27.M1.W10.07/Comparison_2/12\n",
      "Execution time:  144.70785641670227\n",
      "\n",
      "KEVOLVE: motif analyzer mode\n",
      "\n",
      "\n",
      "Identifying perfect matches...\n",
      "\n",
      "Identifying variations...\n"
     ]
    },
    {
     "name": "stderr",
     "output_type": "stream",
     "text": [
      "Processing k-mers: 100%|██████████| 994/994 [00:00<00:00, 7264.45it/s]\n",
      "Processing k-mers for variations: 100%|██████████| 994/994 [00:12<00:00, 81.48it/s]\n",
      "Processing k-mers to extract information:   0%|          | 0/994 [00:00<?, ?it/s]"
     ]
    },
    {
     "name": "stdout",
     "output_type": "stream",
     "text": [
      "\n",
      "Extract information related to signatures/variations...\n"
     ]
    },
    {
     "name": "stderr",
     "output_type": "stream",
     "text": [
      "Processing k-mers to extract information: 100%|██████████| 994/994 [01:25<00:00, 11.67it/s]\n"
     ]
    },
    {
     "name": "stdout",
     "output_type": "stream",
     "text": [
      "Execution time:  97.52243518829346\n",
      "Sample: 27.B1.W13.06_27.M1.W10.07 (Comparison_2: 13-mers)\n",
      "\n",
      "KEVOLVE: extraction mode\n",
      "\n",
      "Load sequences...\n",
      "Count k-mers...\n",
      "Generate matrices...\n",
      "Preprocessing...\n",
      "Solution search...\n",
      "\n",
      "Iteration: 1 | Attempt(s): 1 / 1\n",
      "Mean weighted score 0.989 Max weighted score 1.0 Mean unweighted score 0.987 Max unweighted score 1.0\n",
      "Number of genes : 1\n",
      "\n",
      "Identified solutions (1014) saved at : data/comparisons/27.B1.W13.06_27.M1.W10.07/Comparison_2/13\n",
      "Execution time:  143.94010877609253\n",
      "\n",
      "KEVOLVE: motif analyzer mode\n",
      "\n",
      "\n",
      "Identifying perfect matches...\n",
      "\n",
      "Identifying variations...\n"
     ]
    },
    {
     "name": "stderr",
     "output_type": "stream",
     "text": [
      "Processing k-mers: 100%|██████████| 1014/1014 [00:00<00:00, 7340.18it/s]\n",
      "Processing k-mers for variations: 100%|██████████| 1014/1014 [00:13<00:00, 75.66it/s]\n",
      "Processing k-mers to extract information:   0%|          | 1/1014 [00:00<03:06,  5.44it/s]"
     ]
    },
    {
     "name": "stdout",
     "output_type": "stream",
     "text": [
      "\n",
      "Extract information related to signatures/variations...\n"
     ]
    },
    {
     "name": "stderr",
     "output_type": "stream",
     "text": [
      "Processing k-mers to extract information: 100%|██████████| 1014/1014 [01:14<00:00, 13.70it/s]\n"
     ]
    },
    {
     "name": "stdout",
     "output_type": "stream",
     "text": [
      "Execution time:  87.57454085350037\n",
      "Sample: 27.B1.W13.06_27.M1.W10.07 (Comparison_2: 14-mers)\n",
      "\n",
      "KEVOLVE: extraction mode\n",
      "\n",
      "Load sequences...\n",
      "Count k-mers...\n",
      "Generate matrices...\n",
      "Preprocessing...\n",
      "Solution search...\n",
      "\n",
      "Iteration: 1 | Attempt(s): 1 / 1\n",
      "Mean weighted score 0.99 Max weighted score 1.0 Mean unweighted score 0.988 Max unweighted score 1.0\n",
      "Number of genes : 1\n",
      "\n",
      "Identified solutions (1031) saved at : data/comparisons/27.B1.W13.06_27.M1.W10.07/Comparison_2/14\n",
      "Execution time:  144.39638018608093\n",
      "\n",
      "KEVOLVE: motif analyzer mode\n",
      "\n",
      "\n",
      "Identifying perfect matches...\n",
      "\n",
      "Identifying variations...\n"
     ]
    },
    {
     "name": "stderr",
     "output_type": "stream",
     "text": [
      "Processing k-mers: 100%|██████████| 1031/1031 [00:00<00:00, 7269.56it/s]\n",
      "Processing k-mers for variations: 100%|██████████| 1031/1031 [00:14<00:00, 70.05it/s]\n",
      "Processing k-mers to extract information:   0%|          | 0/1031 [00:00<?, ?it/s]"
     ]
    },
    {
     "name": "stdout",
     "output_type": "stream",
     "text": [
      "\n",
      "Extract information related to signatures/variations...\n"
     ]
    },
    {
     "name": "stderr",
     "output_type": "stream",
     "text": [
      "Processing k-mers to extract information: 100%|██████████| 1031/1031 [01:15<00:00, 13.68it/s]\n"
     ]
    },
    {
     "name": "stdout",
     "output_type": "stream",
     "text": [
      "Execution time:  90.27718925476074\n",
      "Sample: 27.B1.W13.06_27.M1.W10.07 (Comparison_2: 15-mers)\n",
      "\n",
      "KEVOLVE: extraction mode\n",
      "\n",
      "Load sequences...\n",
      "Count k-mers...\n",
      "Generate matrices...\n",
      "Preprocessing...\n",
      "Solution search...\n",
      "\n",
      "Iteration: 1 | Attempt(s): 1 / 1\n",
      "Mean weighted score 0.99 Max weighted score 1.0 Mean unweighted score 0.988 Max unweighted score 1.0\n",
      "Number of genes : 1\n",
      "\n",
      "Identified solutions (1041) saved at : data/comparisons/27.B1.W13.06_27.M1.W10.07/Comparison_2/15\n",
      "Execution time:  144.21366620063782\n",
      "\n",
      "KEVOLVE: motif analyzer mode\n",
      "\n",
      "\n",
      "Identifying perfect matches...\n",
      "\n",
      "Identifying variations...\n"
     ]
    },
    {
     "name": "stderr",
     "output_type": "stream",
     "text": [
      "Processing k-mers: 100%|██████████| 1041/1041 [00:00<00:00, 7073.93it/s]\n",
      "Processing k-mers for variations: 100%|██████████| 1041/1041 [00:15<00:00, 65.52it/s]\n"
     ]
    },
    {
     "name": "stdout",
     "output_type": "stream",
     "text": [
      "\n",
      "Extract information related to signatures/variations...\n"
     ]
    },
    {
     "name": "stderr",
     "output_type": "stream",
     "text": [
      "Processing k-mers to extract information: 100%|██████████| 1041/1041 [01:11<00:00, 14.64it/s]\n"
     ]
    },
    {
     "name": "stdout",
     "output_type": "stream",
     "text": [
      "Execution time:  87.15789461135864\n",
      "Sample: 27.B1.W13.06_27.M1.W10.07 (Comparison_2: 16-mers)\n",
      "\n",
      "KEVOLVE: extraction mode\n",
      "\n",
      "Load sequences...\n",
      "Count k-mers...\n",
      "Generate matrices...\n",
      "Preprocessing...\n",
      "Solution search...\n",
      "\n",
      "Iteration: 1 | Attempt(s): 1 / 1\n",
      "Mean weighted score 0.989 Max weighted score 1.0 Mean unweighted score 0.987 Max unweighted score 1.0\n",
      "Number of genes : 1\n",
      "\n",
      "Identified solutions (1037) saved at : data/comparisons/27.B1.W13.06_27.M1.W10.07/Comparison_2/16\n",
      "Execution time:  144.28255033493042\n",
      "\n",
      "KEVOLVE: motif analyzer mode\n",
      "\n",
      "\n",
      "Identifying perfect matches...\n",
      "\n",
      "Identifying variations...\n"
     ]
    },
    {
     "name": "stderr",
     "output_type": "stream",
     "text": [
      "Processing k-mers: 100%|██████████| 1037/1037 [00:00<00:00, 7203.51it/s]\n",
      "Processing k-mers for variations: 100%|██████████| 1037/1037 [00:16<00:00, 61.64it/s]\n"
     ]
    },
    {
     "name": "stdout",
     "output_type": "stream",
     "text": [
      "\n",
      "Extract information related to signatures/variations...\n"
     ]
    },
    {
     "name": "stderr",
     "output_type": "stream",
     "text": [
      "Processing k-mers to extract information: 100%|██████████| 1037/1037 [01:22<00:00, 12.63it/s]\n"
     ]
    },
    {
     "name": "stdout",
     "output_type": "stream",
     "text": [
      "Execution time:  99.11899781227112\n",
      "Sample: 27.B1.W13.06_27.M1.W10.07 (Comparison_2: 17-mers)\n",
      "\n",
      "KEVOLVE: extraction mode\n",
      "\n",
      "Load sequences...\n",
      "Count k-mers...\n",
      "Generate matrices...\n",
      "Preprocessing...\n",
      "Solution search...\n",
      "\n",
      "Iteration: 1 | Attempt(s): 1 / 1\n",
      "Mean weighted score 0.987 Max weighted score 1.0 Mean unweighted score 0.984 Max unweighted score 1.0\n",
      "Number of genes : 1\n",
      "\n",
      "Identified solutions (1031) saved at : data/comparisons/27.B1.W13.06_27.M1.W10.07/Comparison_2/17\n",
      "Execution time:  144.33988046646118\n",
      "\n",
      "KEVOLVE: motif analyzer mode\n",
      "\n",
      "\n",
      "Identifying perfect matches...\n",
      "\n",
      "Identifying variations...\n"
     ]
    },
    {
     "name": "stderr",
     "output_type": "stream",
     "text": [
      "Processing k-mers: 100%|██████████| 1031/1031 [00:00<00:00, 7333.93it/s]\n",
      "Processing k-mers for variations: 100%|██████████| 1031/1031 [00:17<00:00, 58.17it/s]\n",
      "Processing k-mers to extract information:   0%|          | 0/1031 [00:00<?, ?it/s]"
     ]
    },
    {
     "name": "stdout",
     "output_type": "stream",
     "text": [
      "\n",
      "Extract information related to signatures/variations...\n"
     ]
    },
    {
     "name": "stderr",
     "output_type": "stream",
     "text": [
      "Processing k-mers to extract information: 100%|██████████| 1031/1031 [01:18<00:00, 13.10it/s]\n"
     ]
    },
    {
     "name": "stdout",
     "output_type": "stream",
     "text": [
      "Execution time:  96.59369659423828\n",
      "Sample: 27.B1.W13.06_27.M1.W10.07 (Comparison_2: 18-mers)\n",
      "\n",
      "KEVOLVE: extraction mode\n",
      "\n",
      "Load sequences...\n",
      "Count k-mers...\n",
      "Generate matrices...\n",
      "Preprocessing...\n",
      "Solution search...\n",
      "\n",
      "Iteration: 1 | Attempt(s): 1 / 1\n",
      "Mean weighted score 0.987 Max weighted score 1.0 Mean unweighted score 0.984 Max unweighted score 1.0\n",
      "Number of genes : 1\n",
      "\n",
      "Identified solutions (1023) saved at : data/comparisons/27.B1.W13.06_27.M1.W10.07/Comparison_2/18\n",
      "Execution time:  144.71128344535828\n",
      "\n",
      "KEVOLVE: motif analyzer mode\n",
      "\n",
      "\n",
      "Identifying perfect matches...\n",
      "\n",
      "Identifying variations...\n"
     ]
    },
    {
     "name": "stderr",
     "output_type": "stream",
     "text": [
      "Processing k-mers: 100%|██████████| 1023/1023 [00:00<00:00, 7019.01it/s]\n",
      "Processing k-mers for variations: 100%|██████████| 1023/1023 [00:18<00:00, 54.94it/s]\n",
      "Processing k-mers to extract information:   0%|          | 0/1023 [00:00<?, ?it/s]"
     ]
    },
    {
     "name": "stdout",
     "output_type": "stream",
     "text": [
      "\n",
      "Extract information related to signatures/variations...\n"
     ]
    },
    {
     "name": "stderr",
     "output_type": "stream",
     "text": [
      "Processing k-mers to extract information: 100%|██████████| 1023/1023 [01:16<00:00, 13.37it/s]\n"
     ]
    },
    {
     "name": "stdout",
     "output_type": "stream",
     "text": [
      "Execution time:  95.33265209197998\n",
      "Sample: 27.B1.W13.06_27.M1.W10.07 (Comparison_2: 19-mers)\n",
      "\n",
      "KEVOLVE: extraction mode\n",
      "\n",
      "Load sequences...\n",
      "Count k-mers...\n",
      "Generate matrices...\n",
      "Preprocessing...\n",
      "Solution search...\n",
      "\n",
      "Iteration: 1 | Attempt(s): 1 / 1\n",
      "Mean weighted score 0.987 Max weighted score 1.0 Mean unweighted score 0.984 Max unweighted score 1.0\n",
      "Number of genes : 1\n",
      "\n",
      "Identified solutions (1010) saved at : data/comparisons/27.B1.W13.06_27.M1.W10.07/Comparison_2/19\n",
      "Execution time:  144.76131892204285\n",
      "\n",
      "KEVOLVE: motif analyzer mode\n",
      "\n",
      "\n",
      "Identifying perfect matches...\n",
      "\n",
      "Identifying variations...\n"
     ]
    },
    {
     "name": "stderr",
     "output_type": "stream",
     "text": [
      "Processing k-mers: 100%|██████████| 1010/1010 [00:00<00:00, 7158.47it/s]\n",
      "Processing k-mers for variations: 100%|██████████| 1010/1010 [00:19<00:00, 52.13it/s]\n"
     ]
    },
    {
     "name": "stdout",
     "output_type": "stream",
     "text": [
      "\n",
      "Extract information related to signatures/variations...\n"
     ]
    },
    {
     "name": "stderr",
     "output_type": "stream",
     "text": [
      "Processing k-mers to extract information: 100%|██████████| 1010/1010 [01:15<00:00, 13.33it/s]\n"
     ]
    },
    {
     "name": "stdout",
     "output_type": "stream",
     "text": [
      "Execution time:  95.32592344284058\n",
      "Sample: 27.B1.W13.06_27.M1.W10.07 (Comparison_2: 20-mers)\n",
      "\n",
      "KEVOLVE: extraction mode\n",
      "\n",
      "Load sequences...\n",
      "Count k-mers...\n",
      "Generate matrices...\n",
      "Preprocessing...\n",
      "Solution search...\n",
      "\n",
      "Iteration: 1 | Attempt(s): 1 / 1\n",
      "Mean weighted score 0.986 Max weighted score 1.0 Mean unweighted score 0.983 Max unweighted score 1.0\n",
      "Number of genes : 1\n",
      "\n",
      "Identified solutions (1001) saved at : data/comparisons/27.B1.W13.06_27.M1.W10.07/Comparison_2/20\n",
      "Execution time:  144.29753994941711\n",
      "\n",
      "KEVOLVE: motif analyzer mode\n",
      "\n",
      "\n",
      "Identifying perfect matches...\n",
      "\n",
      "Identifying variations...\n"
     ]
    },
    {
     "name": "stderr",
     "output_type": "stream",
     "text": [
      "Processing k-mers: 100%|██████████| 1001/1001 [00:00<00:00, 7311.20it/s]\n",
      "Processing k-mers for variations: 100%|██████████| 1001/1001 [00:20<00:00, 49.36it/s]\n",
      "Processing k-mers to extract information:   0%|          | 1/1001 [00:00<02:37,  6.33it/s]"
     ]
    },
    {
     "name": "stdout",
     "output_type": "stream",
     "text": [
      "\n",
      "Extract information related to signatures/variations...\n"
     ]
    },
    {
     "name": "stderr",
     "output_type": "stream",
     "text": [
      "Processing k-mers to extract information: 100%|██████████| 1001/1001 [01:12<00:00, 13.76it/s]\n"
     ]
    },
    {
     "name": "stdout",
     "output_type": "stream",
     "text": [
      "Execution time:  93.21164155006409\n",
      "Sample: 27.B1.W13.06_27.M1.W10.07 (Comparison_2: 21-mers)\n",
      "\n",
      "KEVOLVE: extraction mode\n",
      "\n",
      "Load sequences...\n",
      "Count k-mers...\n",
      "Generate matrices...\n",
      "Preprocessing...\n",
      "Solution search...\n",
      "\n",
      "Iteration: 1 | Attempt(s): 1 / 1\n",
      "Mean weighted score 0.986 Max weighted score 1.0 Mean unweighted score 0.983 Max unweighted score 1.0\n",
      "Number of genes : 1\n",
      "\n",
      "Identified solutions (991) saved at : data/comparisons/27.B1.W13.06_27.M1.W10.07/Comparison_2/21\n",
      "Execution time:  144.4630103111267\n",
      "\n",
      "KEVOLVE: motif analyzer mode\n",
      "\n",
      "\n",
      "Identifying perfect matches...\n",
      "\n",
      "Identifying variations...\n"
     ]
    },
    {
     "name": "stderr",
     "output_type": "stream",
     "text": [
      "Processing k-mers: 100%|██████████| 991/991 [00:00<00:00, 7297.05it/s]\n",
      "Processing k-mers for variations: 100%|██████████| 991/991 [00:20<00:00, 47.50it/s]\n"
     ]
    },
    {
     "name": "stdout",
     "output_type": "stream",
     "text": [
      "\n",
      "Extract information related to signatures/variations...\n"
     ]
    },
    {
     "name": "stderr",
     "output_type": "stream",
     "text": [
      "Processing k-mers to extract information: 100%|██████████| 991/991 [01:08<00:00, 14.38it/s]\n"
     ]
    },
    {
     "name": "stdout",
     "output_type": "stream",
     "text": [
      "Execution time:  89.95812654495239\n",
      "Sample: 27.B1.W13.06_27.M1.W10.07 (Comparison_3: 9-mers)\n",
      "\n",
      "KEVOLVE: extraction mode\n",
      "\n",
      "Load sequences...\n",
      "Count k-mers...\n",
      "Generate matrices...\n",
      "Preprocessing...\n",
      "Solution search...\n",
      "\n",
      "Iteration: 1 | Attempt(s): 1 / 1\n",
      "Mean weighted score 0.813 Max weighted score 1.0 Mean unweighted score 0.813 Max unweighted score 1.0\n",
      "Number of genes : 1\n",
      "\n",
      "Identified solutions (382) saved at : data/comparisons/27.B1.W13.06_27.M1.W10.07/Comparison_3/9\n",
      "Execution time:  144.08808088302612\n",
      "\n",
      "KEVOLVE: motif analyzer mode\n",
      "\n",
      "\n",
      "Identifying perfect matches...\n",
      "\n",
      "Identifying variations...\n"
     ]
    },
    {
     "name": "stderr",
     "output_type": "stream",
     "text": [
      "Processing k-mers: 100%|██████████| 382/382 [00:00<00:00, 8217.29it/s]\n",
      "Processing k-mers for variations: 100%|██████████| 382/382 [00:02<00:00, 135.45it/s]\n",
      "Processing k-mers to extract information:   0%|          | 0/382 [00:00<?, ?it/s]"
     ]
    },
    {
     "name": "stdout",
     "output_type": "stream",
     "text": [
      "\n",
      "Extract information related to signatures/variations...\n"
     ]
    },
    {
     "name": "stderr",
     "output_type": "stream",
     "text": [
      "Processing k-mers to extract information: 100%|██████████| 382/382 [01:27<00:00,  4.37it/s]\n"
     ]
    },
    {
     "name": "stdout",
     "output_type": "stream",
     "text": [
      "Execution time:  90.2200436592102\n",
      "Sample: 27.B1.W13.06_27.M1.W10.07 (Comparison_3: 10-mers)\n",
      "\n",
      "KEVOLVE: extraction mode\n",
      "\n",
      "Load sequences...\n",
      "Count k-mers...\n",
      "Generate matrices...\n",
      "Preprocessing...\n",
      "Solution search...\n",
      "\n",
      "Iteration: 1 | Attempt(s): 1 / 1\n",
      "Mean weighted score 0.811 Max weighted score 1.0 Mean unweighted score 0.811 Max unweighted score 1.0\n",
      "Number of genes : 1\n",
      "\n",
      "Identified solutions (402) saved at : data/comparisons/27.B1.W13.06_27.M1.W10.07/Comparison_3/10\n",
      "Execution time:  144.42577934265137\n",
      "\n",
      "KEVOLVE: motif analyzer mode\n",
      "\n",
      "\n",
      "Identifying perfect matches...\n",
      "\n",
      "Identifying variations...\n"
     ]
    },
    {
     "name": "stderr",
     "output_type": "stream",
     "text": [
      "Processing k-mers: 100%|██████████| 402/402 [00:00<00:00, 8111.10it/s]\n",
      "Processing k-mers for variations: 100%|██████████| 402/402 [00:03<00:00, 122.16it/s]\n",
      "Processing k-mers to extract information:   0%|          | 0/402 [00:00<?, ?it/s]"
     ]
    },
    {
     "name": "stdout",
     "output_type": "stream",
     "text": [
      "\n",
      "Extract information related to signatures/variations...\n"
     ]
    },
    {
     "name": "stderr",
     "output_type": "stream",
     "text": [
      "Processing k-mers to extract information: 100%|██████████| 402/402 [00:42<00:00,  9.52it/s]\n"
     ]
    },
    {
     "name": "stdout",
     "output_type": "stream",
     "text": [
      "Execution time:  45.59015607833862\n",
      "Sample: 27.B1.W13.06_27.M1.W10.07 (Comparison_3: 11-mers)\n",
      "\n",
      "KEVOLVE: extraction mode\n",
      "\n",
      "Load sequences...\n",
      "Count k-mers...\n",
      "Generate matrices...\n",
      "Preprocessing...\n",
      "Solution search...\n",
      "\n",
      "Iteration: 1 | Attempt(s): 1 / 1\n",
      "Mean weighted score 0.813 Max weighted score 1.0 Mean unweighted score 0.813 Max unweighted score 1.0\n",
      "Number of genes : 1\n",
      "\n",
      "Identified solutions (416) saved at : data/comparisons/27.B1.W13.06_27.M1.W10.07/Comparison_3/11\n",
      "Execution time:  145.2200310230255\n",
      "\n",
      "KEVOLVE: motif analyzer mode\n",
      "\n",
      "\n",
      "Identifying perfect matches...\n",
      "\n",
      "Identifying variations...\n"
     ]
    },
    {
     "name": "stderr",
     "output_type": "stream",
     "text": [
      "Processing k-mers: 100%|██████████| 416/416 [00:00<00:00, 7521.37it/s]\n",
      "Processing k-mers for variations: 100%|██████████| 416/416 [00:03<00:00, 111.54it/s]\n",
      "Processing k-mers to extract information:   0%|          | 0/416 [00:00<?, ?it/s]"
     ]
    },
    {
     "name": "stdout",
     "output_type": "stream",
     "text": [
      "\n",
      "Extract information related to signatures/variations...\n"
     ]
    },
    {
     "name": "stderr",
     "output_type": "stream",
     "text": [
      "Processing k-mers to extract information: 100%|██████████| 416/416 [00:35<00:00, 11.82it/s]\n"
     ]
    },
    {
     "name": "stdout",
     "output_type": "stream",
     "text": [
      "Execution time:  38.988542318344116\n",
      "Sample: 27.B1.W13.06_27.M1.W10.07 (Comparison_3: 12-mers)\n",
      "\n",
      "KEVOLVE: extraction mode\n",
      "\n",
      "Load sequences...\n",
      "Count k-mers...\n",
      "Generate matrices...\n",
      "Preprocessing...\n",
      "Solution search...\n",
      "\n",
      "Iteration: 1 | Attempt(s): 1 / 1\n",
      "Mean weighted score 0.808 Max weighted score 1.0 Mean unweighted score 0.808 Max unweighted score 1.0\n",
      "Number of genes : 1\n",
      "\n",
      "Identified solutions (429) saved at : data/comparisons/27.B1.W13.06_27.M1.W10.07/Comparison_3/12\n",
      "Execution time:  145.0442156791687\n",
      "\n",
      "KEVOLVE: motif analyzer mode\n",
      "\n",
      "\n",
      "Identifying perfect matches...\n",
      "\n",
      "Identifying variations...\n"
     ]
    },
    {
     "name": "stderr",
     "output_type": "stream",
     "text": [
      "Processing k-mers: 100%|██████████| 429/429 [00:00<00:00, 8107.18it/s]\n",
      "Processing k-mers for variations: 100%|██████████| 429/429 [00:04<00:00, 102.97it/s]\n",
      "Processing k-mers to extract information:   0%|          | 0/429 [00:00<?, ?it/s]"
     ]
    },
    {
     "name": "stdout",
     "output_type": "stream",
     "text": [
      "\n",
      "Extract information related to signatures/variations...\n"
     ]
    },
    {
     "name": "stderr",
     "output_type": "stream",
     "text": [
      "Processing k-mers to extract information: 100%|██████████| 429/429 [00:30<00:00, 14.27it/s]\n"
     ]
    },
    {
     "name": "stdout",
     "output_type": "stream",
     "text": [
      "Execution time:  34.31323051452637\n",
      "Sample: 27.B1.W13.06_27.M1.W10.07 (Comparison_3: 13-mers)\n",
      "\n",
      "KEVOLVE: extraction mode\n",
      "\n",
      "Load sequences...\n",
      "Count k-mers...\n",
      "Generate matrices...\n",
      "Preprocessing...\n",
      "Solution search...\n",
      "\n",
      "Iteration: 1 | Attempt(s): 1 / 1\n",
      "Mean weighted score 0.806 Max weighted score 1.0 Mean unweighted score 0.806 Max unweighted score 1.0\n",
      "Number of genes : 1\n",
      "\n",
      "Identified solutions (435) saved at : data/comparisons/27.B1.W13.06_27.M1.W10.07/Comparison_3/13\n",
      "Execution time:  144.38483953475952\n",
      "\n",
      "KEVOLVE: motif analyzer mode\n",
      "\n",
      "\n",
      "Identifying perfect matches...\n",
      "\n",
      "Identifying variations...\n"
     ]
    },
    {
     "name": "stderr",
     "output_type": "stream",
     "text": [
      "Processing k-mers: 100%|██████████| 435/435 [00:00<00:00, 7944.31it/s]\n",
      "Processing k-mers for variations: 100%|██████████| 435/435 [00:04<00:00, 95.54it/s]\n",
      "Processing k-mers to extract information:   0%|          | 0/435 [00:00<?, ?it/s]"
     ]
    },
    {
     "name": "stdout",
     "output_type": "stream",
     "text": [
      "\n",
      "Extract information related to signatures/variations...\n"
     ]
    },
    {
     "name": "stderr",
     "output_type": "stream",
     "text": [
      "Processing k-mers to extract information: 100%|██████████| 435/435 [00:28<00:00, 15.33it/s]\n"
     ]
    },
    {
     "name": "stdout",
     "output_type": "stream",
     "text": [
      "Execution time:  33.00928997993469\n",
      "Sample: 27.B1.W13.06_27.M1.W10.07 (Comparison_3: 14-mers)\n",
      "\n",
      "KEVOLVE: extraction mode\n",
      "\n",
      "Load sequences...\n",
      "Count k-mers...\n",
      "Generate matrices...\n",
      "Preprocessing...\n",
      "Solution search...\n",
      "\n",
      "Iteration: 1 | Attempt(s): 1 / 1\n",
      "Mean weighted score 0.803 Max weighted score 1.0 Mean unweighted score 0.803 Max unweighted score 1.0\n",
      "Number of genes : 1\n",
      "\n",
      "Identified solutions (440) saved at : data/comparisons/27.B1.W13.06_27.M1.W10.07/Comparison_3/14\n",
      "Execution time:  144.53241324424744\n",
      "\n",
      "KEVOLVE: motif analyzer mode\n",
      "\n",
      "\n",
      "Identifying perfect matches...\n",
      "\n",
      "Identifying variations...\n"
     ]
    },
    {
     "name": "stderr",
     "output_type": "stream",
     "text": [
      "Processing k-mers: 100%|██████████| 440/440 [00:00<00:00, 8008.88it/s]\n",
      "Processing k-mers for variations: 100%|██████████| 440/440 [00:04<00:00, 88.40it/s]\n",
      "Processing k-mers to extract information:   0%|          | 1/440 [00:00<00:57,  7.58it/s]"
     ]
    },
    {
     "name": "stdout",
     "output_type": "stream",
     "text": [
      "\n",
      "Extract information related to signatures/variations...\n"
     ]
    },
    {
     "name": "stderr",
     "output_type": "stream",
     "text": [
      "Processing k-mers to extract information: 100%|██████████| 440/440 [00:27<00:00, 15.72it/s]\n"
     ]
    },
    {
     "name": "stdout",
     "output_type": "stream",
     "text": [
      "Execution time:  33.04896020889282\n",
      "Sample: 27.B1.W13.06_27.M1.W10.07 (Comparison_3: 15-mers)\n",
      "\n",
      "KEVOLVE: extraction mode\n",
      "\n",
      "Load sequences...\n",
      "Count k-mers...\n",
      "Generate matrices...\n",
      "Preprocessing...\n",
      "Solution search...\n",
      "\n",
      "Iteration: 1 | Attempt(s): 1 / 1\n",
      "Mean weighted score 0.802 Max weighted score 1.0 Mean unweighted score 0.802 Max unweighted score 1.0\n",
      "Number of genes : 1\n",
      "\n",
      "Identified solutions (439) saved at : data/comparisons/27.B1.W13.06_27.M1.W10.07/Comparison_3/15\n",
      "Execution time:  144.78428769111633\n",
      "\n",
      "KEVOLVE: motif analyzer mode\n",
      "\n",
      "\n",
      "Identifying perfect matches...\n",
      "\n",
      "Identifying variations...\n"
     ]
    },
    {
     "name": "stderr",
     "output_type": "stream",
     "text": [
      "Processing k-mers: 100%|██████████| 439/439 [00:00<00:00, 7944.31it/s]\n",
      "Processing k-mers for variations: 100%|██████████| 439/439 [00:05<00:00, 82.65it/s]\n",
      "Processing k-mers to extract information:   0%|          | 0/439 [00:00<?, ?it/s]"
     ]
    },
    {
     "name": "stdout",
     "output_type": "stream",
     "text": [
      "\n",
      "Extract information related to signatures/variations...\n"
     ]
    },
    {
     "name": "stderr",
     "output_type": "stream",
     "text": [
      "Processing k-mers to extract information: 100%|██████████| 439/439 [00:25<00:00, 16.99it/s]\n"
     ]
    },
    {
     "name": "stdout",
     "output_type": "stream",
     "text": [
      "Execution time:  31.22922158241272\n",
      "Sample: 27.B1.W13.06_27.M1.W10.07 (Comparison_3: 16-mers)\n",
      "\n",
      "KEVOLVE: extraction mode\n",
      "\n",
      "Load sequences...\n",
      "Count k-mers...\n",
      "Generate matrices...\n",
      "Preprocessing...\n",
      "Solution search...\n",
      "\n",
      "Iteration: 1 | Attempt(s): 1 / 1\n",
      "Mean weighted score 0.78 Max weighted score 1.0 Mean unweighted score 0.78 Max unweighted score 1.0\n",
      "Number of genes : 1\n",
      "\n",
      "Identified solutions (433) saved at : data/comparisons/27.B1.W13.06_27.M1.W10.07/Comparison_3/16\n",
      "Execution time:  145.26365971565247\n",
      "\n",
      "KEVOLVE: motif analyzer mode\n",
      "\n",
      "\n",
      "Identifying perfect matches...\n",
      "\n",
      "Identifying variations...\n"
     ]
    },
    {
     "name": "stderr",
     "output_type": "stream",
     "text": [
      "Processing k-mers: 100%|██████████| 433/433 [00:00<00:00, 7943.51it/s]\n",
      "Processing k-mers for variations: 100%|██████████| 433/433 [00:05<00:00, 77.57it/s]\n",
      "Processing k-mers to extract information:   0%|          | 0/433 [00:00<?, ?it/s]"
     ]
    },
    {
     "name": "stdout",
     "output_type": "stream",
     "text": [
      "\n",
      "Extract information related to signatures/variations...\n"
     ]
    },
    {
     "name": "stderr",
     "output_type": "stream",
     "text": [
      "Processing k-mers to extract information: 100%|██████████| 433/433 [00:28<00:00, 15.33it/s]\n"
     ]
    },
    {
     "name": "stdout",
     "output_type": "stream",
     "text": [
      "Execution time:  33.904934883117676\n",
      "Sample: 27.B1.W13.06_27.M1.W10.07 (Comparison_3: 17-mers)\n",
      "\n",
      "KEVOLVE: extraction mode\n",
      "\n",
      "Load sequences...\n",
      "Count k-mers...\n",
      "Generate matrices...\n",
      "Preprocessing...\n",
      "Solution search...\n",
      "\n",
      "Iteration: 1 | Attempt(s): 1 / 1\n",
      "Mean weighted score 0.776 Max weighted score 1.0 Mean unweighted score 0.776 Max unweighted score 1.0\n",
      "Number of genes : 1\n",
      "\n",
      "Identified solutions (425) saved at : data/comparisons/27.B1.W13.06_27.M1.W10.07/Comparison_3/17\n",
      "Execution time:  144.7889859676361\n",
      "\n",
      "KEVOLVE: motif analyzer mode\n",
      "\n",
      "\n",
      "Identifying perfect matches...\n",
      "\n",
      "Identifying variations...\n"
     ]
    },
    {
     "name": "stderr",
     "output_type": "stream",
     "text": [
      "Processing k-mers: 100%|██████████| 425/425 [00:00<00:00, 7805.12it/s]\n",
      "Processing k-mers for variations: 100%|██████████| 425/425 [00:05<00:00, 73.40it/s]\n",
      "Processing k-mers to extract information:   0%|          | 0/425 [00:00<?, ?it/s]"
     ]
    },
    {
     "name": "stdout",
     "output_type": "stream",
     "text": [
      "\n",
      "Extract information related to signatures/variations...\n"
     ]
    },
    {
     "name": "stderr",
     "output_type": "stream",
     "text": [
      "Processing k-mers to extract information: 100%|██████████| 425/425 [00:27<00:00, 15.30it/s]\n"
     ]
    },
    {
     "name": "stdout",
     "output_type": "stream",
     "text": [
      "Execution time:  33.64797854423523\n",
      "Sample: 27.B1.W13.06_27.M1.W10.07 (Comparison_3: 18-mers)\n",
      "\n",
      "KEVOLVE: extraction mode\n",
      "\n",
      "Load sequences...\n",
      "Count k-mers...\n",
      "Generate matrices...\n",
      "Preprocessing...\n",
      "Solution search...\n",
      "\n",
      "Iteration: 1 | Attempt(s): 1 / 1\n",
      "Mean weighted score 0.776 Max weighted score 1.0 Mean unweighted score 0.776 Max unweighted score 1.0\n",
      "Number of genes : 1\n",
      "\n",
      "Identified solutions (421) saved at : data/comparisons/27.B1.W13.06_27.M1.W10.07/Comparison_3/18\n",
      "Execution time:  145.06198596954346\n",
      "\n",
      "KEVOLVE: motif analyzer mode\n",
      "\n",
      "\n",
      "Identifying perfect matches...\n",
      "\n",
      "Identifying variations...\n"
     ]
    },
    {
     "name": "stderr",
     "output_type": "stream",
     "text": [
      "Processing k-mers: 100%|██████████| 421/421 [00:00<00:00, 7908.18it/s]\n",
      "Processing k-mers for variations: 100%|██████████| 421/421 [00:06<00:00, 69.43it/s]\n",
      "Processing k-mers to extract information:   0%|          | 0/421 [00:00<?, ?it/s]"
     ]
    },
    {
     "name": "stdout",
     "output_type": "stream",
     "text": [
      "\n",
      "Extract information related to signatures/variations...\n"
     ]
    },
    {
     "name": "stderr",
     "output_type": "stream",
     "text": [
      "Processing k-mers to extract information: 100%|██████████| 421/421 [00:27<00:00, 15.55it/s]\n"
     ]
    },
    {
     "name": "stdout",
     "output_type": "stream",
     "text": [
      "Execution time:  33.205737352371216\n",
      "Sample: 27.B1.W13.06_27.M1.W10.07 (Comparison_3: 19-mers)\n",
      "\n",
      "KEVOLVE: extraction mode\n",
      "\n",
      "Load sequences...\n",
      "Count k-mers...\n",
      "Generate matrices...\n",
      "Preprocessing...\n",
      "Solution search...\n",
      "\n",
      "Iteration: 1 | Attempt(s): 1 / 1\n",
      "Mean weighted score 0.771 Max weighted score 1.0 Mean unweighted score 0.771 Max unweighted score 1.0\n",
      "Number of genes : 1\n",
      "\n",
      "Identified solutions (412) saved at : data/comparisons/27.B1.W13.06_27.M1.W10.07/Comparison_3/19\n",
      "Execution time:  145.1330533027649\n",
      "\n",
      "KEVOLVE: motif analyzer mode\n",
      "\n",
      "\n",
      "Identifying perfect matches...\n",
      "\n",
      "Identifying variations...\n"
     ]
    },
    {
     "name": "stderr",
     "output_type": "stream",
     "text": [
      "Processing k-mers: 100%|██████████| 412/412 [00:00<00:00, 7890.29it/s]\n",
      "Processing k-mers for variations: 100%|██████████| 412/412 [00:06<00:00, 66.14it/s]\n",
      "Processing k-mers to extract information:   0%|          | 0/412 [00:00<?, ?it/s]"
     ]
    },
    {
     "name": "stdout",
     "output_type": "stream",
     "text": [
      "\n",
      "Extract information related to signatures/variations...\n"
     ]
    },
    {
     "name": "stderr",
     "output_type": "stream",
     "text": [
      "Processing k-mers to extract information: 100%|██████████| 412/412 [00:27<00:00, 14.99it/s]\n"
     ]
    },
    {
     "name": "stdout",
     "output_type": "stream",
     "text": [
      "Execution time:  33.799137115478516\n",
      "Sample: 27.B1.W13.06_27.M1.W10.07 (Comparison_3: 20-mers)\n",
      "\n",
      "KEVOLVE: extraction mode\n",
      "\n",
      "Load sequences...\n",
      "Count k-mers...\n",
      "Generate matrices...\n",
      "Preprocessing...\n",
      "Solution search...\n",
      "\n",
      "Iteration: 1 | Attempt(s): 1 / 1\n",
      "Mean weighted score 0.77 Max weighted score 1.0 Mean unweighted score 0.77 Max unweighted score 1.0\n",
      "Number of genes : 1\n",
      "\n",
      "Identified solutions (398) saved at : data/comparisons/27.B1.W13.06_27.M1.W10.07/Comparison_3/20\n",
      "Execution time:  144.98284196853638\n",
      "\n",
      "KEVOLVE: motif analyzer mode\n",
      "\n",
      "\n",
      "Identifying perfect matches...\n",
      "\n",
      "Identifying variations...\n"
     ]
    },
    {
     "name": "stderr",
     "output_type": "stream",
     "text": [
      "Processing k-mers: 100%|██████████| 398/398 [00:00<00:00, 8019.32it/s]\n",
      "Processing k-mers for variations: 100%|██████████| 398/398 [00:06<00:00, 63.55it/s]\n",
      "Processing k-mers to extract information:   0%|          | 0/398 [00:00<?, ?it/s]"
     ]
    },
    {
     "name": "stdout",
     "output_type": "stream",
     "text": [
      "\n",
      "Extract information related to signatures/variations...\n"
     ]
    },
    {
     "name": "stderr",
     "output_type": "stream",
     "text": [
      "Processing k-mers to extract information: 100%|██████████| 398/398 [00:25<00:00, 15.35it/s]\n"
     ]
    },
    {
     "name": "stdout",
     "output_type": "stream",
     "text": [
      "Execution time:  32.26777100563049\n",
      "Sample: 27.B1.W13.06_27.M1.W10.07 (Comparison_3: 21-mers)\n",
      "\n",
      "KEVOLVE: extraction mode\n",
      "\n",
      "Load sequences...\n",
      "Count k-mers...\n",
      "Generate matrices...\n",
      "Preprocessing...\n",
      "Solution search...\n",
      "\n",
      "Iteration: 1 | Attempt(s): 1 / 1\n",
      "Mean weighted score 0.767 Max weighted score 1.0 Mean unweighted score 0.767 Max unweighted score 1.0\n",
      "Number of genes : 1\n",
      "\n",
      "Identified solutions (391) saved at : data/comparisons/27.B1.W13.06_27.M1.W10.07/Comparison_3/21\n",
      "Execution time:  145.59559202194214\n",
      "\n",
      "KEVOLVE: motif analyzer mode\n",
      "\n",
      "\n",
      "Identifying perfect matches...\n",
      "\n",
      "Identifying variations...\n"
     ]
    },
    {
     "name": "stderr",
     "output_type": "stream",
     "text": [
      "Processing k-mers: 100%|██████████| 391/391 [00:00<00:00, 7940.64it/s]\n",
      "Processing k-mers for variations: 100%|██████████| 391/391 [00:06<00:00, 60.61it/s]\n",
      "Processing k-mers to extract information:   0%|          | 1/391 [00:00<00:50,  7.69it/s]"
     ]
    },
    {
     "name": "stdout",
     "output_type": "stream",
     "text": [
      "\n",
      "Extract information related to signatures/variations...\n"
     ]
    },
    {
     "name": "stderr",
     "output_type": "stream",
     "text": [
      "Processing k-mers to extract information: 100%|██████████| 391/391 [00:24<00:00, 16.12it/s]\n"
     ]
    },
    {
     "name": "stdout",
     "output_type": "stream",
     "text": [
      "Execution time:  30.78569221496582\n",
      "Sample: 30.B1.W11.08_30.M1.W04.09 (Comparison_1: 9-mers)\n",
      "\n",
      "KEVOLVE: extraction mode\n",
      "\n",
      "Load sequences...\n",
      "Count k-mers...\n",
      "Generate matrices...\n",
      "Preprocessing...\n",
      "Solution search...\n",
      "\n",
      "Iteration: 1 | Attempt(s): 1 / 1\n",
      "Mean weighted score 0.998 Max weighted score 1.0 Mean unweighted score 0.997 Max unweighted score 1.0\n",
      "Number of genes : 1\n",
      "\n",
      "Identified solutions (1212) saved at : data/comparisons/30.B1.W11.08_30.M1.W04.09/Comparison_1/9\n",
      "Execution time:  145.27941966056824\n",
      "\n",
      "KEVOLVE: motif analyzer mode\n",
      "\n",
      "\n",
      "Identifying perfect matches...\n"
     ]
    },
    {
     "name": "stderr",
     "output_type": "stream",
     "text": [
      "Processing k-mers: 100%|██████████| 1212/1212 [00:00<00:00, 4592.73it/s]\n",
      "Processing k-mers for variations:   0%|          | 6/1212 [00:00<00:20, 58.22it/s]"
     ]
    },
    {
     "name": "stdout",
     "output_type": "stream",
     "text": [
      "\n",
      "Identifying variations...\n"
     ]
    },
    {
     "name": "stderr",
     "output_type": "stream",
     "text": [
      "Processing k-mers for variations: 100%|██████████| 1212/1212 [00:24<00:00, 50.37it/s]\n",
      "Processing k-mers to extract information:   0%|          | 0/1212 [00:00<?, ?it/s]"
     ]
    },
    {
     "name": "stdout",
     "output_type": "stream",
     "text": [
      "\n",
      "Extract information related to signatures/variations...\n"
     ]
    },
    {
     "name": "stderr",
     "output_type": "stream",
     "text": [
      "Processing k-mers to extract information: 100%|██████████| 1212/1212 [04:52<00:00,  4.15it/s]\n"
     ]
    },
    {
     "name": "stdout",
     "output_type": "stream",
     "text": [
      "Execution time:  316.6967475414276\n",
      "Sample: 30.B1.W11.08_30.M1.W04.09 (Comparison_1: 10-mers)\n",
      "\n",
      "KEVOLVE: extraction mode\n",
      "\n",
      "Load sequences...\n",
      "Count k-mers...\n",
      "Generate matrices...\n",
      "Preprocessing...\n",
      "Solution search...\n",
      "\n",
      "Iteration: 1 | Attempt(s): 1 / 1\n",
      "Mean weighted score 0.999 Max weighted score 1.0 Mean unweighted score 0.997 Max unweighted score 1.0\n",
      "Number of genes : 1\n",
      "\n",
      "Identified solutions (1249) saved at : data/comparisons/30.B1.W11.08_30.M1.W04.09/Comparison_1/10\n",
      "Execution time:  145.62749123573303\n",
      "\n",
      "KEVOLVE: motif analyzer mode\n",
      "\n",
      "\n",
      "Identifying perfect matches...\n"
     ]
    },
    {
     "name": "stderr",
     "output_type": "stream",
     "text": [
      "Processing k-mers: 100%|██████████| 1249/1249 [00:00<00:00, 4470.87it/s]\n",
      "Processing k-mers for variations:   0%|          | 4/1249 [00:00<00:41, 30.28it/s]"
     ]
    },
    {
     "name": "stdout",
     "output_type": "stream",
     "text": [
      "\n",
      "Identifying variations...\n"
     ]
    },
    {
     "name": "stderr",
     "output_type": "stream",
     "text": [
      "Processing k-mers for variations: 100%|██████████| 1249/1249 [00:27<00:00, 44.81it/s]\n",
      "Processing k-mers to extract information:   0%|          | 1/1249 [00:00<02:53,  7.18it/s]"
     ]
    },
    {
     "name": "stdout",
     "output_type": "stream",
     "text": [
      "\n",
      "Extract information related to signatures/variations...\n"
     ]
    },
    {
     "name": "stderr",
     "output_type": "stream",
     "text": [
      "Processing k-mers to extract information: 100%|██████████| 1249/1249 [02:05<00:00,  9.98it/s]\n"
     ]
    },
    {
     "name": "stdout",
     "output_type": "stream",
     "text": [
      "Execution time:  153.36326122283936\n",
      "Sample: 30.B1.W11.08_30.M1.W04.09 (Comparison_1: 11-mers)\n",
      "\n",
      "KEVOLVE: extraction mode\n",
      "\n",
      "Load sequences...\n",
      "Count k-mers...\n",
      "Generate matrices...\n",
      "Preprocessing...\n",
      "Solution search...\n",
      "\n",
      "Iteration: 1 | Attempt(s): 1 / 1\n",
      "Mean weighted score 0.998 Max weighted score 1.0 Mean unweighted score 0.997 Max unweighted score 1.0\n",
      "Number of genes : 1\n",
      "\n",
      "Identified solutions (1279) saved at : data/comparisons/30.B1.W11.08_30.M1.W04.09/Comparison_1/11\n",
      "Execution time:  145.0889868736267\n",
      "\n",
      "KEVOLVE: motif analyzer mode\n",
      "\n",
      "\n",
      "Identifying perfect matches...\n"
     ]
    },
    {
     "name": "stderr",
     "output_type": "stream",
     "text": [
      "Processing k-mers: 100%|██████████| 1279/1279 [00:00<00:00, 4418.12it/s]\n",
      "Processing k-mers for variations:   1%|          | 7/1279 [00:00<00:24, 51.55it/s]"
     ]
    },
    {
     "name": "stdout",
     "output_type": "stream",
     "text": [
      "\n",
      "Identifying variations...\n"
     ]
    },
    {
     "name": "stderr",
     "output_type": "stream",
     "text": [
      "Processing k-mers for variations: 100%|██████████| 1279/1279 [00:31<00:00, 40.41it/s]\n",
      "Processing k-mers to extract information:   0%|          | 0/1279 [00:00<?, ?it/s]"
     ]
    },
    {
     "name": "stdout",
     "output_type": "stream",
     "text": [
      "\n",
      "Extract information related to signatures/variations...\n"
     ]
    },
    {
     "name": "stderr",
     "output_type": "stream",
     "text": [
      "Processing k-mers to extract information: 100%|██████████| 1279/1279 [01:25<00:00, 14.97it/s]\n"
     ]
    },
    {
     "name": "stdout",
     "output_type": "stream",
     "text": [
      "Execution time:  117.39051485061646\n",
      "Sample: 30.B1.W11.08_30.M1.W04.09 (Comparison_1: 12-mers)\n",
      "\n",
      "KEVOLVE: extraction mode\n",
      "\n",
      "Load sequences...\n",
      "Count k-mers...\n",
      "Generate matrices...\n",
      "Preprocessing...\n",
      "Solution search...\n",
      "\n",
      "Iteration: 1 | Attempt(s): 1 / 1\n",
      "Mean weighted score 0.999 Max weighted score 1.0 Mean unweighted score 0.998 Max unweighted score 1.0\n",
      "Number of genes : 1\n",
      "\n",
      "Identified solutions (1311) saved at : data/comparisons/30.B1.W11.08_30.M1.W04.09/Comparison_1/12\n",
      "Execution time:  145.10960006713867\n",
      "\n",
      "KEVOLVE: motif analyzer mode\n",
      "\n",
      "\n",
      "Identifying perfect matches...\n"
     ]
    },
    {
     "name": "stderr",
     "output_type": "stream",
     "text": [
      "Processing k-mers: 100%|██████████| 1311/1311 [00:00<00:00, 4407.98it/s]\n",
      "Processing k-mers for variations:   0%|          | 6/1311 [00:00<00:30, 43.10it/s]"
     ]
    },
    {
     "name": "stdout",
     "output_type": "stream",
     "text": [
      "\n",
      "Identifying variations...\n"
     ]
    },
    {
     "name": "stderr",
     "output_type": "stream",
     "text": [
      "Processing k-mers for variations: 100%|██████████| 1311/1311 [00:36<00:00, 36.41it/s]\n",
      "Processing k-mers to extract information:   0%|          | 1/1311 [00:00<02:58,  7.33it/s]"
     ]
    },
    {
     "name": "stdout",
     "output_type": "stream",
     "text": [
      "\n",
      "Extract information related to signatures/variations...\n"
     ]
    },
    {
     "name": "stderr",
     "output_type": "stream",
     "text": [
      "Processing k-mers to extract information: 100%|██████████| 1311/1311 [01:12<00:00, 18.06it/s]\n"
     ]
    },
    {
     "name": "stdout",
     "output_type": "stream",
     "text": [
      "Execution time:  108.91289710998535\n",
      "Sample: 30.B1.W11.08_30.M1.W04.09 (Comparison_1: 13-mers)\n",
      "\n",
      "KEVOLVE: extraction mode\n",
      "\n",
      "Load sequences...\n",
      "Count k-mers...\n",
      "Generate matrices...\n",
      "Preprocessing...\n",
      "Solution search...\n",
      "\n",
      "Iteration: 1 | Attempt(s): 1 / 1\n",
      "Mean weighted score 0.992 Max weighted score 1.0 Mean unweighted score 0.982 Max unweighted score 1.0\n",
      "Number of genes : 1\n",
      "\n",
      "Identified solutions (1327) saved at : data/comparisons/30.B1.W11.08_30.M1.W04.09/Comparison_1/13\n",
      "Execution time:  145.33944010734558\n",
      "\n",
      "KEVOLVE: motif analyzer mode\n",
      "\n",
      "\n",
      "Identifying perfect matches...\n"
     ]
    },
    {
     "name": "stderr",
     "output_type": "stream",
     "text": [
      "Processing k-mers: 100%|██████████| 1327/1327 [00:00<00:00, 4317.24it/s]\n",
      "Processing k-mers for variations:   0%|          | 3/1327 [00:00<00:55, 23.68it/s]"
     ]
    },
    {
     "name": "stdout",
     "output_type": "stream",
     "text": [
      "\n",
      "Identifying variations...\n"
     ]
    },
    {
     "name": "stderr",
     "output_type": "stream",
     "text": [
      "Processing k-mers for variations: 100%|██████████| 1327/1327 [00:39<00:00, 33.37it/s]\n",
      "Processing k-mers to extract information:   0%|          | 0/1327 [00:00<?, ?it/s]"
     ]
    },
    {
     "name": "stdout",
     "output_type": "stream",
     "text": [
      "\n",
      "Extract information related to signatures/variations...\n"
     ]
    },
    {
     "name": "stderr",
     "output_type": "stream",
     "text": [
      "Processing k-mers to extract information: 100%|██████████| 1327/1327 [01:03<00:00, 20.76it/s]\n"
     ]
    },
    {
     "name": "stdout",
     "output_type": "stream",
     "text": [
      "Execution time:  104.01614713668823\n",
      "Sample: 30.B1.W11.08_30.M1.W04.09 (Comparison_1: 14-mers)\n",
      "\n",
      "KEVOLVE: extraction mode\n",
      "\n",
      "Load sequences...\n",
      "Count k-mers...\n",
      "Generate matrices...\n",
      "Preprocessing...\n",
      "Solution search...\n",
      "\n",
      "Iteration: 1 | Attempt(s): 1 / 1\n",
      "Mean weighted score 0.991 Max weighted score 1.0 Mean unweighted score 0.979 Max unweighted score 1.0\n",
      "Number of genes : 1\n",
      "\n",
      "Identified solutions (1339) saved at : data/comparisons/30.B1.W11.08_30.M1.W04.09/Comparison_1/14\n",
      "Execution time:  145.74810934066772\n",
      "\n",
      "KEVOLVE: motif analyzer mode\n",
      "\n",
      "\n",
      "Identifying perfect matches...\n"
     ]
    },
    {
     "name": "stderr",
     "output_type": "stream",
     "text": [
      "Processing k-mers: 100%|██████████| 1339/1339 [00:00<00:00, 4385.91it/s]\n",
      "Processing k-mers for variations:   0%|          | 4/1339 [00:00<00:47, 28.05it/s]"
     ]
    },
    {
     "name": "stdout",
     "output_type": "stream",
     "text": [
      "\n",
      "Identifying variations...\n"
     ]
    },
    {
     "name": "stderr",
     "output_type": "stream",
     "text": [
      "Processing k-mers for variations: 100%|██████████| 1339/1339 [00:42<00:00, 31.16it/s]\n",
      "Processing k-mers to extract information:   0%|          | 0/1339 [00:00<?, ?it/s]"
     ]
    },
    {
     "name": "stdout",
     "output_type": "stream",
     "text": [
      "\n",
      "Extract information related to signatures/variations...\n"
     ]
    },
    {
     "name": "stderr",
     "output_type": "stream",
     "text": [
      "Processing k-mers to extract information: 100%|██████████| 1339/1339 [01:02<00:00, 21.43it/s]\n"
     ]
    },
    {
     "name": "stdout",
     "output_type": "stream",
     "text": [
      "Execution time:  105.78763747215271\n",
      "Sample: 30.B1.W11.08_30.M1.W04.09 (Comparison_1: 15-mers)\n",
      "\n",
      "KEVOLVE: extraction mode\n",
      "\n",
      "Load sequences...\n",
      "Count k-mers...\n",
      "Generate matrices...\n",
      "Preprocessing...\n",
      "Solution search...\n",
      "\n",
      "Iteration: 1 | Attempt(s): 1 / 1\n",
      "Mean weighted score 0.99 Max weighted score 1.0 Mean unweighted score 0.978 Max unweighted score 1.0\n",
      "Number of genes : 1\n",
      "\n",
      "Identified solutions (1354) saved at : data/comparisons/30.B1.W11.08_30.M1.W04.09/Comparison_1/15\n",
      "Execution time:  145.64009499549866\n",
      "\n",
      "KEVOLVE: motif analyzer mode\n",
      "\n",
      "\n",
      "Identifying perfect matches...\n"
     ]
    },
    {
     "name": "stderr",
     "output_type": "stream",
     "text": [
      "Processing k-mers: 100%|██████████| 1354/1354 [00:00<00:00, 4263.16it/s]\n",
      "Processing k-mers for variations:   0%|          | 0/1354 [00:00<?, ?it/s]"
     ]
    },
    {
     "name": "stdout",
     "output_type": "stream",
     "text": [
      "\n",
      "Identifying variations...\n"
     ]
    },
    {
     "name": "stderr",
     "output_type": "stream",
     "text": [
      "Processing k-mers for variations: 100%|██████████| 1354/1354 [00:46<00:00, 28.92it/s]\n",
      "Processing k-mers to extract information:   0%|          | 0/1354 [00:00<?, ?it/s]"
     ]
    },
    {
     "name": "stdout",
     "output_type": "stream",
     "text": [
      "\n",
      "Extract information related to signatures/variations...\n"
     ]
    },
    {
     "name": "stderr",
     "output_type": "stream",
     "text": [
      "Processing k-mers to extract information: 100%|██████████| 1354/1354 [00:59<00:00, 22.58it/s]\n"
     ]
    },
    {
     "name": "stdout",
     "output_type": "stream",
     "text": [
      "Execution time:  107.13208794593811\n",
      "Sample: 30.B1.W11.08_30.M1.W04.09 (Comparison_1: 16-mers)\n",
      "\n",
      "KEVOLVE: extraction mode\n",
      "\n",
      "Load sequences...\n",
      "Count k-mers...\n",
      "Generate matrices...\n",
      "Preprocessing...\n",
      "Solution search...\n",
      "\n",
      "Iteration: 1 | Attempt(s): 1 / 1\n",
      "Mean weighted score 0.989 Max weighted score 1.0 Mean unweighted score 0.976 Max unweighted score 1.0\n",
      "Number of genes : 1\n",
      "\n",
      "Identified solutions (1365) saved at : data/comparisons/30.B1.W11.08_30.M1.W04.09/Comparison_1/16\n",
      "Execution time:  146.31368851661682\n",
      "\n",
      "KEVOLVE: motif analyzer mode\n",
      "\n",
      "\n",
      "Identifying perfect matches...\n"
     ]
    },
    {
     "name": "stderr",
     "output_type": "stream",
     "text": [
      "Processing k-mers: 100%|██████████| 1365/1365 [00:00<00:00, 4320.55it/s]\n",
      "Processing k-mers for variations:   0%|          | 0/1365 [00:00<?, ?it/s]"
     ]
    },
    {
     "name": "stdout",
     "output_type": "stream",
     "text": [
      "\n",
      "Identifying variations...\n"
     ]
    },
    {
     "name": "stderr",
     "output_type": "stream",
     "text": [
      "Processing k-mers for variations: 100%|██████████| 1365/1365 [00:50<00:00, 26.91it/s]\n"
     ]
    },
    {
     "name": "stdout",
     "output_type": "stream",
     "text": [
      "\n",
      "Extract information related to signatures/variations...\n"
     ]
    },
    {
     "name": "stderr",
     "output_type": "stream",
     "text": [
      "Processing k-mers to extract information: 100%|██████████| 1365/1365 [01:12<00:00, 18.87it/s]\n"
     ]
    },
    {
     "name": "stdout",
     "output_type": "stream",
     "text": [
      "Execution time:  123.39766263961792\n",
      "Sample: 30.B1.W11.08_30.M1.W04.09 (Comparison_1: 17-mers)\n",
      "\n",
      "KEVOLVE: extraction mode\n",
      "\n",
      "Load sequences...\n",
      "Count k-mers...\n",
      "Generate matrices...\n",
      "Preprocessing...\n",
      "Solution search...\n",
      "\n",
      "Iteration: 1 | Attempt(s): 1 / 1\n",
      "Mean weighted score 0.99 Max weighted score 1.0 Mean unweighted score 0.977 Max unweighted score 1.0\n",
      "Number of genes : 1\n",
      "\n",
      "Identified solutions (1375) saved at : data/comparisons/30.B1.W11.08_30.M1.W04.09/Comparison_1/17\n",
      "Execution time:  145.2679808139801\n",
      "\n",
      "KEVOLVE: motif analyzer mode\n",
      "\n",
      "\n",
      "Identifying perfect matches...\n"
     ]
    },
    {
     "name": "stderr",
     "output_type": "stream",
     "text": [
      "Processing k-mers: 100%|██████████| 1375/1375 [00:00<00:00, 4240.59it/s]\n",
      "Processing k-mers for variations:   0%|          | 0/1375 [00:00<?, ?it/s]"
     ]
    },
    {
     "name": "stdout",
     "output_type": "stream",
     "text": [
      "\n",
      "Identifying variations...\n"
     ]
    },
    {
     "name": "stderr",
     "output_type": "stream",
     "text": [
      "Processing k-mers for variations: 100%|██████████| 1375/1375 [00:54<00:00, 25.26it/s]\n"
     ]
    },
    {
     "name": "stdout",
     "output_type": "stream",
     "text": [
      "\n",
      "Extract information related to signatures/variations...\n"
     ]
    },
    {
     "name": "stderr",
     "output_type": "stream",
     "text": [
      "Processing k-mers to extract information: 100%|██████████| 1375/1375 [01:10<00:00, 19.57it/s]\n"
     ]
    },
    {
     "name": "stdout",
     "output_type": "stream",
     "text": [
      "Execution time:  125.06754684448242\n",
      "Sample: 30.B1.W11.08_30.M1.W04.09 (Comparison_1: 18-mers)\n",
      "\n",
      "KEVOLVE: extraction mode\n",
      "\n",
      "Load sequences...\n",
      "Count k-mers...\n",
      "Generate matrices...\n",
      "Preprocessing...\n",
      "Solution search...\n",
      "\n",
      "Iteration: 1 | Attempt(s): 1 / 1\n",
      "Mean weighted score 0.989 Max weighted score 1.0 Mean unweighted score 0.976 Max unweighted score 1.0\n",
      "Number of genes : 1\n",
      "\n",
      "Identified solutions (1380) saved at : data/comparisons/30.B1.W11.08_30.M1.W04.09/Comparison_1/18\n",
      "Execution time:  145.1244261264801\n",
      "\n",
      "KEVOLVE: motif analyzer mode\n",
      "\n",
      "\n",
      "Identifying perfect matches...\n"
     ]
    },
    {
     "name": "stderr",
     "output_type": "stream",
     "text": [
      "Processing k-mers: 100%|██████████| 1380/1380 [00:00<00:00, 4148.60it/s]\n",
      "Processing k-mers for variations:   0%|          | 3/1380 [00:00<00:56, 24.32it/s]"
     ]
    },
    {
     "name": "stdout",
     "output_type": "stream",
     "text": [
      "\n",
      "Identifying variations...\n"
     ]
    },
    {
     "name": "stderr",
     "output_type": "stream",
     "text": [
      "Processing k-mers for variations: 100%|██████████| 1380/1380 [00:58<00:00, 23.74it/s]\n",
      "Processing k-mers to extract information:   0%|          | 4/1380 [00:00<00:47, 28.92it/s]"
     ]
    },
    {
     "name": "stdout",
     "output_type": "stream",
     "text": [
      "\n",
      "Extract information related to signatures/variations...\n"
     ]
    },
    {
     "name": "stderr",
     "output_type": "stream",
     "text": [
      "Processing k-mers to extract information: 100%|██████████| 1380/1380 [01:06<00:00, 20.66it/s]\n"
     ]
    },
    {
     "name": "stdout",
     "output_type": "stream",
     "text": [
      "Execution time:  125.26963686943054\n",
      "Sample: 30.B1.W11.08_30.M1.W04.09 (Comparison_1: 19-mers)\n",
      "\n",
      "KEVOLVE: extraction mode\n",
      "\n",
      "Load sequences...\n",
      "Count k-mers...\n",
      "Generate matrices...\n",
      "Preprocessing...\n",
      "Solution search...\n",
      "\n",
      "Iteration: 1 | Attempt(s): 1 / 1\n",
      "Mean weighted score 0.988 Max weighted score 1.0 Mean unweighted score 0.973 Max unweighted score 1.0\n",
      "Number of genes : 1\n",
      "\n",
      "Identified solutions (1387) saved at : data/comparisons/30.B1.W11.08_30.M1.W04.09/Comparison_1/19\n",
      "Execution time:  145.63859367370605\n",
      "\n",
      "KEVOLVE: motif analyzer mode\n",
      "\n",
      "\n",
      "Identifying perfect matches...\n"
     ]
    },
    {
     "name": "stderr",
     "output_type": "stream",
     "text": [
      "Processing k-mers: 100%|██████████| 1387/1387 [00:00<00:00, 4214.63it/s]\n",
      "Processing k-mers for variations:   0%|          | 3/1387 [00:00<00:59, 23.31it/s]"
     ]
    },
    {
     "name": "stdout",
     "output_type": "stream",
     "text": [
      "\n",
      "Identifying variations...\n"
     ]
    },
    {
     "name": "stderr",
     "output_type": "stream",
     "text": [
      "Processing k-mers for variations: 100%|██████████| 1387/1387 [01:01<00:00, 22.45it/s]\n",
      "Processing k-mers to extract information:   0%|          | 1/1387 [00:00<03:11,  7.23it/s]"
     ]
    },
    {
     "name": "stdout",
     "output_type": "stream",
     "text": [
      "\n",
      "Extract information related to signatures/variations...\n"
     ]
    },
    {
     "name": "stderr",
     "output_type": "stream",
     "text": [
      "Processing k-mers to extract information: 100%|██████████| 1387/1387 [01:11<00:00, 19.30it/s]\n"
     ]
    },
    {
     "name": "stdout",
     "output_type": "stream",
     "text": [
      "Execution time:  133.99724221229553\n",
      "Sample: 30.B1.W11.08_30.M1.W04.09 (Comparison_1: 20-mers)\n",
      "\n",
      "KEVOLVE: extraction mode\n",
      "\n",
      "Load sequences...\n",
      "Count k-mers...\n",
      "Generate matrices...\n",
      "Preprocessing...\n",
      "Solution search...\n",
      "\n",
      "Iteration: 1 | Attempt(s): 1 / 1\n",
      "Mean weighted score 0.987 Max weighted score 1.0 Mean unweighted score 0.972 Max unweighted score 1.0\n",
      "Number of genes : 1\n",
      "\n",
      "Identified solutions (1395) saved at : data/comparisons/30.B1.W11.08_30.M1.W04.09/Comparison_1/20\n",
      "Execution time:  145.20650696754456\n",
      "\n",
      "KEVOLVE: motif analyzer mode\n",
      "\n",
      "\n",
      "Identifying perfect matches...\n"
     ]
    },
    {
     "name": "stderr",
     "output_type": "stream",
     "text": [
      "Processing k-mers: 100%|██████████| 1395/1395 [00:00<00:00, 4302.66it/s]\n",
      "Processing k-mers for variations:   0%|          | 3/1395 [00:00<01:02, 22.22it/s]"
     ]
    },
    {
     "name": "stdout",
     "output_type": "stream",
     "text": [
      "\n",
      "Identifying variations...\n"
     ]
    },
    {
     "name": "stderr",
     "output_type": "stream",
     "text": [
      "Processing k-mers for variations: 100%|██████████| 1395/1395 [01:05<00:00, 21.31it/s]\n",
      "Processing k-mers to extract information:   0%|          | 0/1395 [00:00<?, ?it/s]"
     ]
    },
    {
     "name": "stdout",
     "output_type": "stream",
     "text": [
      "\n",
      "Extract information related to signatures/variations...\n"
     ]
    },
    {
     "name": "stderr",
     "output_type": "stream",
     "text": [
      "Processing k-mers to extract information: 100%|██████████| 1395/1395 [01:11<00:00, 19.53it/s]\n"
     ]
    },
    {
     "name": "stdout",
     "output_type": "stream",
     "text": [
      "Execution time:  137.24151873588562\n",
      "Sample: 30.B1.W11.08_30.M1.W04.09 (Comparison_1: 21-mers)\n",
      "\n",
      "KEVOLVE: extraction mode\n",
      "\n",
      "Load sequences...\n",
      "Count k-mers...\n",
      "Generate matrices...\n",
      "Preprocessing...\n",
      "Solution search...\n",
      "\n",
      "Iteration: 1 | Attempt(s): 1 / 1\n",
      "Mean weighted score 0.987 Max weighted score 1.0 Mean unweighted score 0.971 Max unweighted score 1.0\n",
      "Number of genes : 1\n",
      "\n",
      "Identified solutions (1400) saved at : data/comparisons/30.B1.W11.08_30.M1.W04.09/Comparison_1/21\n",
      "Execution time:  145.6402072906494\n",
      "\n",
      "KEVOLVE: motif analyzer mode\n",
      "\n",
      "\n",
      "Identifying perfect matches...\n"
     ]
    },
    {
     "name": "stderr",
     "output_type": "stream",
     "text": [
      "Processing k-mers: 100%|██████████| 1400/1400 [00:00<00:00, 4267.94it/s]\n",
      "Processing k-mers for variations:   0%|          | 3/1400 [00:00<01:04, 21.50it/s]"
     ]
    },
    {
     "name": "stdout",
     "output_type": "stream",
     "text": [
      "\n",
      "Identifying variations...\n"
     ]
    },
    {
     "name": "stderr",
     "output_type": "stream",
     "text": [
      "Processing k-mers for variations: 100%|██████████| 1400/1400 [01:08<00:00, 20.30it/s]\n",
      "Processing k-mers to extract information:   0%|          | 0/1400 [00:00<?, ?it/s]"
     ]
    },
    {
     "name": "stdout",
     "output_type": "stream",
     "text": [
      "\n",
      "Extract information related to signatures/variations...\n"
     ]
    },
    {
     "name": "stderr",
     "output_type": "stream",
     "text": [
      "Processing k-mers to extract information: 100%|██████████| 1400/1400 [01:06<00:00, 20.93it/s]\n"
     ]
    },
    {
     "name": "stdout",
     "output_type": "stream",
     "text": [
      "Execution time:  136.2462818622589\n",
      "Sample: 38.B1.W10.11_38.M1.W03.10 (Comparison_1: 9-mers)\n",
      "\n",
      "KEVOLVE: extraction mode\n",
      "\n",
      "Load sequences...\n",
      "Count k-mers...\n",
      "Generate matrices...\n",
      "Preprocessing...\n",
      "Solution search...\n",
      "\n",
      "Iteration: 1 | Attempt(s): 1 / 1\n",
      "Mean weighted score 0.999 Max weighted score 1.0 Mean unweighted score 0.996 Max unweighted score 1.0\n",
      "Number of genes : 1\n",
      "\n",
      "Identified solutions (1377) saved at : data/comparisons/38.B1.W10.11_38.M1.W03.10/Comparison_1/9\n",
      "Execution time:  146.18339323997498\n",
      "\n",
      "KEVOLVE: motif analyzer mode\n",
      "\n",
      "\n",
      "Identifying perfect matches...\n"
     ]
    },
    {
     "name": "stderr",
     "output_type": "stream",
     "text": [
      "Processing k-mers: 100%|██████████| 1377/1377 [00:00<00:00, 3089.24it/s]\n",
      "Processing k-mers for variations:   0%|          | 0/1377 [00:00<?, ?it/s]"
     ]
    },
    {
     "name": "stdout",
     "output_type": "stream",
     "text": [
      "\n",
      "Identifying variations...\n"
     ]
    },
    {
     "name": "stderr",
     "output_type": "stream",
     "text": [
      "Processing k-mers for variations: 100%|██████████| 1377/1377 [00:44<00:00, 30.60it/s]\n",
      "Processing k-mers to extract information:   0%|          | 0/1377 [00:00<?, ?it/s]"
     ]
    },
    {
     "name": "stdout",
     "output_type": "stream",
     "text": [
      "\n",
      "Extract information related to signatures/variations...\n"
     ]
    },
    {
     "name": "stderr",
     "output_type": "stream",
     "text": [
      "Processing k-mers to extract information: 100%|██████████| 1377/1377 [21:33<00:00,  1.06it/s] \n"
     ]
    },
    {
     "name": "stdout",
     "output_type": "stream",
     "text": [
      "Execution time:  1338.9590365886688\n",
      "Sample: 38.B1.W10.11_38.M1.W03.10 (Comparison_1: 10-mers)\n",
      "\n",
      "KEVOLVE: extraction mode\n",
      "\n",
      "Load sequences...\n",
      "Count k-mers...\n",
      "Generate matrices...\n",
      "Preprocessing...\n",
      "Solution search...\n",
      "\n",
      "Iteration: 1 | Attempt(s): 1 / 1\n",
      "Mean weighted score 0.999 Max weighted score 1.0 Mean unweighted score 0.996 Max unweighted score 1.0\n",
      "Number of genes : 1\n",
      "\n",
      "Identified solutions (1425) saved at : data/comparisons/38.B1.W10.11_38.M1.W03.10/Comparison_1/10\n",
      "Execution time:  146.46209120750427\n",
      "\n",
      "KEVOLVE: motif analyzer mode\n",
      "\n",
      "\n",
      "Identifying perfect matches...\n"
     ]
    },
    {
     "name": "stderr",
     "output_type": "stream",
     "text": [
      "Processing k-mers: 100%|██████████| 1425/1425 [00:00<00:00, 2993.41it/s]\n",
      "Processing k-mers for variations:   0%|          | 0/1425 [00:00<?, ?it/s]"
     ]
    },
    {
     "name": "stdout",
     "output_type": "stream",
     "text": [
      "\n",
      "Identifying variations...\n"
     ]
    },
    {
     "name": "stderr",
     "output_type": "stream",
     "text": [
      "Processing k-mers for variations: 100%|██████████| 1425/1425 [00:52<00:00, 27.27it/s]\n"
     ]
    },
    {
     "name": "stdout",
     "output_type": "stream",
     "text": [
      "\n",
      "Extract information related to signatures/variations...\n"
     ]
    },
    {
     "name": "stderr",
     "output_type": "stream",
     "text": [
      "Processing k-mers to extract information: 100%|██████████| 1425/1425 [09:17<00:00,  2.55it/s]\n"
     ]
    },
    {
     "name": "stdout",
     "output_type": "stream",
     "text": [
      "Execution time:  610.7172222137451\n",
      "Sample: 38.B1.W10.11_38.M1.W03.10 (Comparison_1: 11-mers)\n",
      "\n",
      "KEVOLVE: extraction mode\n",
      "\n",
      "Load sequences...\n",
      "Count k-mers...\n",
      "Generate matrices...\n",
      "Preprocessing...\n",
      "Solution search...\n",
      "\n",
      "Iteration: 1 | Attempt(s): 1 / 1\n",
      "Mean weighted score 0.999 Max weighted score 1.0 Mean unweighted score 0.996 Max unweighted score 1.0\n",
      "Number of genes : 1\n",
      "\n",
      "Identified solutions (1457) saved at : data/comparisons/38.B1.W10.11_38.M1.W03.10/Comparison_1/11\n",
      "Execution time:  147.06753611564636\n",
      "\n",
      "KEVOLVE: motif analyzer mode\n",
      "\n",
      "\n",
      "Identifying perfect matches...\n"
     ]
    },
    {
     "name": "stderr",
     "output_type": "stream",
     "text": [
      "Processing k-mers: 100%|██████████| 1457/1457 [00:00<00:00, 3072.34it/s]\n",
      "Processing k-mers for variations:   0%|          | 0/1457 [00:00<?, ?it/s]"
     ]
    },
    {
     "name": "stdout",
     "output_type": "stream",
     "text": [
      "\n",
      "Identifying variations...\n"
     ]
    },
    {
     "name": "stderr",
     "output_type": "stream",
     "text": [
      "Processing k-mers for variations: 100%|██████████| 1457/1457 [00:59<00:00, 24.37it/s]\n",
      "Processing k-mers to extract information:   0%|          | 0/1457 [00:00<?, ?it/s]"
     ]
    },
    {
     "name": "stdout",
     "output_type": "stream",
     "text": [
      "\n",
      "Extract information related to signatures/variations...\n"
     ]
    },
    {
     "name": "stderr",
     "output_type": "stream",
     "text": [
      "Processing k-mers to extract information: 100%|██████████| 1457/1457 [06:36<00:00,  3.68it/s]\n"
     ]
    },
    {
     "name": "stdout",
     "output_type": "stream",
     "text": [
      "Execution time:  456.35838174819946\n",
      "Sample: 38.B1.W10.11_38.M1.W03.10 (Comparison_1: 12-mers)\n",
      "\n",
      "KEVOLVE: extraction mode\n",
      "\n",
      "Load sequences...\n",
      "Count k-mers...\n",
      "Generate matrices...\n",
      "Preprocessing...\n",
      "Solution search...\n",
      "\n",
      "Iteration: 1 | Attempt(s): 1 / 1\n",
      "Mean weighted score 0.999 Max weighted score 1.0 Mean unweighted score 0.996 Max unweighted score 1.0\n",
      "Number of genes : 1\n",
      "\n",
      "Identified solutions (1479) saved at : data/comparisons/38.B1.W10.11_38.M1.W03.10/Comparison_1/12\n",
      "Execution time:  146.82279205322266\n",
      "\n",
      "KEVOLVE: motif analyzer mode\n",
      "\n",
      "\n",
      "Identifying perfect matches...\n"
     ]
    },
    {
     "name": "stderr",
     "output_type": "stream",
     "text": [
      "Processing k-mers: 100%|██████████| 1479/1479 [00:00<00:00, 3017.65it/s]\n",
      "Processing k-mers for variations:   0%|          | 0/1479 [00:00<?, ?it/s]"
     ]
    },
    {
     "name": "stdout",
     "output_type": "stream",
     "text": [
      "\n",
      "Identifying variations...\n"
     ]
    },
    {
     "name": "stderr",
     "output_type": "stream",
     "text": [
      "Processing k-mers for variations: 100%|██████████| 1479/1479 [01:05<00:00, 22.43it/s]\n",
      "Processing k-mers to extract information:   0%|          | 0/1479 [00:00<?, ?it/s]"
     ]
    },
    {
     "name": "stdout",
     "output_type": "stream",
     "text": [
      "\n",
      "Extract information related to signatures/variations...\n"
     ]
    },
    {
     "name": "stderr",
     "output_type": "stream",
     "text": [
      "Processing k-mers to extract information: 100%|██████████| 1479/1479 [05:23<00:00,  4.57it/s]\n"
     ]
    },
    {
     "name": "stdout",
     "output_type": "stream",
     "text": [
      "Execution time:  390.3289918899536\n",
      "Sample: 38.B1.W10.11_38.M1.W03.10 (Comparison_1: 13-mers)\n",
      "\n",
      "KEVOLVE: extraction mode\n",
      "\n",
      "Load sequences...\n",
      "Count k-mers...\n",
      "Generate matrices...\n",
      "Preprocessing...\n",
      "Solution search...\n",
      "\n",
      "Iteration: 1 | Attempt(s): 1 / 1\n",
      "Mean weighted score 0.999 Max weighted score 1.0 Mean unweighted score 0.995 Max unweighted score 1.0\n",
      "Number of genes : 1\n",
      "\n",
      "Identified solutions (1493) saved at : data/comparisons/38.B1.W10.11_38.M1.W03.10/Comparison_1/13\n",
      "Execution time:  146.56854724884033\n",
      "\n",
      "KEVOLVE: motif analyzer mode\n",
      "\n",
      "\n",
      "Identifying perfect matches...\n"
     ]
    },
    {
     "name": "stderr",
     "output_type": "stream",
     "text": [
      "Processing k-mers: 100%|██████████| 1493/1493 [00:00<00:00, 3018.86it/s]\n",
      "Processing k-mers for variations:   0%|          | 0/1493 [00:00<?, ?it/s]"
     ]
    },
    {
     "name": "stdout",
     "output_type": "stream",
     "text": [
      "\n",
      "Identifying variations...\n"
     ]
    },
    {
     "name": "stderr",
     "output_type": "stream",
     "text": [
      "Processing k-mers for variations: 100%|██████████| 1493/1493 [01:12<00:00, 20.56it/s]\n",
      "Processing k-mers to extract information:   0%|          | 0/1493 [00:00<?, ?it/s]"
     ]
    },
    {
     "name": "stdout",
     "output_type": "stream",
     "text": [
      "\n",
      "Extract information related to signatures/variations...\n"
     ]
    },
    {
     "name": "stderr",
     "output_type": "stream",
     "text": [
      "Processing k-mers to extract information: 100%|██████████| 1493/1493 [04:46<00:00,  5.21it/s]\n"
     ]
    },
    {
     "name": "stdout",
     "output_type": "stream",
     "text": [
      "Execution time:  359.4530100822449\n",
      "Sample: 38.B1.W10.11_38.M1.W03.10 (Comparison_1: 14-mers)\n",
      "\n",
      "KEVOLVE: extraction mode\n",
      "\n",
      "Load sequences...\n",
      "Count k-mers...\n",
      "Generate matrices...\n",
      "Preprocessing...\n",
      "Solution search...\n",
      "\n",
      "Iteration: 1 | Attempt(s): 1 / 1\n",
      "Mean weighted score 0.996 Max weighted score 1.0 Mean unweighted score 0.987 Max unweighted score 1.0\n",
      "Number of genes : 1\n",
      "\n",
      "Identified solutions (1506) saved at : data/comparisons/38.B1.W10.11_38.M1.W03.10/Comparison_1/14\n",
      "Execution time:  146.22804355621338\n",
      "\n",
      "KEVOLVE: motif analyzer mode\n",
      "\n",
      "\n",
      "Identifying perfect matches...\n"
     ]
    },
    {
     "name": "stderr",
     "output_type": "stream",
     "text": [
      "Processing k-mers: 100%|██████████| 1506/1506 [00:00<00:00, 2981.77it/s]\n",
      "Processing k-mers for variations:   0%|          | 4/1506 [00:00<01:05, 22.88it/s]"
     ]
    },
    {
     "name": "stdout",
     "output_type": "stream",
     "text": [
      "\n",
      "Identifying variations...\n"
     ]
    },
    {
     "name": "stderr",
     "output_type": "stream",
     "text": [
      "Processing k-mers for variations: 100%|██████████| 1506/1506 [01:18<00:00, 19.09it/s]\n",
      "Processing k-mers to extract information:   0%|          | 0/1506 [00:00<?, ?it/s]"
     ]
    },
    {
     "name": "stdout",
     "output_type": "stream",
     "text": [
      "\n",
      "Extract information related to signatures/variations...\n"
     ]
    },
    {
     "name": "stderr",
     "output_type": "stream",
     "text": [
      "Processing k-mers to extract information: 100%|██████████| 1506/1506 [04:44<00:00,  5.29it/s]\n"
     ]
    },
    {
     "name": "stdout",
     "output_type": "stream",
     "text": [
      "Execution time:  364.0183253288269\n",
      "Sample: 38.B1.W10.11_38.M1.W03.10 (Comparison_1: 15-mers)\n",
      "\n",
      "KEVOLVE: extraction mode\n",
      "\n",
      "Load sequences...\n",
      "Count k-mers...\n",
      "Generate matrices...\n",
      "Preprocessing...\n",
      "Solution search...\n",
      "\n",
      "Iteration: 1 | Attempt(s): 1 / 1\n",
      "Mean weighted score 0.996 Max weighted score 1.0 Mean unweighted score 0.986 Max unweighted score 1.0\n",
      "Number of genes : 1\n",
      "\n",
      "Identified solutions (1519) saved at : data/comparisons/38.B1.W10.11_38.M1.W03.10/Comparison_1/15\n",
      "Execution time:  146.57926273345947\n",
      "\n",
      "KEVOLVE: motif analyzer mode\n",
      "\n",
      "\n",
      "Identifying perfect matches...\n"
     ]
    },
    {
     "name": "stderr",
     "output_type": "stream",
     "text": [
      "Processing k-mers: 100%|██████████| 1519/1519 [00:00<00:00, 2965.24it/s]\n",
      "Processing k-mers for variations:   0%|          | 0/1519 [00:00<?, ?it/s]"
     ]
    },
    {
     "name": "stdout",
     "output_type": "stream",
     "text": [
      "\n",
      "Identifying variations...\n"
     ]
    },
    {
     "name": "stderr",
     "output_type": "stream",
     "text": [
      "Processing k-mers for variations: 100%|██████████| 1519/1519 [01:25<00:00, 17.75it/s]\n",
      "Processing k-mers to extract information:   0%|          | 0/1519 [00:00<?, ?it/s]"
     ]
    },
    {
     "name": "stdout",
     "output_type": "stream",
     "text": [
      "\n",
      "Extract information related to signatures/variations...\n"
     ]
    },
    {
     "name": "stderr",
     "output_type": "stream",
     "text": [
      "Processing k-mers to extract information: 100%|██████████| 1519/1519 [04:31<00:00,  5.59it/s]\n"
     ]
    },
    {
     "name": "stdout",
     "output_type": "stream",
     "text": [
      "Execution time:  357.6562614440918\n",
      "Sample: 38.B1.W10.11_38.M1.W03.10 (Comparison_1: 16-mers)\n",
      "\n",
      "KEVOLVE: extraction mode\n",
      "\n",
      "Load sequences...\n",
      "Count k-mers...\n",
      "Generate matrices...\n",
      "Preprocessing...\n",
      "Solution search...\n",
      "\n",
      "Iteration: 1 | Attempt(s): 1 / 1\n",
      "Mean weighted score 0.996 Max weighted score 1.0 Mean unweighted score 0.986 Max unweighted score 1.0\n",
      "Number of genes : 1\n",
      "\n",
      "Identified solutions (1525) saved at : data/comparisons/38.B1.W10.11_38.M1.W03.10/Comparison_1/16\n",
      "Execution time:  147.09693145751953\n",
      "\n",
      "KEVOLVE: motif analyzer mode\n",
      "\n",
      "\n",
      "Identifying perfect matches...\n"
     ]
    },
    {
     "name": "stderr",
     "output_type": "stream",
     "text": [
      "Processing k-mers: 100%|██████████| 1525/1525 [00:00<00:00, 3023.74it/s]\n",
      "Processing k-mers for variations:   0%|          | 2/1525 [00:00<02:14, 11.33it/s]"
     ]
    },
    {
     "name": "stdout",
     "output_type": "stream",
     "text": [
      "\n",
      "Identifying variations...\n"
     ]
    },
    {
     "name": "stderr",
     "output_type": "stream",
     "text": [
      "Processing k-mers for variations: 100%|██████████| 1525/1525 [01:31<00:00, 16.58it/s]\n",
      "Processing k-mers to extract information:   0%|          | 0/1525 [00:00<?, ?it/s]"
     ]
    },
    {
     "name": "stdout",
     "output_type": "stream",
     "text": [
      "\n",
      "Extract information related to signatures/variations...\n"
     ]
    },
    {
     "name": "stderr",
     "output_type": "stream",
     "text": [
      "Processing k-mers to extract information: 100%|██████████| 1525/1525 [04:59<00:00,  5.08it/s]\n"
     ]
    },
    {
     "name": "stdout",
     "output_type": "stream",
     "text": [
      "Execution time:  392.4521687030792\n",
      "Sample: 38.B1.W10.11_38.M1.W03.10 (Comparison_1: 17-mers)\n",
      "\n",
      "KEVOLVE: extraction mode\n",
      "\n",
      "Load sequences...\n",
      "Count k-mers...\n",
      "Generate matrices...\n",
      "Preprocessing...\n",
      "Solution search...\n",
      "\n",
      "Iteration: 1 | Attempt(s): 1 / 1\n",
      "Mean weighted score 0.995 Max weighted score 1.0 Mean unweighted score 0.985 Max unweighted score 1.0\n",
      "Number of genes : 1\n",
      "\n",
      "Identified solutions (1536) saved at : data/comparisons/38.B1.W10.11_38.M1.W03.10/Comparison_1/17\n",
      "Execution time:  146.3193335533142\n",
      "\n",
      "KEVOLVE: motif analyzer mode\n",
      "\n",
      "\n",
      "Identifying perfect matches...\n"
     ]
    },
    {
     "name": "stderr",
     "output_type": "stream",
     "text": [
      "Processing k-mers: 100%|██████████| 1536/1536 [00:00<00:00, 2989.56it/s]\n",
      "Processing k-mers for variations:   0%|          | 0/1536 [00:00<?, ?it/s]"
     ]
    },
    {
     "name": "stdout",
     "output_type": "stream",
     "text": [
      "\n",
      "Identifying variations...\n"
     ]
    },
    {
     "name": "stderr",
     "output_type": "stream",
     "text": [
      "Processing k-mers for variations: 100%|██████████| 1536/1536 [01:38<00:00, 15.57it/s]\n",
      "Processing k-mers to extract information:   0%|          | 0/1536 [00:00<?, ?it/s]"
     ]
    },
    {
     "name": "stdout",
     "output_type": "stream",
     "text": [
      "\n",
      "Extract information related to signatures/variations...\n"
     ]
    },
    {
     "name": "stderr",
     "output_type": "stream",
     "text": [
      "Processing k-mers to extract information: 100%|██████████| 1536/1536 [04:50<00:00,  5.28it/s]\n"
     ]
    },
    {
     "name": "stdout",
     "output_type": "stream",
     "text": [
      "Execution time:  390.0803737640381\n",
      "Sample: 38.B1.W10.11_38.M1.W03.10 (Comparison_1: 18-mers)\n",
      "\n",
      "KEVOLVE: extraction mode\n",
      "\n",
      "Load sequences...\n",
      "Count k-mers...\n",
      "Generate matrices...\n",
      "Preprocessing...\n",
      "Solution search...\n",
      "\n",
      "Iteration: 1 | Attempt(s): 1 / 1\n",
      "Mean weighted score 0.995 Max weighted score 1.0 Mean unweighted score 0.986 Max unweighted score 1.0\n",
      "Number of genes : 1\n",
      "\n",
      "Identified solutions (1545) saved at : data/comparisons/38.B1.W10.11_38.M1.W03.10/Comparison_1/18\n",
      "Execution time:  146.98482489585876\n",
      "\n",
      "KEVOLVE: motif analyzer mode\n",
      "\n",
      "\n",
      "Identifying perfect matches...\n"
     ]
    },
    {
     "name": "stderr",
     "output_type": "stream",
     "text": [
      "Processing k-mers: 100%|██████████| 1545/1545 [00:00<00:00, 2988.13it/s]\n",
      "Processing k-mers for variations:   0%|          | 2/1545 [00:00<01:26, 17.94it/s]"
     ]
    },
    {
     "name": "stdout",
     "output_type": "stream",
     "text": [
      "\n",
      "Identifying variations...\n"
     ]
    },
    {
     "name": "stderr",
     "output_type": "stream",
     "text": [
      "Processing k-mers for variations: 100%|██████████| 1545/1545 [01:45<00:00, 14.69it/s]\n",
      "Processing k-mers to extract information:   0%|          | 0/1545 [00:00<?, ?it/s]"
     ]
    },
    {
     "name": "stdout",
     "output_type": "stream",
     "text": [
      "\n",
      "Extract information related to signatures/variations...\n"
     ]
    },
    {
     "name": "stderr",
     "output_type": "stream",
     "text": [
      "Processing k-mers to extract information: 100%|██████████| 1545/1545 [04:43<00:00,  5.45it/s]\n"
     ]
    },
    {
     "name": "stdout",
     "output_type": "stream",
     "text": [
      "Execution time:  389.0925261974335\n",
      "Sample: 38.B1.W10.11_38.M1.W03.10 (Comparison_1: 19-mers)\n",
      "\n",
      "KEVOLVE: extraction mode\n",
      "\n",
      "Load sequences...\n",
      "Count k-mers...\n",
      "Generate matrices...\n",
      "Preprocessing...\n",
      "Solution search...\n",
      "\n",
      "Iteration: 1 | Attempt(s): 1 / 1\n",
      "Mean weighted score 0.995 Max weighted score 1.0 Mean unweighted score 0.983 Max unweighted score 1.0\n",
      "Number of genes : 1\n",
      "\n",
      "Identified solutions (1542) saved at : data/comparisons/38.B1.W10.11_38.M1.W03.10/Comparison_1/19\n",
      "Execution time:  146.7872416973114\n",
      "\n",
      "KEVOLVE: motif analyzer mode\n",
      "\n",
      "\n",
      "Identifying perfect matches...\n"
     ]
    },
    {
     "name": "stderr",
     "output_type": "stream",
     "text": [
      "Processing k-mers: 100%|██████████| 1542/1542 [00:00<00:00, 3025.33it/s]\n",
      "Processing k-mers for variations:   0%|          | 1/1542 [00:00<02:45,  9.33it/s]"
     ]
    },
    {
     "name": "stdout",
     "output_type": "stream",
     "text": [
      "\n",
      "Identifying variations...\n"
     ]
    },
    {
     "name": "stderr",
     "output_type": "stream",
     "text": [
      "Processing k-mers for variations: 100%|██████████| 1542/1542 [01:51<00:00, 13.81it/s]\n",
      "Processing k-mers to extract information:   0%|          | 0/1542 [00:00<?, ?it/s]"
     ]
    },
    {
     "name": "stdout",
     "output_type": "stream",
     "text": [
      "\n",
      "Extract information related to signatures/variations...\n"
     ]
    },
    {
     "name": "stderr",
     "output_type": "stream",
     "text": [
      "Processing k-mers to extract information: 100%|██████████| 1542/1542 [04:43<00:00,  5.44it/s]\n"
     ]
    },
    {
     "name": "stdout",
     "output_type": "stream",
     "text": [
      "Execution time:  395.51123690605164\n",
      "Sample: 38.B1.W10.11_38.M1.W03.10 (Comparison_1: 20-mers)\n",
      "\n",
      "KEVOLVE: extraction mode\n",
      "\n",
      "Load sequences...\n",
      "Count k-mers...\n",
      "Generate matrices...\n",
      "Preprocessing...\n",
      "Solution search...\n",
      "\n",
      "Iteration: 1 | Attempt(s): 1 / 1\n",
      "Mean weighted score 0.995 Max weighted score 1.0 Mean unweighted score 0.982 Max unweighted score 1.0\n",
      "Number of genes : 1\n",
      "\n",
      "Identified solutions (1546) saved at : data/comparisons/38.B1.W10.11_38.M1.W03.10/Comparison_1/20\n",
      "Execution time:  147.24636125564575\n",
      "\n",
      "KEVOLVE: motif analyzer mode\n",
      "\n",
      "\n",
      "Identifying perfect matches...\n"
     ]
    },
    {
     "name": "stderr",
     "output_type": "stream",
     "text": [
      "Processing k-mers: 100%|██████████| 1546/1546 [00:00<00:00, 3008.88it/s]\n",
      "Processing k-mers for variations:   0%|          | 1/1546 [00:00<02:48,  9.18it/s]"
     ]
    },
    {
     "name": "stdout",
     "output_type": "stream",
     "text": [
      "\n",
      "Identifying variations...\n"
     ]
    },
    {
     "name": "stderr",
     "output_type": "stream",
     "text": [
      "Processing k-mers for variations: 100%|██████████| 1546/1546 [01:58<00:00, 13.10it/s]\n",
      "Processing k-mers to extract information:   0%|          | 1/1546 [00:00<03:14,  7.93it/s]"
     ]
    },
    {
     "name": "stdout",
     "output_type": "stream",
     "text": [
      "\n",
      "Extract information related to signatures/variations...\n"
     ]
    },
    {
     "name": "stderr",
     "output_type": "stream",
     "text": [
      "Processing k-mers to extract information: 100%|██████████| 1546/1546 [04:38<00:00,  5.55it/s]\n"
     ]
    },
    {
     "name": "stdout",
     "output_type": "stream",
     "text": [
      "Execution time:  397.10332918167114\n",
      "Sample: 38.B1.W10.11_38.M1.W03.10 (Comparison_1: 21-mers)\n",
      "\n",
      "KEVOLVE: extraction mode\n",
      "\n",
      "Load sequences...\n",
      "Count k-mers...\n",
      "Generate matrices...\n",
      "Preprocessing...\n",
      "Solution search...\n",
      "\n",
      "Iteration: 1 | Attempt(s): 1 / 1\n",
      "Mean weighted score 0.997 Max weighted score 1.0 Mean unweighted score 0.99 Max unweighted score 1.0\n",
      "Number of genes : 1\n",
      "\n",
      "Identified solutions (1541) saved at : data/comparisons/38.B1.W10.11_38.M1.W03.10/Comparison_1/21\n",
      "Execution time:  147.15257859230042\n",
      "\n",
      "KEVOLVE: motif analyzer mode\n",
      "\n",
      "\n",
      "Identifying perfect matches...\n"
     ]
    },
    {
     "name": "stderr",
     "output_type": "stream",
     "text": [
      "Processing k-mers: 100%|██████████| 1541/1541 [00:00<00:00, 3016.28it/s]\n",
      "Processing k-mers for variations:   0%|          | 1/1541 [00:00<02:56,  8.74it/s]"
     ]
    },
    {
     "name": "stdout",
     "output_type": "stream",
     "text": [
      "\n",
      "Identifying variations...\n"
     ]
    },
    {
     "name": "stderr",
     "output_type": "stream",
     "text": [
      "Processing k-mers for variations: 100%|██████████| 1541/1541 [02:03<00:00, 12.44it/s]\n",
      "Processing k-mers to extract information:   0%|          | 0/1541 [00:00<?, ?it/s]"
     ]
    },
    {
     "name": "stdout",
     "output_type": "stream",
     "text": [
      "\n",
      "Extract information related to signatures/variations...\n"
     ]
    },
    {
     "name": "stderr",
     "output_type": "stream",
     "text": [
      "Processing k-mers to extract information: 100%|██████████| 1541/1541 [04:22<00:00,  5.87it/s]\n"
     ]
    },
    {
     "name": "stdout",
     "output_type": "stream",
     "text": [
      "Execution time:  386.94099950790405\n",
      "Sample: 38.B1.W10.11_38.M1.W03.10 (Comparison_2: 9-mers)\n",
      "\n",
      "KEVOLVE: extraction mode\n",
      "\n",
      "Load sequences...\n",
      "Count k-mers...\n",
      "Generate matrices...\n",
      "Preprocessing...\n",
      "Solution search...\n",
      "\n",
      "Iteration: 1 | Attempt(s): 1 / 1\n",
      "Mean weighted score 1.0 Max weighted score 1.0 Mean unweighted score 0.999 Max unweighted score 1.0\n",
      "Number of genes : 1\n",
      "\n",
      "Identified solutions (1214) saved at : data/comparisons/38.B1.W10.11_38.M1.W03.10/Comparison_2/9\n",
      "Execution time:  146.03643131256104\n",
      "\n",
      "KEVOLVE: motif analyzer mode\n",
      "\n",
      "\n",
      "Identifying perfect matches...\n"
     ]
    },
    {
     "name": "stderr",
     "output_type": "stream",
     "text": [
      "Processing k-mers: 100%|██████████| 1214/1214 [00:00<00:00, 3140.55it/s]\n",
      "Processing k-mers for variations:   0%|          | 3/1214 [00:00<00:44, 26.95it/s]"
     ]
    },
    {
     "name": "stdout",
     "output_type": "stream",
     "text": [
      "\n",
      "Identifying variations...\n"
     ]
    },
    {
     "name": "stderr",
     "output_type": "stream",
     "text": [
      "Processing k-mers for variations: 100%|██████████| 1214/1214 [00:39<00:00, 30.63it/s]\n",
      "Processing k-mers to extract information:   0%|          | 0/1214 [00:00<?, ?it/s]"
     ]
    },
    {
     "name": "stdout",
     "output_type": "stream",
     "text": [
      "\n",
      "Extract information related to signatures/variations...\n"
     ]
    },
    {
     "name": "stderr",
     "output_type": "stream",
     "text": [
      "Processing k-mers to extract information: 100%|██████████| 1214/1214 [17:10<00:00,  1.18it/s]\n"
     ]
    },
    {
     "name": "stdout",
     "output_type": "stream",
     "text": [
      "Execution time:  1070.994782447815\n",
      "Sample: 38.B1.W10.11_38.M1.W03.10 (Comparison_2: 10-mers)\n",
      "\n",
      "KEVOLVE: extraction mode\n",
      "\n",
      "Load sequences...\n",
      "Count k-mers...\n",
      "Generate matrices...\n",
      "Preprocessing...\n",
      "Solution search...\n",
      "\n",
      "Iteration: 1 | Attempt(s): 1 / 1\n",
      "Mean weighted score 0.999 Max weighted score 1.0 Mean unweighted score 0.999 Max unweighted score 1.0\n",
      "Number of genes : 1\n",
      "\n",
      "Identified solutions (1270) saved at : data/comparisons/38.B1.W10.11_38.M1.W03.10/Comparison_2/10\n",
      "Execution time:  146.5828161239624\n",
      "\n",
      "KEVOLVE: motif analyzer mode\n",
      "\n",
      "\n",
      "Identifying perfect matches...\n"
     ]
    },
    {
     "name": "stderr",
     "output_type": "stream",
     "text": [
      "Processing k-mers: 100%|██████████| 1270/1270 [00:00<00:00, 3102.68it/s]\n",
      "Processing k-mers for variations:   0%|          | 0/1270 [00:00<?, ?it/s]"
     ]
    },
    {
     "name": "stdout",
     "output_type": "stream",
     "text": [
      "\n",
      "Identifying variations...\n"
     ]
    },
    {
     "name": "stderr",
     "output_type": "stream",
     "text": [
      "Processing k-mers for variations: 100%|██████████| 1270/1270 [00:46<00:00, 27.47it/s]\n",
      "Processing k-mers to extract information:   0%|          | 0/1270 [00:00<?, ?it/s]"
     ]
    },
    {
     "name": "stdout",
     "output_type": "stream",
     "text": [
      "\n",
      "Extract information related to signatures/variations...\n"
     ]
    },
    {
     "name": "stderr",
     "output_type": "stream",
     "text": [
      "Processing k-mers to extract information: 100%|██████████| 1270/1270 [07:08<00:00,  2.97it/s]\n"
     ]
    },
    {
     "name": "stdout",
     "output_type": "stream",
     "text": [
      "Execution time:  474.9718897342682\n",
      "Sample: 38.B1.W10.11_38.M1.W03.10 (Comparison_2: 11-mers)\n",
      "\n",
      "KEVOLVE: extraction mode\n",
      "\n",
      "Load sequences...\n",
      "Count k-mers...\n",
      "Generate matrices...\n",
      "Preprocessing...\n",
      "Solution search...\n",
      "\n",
      "Iteration: 1 | Attempt(s): 1 / 1\n",
      "Mean weighted score 0.999 Max weighted score 1.0 Mean unweighted score 0.999 Max unweighted score 1.0\n",
      "Number of genes : 1\n",
      "\n",
      "Identified solutions (1320) saved at : data/comparisons/38.B1.W10.11_38.M1.W03.10/Comparison_2/11\n",
      "Execution time:  146.41837310791016\n",
      "\n",
      "KEVOLVE: motif analyzer mode\n",
      "\n",
      "\n",
      "Identifying perfect matches...\n"
     ]
    },
    {
     "name": "stderr",
     "output_type": "stream",
     "text": [
      "Processing k-mers: 100%|██████████| 1320/1320 [00:00<00:00, 3057.03it/s]\n",
      "Processing k-mers for variations:   0%|          | 0/1320 [00:00<?, ?it/s]"
     ]
    },
    {
     "name": "stdout",
     "output_type": "stream",
     "text": [
      "\n",
      "Identifying variations...\n"
     ]
    },
    {
     "name": "stderr",
     "output_type": "stream",
     "text": [
      "Processing k-mers for variations: 100%|██████████| 1320/1320 [00:53<00:00, 24.77it/s]\n",
      "Processing k-mers to extract information:   0%|          | 0/1320 [00:00<?, ?it/s]"
     ]
    },
    {
     "name": "stdout",
     "output_type": "stream",
     "text": [
      "\n",
      "Extract information related to signatures/variations...\n"
     ]
    },
    {
     "name": "stderr",
     "output_type": "stream",
     "text": [
      "Processing k-mers to extract information: 100%|██████████| 1320/1320 [05:12<00:00,  4.23it/s]\n"
     ]
    },
    {
     "name": "stdout",
     "output_type": "stream",
     "text": [
      "Execution time:  366.02901887893677\n",
      "Sample: 38.B1.W10.11_38.M1.W03.10 (Comparison_2: 12-mers)\n",
      "\n",
      "KEVOLVE: extraction mode\n",
      "\n",
      "Load sequences...\n",
      "Count k-mers...\n",
      "Generate matrices...\n",
      "Preprocessing...\n",
      "Solution search...\n",
      "\n",
      "Iteration: 1 | Attempt(s): 1 / 1\n",
      "Mean weighted score 1.0 Max weighted score 1.0 Mean unweighted score 0.999 Max unweighted score 1.0\n",
      "Number of genes : 1\n",
      "\n",
      "Identified solutions (1369) saved at : data/comparisons/38.B1.W10.11_38.M1.W03.10/Comparison_2/12\n",
      "Execution time:  146.81291794776917\n",
      "\n",
      "KEVOLVE: motif analyzer mode\n",
      "\n",
      "\n",
      "Identifying perfect matches...\n"
     ]
    },
    {
     "name": "stderr",
     "output_type": "stream",
     "text": [
      "Processing k-mers: 100%|██████████| 1369/1369 [00:00<00:00, 3002.93it/s]\n",
      "Processing k-mers for variations:   0%|          | 0/1369 [00:00<?, ?it/s]"
     ]
    },
    {
     "name": "stdout",
     "output_type": "stream",
     "text": [
      "\n",
      "Identifying variations...\n"
     ]
    },
    {
     "name": "stderr",
     "output_type": "stream",
     "text": [
      "Processing k-mers for variations: 100%|██████████| 1369/1369 [01:00<00:00, 22.66it/s]\n",
      "Processing k-mers to extract information:   0%|          | 3/1369 [00:00<00:57, 23.76it/s]"
     ]
    },
    {
     "name": "stdout",
     "output_type": "stream",
     "text": [
      "\n",
      "Extract information related to signatures/variations...\n"
     ]
    },
    {
     "name": "stderr",
     "output_type": "stream",
     "text": [
      "Processing k-mers to extract information: 100%|██████████| 1369/1369 [04:13<00:00,  5.40it/s]\n"
     ]
    },
    {
     "name": "stdout",
     "output_type": "stream",
     "text": [
      "Execution time:  314.5631103515625\n",
      "Sample: 38.B1.W10.11_38.M1.W03.10 (Comparison_2: 13-mers)\n",
      "\n",
      "KEVOLVE: extraction mode\n",
      "\n",
      "Load sequences...\n",
      "Count k-mers...\n",
      "Generate matrices...\n",
      "Preprocessing...\n",
      "Solution search...\n",
      "\n",
      "Iteration: 1 | Attempt(s): 1 / 1\n",
      "Mean weighted score 0.999 Max weighted score 1.0 Mean unweighted score 0.999 Max unweighted score 1.0\n",
      "Number of genes : 1\n",
      "\n",
      "Identified solutions (1411) saved at : data/comparisons/38.B1.W10.11_38.M1.W03.10/Comparison_2/13\n",
      "Execution time:  146.3367304801941\n",
      "\n",
      "KEVOLVE: motif analyzer mode\n",
      "\n",
      "\n",
      "Identifying perfect matches...\n"
     ]
    },
    {
     "name": "stderr",
     "output_type": "stream",
     "text": [
      "Processing k-mers: 100%|██████████| 1411/1411 [00:00<00:00, 3040.15it/s]\n",
      "Processing k-mers for variations:   0%|          | 0/1411 [00:00<?, ?it/s]"
     ]
    },
    {
     "name": "stdout",
     "output_type": "stream",
     "text": [
      "\n",
      "Identifying variations...\n"
     ]
    },
    {
     "name": "stderr",
     "output_type": "stream",
     "text": [
      "Processing k-mers for variations: 100%|██████████| 1411/1411 [01:07<00:00, 20.78it/s]\n",
      "Processing k-mers to extract information:   0%|          | 0/1411 [00:00<?, ?it/s]"
     ]
    },
    {
     "name": "stdout",
     "output_type": "stream",
     "text": [
      "\n",
      "Extract information related to signatures/variations...\n"
     ]
    },
    {
     "name": "stderr",
     "output_type": "stream",
     "text": [
      "Processing k-mers to extract information: 100%|██████████| 1411/1411 [03:45<00:00,  6.27it/s]\n"
     ]
    },
    {
     "name": "stdout",
     "output_type": "stream",
     "text": [
      "Execution time:  293.4565315246582\n",
      "Sample: 38.B1.W10.11_38.M1.W03.10 (Comparison_2: 14-mers)\n",
      "\n",
      "KEVOLVE: extraction mode\n",
      "\n",
      "Load sequences...\n",
      "Count k-mers...\n",
      "Generate matrices...\n",
      "Preprocessing...\n",
      "Solution search...\n",
      "\n",
      "Iteration: 1 | Attempt(s): 1 / 1\n",
      "Mean weighted score 0.999 Max weighted score 1.0 Mean unweighted score 0.998 Max unweighted score 1.0\n",
      "Number of genes : 1\n",
      "\n",
      "Identified solutions (1448) saved at : data/comparisons/38.B1.W10.11_38.M1.W03.10/Comparison_2/14\n",
      "Execution time:  146.51524567604065\n",
      "\n",
      "KEVOLVE: motif analyzer mode\n",
      "\n",
      "\n",
      "Identifying perfect matches...\n"
     ]
    },
    {
     "name": "stderr",
     "output_type": "stream",
     "text": [
      "Processing k-mers: 100%|██████████| 1448/1448 [00:00<00:00, 2973.76it/s]\n",
      "Processing k-mers for variations:   0%|          | 0/1448 [00:00<?, ?it/s]"
     ]
    },
    {
     "name": "stdout",
     "output_type": "stream",
     "text": [
      "\n",
      "Identifying variations...\n"
     ]
    },
    {
     "name": "stderr",
     "output_type": "stream",
     "text": [
      "Processing k-mers for variations: 100%|██████████| 1448/1448 [01:15<00:00, 19.26it/s]\n",
      "Processing k-mers to extract information:   0%|          | 0/1448 [00:00<?, ?it/s]"
     ]
    },
    {
     "name": "stdout",
     "output_type": "stream",
     "text": [
      "\n",
      "Extract information related to signatures/variations...\n"
     ]
    },
    {
     "name": "stderr",
     "output_type": "stream",
     "text": [
      "Processing k-mers to extract information: 100%|██████████| 1448/1448 [03:49<00:00,  6.31it/s]\n"
     ]
    },
    {
     "name": "stdout",
     "output_type": "stream",
     "text": [
      "Execution time:  305.2181463241577\n",
      "Sample: 38.B1.W10.11_38.M1.W03.10 (Comparison_2: 15-mers)\n",
      "\n",
      "KEVOLVE: extraction mode\n",
      "\n",
      "Load sequences...\n",
      "Count k-mers...\n",
      "Generate matrices...\n",
      "Preprocessing...\n",
      "Solution search...\n",
      "\n",
      "Iteration: 1 | Attempt(s): 1 / 1\n",
      "Mean weighted score 1.0 Max weighted score 1.0 Mean unweighted score 0.999 Max unweighted score 1.0\n",
      "Number of genes : 1\n",
      "\n",
      "Identified solutions (1483) saved at : data/comparisons/38.B1.W10.11_38.M1.W03.10/Comparison_2/15\n",
      "Execution time:  146.87345266342163\n",
      "\n",
      "KEVOLVE: motif analyzer mode\n",
      "\n",
      "\n",
      "Identifying perfect matches...\n"
     ]
    },
    {
     "name": "stderr",
     "output_type": "stream",
     "text": [
      "Processing k-mers: 100%|██████████| 1483/1483 [00:00<00:00, 3002.73it/s]\n",
      "Processing k-mers for variations:   0%|          | 0/1483 [00:00<?, ?it/s]"
     ]
    },
    {
     "name": "stdout",
     "output_type": "stream",
     "text": [
      "\n",
      "Identifying variations...\n"
     ]
    },
    {
     "name": "stderr",
     "output_type": "stream",
     "text": [
      "Processing k-mers for variations: 100%|██████████| 1483/1483 [01:22<00:00, 17.88it/s]\n",
      "Processing k-mers to extract information:   0%|          | 0/1483 [00:00<?, ?it/s]"
     ]
    },
    {
     "name": "stdout",
     "output_type": "stream",
     "text": [
      "\n",
      "Extract information related to signatures/variations...\n"
     ]
    },
    {
     "name": "stderr",
     "output_type": "stream",
     "text": [
      "Processing k-mers to extract information: 100%|██████████| 1483/1483 [03:36<00:00,  6.84it/s]\n"
     ]
    },
    {
     "name": "stdout",
     "output_type": "stream",
     "text": [
      "Execution time:  300.40814185142517\n",
      "Sample: 38.B1.W10.11_38.M1.W03.10 (Comparison_2: 16-mers)\n",
      "\n",
      "KEVOLVE: extraction mode\n",
      "\n",
      "Load sequences...\n",
      "Count k-mers...\n",
      "Generate matrices...\n",
      "Preprocessing...\n",
      "Solution search...\n",
      "\n",
      "Iteration: 1 | Attempt(s): 1 / 1\n",
      "Mean weighted score 1.0 Max weighted score 1.0 Mean unweighted score 0.999 Max unweighted score 1.0\n",
      "Number of genes : 1\n",
      "\n",
      "Identified solutions (1499) saved at : data/comparisons/38.B1.W10.11_38.M1.W03.10/Comparison_2/16\n",
      "Execution time:  146.598694562912\n",
      "\n",
      "KEVOLVE: motif analyzer mode\n",
      "\n",
      "\n",
      "Identifying perfect matches...\n"
     ]
    },
    {
     "name": "stderr",
     "output_type": "stream",
     "text": [
      "Processing k-mers: 100%|██████████| 1499/1499 [00:00<00:00, 2961.99it/s]\n",
      "Processing k-mers for variations:   0%|          | 0/1499 [00:00<?, ?it/s]"
     ]
    },
    {
     "name": "stdout",
     "output_type": "stream",
     "text": [
      "\n",
      "Identifying variations...\n"
     ]
    },
    {
     "name": "stderr",
     "output_type": "stream",
     "text": [
      "Processing k-mers for variations: 100%|██████████| 1499/1499 [01:30<00:00, 16.58it/s]\n",
      "Processing k-mers to extract information:   0%|          | 0/1499 [00:00<?, ?it/s]"
     ]
    },
    {
     "name": "stdout",
     "output_type": "stream",
     "text": [
      "\n",
      "Extract information related to signatures/variations...\n"
     ]
    },
    {
     "name": "stderr",
     "output_type": "stream",
     "text": [
      "Processing k-mers to extract information: 100%|██████████| 1499/1499 [04:12<00:00,  5.93it/s]\n"
     ]
    },
    {
     "name": "stdout",
     "output_type": "stream",
     "text": [
      "Execution time:  343.75105333328247\n",
      "Sample: 38.B1.W10.11_38.M1.W03.10 (Comparison_2: 17-mers)\n",
      "\n",
      "KEVOLVE: extraction mode\n",
      "\n",
      "Load sequences...\n",
      "Count k-mers...\n",
      "Generate matrices...\n",
      "Preprocessing...\n",
      "Solution search...\n",
      "\n",
      "Iteration: 1 | Attempt(s): 1 / 1\n",
      "Mean weighted score 0.999 Max weighted score 1.0 Mean unweighted score 0.998 Max unweighted score 1.0\n",
      "Number of genes : 1\n",
      "\n",
      "Identified solutions (1511) saved at : data/comparisons/38.B1.W10.11_38.M1.W03.10/Comparison_2/17\n",
      "Execution time:  146.28652954101562\n",
      "\n",
      "KEVOLVE: motif analyzer mode\n",
      "\n",
      "\n",
      "Identifying perfect matches...\n"
     ]
    },
    {
     "name": "stderr",
     "output_type": "stream",
     "text": [
      "Processing k-mers: 100%|██████████| 1511/1511 [00:00<00:00, 2965.73it/s]\n",
      "Processing k-mers for variations:   0%|          | 0/1511 [00:00<?, ?it/s]"
     ]
    },
    {
     "name": "stdout",
     "output_type": "stream",
     "text": [
      "\n",
      "Identifying variations...\n"
     ]
    },
    {
     "name": "stderr",
     "output_type": "stream",
     "text": [
      "Processing k-mers for variations: 100%|██████████| 1511/1511 [01:37<00:00, 15.55it/s]\n",
      "Processing k-mers to extract information:   0%|          | 3/1511 [00:00<01:13, 20.54it/s]"
     ]
    },
    {
     "name": "stdout",
     "output_type": "stream",
     "text": [
      "\n",
      "Extract information related to signatures/variations...\n"
     ]
    },
    {
     "name": "stderr",
     "output_type": "stream",
     "text": [
      "Processing k-mers to extract information: 100%|██████████| 1511/1511 [04:08<00:00,  6.07it/s]\n"
     ]
    },
    {
     "name": "stdout",
     "output_type": "stream",
     "text": [
      "Execution time:  346.595819234848\n",
      "Sample: 38.B1.W10.11_38.M1.W03.10 (Comparison_2: 18-mers)\n",
      "\n",
      "KEVOLVE: extraction mode\n",
      "\n",
      "Load sequences...\n",
      "Count k-mers...\n",
      "Generate matrices...\n",
      "Preprocessing...\n",
      "Solution search...\n",
      "\n",
      "Iteration: 1 | Attempt(s): 1 / 1\n",
      "Mean weighted score 1.0 Max weighted score 1.0 Mean unweighted score 0.998 Max unweighted score 1.0\n",
      "Number of genes : 1\n",
      "\n",
      "Identified solutions (1521) saved at : data/comparisons/38.B1.W10.11_38.M1.W03.10/Comparison_2/18\n",
      "Execution time:  147.03660202026367\n",
      "\n",
      "KEVOLVE: motif analyzer mode\n",
      "\n",
      "\n",
      "Identifying perfect matches...\n"
     ]
    },
    {
     "name": "stderr",
     "output_type": "stream",
     "text": [
      "Processing k-mers: 100%|██████████| 1521/1521 [00:00<00:00, 2970.89it/s]\n",
      "Processing k-mers for variations:   0%|          | 3/1521 [00:00<01:03, 23.93it/s]"
     ]
    },
    {
     "name": "stdout",
     "output_type": "stream",
     "text": [
      "\n",
      "Identifying variations...\n"
     ]
    },
    {
     "name": "stderr",
     "output_type": "stream",
     "text": [
      "Processing k-mers for variations: 100%|██████████| 1521/1521 [01:43<00:00, 14.64it/s]\n",
      "Processing k-mers to extract information:   0%|          | 0/1521 [00:00<?, ?it/s]"
     ]
    },
    {
     "name": "stdout",
     "output_type": "stream",
     "text": [
      "\n",
      "Extract information related to signatures/variations...\n"
     ]
    },
    {
     "name": "stderr",
     "output_type": "stream",
     "text": [
      "Processing k-mers to extract information: 100%|██████████| 1521/1521 [03:58<00:00,  6.39it/s]\n"
     ]
    },
    {
     "name": "stdout",
     "output_type": "stream",
     "text": [
      "Execution time:  342.60408782958984\n",
      "Sample: 38.B1.W10.11_38.M1.W03.10 (Comparison_2: 19-mers)\n",
      "\n",
      "KEVOLVE: extraction mode\n",
      "\n",
      "Load sequences...\n",
      "Count k-mers...\n",
      "Generate matrices...\n",
      "Preprocessing...\n",
      "Solution search...\n",
      "\n",
      "Iteration: 1 | Attempt(s): 1 / 1\n",
      "Mean weighted score 1.0 Max weighted score 1.0 Mean unweighted score 0.999 Max unweighted score 1.0\n",
      "Number of genes : 1\n",
      "\n",
      "Identified solutions (1527) saved at : data/comparisons/38.B1.W10.11_38.M1.W03.10/Comparison_2/19\n",
      "Execution time:  146.71240305900574\n",
      "\n",
      "KEVOLVE: motif analyzer mode\n",
      "\n",
      "\n",
      "Identifying perfect matches...\n"
     ]
    },
    {
     "name": "stderr",
     "output_type": "stream",
     "text": [
      "Processing k-mers: 100%|██████████| 1527/1527 [00:00<00:00, 2972.42it/s]\n",
      "Processing k-mers for variations:   0%|          | 1/1527 [00:00<02:37,  9.67it/s]"
     ]
    },
    {
     "name": "stdout",
     "output_type": "stream",
     "text": [
      "\n",
      "Identifying variations...\n"
     ]
    },
    {
     "name": "stderr",
     "output_type": "stream",
     "text": [
      "Processing k-mers for variations: 100%|██████████| 1527/1527 [01:50<00:00, 13.82it/s]\n",
      "Processing k-mers to extract information:   0%|          | 0/1527 [00:00<?, ?it/s]"
     ]
    },
    {
     "name": "stdout",
     "output_type": "stream",
     "text": [
      "\n",
      "Extract information related to signatures/variations...\n"
     ]
    },
    {
     "name": "stderr",
     "output_type": "stream",
     "text": [
      "Processing k-mers to extract information: 100%|██████████| 1527/1527 [04:04<00:00,  6.25it/s]\n"
     ]
    },
    {
     "name": "stdout",
     "output_type": "stream",
     "text": [
      "Execution time:  355.2225248813629\n",
      "Sample: 38.B1.W10.11_38.M1.W03.10 (Comparison_2: 20-mers)\n",
      "\n",
      "KEVOLVE: extraction mode\n",
      "\n",
      "Load sequences...\n",
      "Count k-mers...\n",
      "Generate matrices...\n",
      "Preprocessing...\n",
      "Solution search...\n",
      "\n",
      "Iteration: 1 | Attempt(s): 1 / 1\n",
      "Mean weighted score 0.999 Max weighted score 1.0 Mean unweighted score 0.997 Max unweighted score 1.0\n",
      "Number of genes : 1\n",
      "\n",
      "Identified solutions (1537) saved at : data/comparisons/38.B1.W10.11_38.M1.W03.10/Comparison_2/20\n",
      "Execution time:  146.6238932609558\n",
      "\n",
      "KEVOLVE: motif analyzer mode\n",
      "\n",
      "\n",
      "Identifying perfect matches...\n"
     ]
    },
    {
     "name": "stderr",
     "output_type": "stream",
     "text": [
      "Processing k-mers: 100%|██████████| 1537/1537 [00:00<00:00, 2972.63it/s]\n",
      "Processing k-mers for variations:   0%|          | 0/1537 [00:00<?, ?it/s]"
     ]
    },
    {
     "name": "stdout",
     "output_type": "stream",
     "text": [
      "\n",
      "Identifying variations...\n"
     ]
    },
    {
     "name": "stderr",
     "output_type": "stream",
     "text": [
      "Processing k-mers for variations: 100%|██████████| 1537/1537 [01:57<00:00, 13.05it/s]\n",
      "Processing k-mers to extract information:   0%|          | 0/1537 [00:00<?, ?it/s]"
     ]
    },
    {
     "name": "stdout",
     "output_type": "stream",
     "text": [
      "\n",
      "Extract information related to signatures/variations...\n"
     ]
    },
    {
     "name": "stderr",
     "output_type": "stream",
     "text": [
      "Processing k-mers to extract information: 100%|██████████| 1537/1537 [04:02<00:00,  6.35it/s]\n"
     ]
    },
    {
     "name": "stdout",
     "output_type": "stream",
     "text": [
      "Execution time:  360.33880496025085\n",
      "Sample: 38.B1.W10.11_38.M1.W03.10 (Comparison_2: 21-mers)\n",
      "\n",
      "KEVOLVE: extraction mode\n",
      "\n",
      "Load sequences...\n",
      "Count k-mers...\n",
      "Generate matrices...\n",
      "Preprocessing...\n",
      "Solution search...\n",
      "\n",
      "Iteration: 1 | Attempt(s): 1 / 1\n",
      "Mean weighted score 0.995 Max weighted score 1.0 Mean unweighted score 0.984 Max unweighted score 1.0\n",
      "Number of genes : 1\n",
      "\n",
      "Identified solutions (1546) saved at : data/comparisons/38.B1.W10.11_38.M1.W03.10/Comparison_2/21\n",
      "Execution time:  146.74823141098022\n",
      "\n",
      "KEVOLVE: motif analyzer mode\n",
      "\n",
      "\n",
      "Identifying perfect matches...\n"
     ]
    },
    {
     "name": "stderr",
     "output_type": "stream",
     "text": [
      "Processing k-mers: 100%|██████████| 1546/1546 [00:00<00:00, 2985.52it/s]\n",
      "Processing k-mers for variations:   0%|          | 2/1546 [00:00<01:40, 15.43it/s]"
     ]
    },
    {
     "name": "stdout",
     "output_type": "stream",
     "text": [
      "\n",
      "Identifying variations...\n"
     ]
    },
    {
     "name": "stderr",
     "output_type": "stream",
     "text": [
      "Processing k-mers for variations: 100%|██████████| 1546/1546 [02:04<00:00, 12.40it/s]\n",
      "Processing k-mers to extract information:   0%|          | 0/1546 [00:00<?, ?it/s]"
     ]
    },
    {
     "name": "stdout",
     "output_type": "stream",
     "text": [
      "\n",
      "Extract information related to signatures/variations...\n"
     ]
    },
    {
     "name": "stderr",
     "output_type": "stream",
     "text": [
      "Processing k-mers to extract information: 100%|██████████| 1546/1546 [03:47<00:00,  6.79it/s]\n"
     ]
    },
    {
     "name": "stdout",
     "output_type": "stream",
     "text": [
      "Execution time:  353.0585505962372\n",
      "Sample: 38.B1.W10.11_38.M1.W03.10 (Comparison_3: 9-mers)\n",
      "\n",
      "KEVOLVE: extraction mode\n",
      "\n",
      "Load sequences...\n",
      "Count k-mers...\n",
      "Generate matrices...\n",
      "Preprocessing...\n",
      "Solution search...\n",
      "\n",
      "Iteration: 1 | Attempt(s): 1 / 1\n",
      "Mean weighted score 0.962 Max weighted score 1.0 Mean unweighted score 0.925 Max unweighted score 1.0\n",
      "Number of genes : 1\n",
      "\n",
      "Identified solutions (528) saved at : data/comparisons/38.B1.W10.11_38.M1.W03.10/Comparison_3/9\n",
      "Execution time:  145.20581603050232\n",
      "\n",
      "KEVOLVE: motif analyzer mode\n",
      "\n",
      "\n",
      "Identifying perfect matches...\n",
      "\n",
      "Identifying variations...\n"
     ]
    },
    {
     "name": "stderr",
     "output_type": "stream",
     "text": [
      "Processing k-mers: 100%|██████████| 528/528 [00:00<00:00, 4978.36it/s]\n",
      "Processing k-mers for variations: 100%|██████████| 528/528 [00:06<00:00, 87.31it/s] \n",
      "Processing k-mers to extract information:   0%|          | 0/528 [00:00<?, ?it/s]"
     ]
    },
    {
     "name": "stdout",
     "output_type": "stream",
     "text": [
      "\n",
      "Extract information related to signatures/variations...\n"
     ]
    },
    {
     "name": "stderr",
     "output_type": "stream",
     "text": [
      "Processing k-mers to extract information: 100%|██████████| 528/528 [05:07<00:00,  1.72it/s]\n"
     ]
    },
    {
     "name": "stdout",
     "output_type": "stream",
     "text": [
      "Execution time:  313.25526571273804\n",
      "Sample: 38.B1.W10.11_38.M1.W03.10 (Comparison_3: 10-mers)\n",
      "\n",
      "KEVOLVE: extraction mode\n",
      "\n",
      "Load sequences...\n",
      "Count k-mers...\n",
      "Generate matrices...\n",
      "Preprocessing...\n",
      "Solution search...\n",
      "\n",
      "Iteration: 1 | Attempt(s): 1 / 1\n",
      "Mean weighted score 0.961 Max weighted score 1.0 Mean unweighted score 0.923 Max unweighted score 1.0\n",
      "Number of genes : 1\n",
      "\n",
      "Identified solutions (547) saved at : data/comparisons/38.B1.W10.11_38.M1.W03.10/Comparison_3/10\n",
      "Execution time:  144.9108762741089\n",
      "\n",
      "KEVOLVE: motif analyzer mode\n",
      "\n",
      "\n",
      "Identifying perfect matches...\n",
      "\n",
      "Identifying variations...\n"
     ]
    },
    {
     "name": "stderr",
     "output_type": "stream",
     "text": [
      "Processing k-mers: 100%|██████████| 547/547 [00:00<00:00, 4924.89it/s]\n",
      "Processing k-mers for variations: 100%|██████████| 547/547 [00:06<00:00, 82.02it/s]\n",
      "Processing k-mers to extract information:   0%|          | 0/547 [00:00<?, ?it/s]"
     ]
    },
    {
     "name": "stdout",
     "output_type": "stream",
     "text": [
      "\n",
      "Extract information related to signatures/variations...\n"
     ]
    },
    {
     "name": "stderr",
     "output_type": "stream",
     "text": [
      "Processing k-mers to extract information: 100%|██████████| 547/547 [02:18<00:00,  3.96it/s]\n"
     ]
    },
    {
     "name": "stdout",
     "output_type": "stream",
     "text": [
      "Execution time:  144.95339965820312\n",
      "Sample: 38.B1.W10.11_38.M1.W03.10 (Comparison_3: 11-mers)\n",
      "\n",
      "KEVOLVE: extraction mode\n",
      "\n",
      "Load sequences...\n",
      "Count k-mers...\n",
      "Generate matrices...\n",
      "Preprocessing...\n",
      "Solution search...\n",
      "\n",
      "Iteration: 1 | Attempt(s): 1 / 1\n",
      "Mean weighted score 0.958 Max weighted score 1.0 Mean unweighted score 0.916 Max unweighted score 1.0\n",
      "Number of genes : 1\n",
      "\n",
      "Identified solutions (559) saved at : data/comparisons/38.B1.W10.11_38.M1.W03.10/Comparison_3/11\n",
      "Execution time:  145.04313278198242\n",
      "\n",
      "KEVOLVE: motif analyzer mode\n",
      "\n",
      "\n",
      "Identifying perfect matches...\n",
      "\n",
      "Identifying variations...\n"
     ]
    },
    {
     "name": "stderr",
     "output_type": "stream",
     "text": [
      "Processing k-mers: 100%|██████████| 559/559 [00:00<00:00, 4915.34it/s]\n",
      "Processing k-mers for variations: 100%|██████████| 559/559 [00:07<00:00, 77.17it/s] \n",
      "Processing k-mers to extract information:   0%|          | 0/559 [00:00<?, ?it/s]"
     ]
    },
    {
     "name": "stdout",
     "output_type": "stream",
     "text": [
      "\n",
      "Extract information related to signatures/variations...\n"
     ]
    },
    {
     "name": "stderr",
     "output_type": "stream",
     "text": [
      "Processing k-mers to extract information: 100%|██████████| 559/559 [01:39<00:00,  5.61it/s]\n"
     ]
    },
    {
     "name": "stdout",
     "output_type": "stream",
     "text": [
      "Execution time:  106.99866271018982\n",
      "Sample: 38.B1.W10.11_38.M1.W03.10 (Comparison_3: 12-mers)\n",
      "\n",
      "KEVOLVE: extraction mode\n",
      "\n",
      "Load sequences...\n",
      "Count k-mers...\n",
      "Generate matrices...\n",
      "Preprocessing...\n",
      "Solution search...\n",
      "\n",
      "Iteration: 1 | Attempt(s): 1 / 1\n",
      "Mean weighted score 0.956 Max weighted score 1.0 Mean unweighted score 0.912 Max unweighted score 1.0\n",
      "Number of genes : 1\n",
      "\n",
      "Identified solutions (569) saved at : data/comparisons/38.B1.W10.11_38.M1.W03.10/Comparison_3/12\n",
      "Execution time:  144.9089424610138\n",
      "\n",
      "KEVOLVE: motif analyzer mode\n",
      "\n",
      "\n",
      "Identifying perfect matches...\n",
      "\n",
      "Identifying variations...\n"
     ]
    },
    {
     "name": "stderr",
     "output_type": "stream",
     "text": [
      "Processing k-mers: 100%|██████████| 569/569 [00:00<00:00, 4974.17it/s]\n",
      "Processing k-mers for variations: 100%|██████████| 569/569 [00:07<00:00, 73.80it/s]\n",
      "Processing k-mers to extract information:   0%|          | 2/569 [00:00<00:32, 17.42it/s]"
     ]
    },
    {
     "name": "stdout",
     "output_type": "stream",
     "text": [
      "\n",
      "Extract information related to signatures/variations...\n"
     ]
    },
    {
     "name": "stderr",
     "output_type": "stream",
     "text": [
      "Processing k-mers to extract information: 100%|██████████| 569/569 [01:22<00:00,  6.88it/s]\n"
     ]
    },
    {
     "name": "stdout",
     "output_type": "stream",
     "text": [
      "Execution time:  90.58964896202087\n",
      "Sample: 38.B1.W10.11_38.M1.W03.10 (Comparison_3: 13-mers)\n",
      "\n",
      "KEVOLVE: extraction mode\n",
      "\n",
      "Load sequences...\n",
      "Count k-mers...\n",
      "Generate matrices...\n",
      "Preprocessing...\n",
      "Solution search...\n",
      "\n",
      "Iteration: 1 | Attempt(s): 1 / 1\n",
      "Mean weighted score 0.954 Max weighted score 1.0 Mean unweighted score 0.908 Max unweighted score 1.0\n",
      "Number of genes : 1\n",
      "\n",
      "Identified solutions (574) saved at : data/comparisons/38.B1.W10.11_38.M1.W03.10/Comparison_3/13\n",
      "Execution time:  145.0601065158844\n",
      "\n",
      "KEVOLVE: motif analyzer mode\n",
      "\n",
      "\n",
      "Identifying perfect matches...\n",
      "\n",
      "Identifying variations...\n"
     ]
    },
    {
     "name": "stderr",
     "output_type": "stream",
     "text": [
      "Processing k-mers: 100%|██████████| 574/574 [00:00<00:00, 4990.61it/s]\n",
      "Processing k-mers for variations: 100%|██████████| 574/574 [00:08<00:00, 70.38it/s]\n",
      "Processing k-mers to extract information:   0%|          | 1/574 [00:00<01:04,  8.83it/s]"
     ]
    },
    {
     "name": "stdout",
     "output_type": "stream",
     "text": [
      "\n",
      "Extract information related to signatures/variations...\n"
     ]
    },
    {
     "name": "stderr",
     "output_type": "stream",
     "text": [
      "Processing k-mers to extract information: 100%|██████████| 574/574 [01:12<00:00,  7.94it/s]\n"
     ]
    },
    {
     "name": "stdout",
     "output_type": "stream",
     "text": [
      "Execution time:  80.54951739311218\n",
      "Sample: 38.B1.W10.11_38.M1.W03.10 (Comparison_3: 14-mers)\n",
      "\n",
      "KEVOLVE: extraction mode\n",
      "\n",
      "Load sequences...\n",
      "Count k-mers...\n",
      "Generate matrices...\n",
      "Preprocessing...\n",
      "Solution search...\n",
      "\n",
      "Iteration: 1 | Attempt(s): 1 / 1\n",
      "Mean weighted score 0.951 Max weighted score 1.0 Mean unweighted score 0.902 Max unweighted score 1.0\n",
      "Number of genes : 1\n",
      "\n",
      "Identified solutions (578) saved at : data/comparisons/38.B1.W10.11_38.M1.W03.10/Comparison_3/14\n",
      "Execution time:  145.26131200790405\n",
      "\n",
      "KEVOLVE: motif analyzer mode\n",
      "\n",
      "\n",
      "Identifying perfect matches...\n",
      "\n",
      "Identifying variations...\n"
     ]
    },
    {
     "name": "stderr",
     "output_type": "stream",
     "text": [
      "Processing k-mers: 100%|██████████| 578/578 [00:00<00:00, 4979.45it/s]\n",
      "Processing k-mers for variations: 100%|██████████| 578/578 [00:08<00:00, 67.34it/s]\n",
      "Processing k-mers to extract information:   0%|          | 0/578 [00:00<?, ?it/s]"
     ]
    },
    {
     "name": "stdout",
     "output_type": "stream",
     "text": [
      "\n",
      "Extract information related to signatures/variations...\n"
     ]
    },
    {
     "name": "stderr",
     "output_type": "stream",
     "text": [
      "Processing k-mers to extract information: 100%|██████████| 578/578 [01:10<00:00,  8.15it/s]\n"
     ]
    },
    {
     "name": "stdout",
     "output_type": "stream",
     "text": [
      "Execution time:  79.63860845565796\n",
      "Sample: 38.B1.W10.11_38.M1.W03.10 (Comparison_3: 15-mers)\n",
      "\n",
      "KEVOLVE: extraction mode\n",
      "\n",
      "Load sequences...\n",
      "Count k-mers...\n",
      "Generate matrices...\n",
      "Preprocessing...\n",
      "Solution search...\n",
      "\n",
      "Iteration: 1 | Attempt(s): 1 / 1\n",
      "Mean weighted score 0.947 Max weighted score 1.0 Mean unweighted score 0.894 Max unweighted score 1.0\n",
      "Number of genes : 1\n",
      "\n",
      "Identified solutions (579) saved at : data/comparisons/38.B1.W10.11_38.M1.W03.10/Comparison_3/15\n",
      "Execution time:  144.75300788879395\n",
      "\n",
      "KEVOLVE: motif analyzer mode\n",
      "\n",
      "\n",
      "Identifying perfect matches...\n",
      "\n",
      "Identifying variations...\n"
     ]
    },
    {
     "name": "stderr",
     "output_type": "stream",
     "text": [
      "Processing k-mers: 100%|██████████| 579/579 [00:00<00:00, 4972.85it/s]\n",
      "Processing k-mers for variations: 100%|██████████| 579/579 [00:08<00:00, 64.90it/s]\n",
      "Processing k-mers to extract information:   0%|          | 1/579 [00:00<01:06,  8.66it/s]"
     ]
    },
    {
     "name": "stdout",
     "output_type": "stream",
     "text": [
      "\n",
      "Extract information related to signatures/variations...\n"
     ]
    },
    {
     "name": "stderr",
     "output_type": "stream",
     "text": [
      "Processing k-mers to extract information: 100%|██████████| 579/579 [01:07<00:00,  8.54it/s]\n"
     ]
    },
    {
     "name": "stdout",
     "output_type": "stream",
     "text": [
      "Execution time:  76.88834881782532\n",
      "Sample: 38.B1.W10.11_38.M1.W03.10 (Comparison_3: 16-mers)\n",
      "\n",
      "KEVOLVE: extraction mode\n",
      "\n",
      "Load sequences...\n",
      "Count k-mers...\n",
      "Generate matrices...\n",
      "Preprocessing...\n",
      "Solution search...\n",
      "\n",
      "Iteration: 1 | Attempt(s): 1 / 1\n",
      "Mean weighted score 0.945 Max weighted score 1.0 Mean unweighted score 0.89 Max unweighted score 1.0\n",
      "Number of genes : 1\n",
      "\n",
      "Identified solutions (574) saved at : data/comparisons/38.B1.W10.11_38.M1.W03.10/Comparison_3/16\n",
      "Execution time:  145.4455497264862\n",
      "\n",
      "KEVOLVE: motif analyzer mode\n",
      "\n",
      "\n",
      "Identifying perfect matches...\n",
      "\n",
      "Identifying variations...\n"
     ]
    },
    {
     "name": "stderr",
     "output_type": "stream",
     "text": [
      "Processing k-mers: 100%|██████████| 574/574 [00:00<00:00, 4760.52it/s]\n",
      "Processing k-mers for variations: 100%|██████████| 574/574 [00:09<00:00, 62.95it/s]\n",
      "Processing k-mers to extract information:   0%|          | 0/574 [00:00<?, ?it/s]"
     ]
    },
    {
     "name": "stdout",
     "output_type": "stream",
     "text": [
      "\n",
      "Extract information related to signatures/variations...\n"
     ]
    },
    {
     "name": "stderr",
     "output_type": "stream",
     "text": [
      "Processing k-mers to extract information: 100%|██████████| 574/574 [01:12<00:00,  7.97it/s]\n"
     ]
    },
    {
     "name": "stdout",
     "output_type": "stream",
     "text": [
      "Execution time:  81.28677296638489\n",
      "Sample: 38.B1.W10.11_38.M1.W03.10 (Comparison_3: 17-mers)\n",
      "\n",
      "KEVOLVE: extraction mode\n",
      "\n",
      "Load sequences...\n",
      "Count k-mers...\n",
      "Generate matrices...\n",
      "Preprocessing...\n",
      "Solution search...\n",
      "\n",
      "Iteration: 1 | Attempt(s): 1 / 1\n",
      "Mean weighted score 0.943 Max weighted score 1.0 Mean unweighted score 0.886 Max unweighted score 1.0\n",
      "Number of genes : 1\n",
      "\n",
      "Identified solutions (566) saved at : data/comparisons/38.B1.W10.11_38.M1.W03.10/Comparison_3/17\n",
      "Execution time:  144.8121428489685\n",
      "\n",
      "KEVOLVE: motif analyzer mode\n",
      "\n",
      "\n",
      "Identifying perfect matches...\n",
      "\n",
      "Identifying variations...\n"
     ]
    },
    {
     "name": "stderr",
     "output_type": "stream",
     "text": [
      "Processing k-mers: 100%|██████████| 566/566 [00:00<00:00, 4971.14it/s]\n",
      "Processing k-mers for variations: 100%|██████████| 566/566 [00:09<00:00, 60.90it/s]\n",
      "Processing k-mers to extract information:   0%|          | 0/566 [00:00<?, ?it/s]"
     ]
    },
    {
     "name": "stdout",
     "output_type": "stream",
     "text": [
      "\n",
      "Extract information related to signatures/variations...\n"
     ]
    },
    {
     "name": "stderr",
     "output_type": "stream",
     "text": [
      "Processing k-mers to extract information: 100%|██████████| 566/566 [01:10<00:00,  8.02it/s]\n"
     ]
    },
    {
     "name": "stdout",
     "output_type": "stream",
     "text": [
      "Execution time:  79.96705770492554\n",
      "Sample: 38.B1.W10.11_38.M1.W03.10 (Comparison_3: 18-mers)\n",
      "\n",
      "KEVOLVE: extraction mode\n",
      "\n",
      "Load sequences...\n",
      "Count k-mers...\n",
      "Generate matrices...\n",
      "Preprocessing...\n",
      "Solution search...\n",
      "\n",
      "Iteration: 1 | Attempt(s): 1 / 1\n",
      "Mean weighted score 0.938 Max weighted score 1.0 Mean unweighted score 0.877 Max unweighted score 1.0\n",
      "Number of genes : 1\n",
      "\n",
      "Identified solutions (558) saved at : data/comparisons/38.B1.W10.11_38.M1.W03.10/Comparison_3/18\n",
      "Execution time:  145.45038771629333\n",
      "\n",
      "KEVOLVE: motif analyzer mode\n",
      "\n",
      "\n",
      "Identifying perfect matches...\n",
      "\n",
      "Identifying variations...\n"
     ]
    },
    {
     "name": "stderr",
     "output_type": "stream",
     "text": [
      "Processing k-mers: 100%|██████████| 558/558 [00:00<00:00, 4918.76it/s]\n",
      "Processing k-mers for variations: 100%|██████████| 558/558 [00:09<00:00, 59.33it/s]\n",
      "Processing k-mers to extract information:   0%|          | 0/558 [00:00<?, ?it/s]"
     ]
    },
    {
     "name": "stdout",
     "output_type": "stream",
     "text": [
      "\n",
      "Extract information related to signatures/variations...\n"
     ]
    },
    {
     "name": "stderr",
     "output_type": "stream",
     "text": [
      "Processing k-mers to extract information: 100%|██████████| 558/558 [01:07<00:00,  8.28it/s]\n"
     ]
    },
    {
     "name": "stdout",
     "output_type": "stream",
     "text": [
      "Execution time:  76.90382409095764\n",
      "Sample: 38.B1.W10.11_38.M1.W03.10 (Comparison_3: 19-mers)\n",
      "\n",
      "KEVOLVE: extraction mode\n",
      "\n",
      "Load sequences...\n",
      "Count k-mers...\n",
      "Generate matrices...\n",
      "Preprocessing...\n",
      "Solution search...\n",
      "\n",
      "Iteration: 1 | Attempt(s): 1 / 1\n",
      "Mean weighted score 0.936 Max weighted score 1.0 Mean unweighted score 0.874 Max unweighted score 1.0\n",
      "Number of genes : 1\n",
      "\n",
      "Identified solutions (547) saved at : data/comparisons/38.B1.W10.11_38.M1.W03.10/Comparison_3/19\n",
      "Execution time:  145.29146218299866\n",
      "\n",
      "KEVOLVE: motif analyzer mode\n",
      "\n",
      "\n",
      "Identifying perfect matches...\n",
      "\n",
      "Identifying variations...\n"
     ]
    },
    {
     "name": "stderr",
     "output_type": "stream",
     "text": [
      "Processing k-mers: 100%|██████████| 547/547 [00:00<00:00, 4888.15it/s]\n",
      "Processing k-mers for variations: 100%|██████████| 547/547 [00:09<00:00, 57.76it/s]\n",
      "Processing k-mers to extract information:   0%|          | 1/547 [00:00<01:02,  8.70it/s]"
     ]
    },
    {
     "name": "stdout",
     "output_type": "stream",
     "text": [
      "\n",
      "Extract information related to signatures/variations...\n"
     ]
    },
    {
     "name": "stderr",
     "output_type": "stream",
     "text": [
      "Processing k-mers to extract information: 100%|██████████| 547/547 [01:06<00:00,  8.28it/s]\n"
     ]
    },
    {
     "name": "stdout",
     "output_type": "stream",
     "text": [
      "Execution time:  75.69158673286438\n",
      "Sample: 38.B1.W10.11_38.M1.W03.10 (Comparison_3: 20-mers)\n",
      "\n",
      "KEVOLVE: extraction mode\n",
      "\n",
      "Load sequences...\n",
      "Count k-mers...\n",
      "Generate matrices...\n",
      "Preprocessing...\n",
      "Solution search...\n",
      "\n",
      "Iteration: 1 | Attempt(s): 1 / 1\n",
      "Mean weighted score 0.934 Max weighted score 1.0 Mean unweighted score 0.868 Max unweighted score 1.0\n",
      "Number of genes : 1\n",
      "\n",
      "Identified solutions (535) saved at : data/comparisons/38.B1.W10.11_38.M1.W03.10/Comparison_3/20\n",
      "Execution time:  144.77138590812683\n",
      "\n",
      "KEVOLVE: motif analyzer mode\n",
      "\n",
      "\n",
      "Identifying perfect matches...\n",
      "\n",
      "Identifying variations...\n"
     ]
    },
    {
     "name": "stderr",
     "output_type": "stream",
     "text": [
      "Processing k-mers: 100%|██████████| 535/535 [00:00<00:00, 4773.33it/s]\n",
      "Processing k-mers for variations: 100%|██████████| 535/535 [00:09<00:00, 56.78it/s]\n",
      "Processing k-mers to extract information:   0%|          | 0/535 [00:00<?, ?it/s]"
     ]
    },
    {
     "name": "stdout",
     "output_type": "stream",
     "text": [
      "\n",
      "Extract information related to signatures/variations...\n"
     ]
    },
    {
     "name": "stderr",
     "output_type": "stream",
     "text": [
      "Processing k-mers to extract information: 100%|██████████| 535/535 [01:03<00:00,  8.44it/s]\n"
     ]
    },
    {
     "name": "stdout",
     "output_type": "stream",
     "text": [
      "Execution time:  72.97390007972717\n",
      "Sample: 38.B1.W10.11_38.M1.W03.10 (Comparison_3: 21-mers)\n",
      "\n",
      "KEVOLVE: extraction mode\n",
      "\n",
      "Load sequences...\n",
      "Count k-mers...\n",
      "Generate matrices...\n",
      "Preprocessing...\n",
      "Solution search...\n",
      "\n",
      "Iteration: 1 | Attempt(s): 1 / 1\n",
      "Mean weighted score 0.927 Max weighted score 1.0 Mean unweighted score 0.855 Max unweighted score 1.0\n",
      "Number of genes : 1\n",
      "\n",
      "Identified solutions (523) saved at : data/comparisons/38.B1.W10.11_38.M1.W03.10/Comparison_3/21\n",
      "Execution time:  144.93415427207947\n",
      "\n",
      "KEVOLVE: motif analyzer mode\n",
      "\n",
      "\n",
      "Identifying perfect matches...\n",
      "\n",
      "Identifying variations...\n"
     ]
    },
    {
     "name": "stderr",
     "output_type": "stream",
     "text": [
      "Processing k-mers: 100%|██████████| 523/523 [00:00<00:00, 4865.84it/s]\n",
      "Processing k-mers for variations: 100%|██████████| 523/523 [00:09<00:00, 55.17it/s]\n",
      "Processing k-mers to extract information:   0%|          | 0/523 [00:00<?, ?it/s]"
     ]
    },
    {
     "name": "stdout",
     "output_type": "stream",
     "text": [
      "\n",
      "Extract information related to signatures/variations...\n"
     ]
    },
    {
     "name": "stderr",
     "output_type": "stream",
     "text": [
      "Processing k-mers to extract information: 100%|██████████| 523/523 [00:58<00:00,  8.97it/s]\n"
     ]
    },
    {
     "name": "stdout",
     "output_type": "stream",
     "text": [
      "Execution time:  67.88937950134277\n",
      "Sample: 39.B1.W11.12_39.M1.W03.13_39.M1.W05.14 (Comparison_6: 9-mers)\n",
      "\n",
      "KEVOLVE: extraction mode\n",
      "\n",
      "Load sequences...\n",
      "Count k-mers...\n",
      "Generate matrices...\n",
      "Preprocessing...\n",
      "Solution search...\n",
      "\n",
      "Iteration: 1 | Attempt(s): 1 / 1\n",
      "Mean weighted score 0.849 Max weighted score 1.0 Mean unweighted score 0.618 Max unweighted score 1.0\n",
      "Number of genes : 1\n",
      "\n",
      "Identified solutions (244) saved at : data/comparisons/39.B1.W11.12_39.M1.W03.13_39.M1.W05.14/Comparison_6/9\n",
      "Execution time:  145.61432933807373\n",
      "\n",
      "KEVOLVE: motif analyzer mode\n",
      "\n",
      "\n",
      "Identifying perfect matches...\n",
      "\n",
      "Identifying variations...\n"
     ]
    },
    {
     "name": "stderr",
     "output_type": "stream",
     "text": [
      "Processing k-mers: 100%|██████████| 244/244 [00:00<00:00, 3481.92it/s]\n",
      "Processing k-mers for variations: 100%|██████████| 244/244 [00:08<00:00, 30.33it/s]\n",
      "Processing k-mers to extract information:   0%|          | 0/244 [00:00<?, ?it/s]"
     ]
    },
    {
     "name": "stdout",
     "output_type": "stream",
     "text": [
      "\n",
      "Extract information related to signatures/variations...\n"
     ]
    },
    {
     "name": "stderr",
     "output_type": "stream",
     "text": [
      "Processing k-mers to extract information: 100%|██████████| 244/244 [01:55<00:00,  2.12it/s]\n"
     ]
    },
    {
     "name": "stdout",
     "output_type": "stream",
     "text": [
      "Execution time:  123.3846595287323\n",
      "Sample: 39.B1.W11.12_39.M1.W03.13_39.M1.W05.14 (Comparison_6: 10-mers)\n",
      "\n",
      "KEVOLVE: extraction mode\n",
      "\n",
      "Load sequences...\n",
      "Count k-mers...\n",
      "Generate matrices...\n",
      "Preprocessing...\n",
      "Solution search...\n",
      "\n",
      "Iteration: 1 | Attempt(s): 1 / 1\n",
      "Mean weighted score 0.852 Max weighted score 1.0 Mean unweighted score 0.627 Max unweighted score 1.0\n",
      "Number of genes : 1\n",
      "\n",
      "Identified solutions (260) saved at : data/comparisons/39.B1.W11.12_39.M1.W03.13_39.M1.W05.14/Comparison_6/10\n",
      "Execution time:  145.95870113372803\n",
      "\n",
      "KEVOLVE: motif analyzer mode\n",
      "\n",
      "\n",
      "Identifying perfect matches...\n",
      "\n",
      "Identifying variations...\n"
     ]
    },
    {
     "name": "stderr",
     "output_type": "stream",
     "text": [
      "Processing k-mers: 100%|██████████| 260/260 [00:00<00:00, 3329.29it/s]\n",
      "Processing k-mers for variations: 100%|██████████| 260/260 [00:09<00:00, 27.06it/s]\n",
      "Processing k-mers to extract information:   1%|          | 3/260 [00:00<00:15, 16.79it/s]"
     ]
    },
    {
     "name": "stdout",
     "output_type": "stream",
     "text": [
      "\n",
      "Extract information related to signatures/variations...\n"
     ]
    },
    {
     "name": "stderr",
     "output_type": "stream",
     "text": [
      "Processing k-mers to extract information: 100%|██████████| 260/260 [00:41<00:00,  6.34it/s]\n"
     ]
    },
    {
     "name": "stdout",
     "output_type": "stream",
     "text": [
      "Execution time:  50.729368686676025\n",
      "Sample: 39.B1.W11.12_39.M1.W03.13_39.M1.W05.14 (Comparison_6: 11-mers)\n",
      "\n",
      "KEVOLVE: extraction mode\n",
      "\n",
      "Load sequences...\n",
      "Count k-mers...\n",
      "Generate matrices...\n",
      "Preprocessing...\n",
      "Solution search...\n",
      "\n",
      "Iteration: 1 | Attempt(s): 1 / 1\n",
      "Mean weighted score 0.853 Max weighted score 1.0 Mean unweighted score 0.629 Max unweighted score 1.0\n",
      "Number of genes : 1\n",
      "\n",
      "Identified solutions (274) saved at : data/comparisons/39.B1.W11.12_39.M1.W03.13_39.M1.W05.14/Comparison_6/11\n",
      "Execution time:  145.58521699905396\n",
      "\n",
      "KEVOLVE: motif analyzer mode\n",
      "\n",
      "\n",
      "Identifying perfect matches...\n",
      "\n",
      "Identifying variations...\n"
     ]
    },
    {
     "name": "stderr",
     "output_type": "stream",
     "text": [
      "Processing k-mers: 100%|██████████| 274/274 [00:00<00:00, 3251.84it/s]\n",
      "Processing k-mers for variations: 100%|██████████| 274/274 [00:11<00:00, 24.18it/s]\n",
      "Processing k-mers to extract information:   0%|          | 0/274 [00:00<?, ?it/s]"
     ]
    },
    {
     "name": "stdout",
     "output_type": "stream",
     "text": [
      "\n",
      "Extract information related to signatures/variations...\n"
     ]
    },
    {
     "name": "stderr",
     "output_type": "stream",
     "text": [
      "Processing k-mers to extract information: 100%|██████████| 274/274 [00:34<00:00,  8.04it/s]\n"
     ]
    },
    {
     "name": "stdout",
     "output_type": "stream",
     "text": [
      "Execution time:  45.53290796279907\n",
      "Sample: 39.B1.W11.12_39.M1.W03.13_39.M1.W05.14 (Comparison_6: 12-mers)\n",
      "\n",
      "KEVOLVE: extraction mode\n",
      "\n",
      "Load sequences...\n",
      "Count k-mers...\n",
      "Generate matrices...\n",
      "Preprocessing...\n",
      "Solution search...\n",
      "\n",
      "Iteration: 1 | Attempt(s): 1 / 1\n",
      "Mean weighted score 0.859 Max weighted score 1.0 Mean unweighted score 0.644 Max unweighted score 1.0\n",
      "Number of genes : 1\n",
      "\n",
      "Identified solutions (288) saved at : data/comparisons/39.B1.W11.12_39.M1.W03.13_39.M1.W05.14/Comparison_6/12\n",
      "Execution time:  146.0772716999054\n",
      "\n",
      "KEVOLVE: motif analyzer mode\n",
      "\n",
      "\n",
      "Identifying perfect matches...\n",
      "\n",
      "Identifying variations...\n"
     ]
    },
    {
     "name": "stderr",
     "output_type": "stream",
     "text": [
      "Processing k-mers: 100%|██████████| 288/288 [00:00<00:00, 3366.14it/s]\n",
      "Processing k-mers for variations: 100%|██████████| 288/288 [00:13<00:00, 22.12it/s]\n",
      "Processing k-mers to extract information:   0%|          | 0/288 [00:00<?, ?it/s]"
     ]
    },
    {
     "name": "stdout",
     "output_type": "stream",
     "text": [
      "\n",
      "Extract information related to signatures/variations...\n"
     ]
    },
    {
     "name": "stderr",
     "output_type": "stream",
     "text": [
      "Processing k-mers to extract information: 100%|██████████| 288/288 [00:28<00:00, 10.15it/s]\n"
     ]
    },
    {
     "name": "stdout",
     "output_type": "stream",
     "text": [
      "Execution time:  41.5068199634552\n",
      "Sample: 39.B1.W11.12_39.M1.W03.13_39.M1.W05.14 (Comparison_6: 13-mers)\n",
      "\n",
      "KEVOLVE: extraction mode\n",
      "\n",
      "Load sequences...\n",
      "Count k-mers...\n",
      "Generate matrices...\n",
      "Preprocessing...\n",
      "Solution search...\n",
      "\n",
      "Iteration: 1 | Attempt(s): 1 / 1\n",
      "Mean weighted score 0.862 Max weighted score 1.0 Mean unweighted score 0.651 Max unweighted score 1.0\n",
      "Number of genes : 1\n",
      "\n",
      "Identified solutions (304) saved at : data/comparisons/39.B1.W11.12_39.M1.W03.13_39.M1.W05.14/Comparison_6/13\n",
      "Execution time:  145.3426375389099\n",
      "\n",
      "KEVOLVE: motif analyzer mode\n",
      "\n",
      "\n",
      "Identifying perfect matches...\n",
      "\n",
      "Identifying variations...\n"
     ]
    },
    {
     "name": "stderr",
     "output_type": "stream",
     "text": [
      "Processing k-mers: 100%|██████████| 304/304 [00:00<00:00, 3214.32it/s]\n",
      "Processing k-mers for variations: 100%|██████████| 304/304 [00:14<00:00, 20.33it/s]\n",
      "Processing k-mers to extract information:   0%|          | 0/304 [00:00<?, ?it/s]"
     ]
    },
    {
     "name": "stdout",
     "output_type": "stream",
     "text": [
      "\n",
      "Extract information related to signatures/variations...\n"
     ]
    },
    {
     "name": "stderr",
     "output_type": "stream",
     "text": [
      "Processing k-mers to extract information: 100%|██████████| 304/304 [00:25<00:00, 11.92it/s]\n"
     ]
    },
    {
     "name": "stdout",
     "output_type": "stream",
     "text": [
      "Execution time:  40.57308554649353\n",
      "Sample: 39.B1.W11.12_39.M1.W03.13_39.M1.W05.14 (Comparison_6: 14-mers)\n",
      "\n",
      "KEVOLVE: extraction mode\n",
      "\n",
      "Load sequences...\n",
      "Count k-mers...\n",
      "Generate matrices...\n",
      "Preprocessing...\n",
      "Solution search...\n",
      "\n",
      "Iteration: 1 | Attempt(s): 1 / 1\n",
      "Mean weighted score 0.863 Max weighted score 1.0 Mean unweighted score 0.653 Max unweighted score 1.0\n",
      "Number of genes : 1\n",
      "\n",
      "Identified solutions (316) saved at : data/comparisons/39.B1.W11.12_39.M1.W03.13_39.M1.W05.14/Comparison_6/14\n",
      "Execution time:  145.93570494651794\n",
      "\n",
      "KEVOLVE: motif analyzer mode\n",
      "\n",
      "\n",
      "Identifying perfect matches...\n",
      "\n",
      "Identifying variations...\n"
     ]
    },
    {
     "name": "stderr",
     "output_type": "stream",
     "text": [
      "Processing k-mers: 100%|██████████| 316/316 [00:00<00:00, 3355.35it/s]\n",
      "Processing k-mers for variations: 100%|██████████| 316/316 [00:16<00:00, 18.84it/s]\n",
      "Processing k-mers to extract information:   0%|          | 0/316 [00:00<?, ?it/s]"
     ]
    },
    {
     "name": "stdout",
     "output_type": "stream",
     "text": [
      "\n",
      "Extract information related to signatures/variations...\n"
     ]
    },
    {
     "name": "stderr",
     "output_type": "stream",
     "text": [
      "Processing k-mers to extract information: 100%|██████████| 316/316 [00:27<00:00, 11.37it/s]\n"
     ]
    },
    {
     "name": "stdout",
     "output_type": "stream",
     "text": [
      "Execution time:  44.67884349822998\n",
      "Sample: 39.B1.W11.12_39.M1.W03.13_39.M1.W05.14 (Comparison_6: 15-mers)\n",
      "\n",
      "KEVOLVE: extraction mode\n",
      "\n",
      "Load sequences...\n",
      "Count k-mers...\n",
      "Generate matrices...\n",
      "Preprocessing...\n",
      "Solution search...\n",
      "\n",
      "Iteration: 1 | Attempt(s): 1 / 1\n",
      "Mean weighted score 0.863 Max weighted score 1.0 Mean unweighted score 0.655 Max unweighted score 1.0\n",
      "Number of genes : 1\n",
      "\n",
      "Identified solutions (326) saved at : data/comparisons/39.B1.W11.12_39.M1.W03.13_39.M1.W05.14/Comparison_6/15\n",
      "Execution time:  145.9750897884369\n",
      "\n",
      "KEVOLVE: motif analyzer mode\n",
      "\n",
      "\n",
      "Identifying perfect matches...\n",
      "\n",
      "Identifying variations...\n"
     ]
    },
    {
     "name": "stderr",
     "output_type": "stream",
     "text": [
      "Processing k-mers: 100%|██████████| 326/326 [00:00<00:00, 3275.47it/s]\n",
      "Processing k-mers for variations: 100%|██████████| 326/326 [00:18<00:00, 17.57it/s]\n",
      "Processing k-mers to extract information:   0%|          | 0/326 [00:00<?, ?it/s]"
     ]
    },
    {
     "name": "stdout",
     "output_type": "stream",
     "text": [
      "\n",
      "Extract information related to signatures/variations...\n"
     ]
    },
    {
     "name": "stderr",
     "output_type": "stream",
     "text": [
      "Processing k-mers to extract information: 100%|██████████| 326/326 [00:27<00:00, 11.90it/s]\n"
     ]
    },
    {
     "name": "stdout",
     "output_type": "stream",
     "text": [
      "Execution time:  46.07762551307678\n",
      "Sample: 39.B1.W11.12_39.M1.W03.13_39.M1.W05.14 (Comparison_6: 16-mers)\n",
      "\n",
      "KEVOLVE: extraction mode\n",
      "\n",
      "Load sequences...\n",
      "Count k-mers...\n",
      "Generate matrices...\n",
      "Preprocessing...\n",
      "Solution search...\n",
      "\n",
      "Iteration: 1 | Attempt(s): 1 / 1\n",
      "Mean weighted score 0.864 Max weighted score 1.0 Mean unweighted score 0.657 Max unweighted score 1.0\n",
      "Number of genes : 1\n",
      "\n",
      "Identified solutions (330) saved at : data/comparisons/39.B1.W11.12_39.M1.W03.13_39.M1.W05.14/Comparison_6/16\n",
      "Execution time:  145.7951455116272\n",
      "\n",
      "KEVOLVE: motif analyzer mode\n",
      "\n",
      "\n",
      "Identifying perfect matches...\n",
      "\n",
      "Identifying variations...\n"
     ]
    },
    {
     "name": "stderr",
     "output_type": "stream",
     "text": [
      "Processing k-mers: 100%|██████████| 330/330 [00:00<00:00, 3323.70it/s]\n",
      "Processing k-mers for variations: 100%|██████████| 330/330 [00:19<00:00, 16.52it/s]\n",
      "Processing k-mers to extract information:   0%|          | 0/330 [00:00<?, ?it/s]"
     ]
    },
    {
     "name": "stdout",
     "output_type": "stream",
     "text": [
      "\n",
      "Extract information related to signatures/variations...\n"
     ]
    },
    {
     "name": "stderr",
     "output_type": "stream",
     "text": [
      "Processing k-mers to extract information: 100%|██████████| 330/330 [00:36<00:00,  9.04it/s]\n"
     ]
    },
    {
     "name": "stdout",
     "output_type": "stream",
     "text": [
      "Execution time:  56.588348388671875\n",
      "Sample: 39.B1.W11.12_39.M1.W03.13_39.M1.W05.14 (Comparison_6: 17-mers)\n",
      "\n",
      "KEVOLVE: extraction mode\n",
      "\n",
      "Load sequences...\n",
      "Count k-mers...\n",
      "Generate matrices...\n",
      "Preprocessing...\n",
      "Solution search...\n",
      "\n",
      "Iteration: 1 | Attempt(s): 1 / 1\n",
      "Mean weighted score 0.859 Max weighted score 1.0 Mean unweighted score 0.645 Max unweighted score 1.0\n",
      "Number of genes : 1\n",
      "\n",
      "Identified solutions (333) saved at : data/comparisons/39.B1.W11.12_39.M1.W03.13_39.M1.W05.14/Comparison_6/17\n",
      "Execution time:  146.22289276123047\n",
      "\n",
      "KEVOLVE: motif analyzer mode\n",
      "\n",
      "\n",
      "Identifying perfect matches...\n",
      "\n",
      "Identifying variations...\n"
     ]
    },
    {
     "name": "stderr",
     "output_type": "stream",
     "text": [
      "Processing k-mers: 100%|██████████| 333/333 [00:00<00:00, 3326.22it/s]\n",
      "Processing k-mers for variations: 100%|██████████| 333/333 [00:21<00:00, 15.61it/s]\n"
     ]
    },
    {
     "name": "stdout",
     "output_type": "stream",
     "text": [
      "\n",
      "Extract information related to signatures/variations...\n"
     ]
    },
    {
     "name": "stderr",
     "output_type": "stream",
     "text": [
      "Processing k-mers to extract information: 100%|██████████| 333/333 [00:35<00:00,  9.48it/s]\n"
     ]
    },
    {
     "name": "stdout",
     "output_type": "stream",
     "text": [
      "Execution time:  56.596967458724976\n",
      "Sample: 39.B1.W11.12_39.M1.W03.13_39.M1.W05.14 (Comparison_6: 18-mers)\n",
      "\n",
      "KEVOLVE: extraction mode\n",
      "\n",
      "Load sequences...\n",
      "Count k-mers...\n",
      "Generate matrices...\n",
      "Preprocessing...\n",
      "Solution search...\n",
      "\n",
      "Iteration: 1 | Attempt(s): 1 / 1\n",
      "Mean weighted score 0.862 Max weighted score 1.0 Mean unweighted score 0.651 Max unweighted score 1.0\n",
      "Number of genes : 1\n",
      "\n",
      "Identified solutions (334) saved at : data/comparisons/39.B1.W11.12_39.M1.W03.13_39.M1.W05.14/Comparison_6/18\n",
      "Execution time:  145.50219583511353\n",
      "\n",
      "KEVOLVE: motif analyzer mode\n",
      "\n",
      "\n",
      "Identifying perfect matches...\n",
      "\n",
      "Identifying variations...\n"
     ]
    },
    {
     "name": "stderr",
     "output_type": "stream",
     "text": [
      "Processing k-mers: 100%|██████████| 334/334 [00:00<00:00, 3269.04it/s]\n",
      "Processing k-mers for variations: 100%|██████████| 334/334 [00:22<00:00, 14.87it/s]\n",
      "Processing k-mers to extract information:   0%|          | 0/334 [00:00<?, ?it/s]"
     ]
    },
    {
     "name": "stdout",
     "output_type": "stream",
     "text": [
      "\n",
      "Extract information related to signatures/variations...\n"
     ]
    },
    {
     "name": "stderr",
     "output_type": "stream",
     "text": [
      "Processing k-mers to extract information: 100%|██████████| 334/334 [00:34<00:00,  9.76it/s]\n"
     ]
    },
    {
     "name": "stdout",
     "output_type": "stream",
     "text": [
      "Execution time:  56.820480823516846\n",
      "Sample: 39.B1.W11.12_39.M1.W03.13_39.M1.W05.14 (Comparison_6: 19-mers)\n",
      "\n",
      "KEVOLVE: extraction mode\n",
      "\n",
      "Load sequences...\n",
      "Count k-mers...\n",
      "Generate matrices...\n",
      "Preprocessing...\n",
      "Solution search...\n",
      "\n",
      "Iteration: 1 | Attempt(s): 1 / 1\n",
      "Mean weighted score 0.856 Max weighted score 1.0 Mean unweighted score 0.636 Max unweighted score 1.0\n",
      "Number of genes : 1\n",
      "\n",
      "Identified solutions (332) saved at : data/comparisons/39.B1.W11.12_39.M1.W03.13_39.M1.W05.14/Comparison_6/19\n",
      "Execution time:  145.9690899848938\n",
      "\n",
      "KEVOLVE: motif analyzer mode\n",
      "\n",
      "\n",
      "Identifying perfect matches...\n",
      "\n",
      "Identifying variations...\n"
     ]
    },
    {
     "name": "stderr",
     "output_type": "stream",
     "text": [
      "Processing k-mers: 100%|██████████| 332/332 [00:00<00:00, 3288.33it/s]\n",
      "Processing k-mers for variations: 100%|██████████| 332/332 [00:23<00:00, 14.09it/s]\n",
      "Processing k-mers to extract information:   0%|          | 0/332 [00:00<?, ?it/s]"
     ]
    },
    {
     "name": "stdout",
     "output_type": "stream",
     "text": [
      "\n",
      "Extract information related to signatures/variations...\n"
     ]
    },
    {
     "name": "stderr",
     "output_type": "stream",
     "text": [
      "Processing k-mers to extract information: 100%|██████████| 332/332 [00:34<00:00,  9.68it/s]\n"
     ]
    },
    {
     "name": "stdout",
     "output_type": "stream",
     "text": [
      "Execution time:  57.98524856567383\n",
      "Sample: 39.B1.W11.12_39.M1.W03.13_39.M1.W05.14 (Comparison_6: 20-mers)\n",
      "\n",
      "KEVOLVE: extraction mode\n",
      "\n",
      "Load sequences...\n",
      "Count k-mers...\n",
      "Generate matrices...\n",
      "Preprocessing...\n",
      "Solution search...\n",
      "\n",
      "Iteration: 1 | Attempt(s): 1 / 1\n",
      "Mean weighted score 0.857 Max weighted score 1.0 Mean unweighted score 0.639 Max unweighted score 1.0\n",
      "Number of genes : 1\n",
      "\n",
      "Identified solutions (332) saved at : data/comparisons/39.B1.W11.12_39.M1.W03.13_39.M1.W05.14/Comparison_6/20\n",
      "Execution time:  145.695946931839\n",
      "\n",
      "KEVOLVE: motif analyzer mode\n",
      "\n",
      "\n",
      "Identifying perfect matches...\n",
      "\n",
      "Identifying variations...\n"
     ]
    },
    {
     "name": "stderr",
     "output_type": "stream",
     "text": [
      "Processing k-mers: 100%|██████████| 332/332 [00:00<00:00, 3235.79it/s]\n",
      "Processing k-mers for variations: 100%|██████████| 332/332 [00:24<00:00, 13.52it/s]\n",
      "Processing k-mers to extract information:   0%|          | 0/332 [00:00<?, ?it/s]"
     ]
    },
    {
     "name": "stdout",
     "output_type": "stream",
     "text": [
      "\n",
      "Extract information related to signatures/variations...\n"
     ]
    },
    {
     "name": "stderr",
     "output_type": "stream",
     "text": [
      "Processing k-mers to extract information: 100%|██████████| 332/332 [00:34<00:00,  9.71it/s]\n"
     ]
    },
    {
     "name": "stdout",
     "output_type": "stream",
     "text": [
      "Execution time:  58.88208246231079\n",
      "Sample: 39.B1.W11.12_39.M1.W03.13_39.M1.W05.14 (Comparison_6: 21-mers)\n",
      "\n",
      "KEVOLVE: extraction mode\n",
      "\n",
      "Load sequences...\n",
      "Count k-mers...\n",
      "Generate matrices...\n",
      "Preprocessing...\n",
      "Solution search...\n",
      "\n",
      "Iteration: 1 | Attempt(s): 1 / 1\n",
      "Mean weighted score 0.858 Max weighted score 1.0 Mean unweighted score 0.642 Max unweighted score 1.0\n",
      "Number of genes : 1\n",
      "\n",
      "Identified solutions (330) saved at : data/comparisons/39.B1.W11.12_39.M1.W03.13_39.M1.W05.14/Comparison_6/21\n",
      "Execution time:  146.14297890663147\n",
      "\n",
      "KEVOLVE: motif analyzer mode\n",
      "\n",
      "\n",
      "Identifying perfect matches...\n",
      "\n",
      "Identifying variations...\n"
     ]
    },
    {
     "name": "stderr",
     "output_type": "stream",
     "text": [
      "Processing k-mers: 100%|██████████| 330/330 [00:00<00:00, 3294.65it/s]\n",
      "Processing k-mers for variations: 100%|██████████| 330/330 [00:25<00:00, 12.92it/s]\n",
      "Processing k-mers to extract information:   0%|          | 0/330 [00:00<?, ?it/s]"
     ]
    },
    {
     "name": "stdout",
     "output_type": "stream",
     "text": [
      "\n",
      "Extract information related to signatures/variations...\n"
     ]
    },
    {
     "name": "stderr",
     "output_type": "stream",
     "text": [
      "Processing k-mers to extract information: 100%|██████████| 330/330 [00:31<00:00, 10.38it/s]\n"
     ]
    },
    {
     "name": "stdout",
     "output_type": "stream",
     "text": [
      "Execution time:  57.45746064186096\n",
      "Sample: 39.B1.W11.12_39.M1.W03.13_39.M1.W05.14 (Comparison_1: 9-mers)\n",
      "\n",
      "KEVOLVE: extraction mode\n",
      "\n",
      "Load sequences...\n",
      "Count k-mers...\n",
      "Generate matrices...\n",
      "Preprocessing...\n",
      "Solution search...\n",
      "\n",
      "Iteration: 1 | Attempt(s): 1 / 1\n",
      "Mean weighted score 0.945 Max weighted score 1.0 Mean unweighted score 0.938 Max unweighted score 1.0\n",
      "Number of genes : 1\n",
      "\n",
      "Identified solutions (745) saved at : data/comparisons/39.B1.W11.12_39.M1.W03.13_39.M1.W05.14/Comparison_1/9\n",
      "Execution time:  144.49215745925903\n",
      "\n",
      "KEVOLVE: motif analyzer mode\n",
      "\n",
      "\n",
      "Identifying perfect matches...\n",
      "\n",
      "Identifying variations...\n"
     ]
    },
    {
     "name": "stderr",
     "output_type": "stream",
     "text": [
      "Processing k-mers: 100%|██████████| 745/745 [00:00<00:00, 7132.84it/s]\n",
      "Processing k-mers for variations: 100%|██████████| 745/745 [00:06<00:00, 109.94it/s]\n",
      "Processing k-mers to extract information:   0%|          | 1/745 [00:00<01:55,  6.42it/s]"
     ]
    },
    {
     "name": "stdout",
     "output_type": "stream",
     "text": [
      "\n",
      "Extract information related to signatures/variations...\n"
     ]
    },
    {
     "name": "stderr",
     "output_type": "stream",
     "text": [
      "Processing k-mers to extract information: 100%|██████████| 745/745 [03:49<00:00,  3.25it/s]\n"
     ]
    },
    {
     "name": "stdout",
     "output_type": "stream",
     "text": [
      "Execution time:  236.47058749198914\n",
      "Sample: 39.B1.W11.12_39.M1.W03.13_39.M1.W05.14 (Comparison_1: 10-mers)\n",
      "\n",
      "KEVOLVE: extraction mode\n",
      "\n",
      "Load sequences...\n",
      "Count k-mers...\n",
      "Generate matrices...\n",
      "Preprocessing...\n",
      "Solution search...\n",
      "\n",
      "Iteration: 1 | Attempt(s): 1 / 1\n",
      "Mean weighted score 0.941 Max weighted score 1.0 Mean unweighted score 0.933 Max unweighted score 1.0\n",
      "Number of genes : 1\n",
      "\n",
      "Identified solutions (746) saved at : data/comparisons/39.B1.W11.12_39.M1.W03.13_39.M1.W05.14/Comparison_1/10\n",
      "Execution time:  144.56885242462158\n",
      "\n",
      "KEVOLVE: motif analyzer mode\n",
      "\n",
      "\n",
      "Identifying perfect matches...\n",
      "\n",
      "Identifying variations...\n"
     ]
    },
    {
     "name": "stderr",
     "output_type": "stream",
     "text": [
      "Processing k-mers: 100%|██████████| 746/746 [00:00<00:00, 6935.02it/s]\n",
      "Processing k-mers for variations: 100%|██████████| 746/746 [00:07<00:00, 100.73it/s]\n",
      "Processing k-mers to extract information:   0%|          | 0/746 [00:00<?, ?it/s]"
     ]
    },
    {
     "name": "stdout",
     "output_type": "stream",
     "text": [
      "\n",
      "Extract information related to signatures/variations...\n"
     ]
    },
    {
     "name": "stderr",
     "output_type": "stream",
     "text": [
      "Processing k-mers to extract information: 100%|██████████| 746/746 [01:37<00:00,  7.62it/s]\n"
     ]
    },
    {
     "name": "stdout",
     "output_type": "stream",
     "text": [
      "Execution time:  105.42704749107361\n",
      "Sample: 39.B1.W11.12_39.M1.W03.13_39.M1.W05.14 (Comparison_1: 11-mers)\n",
      "\n",
      "KEVOLVE: extraction mode\n",
      "\n",
      "Load sequences...\n",
      "Count k-mers...\n",
      "Generate matrices...\n",
      "Preprocessing...\n",
      "Solution search...\n",
      "\n",
      "Iteration: 1 | Attempt(s): 1 / 1\n",
      "Mean weighted score 0.937 Max weighted score 1.0 Mean unweighted score 0.929 Max unweighted score 1.0\n",
      "Number of genes : 1\n",
      "\n",
      "Identified solutions (745) saved at : data/comparisons/39.B1.W11.12_39.M1.W03.13_39.M1.W05.14/Comparison_1/11\n",
      "Execution time:  144.46365427970886\n",
      "\n",
      "KEVOLVE: motif analyzer mode\n",
      "\n",
      "\n",
      "Identifying perfect matches...\n",
      "\n",
      "Identifying variations...\n"
     ]
    },
    {
     "name": "stderr",
     "output_type": "stream",
     "text": [
      "Processing k-mers: 100%|██████████| 745/745 [00:00<00:00, 6925.79it/s]\n",
      "Processing k-mers for variations: 100%|██████████| 745/745 [00:08<00:00, 91.65it/s]\n",
      "Processing k-mers to extract information:   0%|          | 0/745 [00:00<?, ?it/s]"
     ]
    },
    {
     "name": "stdout",
     "output_type": "stream",
     "text": [
      "\n",
      "Extract information related to signatures/variations...\n"
     ]
    },
    {
     "name": "stderr",
     "output_type": "stream",
     "text": [
      "Processing k-mers to extract information: 100%|██████████| 745/745 [01:20<00:00,  9.21it/s]\n"
     ]
    },
    {
     "name": "stdout",
     "output_type": "stream",
     "text": [
      "Execution time:  89.17005801200867\n",
      "Sample: 39.B1.W11.12_39.M1.W03.13_39.M1.W05.14 (Comparison_1: 12-mers)\n",
      "\n",
      "KEVOLVE: extraction mode\n",
      "\n",
      "Load sequences...\n",
      "Count k-mers...\n",
      "Generate matrices...\n",
      "Preprocessing...\n",
      "Solution search...\n",
      "\n",
      "Iteration: 1 | Attempt(s): 1 / 1\n",
      "Mean weighted score 0.93 Max weighted score 1.0 Mean unweighted score 0.921 Max unweighted score 1.0\n",
      "Number of genes : 1\n",
      "\n",
      "Identified solutions (738) saved at : data/comparisons/39.B1.W11.12_39.M1.W03.13_39.M1.W05.14/Comparison_1/12\n",
      "Execution time:  144.53545355796814\n",
      "\n",
      "KEVOLVE: motif analyzer mode\n",
      "\n",
      "\n",
      "Identifying perfect matches...\n",
      "\n",
      "Identifying variations...\n"
     ]
    },
    {
     "name": "stderr",
     "output_type": "stream",
     "text": [
      "Processing k-mers: 100%|██████████| 738/738 [00:00<00:00, 7032.91it/s]\n",
      "Processing k-mers for variations: 100%|██████████| 738/738 [00:08<00:00, 83.99it/s]\n",
      "Processing k-mers to extract information:   0%|          | 0/738 [00:00<?, ?it/s]"
     ]
    },
    {
     "name": "stdout",
     "output_type": "stream",
     "text": [
      "\n",
      "Extract information related to signatures/variations...\n"
     ]
    },
    {
     "name": "stderr",
     "output_type": "stream",
     "text": [
      "Processing k-mers to extract information: 100%|██████████| 738/738 [01:04<00:00, 11.41it/s]\n"
     ]
    },
    {
     "name": "stdout",
     "output_type": "stream",
     "text": [
      "Execution time:  73.60433721542358\n",
      "Sample: 39.B1.W11.12_39.M1.W03.13_39.M1.W05.14 (Comparison_1: 13-mers)\n",
      "\n",
      "KEVOLVE: extraction mode\n",
      "\n",
      "Load sequences...\n",
      "Count k-mers...\n",
      "Generate matrices...\n",
      "Preprocessing...\n",
      "Solution search...\n",
      "\n",
      "Iteration: 1 | Attempt(s): 1 / 1\n",
      "Mean weighted score 0.926 Max weighted score 1.0 Mean unweighted score 0.917 Max unweighted score 1.0\n",
      "Number of genes : 1\n",
      "\n",
      "Identified solutions (725) saved at : data/comparisons/39.B1.W11.12_39.M1.W03.13_39.M1.W05.14/Comparison_1/13\n",
      "Execution time:  144.56855487823486\n",
      "\n",
      "KEVOLVE: motif analyzer mode\n",
      "\n",
      "\n",
      "Identifying perfect matches...\n",
      "\n",
      "Identifying variations...\n"
     ]
    },
    {
     "name": "stderr",
     "output_type": "stream",
     "text": [
      "Processing k-mers: 100%|██████████| 725/725 [00:00<00:00, 6947.59it/s]\n",
      "Processing k-mers for variations: 100%|██████████| 725/725 [00:09<00:00, 78.86it/s]\n"
     ]
    },
    {
     "name": "stdout",
     "output_type": "stream",
     "text": [
      "\n",
      "Extract information related to signatures/variations...\n"
     ]
    },
    {
     "name": "stderr",
     "output_type": "stream",
     "text": [
      "Processing k-mers to extract information: 100%|██████████| 725/725 [00:54<00:00, 13.38it/s]\n"
     ]
    },
    {
     "name": "stdout",
     "output_type": "stream",
     "text": [
      "Execution time:  63.51623344421387\n",
      "Sample: 39.B1.W11.12_39.M1.W03.13_39.M1.W05.14 (Comparison_1: 14-mers)\n",
      "\n",
      "KEVOLVE: extraction mode\n",
      "\n",
      "Load sequences...\n",
      "Count k-mers...\n",
      "Generate matrices...\n",
      "Preprocessing...\n",
      "Solution search...\n",
      "\n",
      "Iteration: 1 | Attempt(s): 1 / 1\n",
      "Mean weighted score 0.926 Max weighted score 1.0 Mean unweighted score 0.917 Max unweighted score 1.0\n",
      "Number of genes : 1\n",
      "\n",
      "Identified solutions (712) saved at : data/comparisons/39.B1.W11.12_39.M1.W03.13_39.M1.W05.14/Comparison_1/14\n",
      "Execution time:  144.662903547287\n",
      "\n",
      "KEVOLVE: motif analyzer mode\n",
      "\n",
      "\n",
      "Identifying perfect matches...\n",
      "\n",
      "Identifying variations...\n"
     ]
    },
    {
     "name": "stderr",
     "output_type": "stream",
     "text": [
      "Processing k-mers: 100%|██████████| 712/712 [00:00<00:00, 6795.15it/s]\n",
      "Processing k-mers for variations: 100%|██████████| 712/712 [00:09<00:00, 74.14it/s]\n",
      "Processing k-mers to extract information:   0%|          | 0/712 [00:00<?, ?it/s]"
     ]
    },
    {
     "name": "stdout",
     "output_type": "stream",
     "text": [
      "\n",
      "Extract information related to signatures/variations...\n"
     ]
    },
    {
     "name": "stderr",
     "output_type": "stream",
     "text": [
      "Processing k-mers to extract information: 100%|██████████| 712/712 [00:53<00:00, 13.39it/s]\n"
     ]
    },
    {
     "name": "stdout",
     "output_type": "stream",
     "text": [
      "Execution time:  62.898629665374756\n",
      "Sample: 39.B1.W11.12_39.M1.W03.13_39.M1.W05.14 (Comparison_1: 15-mers)\n",
      "\n",
      "KEVOLVE: extraction mode\n",
      "\n",
      "Load sequences...\n",
      "Count k-mers...\n",
      "Generate matrices...\n",
      "Preprocessing...\n",
      "Solution search...\n",
      "\n",
      "Iteration: 1 | Attempt(s): 1 / 1\n",
      "Mean weighted score 0.923 Max weighted score 1.0 Mean unweighted score 0.914 Max unweighted score 1.0\n",
      "Number of genes : 1\n",
      "\n",
      "Identified solutions (702) saved at : data/comparisons/39.B1.W11.12_39.M1.W03.13_39.M1.W05.14/Comparison_1/15\n",
      "Execution time:  144.5639407634735\n",
      "\n",
      "KEVOLVE: motif analyzer mode\n",
      "\n",
      "\n",
      "Identifying perfect matches...\n",
      "\n",
      "Identifying variations...\n"
     ]
    },
    {
     "name": "stderr",
     "output_type": "stream",
     "text": [
      "Processing k-mers: 100%|██████████| 702/702 [00:00<00:00, 7084.33it/s]\n",
      "Processing k-mers for variations: 100%|██████████| 702/702 [00:10<00:00, 70.00it/s]\n",
      "Processing k-mers to extract information:   0%|          | 0/702 [00:00<?, ?it/s]"
     ]
    },
    {
     "name": "stdout",
     "output_type": "stream",
     "text": [
      "\n",
      "Extract information related to signatures/variations...\n"
     ]
    },
    {
     "name": "stderr",
     "output_type": "stream",
     "text": [
      "Processing k-mers to extract information: 100%|██████████| 702/702 [00:49<00:00, 14.08it/s]\n"
     ]
    },
    {
     "name": "stdout",
     "output_type": "stream",
     "text": [
      "Execution time:  59.99745488166809\n",
      "Sample: 39.B1.W11.12_39.M1.W03.13_39.M1.W05.14 (Comparison_1: 16-mers)\n",
      "\n",
      "KEVOLVE: extraction mode\n",
      "\n",
      "Load sequences...\n",
      "Count k-mers...\n",
      "Generate matrices...\n",
      "Preprocessing...\n",
      "Solution search...\n",
      "\n",
      "Iteration: 1 | Attempt(s): 1 / 1\n",
      "Mean weighted score 0.921 Max weighted score 1.0 Mean unweighted score 0.911 Max unweighted score 1.0\n",
      "Number of genes : 1\n",
      "\n",
      "Identified solutions (690) saved at : data/comparisons/39.B1.W11.12_39.M1.W03.13_39.M1.W05.14/Comparison_1/16\n",
      "Execution time:  144.25910472869873\n",
      "\n",
      "KEVOLVE: motif analyzer mode\n",
      "\n",
      "\n",
      "Identifying perfect matches...\n",
      "\n",
      "Identifying variations...\n"
     ]
    },
    {
     "name": "stderr",
     "output_type": "stream",
     "text": [
      "Processing k-mers: 100%|██████████| 690/690 [00:00<00:00, 6983.62it/s]\n",
      "Processing k-mers for variations: 100%|██████████| 690/690 [00:10<00:00, 65.39it/s]\n"
     ]
    },
    {
     "name": "stdout",
     "output_type": "stream",
     "text": [
      "\n",
      "Extract information related to signatures/variations...\n"
     ]
    },
    {
     "name": "stderr",
     "output_type": "stream",
     "text": [
      "Processing k-mers to extract information: 100%|██████████| 690/690 [00:55<00:00, 12.44it/s]\n"
     ]
    },
    {
     "name": "stdout",
     "output_type": "stream",
     "text": [
      "Execution time:  66.12389254570007\n",
      "Sample: 39.B1.W11.12_39.M1.W03.13_39.M1.W05.14 (Comparison_1: 17-mers)\n",
      "\n",
      "KEVOLVE: extraction mode\n",
      "\n",
      "Load sequences...\n",
      "Count k-mers...\n",
      "Generate matrices...\n",
      "Preprocessing...\n",
      "Solution search...\n",
      "\n",
      "Iteration: 1 | Attempt(s): 1 / 1\n",
      "Mean weighted score 0.919 Max weighted score 1.0 Mean unweighted score 0.909 Max unweighted score 1.0\n",
      "Number of genes : 1\n",
      "\n",
      "Identified solutions (677) saved at : data/comparisons/39.B1.W11.12_39.M1.W03.13_39.M1.W05.14/Comparison_1/17\n",
      "Execution time:  144.44501781463623\n",
      "\n",
      "KEVOLVE: motif analyzer mode\n",
      "\n",
      "\n",
      "Identifying perfect matches...\n",
      "\n",
      "Identifying variations...\n"
     ]
    },
    {
     "name": "stderr",
     "output_type": "stream",
     "text": [
      "Processing k-mers: 100%|██████████| 677/677 [00:00<00:00, 7011.77it/s]\n",
      "Processing k-mers for variations: 100%|██████████| 677/677 [00:10<00:00, 62.42it/s]\n",
      "Processing k-mers to extract information:   0%|          | 0/677 [00:00<?, ?it/s]"
     ]
    },
    {
     "name": "stdout",
     "output_type": "stream",
     "text": [
      "\n",
      "Extract information related to signatures/variations...\n"
     ]
    },
    {
     "name": "stderr",
     "output_type": "stream",
     "text": [
      "Processing k-mers to extract information: 100%|██████████| 677/677 [00:54<00:00, 12.40it/s]\n"
     ]
    },
    {
     "name": "stdout",
     "output_type": "stream",
     "text": [
      "Execution time:  65.57483410835266\n",
      "Sample: 39.B1.W11.12_39.M1.W03.13_39.M1.W05.14 (Comparison_1: 18-mers)\n",
      "\n",
      "KEVOLVE: extraction mode\n",
      "\n",
      "Load sequences...\n",
      "Count k-mers...\n",
      "Generate matrices...\n",
      "Preprocessing...\n",
      "Solution search...\n",
      "\n",
      "Iteration: 1 | Attempt(s): 1 / 1\n",
      "Mean weighted score 0.918 Max weighted score 1.0 Mean unweighted score 0.908 Max unweighted score 1.0\n",
      "Number of genes : 1\n",
      "\n",
      "Identified solutions (664) saved at : data/comparisons/39.B1.W11.12_39.M1.W03.13_39.M1.W05.14/Comparison_1/18\n",
      "Execution time:  144.4246907234192\n",
      "\n",
      "KEVOLVE: motif analyzer mode\n",
      "\n",
      "\n",
      "Identifying perfect matches...\n",
      "\n",
      "Identifying variations...\n"
     ]
    },
    {
     "name": "stderr",
     "output_type": "stream",
     "text": [
      "Processing k-mers: 100%|██████████| 664/664 [00:00<00:00, 6908.09it/s]\n",
      "Processing k-mers for variations: 100%|██████████| 664/664 [00:11<00:00, 59.30it/s]\n",
      "Processing k-mers to extract information:   0%|          | 1/664 [00:00<01:50,  6.03it/s]"
     ]
    },
    {
     "name": "stdout",
     "output_type": "stream",
     "text": [
      "\n",
      "Extract information related to signatures/variations...\n"
     ]
    },
    {
     "name": "stderr",
     "output_type": "stream",
     "text": [
      "Processing k-mers to extract information: 100%|██████████| 664/664 [00:51<00:00, 12.94it/s]\n"
     ]
    },
    {
     "name": "stdout",
     "output_type": "stream",
     "text": [
      "Execution time:  62.64532923698425\n",
      "Sample: 39.B1.W11.12_39.M1.W03.13_39.M1.W05.14 (Comparison_1: 19-mers)\n",
      "\n",
      "KEVOLVE: extraction mode\n",
      "\n",
      "Load sequences...\n",
      "Count k-mers...\n",
      "Generate matrices...\n",
      "Preprocessing...\n",
      "Solution search...\n",
      "\n",
      "Iteration: 1 | Attempt(s): 1 / 1\n",
      "Mean weighted score 0.915 Max weighted score 1.0 Mean unweighted score 0.905 Max unweighted score 1.0\n",
      "Number of genes : 1\n",
      "\n",
      "Identified solutions (650) saved at : data/comparisons/39.B1.W11.12_39.M1.W03.13_39.M1.W05.14/Comparison_1/19\n",
      "Execution time:  144.30064964294434\n",
      "\n",
      "KEVOLVE: motif analyzer mode\n",
      "\n",
      "\n",
      "Identifying perfect matches...\n",
      "\n",
      "Identifying variations...\n"
     ]
    },
    {
     "name": "stderr",
     "output_type": "stream",
     "text": [
      "Processing k-mers: 100%|██████████| 650/650 [00:00<00:00, 6877.75it/s]\n",
      "Processing k-mers for variations: 100%|██████████| 650/650 [00:11<00:00, 56.95it/s]\n",
      "Processing k-mers to extract information:   0%|          | 0/650 [00:00<?, ?it/s]"
     ]
    },
    {
     "name": "stdout",
     "output_type": "stream",
     "text": [
      "\n",
      "Extract information related to signatures/variations...\n"
     ]
    },
    {
     "name": "stderr",
     "output_type": "stream",
     "text": [
      "Processing k-mers to extract information: 100%|██████████| 650/650 [00:51<00:00, 12.61it/s]\n"
     ]
    },
    {
     "name": "stdout",
     "output_type": "stream",
     "text": [
      "Execution time:  63.07956099510193\n",
      "Sample: 39.B1.W11.12_39.M1.W03.13_39.M1.W05.14 (Comparison_1: 20-mers)\n",
      "\n",
      "KEVOLVE: extraction mode\n",
      "\n",
      "Load sequences...\n",
      "Count k-mers...\n",
      "Generate matrices...\n",
      "Preprocessing...\n",
      "Solution search...\n",
      "\n",
      "Iteration: 1 | Attempt(s): 1 / 1\n",
      "Mean weighted score 0.916 Max weighted score 1.0 Mean unweighted score 0.905 Max unweighted score 1.0\n",
      "Number of genes : 1\n",
      "\n",
      "Identified solutions (637) saved at : data/comparisons/39.B1.W11.12_39.M1.W03.13_39.M1.W05.14/Comparison_1/20\n",
      "Execution time:  144.76359105110168\n",
      "\n",
      "KEVOLVE: motif analyzer mode\n",
      "\n",
      "\n",
      "Identifying perfect matches...\n",
      "\n",
      "Identifying variations...\n"
     ]
    },
    {
     "name": "stderr",
     "output_type": "stream",
     "text": [
      "Processing k-mers: 100%|██████████| 637/637 [00:00<00:00, 6685.16it/s]\n",
      "Processing k-mers for variations: 100%|██████████| 637/637 [00:11<00:00, 54.28it/s]\n",
      "Processing k-mers to extract information:   0%|          | 0/637 [00:00<?, ?it/s]"
     ]
    },
    {
     "name": "stdout",
     "output_type": "stream",
     "text": [
      "\n",
      "Extract information related to signatures/variations...\n"
     ]
    },
    {
     "name": "stderr",
     "output_type": "stream",
     "text": [
      "Processing k-mers to extract information: 100%|██████████| 637/637 [00:49<00:00, 12.87it/s]\n"
     ]
    },
    {
     "name": "stdout",
     "output_type": "stream",
     "text": [
      "Execution time:  61.339786529541016\n",
      "Sample: 39.B1.W11.12_39.M1.W03.13_39.M1.W05.14 (Comparison_1: 21-mers)\n",
      "\n",
      "KEVOLVE: extraction mode\n",
      "\n",
      "Load sequences...\n",
      "Count k-mers...\n",
      "Generate matrices...\n",
      "Preprocessing...\n",
      "Solution search...\n",
      "\n",
      "Iteration: 1 | Attempt(s): 1 / 1\n",
      "Mean weighted score 0.917 Max weighted score 1.0 Mean unweighted score 0.907 Max unweighted score 1.0\n",
      "Number of genes : 1\n",
      "\n",
      "Identified solutions (625) saved at : data/comparisons/39.B1.W11.12_39.M1.W03.13_39.M1.W05.14/Comparison_1/21\n",
      "Execution time:  144.23632788658142\n",
      "\n",
      "KEVOLVE: motif analyzer mode\n",
      "\n",
      "\n",
      "Identifying perfect matches...\n",
      "\n",
      "Identifying variations...\n"
     ]
    },
    {
     "name": "stderr",
     "output_type": "stream",
     "text": [
      "Processing k-mers: 100%|██████████| 625/625 [00:00<00:00, 6801.83it/s]\n",
      "Processing k-mers for variations: 100%|██████████| 625/625 [00:12<00:00, 52.03it/s]\n",
      "Processing k-mers to extract information:   0%|          | 0/625 [00:00<?, ?it/s]"
     ]
    },
    {
     "name": "stdout",
     "output_type": "stream",
     "text": [
      "\n",
      "Extract information related to signatures/variations...\n"
     ]
    },
    {
     "name": "stderr",
     "output_type": "stream",
     "text": [
      "Processing k-mers to extract information: 100%|██████████| 625/625 [00:46<00:00, 13.41it/s]\n"
     ]
    },
    {
     "name": "stdout",
     "output_type": "stream",
     "text": [
      "Execution time:  58.72037744522095\n",
      "Sample: 39.B1.W11.12_39.M1.W03.13_39.M1.W05.14 (Comparison_4: 9-mers)\n",
      "\n",
      "KEVOLVE: extraction mode\n",
      "\n",
      "Load sequences...\n",
      "Count k-mers...\n",
      "Generate matrices...\n",
      "Preprocessing...\n",
      "Solution search...\n",
      "\n",
      "Iteration: 1 | Attempt(s): 1 / 1\n",
      "Mean weighted score 0.798 Max weighted score 1.0 Mean unweighted score 0.794 Max unweighted score 1.0\n",
      "Number of genes : 1\n",
      "\n",
      "Identified solutions (464) saved at : data/comparisons/39.B1.W11.12_39.M1.W03.13_39.M1.W05.14/Comparison_4/9\n",
      "Execution time:  144.62981390953064\n",
      "\n",
      "KEVOLVE: motif analyzer mode\n",
      "\n",
      "\n",
      "Identifying perfect matches...\n",
      "\n",
      "Identifying variations...\n"
     ]
    },
    {
     "name": "stderr",
     "output_type": "stream",
     "text": [
      "Processing k-mers: 100%|██████████| 464/464 [00:00<00:00, 7982.60it/s]\n",
      "Processing k-mers for variations: 100%|██████████| 464/464 [00:03<00:00, 122.88it/s]\n"
     ]
    },
    {
     "name": "stdout",
     "output_type": "stream",
     "text": [
      "\n",
      "Extract information related to signatures/variations...\n"
     ]
    },
    {
     "name": "stderr",
     "output_type": "stream",
     "text": [
      "Processing k-mers to extract information: 100%|██████████| 464/464 [01:55<00:00,  4.00it/s]\n"
     ]
    },
    {
     "name": "stdout",
     "output_type": "stream",
     "text": [
      "Execution time:  119.8116500377655\n",
      "Sample: 39.B1.W11.12_39.M1.W03.13_39.M1.W05.14 (Comparison_4: 10-mers)\n",
      "\n",
      "KEVOLVE: extraction mode\n",
      "\n",
      "Load sequences...\n",
      "Count k-mers...\n",
      "Generate matrices...\n",
      "Preprocessing...\n",
      "Solution search...\n",
      "\n",
      "Iteration: 1 | Attempt(s): 1 / 1\n",
      "Mean weighted score 0.798 Max weighted score 1.0 Mean unweighted score 0.793 Max unweighted score 1.0\n",
      "Number of genes : 1\n",
      "\n",
      "Identified solutions (479) saved at : data/comparisons/39.B1.W11.12_39.M1.W03.13_39.M1.W05.14/Comparison_4/10\n",
      "Execution time:  144.6017825603485\n",
      "\n",
      "KEVOLVE: motif analyzer mode\n",
      "\n",
      "\n",
      "Identifying perfect matches...\n",
      "\n",
      "Identifying variations...\n"
     ]
    },
    {
     "name": "stderr",
     "output_type": "stream",
     "text": [
      "Processing k-mers: 100%|██████████| 479/479 [00:00<00:00, 7924.33it/s]\n",
      "Processing k-mers for variations: 100%|██████████| 479/479 [00:04<00:00, 109.54it/s]\n",
      "Processing k-mers to extract information:   0%|          | 0/479 [00:00<?, ?it/s]"
     ]
    },
    {
     "name": "stdout",
     "output_type": "stream",
     "text": [
      "\n",
      "Extract information related to signatures/variations...\n"
     ]
    },
    {
     "name": "stderr",
     "output_type": "stream",
     "text": [
      "Processing k-mers to extract information: 100%|██████████| 479/479 [00:42<00:00, 11.27it/s]\n"
     ]
    },
    {
     "name": "stdout",
     "output_type": "stream",
     "text": [
      "Execution time:  46.94441199302673\n",
      "Sample: 39.B1.W11.12_39.M1.W03.13_39.M1.W05.14 (Comparison_4: 11-mers)\n",
      "\n",
      "KEVOLVE: extraction mode\n",
      "\n",
      "Load sequences...\n",
      "Count k-mers...\n",
      "Generate matrices...\n",
      "Preprocessing...\n",
      "Solution search...\n",
      "\n",
      "Iteration: 1 | Attempt(s): 1 / 1\n",
      "Mean weighted score 0.799 Max weighted score 1.0 Mean unweighted score 0.795 Max unweighted score 1.0\n",
      "Number of genes : 1\n",
      "\n",
      "Identified solutions (492) saved at : data/comparisons/39.B1.W11.12_39.M1.W03.13_39.M1.W05.14/Comparison_4/11\n",
      "Execution time:  144.1146810054779\n",
      "\n",
      "KEVOLVE: motif analyzer mode\n",
      "\n",
      "\n",
      "Identifying perfect matches...\n",
      "\n",
      "Identifying variations...\n"
     ]
    },
    {
     "name": "stderr",
     "output_type": "stream",
     "text": [
      "Processing k-mers: 100%|██████████| 492/492 [00:00<00:00, 8009.62it/s]\n",
      "Processing k-mers for variations: 100%|██████████| 492/492 [00:04<00:00, 99.88it/s] \n",
      "Processing k-mers to extract information:   0%|          | 0/492 [00:00<?, ?it/s]"
     ]
    },
    {
     "name": "stdout",
     "output_type": "stream",
     "text": [
      "\n",
      "Extract information related to signatures/variations...\n"
     ]
    },
    {
     "name": "stderr",
     "output_type": "stream",
     "text": [
      "Processing k-mers to extract information: 100%|██████████| 492/492 [00:35<00:00, 13.80it/s]\n"
     ]
    },
    {
     "name": "stdout",
     "output_type": "stream",
     "text": [
      "Execution time:  40.65766453742981\n",
      "Sample: 39.B1.W11.12_39.M1.W03.13_39.M1.W05.14 (Comparison_4: 12-mers)\n",
      "\n",
      "KEVOLVE: extraction mode\n",
      "\n",
      "Load sequences...\n",
      "Count k-mers...\n",
      "Generate matrices...\n",
      "Preprocessing...\n",
      "Solution search...\n",
      "\n",
      "Iteration: 1 | Attempt(s): 1 / 1\n",
      "Mean weighted score 0.799 Max weighted score 1.0 Mean unweighted score 0.794 Max unweighted score 1.0\n",
      "Number of genes : 1\n",
      "\n",
      "Identified solutions (500) saved at : data/comparisons/39.B1.W11.12_39.M1.W03.13_39.M1.W05.14/Comparison_4/12\n",
      "Execution time:  144.31774425506592\n",
      "\n",
      "KEVOLVE: motif analyzer mode\n",
      "\n",
      "\n",
      "Identifying perfect matches...\n",
      "\n",
      "Identifying variations...\n"
     ]
    },
    {
     "name": "stderr",
     "output_type": "stream",
     "text": [
      "Processing k-mers: 100%|██████████| 500/500 [00:00<00:00, 7830.98it/s]\n",
      "Processing k-mers for variations: 100%|██████████| 500/500 [00:05<00:00, 90.48it/s]\n",
      "Processing k-mers to extract information:   0%|          | 0/500 [00:00<?, ?it/s]"
     ]
    },
    {
     "name": "stdout",
     "output_type": "stream",
     "text": [
      "\n",
      "Extract information related to signatures/variations...\n"
     ]
    },
    {
     "name": "stderr",
     "output_type": "stream",
     "text": [
      "Processing k-mers to extract information: 100%|██████████| 500/500 [00:27<00:00, 18.05it/s]\n"
     ]
    },
    {
     "name": "stdout",
     "output_type": "stream",
     "text": [
      "Execution time:  33.32142734527588\n",
      "Sample: 39.B1.W11.12_39.M1.W03.13_39.M1.W05.14 (Comparison_4: 13-mers)\n",
      "\n",
      "KEVOLVE: extraction mode\n",
      "\n",
      "Load sequences...\n",
      "Count k-mers...\n",
      "Generate matrices...\n",
      "Preprocessing...\n",
      "Solution search...\n",
      "\n",
      "Iteration: 1 | Attempt(s): 1 / 1\n",
      "Mean weighted score 0.796 Max weighted score 1.0 Mean unweighted score 0.791 Max unweighted score 1.0\n",
      "Number of genes : 1\n",
      "\n",
      "Identified solutions (498) saved at : data/comparisons/39.B1.W11.12_39.M1.W03.13_39.M1.W05.14/Comparison_4/13\n",
      "Execution time:  144.3331422805786\n",
      "\n",
      "KEVOLVE: motif analyzer mode\n",
      "\n",
      "\n",
      "Identifying perfect matches...\n",
      "\n",
      "Identifying variations...\n"
     ]
    },
    {
     "name": "stderr",
     "output_type": "stream",
     "text": [
      "Processing k-mers: 100%|██████████| 498/498 [00:00<00:00, 7642.81it/s]\n",
      "Processing k-mers for variations: 100%|██████████| 498/498 [00:05<00:00, 84.74it/s]\n",
      "Processing k-mers to extract information:   0%|          | 0/498 [00:00<?, ?it/s]"
     ]
    },
    {
     "name": "stdout",
     "output_type": "stream",
     "text": [
      "\n",
      "Extract information related to signatures/variations...\n"
     ]
    },
    {
     "name": "stderr",
     "output_type": "stream",
     "text": [
      "Processing k-mers to extract information: 100%|██████████| 498/498 [00:23<00:00, 21.08it/s]\n"
     ]
    },
    {
     "name": "stdout",
     "output_type": "stream",
     "text": [
      "Execution time:  29.596823692321777\n",
      "Sample: 39.B1.W11.12_39.M1.W03.13_39.M1.W05.14 (Comparison_4: 14-mers)\n",
      "\n",
      "KEVOLVE: extraction mode\n",
      "\n",
      "Load sequences...\n",
      "Count k-mers...\n",
      "Generate matrices...\n",
      "Preprocessing...\n",
      "Solution search...\n",
      "\n",
      "Iteration: 1 | Attempt(s): 1 / 1\n",
      "Mean weighted score 0.798 Max weighted score 1.0 Mean unweighted score 0.793 Max unweighted score 1.0\n",
      "Number of genes : 1\n",
      "\n",
      "Identified solutions (495) saved at : data/comparisons/39.B1.W11.12_39.M1.W03.13_39.M1.W05.14/Comparison_4/14\n",
      "Execution time:  144.59015107154846\n",
      "\n",
      "KEVOLVE: motif analyzer mode\n",
      "\n",
      "\n",
      "Identifying perfect matches...\n",
      "\n",
      "Identifying variations...\n"
     ]
    },
    {
     "name": "stderr",
     "output_type": "stream",
     "text": [
      "Processing k-mers: 100%|██████████| 495/495 [00:00<00:00, 7813.00it/s]\n",
      "Processing k-mers for variations: 100%|██████████| 495/495 [00:06<00:00, 78.58it/s]\n",
      "Processing k-mers to extract information:   0%|          | 0/495 [00:00<?, ?it/s]"
     ]
    },
    {
     "name": "stdout",
     "output_type": "stream",
     "text": [
      "\n",
      "Extract information related to signatures/variations...\n"
     ]
    },
    {
     "name": "stderr",
     "output_type": "stream",
     "text": [
      "Processing k-mers to extract information: 100%|██████████| 495/495 [00:24<00:00, 20.18it/s]\n"
     ]
    },
    {
     "name": "stdout",
     "output_type": "stream",
     "text": [
      "Execution time:  30.915262937545776\n",
      "Sample: 39.B1.W11.12_39.M1.W03.13_39.M1.W05.14 (Comparison_4: 15-mers)\n",
      "\n",
      "KEVOLVE: extraction mode\n",
      "\n",
      "Load sequences...\n",
      "Count k-mers...\n",
      "Generate matrices...\n",
      "Preprocessing...\n",
      "Solution search...\n",
      "\n",
      "Iteration: 1 | Attempt(s): 1 / 1\n",
      "Mean weighted score 0.795 Max weighted score 1.0 Mean unweighted score 0.789 Max unweighted score 1.0\n",
      "Number of genes : 1\n",
      "\n",
      "Identified solutions (494) saved at : data/comparisons/39.B1.W11.12_39.M1.W03.13_39.M1.W05.14/Comparison_4/15\n",
      "Execution time:  144.31645369529724\n",
      "\n",
      "KEVOLVE: motif analyzer mode\n",
      "\n",
      "\n",
      "Identifying perfect matches...\n",
      "\n",
      "Identifying variations...\n"
     ]
    },
    {
     "name": "stderr",
     "output_type": "stream",
     "text": [
      "Processing k-mers: 100%|██████████| 494/494 [00:00<00:00, 7679.54it/s]\n",
      "Processing k-mers for variations: 100%|██████████| 494/494 [00:06<00:00, 73.03it/s]\n",
      "Processing k-mers to extract information:   0%|          | 0/494 [00:00<?, ?it/s]"
     ]
    },
    {
     "name": "stdout",
     "output_type": "stream",
     "text": [
      "\n",
      "Extract information related to signatures/variations...\n"
     ]
    },
    {
     "name": "stderr",
     "output_type": "stream",
     "text": [
      "Processing k-mers to extract information: 100%|██████████| 494/494 [00:21<00:00, 22.75it/s]\n"
     ]
    },
    {
     "name": "stdout",
     "output_type": "stream",
     "text": [
      "Execution time:  28.57004404067993\n",
      "Sample: 39.B1.W11.12_39.M1.W03.13_39.M1.W05.14 (Comparison_4: 16-mers)\n",
      "\n",
      "KEVOLVE: extraction mode\n",
      "\n",
      "Load sequences...\n",
      "Count k-mers...\n",
      "Generate matrices...\n",
      "Preprocessing...\n",
      "Solution search...\n",
      "\n",
      "Iteration: 1 | Attempt(s): 1 / 1\n",
      "Mean weighted score 0.797 Max weighted score 1.0 Mean unweighted score 0.791 Max unweighted score 1.0\n",
      "Number of genes : 1\n",
      "\n",
      "Identified solutions (486) saved at : data/comparisons/39.B1.W11.12_39.M1.W03.13_39.M1.W05.14/Comparison_4/16\n",
      "Execution time:  144.50879740715027\n",
      "\n",
      "KEVOLVE: motif analyzer mode\n",
      "\n",
      "\n",
      "Identifying perfect matches...\n",
      "\n",
      "Identifying variations...\n"
     ]
    },
    {
     "name": "stderr",
     "output_type": "stream",
     "text": [
      "Processing k-mers: 100%|██████████| 486/486 [00:00<00:00, 7729.24it/s]\n",
      "Processing k-mers for variations: 100%|██████████| 486/486 [00:07<00:00, 68.44it/s]\n"
     ]
    },
    {
     "name": "stdout",
     "output_type": "stream",
     "text": [
      "\n",
      "Extract information related to signatures/variations...\n"
     ]
    },
    {
     "name": "stderr",
     "output_type": "stream",
     "text": [
      "Processing k-mers to extract information: 100%|██████████| 486/486 [00:27<00:00, 17.63it/s]\n"
     ]
    },
    {
     "name": "stdout",
     "output_type": "stream",
     "text": [
      "Execution time:  34.75680756568909\n",
      "Sample: 39.B1.W11.12_39.M1.W03.13_39.M1.W05.14 (Comparison_4: 17-mers)\n",
      "\n",
      "KEVOLVE: extraction mode\n",
      "\n",
      "Load sequences...\n",
      "Count k-mers...\n",
      "Generate matrices...\n",
      "Preprocessing...\n",
      "Solution search...\n",
      "\n",
      "Iteration: 1 | Attempt(s): 1 / 1\n",
      "Mean weighted score 0.792 Max weighted score 1.0 Mean unweighted score 0.785 Max unweighted score 1.0\n",
      "Number of genes : 1\n",
      "\n",
      "Identified solutions (479) saved at : data/comparisons/39.B1.W11.12_39.M1.W03.13_39.M1.W05.14/Comparison_4/17\n",
      "Execution time:  144.68457770347595\n",
      "\n",
      "KEVOLVE: motif analyzer mode\n",
      "\n",
      "\n",
      "Identifying perfect matches...\n",
      "\n",
      "Identifying variations...\n"
     ]
    },
    {
     "name": "stderr",
     "output_type": "stream",
     "text": [
      "Processing k-mers: 100%|██████████| 479/479 [00:00<00:00, 7538.08it/s]\n",
      "Processing k-mers for variations: 100%|██████████| 479/479 [00:07<00:00, 64.83it/s]\n",
      "Processing k-mers to extract information:   0%|          | 0/479 [00:00<?, ?it/s]"
     ]
    },
    {
     "name": "stdout",
     "output_type": "stream",
     "text": [
      "\n",
      "Extract information related to signatures/variations...\n"
     ]
    },
    {
     "name": "stderr",
     "output_type": "stream",
     "text": [
      "Processing k-mers to extract information: 100%|██████████| 479/479 [00:26<00:00, 18.10it/s]\n"
     ]
    },
    {
     "name": "stdout",
     "output_type": "stream",
     "text": [
      "Execution time:  33.94580316543579\n",
      "Sample: 39.B1.W11.12_39.M1.W03.13_39.M1.W05.14 (Comparison_4: 18-mers)\n",
      "\n",
      "KEVOLVE: extraction mode\n",
      "\n",
      "Load sequences...\n",
      "Count k-mers...\n",
      "Generate matrices...\n",
      "Preprocessing...\n",
      "Solution search...\n",
      "\n",
      "Iteration: 1 | Attempt(s): 1 / 1\n",
      "Mean weighted score 0.792 Max weighted score 1.0 Mean unweighted score 0.785 Max unweighted score 1.0\n",
      "Number of genes : 1\n",
      "\n",
      "Identified solutions (472) saved at : data/comparisons/39.B1.W11.12_39.M1.W03.13_39.M1.W05.14/Comparison_4/18\n",
      "Execution time:  144.11052346229553\n",
      "\n",
      "KEVOLVE: motif analyzer mode\n",
      "\n",
      "\n",
      "Identifying perfect matches...\n",
      "\n",
      "Identifying variations...\n"
     ]
    },
    {
     "name": "stderr",
     "output_type": "stream",
     "text": [
      "Processing k-mers: 100%|██████████| 472/472 [00:00<00:00, 7512.57it/s]\n",
      "Processing k-mers for variations: 100%|██████████| 472/472 [00:07<00:00, 60.87it/s]\n",
      "Processing k-mers to extract information:   0%|          | 1/472 [00:00<00:51,  9.09it/s]"
     ]
    },
    {
     "name": "stdout",
     "output_type": "stream",
     "text": [
      "\n",
      "Extract information related to signatures/variations...\n"
     ]
    },
    {
     "name": "stderr",
     "output_type": "stream",
     "text": [
      "Processing k-mers to extract information: 100%|██████████| 472/472 [00:24<00:00, 18.93it/s]\n"
     ]
    },
    {
     "name": "stdout",
     "output_type": "stream",
     "text": [
      "Execution time:  32.77088713645935\n",
      "Sample: 39.B1.W11.12_39.M1.W03.13_39.M1.W05.14 (Comparison_4: 19-mers)\n",
      "\n",
      "KEVOLVE: extraction mode\n",
      "\n",
      "Load sequences...\n",
      "Count k-mers...\n",
      "Generate matrices...\n",
      "Preprocessing...\n",
      "Solution search...\n",
      "\n",
      "Iteration: 1 | Attempt(s): 1 / 1\n",
      "Mean weighted score 0.789 Max weighted score 1.0 Mean unweighted score 0.781 Max unweighted score 1.0\n",
      "Number of genes : 1\n",
      "\n",
      "Identified solutions (464) saved at : data/comparisons/39.B1.W11.12_39.M1.W03.13_39.M1.W05.14/Comparison_4/19\n",
      "Execution time:  144.3582592010498\n",
      "\n",
      "KEVOLVE: motif analyzer mode\n",
      "\n",
      "\n",
      "Identifying perfect matches...\n",
      "\n",
      "Identifying variations...\n"
     ]
    },
    {
     "name": "stderr",
     "output_type": "stream",
     "text": [
      "Processing k-mers: 100%|██████████| 464/464 [00:00<00:00, 7710.67it/s]\n",
      "Processing k-mers for variations: 100%|██████████| 464/464 [00:08<00:00, 57.96it/s]\n",
      "Processing k-mers to extract information:   0%|          | 0/464 [00:00<?, ?it/s]"
     ]
    },
    {
     "name": "stdout",
     "output_type": "stream",
     "text": [
      "\n",
      "Extract information related to signatures/variations...\n"
     ]
    },
    {
     "name": "stderr",
     "output_type": "stream",
     "text": [
      "Processing k-mers to extract information: 100%|██████████| 464/464 [00:25<00:00, 18.41it/s]\n"
     ]
    },
    {
     "name": "stdout",
     "output_type": "stream",
     "text": [
      "Execution time:  33.29394555091858\n",
      "Sample: 39.B1.W11.12_39.M1.W03.13_39.M1.W05.14 (Comparison_4: 20-mers)\n",
      "\n",
      "KEVOLVE: extraction mode\n",
      "\n",
      "Load sequences...\n",
      "Count k-mers...\n",
      "Generate matrices...\n",
      "Preprocessing...\n",
      "Solution search...\n",
      "\n",
      "Iteration: 1 | Attempt(s): 1 / 1\n",
      "Mean weighted score 0.793 Max weighted score 1.0 Mean unweighted score 0.785 Max unweighted score 1.0\n",
      "Number of genes : 1\n",
      "\n",
      "Identified solutions (456) saved at : data/comparisons/39.B1.W11.12_39.M1.W03.13_39.M1.W05.14/Comparison_4/20\n",
      "Execution time:  144.59552311897278\n",
      "\n",
      "KEVOLVE: motif analyzer mode\n",
      "\n",
      "\n",
      "Identifying perfect matches...\n",
      "\n",
      "Identifying variations...\n"
     ]
    },
    {
     "name": "stderr",
     "output_type": "stream",
     "text": [
      "Processing k-mers: 100%|██████████| 456/456 [00:00<00:00, 7595.09it/s]\n",
      "Processing k-mers for variations: 100%|██████████| 456/456 [00:08<00:00, 54.79it/s]\n",
      "Processing k-mers to extract information:   0%|          | 1/456 [00:00<00:59,  7.60it/s]"
     ]
    },
    {
     "name": "stdout",
     "output_type": "stream",
     "text": [
      "\n",
      "Extract information related to signatures/variations...\n"
     ]
    },
    {
     "name": "stderr",
     "output_type": "stream",
     "text": [
      "Processing k-mers to extract information: 100%|██████████| 456/456 [00:24<00:00, 18.64it/s]\n"
     ]
    },
    {
     "name": "stdout",
     "output_type": "stream",
     "text": [
      "Execution time:  32.87550354003906\n",
      "Sample: 39.B1.W11.12_39.M1.W03.13_39.M1.W05.14 (Comparison_4: 21-mers)\n",
      "\n",
      "KEVOLVE: extraction mode\n",
      "\n",
      "Load sequences...\n",
      "Count k-mers...\n",
      "Generate matrices...\n",
      "Preprocessing...\n",
      "Solution search...\n",
      "\n",
      "Iteration: 1 | Attempt(s): 1 / 1\n",
      "Mean weighted score 0.787 Max weighted score 1.0 Mean unweighted score 0.779 Max unweighted score 1.0\n",
      "Number of genes : 1\n",
      "\n",
      "Identified solutions (449) saved at : data/comparisons/39.B1.W11.12_39.M1.W03.13_39.M1.W05.14/Comparison_4/21\n",
      "Execution time:  144.56175565719604\n",
      "\n",
      "KEVOLVE: motif analyzer mode\n",
      "\n",
      "\n",
      "Identifying perfect matches...\n",
      "\n",
      "Identifying variations...\n"
     ]
    },
    {
     "name": "stderr",
     "output_type": "stream",
     "text": [
      "Processing k-mers: 100%|██████████| 449/449 [00:00<00:00, 7760.19it/s]\n",
      "Processing k-mers for variations: 100%|██████████| 449/449 [00:08<00:00, 52.63it/s]\n",
      "Processing k-mers to extract information:   0%|          | 0/449 [00:00<?, ?it/s]"
     ]
    },
    {
     "name": "stdout",
     "output_type": "stream",
     "text": [
      "\n",
      "Extract information related to signatures/variations...\n"
     ]
    },
    {
     "name": "stderr",
     "output_type": "stream",
     "text": [
      "Processing k-mers to extract information: 100%|██████████| 449/449 [00:22<00:00, 20.22it/s]\n"
     ]
    },
    {
     "name": "stdout",
     "output_type": "stream",
     "text": [
      "Execution time:  30.816965341567993\n",
      "Sample: 39.B1.W11.12_39.M1.W03.13_39.M1.W05.14 (Comparison_5: 9-mers)\n",
      "\n",
      "KEVOLVE: extraction mode\n",
      "\n",
      "Load sequences...\n",
      "Count k-mers...\n",
      "Generate matrices...\n",
      "Preprocessing...\n",
      "Solution search...\n",
      "\n",
      "Iteration: 1 | Attempt(s): 1 / 1\n",
      "Mean weighted score 0.753 Max weighted score 1.0 Mean unweighted score 0.712 Max unweighted score 1.0\n",
      "Number of genes : 1\n",
      "\n",
      "Identified solutions (377) saved at : data/comparisons/39.B1.W11.12_39.M1.W03.13_39.M1.W05.14/Comparison_5/9\n",
      "Execution time:  144.81249952316284\n",
      "\n",
      "KEVOLVE: motif analyzer mode\n",
      "\n",
      "\n",
      "Identifying perfect matches...\n",
      "\n",
      "Identifying variations...\n"
     ]
    },
    {
     "name": "stderr",
     "output_type": "stream",
     "text": [
      "Processing k-mers: 100%|██████████| 377/377 [00:00<00:00, 7200.80it/s]\n",
      "Processing k-mers for variations: 100%|██████████| 377/377 [00:03<00:00, 96.15it/s]\n",
      "Processing k-mers to extract information:   0%|          | 0/377 [00:00<?, ?it/s]"
     ]
    },
    {
     "name": "stdout",
     "output_type": "stream",
     "text": [
      "\n",
      "Extract information related to signatures/variations...\n"
     ]
    },
    {
     "name": "stderr",
     "output_type": "stream",
     "text": [
      "Processing k-mers to extract information: 100%|██████████| 377/377 [01:42<00:00,  3.68it/s]\n"
     ]
    },
    {
     "name": "stdout",
     "output_type": "stream",
     "text": [
      "Execution time:  106.32335376739502\n",
      "Sample: 39.B1.W11.12_39.M1.W03.13_39.M1.W05.14 (Comparison_5: 10-mers)\n",
      "\n",
      "KEVOLVE: extraction mode\n",
      "\n",
      "Load sequences...\n",
      "Count k-mers...\n",
      "Generate matrices...\n",
      "Preprocessing...\n",
      "Solution search...\n",
      "\n",
      "Iteration: 1 | Attempt(s): 1 / 1\n",
      "Mean weighted score 0.753 Max weighted score 1.0 Mean unweighted score 0.712 Max unweighted score 1.0\n",
      "Number of genes : 1\n",
      "\n",
      "Identified solutions (394) saved at : data/comparisons/39.B1.W11.12_39.M1.W03.13_39.M1.W05.14/Comparison_5/10\n",
      "Execution time:  144.54855847358704\n",
      "\n",
      "KEVOLVE: motif analyzer mode\n",
      "\n",
      "\n",
      "Identifying perfect matches...\n",
      "\n",
      "Identifying variations...\n"
     ]
    },
    {
     "name": "stderr",
     "output_type": "stream",
     "text": [
      "Processing k-mers: 100%|██████████| 394/394 [00:00<00:00, 6917.21it/s]\n",
      "Processing k-mers for variations: 100%|██████████| 394/394 [00:04<00:00, 86.26it/s]\n",
      "Processing k-mers to extract information:   0%|          | 0/394 [00:00<?, ?it/s]"
     ]
    },
    {
     "name": "stdout",
     "output_type": "stream",
     "text": [
      "\n",
      "Extract information related to signatures/variations...\n"
     ]
    },
    {
     "name": "stderr",
     "output_type": "stream",
     "text": [
      "Processing k-mers to extract information: 100%|██████████| 394/394 [00:33<00:00, 11.82it/s]\n"
     ]
    },
    {
     "name": "stdout",
     "output_type": "stream",
     "text": [
      "Execution time:  37.979583740234375\n",
      "Sample: 39.B1.W11.12_39.M1.W03.13_39.M1.W05.14 (Comparison_5: 11-mers)\n",
      "\n",
      "KEVOLVE: extraction mode\n",
      "\n",
      "Load sequences...\n",
      "Count k-mers...\n",
      "Generate matrices...\n",
      "Preprocessing...\n",
      "Solution search...\n",
      "\n",
      "Iteration: 1 | Attempt(s): 1 / 1\n",
      "Mean weighted score 0.759 Max weighted score 1.0 Mean unweighted score 0.719 Max unweighted score 1.0\n",
      "Number of genes : 1\n",
      "\n",
      "Identified solutions (408) saved at : data/comparisons/39.B1.W11.12_39.M1.W03.13_39.M1.W05.14/Comparison_5/11\n",
      "Execution time:  145.09668731689453\n",
      "\n",
      "KEVOLVE: motif analyzer mode\n",
      "\n",
      "\n",
      "Identifying perfect matches...\n",
      "\n",
      "Identifying variations...\n"
     ]
    },
    {
     "name": "stderr",
     "output_type": "stream",
     "text": [
      "Processing k-mers: 100%|██████████| 408/408 [00:00<00:00, 6945.06it/s]\n",
      "Processing k-mers for variations: 100%|██████████| 408/408 [00:05<00:00, 78.95it/s]\n"
     ]
    },
    {
     "name": "stdout",
     "output_type": "stream",
     "text": [
      "\n",
      "Extract information related to signatures/variations...\n"
     ]
    },
    {
     "name": "stderr",
     "output_type": "stream",
     "text": [
      "Processing k-mers to extract information: 100%|██████████| 408/408 [00:28<00:00, 14.09it/s]\n"
     ]
    },
    {
     "name": "stdout",
     "output_type": "stream",
     "text": [
      "Execution time:  34.20339107513428\n",
      "Sample: 39.B1.W11.12_39.M1.W03.13_39.M1.W05.14 (Comparison_5: 12-mers)\n",
      "\n",
      "KEVOLVE: extraction mode\n",
      "\n",
      "Load sequences...\n",
      "Count k-mers...\n",
      "Generate matrices...\n",
      "Preprocessing...\n",
      "Solution search...\n",
      "\n",
      "Iteration: 1 | Attempt(s): 1 / 1\n",
      "Mean weighted score 0.754 Max weighted score 1.0 Mean unweighted score 0.71 Max unweighted score 1.0\n",
      "Number of genes : 1\n",
      "\n",
      "Identified solutions (418) saved at : data/comparisons/39.B1.W11.12_39.M1.W03.13_39.M1.W05.14/Comparison_5/12\n",
      "Execution time:  144.49591255187988\n",
      "\n",
      "KEVOLVE: motif analyzer mode\n",
      "\n",
      "\n",
      "Identifying perfect matches...\n",
      "\n",
      "Identifying variations...\n"
     ]
    },
    {
     "name": "stderr",
     "output_type": "stream",
     "text": [
      "Processing k-mers: 100%|██████████| 418/418 [00:00<00:00, 6859.98it/s]\n",
      "Processing k-mers for variations: 100%|██████████| 418/418 [00:05<00:00, 72.37it/s]\n",
      "Processing k-mers to extract information:   0%|          | 0/418 [00:00<?, ?it/s]"
     ]
    },
    {
     "name": "stdout",
     "output_type": "stream",
     "text": [
      "\n",
      "Extract information related to signatures/variations...\n"
     ]
    },
    {
     "name": "stderr",
     "output_type": "stream",
     "text": [
      "Processing k-mers to extract information: 100%|██████████| 418/418 [00:21<00:00, 19.39it/s]\n"
     ]
    },
    {
     "name": "stdout",
     "output_type": "stream",
     "text": [
      "Execution time:  27.416071891784668\n",
      "Sample: 39.B1.W11.12_39.M1.W03.13_39.M1.W05.14 (Comparison_5: 13-mers)\n",
      "\n",
      "KEVOLVE: extraction mode\n",
      "\n",
      "Load sequences...\n",
      "Count k-mers...\n",
      "Generate matrices...\n",
      "Preprocessing...\n",
      "Solution search...\n",
      "\n",
      "Iteration: 1 | Attempt(s): 1 / 1\n",
      "Mean weighted score 0.76 Max weighted score 1.0 Mean unweighted score 0.718 Max unweighted score 1.0\n",
      "Number of genes : 1\n",
      "\n",
      "Identified solutions (424) saved at : data/comparisons/39.B1.W11.12_39.M1.W03.13_39.M1.W05.14/Comparison_5/13\n",
      "Execution time:  144.50903987884521\n",
      "\n",
      "KEVOLVE: motif analyzer mode\n",
      "\n",
      "\n",
      "Identifying perfect matches...\n",
      "\n",
      "Identifying variations...\n"
     ]
    },
    {
     "name": "stderr",
     "output_type": "stream",
     "text": [
      "Processing k-mers: 100%|██████████| 424/424 [00:00<00:00, 6970.97it/s]\n",
      "Processing k-mers for variations: 100%|██████████| 424/424 [00:06<00:00, 66.38it/s]\n",
      "Processing k-mers to extract information:   0%|          | 0/424 [00:00<?, ?it/s]"
     ]
    },
    {
     "name": "stdout",
     "output_type": "stream",
     "text": [
      "\n",
      "Extract information related to signatures/variations...\n"
     ]
    },
    {
     "name": "stderr",
     "output_type": "stream",
     "text": [
      "Processing k-mers to extract information: 100%|██████████| 424/424 [00:18<00:00, 22.80it/s]\n"
     ]
    },
    {
     "name": "stdout",
     "output_type": "stream",
     "text": [
      "Execution time:  25.069161415100098\n",
      "Sample: 39.B1.W11.12_39.M1.W03.13_39.M1.W05.14 (Comparison_5: 14-mers)\n",
      "\n",
      "KEVOLVE: extraction mode\n",
      "\n",
      "Load sequences...\n",
      "Count k-mers...\n",
      "Generate matrices...\n",
      "Preprocessing...\n",
      "Solution search...\n",
      "\n",
      "Iteration: 1 | Attempt(s): 1 / 1\n",
      "Mean weighted score 0.758 Max weighted score 1.0 Mean unweighted score 0.714 Max unweighted score 1.0\n",
      "Number of genes : 1\n",
      "\n",
      "Identified solutions (428) saved at : data/comparisons/39.B1.W11.12_39.M1.W03.13_39.M1.W05.14/Comparison_5/14\n",
      "Execution time:  144.344664812088\n",
      "\n",
      "KEVOLVE: motif analyzer mode\n",
      "\n",
      "\n",
      "Identifying perfect matches...\n",
      "\n",
      "Identifying variations...\n"
     ]
    },
    {
     "name": "stderr",
     "output_type": "stream",
     "text": [
      "Processing k-mers: 100%|██████████| 428/428 [00:00<00:00, 6893.49it/s]\n",
      "Processing k-mers for variations: 100%|██████████| 428/428 [00:06<00:00, 61.57it/s]\n",
      "Processing k-mers to extract information:   0%|          | 0/428 [00:00<?, ?it/s]"
     ]
    },
    {
     "name": "stdout",
     "output_type": "stream",
     "text": [
      "\n",
      "Extract information related to signatures/variations...\n"
     ]
    },
    {
     "name": "stderr",
     "output_type": "stream",
     "text": [
      "Processing k-mers to extract information: 100%|██████████| 428/428 [00:19<00:00, 22.21it/s]\n"
     ]
    },
    {
     "name": "stdout",
     "output_type": "stream",
     "text": [
      "Execution time:  26.306841611862183\n",
      "Sample: 39.B1.W11.12_39.M1.W03.13_39.M1.W05.14 (Comparison_5: 15-mers)\n",
      "\n",
      "KEVOLVE: extraction mode\n",
      "\n",
      "Load sequences...\n",
      "Count k-mers...\n",
      "Generate matrices...\n",
      "Preprocessing...\n",
      "Solution search...\n",
      "\n",
      "Iteration: 1 | Attempt(s): 1 / 1\n",
      "Mean weighted score 0.76 Max weighted score 1.0 Mean unweighted score 0.715 Max unweighted score 1.0\n",
      "Number of genes : 1\n",
      "\n",
      "Identified solutions (435) saved at : data/comparisons/39.B1.W11.12_39.M1.W03.13_39.M1.W05.14/Comparison_5/15\n",
      "Execution time:  145.17011070251465\n",
      "\n",
      "KEVOLVE: motif analyzer mode\n",
      "\n",
      "\n",
      "Identifying perfect matches...\n",
      "\n",
      "Identifying variations...\n"
     ]
    },
    {
     "name": "stderr",
     "output_type": "stream",
     "text": [
      "Processing k-mers: 100%|██████████| 435/435 [00:00<00:00, 6888.86it/s]\n",
      "Processing k-mers for variations: 100%|██████████| 435/435 [00:07<00:00, 57.63it/s]\n",
      "Processing k-mers to extract information:   0%|          | 0/435 [00:00<?, ?it/s]"
     ]
    },
    {
     "name": "stdout",
     "output_type": "stream",
     "text": [
      "\n",
      "Extract information related to signatures/variations...\n"
     ]
    },
    {
     "name": "stderr",
     "output_type": "stream",
     "text": [
      "Processing k-mers to extract information: 100%|██████████| 435/435 [00:19<00:00, 22.84it/s]\n"
     ]
    },
    {
     "name": "stdout",
     "output_type": "stream",
     "text": [
      "Execution time:  26.679080486297607\n",
      "Sample: 39.B1.W11.12_39.M1.W03.13_39.M1.W05.14 (Comparison_5: 16-mers)\n",
      "\n",
      "KEVOLVE: extraction mode\n",
      "\n",
      "Load sequences...\n",
      "Count k-mers...\n",
      "Generate matrices...\n",
      "Preprocessing...\n",
      "Solution search...\n",
      "\n",
      "Iteration: 1 | Attempt(s): 1 / 1\n",
      "Mean weighted score 0.731 Max weighted score 1.0 Mean unweighted score 0.678 Max unweighted score 1.0\n",
      "Number of genes : 1\n",
      "\n",
      "Identified solutions (433) saved at : data/comparisons/39.B1.W11.12_39.M1.W03.13_39.M1.W05.14/Comparison_5/16\n",
      "Execution time:  144.65354442596436\n",
      "\n",
      "KEVOLVE: motif analyzer mode\n",
      "\n",
      "\n",
      "Identifying perfect matches...\n",
      "\n",
      "Identifying variations...\n"
     ]
    },
    {
     "name": "stderr",
     "output_type": "stream",
     "text": [
      "Processing k-mers: 100%|██████████| 433/433 [00:00<00:00, 6861.91it/s]\n",
      "Processing k-mers for variations: 100%|██████████| 433/433 [00:08<00:00, 53.91it/s]\n",
      "Processing k-mers to extract information:   0%|          | 0/433 [00:00<?, ?it/s]"
     ]
    },
    {
     "name": "stdout",
     "output_type": "stream",
     "text": [
      "\n",
      "Extract information related to signatures/variations...\n"
     ]
    },
    {
     "name": "stderr",
     "output_type": "stream",
     "text": [
      "Processing k-mers to extract information: 100%|██████████| 433/433 [00:25<00:00, 17.02it/s]\n"
     ]
    },
    {
     "name": "stdout",
     "output_type": "stream",
     "text": [
      "Execution time:  33.55658793449402\n",
      "Sample: 39.B1.W11.12_39.M1.W03.13_39.M1.W05.14 (Comparison_5: 17-mers)\n",
      "\n",
      "KEVOLVE: extraction mode\n",
      "\n",
      "Load sequences...\n",
      "Count k-mers...\n",
      "Generate matrices...\n",
      "Preprocessing...\n",
      "Solution search...\n",
      "\n",
      "Iteration: 1 | Attempt(s): 1 / 1\n",
      "Mean weighted score 0.725 Max weighted score 1.0 Mean unweighted score 0.671 Max unweighted score 1.0\n",
      "Number of genes : 1\n",
      "\n",
      "Identified solutions (428) saved at : data/comparisons/39.B1.W11.12_39.M1.W03.13_39.M1.W05.14/Comparison_5/17\n",
      "Execution time:  144.5326235294342\n",
      "\n",
      "KEVOLVE: motif analyzer mode\n",
      "\n",
      "\n",
      "Identifying perfect matches...\n",
      "\n",
      "Identifying variations...\n"
     ]
    },
    {
     "name": "stderr",
     "output_type": "stream",
     "text": [
      "Processing k-mers: 100%|██████████| 428/428 [00:00<00:00, 6932.28it/s]\n",
      "Processing k-mers for variations: 100%|██████████| 428/428 [00:08<00:00, 50.57it/s]\n",
      "Processing k-mers to extract information:   0%|          | 0/428 [00:00<?, ?it/s]"
     ]
    },
    {
     "name": "stdout",
     "output_type": "stream",
     "text": [
      "\n",
      "Extract information related to signatures/variations...\n"
     ]
    },
    {
     "name": "stderr",
     "output_type": "stream",
     "text": [
      "Processing k-mers to extract information: 100%|██████████| 428/428 [00:24<00:00, 17.83it/s]\n"
     ]
    },
    {
     "name": "stdout",
     "output_type": "stream",
     "text": [
      "Execution time:  32.5534291267395\n",
      "Sample: 39.B1.W11.12_39.M1.W03.13_39.M1.W05.14 (Comparison_5: 18-mers)\n",
      "\n",
      "KEVOLVE: extraction mode\n",
      "\n",
      "Load sequences...\n",
      "Count k-mers...\n",
      "Generate matrices...\n",
      "Preprocessing...\n",
      "Solution search...\n",
      "\n",
      "Iteration: 1 | Attempt(s): 1 / 1\n",
      "Mean weighted score 0.727 Max weighted score 1.0 Mean unweighted score 0.672 Max unweighted score 1.0\n",
      "Number of genes : 1\n",
      "\n",
      "Identified solutions (426) saved at : data/comparisons/39.B1.W11.12_39.M1.W03.13_39.M1.W05.14/Comparison_5/18\n",
      "Execution time:  145.43192601203918\n",
      "\n",
      "KEVOLVE: motif analyzer mode\n",
      "\n",
      "\n",
      "Identifying perfect matches...\n",
      "\n",
      "Identifying variations...\n"
     ]
    },
    {
     "name": "stderr",
     "output_type": "stream",
     "text": [
      "Processing k-mers: 100%|██████████| 426/426 [00:00<00:00, 6792.50it/s]\n",
      "Processing k-mers for variations: 100%|██████████| 426/426 [00:08<00:00, 47.74it/s]\n",
      "Processing k-mers to extract information:   1%|          | 4/426 [00:00<00:12, 33.83it/s]"
     ]
    },
    {
     "name": "stdout",
     "output_type": "stream",
     "text": [
      "\n",
      "Extract information related to signatures/variations...\n"
     ]
    },
    {
     "name": "stderr",
     "output_type": "stream",
     "text": [
      "Processing k-mers to extract information: 100%|██████████| 426/426 [00:22<00:00, 18.55it/s]\n"
     ]
    },
    {
     "name": "stdout",
     "output_type": "stream",
     "text": [
      "Execution time:  31.978785276412964\n",
      "Sample: 39.B1.W11.12_39.M1.W03.13_39.M1.W05.14 (Comparison_5: 19-mers)\n",
      "\n",
      "KEVOLVE: extraction mode\n",
      "\n",
      "Load sequences...\n",
      "Count k-mers...\n",
      "Generate matrices...\n",
      "Preprocessing...\n",
      "Solution search...\n",
      "\n",
      "Iteration: 1 | Attempt(s): 1 / 1\n",
      "Mean weighted score 0.726 Max weighted score 1.0 Mean unweighted score 0.671 Max unweighted score 1.0\n",
      "Number of genes : 1\n",
      "\n",
      "Identified solutions (424) saved at : data/comparisons/39.B1.W11.12_39.M1.W03.13_39.M1.W05.14/Comparison_5/19\n",
      "Execution time:  144.57787251472473\n",
      "\n",
      "KEVOLVE: motif analyzer mode\n",
      "\n",
      "\n",
      "Identifying perfect matches...\n",
      "\n",
      "Identifying variations...\n"
     ]
    },
    {
     "name": "stderr",
     "output_type": "stream",
     "text": [
      "Processing k-mers: 100%|██████████| 424/424 [00:00<00:00, 6769.15it/s]\n",
      "Processing k-mers for variations: 100%|██████████| 424/424 [00:09<00:00, 45.37it/s]\n",
      "Processing k-mers to extract information:   0%|          | 1/424 [00:00<01:08,  6.19it/s]"
     ]
    },
    {
     "name": "stdout",
     "output_type": "stream",
     "text": [
      "\n",
      "Extract information related to signatures/variations...\n"
     ]
    },
    {
     "name": "stderr",
     "output_type": "stream",
     "text": [
      "Processing k-mers to extract information: 100%|██████████| 424/424 [00:23<00:00, 17.89it/s]\n"
     ]
    },
    {
     "name": "stdout",
     "output_type": "stream",
     "text": [
      "Execution time:  33.13350439071655\n",
      "Sample: 39.B1.W11.12_39.M1.W03.13_39.M1.W05.14 (Comparison_5: 20-mers)\n",
      "\n",
      "KEVOLVE: extraction mode\n",
      "\n",
      "Load sequences...\n",
      "Count k-mers...\n",
      "Generate matrices...\n",
      "Preprocessing...\n",
      "Solution search...\n",
      "\n",
      "Iteration: 1 | Attempt(s): 1 / 1\n",
      "Mean weighted score 0.725 Max weighted score 1.0 Mean unweighted score 0.67 Max unweighted score 1.0\n",
      "Number of genes : 1\n",
      "\n",
      "Identified solutions (421) saved at : data/comparisons/39.B1.W11.12_39.M1.W03.13_39.M1.W05.14/Comparison_5/20\n",
      "Execution time:  145.03662395477295\n",
      "\n",
      "KEVOLVE: motif analyzer mode\n",
      "\n",
      "\n",
      "Identifying perfect matches...\n",
      "\n",
      "Identifying variations...\n"
     ]
    },
    {
     "name": "stderr",
     "output_type": "stream",
     "text": [
      "Processing k-mers: 100%|██████████| 421/421 [00:00<00:00, 6713.26it/s]\n",
      "Processing k-mers for variations: 100%|██████████| 421/421 [00:09<00:00, 43.45it/s]\n",
      "Processing k-mers to extract information:   0%|          | 2/421 [00:00<00:33, 12.58it/s]"
     ]
    },
    {
     "name": "stdout",
     "output_type": "stream",
     "text": [
      "\n",
      "Extract information related to signatures/variations...\n"
     ]
    },
    {
     "name": "stderr",
     "output_type": "stream",
     "text": [
      "Processing k-mers to extract information: 100%|██████████| 421/421 [00:23<00:00, 17.99it/s]\n"
     ]
    },
    {
     "name": "stdout",
     "output_type": "stream",
     "text": [
      "Execution time:  33.18285059928894\n",
      "Sample: 39.B1.W11.12_39.M1.W03.13_39.M1.W05.14 (Comparison_5: 21-mers)\n",
      "\n",
      "KEVOLVE: extraction mode\n",
      "\n",
      "Load sequences...\n",
      "Count k-mers...\n",
      "Generate matrices...\n",
      "Preprocessing...\n",
      "Solution search...\n",
      "\n",
      "Iteration: 1 | Attempt(s): 1 / 1\n",
      "Mean weighted score 0.727 Max weighted score 1.0 Mean unweighted score 0.672 Max unweighted score 1.0\n",
      "Number of genes : 1\n",
      "\n",
      "Identified solutions (418) saved at : data/comparisons/39.B1.W11.12_39.M1.W03.13_39.M1.W05.14/Comparison_5/21\n",
      "Execution time:  144.5064401626587\n",
      "\n",
      "KEVOLVE: motif analyzer mode\n",
      "\n",
      "\n",
      "Identifying perfect matches...\n",
      "\n",
      "Identifying variations...\n"
     ]
    },
    {
     "name": "stderr",
     "output_type": "stream",
     "text": [
      "Processing k-mers: 100%|██████████| 418/418 [00:00<00:00, 6954.85it/s]\n",
      "Processing k-mers for variations: 100%|██████████| 418/418 [00:10<00:00, 41.50it/s]\n"
     ]
    },
    {
     "name": "stdout",
     "output_type": "stream",
     "text": [
      "\n",
      "Extract information related to signatures/variations...\n"
     ]
    },
    {
     "name": "stderr",
     "output_type": "stream",
     "text": [
      "Processing k-mers to extract information: 100%|██████████| 418/418 [00:20<00:00, 19.96it/s]\n"
     ]
    },
    {
     "name": "stdout",
     "output_type": "stream",
     "text": [
      "Execution time:  31.093326330184937\n",
      "Sample: 39.B1.W11.12_39.M1.W03.13_39.M1.W05.14 (Comparison_2: 9-mers)\n",
      "\n",
      "KEVOLVE: extraction mode\n",
      "\n",
      "Load sequences...\n",
      "Count k-mers...\n",
      "Generate matrices...\n",
      "Preprocessing...\n",
      "Solution search...\n",
      "\n",
      "Iteration: 1 | Attempt(s): 1 / 1\n",
      "Mean weighted score 0.889 Max weighted score 1.0 Mean unweighted score 0.885 Max unweighted score 1.0\n",
      "Number of genes : 1\n",
      "\n",
      "Identified solutions (754) saved at : data/comparisons/39.B1.W11.12_39.M1.W03.13_39.M1.W05.14/Comparison_2/9\n",
      "Execution time:  144.43660378456116\n",
      "\n",
      "KEVOLVE: motif analyzer mode\n",
      "\n",
      "\n",
      "Identifying perfect matches...\n",
      "\n",
      "Identifying variations...\n"
     ]
    },
    {
     "name": "stderr",
     "output_type": "stream",
     "text": [
      "Processing k-mers: 100%|██████████| 754/754 [00:00<00:00, 7577.29it/s]\n",
      "Processing k-mers for variations: 100%|██████████| 754/754 [00:05<00:00, 125.75it/s]\n",
      "Processing k-mers to extract information:   0%|          | 0/754 [00:00<?, ?it/s]"
     ]
    },
    {
     "name": "stdout",
     "output_type": "stream",
     "text": [
      "\n",
      "Extract information related to signatures/variations...\n"
     ]
    },
    {
     "name": "stderr",
     "output_type": "stream",
     "text": [
      "Processing k-mers to extract information: 100%|██████████| 754/754 [03:39<00:00,  3.43it/s]\n"
     ]
    },
    {
     "name": "stdout",
     "output_type": "stream",
     "text": [
      "Execution time:  226.1113440990448\n",
      "Sample: 39.B1.W11.12_39.M1.W03.13_39.M1.W05.14 (Comparison_2: 10-mers)\n",
      "\n",
      "KEVOLVE: extraction mode\n",
      "\n",
      "Load sequences...\n",
      "Count k-mers...\n",
      "Generate matrices...\n",
      "Preprocessing...\n",
      "Solution search...\n",
      "\n",
      "Iteration: 1 | Attempt(s): 1 / 1\n",
      "Mean weighted score 0.892 Max weighted score 1.0 Mean unweighted score 0.888 Max unweighted score 1.0\n",
      "Number of genes : 1\n",
      "\n",
      "Identified solutions (766) saved at : data/comparisons/39.B1.W11.12_39.M1.W03.13_39.M1.W05.14/Comparison_2/10\n",
      "Execution time:  144.34191584587097\n",
      "\n",
      "KEVOLVE: motif analyzer mode\n",
      "\n",
      "\n",
      "Identifying perfect matches...\n",
      "\n",
      "Identifying variations...\n"
     ]
    },
    {
     "name": "stderr",
     "output_type": "stream",
     "text": [
      "Processing k-mers: 100%|██████████| 766/766 [00:00<00:00, 7647.46it/s]\n",
      "Processing k-mers for variations: 100%|██████████| 766/766 [00:06<00:00, 112.72it/s]\n",
      "Processing k-mers to extract information:   0%|          | 0/766 [00:00<?, ?it/s]"
     ]
    },
    {
     "name": "stdout",
     "output_type": "stream",
     "text": [
      "\n",
      "Extract information related to signatures/variations...\n"
     ]
    },
    {
     "name": "stderr",
     "output_type": "stream",
     "text": [
      "Processing k-mers to extract information: 100%|██████████| 766/766 [01:24<00:00,  9.06it/s]\n"
     ]
    },
    {
     "name": "stdout",
     "output_type": "stream",
     "text": [
      "Execution time:  91.50273060798645\n",
      "Sample: 39.B1.W11.12_39.M1.W03.13_39.M1.W05.14 (Comparison_2: 11-mers)\n",
      "\n",
      "KEVOLVE: extraction mode\n",
      "\n",
      "Load sequences...\n",
      "Count k-mers...\n",
      "Generate matrices...\n",
      "Preprocessing...\n",
      "Solution search...\n",
      "\n",
      "Iteration: 1 | Attempt(s): 1 / 1\n",
      "Mean weighted score 0.886 Max weighted score 1.0 Mean unweighted score 0.882 Max unweighted score 1.0\n",
      "Number of genes : 1\n",
      "\n",
      "Identified solutions (769) saved at : data/comparisons/39.B1.W11.12_39.M1.W03.13_39.M1.W05.14/Comparison_2/11\n",
      "Execution time:  144.57942271232605\n",
      "\n",
      "KEVOLVE: motif analyzer mode\n",
      "\n",
      "\n",
      "Identifying perfect matches...\n",
      "\n",
      "Identifying variations...\n"
     ]
    },
    {
     "name": "stderr",
     "output_type": "stream",
     "text": [
      "Processing k-mers: 100%|██████████| 769/769 [00:00<00:00, 7751.75it/s]\n",
      "Processing k-mers for variations: 100%|██████████| 769/769 [00:07<00:00, 103.33it/s]\n",
      "Processing k-mers to extract information:   0%|          | 0/769 [00:00<?, ?it/s]"
     ]
    },
    {
     "name": "stdout",
     "output_type": "stream",
     "text": [
      "\n",
      "Extract information related to signatures/variations...\n"
     ]
    },
    {
     "name": "stderr",
     "output_type": "stream",
     "text": [
      "Processing k-mers to extract information: 100%|██████████| 769/769 [01:05<00:00, 11.66it/s]\n"
     ]
    },
    {
     "name": "stdout",
     "output_type": "stream",
     "text": [
      "Execution time:  73.51309990882874\n",
      "Sample: 39.B1.W11.12_39.M1.W03.13_39.M1.W05.14 (Comparison_2: 12-mers)\n",
      "\n",
      "KEVOLVE: extraction mode\n",
      "\n",
      "Load sequences...\n",
      "Count k-mers...\n",
      "Generate matrices...\n",
      "Preprocessing...\n",
      "Solution search...\n",
      "\n",
      "Iteration: 1 | Attempt(s): 1 / 1\n",
      "Mean weighted score 0.883 Max weighted score 1.0 Mean unweighted score 0.879 Max unweighted score 1.0\n",
      "Number of genes : 1\n",
      "\n",
      "Identified solutions (770) saved at : data/comparisons/39.B1.W11.12_39.M1.W03.13_39.M1.W05.14/Comparison_2/12\n",
      "Execution time:  144.9669635295868\n",
      "\n",
      "KEVOLVE: motif analyzer mode\n",
      "\n",
      "\n",
      "Identifying perfect matches...\n",
      "\n",
      "Identifying variations...\n"
     ]
    },
    {
     "name": "stderr",
     "output_type": "stream",
     "text": [
      "Processing k-mers: 100%|██████████| 770/770 [00:00<00:00, 7316.75it/s]\n",
      "Processing k-mers for variations: 100%|██████████| 770/770 [00:08<00:00, 95.30it/s]\n",
      "Processing k-mers to extract information:   0%|          | 0/770 [00:00<?, ?it/s]"
     ]
    },
    {
     "name": "stdout",
     "output_type": "stream",
     "text": [
      "\n",
      "Extract information related to signatures/variations...\n"
     ]
    },
    {
     "name": "stderr",
     "output_type": "stream",
     "text": [
      "Processing k-mers to extract information: 100%|██████████| 770/770 [00:53<00:00, 14.44it/s]\n"
     ]
    },
    {
     "name": "stdout",
     "output_type": "stream",
     "text": [
      "Execution time:  61.524898052215576\n",
      "Sample: 39.B1.W11.12_39.M1.W03.13_39.M1.W05.14 (Comparison_2: 13-mers)\n",
      "\n",
      "KEVOLVE: extraction mode\n",
      "\n",
      "Load sequences...\n",
      "Count k-mers...\n",
      "Generate matrices...\n",
      "Preprocessing...\n",
      "Solution search...\n",
      "\n",
      "Iteration: 1 | Attempt(s): 1 / 1\n",
      "Mean weighted score 0.882 Max weighted score 1.0 Mean unweighted score 0.878 Max unweighted score 1.0\n",
      "Number of genes : 1\n",
      "\n",
      "Identified solutions (756) saved at : data/comparisons/39.B1.W11.12_39.M1.W03.13_39.M1.W05.14/Comparison_2/13\n",
      "Execution time:  144.5273220539093\n",
      "\n",
      "KEVOLVE: motif analyzer mode\n",
      "\n",
      "\n",
      "Identifying perfect matches...\n",
      "\n",
      "Identifying variations...\n"
     ]
    },
    {
     "name": "stderr",
     "output_type": "stream",
     "text": [
      "Processing k-mers: 100%|██████████| 756/756 [00:00<00:00, 7667.87it/s]\n",
      "Processing k-mers for variations: 100%|██████████| 756/756 [00:08<00:00, 88.18it/s]\n",
      "Processing k-mers to extract information:   0%|          | 0/756 [00:00<?, ?it/s]"
     ]
    },
    {
     "name": "stdout",
     "output_type": "stream",
     "text": [
      "\n",
      "Extract information related to signatures/variations...\n"
     ]
    },
    {
     "name": "stderr",
     "output_type": "stream",
     "text": [
      "Processing k-mers to extract information: 100%|██████████| 756/756 [00:42<00:00, 17.66it/s]\n"
     ]
    },
    {
     "name": "stdout",
     "output_type": "stream",
     "text": [
      "Execution time:  51.51301884651184\n",
      "Sample: 39.B1.W11.12_39.M1.W03.13_39.M1.W05.14 (Comparison_2: 14-mers)\n",
      "\n",
      "KEVOLVE: extraction mode\n",
      "\n",
      "Load sequences...\n",
      "Count k-mers...\n",
      "Generate matrices...\n",
      "Preprocessing...\n",
      "Solution search...\n",
      "\n",
      "Iteration: 1 | Attempt(s): 1 / 1\n",
      "Mean weighted score 0.885 Max weighted score 1.0 Mean unweighted score 0.88 Max unweighted score 1.0\n",
      "Number of genes : 1\n",
      "\n",
      "Identified solutions (740) saved at : data/comparisons/39.B1.W11.12_39.M1.W03.13_39.M1.W05.14/Comparison_2/14\n",
      "Execution time:  144.64431309700012\n",
      "\n",
      "KEVOLVE: motif analyzer mode\n",
      "\n",
      "\n",
      "Identifying perfect matches...\n",
      "\n",
      "Identifying variations...\n"
     ]
    },
    {
     "name": "stderr",
     "output_type": "stream",
     "text": [
      "Processing k-mers: 100%|██████████| 740/740 [00:00<00:00, 7607.93it/s]\n",
      "Processing k-mers for variations: 100%|██████████| 740/740 [00:08<00:00, 82.51it/s]\n",
      "Processing k-mers to extract information:   0%|          | 0/740 [00:00<?, ?it/s]"
     ]
    },
    {
     "name": "stdout",
     "output_type": "stream",
     "text": [
      "\n",
      "Extract information related to signatures/variations...\n"
     ]
    },
    {
     "name": "stderr",
     "output_type": "stream",
     "text": [
      "Processing k-mers to extract information: 100%|██████████| 740/740 [00:44<00:00, 16.68it/s]\n"
     ]
    },
    {
     "name": "stdout",
     "output_type": "stream",
     "text": [
      "Execution time:  53.45293354988098\n",
      "Sample: 39.B1.W11.12_39.M1.W03.13_39.M1.W05.14 (Comparison_2: 15-mers)\n",
      "\n",
      "KEVOLVE: extraction mode\n",
      "\n",
      "Load sequences...\n",
      "Count k-mers...\n",
      "Generate matrices...\n",
      "Preprocessing...\n",
      "Solution search...\n",
      "\n",
      "Iteration: 1 | Attempt(s): 1 / 1\n",
      "Mean weighted score 0.877 Max weighted score 1.0 Mean unweighted score 0.873 Max unweighted score 1.0\n",
      "Number of genes : 1\n",
      "\n",
      "Identified solutions (727) saved at : data/comparisons/39.B1.W11.12_39.M1.W03.13_39.M1.W05.14/Comparison_2/15\n",
      "Execution time:  144.42380094528198\n",
      "\n",
      "KEVOLVE: motif analyzer mode\n",
      "\n",
      "\n",
      "Identifying perfect matches...\n",
      "\n",
      "Identifying variations...\n"
     ]
    },
    {
     "name": "stderr",
     "output_type": "stream",
     "text": [
      "Processing k-mers: 100%|██████████| 727/727 [00:00<00:00, 7355.52it/s]\n",
      "Processing k-mers for variations: 100%|██████████| 727/727 [00:09<00:00, 77.68it/s]\n",
      "Processing k-mers to extract information:   0%|          | 0/727 [00:00<?, ?it/s]"
     ]
    },
    {
     "name": "stdout",
     "output_type": "stream",
     "text": [
      "\n",
      "Extract information related to signatures/variations...\n"
     ]
    },
    {
     "name": "stderr",
     "output_type": "stream",
     "text": [
      "Processing k-mers to extract information: 100%|██████████| 727/727 [00:40<00:00, 17.94it/s]\n"
     ]
    },
    {
     "name": "stdout",
     "output_type": "stream",
     "text": [
      "Execution time:  50.01747226715088\n",
      "Sample: 39.B1.W11.12_39.M1.W03.13_39.M1.W05.14 (Comparison_2: 16-mers)\n",
      "\n",
      "KEVOLVE: extraction mode\n",
      "\n",
      "Load sequences...\n",
      "Count k-mers...\n",
      "Generate matrices...\n",
      "Preprocessing...\n",
      "Solution search...\n",
      "\n",
      "Iteration: 1 | Attempt(s): 1 / 1\n",
      "Mean weighted score 0.875 Max weighted score 1.0 Mean unweighted score 0.87 Max unweighted score 1.0\n",
      "Number of genes : 1\n",
      "\n",
      "Identified solutions (709) saved at : data/comparisons/39.B1.W11.12_39.M1.W03.13_39.M1.W05.14/Comparison_2/16\n",
      "Execution time:  144.3629286289215\n",
      "\n",
      "KEVOLVE: motif analyzer mode\n",
      "\n",
      "\n",
      "Identifying perfect matches...\n",
      "\n",
      "Identifying variations...\n"
     ]
    },
    {
     "name": "stderr",
     "output_type": "stream",
     "text": [
      "Processing k-mers: 100%|██████████| 709/709 [00:00<00:00, 7294.67it/s]\n",
      "Processing k-mers for variations: 100%|██████████| 709/709 [00:09<00:00, 72.73it/s]\n"
     ]
    },
    {
     "name": "stdout",
     "output_type": "stream",
     "text": [
      "\n",
      "Extract information related to signatures/variations...\n"
     ]
    },
    {
     "name": "stderr",
     "output_type": "stream",
     "text": [
      "Processing k-mers to extract information: 100%|██████████| 709/709 [00:49<00:00, 14.45it/s]\n"
     ]
    },
    {
     "name": "stdout",
     "output_type": "stream",
     "text": [
      "Execution time:  58.94140028953552\n",
      "Sample: 39.B1.W11.12_39.M1.W03.13_39.M1.W05.14 (Comparison_2: 17-mers)\n",
      "\n",
      "KEVOLVE: extraction mode\n",
      "\n",
      "Load sequences...\n",
      "Count k-mers...\n",
      "Generate matrices...\n",
      "Preprocessing...\n",
      "Solution search...\n",
      "\n",
      "Iteration: 1 | Attempt(s): 1 / 1\n",
      "Mean weighted score 0.876 Max weighted score 1.0 Mean unweighted score 0.872 Max unweighted score 1.0\n",
      "Number of genes : 1\n",
      "\n",
      "Identified solutions (692) saved at : data/comparisons/39.B1.W11.12_39.M1.W03.13_39.M1.W05.14/Comparison_2/17\n",
      "Execution time:  144.81035566329956\n",
      "\n",
      "KEVOLVE: motif analyzer mode\n",
      "\n",
      "\n",
      "Identifying perfect matches...\n",
      "\n",
      "Identifying variations...\n"
     ]
    },
    {
     "name": "stderr",
     "output_type": "stream",
     "text": [
      "Processing k-mers: 100%|██████████| 692/692 [00:00<00:00, 7593.33it/s]\n",
      "Processing k-mers for variations: 100%|██████████| 692/692 [00:10<00:00, 69.08it/s]\n",
      "Processing k-mers to extract information:   0%|          | 1/692 [00:00<02:01,  5.70it/s]"
     ]
    },
    {
     "name": "stdout",
     "output_type": "stream",
     "text": [
      "\n",
      "Extract information related to signatures/variations...\n"
     ]
    },
    {
     "name": "stderr",
     "output_type": "stream",
     "text": [
      "Processing k-mers to extract information: 100%|██████████| 692/692 [00:46<00:00, 14.87it/s]\n"
     ]
    },
    {
     "name": "stdout",
     "output_type": "stream",
     "text": [
      "Execution time:  56.671719551086426\n",
      "Sample: 39.B1.W11.12_39.M1.W03.13_39.M1.W05.14 (Comparison_2: 18-mers)\n",
      "\n",
      "KEVOLVE: extraction mode\n",
      "\n",
      "Load sequences...\n",
      "Count k-mers...\n",
      "Generate matrices...\n",
      "Preprocessing...\n",
      "Solution search...\n",
      "\n",
      "Iteration: 1 | Attempt(s): 1 / 1\n",
      "Mean weighted score 0.871 Max weighted score 1.0 Mean unweighted score 0.866 Max unweighted score 1.0\n",
      "Number of genes : 1\n",
      "\n",
      "Identified solutions (676) saved at : data/comparisons/39.B1.W11.12_39.M1.W03.13_39.M1.W05.14/Comparison_2/18\n",
      "Execution time:  144.81621265411377\n",
      "\n",
      "KEVOLVE: motif analyzer mode\n",
      "\n",
      "\n",
      "Identifying perfect matches...\n",
      "\n",
      "Identifying variations...\n"
     ]
    },
    {
     "name": "stderr",
     "output_type": "stream",
     "text": [
      "Processing k-mers: 100%|██████████| 676/676 [00:00<00:00, 7675.97it/s]\n",
      "Processing k-mers for variations: 100%|██████████| 676/676 [00:10<00:00, 65.54it/s]\n"
     ]
    },
    {
     "name": "stdout",
     "output_type": "stream",
     "text": [
      "\n",
      "Extract information related to signatures/variations...\n"
     ]
    },
    {
     "name": "stderr",
     "output_type": "stream",
     "text": [
      "Processing k-mers to extract information: 100%|██████████| 676/676 [00:42<00:00, 15.73it/s]\n"
     ]
    },
    {
     "name": "stdout",
     "output_type": "stream",
     "text": [
      "Execution time:  53.40830397605896\n",
      "Sample: 39.B1.W11.12_39.M1.W03.13_39.M1.W05.14 (Comparison_2: 19-mers)\n",
      "\n",
      "KEVOLVE: extraction mode\n",
      "\n",
      "Load sequences...\n",
      "Count k-mers...\n",
      "Generate matrices...\n",
      "Preprocessing...\n",
      "Solution search...\n",
      "\n",
      "Iteration: 1 | Attempt(s): 1 / 1\n",
      "Mean weighted score 0.869 Max weighted score 1.0 Mean unweighted score 0.864 Max unweighted score 1.0\n",
      "Number of genes : 1\n",
      "\n",
      "Identified solutions (659) saved at : data/comparisons/39.B1.W11.12_39.M1.W03.13_39.M1.W05.14/Comparison_2/19\n",
      "Execution time:  144.90861678123474\n",
      "\n",
      "KEVOLVE: motif analyzer mode\n",
      "\n",
      "\n",
      "Identifying perfect matches...\n",
      "\n",
      "Identifying variations...\n"
     ]
    },
    {
     "name": "stderr",
     "output_type": "stream",
     "text": [
      "Processing k-mers: 100%|██████████| 659/659 [00:00<00:00, 7280.47it/s]\n",
      "Processing k-mers for variations: 100%|██████████| 659/659 [00:10<00:00, 62.05it/s]\n",
      "Processing k-mers to extract information:   0%|          | 0/659 [00:00<?, ?it/s]"
     ]
    },
    {
     "name": "stdout",
     "output_type": "stream",
     "text": [
      "\n",
      "Extract information related to signatures/variations...\n"
     ]
    },
    {
     "name": "stderr",
     "output_type": "stream",
     "text": [
      "Processing k-mers to extract information: 100%|██████████| 659/659 [00:44<00:00, 14.93it/s]\n"
     ]
    },
    {
     "name": "stdout",
     "output_type": "stream",
     "text": [
      "Execution time:  54.87406301498413\n",
      "Sample: 39.B1.W11.12_39.M1.W03.13_39.M1.W05.14 (Comparison_2: 20-mers)\n",
      "\n",
      "KEVOLVE: extraction mode\n",
      "\n",
      "Load sequences...\n",
      "Count k-mers...\n",
      "Generate matrices...\n",
      "Preprocessing...\n",
      "Solution search...\n",
      "\n",
      "Iteration: 1 | Attempt(s): 1 / 1\n",
      "Mean weighted score 0.87 Max weighted score 1.0 Mean unweighted score 0.866 Max unweighted score 1.0\n",
      "Number of genes : 1\n",
      "\n",
      "Identified solutions (642) saved at : data/comparisons/39.B1.W11.12_39.M1.W03.13_39.M1.W05.14/Comparison_2/20\n",
      "Execution time:  144.69963026046753\n",
      "\n",
      "KEVOLVE: motif analyzer mode\n",
      "\n",
      "\n",
      "Identifying perfect matches...\n",
      "\n",
      "Identifying variations...\n"
     ]
    },
    {
     "name": "stderr",
     "output_type": "stream",
     "text": [
      "Processing k-mers: 100%|██████████| 642/642 [00:00<00:00, 7193.44it/s]\n",
      "Processing k-mers for variations: 100%|██████████| 642/642 [00:10<00:00, 59.28it/s]\n",
      "Processing k-mers to extract information:   0%|          | 0/642 [00:00<?, ?it/s]"
     ]
    },
    {
     "name": "stdout",
     "output_type": "stream",
     "text": [
      "\n",
      "Extract information related to signatures/variations...\n"
     ]
    },
    {
     "name": "stderr",
     "output_type": "stream",
     "text": [
      "Processing k-mers to extract information: 100%|██████████| 642/642 [00:41<00:00, 15.30it/s]\n"
     ]
    },
    {
     "name": "stdout",
     "output_type": "stream",
     "text": [
      "Execution time:  52.901084661483765\n",
      "Sample: 39.B1.W11.12_39.M1.W03.13_39.M1.W05.14 (Comparison_2: 21-mers)\n",
      "\n",
      "KEVOLVE: extraction mode\n",
      "\n",
      "Load sequences...\n",
      "Count k-mers...\n",
      "Generate matrices...\n",
      "Preprocessing...\n",
      "Solution search...\n",
      "\n",
      "Iteration: 1 | Attempt(s): 1 / 1\n",
      "Mean weighted score 0.87 Max weighted score 1.0 Mean unweighted score 0.866 Max unweighted score 1.0\n",
      "Number of genes : 1\n",
      "\n",
      "Identified solutions (625) saved at : data/comparisons/39.B1.W11.12_39.M1.W03.13_39.M1.W05.14/Comparison_2/21\n",
      "Execution time:  144.30954885482788\n",
      "\n",
      "KEVOLVE: motif analyzer mode\n",
      "\n",
      "\n",
      "Identifying perfect matches...\n",
      "\n",
      "Identifying variations...\n"
     ]
    },
    {
     "name": "stderr",
     "output_type": "stream",
     "text": [
      "Processing k-mers: 100%|██████████| 625/625 [00:00<00:00, 7536.69it/s]\n",
      "Processing k-mers for variations: 100%|██████████| 625/625 [00:10<00:00, 57.14it/s]\n",
      "Processing k-mers to extract information:   0%|          | 0/625 [00:00<?, ?it/s]"
     ]
    },
    {
     "name": "stdout",
     "output_type": "stream",
     "text": [
      "\n",
      "Extract information related to signatures/variations...\n"
     ]
    },
    {
     "name": "stderr",
     "output_type": "stream",
     "text": [
      "Processing k-mers to extract information: 100%|██████████| 625/625 [00:37<00:00, 16.48it/s]\n"
     ]
    },
    {
     "name": "stdout",
     "output_type": "stream",
     "text": [
      "Execution time:  48.97000074386597\n",
      "Sample: 39.B1.W11.12_39.M1.W03.13_39.M1.W05.14 (Comparison_3: 9-mers)\n",
      "\n",
      "KEVOLVE: extraction mode\n",
      "\n",
      "Load sequences...\n",
      "Count k-mers...\n",
      "Generate matrices...\n",
      "Preprocessing...\n",
      "Solution search...\n",
      "\n",
      "Iteration: 1 | Attempt(s): 1 / 1\n",
      "Mean weighted score 0.998 Max weighted score 1.0 Mean unweighted score 0.997 Max unweighted score 1.0\n",
      "Number of genes : 1\n",
      "\n",
      "Identified solutions (996) saved at : data/comparisons/39.B1.W11.12_39.M1.W03.13_39.M1.W05.14/Comparison_3/9\n",
      "Execution time:  144.52378678321838\n",
      "\n",
      "KEVOLVE: motif analyzer mode\n",
      "\n",
      "\n",
      "Identifying perfect matches...\n",
      "\n",
      "Identifying variations...\n"
     ]
    },
    {
     "name": "stderr",
     "output_type": "stream",
     "text": [
      "Processing k-mers: 100%|██████████| 996/996 [00:00<00:00, 6838.11it/s]\n",
      "Processing k-mers for variations: 100%|██████████| 996/996 [00:10<00:00, 96.32it/s] \n",
      "Processing k-mers to extract information:   0%|          | 0/996 [00:00<?, ?it/s]"
     ]
    },
    {
     "name": "stdout",
     "output_type": "stream",
     "text": [
      "\n",
      "Extract information related to signatures/variations...\n"
     ]
    },
    {
     "name": "stderr",
     "output_type": "stream",
     "text": [
      "Processing k-mers to extract information: 100%|██████████| 996/996 [05:42<00:00,  2.91it/s]\n"
     ]
    },
    {
     "name": "stdout",
     "output_type": "stream",
     "text": [
      "Execution time:  352.67934226989746\n",
      "Sample: 39.B1.W11.12_39.M1.W03.13_39.M1.W05.14 (Comparison_3: 10-mers)\n",
      "\n",
      "KEVOLVE: extraction mode\n",
      "\n",
      "Load sequences...\n",
      "Count k-mers...\n",
      "Generate matrices...\n",
      "Preprocessing...\n",
      "Solution search...\n",
      "\n",
      "Iteration: 1 | Attempt(s): 1 / 1\n",
      "Mean weighted score 0.995 Max weighted score 1.0 Mean unweighted score 0.994 Max unweighted score 1.0\n",
      "Number of genes : 1\n",
      "\n",
      "Identified solutions (997) saved at : data/comparisons/39.B1.W11.12_39.M1.W03.13_39.M1.W05.14/Comparison_3/10\n",
      "Execution time:  145.05337500572205\n",
      "\n",
      "KEVOLVE: motif analyzer mode\n",
      "\n",
      "\n",
      "Identifying perfect matches...\n",
      "\n",
      "Identifying variations...\n"
     ]
    },
    {
     "name": "stderr",
     "output_type": "stream",
     "text": [
      "Processing k-mers: 100%|██████████| 997/997 [00:00<00:00, 6674.87it/s]\n",
      "Processing k-mers for variations: 100%|██████████| 997/997 [00:11<00:00, 85.27it/s]\n",
      "Processing k-mers to extract information:   0%|          | 0/997 [00:00<?, ?it/s]"
     ]
    },
    {
     "name": "stdout",
     "output_type": "stream",
     "text": [
      "\n",
      "Extract information related to signatures/variations...\n"
     ]
    },
    {
     "name": "stderr",
     "output_type": "stream",
     "text": [
      "Processing k-mers to extract information: 100%|██████████| 997/997 [02:22<00:00,  6.97it/s]\n"
     ]
    },
    {
     "name": "stdout",
     "output_type": "stream",
     "text": [
      "Execution time:  154.82695627212524\n",
      "Sample: 39.B1.W11.12_39.M1.W03.13_39.M1.W05.14 (Comparison_3: 11-mers)\n",
      "\n",
      "KEVOLVE: extraction mode\n",
      "\n",
      "Load sequences...\n",
      "Count k-mers...\n",
      "Generate matrices...\n",
      "Preprocessing...\n",
      "Solution search...\n",
      "\n",
      "Iteration: 1 | Attempt(s): 1 / 1\n",
      "Mean weighted score 0.995 Max weighted score 1.0 Mean unweighted score 0.994 Max unweighted score 1.0\n",
      "Number of genes : 1\n",
      "\n",
      "Identified solutions (990) saved at : data/comparisons/39.B1.W11.12_39.M1.W03.13_39.M1.W05.14/Comparison_3/11\n",
      "Execution time:  144.60309886932373\n",
      "\n",
      "KEVOLVE: motif analyzer mode\n",
      "\n",
      "\n",
      "Identifying perfect matches...\n",
      "\n",
      "Identifying variations...\n"
     ]
    },
    {
     "name": "stderr",
     "output_type": "stream",
     "text": [
      "Processing k-mers: 100%|██████████| 990/990 [00:00<00:00, 6762.66it/s]\n",
      "Processing k-mers for variations: 100%|██████████| 990/990 [00:12<00:00, 78.79it/s]\n"
     ]
    },
    {
     "name": "stdout",
     "output_type": "stream",
     "text": [
      "\n",
      "Extract information related to signatures/variations...\n"
     ]
    },
    {
     "name": "stderr",
     "output_type": "stream",
     "text": [
      "Processing k-mers to extract information: 100%|██████████| 990/990 [01:44<00:00,  9.47it/s]\n"
     ]
    },
    {
     "name": "stdout",
     "output_type": "stream",
     "text": [
      "Execution time:  117.30126285552979\n",
      "Sample: 39.B1.W11.12_39.M1.W03.13_39.M1.W05.14 (Comparison_3: 12-mers)\n",
      "\n",
      "KEVOLVE: extraction mode\n",
      "\n",
      "Load sequences...\n",
      "Count k-mers...\n",
      "Generate matrices...\n",
      "Preprocessing...\n",
      "Solution search...\n",
      "\n",
      "Iteration: 1 | Attempt(s): 1 / 1\n",
      "Mean weighted score 0.994 Max weighted score 1.0 Mean unweighted score 0.993 Max unweighted score 1.0\n",
      "Number of genes : 1\n",
      "\n",
      "Identified solutions (983) saved at : data/comparisons/39.B1.W11.12_39.M1.W03.13_39.M1.W05.14/Comparison_3/12\n",
      "Execution time:  144.08447933197021\n",
      "\n",
      "KEVOLVE: motif analyzer mode\n",
      "\n",
      "\n",
      "Identifying perfect matches...\n",
      "\n",
      "Identifying variations...\n"
     ]
    },
    {
     "name": "stderr",
     "output_type": "stream",
     "text": [
      "Processing k-mers: 100%|██████████| 983/983 [00:00<00:00, 6886.26it/s]\n",
      "Processing k-mers for variations: 100%|██████████| 983/983 [00:13<00:00, 73.14it/s]\n",
      "Processing k-mers to extract information:   0%|          | 0/983 [00:00<?, ?it/s]"
     ]
    },
    {
     "name": "stdout",
     "output_type": "stream",
     "text": [
      "\n",
      "Extract information related to signatures/variations...\n"
     ]
    },
    {
     "name": "stderr",
     "output_type": "stream",
     "text": [
      "Processing k-mers to extract information: 100%|██████████| 983/983 [01:23<00:00, 11.79it/s]\n"
     ]
    },
    {
     "name": "stdout",
     "output_type": "stream",
     "text": [
      "Execution time:  96.98769664764404\n",
      "Sample: 39.B1.W11.12_39.M1.W03.13_39.M1.W05.14 (Comparison_3: 13-mers)\n",
      "\n",
      "KEVOLVE: extraction mode\n",
      "\n",
      "Load sequences...\n",
      "Count k-mers...\n",
      "Generate matrices...\n",
      "Preprocessing...\n",
      "Solution search...\n",
      "\n",
      "Iteration: 1 | Attempt(s): 1 / 1\n",
      "Mean weighted score 0.994 Max weighted score 1.0 Mean unweighted score 0.993 Max unweighted score 1.0\n",
      "Number of genes : 1\n",
      "\n",
      "Identified solutions (971) saved at : data/comparisons/39.B1.W11.12_39.M1.W03.13_39.M1.W05.14/Comparison_3/13\n",
      "Execution time:  144.17485785484314\n",
      "\n",
      "KEVOLVE: motif analyzer mode\n",
      "\n",
      "\n",
      "Identifying perfect matches...\n",
      "\n",
      "Identifying variations...\n"
     ]
    },
    {
     "name": "stderr",
     "output_type": "stream",
     "text": [
      "Processing k-mers: 100%|██████████| 971/971 [00:00<00:00, 6619.47it/s]\n",
      "Processing k-mers for variations: 100%|██████████| 971/971 [00:14<00:00, 67.62it/s]\n"
     ]
    },
    {
     "name": "stdout",
     "output_type": "stream",
     "text": [
      "\n",
      "Extract information related to signatures/variations...\n"
     ]
    },
    {
     "name": "stderr",
     "output_type": "stream",
     "text": [
      "Processing k-mers to extract information: 100%|██████████| 971/971 [01:07<00:00, 14.32it/s]\n"
     ]
    },
    {
     "name": "stdout",
     "output_type": "stream",
     "text": [
      "Execution time:  82.34283208847046\n",
      "Sample: 39.B1.W11.12_39.M1.W03.13_39.M1.W05.14 (Comparison_3: 14-mers)\n",
      "\n",
      "KEVOLVE: extraction mode\n",
      "\n",
      "Load sequences...\n",
      "Count k-mers...\n",
      "Generate matrices...\n",
      "Preprocessing...\n",
      "Solution search...\n",
      "\n",
      "Iteration: 1 | Attempt(s): 1 / 1\n",
      "Mean weighted score 0.994 Max weighted score 1.0 Mean unweighted score 0.993 Max unweighted score 1.0\n",
      "Number of genes : 1\n",
      "\n",
      "Identified solutions (960) saved at : data/comparisons/39.B1.W11.12_39.M1.W03.13_39.M1.W05.14/Comparison_3/14\n",
      "Execution time:  144.20389246940613\n",
      "\n",
      "KEVOLVE: motif analyzer mode\n",
      "\n",
      "\n",
      "Identifying perfect matches...\n",
      "\n",
      "Identifying variations...\n"
     ]
    },
    {
     "name": "stderr",
     "output_type": "stream",
     "text": [
      "Processing k-mers: 100%|██████████| 960/960 [00:00<00:00, 6648.80it/s]\n",
      "Processing k-mers for variations: 100%|██████████| 960/960 [00:15<00:00, 62.97it/s]\n",
      "Processing k-mers to extract information:   0%|          | 0/960 [00:00<?, ?it/s]"
     ]
    },
    {
     "name": "stdout",
     "output_type": "stream",
     "text": [
      "\n",
      "Extract information related to signatures/variations...\n"
     ]
    },
    {
     "name": "stderr",
     "output_type": "stream",
     "text": [
      "Processing k-mers to extract information: 100%|██████████| 960/960 [01:09<00:00, 13.76it/s]\n"
     ]
    },
    {
     "name": "stdout",
     "output_type": "stream",
     "text": [
      "Execution time:  85.19012904167175\n",
      "Sample: 39.B1.W11.12_39.M1.W03.13_39.M1.W05.14 (Comparison_3: 15-mers)\n",
      "\n",
      "KEVOLVE: extraction mode\n",
      "\n",
      "Load sequences...\n",
      "Count k-mers...\n",
      "Generate matrices...\n",
      "Preprocessing...\n",
      "Solution search...\n",
      "\n",
      "Iteration: 1 | Attempt(s): 1 / 1\n",
      "Mean weighted score 0.993 Max weighted score 1.0 Mean unweighted score 0.992 Max unweighted score 1.0\n",
      "Number of genes : 1\n",
      "\n",
      "Identified solutions (952) saved at : data/comparisons/39.B1.W11.12_39.M1.W03.13_39.M1.W05.14/Comparison_3/15\n",
      "Execution time:  144.2852020263672\n",
      "\n",
      "KEVOLVE: motif analyzer mode\n",
      "\n",
      "\n",
      "Identifying perfect matches...\n",
      "\n",
      "Identifying variations...\n"
     ]
    },
    {
     "name": "stderr",
     "output_type": "stream",
     "text": [
      "Processing k-mers: 100%|██████████| 952/952 [00:00<00:00, 6677.14it/s]\n",
      "Processing k-mers for variations: 100%|██████████| 952/952 [00:16<00:00, 58.97it/s]\n",
      "Processing k-mers to extract information:   0%|          | 0/952 [00:00<?, ?it/s]"
     ]
    },
    {
     "name": "stdout",
     "output_type": "stream",
     "text": [
      "\n",
      "Extract information related to signatures/variations...\n"
     ]
    },
    {
     "name": "stderr",
     "output_type": "stream",
     "text": [
      "Processing k-mers to extract information: 100%|██████████| 952/952 [01:03<00:00, 14.92it/s]\n"
     ]
    },
    {
     "name": "stdout",
     "output_type": "stream",
     "text": [
      "Execution time:  80.11967039108276\n",
      "Sample: 39.B1.W11.12_39.M1.W03.13_39.M1.W05.14 (Comparison_3: 16-mers)\n",
      "\n",
      "KEVOLVE: extraction mode\n",
      "\n",
      "Load sequences...\n",
      "Count k-mers...\n",
      "Generate matrices...\n",
      "Preprocessing...\n",
      "Solution search...\n",
      "\n",
      "Iteration: 1 | Attempt(s): 1 / 1\n",
      "Mean weighted score 0.958 Max weighted score 1.0 Mean unweighted score 0.942 Max unweighted score 1.0\n",
      "Number of genes : 1\n",
      "\n",
      "Identified solutions (943) saved at : data/comparisons/39.B1.W11.12_39.M1.W03.13_39.M1.W05.14/Comparison_3/16\n",
      "Execution time:  145.1221182346344\n",
      "\n",
      "KEVOLVE: motif analyzer mode\n",
      "\n",
      "\n",
      "Identifying perfect matches...\n",
      "\n",
      "Identifying variations...\n"
     ]
    },
    {
     "name": "stderr",
     "output_type": "stream",
     "text": [
      "Processing k-mers: 100%|██████████| 943/943 [00:00<00:00, 6540.55it/s]\n",
      "Processing k-mers for variations: 100%|██████████| 943/943 [00:16<00:00, 55.57it/s]\n",
      "Processing k-mers to extract information:   0%|          | 0/943 [00:00<?, ?it/s]"
     ]
    },
    {
     "name": "stdout",
     "output_type": "stream",
     "text": [
      "\n",
      "Extract information related to signatures/variations...\n"
     ]
    },
    {
     "name": "stderr",
     "output_type": "stream",
     "text": [
      "Processing k-mers to extract information: 100%|██████████| 943/943 [01:17<00:00, 12.24it/s]\n"
     ]
    },
    {
     "name": "stdout",
     "output_type": "stream",
     "text": [
      "Execution time:  94.18605828285217\n",
      "Sample: 39.B1.W11.12_39.M1.W03.13_39.M1.W05.14 (Comparison_3: 17-mers)\n",
      "\n",
      "KEVOLVE: extraction mode\n",
      "\n",
      "Load sequences...\n",
      "Count k-mers...\n",
      "Generate matrices...\n",
      "Preprocessing...\n",
      "Solution search...\n",
      "\n",
      "Iteration: 1 | Attempt(s): 1 / 1\n",
      "Mean weighted score 0.954 Max weighted score 1.0 Mean unweighted score 0.937 Max unweighted score 1.0\n",
      "Number of genes : 1\n",
      "\n",
      "Identified solutions (933) saved at : data/comparisons/39.B1.W11.12_39.M1.W03.13_39.M1.W05.14/Comparison_3/17\n",
      "Execution time:  144.8826870918274\n",
      "\n",
      "KEVOLVE: motif analyzer mode\n",
      "\n",
      "\n",
      "Identifying perfect matches...\n",
      "\n",
      "Identifying variations...\n"
     ]
    },
    {
     "name": "stderr",
     "output_type": "stream",
     "text": [
      "Processing k-mers: 100%|██████████| 933/933 [00:00<00:00, 6745.09it/s]\n",
      "Processing k-mers for variations: 100%|██████████| 933/933 [00:17<00:00, 52.38it/s]\n",
      "Processing k-mers to extract information:   0%|          | 0/933 [00:00<?, ?it/s]"
     ]
    },
    {
     "name": "stdout",
     "output_type": "stream",
     "text": [
      "\n",
      "Extract information related to signatures/variations...\n"
     ]
    },
    {
     "name": "stderr",
     "output_type": "stream",
     "text": [
      "Processing k-mers to extract information: 100%|██████████| 933/933 [01:14<00:00, 12.60it/s]\n"
     ]
    },
    {
     "name": "stdout",
     "output_type": "stream",
     "text": [
      "Execution time:  92.01812505722046\n",
      "Sample: 39.B1.W11.12_39.M1.W03.13_39.M1.W05.14 (Comparison_3: 18-mers)\n",
      "\n",
      "KEVOLVE: extraction mode\n",
      "\n",
      "Load sequences...\n",
      "Count k-mers...\n",
      "Generate matrices...\n",
      "Preprocessing...\n",
      "Solution search...\n",
      "\n",
      "Iteration: 1 | Attempt(s): 1 / 1\n",
      "Mean weighted score 0.954 Max weighted score 1.0 Mean unweighted score 0.936 Max unweighted score 1.0\n",
      "Number of genes : 1\n",
      "\n",
      "Identified solutions (924) saved at : data/comparisons/39.B1.W11.12_39.M1.W03.13_39.M1.W05.14/Comparison_3/18\n",
      "Execution time:  144.61340856552124\n",
      "\n",
      "KEVOLVE: motif analyzer mode\n",
      "\n",
      "\n",
      "Identifying perfect matches...\n",
      "\n",
      "Identifying variations...\n"
     ]
    },
    {
     "name": "stderr",
     "output_type": "stream",
     "text": [
      "Processing k-mers: 100%|██████████| 924/924 [00:00<00:00, 6676.49it/s]\n",
      "Processing k-mers for variations: 100%|██████████| 924/924 [00:18<00:00, 50.05it/s]\n",
      "Processing k-mers to extract information:   0%|          | 0/924 [00:00<?, ?it/s]"
     ]
    },
    {
     "name": "stdout",
     "output_type": "stream",
     "text": [
      "\n",
      "Extract information related to signatures/variations...\n"
     ]
    },
    {
     "name": "stderr",
     "output_type": "stream",
     "text": [
      "Processing k-mers to extract information: 100%|██████████| 924/924 [01:10<00:00, 13.05it/s]\n"
     ]
    },
    {
     "name": "stdout",
     "output_type": "stream",
     "text": [
      "Execution time:  89.43180894851685\n",
      "Sample: 39.B1.W11.12_39.M1.W03.13_39.M1.W05.14 (Comparison_3: 19-mers)\n",
      "\n",
      "KEVOLVE: extraction mode\n",
      "\n",
      "Load sequences...\n",
      "Count k-mers...\n",
      "Generate matrices...\n",
      "Preprocessing...\n",
      "Solution search...\n",
      "\n",
      "Iteration: 1 | Attempt(s): 1 / 1\n",
      "Mean weighted score 0.956 Max weighted score 1.0 Mean unweighted score 0.94 Max unweighted score 1.0\n",
      "Number of genes : 1\n",
      "\n",
      "Identified solutions (908) saved at : data/comparisons/39.B1.W11.12_39.M1.W03.13_39.M1.W05.14/Comparison_3/19\n",
      "Execution time:  144.59843683242798\n",
      "\n",
      "KEVOLVE: motif analyzer mode\n",
      "\n",
      "\n",
      "Identifying perfect matches...\n",
      "\n",
      "Identifying variations...\n"
     ]
    },
    {
     "name": "stderr",
     "output_type": "stream",
     "text": [
      "Processing k-mers: 100%|██████████| 908/908 [00:00<00:00, 6793.93it/s]\n",
      "Processing k-mers for variations: 100%|██████████| 908/908 [00:19<00:00, 47.65it/s]\n",
      "Processing k-mers to extract information:   0%|          | 0/908 [00:00<?, ?it/s]"
     ]
    },
    {
     "name": "stdout",
     "output_type": "stream",
     "text": [
      "\n",
      "Extract information related to signatures/variations...\n"
     ]
    },
    {
     "name": "stderr",
     "output_type": "stream",
     "text": [
      "Processing k-mers to extract information: 100%|██████████| 908/908 [01:10<00:00, 12.79it/s]\n"
     ]
    },
    {
     "name": "stdout",
     "output_type": "stream",
     "text": [
      "Execution time:  90.21499228477478\n",
      "Sample: 39.B1.W11.12_39.M1.W03.13_39.M1.W05.14 (Comparison_3: 20-mers)\n",
      "\n",
      "KEVOLVE: extraction mode\n",
      "\n",
      "Load sequences...\n",
      "Count k-mers...\n",
      "Generate matrices...\n",
      "Preprocessing...\n",
      "Solution search...\n",
      "\n",
      "Iteration: 1 | Attempt(s): 1 / 1\n",
      "Mean weighted score 0.954 Max weighted score 1.0 Mean unweighted score 0.936 Max unweighted score 1.0\n",
      "Number of genes : 1\n",
      "\n",
      "Identified solutions (892) saved at : data/comparisons/39.B1.W11.12_39.M1.W03.13_39.M1.W05.14/Comparison_3/20\n",
      "Execution time:  144.20925736427307\n",
      "\n",
      "KEVOLVE: motif analyzer mode\n",
      "\n",
      "\n",
      "Identifying perfect matches...\n",
      "\n",
      "Identifying variations...\n"
     ]
    },
    {
     "name": "stderr",
     "output_type": "stream",
     "text": [
      "Processing k-mers: 100%|██████████| 892/892 [00:00<00:00, 6670.78it/s]\n",
      "Processing k-mers for variations: 100%|██████████| 892/892 [00:19<00:00, 45.47it/s]\n"
     ]
    },
    {
     "name": "stdout",
     "output_type": "stream",
     "text": [
      "\n",
      "Extract information related to signatures/variations...\n"
     ]
    },
    {
     "name": "stderr",
     "output_type": "stream",
     "text": [
      "Processing k-mers to extract information: 100%|██████████| 892/892 [01:07<00:00, 13.17it/s]\n"
     ]
    },
    {
     "name": "stdout",
     "output_type": "stream",
     "text": [
      "Execution time:  87.48487496376038\n",
      "Sample: 39.B1.W11.12_39.M1.W03.13_39.M1.W05.14 (Comparison_3: 21-mers)\n",
      "\n",
      "KEVOLVE: extraction mode\n",
      "\n",
      "Load sequences...\n",
      "Count k-mers...\n",
      "Generate matrices...\n",
      "Preprocessing...\n",
      "Solution search...\n",
      "\n",
      "Iteration: 1 | Attempt(s): 1 / 1\n",
      "Mean weighted score 0.954 Max weighted score 1.0 Mean unweighted score 0.937 Max unweighted score 1.0\n",
      "Number of genes : 1\n",
      "\n",
      "Identified solutions (876) saved at : data/comparisons/39.B1.W11.12_39.M1.W03.13_39.M1.W05.14/Comparison_3/21\n",
      "Execution time:  144.8882348537445\n",
      "\n",
      "KEVOLVE: motif analyzer mode\n",
      "\n",
      "\n",
      "Identifying perfect matches...\n",
      "\n",
      "Identifying variations...\n"
     ]
    },
    {
     "name": "stderr",
     "output_type": "stream",
     "text": [
      "Processing k-mers: 100%|██████████| 876/876 [00:00<00:00, 6543.14it/s]\n",
      "Processing k-mers for variations: 100%|██████████| 876/876 [00:20<00:00, 43.68it/s]\n",
      "Processing k-mers to extract information:   0%|          | 0/876 [00:00<?, ?it/s]"
     ]
    },
    {
     "name": "stdout",
     "output_type": "stream",
     "text": [
      "\n",
      "Extract information related to signatures/variations...\n"
     ]
    },
    {
     "name": "stderr",
     "output_type": "stream",
     "text": [
      "Processing k-mers to extract information: 100%|██████████| 876/876 [01:04<00:00, 13.61it/s]\n"
     ]
    },
    {
     "name": "stdout",
     "output_type": "stream",
     "text": [
      "Execution time:  84.59649801254272\n",
      "Sample: 53.B1.W14.17_53.M1.W07.16 (Comparison_1: 9-mers)\n",
      "\n",
      "KEVOLVE: extraction mode\n",
      "\n",
      "Load sequences...\n",
      "Count k-mers...\n",
      "Generate matrices...\n",
      "Preprocessing...\n",
      "Solution search...\n",
      "\n",
      "Iteration: 1 | Attempt(s): 1 / 1\n",
      "Mean weighted score 0.999 Max weighted score 1.0 Mean unweighted score 0.998 Max unweighted score 1.0\n",
      "Number of genes : 1\n",
      "\n",
      "Identified solutions (1337) saved at : data/comparisons/53.B1.W14.17_53.M1.W07.16/Comparison_1/9\n",
      "Execution time:  145.70737648010254\n",
      "\n",
      "KEVOLVE: motif analyzer mode\n",
      "\n",
      "\n",
      "Identifying perfect matches...\n"
     ]
    },
    {
     "name": "stderr",
     "output_type": "stream",
     "text": [
      "Processing k-mers: 100%|██████████| 1337/1337 [00:00<00:00, 4009.87it/s]\n",
      "Processing k-mers for variations:   1%|          | 7/1337 [00:00<00:24, 53.32it/s]"
     ]
    },
    {
     "name": "stdout",
     "output_type": "stream",
     "text": [
      "\n",
      "Identifying variations...\n"
     ]
    },
    {
     "name": "stderr",
     "output_type": "stream",
     "text": [
      "Processing k-mers for variations: 100%|██████████| 1337/1337 [00:30<00:00, 43.96it/s]\n",
      "Processing k-mers to extract information:   0%|          | 0/1337 [00:00<?, ?it/s]"
     ]
    },
    {
     "name": "stdout",
     "output_type": "stream",
     "text": [
      "\n",
      "Extract information related to signatures/variations...\n"
     ]
    },
    {
     "name": "stderr",
     "output_type": "stream",
     "text": [
      "Processing k-mers to extract information: 100%|██████████| 1337/1337 [14:49<00:00,  1.50it/s]\n"
     ]
    },
    {
     "name": "stdout",
     "output_type": "stream",
     "text": [
      "Execution time:  919.9093506336212\n",
      "Sample: 53.B1.W14.17_53.M1.W07.16 (Comparison_1: 10-mers)\n",
      "\n",
      "KEVOLVE: extraction mode\n",
      "\n",
      "Load sequences...\n",
      "Count k-mers...\n",
      "Generate matrices...\n",
      "Preprocessing...\n",
      "Solution search...\n",
      "\n",
      "Iteration: 1 | Attempt(s): 1 / 1\n",
      "Mean weighted score 0.999 Max weighted score 1.0 Mean unweighted score 0.999 Max unweighted score 1.0\n",
      "Number of genes : 1\n",
      "\n",
      "Identified solutions (1379) saved at : data/comparisons/53.B1.W14.17_53.M1.W07.16/Comparison_1/10\n",
      "Execution time:  145.51938843727112\n",
      "\n",
      "KEVOLVE: motif analyzer mode\n",
      "\n",
      "\n",
      "Identifying perfect matches...\n"
     ]
    },
    {
     "name": "stderr",
     "output_type": "stream",
     "text": [
      "Processing k-mers: 100%|██████████| 1379/1379 [00:00<00:00, 4046.38it/s]\n",
      "Processing k-mers for variations:   0%|          | 0/1379 [00:00<?, ?it/s]"
     ]
    },
    {
     "name": "stdout",
     "output_type": "stream",
     "text": [
      "\n",
      "Identifying variations...\n"
     ]
    },
    {
     "name": "stderr",
     "output_type": "stream",
     "text": [
      "Processing k-mers for variations: 100%|██████████| 1379/1379 [00:35<00:00, 38.91it/s]\n",
      "Processing k-mers to extract information:   0%|          | 0/1379 [00:00<?, ?it/s]"
     ]
    },
    {
     "name": "stdout",
     "output_type": "stream",
     "text": [
      "\n",
      "Extract information related to signatures/variations...\n"
     ]
    },
    {
     "name": "stderr",
     "output_type": "stream",
     "text": [
      "Processing k-mers to extract information: 100%|██████████| 1379/1379 [06:16<00:00,  3.66it/s]\n"
     ]
    },
    {
     "name": "stdout",
     "output_type": "stream",
     "text": [
      "Execution time:  412.3797347545624\n",
      "Sample: 53.B1.W14.17_53.M1.W07.16 (Comparison_1: 11-mers)\n",
      "\n",
      "KEVOLVE: extraction mode\n",
      "\n",
      "Load sequences...\n",
      "Count k-mers...\n",
      "Generate matrices...\n",
      "Preprocessing...\n",
      "Solution search...\n",
      "\n",
      "Iteration: 1 | Attempt(s): 1 / 1\n",
      "Mean weighted score 0.999 Max weighted score 1.0 Mean unweighted score 0.998 Max unweighted score 1.0\n",
      "Number of genes : 1\n",
      "\n",
      "Identified solutions (1406) saved at : data/comparisons/53.B1.W14.17_53.M1.W07.16/Comparison_1/11\n",
      "Execution time:  145.79993271827698\n",
      "\n",
      "KEVOLVE: motif analyzer mode\n",
      "\n",
      "\n",
      "Identifying perfect matches...\n"
     ]
    },
    {
     "name": "stderr",
     "output_type": "stream",
     "text": [
      "Processing k-mers: 100%|██████████| 1406/1406 [00:00<00:00, 4023.67it/s]\n",
      "Processing k-mers for variations:   0%|          | 0/1406 [00:00<?, ?it/s]"
     ]
    },
    {
     "name": "stdout",
     "output_type": "stream",
     "text": [
      "\n",
      "Identifying variations...\n"
     ]
    },
    {
     "name": "stderr",
     "output_type": "stream",
     "text": [
      "Processing k-mers for variations: 100%|██████████| 1406/1406 [00:39<00:00, 35.19it/s]\n",
      "Processing k-mers to extract information:   0%|          | 0/1406 [00:00<?, ?it/s]"
     ]
    },
    {
     "name": "stdout",
     "output_type": "stream",
     "text": [
      "\n",
      "Extract information related to signatures/variations...\n"
     ]
    },
    {
     "name": "stderr",
     "output_type": "stream",
     "text": [
      "Processing k-mers to extract information: 100%|██████████| 1406/1406 [04:41<00:00,  4.99it/s]\n"
     ]
    },
    {
     "name": "stdout",
     "output_type": "stream",
     "text": [
      "Execution time:  322.06004786491394\n",
      "Sample: 53.B1.W14.17_53.M1.W07.16 (Comparison_1: 12-mers)\n",
      "\n",
      "KEVOLVE: extraction mode\n",
      "\n",
      "Load sequences...\n",
      "Count k-mers...\n",
      "Generate matrices...\n",
      "Preprocessing...\n",
      "Solution search...\n",
      "\n",
      "Iteration: 1 | Attempt(s): 1 / 1\n",
      "Mean weighted score 0.999 Max weighted score 1.0 Mean unweighted score 0.998 Max unweighted score 1.0\n",
      "Number of genes : 1\n",
      "\n",
      "Identified solutions (1424) saved at : data/comparisons/53.B1.W14.17_53.M1.W07.16/Comparison_1/12\n",
      "Execution time:  145.48937439918518\n",
      "\n",
      "KEVOLVE: motif analyzer mode\n",
      "\n",
      "\n",
      "Identifying perfect matches...\n"
     ]
    },
    {
     "name": "stderr",
     "output_type": "stream",
     "text": [
      "Processing k-mers: 100%|██████████| 1424/1424 [00:00<00:00, 4009.27it/s]\n",
      "Processing k-mers for variations:   0%|          | 4/1424 [00:00<00:38, 36.76it/s]"
     ]
    },
    {
     "name": "stdout",
     "output_type": "stream",
     "text": [
      "\n",
      "Identifying variations...\n"
     ]
    },
    {
     "name": "stderr",
     "output_type": "stream",
     "text": [
      "Processing k-mers for variations: 100%|██████████| 1424/1424 [00:44<00:00, 32.05it/s]\n"
     ]
    },
    {
     "name": "stdout",
     "output_type": "stream",
     "text": [
      "\n",
      "Extract information related to signatures/variations...\n"
     ]
    },
    {
     "name": "stderr",
     "output_type": "stream",
     "text": [
      "Processing k-mers to extract information: 100%|██████████| 1424/1424 [03:48<00:00,  6.22it/s]\n"
     ]
    },
    {
     "name": "stdout",
     "output_type": "stream",
     "text": [
      "Execution time:  273.70045137405396\n",
      "Sample: 53.B1.W14.17_53.M1.W07.16 (Comparison_1: 13-mers)\n",
      "\n",
      "KEVOLVE: extraction mode\n",
      "\n",
      "Load sequences...\n",
      "Count k-mers...\n",
      "Generate matrices...\n",
      "Preprocessing...\n",
      "Solution search...\n",
      "\n",
      "Iteration: 1 | Attempt(s): 1 / 1\n",
      "Mean weighted score 0.999 Max weighted score 1.0 Mean unweighted score 0.998 Max unweighted score 1.0\n",
      "Number of genes : 1\n",
      "\n",
      "Identified solutions (1438) saved at : data/comparisons/53.B1.W14.17_53.M1.W07.16/Comparison_1/13\n",
      "Execution time:  146.2357406616211\n",
      "\n",
      "KEVOLVE: motif analyzer mode\n",
      "\n",
      "\n",
      "Identifying perfect matches...\n"
     ]
    },
    {
     "name": "stderr",
     "output_type": "stream",
     "text": [
      "Processing k-mers: 100%|██████████| 1438/1438 [00:00<00:00, 3960.78it/s]\n",
      "Processing k-mers for variations:   0%|          | 0/1438 [00:00<?, ?it/s]"
     ]
    },
    {
     "name": "stdout",
     "output_type": "stream",
     "text": [
      "\n",
      "Identifying variations...\n"
     ]
    },
    {
     "name": "stderr",
     "output_type": "stream",
     "text": [
      "Processing k-mers for variations: 100%|██████████| 1438/1438 [00:48<00:00, 29.42it/s]\n",
      "Processing k-mers to extract information:   0%|          | 0/1438 [00:00<?, ?it/s]"
     ]
    },
    {
     "name": "stdout",
     "output_type": "stream",
     "text": [
      "\n",
      "Extract information related to signatures/variations...\n"
     ]
    },
    {
     "name": "stderr",
     "output_type": "stream",
     "text": [
      "Processing k-mers to extract information: 100%|██████████| 1438/1438 [03:25<00:00,  7.00it/s]\n"
     ]
    },
    {
     "name": "stdout",
     "output_type": "stream",
     "text": [
      "Execution time:  254.62432193756104\n",
      "Sample: 53.B1.W14.17_53.M1.W07.16 (Comparison_1: 14-mers)\n",
      "\n",
      "KEVOLVE: extraction mode\n",
      "\n",
      "Load sequences...\n",
      "Count k-mers...\n",
      "Generate matrices...\n",
      "Preprocessing...\n",
      "Solution search...\n",
      "\n",
      "Iteration: 1 | Attempt(s): 1 / 1\n",
      "Mean weighted score 0.999 Max weighted score 1.0 Mean unweighted score 0.997 Max unweighted score 1.0\n",
      "Number of genes : 1\n",
      "\n",
      "Identified solutions (1450) saved at : data/comparisons/53.B1.W14.17_53.M1.W07.16/Comparison_1/14\n",
      "Execution time:  146.266619682312\n",
      "\n",
      "KEVOLVE: motif analyzer mode\n",
      "\n",
      "\n",
      "Identifying perfect matches...\n"
     ]
    },
    {
     "name": "stderr",
     "output_type": "stream",
     "text": [
      "Processing k-mers: 100%|██████████| 1450/1450 [00:00<00:00, 3957.91it/s]\n",
      "Processing k-mers for variations:   0%|          | 3/1450 [00:00<00:54, 26.38it/s]"
     ]
    },
    {
     "name": "stdout",
     "output_type": "stream",
     "text": [
      "\n",
      "Identifying variations...\n"
     ]
    },
    {
     "name": "stderr",
     "output_type": "stream",
     "text": [
      "Processing k-mers for variations: 100%|██████████| 1450/1450 [00:53<00:00, 27.31it/s]\n",
      "Processing k-mers to extract information:   0%|          | 0/1450 [00:00<?, ?it/s]"
     ]
    },
    {
     "name": "stdout",
     "output_type": "stream",
     "text": [
      "\n",
      "Extract information related to signatures/variations...\n"
     ]
    },
    {
     "name": "stderr",
     "output_type": "stream",
     "text": [
      "Processing k-mers to extract information: 100%|██████████| 1450/1450 [03:24<00:00,  7.10it/s]\n"
     ]
    },
    {
     "name": "stdout",
     "output_type": "stream",
     "text": [
      "Execution time:  257.61392402648926\n",
      "Sample: 53.B1.W14.17_53.M1.W07.16 (Comparison_1: 15-mers)\n",
      "\n",
      "KEVOLVE: extraction mode\n",
      "\n",
      "Load sequences...\n",
      "Count k-mers...\n",
      "Generate matrices...\n",
      "Preprocessing...\n",
      "Solution search...\n",
      "\n",
      "Iteration: 1 | Attempt(s): 1 / 1\n",
      "Mean weighted score 0.996 Max weighted score 1.0 Mean unweighted score 0.992 Max unweighted score 1.0\n",
      "Number of genes : 1\n",
      "\n",
      "Identified solutions (1464) saved at : data/comparisons/53.B1.W14.17_53.M1.W07.16/Comparison_1/15\n",
      "Execution time:  146.28925561904907\n",
      "\n",
      "KEVOLVE: motif analyzer mode\n",
      "\n",
      "\n",
      "Identifying perfect matches...\n"
     ]
    },
    {
     "name": "stderr",
     "output_type": "stream",
     "text": [
      "Processing k-mers: 100%|██████████| 1464/1464 [00:00<00:00, 3969.15it/s]\n",
      "Processing k-mers for variations:   0%|          | 0/1464 [00:00<?, ?it/s]"
     ]
    },
    {
     "name": "stdout",
     "output_type": "stream",
     "text": [
      "\n",
      "Identifying variations...\n"
     ]
    },
    {
     "name": "stderr",
     "output_type": "stream",
     "text": [
      "Processing k-mers for variations: 100%|██████████| 1464/1464 [00:57<00:00, 25.37it/s]\n",
      "Processing k-mers to extract information:   0%|          | 0/1464 [00:00<?, ?it/s]"
     ]
    },
    {
     "name": "stdout",
     "output_type": "stream",
     "text": [
      "\n",
      "Extract information related to signatures/variations...\n"
     ]
    },
    {
     "name": "stderr",
     "output_type": "stream",
     "text": [
      "Processing k-mers to extract information: 100%|██████████| 1464/1464 [03:15<00:00,  7.48it/s]\n"
     ]
    },
    {
     "name": "stdout",
     "output_type": "stream",
     "text": [
      "Execution time:  253.7554121017456\n",
      "Sample: 53.B1.W14.17_53.M1.W07.16 (Comparison_1: 16-mers)\n",
      "\n",
      "KEVOLVE: extraction mode\n",
      "\n",
      "Load sequences...\n",
      "Count k-mers...\n",
      "Generate matrices...\n",
      "Preprocessing...\n",
      "Solution search...\n",
      "\n",
      "Iteration: 1 | Attempt(s): 1 / 1\n",
      "Mean weighted score 0.996 Max weighted score 1.0 Mean unweighted score 0.991 Max unweighted score 1.0\n",
      "Number of genes : 1\n",
      "\n",
      "Identified solutions (1477) saved at : data/comparisons/53.B1.W14.17_53.M1.W07.16/Comparison_1/16\n",
      "Execution time:  145.98345637321472\n",
      "\n",
      "KEVOLVE: motif analyzer mode\n",
      "\n",
      "\n",
      "Identifying perfect matches...\n"
     ]
    },
    {
     "name": "stderr",
     "output_type": "stream",
     "text": [
      "Processing k-mers: 100%|██████████| 1477/1477 [00:00<00:00, 3888.73it/s]\n",
      "Processing k-mers for variations:   0%|          | 0/1477 [00:00<?, ?it/s]"
     ]
    },
    {
     "name": "stdout",
     "output_type": "stream",
     "text": [
      "\n",
      "Identifying variations...\n"
     ]
    },
    {
     "name": "stderr",
     "output_type": "stream",
     "text": [
      "Processing k-mers for variations: 100%|██████████| 1477/1477 [01:02<00:00, 23.80it/s]\n",
      "Processing k-mers to extract information:   0%|          | 0/1477 [00:00<?, ?it/s]"
     ]
    },
    {
     "name": "stdout",
     "output_type": "stream",
     "text": [
      "\n",
      "Extract information related to signatures/variations...\n"
     ]
    },
    {
     "name": "stderr",
     "output_type": "stream",
     "text": [
      "Processing k-mers to extract information: 100%|██████████| 1477/1477 [03:37<00:00,  6.78it/s]\n"
     ]
    },
    {
     "name": "stdout",
     "output_type": "stream",
     "text": [
      "Execution time:  280.45612359046936\n",
      "Sample: 53.B1.W14.17_53.M1.W07.16 (Comparison_1: 17-mers)\n",
      "\n",
      "KEVOLVE: extraction mode\n",
      "\n",
      "Load sequences...\n",
      "Count k-mers...\n",
      "Generate matrices...\n",
      "Preprocessing...\n",
      "Solution search...\n",
      "\n",
      "Iteration: 1 | Attempt(s): 1 / 1\n",
      "Mean weighted score 0.996 Max weighted score 1.0 Mean unweighted score 0.991 Max unweighted score 1.0\n",
      "Number of genes : 1\n",
      "\n",
      "Identified solutions (1487) saved at : data/comparisons/53.B1.W14.17_53.M1.W07.16/Comparison_1/17\n",
      "Execution time:  145.6765856742859\n",
      "\n",
      "KEVOLVE: motif analyzer mode\n",
      "\n",
      "\n",
      "Identifying perfect matches...\n"
     ]
    },
    {
     "name": "stderr",
     "output_type": "stream",
     "text": [
      "Processing k-mers: 100%|██████████| 1487/1487 [00:00<00:00, 3945.67it/s]\n",
      "Processing k-mers for variations:   0%|          | 0/1487 [00:00<?, ?it/s]"
     ]
    },
    {
     "name": "stdout",
     "output_type": "stream",
     "text": [
      "\n",
      "Identifying variations...\n"
     ]
    },
    {
     "name": "stderr",
     "output_type": "stream",
     "text": [
      "Processing k-mers for variations: 100%|██████████| 1487/1487 [01:06<00:00, 22.20it/s]\n",
      "Processing k-mers to extract information:   0%|          | 0/1487 [00:00<?, ?it/s]"
     ]
    },
    {
     "name": "stdout",
     "output_type": "stream",
     "text": [
      "\n",
      "Extract information related to signatures/variations...\n"
     ]
    },
    {
     "name": "stderr",
     "output_type": "stream",
     "text": [
      "Processing k-mers to extract information: 100%|██████████| 1487/1487 [03:34<00:00,  6.92it/s]\n"
     ]
    },
    {
     "name": "stdout",
     "output_type": "stream",
     "text": [
      "Execution time:  282.3692994117737\n",
      "Sample: 53.B1.W14.17_53.M1.W07.16 (Comparison_1: 18-mers)\n",
      "\n",
      "KEVOLVE: extraction mode\n",
      "\n",
      "Load sequences...\n",
      "Count k-mers...\n",
      "Generate matrices...\n",
      "Preprocessing...\n",
      "Solution search...\n",
      "\n",
      "Iteration: 1 | Attempt(s): 1 / 1\n",
      "Mean weighted score 0.996 Max weighted score 1.0 Mean unweighted score 0.991 Max unweighted score 1.0\n",
      "Number of genes : 1\n",
      "\n",
      "Identified solutions (1493) saved at : data/comparisons/53.B1.W14.17_53.M1.W07.16/Comparison_1/18\n",
      "Execution time:  145.7967917919159\n",
      "\n",
      "KEVOLVE: motif analyzer mode\n",
      "\n",
      "\n",
      "Identifying perfect matches...\n"
     ]
    },
    {
     "name": "stderr",
     "output_type": "stream",
     "text": [
      "Processing k-mers: 100%|██████████| 1493/1493 [00:00<00:00, 3931.27it/s]\n",
      "Processing k-mers for variations:   0%|          | 0/1493 [00:00<?, ?it/s]"
     ]
    },
    {
     "name": "stdout",
     "output_type": "stream",
     "text": [
      "\n",
      "Identifying variations...\n"
     ]
    },
    {
     "name": "stderr",
     "output_type": "stream",
     "text": [
      "Processing k-mers for variations: 100%|██████████| 1493/1493 [01:11<00:00, 20.89it/s]\n",
      "Processing k-mers to extract information:   0%|          | 0/1493 [00:00<?, ?it/s]"
     ]
    },
    {
     "name": "stdout",
     "output_type": "stream",
     "text": [
      "\n",
      "Extract information related to signatures/variations...\n"
     ]
    },
    {
     "name": "stderr",
     "output_type": "stream",
     "text": [
      "Processing k-mers to extract information: 100%|██████████| 1493/1493 [03:28<00:00,  7.14it/s]\n"
     ]
    },
    {
     "name": "stdout",
     "output_type": "stream",
     "text": [
      "Execution time:  280.8438904285431\n",
      "Sample: 53.B1.W14.17_53.M1.W07.16 (Comparison_1: 19-mers)\n",
      "\n",
      "KEVOLVE: extraction mode\n",
      "\n",
      "Load sequences...\n",
      "Count k-mers...\n",
      "Generate matrices...\n",
      "Preprocessing...\n",
      "Solution search...\n",
      "\n",
      "Iteration: 1 | Attempt(s): 1 / 1\n",
      "Mean weighted score 0.996 Max weighted score 1.0 Mean unweighted score 0.992 Max unweighted score 1.0\n",
      "Number of genes : 1\n",
      "\n",
      "Identified solutions (1497) saved at : data/comparisons/53.B1.W14.17_53.M1.W07.16/Comparison_1/19\n",
      "Execution time:  146.19774913787842\n",
      "\n",
      "KEVOLVE: motif analyzer mode\n",
      "\n",
      "\n",
      "Identifying perfect matches...\n"
     ]
    },
    {
     "name": "stderr",
     "output_type": "stream",
     "text": [
      "Processing k-mers: 100%|██████████| 1497/1497 [00:00<00:00, 3939.49it/s]\n",
      "Processing k-mers for variations:   0%|          | 0/1497 [00:00<?, ?it/s]"
     ]
    },
    {
     "name": "stdout",
     "output_type": "stream",
     "text": [
      "\n",
      "Identifying variations...\n"
     ]
    },
    {
     "name": "stderr",
     "output_type": "stream",
     "text": [
      "Processing k-mers for variations: 100%|██████████| 1497/1497 [01:15<00:00, 19.75it/s]\n",
      "Processing k-mers to extract information:   0%|          | 0/1497 [00:00<?, ?it/s]"
     ]
    },
    {
     "name": "stdout",
     "output_type": "stream",
     "text": [
      "\n",
      "Extract information related to signatures/variations...\n"
     ]
    },
    {
     "name": "stderr",
     "output_type": "stream",
     "text": [
      "Processing k-mers to extract information: 100%|██████████| 1497/1497 [03:31<00:00,  7.09it/s]\n"
     ]
    },
    {
     "name": "stdout",
     "output_type": "stream",
     "text": [
      "Execution time:  287.277241230011\n",
      "Sample: 53.B1.W14.17_53.M1.W07.16 (Comparison_1: 20-mers)\n",
      "\n",
      "KEVOLVE: extraction mode\n",
      "\n",
      "Load sequences...\n",
      "Count k-mers...\n",
      "Generate matrices...\n",
      "Preprocessing...\n",
      "Solution search...\n",
      "\n",
      "Iteration: 1 | Attempt(s): 1 / 1\n",
      "Mean weighted score 0.996 Max weighted score 1.0 Mean unweighted score 0.991 Max unweighted score 1.0\n",
      "Number of genes : 1\n",
      "\n",
      "Identified solutions (1496) saved at : data/comparisons/53.B1.W14.17_53.M1.W07.16/Comparison_1/20\n",
      "Execution time:  145.54997086524963\n",
      "\n",
      "KEVOLVE: motif analyzer mode\n",
      "\n",
      "\n",
      "Identifying perfect matches...\n"
     ]
    },
    {
     "name": "stderr",
     "output_type": "stream",
     "text": [
      "Processing k-mers: 100%|██████████| 1496/1496 [00:00<00:00, 3964.93it/s]\n",
      "Processing k-mers for variations:   0%|          | 0/1496 [00:00<?, ?it/s]"
     ]
    },
    {
     "name": "stdout",
     "output_type": "stream",
     "text": [
      "\n",
      "Identifying variations...\n"
     ]
    },
    {
     "name": "stderr",
     "output_type": "stream",
     "text": [
      "Processing k-mers for variations: 100%|██████████| 1496/1496 [01:19<00:00, 18.74it/s]\n",
      "Processing k-mers to extract information:   0%|          | 0/1496 [00:00<?, ?it/s]"
     ]
    },
    {
     "name": "stdout",
     "output_type": "stream",
     "text": [
      "\n",
      "Extract information related to signatures/variations...\n"
     ]
    },
    {
     "name": "stderr",
     "output_type": "stream",
     "text": [
      "Processing k-mers to extract information: 100%|██████████| 1496/1496 [03:26<00:00,  7.26it/s]\n"
     ]
    },
    {
     "name": "stdout",
     "output_type": "stream",
     "text": [
      "Execution time:  286.41095328330994\n",
      "Sample: 53.B1.W14.17_53.M1.W07.16 (Comparison_1: 21-mers)\n",
      "\n",
      "KEVOLVE: extraction mode\n",
      "\n",
      "Load sequences...\n",
      "Count k-mers...\n",
      "Generate matrices...\n",
      "Preprocessing...\n",
      "Solution search...\n",
      "\n",
      "Iteration: 1 | Attempt(s): 1 / 1\n",
      "Mean weighted score 0.995 Max weighted score 1.0 Mean unweighted score 0.991 Max unweighted score 1.0\n",
      "Number of genes : 1\n",
      "\n",
      "Identified solutions (1495) saved at : data/comparisons/53.B1.W14.17_53.M1.W07.16/Comparison_1/21\n",
      "Execution time:  145.48111939430237\n",
      "\n",
      "KEVOLVE: motif analyzer mode\n",
      "\n",
      "\n",
      "Identifying perfect matches...\n"
     ]
    },
    {
     "name": "stderr",
     "output_type": "stream",
     "text": [
      "Processing k-mers: 100%|██████████| 1495/1495 [00:00<00:00, 3859.95it/s]\n",
      "Processing k-mers for variations:   0%|          | 0/1495 [00:00<?, ?it/s]"
     ]
    },
    {
     "name": "stdout",
     "output_type": "stream",
     "text": [
      "\n",
      "Identifying variations...\n"
     ]
    },
    {
     "name": "stderr",
     "output_type": "stream",
     "text": [
      "Processing k-mers for variations: 100%|██████████| 1495/1495 [01:24<00:00, 17.77it/s]\n",
      "Processing k-mers to extract information:   0%|          | 0/1495 [00:00<?, ?it/s]"
     ]
    },
    {
     "name": "stdout",
     "output_type": "stream",
     "text": [
      "\n",
      "Extract information related to signatures/variations...\n"
     ]
    },
    {
     "name": "stderr",
     "output_type": "stream",
     "text": [
      "Processing k-mers to extract information: 100%|██████████| 1495/1495 [03:18<00:00,  7.52it/s]\n"
     ]
    },
    {
     "name": "stdout",
     "output_type": "stream",
     "text": [
      "Execution time:  283.48981046676636\n",
      "Sample: 53.B1.W14.17_53.M1.W07.16 (Comparison_2: 9-mers)\n",
      "\n",
      "KEVOLVE: extraction mode\n",
      "\n",
      "Load sequences...\n",
      "Count k-mers...\n",
      "Generate matrices...\n",
      "Preprocessing...\n",
      "Solution search...\n",
      "\n",
      "Iteration: 1 | Attempt(s): 1 / 1\n",
      "Mean weighted score 0.998 Max weighted score 1.0 Mean unweighted score 0.997 Max unweighted score 1.0\n",
      "Number of genes : 1\n",
      "\n",
      "Identified solutions (1205) saved at : data/comparisons/53.B1.W14.17_53.M1.W07.16/Comparison_2/9\n",
      "Execution time:  145.54881715774536\n",
      "\n",
      "KEVOLVE: motif analyzer mode\n",
      "\n",
      "\n",
      "Identifying perfect matches...\n"
     ]
    },
    {
     "name": "stderr",
     "output_type": "stream",
     "text": [
      "Processing k-mers: 100%|██████████| 1205/1205 [00:00<00:00, 4021.68it/s]\n",
      "Processing k-mers for variations:   0%|          | 0/1205 [00:00<?, ?it/s]"
     ]
    },
    {
     "name": "stdout",
     "output_type": "stream",
     "text": [
      "\n",
      "Identifying variations...\n"
     ]
    },
    {
     "name": "stderr",
     "output_type": "stream",
     "text": [
      "Processing k-mers for variations: 100%|██████████| 1205/1205 [00:26<00:00, 44.80it/s]\n",
      "Processing k-mers to extract information:   0%|          | 0/1205 [00:00<?, ?it/s]"
     ]
    },
    {
     "name": "stdout",
     "output_type": "stream",
     "text": [
      "\n",
      "Extract information related to signatures/variations...\n"
     ]
    },
    {
     "name": "stderr",
     "output_type": "stream",
     "text": [
      "Processing k-mers to extract information: 100%|██████████| 1205/1205 [12:11<00:00,  1.65it/s]\n"
     ]
    },
    {
     "name": "stdout",
     "output_type": "stream",
     "text": [
      "Execution time:  758.6029481887817\n",
      "Sample: 53.B1.W14.17_53.M1.W07.16 (Comparison_2: 10-mers)\n",
      "\n",
      "KEVOLVE: extraction mode\n",
      "\n",
      "Load sequences...\n",
      "Count k-mers...\n",
      "Generate matrices...\n",
      "Preprocessing...\n",
      "Solution search...\n",
      "\n",
      "Iteration: 1 | Attempt(s): 1 / 1\n",
      "Mean weighted score 0.999 Max weighted score 1.0 Mean unweighted score 0.998 Max unweighted score 1.0\n",
      "Number of genes : 1\n",
      "\n",
      "Identified solutions (1259) saved at : data/comparisons/53.B1.W14.17_53.M1.W07.16/Comparison_2/10\n",
      "Execution time:  145.8954918384552\n",
      "\n",
      "KEVOLVE: motif analyzer mode\n",
      "\n",
      "\n",
      "Identifying perfect matches...\n"
     ]
    },
    {
     "name": "stderr",
     "output_type": "stream",
     "text": [
      "Processing k-mers: 100%|██████████| 1259/1259 [00:00<00:00, 4047.61it/s]\n",
      "Processing k-mers for variations:   0%|          | 6/1259 [00:00<00:22, 55.67it/s]"
     ]
    },
    {
     "name": "stdout",
     "output_type": "stream",
     "text": [
      "\n",
      "Identifying variations...\n"
     ]
    },
    {
     "name": "stderr",
     "output_type": "stream",
     "text": [
      "Processing k-mers for variations: 100%|██████████| 1259/1259 [00:31<00:00, 39.79it/s]\n",
      "Processing k-mers to extract information:   0%|          | 0/1259 [00:00<?, ?it/s]"
     ]
    },
    {
     "name": "stdout",
     "output_type": "stream",
     "text": [
      "\n",
      "Extract information related to signatures/variations...\n"
     ]
    },
    {
     "name": "stderr",
     "output_type": "stream",
     "text": [
      "Processing k-mers to extract information: 100%|██████████| 1259/1259 [05:13<00:00,  4.01it/s]\n"
     ]
    },
    {
     "name": "stdout",
     "output_type": "stream",
     "text": [
      "Execution time:  345.61390447616577\n",
      "Sample: 53.B1.W14.17_53.M1.W07.16 (Comparison_2: 11-mers)\n",
      "\n",
      "KEVOLVE: extraction mode\n",
      "\n",
      "Load sequences...\n",
      "Count k-mers...\n",
      "Generate matrices...\n",
      "Preprocessing...\n",
      "Solution search...\n",
      "\n",
      "Iteration: 1 | Attempt(s): 1 / 1\n",
      "Mean weighted score 0.999 Max weighted score 1.0 Mean unweighted score 0.998 Max unweighted score 1.0\n",
      "Number of genes : 1\n",
      "\n",
      "Identified solutions (1305) saved at : data/comparisons/53.B1.W14.17_53.M1.W07.16/Comparison_2/11\n",
      "Execution time:  145.85643935203552\n",
      "\n",
      "KEVOLVE: motif analyzer mode\n",
      "\n",
      "\n",
      "Identifying perfect matches...\n"
     ]
    },
    {
     "name": "stderr",
     "output_type": "stream",
     "text": [
      "Processing k-mers: 100%|██████████| 1305/1305 [00:00<00:00, 4021.35it/s]\n",
      "Processing k-mers for variations:   0%|          | 0/1305 [00:00<?, ?it/s]"
     ]
    },
    {
     "name": "stdout",
     "output_type": "stream",
     "text": [
      "\n",
      "Identifying variations...\n"
     ]
    },
    {
     "name": "stderr",
     "output_type": "stream",
     "text": [
      "Processing k-mers for variations: 100%|██████████| 1305/1305 [00:36<00:00, 35.93it/s]\n",
      "Processing k-mers to extract information:   0%|          | 0/1305 [00:00<?, ?it/s]"
     ]
    },
    {
     "name": "stdout",
     "output_type": "stream",
     "text": [
      "\n",
      "Extract information related to signatures/variations...\n"
     ]
    },
    {
     "name": "stderr",
     "output_type": "stream",
     "text": [
      "Processing k-mers to extract information: 100%|██████████| 1305/1305 [04:03<00:00,  5.36it/s]\n"
     ]
    },
    {
     "name": "stdout",
     "output_type": "stream",
     "text": [
      "Execution time:  280.28843808174133\n",
      "Sample: 53.B1.W14.17_53.M1.W07.16 (Comparison_2: 12-mers)\n",
      "\n",
      "KEVOLVE: extraction mode\n",
      "\n",
      "Load sequences...\n",
      "Count k-mers...\n",
      "Generate matrices...\n",
      "Preprocessing...\n",
      "Solution search...\n",
      "\n",
      "Iteration: 1 | Attempt(s): 1 / 1\n",
      "Mean weighted score 0.999 Max weighted score 1.0 Mean unweighted score 0.998 Max unweighted score 1.0\n",
      "Number of genes : 1\n",
      "\n",
      "Identified solutions (1353) saved at : data/comparisons/53.B1.W14.17_53.M1.W07.16/Comparison_2/12\n",
      "Execution time:  145.72624969482422\n",
      "\n",
      "KEVOLVE: motif analyzer mode\n",
      "\n",
      "\n",
      "Identifying perfect matches...\n"
     ]
    },
    {
     "name": "stderr",
     "output_type": "stream",
     "text": [
      "Processing k-mers: 100%|██████████| 1353/1353 [00:00<00:00, 3930.78it/s]\n",
      "Processing k-mers for variations:   0%|          | 4/1353 [00:00<00:48, 28.10it/s]"
     ]
    },
    {
     "name": "stdout",
     "output_type": "stream",
     "text": [
      "\n",
      "Identifying variations...\n"
     ]
    },
    {
     "name": "stderr",
     "output_type": "stream",
     "text": [
      "Processing k-mers for variations: 100%|██████████| 1353/1353 [00:41<00:00, 32.48it/s]\n",
      "Processing k-mers to extract information:   0%|          | 0/1353 [00:00<?, ?it/s]"
     ]
    },
    {
     "name": "stdout",
     "output_type": "stream",
     "text": [
      "\n",
      "Extract information related to signatures/variations...\n"
     ]
    },
    {
     "name": "stderr",
     "output_type": "stream",
     "text": [
      "Processing k-mers to extract information: 100%|██████████| 1353/1353 [03:14<00:00,  6.94it/s]\n"
     ]
    },
    {
     "name": "stdout",
     "output_type": "stream",
     "text": [
      "Execution time:  236.87474822998047\n",
      "Sample: 53.B1.W14.17_53.M1.W07.16 (Comparison_2: 13-mers)\n",
      "\n",
      "KEVOLVE: extraction mode\n",
      "\n",
      "Load sequences...\n",
      "Count k-mers...\n",
      "Generate matrices...\n",
      "Preprocessing...\n",
      "Solution search...\n",
      "\n",
      "Iteration: 1 | Attempt(s): 1 / 1\n",
      "Mean weighted score 0.999 Max weighted score 1.0 Mean unweighted score 0.998 Max unweighted score 1.0\n",
      "Number of genes : 1\n",
      "\n",
      "Identified solutions (1389) saved at : data/comparisons/53.B1.W14.17_53.M1.W07.16/Comparison_2/13\n",
      "Execution time:  145.91805124282837\n",
      "\n",
      "KEVOLVE: motif analyzer mode\n",
      "\n",
      "\n",
      "Identifying perfect matches...\n"
     ]
    },
    {
     "name": "stderr",
     "output_type": "stream",
     "text": [
      "Processing k-mers: 100%|██████████| 1389/1389 [00:00<00:00, 3924.88it/s]\n",
      "Processing k-mers for variations:   0%|          | 0/1389 [00:00<?, ?it/s]"
     ]
    },
    {
     "name": "stdout",
     "output_type": "stream",
     "text": [
      "\n",
      "Identifying variations...\n"
     ]
    },
    {
     "name": "stderr",
     "output_type": "stream",
     "text": [
      "Processing k-mers for variations: 100%|██████████| 1389/1389 [00:46<00:00, 29.92it/s]\n",
      "Processing k-mers to extract information:   0%|          | 0/1389 [00:00<?, ?it/s]"
     ]
    },
    {
     "name": "stdout",
     "output_type": "stream",
     "text": [
      "\n",
      "Extract information related to signatures/variations...\n"
     ]
    },
    {
     "name": "stderr",
     "output_type": "stream",
     "text": [
      "Processing k-mers to extract information: 100%|██████████| 1389/1389 [02:51<00:00,  8.09it/s]\n"
     ]
    },
    {
     "name": "stdout",
     "output_type": "stream",
     "text": [
      "Execution time:  218.5897445678711\n",
      "Sample: 53.B1.W14.17_53.M1.W07.16 (Comparison_2: 14-mers)\n",
      "\n",
      "KEVOLVE: extraction mode\n",
      "\n",
      "Load sequences...\n",
      "Count k-mers...\n",
      "Generate matrices...\n",
      "Preprocessing...\n",
      "Solution search...\n",
      "\n",
      "Iteration: 1 | Attempt(s): 1 / 1\n",
      "Mean weighted score 0.999 Max weighted score 1.0 Mean unweighted score 0.998 Max unweighted score 1.0\n",
      "Number of genes : 1\n",
      "\n",
      "Identified solutions (1422) saved at : data/comparisons/53.B1.W14.17_53.M1.W07.16/Comparison_2/14\n",
      "Execution time:  145.6425905227661\n",
      "\n",
      "KEVOLVE: motif analyzer mode\n",
      "\n",
      "\n",
      "Identifying perfect matches...\n"
     ]
    },
    {
     "name": "stderr",
     "output_type": "stream",
     "text": [
      "Processing k-mers: 100%|██████████| 1422/1422 [00:00<00:00, 3951.28it/s]\n",
      "Processing k-mers for variations:   0%|          | 3/1422 [00:00<00:55, 25.42it/s]"
     ]
    },
    {
     "name": "stdout",
     "output_type": "stream",
     "text": [
      "\n",
      "Identifying variations...\n"
     ]
    },
    {
     "name": "stderr",
     "output_type": "stream",
     "text": [
      "Processing k-mers for variations: 100%|██████████| 1422/1422 [00:51<00:00, 27.51it/s]\n",
      "Processing k-mers to extract information:   0%|          | 0/1422 [00:00<?, ?it/s]"
     ]
    },
    {
     "name": "stdout",
     "output_type": "stream",
     "text": [
      "\n",
      "Extract information related to signatures/variations...\n"
     ]
    },
    {
     "name": "stderr",
     "output_type": "stream",
     "text": [
      "Processing k-mers to extract information: 100%|██████████| 1422/1422 [02:54<00:00,  8.14it/s]\n"
     ]
    },
    {
     "name": "stdout",
     "output_type": "stream",
     "text": [
      "Execution time:  226.82712078094482\n",
      "Sample: 53.B1.W14.17_53.M1.W07.16 (Comparison_2: 15-mers)\n",
      "\n",
      "KEVOLVE: extraction mode\n",
      "\n",
      "Load sequences...\n",
      "Count k-mers...\n",
      "Generate matrices...\n",
      "Preprocessing...\n",
      "Solution search...\n",
      "\n",
      "Iteration: 1 | Attempt(s): 1 / 1\n",
      "Mean weighted score 0.999 Max weighted score 1.0 Mean unweighted score 0.998 Max unweighted score 1.0\n",
      "Number of genes : 1\n",
      "\n",
      "Identified solutions (1451) saved at : data/comparisons/53.B1.W14.17_53.M1.W07.16/Comparison_2/15\n",
      "Execution time:  145.9560477733612\n",
      "\n",
      "KEVOLVE: motif analyzer mode\n",
      "\n",
      "\n",
      "Identifying perfect matches...\n"
     ]
    },
    {
     "name": "stderr",
     "output_type": "stream",
     "text": [
      "Processing k-mers: 100%|██████████| 1451/1451 [00:00<00:00, 4003.70it/s]\n",
      "Processing k-mers for variations:   0%|          | 0/1451 [00:00<?, ?it/s]"
     ]
    },
    {
     "name": "stdout",
     "output_type": "stream",
     "text": [
      "\n",
      "Identifying variations...\n"
     ]
    },
    {
     "name": "stderr",
     "output_type": "stream",
     "text": [
      "Processing k-mers for variations: 100%|██████████| 1451/1451 [00:56<00:00, 25.71it/s]\n",
      "Processing k-mers to extract information:   0%|          | 0/1451 [00:00<?, ?it/s]"
     ]
    },
    {
     "name": "stdout",
     "output_type": "stream",
     "text": [
      "\n",
      "Extract information related to signatures/variations...\n"
     ]
    },
    {
     "name": "stderr",
     "output_type": "stream",
     "text": [
      "Processing k-mers to extract information: 100%|██████████| 1451/1451 [02:40<00:00,  9.02it/s]\n"
     ]
    },
    {
     "name": "stdout",
     "output_type": "stream",
     "text": [
      "Execution time:  217.6874861717224\n",
      "Sample: 53.B1.W14.17_53.M1.W07.16 (Comparison_2: 16-mers)\n",
      "\n",
      "KEVOLVE: extraction mode\n",
      "\n",
      "Load sequences...\n",
      "Count k-mers...\n",
      "Generate matrices...\n",
      "Preprocessing...\n",
      "Solution search...\n",
      "\n",
      "Iteration: 1 | Attempt(s): 1 / 1\n",
      "Mean weighted score 0.999 Max weighted score 1.0 Mean unweighted score 0.998 Max unweighted score 1.0\n",
      "Number of genes : 1\n",
      "\n",
      "Identified solutions (1465) saved at : data/comparisons/53.B1.W14.17_53.M1.W07.16/Comparison_2/16\n",
      "Execution time:  145.95406317710876\n",
      "\n",
      "KEVOLVE: motif analyzer mode\n",
      "\n",
      "\n",
      "Identifying perfect matches...\n"
     ]
    },
    {
     "name": "stderr",
     "output_type": "stream",
     "text": [
      "Processing k-mers: 100%|██████████| 1465/1465 [00:00<00:00, 3954.14it/s]\n",
      "Processing k-mers for variations:   0%|          | 0/1465 [00:00<?, ?it/s]"
     ]
    },
    {
     "name": "stdout",
     "output_type": "stream",
     "text": [
      "\n",
      "Identifying variations...\n"
     ]
    },
    {
     "name": "stderr",
     "output_type": "stream",
     "text": [
      "Processing k-mers for variations: 100%|██████████| 1465/1465 [01:00<00:00, 24.03it/s]\n",
      "Processing k-mers to extract information:   0%|          | 0/1465 [00:00<?, ?it/s]"
     ]
    },
    {
     "name": "stdout",
     "output_type": "stream",
     "text": [
      "\n",
      "Extract information related to signatures/variations...\n"
     ]
    },
    {
     "name": "stderr",
     "output_type": "stream",
     "text": [
      "Processing k-mers to extract information: 100%|██████████| 1465/1465 [03:12<00:00,  7.61it/s]\n"
     ]
    },
    {
     "name": "stdout",
     "output_type": "stream",
     "text": [
      "Execution time:  253.7912609577179\n",
      "Sample: 53.B1.W14.17_53.M1.W07.16 (Comparison_2: 17-mers)\n",
      "\n",
      "KEVOLVE: extraction mode\n",
      "\n",
      "Load sequences...\n",
      "Count k-mers...\n",
      "Generate matrices...\n",
      "Preprocessing...\n",
      "Solution search...\n",
      "\n",
      "Iteration: 1 | Attempt(s): 1 / 1\n",
      "Mean weighted score 0.999 Max weighted score 1.0 Mean unweighted score 0.998 Max unweighted score 1.0\n",
      "Number of genes : 1\n",
      "\n",
      "Identified solutions (1475) saved at : data/comparisons/53.B1.W14.17_53.M1.W07.16/Comparison_2/17\n",
      "Execution time:  146.67675161361694\n",
      "\n",
      "KEVOLVE: motif analyzer mode\n",
      "\n",
      "\n",
      "Identifying perfect matches...\n"
     ]
    },
    {
     "name": "stderr",
     "output_type": "stream",
     "text": [
      "Processing k-mers: 100%|██████████| 1475/1475 [00:00<00:00, 3932.91it/s]\n",
      "Processing k-mers for variations:   0%|          | 0/1475 [00:00<?, ?it/s]"
     ]
    },
    {
     "name": "stdout",
     "output_type": "stream",
     "text": [
      "\n",
      "Identifying variations...\n"
     ]
    },
    {
     "name": "stderr",
     "output_type": "stream",
     "text": [
      "Processing k-mers for variations: 100%|██████████| 1475/1475 [01:05<00:00, 22.43it/s]\n",
      "Processing k-mers to extract information:   0%|          | 0/1475 [00:00<?, ?it/s]"
     ]
    },
    {
     "name": "stdout",
     "output_type": "stream",
     "text": [
      "\n",
      "Extract information related to signatures/variations...\n"
     ]
    },
    {
     "name": "stderr",
     "output_type": "stream",
     "text": [
      "Processing k-mers to extract information: 100%|██████████| 1475/1475 [03:08<00:00,  7.81it/s]\n"
     ]
    },
    {
     "name": "stdout",
     "output_type": "stream",
     "text": [
      "Execution time:  255.01031756401062\n",
      "Sample: 53.B1.W14.17_53.M1.W07.16 (Comparison_2: 18-mers)\n",
      "\n",
      "KEVOLVE: extraction mode\n",
      "\n",
      "Load sequences...\n",
      "Count k-mers...\n",
      "Generate matrices...\n",
      "Preprocessing...\n",
      "Solution search...\n",
      "\n",
      "Iteration: 1 | Attempt(s): 1 / 1\n",
      "Mean weighted score 0.999 Max weighted score 1.0 Mean unweighted score 0.997 Max unweighted score 1.0\n",
      "Number of genes : 1\n",
      "\n",
      "Identified solutions (1481) saved at : data/comparisons/53.B1.W14.17_53.M1.W07.16/Comparison_2/18\n",
      "Execution time:  145.09898138046265\n",
      "\n",
      "KEVOLVE: motif analyzer mode\n",
      "\n",
      "\n",
      "Identifying perfect matches...\n"
     ]
    },
    {
     "name": "stderr",
     "output_type": "stream",
     "text": [
      "Processing k-mers: 100%|██████████| 1481/1481 [00:00<00:00, 3879.69it/s]\n",
      "Processing k-mers for variations:   0%|          | 0/1481 [00:00<?, ?it/s]"
     ]
    },
    {
     "name": "stdout",
     "output_type": "stream",
     "text": [
      "\n",
      "Identifying variations...\n"
     ]
    },
    {
     "name": "stderr",
     "output_type": "stream",
     "text": [
      "Processing k-mers for variations: 100%|██████████| 1481/1481 [01:10<00:00, 21.05it/s]\n",
      "Processing k-mers to extract information:   0%|          | 0/1481 [00:00<?, ?it/s]"
     ]
    },
    {
     "name": "stdout",
     "output_type": "stream",
     "text": [
      "\n",
      "Extract information related to signatures/variations...\n"
     ]
    },
    {
     "name": "stderr",
     "output_type": "stream",
     "text": [
      "Processing k-mers to extract information: 100%|██████████| 1481/1481 [03:00<00:00,  8.20it/s]\n"
     ]
    },
    {
     "name": "stdout",
     "output_type": "stream",
     "text": [
      "Execution time:  251.31677794456482\n",
      "Sample: 53.B1.W14.17_53.M1.W07.16 (Comparison_2: 19-mers)\n",
      "\n",
      "KEVOLVE: extraction mode\n",
      "\n",
      "Load sequences...\n",
      "Count k-mers...\n",
      "Generate matrices...\n",
      "Preprocessing...\n",
      "Solution search...\n",
      "\n",
      "Iteration: 1 | Attempt(s): 1 / 1\n",
      "Mean weighted score 0.999 Max weighted score 1.0 Mean unweighted score 0.997 Max unweighted score 1.0\n",
      "Number of genes : 1\n",
      "\n",
      "Identified solutions (1489) saved at : data/comparisons/53.B1.W14.17_53.M1.W07.16/Comparison_2/19\n",
      "Execution time:  145.55095028877258\n",
      "\n",
      "KEVOLVE: motif analyzer mode\n",
      "\n",
      "\n",
      "Identifying perfect matches...\n"
     ]
    },
    {
     "name": "stderr",
     "output_type": "stream",
     "text": [
      "Processing k-mers: 100%|██████████| 1489/1489 [00:00<00:00, 3863.99it/s]\n",
      "Processing k-mers for variations:   0%|          | 0/1489 [00:00<?, ?it/s]"
     ]
    },
    {
     "name": "stdout",
     "output_type": "stream",
     "text": [
      "\n",
      "Identifying variations...\n"
     ]
    },
    {
     "name": "stderr",
     "output_type": "stream",
     "text": [
      "Processing k-mers for variations: 100%|██████████| 1489/1489 [01:14<00:00, 19.90it/s]\n",
      "Processing k-mers to extract information:   0%|          | 0/1489 [00:00<?, ?it/s]"
     ]
    },
    {
     "name": "stdout",
     "output_type": "stream",
     "text": [
      "\n",
      "Extract information related to signatures/variations...\n"
     ]
    },
    {
     "name": "stderr",
     "output_type": "stream",
     "text": [
      "Processing k-mers to extract information: 100%|██████████| 1489/1489 [03:08<00:00,  7.89it/s]\n"
     ]
    },
    {
     "name": "stdout",
     "output_type": "stream",
     "text": [
      "Execution time:  263.99014806747437\n",
      "Sample: 53.B1.W14.17_53.M1.W07.16 (Comparison_2: 20-mers)\n",
      "\n",
      "KEVOLVE: extraction mode\n",
      "\n",
      "Load sequences...\n",
      "Count k-mers...\n",
      "Generate matrices...\n",
      "Preprocessing...\n",
      "Solution search...\n",
      "\n",
      "Iteration: 1 | Attempt(s): 1 / 1\n",
      "Mean weighted score 0.998 Max weighted score 1.0 Mean unweighted score 0.997 Max unweighted score 1.0\n",
      "Number of genes : 1\n",
      "\n",
      "Identified solutions (1495) saved at : data/comparisons/53.B1.W14.17_53.M1.W07.16/Comparison_2/20\n",
      "Execution time:  146.02508759498596\n",
      "\n",
      "KEVOLVE: motif analyzer mode\n",
      "\n",
      "\n",
      "Identifying perfect matches...\n"
     ]
    },
    {
     "name": "stderr",
     "output_type": "stream",
     "text": [
      "Processing k-mers: 100%|██████████| 1495/1495 [00:00<00:00, 3908.45it/s]\n",
      "Processing k-mers for variations:   0%|          | 0/1495 [00:00<?, ?it/s]"
     ]
    },
    {
     "name": "stdout",
     "output_type": "stream",
     "text": [
      "\n",
      "Identifying variations...\n"
     ]
    },
    {
     "name": "stderr",
     "output_type": "stream",
     "text": [
      "Processing k-mers for variations: 100%|██████████| 1495/1495 [01:19<00:00, 18.84it/s]\n",
      "Processing k-mers to extract information:   0%|          | 0/1495 [00:00<?, ?it/s]"
     ]
    },
    {
     "name": "stdout",
     "output_type": "stream",
     "text": [
      "\n",
      "Extract information related to signatures/variations...\n"
     ]
    },
    {
     "name": "stderr",
     "output_type": "stream",
     "text": [
      "Processing k-mers to extract information: 100%|██████████| 1495/1495 [03:04<00:00,  8.10it/s]\n"
     ]
    },
    {
     "name": "stdout",
     "output_type": "stream",
     "text": [
      "Execution time:  264.28596663475037\n",
      "Sample: 53.B1.W14.17_53.M1.W07.16 (Comparison_2: 21-mers)\n",
      "\n",
      "KEVOLVE: extraction mode\n",
      "\n",
      "Load sequences...\n",
      "Count k-mers...\n",
      "Generate matrices...\n",
      "Preprocessing...\n",
      "Solution search...\n",
      "\n",
      "Iteration: 1 | Attempt(s): 1 / 1\n",
      "Mean weighted score 0.998 Max weighted score 1.0 Mean unweighted score 0.996 Max unweighted score 1.0\n",
      "Number of genes : 1\n",
      "\n",
      "Identified solutions (1503) saved at : data/comparisons/53.B1.W14.17_53.M1.W07.16/Comparison_2/21\n",
      "Execution time:  146.0113296508789\n",
      "\n",
      "KEVOLVE: motif analyzer mode\n",
      "\n",
      "\n",
      "Identifying perfect matches...\n"
     ]
    },
    {
     "name": "stderr",
     "output_type": "stream",
     "text": [
      "Processing k-mers: 100%|██████████| 1503/1503 [00:00<00:00, 3918.98it/s]\n",
      "Processing k-mers for variations:   0%|          | 0/1503 [00:00<?, ?it/s]"
     ]
    },
    {
     "name": "stdout",
     "output_type": "stream",
     "text": [
      "\n",
      "Identifying variations...\n"
     ]
    },
    {
     "name": "stderr",
     "output_type": "stream",
     "text": [
      "Processing k-mers for variations: 100%|██████████| 1503/1503 [01:23<00:00, 17.93it/s]\n",
      "Processing k-mers to extract information:   0%|          | 0/1503 [00:00<?, ?it/s]"
     ]
    },
    {
     "name": "stdout",
     "output_type": "stream",
     "text": [
      "\n",
      "Extract information related to signatures/variations...\n"
     ]
    },
    {
     "name": "stderr",
     "output_type": "stream",
     "text": [
      "Processing k-mers to extract information: 100%|██████████| 1503/1503 [02:54<00:00,  8.60it/s]\n"
     ]
    },
    {
     "name": "stdout",
     "output_type": "stream",
     "text": [
      "Execution time:  259.1116943359375\n",
      "Sample: 53.B1.W14.17_53.M1.W07.16 (Comparison_3: 9-mers)\n",
      "\n",
      "KEVOLVE: extraction mode\n",
      "\n",
      "Load sequences...\n",
      "Count k-mers...\n",
      "Generate matrices...\n",
      "Preprocessing...\n",
      "Solution search...\n",
      "\n",
      "Iteration: 1 | Attempt(s): 1 / 1\n",
      "Mean weighted score 0.988 Max weighted score 1.0 Mean unweighted score 0.984 Max unweighted score 1.0\n",
      "Number of genes : 1\n",
      "\n",
      "Identified solutions (515) saved at : data/comparisons/53.B1.W14.17_53.M1.W07.16/Comparison_3/9\n",
      "Execution time:  144.4762659072876\n",
      "\n",
      "KEVOLVE: motif analyzer mode\n",
      "\n",
      "\n",
      "Identifying perfect matches...\n",
      "\n",
      "Identifying variations...\n"
     ]
    },
    {
     "name": "stderr",
     "output_type": "stream",
     "text": [
      "Processing k-mers: 100%|██████████| 515/515 [00:00<00:00, 6085.48it/s]\n",
      "Processing k-mers for variations: 100%|██████████| 515/515 [00:04<00:00, 108.95it/s]\n",
      "Processing k-mers to extract information:   0%|          | 0/515 [00:00<?, ?it/s]"
     ]
    },
    {
     "name": "stdout",
     "output_type": "stream",
     "text": [
      "\n",
      "Extract information related to signatures/variations...\n"
     ]
    },
    {
     "name": "stderr",
     "output_type": "stream",
     "text": [
      "Processing k-mers to extract information: 100%|██████████| 515/515 [03:49<00:00,  2.25it/s]\n"
     ]
    },
    {
     "name": "stdout",
     "output_type": "stream",
     "text": [
      "Execution time:  234.1020152568817\n",
      "Sample: 53.B1.W14.17_53.M1.W07.16 (Comparison_3: 10-mers)\n",
      "\n",
      "KEVOLVE: extraction mode\n",
      "\n",
      "Load sequences...\n",
      "Count k-mers...\n",
      "Generate matrices...\n",
      "Preprocessing...\n",
      "Solution search...\n",
      "\n",
      "Iteration: 1 | Attempt(s): 1 / 1\n",
      "Mean weighted score 0.986 Max weighted score 1.0 Mean unweighted score 0.983 Max unweighted score 1.0\n",
      "Number of genes : 1\n",
      "\n",
      "Identified solutions (527) saved at : data/comparisons/53.B1.W14.17_53.M1.W07.16/Comparison_3/10\n",
      "Execution time:  145.01747822761536\n",
      "\n",
      "KEVOLVE: motif analyzer mode\n",
      "\n",
      "\n",
      "Identifying perfect matches...\n",
      "\n",
      "Identifying variations...\n"
     ]
    },
    {
     "name": "stderr",
     "output_type": "stream",
     "text": [
      "Processing k-mers: 100%|██████████| 527/527 [00:00<00:00, 5875.67it/s]\n",
      "Processing k-mers for variations: 100%|██████████| 527/527 [00:05<00:00, 100.64it/s]\n",
      "Processing k-mers to extract information:   0%|          | 0/527 [00:00<?, ?it/s]"
     ]
    },
    {
     "name": "stdout",
     "output_type": "stream",
     "text": [
      "\n",
      "Extract information related to signatures/variations...\n"
     ]
    },
    {
     "name": "stderr",
     "output_type": "stream",
     "text": [
      "Processing k-mers to extract information: 100%|██████████| 527/527 [01:46<00:00,  4.97it/s]\n"
     ]
    },
    {
     "name": "stdout",
     "output_type": "stream",
     "text": [
      "Execution time:  111.4760057926178\n",
      "Sample: 53.B1.W14.17_53.M1.W07.16 (Comparison_3: 11-mers)\n",
      "\n",
      "KEVOLVE: extraction mode\n",
      "\n",
      "Load sequences...\n",
      "Count k-mers...\n",
      "Generate matrices...\n",
      "Preprocessing...\n",
      "Solution search...\n",
      "\n",
      "Iteration: 1 | Attempt(s): 1 / 1\n",
      "Mean weighted score 0.985 Max weighted score 1.0 Mean unweighted score 0.981 Max unweighted score 1.0\n",
      "Number of genes : 1\n",
      "\n",
      "Identified solutions (535) saved at : data/comparisons/53.B1.W14.17_53.M1.W07.16/Comparison_3/11\n",
      "Execution time:  147.1999659538269\n",
      "\n",
      "KEVOLVE: motif analyzer mode\n",
      "\n",
      "\n",
      "Identifying perfect matches...\n",
      "\n",
      "Identifying variations...\n"
     ]
    },
    {
     "name": "stderr",
     "output_type": "stream",
     "text": [
      "Processing k-mers: 100%|██████████| 535/535 [00:00<00:00, 5391.87it/s]\n",
      "Processing k-mers for variations: 100%|██████████| 535/535 [00:06<00:00, 83.79it/s]\n",
      "Processing k-mers to extract information:   0%|          | 0/535 [00:00<?, ?it/s]"
     ]
    },
    {
     "name": "stdout",
     "output_type": "stream",
     "text": [
      "\n",
      "Extract information related to signatures/variations...\n"
     ]
    },
    {
     "name": "stderr",
     "output_type": "stream",
     "text": [
      "Processing k-mers to extract information: 100%|██████████| 535/535 [01:22<00:00,  6.50it/s]\n"
     ]
    },
    {
     "name": "stdout",
     "output_type": "stream",
     "text": [
      "Execution time:  88.85604906082153\n",
      "Sample: 53.B1.W14.17_53.M1.W07.16 (Comparison_3: 12-mers)\n",
      "\n",
      "KEVOLVE: extraction mode\n",
      "\n",
      "Load sequences...\n",
      "Count k-mers...\n",
      "Generate matrices...\n",
      "Preprocessing...\n",
      "Solution search...\n",
      "\n",
      "Iteration: 1 | Attempt(s): 1 / 1\n",
      "Mean weighted score 0.984 Max weighted score 1.0 Mean unweighted score 0.98 Max unweighted score 1.0\n",
      "Number of genes : 1\n",
      "\n",
      "Identified solutions (540) saved at : data/comparisons/53.B1.W14.17_53.M1.W07.16/Comparison_3/12\n",
      "Execution time:  146.97123384475708\n",
      "\n",
      "KEVOLVE: motif analyzer mode\n",
      "\n",
      "\n",
      "Identifying perfect matches...\n",
      "\n",
      "Identifying variations...\n"
     ]
    },
    {
     "name": "stderr",
     "output_type": "stream",
     "text": [
      "Processing k-mers: 100%|██████████| 540/540 [00:00<00:00, 5924.27it/s]\n",
      "Processing k-mers for variations: 100%|██████████| 540/540 [00:06<00:00, 87.99it/s] \n",
      "Processing k-mers to extract information:   0%|          | 0/540 [00:00<?, ?it/s]"
     ]
    },
    {
     "name": "stdout",
     "output_type": "stream",
     "text": [
      "\n",
      "Extract information related to signatures/variations...\n"
     ]
    },
    {
     "name": "stderr",
     "output_type": "stream",
     "text": [
      "Processing k-mers to extract information: 100%|██████████| 540/540 [01:06<00:00,  8.10it/s]\n"
     ]
    },
    {
     "name": "stdout",
     "output_type": "stream",
     "text": [
      "Execution time:  72.96010255813599\n",
      "Sample: 53.B1.W14.17_53.M1.W07.16 (Comparison_3: 13-mers)\n",
      "\n",
      "KEVOLVE: extraction mode\n",
      "\n",
      "Load sequences...\n",
      "Count k-mers...\n",
      "Generate matrices...\n",
      "Preprocessing...\n",
      "Solution search...\n",
      "\n",
      "Iteration: 1 | Attempt(s): 1 / 1\n",
      "Mean weighted score 0.984 Max weighted score 1.0 Mean unweighted score 0.98 Max unweighted score 1.0\n",
      "Number of genes : 1\n",
      "\n",
      "Identified solutions (541) saved at : data/comparisons/53.B1.W14.17_53.M1.W07.16/Comparison_3/13\n",
      "Execution time:  145.08651471138\n",
      "\n",
      "KEVOLVE: motif analyzer mode\n",
      "\n",
      "\n",
      "Identifying perfect matches...\n",
      "\n",
      "Identifying variations...\n"
     ]
    },
    {
     "name": "stderr",
     "output_type": "stream",
     "text": [
      "Processing k-mers: 100%|██████████| 541/541 [00:00<00:00, 5879.15it/s]\n",
      "Processing k-mers for variations: 100%|██████████| 541/541 [00:06<00:00, 83.24it/s]\n",
      "Processing k-mers to extract information:   0%|          | 0/541 [00:00<?, ?it/s]"
     ]
    },
    {
     "name": "stdout",
     "output_type": "stream",
     "text": [
      "\n",
      "Extract information related to signatures/variations...\n"
     ]
    },
    {
     "name": "stderr",
     "output_type": "stream",
     "text": [
      "Processing k-mers to extract information: 100%|██████████| 541/541 [00:58<00:00,  9.24it/s]\n"
     ]
    },
    {
     "name": "stdout",
     "output_type": "stream",
     "text": [
      "Execution time:  65.16739630699158\n",
      "Sample: 53.B1.W14.17_53.M1.W07.16 (Comparison_3: 14-mers)\n",
      "\n",
      "KEVOLVE: extraction mode\n",
      "\n",
      "Load sequences...\n",
      "Count k-mers...\n",
      "Generate matrices...\n",
      "Preprocessing...\n",
      "Solution search...\n",
      "\n",
      "Iteration: 1 | Attempt(s): 1 / 1\n",
      "Mean weighted score 0.982 Max weighted score 1.0 Mean unweighted score 0.977 Max unweighted score 1.0\n",
      "Number of genes : 1\n",
      "\n",
      "Identified solutions (540) saved at : data/comparisons/53.B1.W14.17_53.M1.W07.16/Comparison_3/14\n",
      "Execution time:  145.67427849769592\n",
      "\n",
      "KEVOLVE: motif analyzer mode\n",
      "\n",
      "\n",
      "Identifying perfect matches...\n",
      "\n",
      "Identifying variations...\n"
     ]
    },
    {
     "name": "stderr",
     "output_type": "stream",
     "text": [
      "Processing k-mers: 100%|██████████| 540/540 [00:00<00:00, 6091.03it/s]\n",
      "Processing k-mers for variations: 100%|██████████| 540/540 [00:06<00:00, 81.72it/s]\n",
      "Processing k-mers to extract information:   0%|          | 0/540 [00:00<?, ?it/s]"
     ]
    },
    {
     "name": "stdout",
     "output_type": "stream",
     "text": [
      "\n",
      "Extract information related to signatures/variations...\n"
     ]
    },
    {
     "name": "stderr",
     "output_type": "stream",
     "text": [
      "Processing k-mers to extract information: 100%|██████████| 540/540 [00:53<00:00, 10.02it/s]\n"
     ]
    },
    {
     "name": "stdout",
     "output_type": "stream",
     "text": [
      "Execution time:  60.593194246292114\n",
      "Sample: 53.B1.W14.17_53.M1.W07.16 (Comparison_3: 15-mers)\n",
      "\n",
      "KEVOLVE: extraction mode\n",
      "\n",
      "Load sequences...\n",
      "Count k-mers...\n",
      "Generate matrices...\n",
      "Preprocessing...\n",
      "Solution search...\n",
      "\n",
      "Iteration: 1 | Attempt(s): 1 / 1\n",
      "Mean weighted score 0.926 Max weighted score 1.0 Mean unweighted score 0.901 Max unweighted score 1.0\n",
      "Number of genes : 1\n",
      "\n",
      "Identified solutions (538) saved at : data/comparisons/53.B1.W14.17_53.M1.W07.16/Comparison_3/15\n",
      "Execution time:  144.44615697860718\n",
      "\n",
      "KEVOLVE: motif analyzer mode\n",
      "\n",
      "\n",
      "Identifying perfect matches...\n",
      "\n",
      "Identifying variations...\n"
     ]
    },
    {
     "name": "stderr",
     "output_type": "stream",
     "text": [
      "Processing k-mers: 100%|██████████| 538/538 [00:00<00:00, 6025.35it/s]\n",
      "Processing k-mers for variations: 100%|██████████| 538/538 [00:06<00:00, 78.28it/s]\n",
      "Processing k-mers to extract information:   0%|          | 0/538 [00:00<?, ?it/s]"
     ]
    },
    {
     "name": "stdout",
     "output_type": "stream",
     "text": [
      "\n",
      "Extract information related to signatures/variations...\n"
     ]
    },
    {
     "name": "stderr",
     "output_type": "stream",
     "text": [
      "Processing k-mers to extract information: 100%|██████████| 538/538 [00:49<00:00, 10.83it/s]\n"
     ]
    },
    {
     "name": "stdout",
     "output_type": "stream",
     "text": [
      "Execution time:  56.66415524482727\n",
      "Sample: 53.B1.W14.17_53.M1.W07.16 (Comparison_3: 16-mers)\n",
      "\n",
      "KEVOLVE: extraction mode\n",
      "\n",
      "Load sequences...\n",
      "Count k-mers...\n",
      "Generate matrices...\n",
      "Preprocessing...\n",
      "Solution search...\n",
      "\n",
      "Iteration: 1 | Attempt(s): 1 / 1\n",
      "Mean weighted score 0.925 Max weighted score 1.0 Mean unweighted score 0.899 Max unweighted score 1.0\n",
      "Number of genes : 1\n",
      "\n",
      "Identified solutions (533) saved at : data/comparisons/53.B1.W14.17_53.M1.W07.16/Comparison_3/16\n",
      "Execution time:  144.74131274223328\n",
      "\n",
      "KEVOLVE: motif analyzer mode\n",
      "\n",
      "\n",
      "Identifying perfect matches...\n",
      "\n",
      "Identifying variations...\n"
     ]
    },
    {
     "name": "stderr",
     "output_type": "stream",
     "text": [
      "Processing k-mers: 100%|██████████| 533/533 [00:00<00:00, 6042.41it/s]\n",
      "Processing k-mers for variations: 100%|██████████| 533/533 [00:07<00:00, 75.19it/s]\n",
      "Processing k-mers to extract information:   0%|          | 0/533 [00:00<?, ?it/s]"
     ]
    },
    {
     "name": "stdout",
     "output_type": "stream",
     "text": [
      "\n",
      "Extract information related to signatures/variations...\n"
     ]
    },
    {
     "name": "stderr",
     "output_type": "stream",
     "text": [
      "Processing k-mers to extract information: 100%|██████████| 533/533 [00:54<00:00,  9.76it/s]\n"
     ]
    },
    {
     "name": "stdout",
     "output_type": "stream",
     "text": [
      "Execution time:  61.81532263755798\n",
      "Sample: 53.B1.W14.17_53.M1.W07.16 (Comparison_3: 17-mers)\n",
      "\n",
      "KEVOLVE: extraction mode\n",
      "\n",
      "Load sequences...\n",
      "Count k-mers...\n",
      "Generate matrices...\n",
      "Preprocessing...\n",
      "Solution search...\n",
      "\n",
      "Iteration: 1 | Attempt(s): 1 / 1\n",
      "Mean weighted score 0.919 Max weighted score 1.0 Mean unweighted score 0.892 Max unweighted score 1.0\n",
      "Number of genes : 1\n",
      "\n",
      "Identified solutions (525) saved at : data/comparisons/53.B1.W14.17_53.M1.W07.16/Comparison_3/17\n",
      "Execution time:  144.46492385864258\n",
      "\n",
      "KEVOLVE: motif analyzer mode\n",
      "\n",
      "\n",
      "Identifying perfect matches...\n",
      "\n",
      "Identifying variations...\n"
     ]
    },
    {
     "name": "stderr",
     "output_type": "stream",
     "text": [
      "Processing k-mers: 100%|██████████| 525/525 [00:00<00:00, 5984.32it/s]\n",
      "Processing k-mers for variations: 100%|██████████| 525/525 [00:07<00:00, 72.33it/s]\n",
      "Processing k-mers to extract information:   0%|          | 1/525 [00:00<01:35,  5.49it/s]"
     ]
    },
    {
     "name": "stdout",
     "output_type": "stream",
     "text": [
      "\n",
      "Extract information related to signatures/variations...\n"
     ]
    },
    {
     "name": "stderr",
     "output_type": "stream",
     "text": [
      "Processing k-mers to extract information: 100%|██████████| 525/525 [00:52<00:00,  9.93it/s]\n"
     ]
    },
    {
     "name": "stdout",
     "output_type": "stream",
     "text": [
      "Execution time:  60.246073961257935\n",
      "Sample: 53.B1.W14.17_53.M1.W07.16 (Comparison_3: 18-mers)\n",
      "\n",
      "KEVOLVE: extraction mode\n",
      "\n",
      "Load sequences...\n",
      "Count k-mers...\n",
      "Generate matrices...\n",
      "Preprocessing...\n",
      "Solution search...\n",
      "\n",
      "Iteration: 1 | Attempt(s): 1 / 1\n",
      "Mean weighted score 0.914 Max weighted score 1.0 Mean unweighted score 0.885 Max unweighted score 1.0\n",
      "Number of genes : 1\n",
      "\n",
      "Identified solutions (516) saved at : data/comparisons/53.B1.W14.17_53.M1.W07.16/Comparison_3/18\n",
      "Execution time:  144.03429579734802\n",
      "\n",
      "KEVOLVE: motif analyzer mode\n",
      "\n",
      "\n",
      "Identifying perfect matches...\n",
      "\n",
      "Identifying variations...\n"
     ]
    },
    {
     "name": "stderr",
     "output_type": "stream",
     "text": [
      "Processing k-mers: 100%|██████████| 516/516 [00:00<00:00, 5923.67it/s]\n",
      "Processing k-mers for variations: 100%|██████████| 516/516 [00:07<00:00, 69.70it/s]\n",
      "Processing k-mers to extract information:   0%|          | 0/516 [00:00<?, ?it/s]"
     ]
    },
    {
     "name": "stdout",
     "output_type": "stream",
     "text": [
      "\n",
      "Extract information related to signatures/variations...\n"
     ]
    },
    {
     "name": "stderr",
     "output_type": "stream",
     "text": [
      "Processing k-mers to extract information: 100%|██████████| 516/516 [00:50<00:00, 10.24it/s]\n"
     ]
    },
    {
     "name": "stdout",
     "output_type": "stream",
     "text": [
      "Execution time:  57.9130322933197\n",
      "Sample: 53.B1.W14.17_53.M1.W07.16 (Comparison_3: 19-mers)\n",
      "\n",
      "KEVOLVE: extraction mode\n",
      "\n",
      "Load sequences...\n",
      "Count k-mers...\n",
      "Generate matrices...\n",
      "Preprocessing...\n",
      "Solution search...\n",
      "\n",
      "Iteration: 1 | Attempt(s): 1 / 1\n",
      "Mean weighted score 0.912 Max weighted score 1.0 Mean unweighted score 0.882 Max unweighted score 1.0\n",
      "Number of genes : 1\n",
      "\n",
      "Identified solutions (506) saved at : data/comparisons/53.B1.W14.17_53.M1.W07.16/Comparison_3/19\n",
      "Execution time:  144.25575232505798\n",
      "\n",
      "KEVOLVE: motif analyzer mode\n",
      "\n",
      "\n",
      "Identifying perfect matches...\n",
      "\n",
      "Identifying variations...\n"
     ]
    },
    {
     "name": "stderr",
     "output_type": "stream",
     "text": [
      "Processing k-mers: 100%|██████████| 506/506 [00:00<00:00, 6008.15it/s]\n",
      "Processing k-mers for variations: 100%|██████████| 506/506 [00:07<00:00, 67.59it/s]\n"
     ]
    },
    {
     "name": "stdout",
     "output_type": "stream",
     "text": [
      "\n",
      "Extract information related to signatures/variations...\n"
     ]
    },
    {
     "name": "stderr",
     "output_type": "stream",
     "text": [
      "Processing k-mers to extract information: 100%|██████████| 506/506 [00:49<00:00, 10.16it/s]\n"
     ]
    },
    {
     "name": "stdout",
     "output_type": "stream",
     "text": [
      "Execution time:  57.389405727386475\n",
      "Sample: 53.B1.W14.17_53.M1.W07.16 (Comparison_3: 20-mers)\n",
      "\n",
      "KEVOLVE: extraction mode\n",
      "\n",
      "Load sequences...\n",
      "Count k-mers...\n",
      "Generate matrices...\n",
      "Preprocessing...\n",
      "Solution search...\n",
      "\n",
      "Iteration: 1 | Attempt(s): 1 / 1\n",
      "Mean weighted score 0.906 Max weighted score 1.0 Mean unweighted score 0.874 Max unweighted score 1.0\n",
      "Number of genes : 1\n",
      "\n",
      "Identified solutions (496) saved at : data/comparisons/53.B1.W14.17_53.M1.W07.16/Comparison_3/20\n",
      "Execution time:  144.6609389781952\n",
      "\n",
      "KEVOLVE: motif analyzer mode\n",
      "\n",
      "\n",
      "Identifying perfect matches...\n",
      "\n",
      "Identifying variations...\n"
     ]
    },
    {
     "name": "stderr",
     "output_type": "stream",
     "text": [
      "Processing k-mers: 100%|██████████| 496/496 [00:00<00:00, 6125.14it/s]\n",
      "Processing k-mers for variations: 100%|██████████| 496/496 [00:07<00:00, 66.09it/s]\n"
     ]
    },
    {
     "name": "stdout",
     "output_type": "stream",
     "text": [
      "\n",
      "Extract information related to signatures/variations...\n"
     ]
    },
    {
     "name": "stderr",
     "output_type": "stream",
     "text": [
      "Processing k-mers to extract information: 100%|██████████| 496/496 [00:48<00:00, 10.13it/s]\n"
     ]
    },
    {
     "name": "stdout",
     "output_type": "stream",
     "text": [
      "Execution time:  56.58091139793396\n",
      "Sample: 53.B1.W14.17_53.M1.W07.16 (Comparison_3: 21-mers)\n",
      "\n",
      "KEVOLVE: extraction mode\n",
      "\n",
      "Load sequences...\n",
      "Count k-mers...\n",
      "Generate matrices...\n",
      "Preprocessing...\n",
      "Solution search...\n",
      "\n",
      "Iteration: 1 | Attempt(s): 1 / 1\n",
      "Mean weighted score 0.902 Max weighted score 1.0 Mean unweighted score 0.869 Max unweighted score 1.0\n",
      "Number of genes : 1\n",
      "\n",
      "Identified solutions (486) saved at : data/comparisons/53.B1.W14.17_53.M1.W07.16/Comparison_3/21\n",
      "Execution time:  144.84840726852417\n",
      "\n",
      "KEVOLVE: motif analyzer mode\n",
      "\n",
      "\n",
      "Identifying perfect matches...\n",
      "\n",
      "Identifying variations...\n"
     ]
    },
    {
     "name": "stderr",
     "output_type": "stream",
     "text": [
      "Processing k-mers: 100%|██████████| 486/486 [00:00<00:00, 6090.83it/s]\n",
      "Processing k-mers for variations: 100%|██████████| 486/486 [00:07<00:00, 64.10it/s]\n",
      "Processing k-mers to extract information:   0%|          | 0/486 [00:00<?, ?it/s]"
     ]
    },
    {
     "name": "stdout",
     "output_type": "stream",
     "text": [
      "\n",
      "Extract information related to signatures/variations...\n"
     ]
    },
    {
     "name": "stderr",
     "output_type": "stream",
     "text": [
      "Processing k-mers to extract information: 100%|██████████| 486/486 [00:45<00:00, 10.71it/s]\n"
     ]
    },
    {
     "name": "stdout",
     "output_type": "stream",
     "text": [
      "Execution time:  53.069594860076904\n",
      "Sample: 56.B1.W09.22_56.M1.W03.21 (Comparison_1: 9-mers)\n",
      "\n",
      "KEVOLVE: extraction mode\n",
      "\n",
      "Load sequences...\n",
      "Count k-mers...\n",
      "Generate matrices...\n",
      "Preprocessing...\n",
      "Solution search...\n",
      "\n",
      "Iteration: 1 | Attempt(s): 1 / 1\n",
      "Mean weighted score 0.977 Max weighted score 1.0 Mean unweighted score 0.973 Max unweighted score 1.0\n",
      "Number of genes : 1\n",
      "\n",
      "Identified solutions (792) saved at : data/comparisons/56.B1.W09.22_56.M1.W03.21/Comparison_1/9\n",
      "Execution time:  144.14573216438293\n",
      "\n",
      "KEVOLVE: motif analyzer mode\n",
      "\n",
      "\n",
      "Identifying perfect matches...\n",
      "\n",
      "Identifying variations...\n"
     ]
    },
    {
     "name": "stderr",
     "output_type": "stream",
     "text": [
      "Processing k-mers: 100%|██████████| 792/792 [00:00<00:00, 7552.12it/s]\n",
      "Processing k-mers for variations: 100%|██████████| 792/792 [00:06<00:00, 115.34it/s]\n",
      "Processing k-mers to extract information:   0%|          | 0/792 [00:00<?, ?it/s]"
     ]
    },
    {
     "name": "stdout",
     "output_type": "stream",
     "text": [
      "\n",
      "Extract information related to signatures/variations...\n"
     ]
    },
    {
     "name": "stderr",
     "output_type": "stream",
     "text": [
      "Processing k-mers to extract information: 100%|██████████| 792/792 [03:14<00:00,  4.07it/s]\n"
     ]
    },
    {
     "name": "stdout",
     "output_type": "stream",
     "text": [
      "Execution time:  201.6709122657776\n",
      "Sample: 56.B1.W09.22_56.M1.W03.21 (Comparison_1: 10-mers)\n",
      "\n",
      "KEVOLVE: extraction mode\n",
      "\n",
      "Load sequences...\n",
      "Count k-mers...\n",
      "Generate matrices...\n",
      "Preprocessing...\n",
      "Solution search...\n",
      "\n",
      "Iteration: 1 | Attempt(s): 1 / 1\n",
      "Mean weighted score 0.975 Max weighted score 1.0 Mean unweighted score 0.971 Max unweighted score 1.0\n",
      "Number of genes : 1\n",
      "\n",
      "Identified solutions (778) saved at : data/comparisons/56.B1.W09.22_56.M1.W03.21/Comparison_1/10\n",
      "Execution time:  144.41942834854126\n",
      "\n",
      "KEVOLVE: motif analyzer mode\n",
      "\n",
      "\n",
      "Identifying perfect matches...\n",
      "\n",
      "Identifying variations...\n"
     ]
    },
    {
     "name": "stderr",
     "output_type": "stream",
     "text": [
      "Processing k-mers: 100%|██████████| 778/778 [00:00<00:00, 6953.15it/s]\n",
      "Processing k-mers for variations: 100%|██████████| 778/778 [00:07<00:00, 104.24it/s]\n",
      "Processing k-mers to extract information:   0%|          | 0/778 [00:00<?, ?it/s]"
     ]
    },
    {
     "name": "stdout",
     "output_type": "stream",
     "text": [
      "\n",
      "Extract information related to signatures/variations...\n"
     ]
    },
    {
     "name": "stderr",
     "output_type": "stream",
     "text": [
      "Processing k-mers to extract information: 100%|██████████| 778/778 [01:23<00:00,  9.29it/s]\n"
     ]
    },
    {
     "name": "stdout",
     "output_type": "stream",
     "text": [
      "Execution time:  91.31557512283325\n",
      "Sample: 56.B1.W09.22_56.M1.W03.21 (Comparison_1: 11-mers)\n",
      "\n",
      "KEVOLVE: extraction mode\n",
      "\n",
      "Load sequences...\n",
      "Count k-mers...\n",
      "Generate matrices...\n",
      "Preprocessing...\n",
      "Solution search...\n",
      "\n",
      "Iteration: 1 | Attempt(s): 1 / 1\n",
      "Mean weighted score 0.972 Max weighted score 1.0 Mean unweighted score 0.968 Max unweighted score 1.0\n",
      "Number of genes : 1\n",
      "\n",
      "Identified solutions (761) saved at : data/comparisons/56.B1.W09.22_56.M1.W03.21/Comparison_1/11\n",
      "Execution time:  143.87142825126648\n",
      "\n",
      "KEVOLVE: motif analyzer mode\n",
      "\n",
      "\n",
      "Identifying perfect matches...\n",
      "\n",
      "Identifying variations...\n"
     ]
    },
    {
     "name": "stderr",
     "output_type": "stream",
     "text": [
      "Processing k-mers: 100%|██████████| 761/761 [00:00<00:00, 7244.11it/s]\n",
      "Processing k-mers for variations: 100%|██████████| 761/761 [00:08<00:00, 95.07it/s]\n",
      "Processing k-mers to extract information:   0%|          | 0/761 [00:00<?, ?it/s]"
     ]
    },
    {
     "name": "stdout",
     "output_type": "stream",
     "text": [
      "\n",
      "Extract information related to signatures/variations...\n"
     ]
    },
    {
     "name": "stderr",
     "output_type": "stream",
     "text": [
      "Processing k-mers to extract information: 100%|██████████| 761/761 [01:00<00:00, 12.66it/s]\n"
     ]
    },
    {
     "name": "stdout",
     "output_type": "stream",
     "text": [
      "Execution time:  68.25480651855469\n",
      "Sample: 56.B1.W09.22_56.M1.W03.21 (Comparison_1: 12-mers)\n",
      "\n",
      "KEVOLVE: extraction mode\n",
      "\n",
      "Load sequences...\n",
      "Count k-mers...\n",
      "Generate matrices...\n",
      "Preprocessing...\n",
      "Solution search...\n",
      "\n",
      "Iteration: 1 | Attempt(s): 1 / 1\n",
      "Mean weighted score 0.97 Max weighted score 1.0 Mean unweighted score 0.965 Max unweighted score 1.0\n",
      "Number of genes : 1\n",
      "\n",
      "Identified solutions (749) saved at : data/comparisons/56.B1.W09.22_56.M1.W03.21/Comparison_1/12\n",
      "Execution time:  144.1452136039734\n",
      "\n",
      "KEVOLVE: motif analyzer mode\n",
      "\n",
      "\n",
      "Identifying perfect matches...\n",
      "\n",
      "Identifying variations...\n"
     ]
    },
    {
     "name": "stderr",
     "output_type": "stream",
     "text": [
      "Processing k-mers: 100%|██████████| 749/749 [00:00<00:00, 7397.08it/s]\n",
      "Processing k-mers for variations: 100%|██████████| 749/749 [00:08<00:00, 87.57it/s]\n",
      "Processing k-mers to extract information:   0%|          | 0/749 [00:00<?, ?it/s]"
     ]
    },
    {
     "name": "stdout",
     "output_type": "stream",
     "text": [
      "\n",
      "Extract information related to signatures/variations...\n"
     ]
    },
    {
     "name": "stderr",
     "output_type": "stream",
     "text": [
      "Processing k-mers to extract information: 100%|██████████| 749/749 [00:50<00:00, 14.90it/s]\n"
     ]
    },
    {
     "name": "stdout",
     "output_type": "stream",
     "text": [
      "Execution time:  58.948713302612305\n",
      "Sample: 56.B1.W09.22_56.M1.W03.21 (Comparison_1: 13-mers)\n",
      "\n",
      "KEVOLVE: extraction mode\n",
      "\n",
      "Load sequences...\n",
      "Count k-mers...\n",
      "Generate matrices...\n",
      "Preprocessing...\n",
      "Solution search...\n",
      "\n",
      "Iteration: 1 | Attempt(s): 1 / 1\n",
      "Mean weighted score 0.969 Max weighted score 1.0 Mean unweighted score 0.964 Max unweighted score 1.0\n",
      "Number of genes : 1\n",
      "\n",
      "Identified solutions (729) saved at : data/comparisons/56.B1.W09.22_56.M1.W03.21/Comparison_1/13\n",
      "Execution time:  144.39194202423096\n",
      "\n",
      "KEVOLVE: motif analyzer mode\n",
      "\n",
      "\n",
      "Identifying perfect matches...\n",
      "\n",
      "Identifying variations...\n"
     ]
    },
    {
     "name": "stderr",
     "output_type": "stream",
     "text": [
      "Processing k-mers: 100%|██████████| 729/729 [00:00<00:00, 7368.48it/s]\n",
      "Processing k-mers for variations: 100%|██████████| 729/729 [00:08<00:00, 81.42it/s]\n",
      "Processing k-mers to extract information:   0%|          | 0/729 [00:00<?, ?it/s]"
     ]
    },
    {
     "name": "stdout",
     "output_type": "stream",
     "text": [
      "\n",
      "Extract information related to signatures/variations...\n"
     ]
    },
    {
     "name": "stderr",
     "output_type": "stream",
     "text": [
      "Processing k-mers to extract information: 100%|██████████| 729/729 [00:43<00:00, 16.62it/s]\n"
     ]
    },
    {
     "name": "stdout",
     "output_type": "stream",
     "text": [
      "Execution time:  52.928417682647705\n",
      "Sample: 56.B1.W09.22_56.M1.W03.21 (Comparison_1: 14-mers)\n",
      "\n",
      "KEVOLVE: extraction mode\n",
      "\n",
      "Load sequences...\n",
      "Count k-mers...\n",
      "Generate matrices...\n",
      "Preprocessing...\n",
      "Solution search...\n",
      "\n",
      "Iteration: 1 | Attempt(s): 1 / 1\n",
      "Mean weighted score 0.966 Max weighted score 1.0 Mean unweighted score 0.961 Max unweighted score 1.0\n",
      "Number of genes : 1\n",
      "\n",
      "Identified solutions (708) saved at : data/comparisons/56.B1.W09.22_56.M1.W03.21/Comparison_1/14\n",
      "Execution time:  144.99932074546814\n",
      "\n",
      "KEVOLVE: motif analyzer mode\n",
      "\n",
      "\n",
      "Identifying perfect matches...\n",
      "\n",
      "Identifying variations...\n"
     ]
    },
    {
     "name": "stderr",
     "output_type": "stream",
     "text": [
      "Processing k-mers: 100%|██████████| 708/708 [00:00<00:00, 7391.54it/s]\n",
      "Processing k-mers for variations: 100%|██████████| 708/708 [00:09<00:00, 76.01it/s]\n",
      "Processing k-mers to extract information:   0%|          | 1/708 [00:00<02:00,  5.87it/s]"
     ]
    },
    {
     "name": "stdout",
     "output_type": "stream",
     "text": [
      "\n",
      "Extract information related to signatures/variations...\n"
     ]
    },
    {
     "name": "stderr",
     "output_type": "stream",
     "text": [
      "Processing k-mers to extract information: 100%|██████████| 708/708 [00:41<00:00, 17.01it/s]\n"
     ]
    },
    {
     "name": "stdout",
     "output_type": "stream",
     "text": [
      "Execution time:  51.05876040458679\n",
      "Sample: 56.B1.W09.22_56.M1.W03.21 (Comparison_1: 15-mers)\n",
      "\n",
      "KEVOLVE: extraction mode\n",
      "\n",
      "Load sequences...\n",
      "Count k-mers...\n",
      "Generate matrices...\n",
      "Preprocessing...\n",
      "Solution search...\n",
      "\n",
      "Iteration: 1 | Attempt(s): 1 / 1\n",
      "Mean weighted score 0.965 Max weighted score 1.0 Mean unweighted score 0.959 Max unweighted score 1.0\n",
      "Number of genes : 1\n",
      "\n",
      "Identified solutions (685) saved at : data/comparisons/56.B1.W09.22_56.M1.W03.21/Comparison_1/15\n",
      "Execution time:  144.06916451454163\n",
      "\n",
      "KEVOLVE: motif analyzer mode\n",
      "\n",
      "\n",
      "Identifying perfect matches...\n",
      "\n",
      "Identifying variations...\n"
     ]
    },
    {
     "name": "stderr",
     "output_type": "stream",
     "text": [
      "Processing k-mers: 100%|██████████| 685/685 [00:00<00:00, 7206.65it/s]\n",
      "Processing k-mers for variations: 100%|██████████| 685/685 [00:09<00:00, 71.33it/s]\n",
      "Processing k-mers to extract information:   0%|          | 2/685 [00:00<00:53, 12.80it/s]"
     ]
    },
    {
     "name": "stdout",
     "output_type": "stream",
     "text": [
      "\n",
      "Extract information related to signatures/variations...\n"
     ]
    },
    {
     "name": "stderr",
     "output_type": "stream",
     "text": [
      "Processing k-mers to extract information: 100%|██████████| 685/685 [00:35<00:00, 19.08it/s]\n"
     ]
    },
    {
     "name": "stdout",
     "output_type": "stream",
     "text": [
      "Execution time:  45.61881136894226\n",
      "Sample: 56.B1.W09.22_56.M1.W03.21 (Comparison_1: 16-mers)\n",
      "\n",
      "KEVOLVE: extraction mode\n",
      "\n",
      "Load sequences...\n",
      "Count k-mers...\n",
      "Generate matrices...\n",
      "Preprocessing...\n",
      "Solution search...\n",
      "\n",
      "Iteration: 1 | Attempt(s): 1 / 1\n",
      "Mean weighted score 0.962 Max weighted score 1.0 Mean unweighted score 0.956 Max unweighted score 1.0\n",
      "Number of genes : 1\n",
      "\n",
      "Identified solutions (661) saved at : data/comparisons/56.B1.W09.22_56.M1.W03.21/Comparison_1/16\n",
      "Execution time:  144.0370922088623\n",
      "\n",
      "KEVOLVE: motif analyzer mode\n",
      "\n",
      "\n",
      "Identifying perfect matches...\n",
      "\n",
      "Identifying variations...\n"
     ]
    },
    {
     "name": "stderr",
     "output_type": "stream",
     "text": [
      "Processing k-mers: 100%|██████████| 661/661 [00:00<00:00, 7380.64it/s]\n",
      "Processing k-mers for variations: 100%|██████████| 661/661 [00:09<00:00, 67.32it/s]\n",
      "Processing k-mers to extract information:   0%|          | 0/661 [00:00<?, ?it/s]"
     ]
    },
    {
     "name": "stdout",
     "output_type": "stream",
     "text": [
      "\n",
      "Extract information related to signatures/variations...\n"
     ]
    },
    {
     "name": "stderr",
     "output_type": "stream",
     "text": [
      "Processing k-mers to extract information: 100%|██████████| 661/661 [00:39<00:00, 16.56it/s]\n"
     ]
    },
    {
     "name": "stdout",
     "output_type": "stream",
     "text": [
      "Execution time:  49.84453892707825\n",
      "Sample: 56.B1.W09.22_56.M1.W03.21 (Comparison_1: 17-mers)\n",
      "\n",
      "KEVOLVE: extraction mode\n",
      "\n",
      "Load sequences...\n",
      "Count k-mers...\n",
      "Generate matrices...\n",
      "Preprocessing...\n",
      "Solution search...\n",
      "\n",
      "Iteration: 1 | Attempt(s): 1 / 1\n",
      "Mean weighted score 0.96 Max weighted score 1.0 Mean unweighted score 0.954 Max unweighted score 1.0\n",
      "Number of genes : 1\n",
      "\n",
      "Identified solutions (638) saved at : data/comparisons/56.B1.W09.22_56.M1.W03.21/Comparison_1/17\n",
      "Execution time:  143.45178508758545\n",
      "\n",
      "KEVOLVE: motif analyzer mode\n",
      "\n",
      "\n",
      "Identifying perfect matches...\n",
      "\n",
      "Identifying variations...\n"
     ]
    },
    {
     "name": "stderr",
     "output_type": "stream",
     "text": [
      "Processing k-mers: 100%|██████████| 638/638 [00:00<00:00, 7309.33it/s]\n",
      "Processing k-mers for variations: 100%|██████████| 638/638 [00:10<00:00, 63.47it/s]\n",
      "Processing k-mers to extract information:   0%|          | 0/638 [00:00<?, ?it/s]"
     ]
    },
    {
     "name": "stdout",
     "output_type": "stream",
     "text": [
      "\n",
      "Extract information related to signatures/variations...\n"
     ]
    },
    {
     "name": "stderr",
     "output_type": "stream",
     "text": [
      "Processing k-mers to extract information: 100%|██████████| 638/638 [00:38<00:00, 16.47it/s]\n"
     ]
    },
    {
     "name": "stdout",
     "output_type": "stream",
     "text": [
      "Execution time:  48.903966188430786\n",
      "Sample: 56.B1.W09.22_56.M1.W03.21 (Comparison_1: 18-mers)\n",
      "\n",
      "KEVOLVE: extraction mode\n",
      "\n",
      "Load sequences...\n",
      "Count k-mers...\n",
      "Generate matrices...\n",
      "Preprocessing...\n",
      "Solution search...\n",
      "\n",
      "Iteration: 1 | Attempt(s): 1 / 1\n",
      "Mean weighted score 0.957 Max weighted score 1.0 Mean unweighted score 0.95 Max unweighted score 1.0\n",
      "Number of genes : 1\n",
      "\n",
      "Identified solutions (615) saved at : data/comparisons/56.B1.W09.22_56.M1.W03.21/Comparison_1/18\n",
      "Execution time:  144.41836595535278\n",
      "\n",
      "KEVOLVE: motif analyzer mode\n",
      "\n",
      "\n",
      "Identifying perfect matches...\n",
      "\n",
      "Identifying variations...\n"
     ]
    },
    {
     "name": "stderr",
     "output_type": "stream",
     "text": [
      "Processing k-mers: 100%|██████████| 615/615 [00:00<00:00, 7429.15it/s]\n",
      "Processing k-mers for variations: 100%|██████████| 615/615 [00:10<00:00, 60.03it/s]\n",
      "Processing k-mers to extract information:   0%|          | 0/615 [00:00<?, ?it/s]"
     ]
    },
    {
     "name": "stdout",
     "output_type": "stream",
     "text": [
      "\n",
      "Extract information related to signatures/variations...\n"
     ]
    },
    {
     "name": "stderr",
     "output_type": "stream",
     "text": [
      "Processing k-mers to extract information: 100%|██████████| 615/615 [00:35<00:00, 17.27it/s]\n"
     ]
    },
    {
     "name": "stdout",
     "output_type": "stream",
     "text": [
      "Execution time:  45.97385263442993\n",
      "Sample: 56.B1.W09.22_56.M1.W03.21 (Comparison_1: 19-mers)\n",
      "\n",
      "KEVOLVE: extraction mode\n",
      "\n",
      "Load sequences...\n",
      "Count k-mers...\n",
      "Generate matrices...\n",
      "Preprocessing...\n",
      "Solution search...\n",
      "\n",
      "Iteration: 1 | Attempt(s): 1 / 1\n",
      "Mean weighted score 0.952 Max weighted score 1.0 Mean unweighted score 0.944 Max unweighted score 1.0\n",
      "Number of genes : 1\n",
      "\n",
      "Identified solutions (592) saved at : data/comparisons/56.B1.W09.22_56.M1.W03.21/Comparison_1/19\n",
      "Execution time:  144.1763436794281\n",
      "\n",
      "KEVOLVE: motif analyzer mode\n",
      "\n",
      "\n",
      "Identifying perfect matches...\n",
      "\n",
      "Identifying variations...\n"
     ]
    },
    {
     "name": "stderr",
     "output_type": "stream",
     "text": [
      "Processing k-mers: 100%|██████████| 592/592 [00:00<00:00, 7253.66it/s]\n",
      "Processing k-mers for variations: 100%|██████████| 592/592 [00:10<00:00, 57.30it/s]\n",
      "Processing k-mers to extract information:   0%|          | 2/592 [00:00<00:49, 11.84it/s]"
     ]
    },
    {
     "name": "stdout",
     "output_type": "stream",
     "text": [
      "\n",
      "Extract information related to signatures/variations...\n"
     ]
    },
    {
     "name": "stderr",
     "output_type": "stream",
     "text": [
      "Processing k-mers to extract information: 100%|██████████| 592/592 [00:36<00:00, 16.33it/s]\n"
     ]
    },
    {
     "name": "stdout",
     "output_type": "stream",
     "text": [
      "Execution time:  46.69232511520386\n",
      "Sample: 56.B1.W09.22_56.M1.W03.21 (Comparison_1: 20-mers)\n",
      "\n",
      "KEVOLVE: extraction mode\n",
      "\n",
      "Load sequences...\n",
      "Count k-mers...\n",
      "Generate matrices...\n",
      "Preprocessing...\n",
      "Solution search...\n",
      "\n",
      "Iteration: 1 | Attempt(s): 1 / 1\n",
      "Mean weighted score 0.951 Max weighted score 1.0 Mean unweighted score 0.943 Max unweighted score 1.0\n",
      "Number of genes : 1\n",
      "\n",
      "Identified solutions (569) saved at : data/comparisons/56.B1.W09.22_56.M1.W03.21/Comparison_1/20\n",
      "Execution time:  144.76411318778992\n",
      "\n",
      "KEVOLVE: motif analyzer mode\n",
      "\n",
      "\n",
      "Identifying perfect matches...\n",
      "\n",
      "Identifying variations...\n"
     ]
    },
    {
     "name": "stderr",
     "output_type": "stream",
     "text": [
      "Processing k-mers: 100%|██████████| 569/569 [00:00<00:00, 6996.65it/s]\n",
      "Processing k-mers for variations: 100%|██████████| 569/569 [00:10<00:00, 54.87it/s]\n",
      "Processing k-mers to extract information:   0%|          | 1/569 [00:00<01:29,  6.38it/s]"
     ]
    },
    {
     "name": "stdout",
     "output_type": "stream",
     "text": [
      "\n",
      "Extract information related to signatures/variations...\n"
     ]
    },
    {
     "name": "stderr",
     "output_type": "stream",
     "text": [
      "Processing k-mers to extract information: 100%|██████████| 569/569 [00:33<00:00, 16.97it/s]\n"
     ]
    },
    {
     "name": "stdout",
     "output_type": "stream",
     "text": [
      "Execution time:  43.997504234313965\n",
      "Sample: 56.B1.W09.22_56.M1.W03.21 (Comparison_1: 21-mers)\n",
      "\n",
      "KEVOLVE: extraction mode\n",
      "\n",
      "Load sequences...\n",
      "Count k-mers...\n",
      "Generate matrices...\n",
      "Preprocessing...\n",
      "Solution search...\n",
      "\n",
      "Iteration: 1 | Attempt(s): 1 / 1\n",
      "Mean weighted score 0.949 Max weighted score 1.0 Mean unweighted score 0.941 Max unweighted score 1.0\n",
      "Number of genes : 1\n",
      "\n",
      "Identified solutions (549) saved at : data/comparisons/56.B1.W09.22_56.M1.W03.21/Comparison_1/21\n",
      "Execution time:  144.1135332584381\n",
      "\n",
      "KEVOLVE: motif analyzer mode\n",
      "\n",
      "\n",
      "Identifying perfect matches...\n",
      "\n",
      "Identifying variations...\n"
     ]
    },
    {
     "name": "stderr",
     "output_type": "stream",
     "text": [
      "Processing k-mers: 100%|██████████| 549/549 [00:00<00:00, 7384.36it/s]\n",
      "Processing k-mers for variations: 100%|██████████| 549/549 [00:10<00:00, 52.95it/s]\n",
      "Processing k-mers to extract information:   0%|          | 0/549 [00:00<?, ?it/s]"
     ]
    },
    {
     "name": "stdout",
     "output_type": "stream",
     "text": [
      "\n",
      "Extract information related to signatures/variations...\n"
     ]
    },
    {
     "name": "stderr",
     "output_type": "stream",
     "text": [
      "Processing k-mers to extract information: 100%|██████████| 549/549 [00:29<00:00, 18.31it/s]\n"
     ]
    },
    {
     "name": "stdout",
     "output_type": "stream",
     "text": [
      "Execution time:  40.4473922252655\n",
      "Sample: 56.B1.W09.22_56.M1.W03.21 (Comparison_4: 9-mers)\n",
      "\n",
      "KEVOLVE: extraction mode\n",
      "\n",
      "Load sequences...\n",
      "Count k-mers...\n",
      "Generate matrices...\n",
      "Preprocessing...\n",
      "Solution search...\n",
      "\n",
      "Iteration: 1 | Attempt(s): 1 / 1\n",
      "Mean weighted score 0.829 Max weighted score 1.0 Mean unweighted score 0.819 Max unweighted score 1.0\n",
      "Number of genes : 1\n",
      "\n",
      "Identified solutions (453) saved at : data/comparisons/56.B1.W09.22_56.M1.W03.21/Comparison_4/9\n",
      "Execution time:  144.29485058784485\n",
      "\n",
      "KEVOLVE: motif analyzer mode\n",
      "\n",
      "\n",
      "Identifying perfect matches...\n",
      "\n",
      "Identifying variations...\n"
     ]
    },
    {
     "name": "stderr",
     "output_type": "stream",
     "text": [
      "Processing k-mers: 100%|██████████| 453/453 [00:00<00:00, 7607.78it/s]\n",
      "Processing k-mers for variations: 100%|██████████| 453/453 [00:03<00:00, 128.91it/s]\n",
      "Processing k-mers to extract information:   0%|          | 0/453 [00:00<?, ?it/s]"
     ]
    },
    {
     "name": "stdout",
     "output_type": "stream",
     "text": [
      "\n",
      "Extract information related to signatures/variations...\n"
     ]
    },
    {
     "name": "stderr",
     "output_type": "stream",
     "text": [
      "Processing k-mers to extract information: 100%|██████████| 453/453 [01:40<00:00,  4.51it/s]\n"
     ]
    },
    {
     "name": "stdout",
     "output_type": "stream",
     "text": [
      "Execution time:  103.97970247268677\n",
      "Sample: 56.B1.W09.22_56.M1.W03.21 (Comparison_4: 10-mers)\n",
      "\n",
      "KEVOLVE: extraction mode\n",
      "\n",
      "Load sequences...\n",
      "Count k-mers...\n",
      "Generate matrices...\n",
      "Preprocessing...\n",
      "Solution search...\n",
      "\n",
      "Iteration: 1 | Attempt(s): 1 / 1\n",
      "Mean weighted score 0.825 Max weighted score 1.0 Mean unweighted score 0.815 Max unweighted score 1.0\n",
      "Number of genes : 1\n",
      "\n",
      "Identified solutions (457) saved at : data/comparisons/56.B1.W09.22_56.M1.W03.21/Comparison_4/10\n",
      "Execution time:  145.30866312980652\n",
      "\n",
      "KEVOLVE: motif analyzer mode\n",
      "\n",
      "\n",
      "Identifying perfect matches...\n",
      "\n",
      "Identifying variations...\n"
     ]
    },
    {
     "name": "stderr",
     "output_type": "stream",
     "text": [
      "Processing k-mers: 100%|██████████| 457/457 [00:00<00:00, 7741.13it/s]\n",
      "Processing k-mers for variations: 100%|██████████| 457/457 [00:03<00:00, 117.31it/s]\n",
      "Processing k-mers to extract information:   0%|          | 0/457 [00:00<?, ?it/s]"
     ]
    },
    {
     "name": "stdout",
     "output_type": "stream",
     "text": [
      "\n",
      "Extract information related to signatures/variations...\n"
     ]
    },
    {
     "name": "stderr",
     "output_type": "stream",
     "text": [
      "Processing k-mers to extract information: 100%|██████████| 457/457 [00:47<00:00,  9.68it/s]\n"
     ]
    },
    {
     "name": "stdout",
     "output_type": "stream",
     "text": [
      "Execution time:  51.168591260910034\n",
      "Sample: 56.B1.W09.22_56.M1.W03.21 (Comparison_4: 11-mers)\n",
      "\n",
      "KEVOLVE: extraction mode\n",
      "\n",
      "Load sequences...\n",
      "Count k-mers...\n",
      "Generate matrices...\n",
      "Preprocessing...\n",
      "Solution search...\n",
      "\n",
      "Iteration: 1 | Attempt(s): 1 / 1\n",
      "Mean weighted score 0.826 Max weighted score 1.0 Mean unweighted score 0.816 Max unweighted score 1.0\n",
      "Number of genes : 1\n",
      "\n",
      "Identified solutions (457) saved at : data/comparisons/56.B1.W09.22_56.M1.W03.21/Comparison_4/11\n",
      "Execution time:  144.571857213974\n",
      "\n",
      "KEVOLVE: motif analyzer mode\n",
      "\n",
      "\n",
      "Identifying perfect matches...\n",
      "\n",
      "Identifying variations...\n"
     ]
    },
    {
     "name": "stderr",
     "output_type": "stream",
     "text": [
      "Processing k-mers: 100%|██████████| 457/457 [00:00<00:00, 7354.28it/s]\n",
      "Processing k-mers for variations: 100%|██████████| 457/457 [00:04<00:00, 107.27it/s]\n",
      "Processing k-mers to extract information:   0%|          | 0/457 [00:00<?, ?it/s]"
     ]
    },
    {
     "name": "stdout",
     "output_type": "stream",
     "text": [
      "\n",
      "Extract information related to signatures/variations...\n"
     ]
    },
    {
     "name": "stderr",
     "output_type": "stream",
     "text": [
      "Processing k-mers to extract information: 100%|██████████| 457/457 [00:34<00:00, 13.38it/s]\n"
     ]
    },
    {
     "name": "stdout",
     "output_type": "stream",
     "text": [
      "Execution time:  38.50516152381897\n",
      "Sample: 56.B1.W09.22_56.M1.W03.21 (Comparison_4: 12-mers)\n",
      "\n",
      "KEVOLVE: extraction mode\n",
      "\n",
      "Load sequences...\n",
      "Count k-mers...\n",
      "Generate matrices...\n",
      "Preprocessing...\n",
      "Solution search...\n",
      "\n",
      "Iteration: 1 | Attempt(s): 1 / 1\n",
      "Mean weighted score 0.826 Max weighted score 1.0 Mean unweighted score 0.816 Max unweighted score 1.0\n",
      "Number of genes : 1\n",
      "\n",
      "Identified solutions (459) saved at : data/comparisons/56.B1.W09.22_56.M1.W03.21/Comparison_4/12\n",
      "Execution time:  144.69796085357666\n",
      "\n",
      "KEVOLVE: motif analyzer mode\n",
      "\n",
      "\n",
      "Identifying perfect matches...\n",
      "\n",
      "Identifying variations...\n"
     ]
    },
    {
     "name": "stderr",
     "output_type": "stream",
     "text": [
      "Processing k-mers: 100%|██████████| 459/459 [00:00<00:00, 7577.47it/s]\n",
      "Processing k-mers for variations: 100%|██████████| 459/459 [00:04<00:00, 98.79it/s] \n",
      "Processing k-mers to extract information:   0%|          | 0/459 [00:00<?, ?it/s]"
     ]
    },
    {
     "name": "stdout",
     "output_type": "stream",
     "text": [
      "\n",
      "Extract information related to signatures/variations...\n"
     ]
    },
    {
     "name": "stderr",
     "output_type": "stream",
     "text": [
      "Processing k-mers to extract information: 100%|██████████| 459/459 [00:30<00:00, 15.27it/s]\n"
     ]
    },
    {
     "name": "stdout",
     "output_type": "stream",
     "text": [
      "Execution time:  34.78723216056824\n",
      "Sample: 56.B1.W09.22_56.M1.W03.21 (Comparison_4: 13-mers)\n",
      "\n",
      "KEVOLVE: extraction mode\n",
      "\n",
      "Load sequences...\n",
      "Count k-mers...\n",
      "Generate matrices...\n",
      "Preprocessing...\n",
      "Solution search...\n",
      "\n",
      "Iteration: 1 | Attempt(s): 1 / 1\n",
      "Mean weighted score 0.824 Max weighted score 1.0 Mean unweighted score 0.813 Max unweighted score 1.0\n",
      "Number of genes : 1\n",
      "\n",
      "Identified solutions (449) saved at : data/comparisons/56.B1.W09.22_56.M1.W03.21/Comparison_4/13\n",
      "Execution time:  144.68875670433044\n",
      "\n",
      "KEVOLVE: motif analyzer mode\n",
      "\n",
      "\n",
      "Identifying perfect matches...\n",
      "\n",
      "Identifying variations...\n"
     ]
    },
    {
     "name": "stderr",
     "output_type": "stream",
     "text": [
      "Processing k-mers: 100%|██████████| 449/449 [00:00<00:00, 7681.59it/s]\n",
      "Processing k-mers for variations: 100%|██████████| 449/449 [00:04<00:00, 92.23it/s]\n",
      "Processing k-mers to extract information:   0%|          | 0/449 [00:00<?, ?it/s]"
     ]
    },
    {
     "name": "stdout",
     "output_type": "stream",
     "text": [
      "\n",
      "Extract information related to signatures/variations...\n"
     ]
    },
    {
     "name": "stderr",
     "output_type": "stream",
     "text": [
      "Processing k-mers to extract information: 100%|██████████| 449/449 [00:24<00:00, 18.42it/s]\n"
     ]
    },
    {
     "name": "stdout",
     "output_type": "stream",
     "text": [
      "Execution time:  29.326547145843506\n",
      "Sample: 56.B1.W09.22_56.M1.W03.21 (Comparison_4: 14-mers)\n",
      "\n",
      "KEVOLVE: extraction mode\n",
      "\n",
      "Load sequences...\n",
      "Count k-mers...\n",
      "Generate matrices...\n",
      "Preprocessing...\n",
      "Solution search...\n",
      "\n",
      "Iteration: 1 | Attempt(s): 1 / 1\n",
      "Mean weighted score 0.825 Max weighted score 1.0 Mean unweighted score 0.815 Max unweighted score 1.0\n",
      "Number of genes : 1\n",
      "\n",
      "Identified solutions (438) saved at : data/comparisons/56.B1.W09.22_56.M1.W03.21/Comparison_4/14\n",
      "Execution time:  144.41933727264404\n",
      "\n",
      "KEVOLVE: motif analyzer mode\n",
      "\n",
      "\n",
      "Identifying perfect matches...\n",
      "\n",
      "Identifying variations...\n"
     ]
    },
    {
     "name": "stderr",
     "output_type": "stream",
     "text": [
      "Processing k-mers: 100%|██████████| 438/438 [00:00<00:00, 7630.38it/s]\n",
      "Processing k-mers for variations: 100%|██████████| 438/438 [00:05<00:00, 85.82it/s]\n",
      "Processing k-mers to extract information:   0%|          | 0/438 [00:00<?, ?it/s]"
     ]
    },
    {
     "name": "stdout",
     "output_type": "stream",
     "text": [
      "\n",
      "Extract information related to signatures/variations...\n"
     ]
    },
    {
     "name": "stderr",
     "output_type": "stream",
     "text": [
      "Processing k-mers to extract information: 100%|██████████| 438/438 [00:23<00:00, 18.46it/s]\n"
     ]
    },
    {
     "name": "stdout",
     "output_type": "stream",
     "text": [
      "Execution time:  28.90886926651001\n",
      "Sample: 56.B1.W09.22_56.M1.W03.21 (Comparison_4: 15-mers)\n",
      "\n",
      "KEVOLVE: extraction mode\n",
      "\n",
      "Load sequences...\n",
      "Count k-mers...\n",
      "Generate matrices...\n",
      "Preprocessing...\n",
      "Solution search...\n",
      "\n",
      "Iteration: 1 | Attempt(s): 1 / 1\n",
      "Mean weighted score 0.824 Max weighted score 1.0 Mean unweighted score 0.813 Max unweighted score 1.0\n",
      "Number of genes : 1\n",
      "\n",
      "Identified solutions (426) saved at : data/comparisons/56.B1.W09.22_56.M1.W03.21/Comparison_4/15\n",
      "Execution time:  144.81944060325623\n",
      "\n",
      "KEVOLVE: motif analyzer mode\n",
      "\n",
      "\n",
      "Identifying perfect matches...\n",
      "\n",
      "Identifying variations...\n"
     ]
    },
    {
     "name": "stderr",
     "output_type": "stream",
     "text": [
      "Processing k-mers: 100%|██████████| 426/426 [00:00<00:00, 7680.19it/s]\n",
      "Processing k-mers for variations: 100%|██████████| 426/426 [00:05<00:00, 80.05it/s]\n",
      "Processing k-mers to extract information:   0%|          | 0/426 [00:00<?, ?it/s]"
     ]
    },
    {
     "name": "stdout",
     "output_type": "stream",
     "text": [
      "\n",
      "Extract information related to signatures/variations...\n"
     ]
    },
    {
     "name": "stderr",
     "output_type": "stream",
     "text": [
      "Processing k-mers to extract information: 100%|██████████| 426/426 [00:20<00:00, 20.78it/s]\n"
     ]
    },
    {
     "name": "stdout",
     "output_type": "stream",
     "text": [
      "Execution time:  25.901671886444092\n",
      "Sample: 56.B1.W09.22_56.M1.W03.21 (Comparison_4: 16-mers)\n",
      "\n",
      "KEVOLVE: extraction mode\n",
      "\n",
      "Load sequences...\n",
      "Count k-mers...\n",
      "Generate matrices...\n",
      "Preprocessing...\n",
      "Solution search...\n",
      "\n",
      "Iteration: 1 | Attempt(s): 1 / 1\n",
      "Mean weighted score 0.822 Max weighted score 1.0 Mean unweighted score 0.811 Max unweighted score 1.0\n",
      "Number of genes : 1\n",
      "\n",
      "Identified solutions (411) saved at : data/comparisons/56.B1.W09.22_56.M1.W03.21/Comparison_4/16\n",
      "Execution time:  144.3656506538391\n",
      "\n",
      "KEVOLVE: motif analyzer mode\n",
      "\n",
      "\n",
      "Identifying perfect matches...\n",
      "\n",
      "Identifying variations...\n"
     ]
    },
    {
     "name": "stderr",
     "output_type": "stream",
     "text": [
      "Processing k-mers: 100%|██████████| 411/411 [00:00<00:00, 7624.76it/s]\n",
      "Processing k-mers for variations: 100%|██████████| 411/411 [00:05<00:00, 75.57it/s]\n",
      "Processing k-mers to extract information:   0%|          | 0/411 [00:00<?, ?it/s]"
     ]
    },
    {
     "name": "stdout",
     "output_type": "stream",
     "text": [
      "\n",
      "Extract information related to signatures/variations...\n"
     ]
    },
    {
     "name": "stderr",
     "output_type": "stream",
     "text": [
      "Processing k-mers to extract information: 100%|██████████| 411/411 [00:24<00:00, 17.02it/s]\n"
     ]
    },
    {
     "name": "stdout",
     "output_type": "stream",
     "text": [
      "Execution time:  29.663367748260498\n",
      "Sample: 56.B1.W09.22_56.M1.W03.21 (Comparison_4: 17-mers)\n",
      "\n",
      "KEVOLVE: extraction mode\n",
      "\n",
      "Load sequences...\n",
      "Count k-mers...\n",
      "Generate matrices...\n",
      "Preprocessing...\n",
      "Solution search...\n",
      "\n",
      "Iteration: 1 | Attempt(s): 1 / 1\n",
      "Mean weighted score 0.819 Max weighted score 1.0 Mean unweighted score 0.808 Max unweighted score 1.0\n",
      "Number of genes : 1\n",
      "\n",
      "Identified solutions (397) saved at : data/comparisons/56.B1.W09.22_56.M1.W03.21/Comparison_4/17\n",
      "Execution time:  144.5334391593933\n",
      "\n",
      "KEVOLVE: motif analyzer mode\n",
      "\n",
      "\n",
      "Identifying perfect matches...\n",
      "\n",
      "Identifying variations...\n"
     ]
    },
    {
     "name": "stderr",
     "output_type": "stream",
     "text": [
      "Processing k-mers: 100%|██████████| 397/397 [00:00<00:00, 7414.62it/s]\n",
      "Processing k-mers for variations: 100%|██████████| 397/397 [00:05<00:00, 71.89it/s]\n"
     ]
    },
    {
     "name": "stdout",
     "output_type": "stream",
     "text": [
      "\n",
      "Extract information related to signatures/variations...\n"
     ]
    },
    {
     "name": "stderr",
     "output_type": "stream",
     "text": [
      "Processing k-mers to extract information: 100%|██████████| 397/397 [00:22<00:00, 17.84it/s]\n"
     ]
    },
    {
     "name": "stdout",
     "output_type": "stream",
     "text": [
      "Execution time:  27.851710319519043\n",
      "Sample: 56.B1.W09.22_56.M1.W03.21 (Comparison_4: 18-mers)\n",
      "\n",
      "KEVOLVE: extraction mode\n",
      "\n",
      "Load sequences...\n",
      "Count k-mers...\n",
      "Generate matrices...\n",
      "Preprocessing...\n",
      "Solution search...\n",
      "\n",
      "Iteration: 1 | Attempt(s): 1 / 1\n",
      "Mean weighted score 0.818 Max weighted score 1.0 Mean unweighted score 0.807 Max unweighted score 1.0\n",
      "Number of genes : 1\n",
      "\n",
      "Identified solutions (383) saved at : data/comparisons/56.B1.W09.22_56.M1.W03.21/Comparison_4/18\n",
      "Execution time:  144.60490250587463\n",
      "\n",
      "KEVOLVE: motif analyzer mode\n",
      "\n",
      "\n",
      "Identifying perfect matches...\n",
      "\n",
      "Identifying variations...\n"
     ]
    },
    {
     "name": "stderr",
     "output_type": "stream",
     "text": [
      "Processing k-mers: 100%|██████████| 383/383 [00:00<00:00, 7523.96it/s]\n",
      "Processing k-mers for variations: 100%|██████████| 383/383 [00:05<00:00, 67.85it/s]\n",
      "Processing k-mers to extract information:   0%|          | 0/383 [00:00<?, ?it/s]"
     ]
    },
    {
     "name": "stdout",
     "output_type": "stream",
     "text": [
      "\n",
      "Extract information related to signatures/variations...\n"
     ]
    },
    {
     "name": "stderr",
     "output_type": "stream",
     "text": [
      "Processing k-mers to extract information: 100%|██████████| 383/383 [00:20<00:00, 18.63it/s]\n"
     ]
    },
    {
     "name": "stdout",
     "output_type": "stream",
     "text": [
      "Execution time:  26.276585817337036\n",
      "Sample: 56.B1.W09.22_56.M1.W03.21 (Comparison_4: 19-mers)\n",
      "\n",
      "KEVOLVE: extraction mode\n",
      "\n",
      "Load sequences...\n",
      "Count k-mers...\n",
      "Generate matrices...\n",
      "Preprocessing...\n",
      "Solution search...\n",
      "\n",
      "Iteration: 1 | Attempt(s): 1 / 1\n",
      "Mean weighted score 0.817 Max weighted score 1.0 Mean unweighted score 0.807 Max unweighted score 1.0\n",
      "Number of genes : 1\n",
      "\n",
      "Identified solutions (368) saved at : data/comparisons/56.B1.W09.22_56.M1.W03.21/Comparison_4/19\n",
      "Execution time:  144.56126928329468\n",
      "\n",
      "KEVOLVE: motif analyzer mode\n",
      "\n",
      "\n",
      "Identifying perfect matches...\n",
      "\n",
      "Identifying variations...\n"
     ]
    },
    {
     "name": "stderr",
     "output_type": "stream",
     "text": [
      "Processing k-mers: 100%|██████████| 368/368 [00:00<00:00, 7538.08it/s]\n",
      "Processing k-mers for variations: 100%|██████████| 368/368 [00:05<00:00, 64.72it/s]\n",
      "Processing k-mers to extract information:   0%|          | 0/368 [00:00<?, ?it/s]"
     ]
    },
    {
     "name": "stdout",
     "output_type": "stream",
     "text": [
      "\n",
      "Extract information related to signatures/variations...\n"
     ]
    },
    {
     "name": "stderr",
     "output_type": "stream",
     "text": [
      "Processing k-mers to extract information: 100%|██████████| 368/368 [00:19<00:00, 18.56it/s]\n"
     ]
    },
    {
     "name": "stdout",
     "output_type": "stream",
     "text": [
      "Execution time:  25.582114458084106\n",
      "Sample: 56.B1.W09.22_56.M1.W03.21 (Comparison_4: 20-mers)\n",
      "\n",
      "KEVOLVE: extraction mode\n",
      "\n",
      "Load sequences...\n",
      "Count k-mers...\n",
      "Generate matrices...\n",
      "Preprocessing...\n",
      "Solution search...\n",
      "\n",
      "Iteration: 1 | Attempt(s): 1 / 1\n",
      "Mean weighted score 0.816 Max weighted score 1.0 Mean unweighted score 0.805 Max unweighted score 1.0\n",
      "Number of genes : 1\n",
      "\n",
      "Identified solutions (353) saved at : data/comparisons/56.B1.W09.22_56.M1.W03.21/Comparison_4/20\n",
      "Execution time:  144.48231077194214\n",
      "\n",
      "KEVOLVE: motif analyzer mode\n",
      "\n",
      "\n",
      "Identifying perfect matches...\n",
      "\n",
      "Identifying variations...\n"
     ]
    },
    {
     "name": "stderr",
     "output_type": "stream",
     "text": [
      "Processing k-mers: 100%|██████████| 353/353 [00:00<00:00, 7385.48it/s]\n",
      "Processing k-mers for variations: 100%|██████████| 353/353 [00:05<00:00, 62.05it/s]\n",
      "Processing k-mers to extract information:   1%|          | 2/353 [00:00<00:22, 15.89it/s]"
     ]
    },
    {
     "name": "stdout",
     "output_type": "stream",
     "text": [
      "\n",
      "Extract information related to signatures/variations...\n"
     ]
    },
    {
     "name": "stderr",
     "output_type": "stream",
     "text": [
      "Processing k-mers to extract information: 100%|██████████| 353/353 [00:19<00:00, 18.37it/s]\n"
     ]
    },
    {
     "name": "stdout",
     "output_type": "stream",
     "text": [
      "Execution time:  24.970598936080933\n",
      "Sample: 56.B1.W09.22_56.M1.W03.21 (Comparison_4: 21-mers)\n",
      "\n",
      "KEVOLVE: extraction mode\n",
      "\n",
      "Load sequences...\n",
      "Count k-mers...\n",
      "Generate matrices...\n",
      "Preprocessing...\n",
      "Solution search...\n",
      "\n",
      "Iteration: 1 | Attempt(s): 1 / 1\n",
      "Mean weighted score 0.815 Max weighted score 1.0 Mean unweighted score 0.804 Max unweighted score 1.0\n",
      "Number of genes : 1\n",
      "\n",
      "Identified solutions (341) saved at : data/comparisons/56.B1.W09.22_56.M1.W03.21/Comparison_4/21\n",
      "Execution time:  144.03778290748596\n",
      "\n",
      "KEVOLVE: motif analyzer mode\n",
      "\n",
      "\n",
      "Identifying perfect matches...\n",
      "\n",
      "Identifying variations...\n"
     ]
    },
    {
     "name": "stderr",
     "output_type": "stream",
     "text": [
      "Processing k-mers: 100%|██████████| 341/341 [00:00<00:00, 7410.85it/s]\n",
      "Processing k-mers for variations: 100%|██████████| 341/341 [00:05<00:00, 59.09it/s]\n",
      "Processing k-mers to extract information:   0%|          | 0/341 [00:00<?, ?it/s]"
     ]
    },
    {
     "name": "stdout",
     "output_type": "stream",
     "text": [
      "\n",
      "Extract information related to signatures/variations...\n"
     ]
    },
    {
     "name": "stderr",
     "output_type": "stream",
     "text": [
      "Processing k-mers to extract information: 100%|██████████| 341/341 [00:16<00:00, 20.08it/s]\n"
     ]
    },
    {
     "name": "stdout",
     "output_type": "stream",
     "text": [
      "Execution time:  22.818111419677734\n",
      "Sample: 56.B1.W09.22_56.M1.W03.21 (Comparison_2: 9-mers)\n",
      "\n",
      "KEVOLVE: extraction mode\n",
      "\n",
      "Load sequences...\n",
      "Count k-mers...\n",
      "Generate matrices...\n",
      "Preprocessing...\n",
      "Solution search...\n",
      "\n",
      "Iteration: 1 | Attempt(s): 1 / 1\n",
      "Mean weighted score 0.912 Max weighted score 1.0 Mean unweighted score 0.895 Max unweighted score 1.0\n",
      "Number of genes : 1\n",
      "\n",
      "Identified solutions (409) saved at : data/comparisons/56.B1.W09.22_56.M1.W03.21/Comparison_2/9\n",
      "Execution time:  144.04128766059875\n",
      "\n",
      "KEVOLVE: motif analyzer mode\n",
      "\n",
      "\n",
      "Identifying perfect matches...\n",
      "\n",
      "Identifying variations...\n"
     ]
    },
    {
     "name": "stderr",
     "output_type": "stream",
     "text": [
      "Processing k-mers: 100%|██████████| 409/409 [00:00<00:00, 7662.90it/s]\n",
      "Processing k-mers for variations: 100%|██████████| 409/409 [00:03<00:00, 131.38it/s]\n",
      "Processing k-mers to extract information:   0%|          | 0/409 [00:00<?, ?it/s]"
     ]
    },
    {
     "name": "stdout",
     "output_type": "stream",
     "text": [
      "\n",
      "Extract information related to signatures/variations...\n"
     ]
    },
    {
     "name": "stderr",
     "output_type": "stream",
     "text": [
      "Processing k-mers to extract information: 100%|██████████| 409/409 [01:47<00:00,  3.79it/s]\n"
     ]
    },
    {
     "name": "stdout",
     "output_type": "stream",
     "text": [
      "Execution time:  111.05805253982544\n",
      "Sample: 56.B1.W09.22_56.M1.W03.21 (Comparison_2: 10-mers)\n",
      "\n",
      "KEVOLVE: extraction mode\n",
      "\n",
      "Load sequences...\n",
      "Count k-mers...\n",
      "Generate matrices...\n",
      "Preprocessing...\n",
      "Solution search...\n",
      "\n",
      "Iteration: 1 | Attempt(s): 1 / 1\n",
      "Mean weighted score 0.916 Max weighted score 1.0 Mean unweighted score 0.9 Max unweighted score 1.0\n",
      "Number of genes : 1\n",
      "\n",
      "Identified solutions (415) saved at : data/comparisons/56.B1.W09.22_56.M1.W03.21/Comparison_2/10\n",
      "Execution time:  144.06229186058044\n",
      "\n",
      "KEVOLVE: motif analyzer mode\n",
      "\n",
      "\n",
      "Identifying perfect matches...\n",
      "\n",
      "Identifying variations...\n"
     ]
    },
    {
     "name": "stderr",
     "output_type": "stream",
     "text": [
      "Processing k-mers: 100%|██████████| 415/415 [00:00<00:00, 7681.60it/s]\n",
      "Processing k-mers for variations: 100%|██████████| 415/415 [00:03<00:00, 120.26it/s]\n",
      "Processing k-mers to extract information:   0%|          | 0/415 [00:00<?, ?it/s]"
     ]
    },
    {
     "name": "stdout",
     "output_type": "stream",
     "text": [
      "\n",
      "Extract information related to signatures/variations...\n"
     ]
    },
    {
     "name": "stderr",
     "output_type": "stream",
     "text": [
      "Processing k-mers to extract information: 100%|██████████| 415/415 [00:45<00:00,  9.22it/s]\n"
     ]
    },
    {
     "name": "stdout",
     "output_type": "stream",
     "text": [
      "Execution time:  48.53672695159912\n",
      "Sample: 56.B1.W09.22_56.M1.W03.21 (Comparison_2: 11-mers)\n",
      "\n",
      "KEVOLVE: extraction mode\n",
      "\n",
      "Load sequences...\n",
      "Count k-mers...\n",
      "Generate matrices...\n",
      "Preprocessing...\n",
      "Solution search...\n",
      "\n",
      "Iteration: 1 | Attempt(s): 1 / 1\n",
      "Mean weighted score 0.915 Max weighted score 1.0 Mean unweighted score 0.899 Max unweighted score 1.0\n",
      "Number of genes : 1\n",
      "\n",
      "Identified solutions (419) saved at : data/comparisons/56.B1.W09.22_56.M1.W03.21/Comparison_2/11\n",
      "Execution time:  145.48934626579285\n",
      "\n",
      "KEVOLVE: motif analyzer mode\n",
      "\n",
      "\n",
      "Identifying perfect matches...\n",
      "\n",
      "Identifying variations...\n"
     ]
    },
    {
     "name": "stderr",
     "output_type": "stream",
     "text": [
      "Processing k-mers: 100%|██████████| 419/419 [00:00<00:00, 7345.11it/s]\n",
      "Processing k-mers for variations: 100%|██████████| 419/419 [00:03<00:00, 105.88it/s]\n",
      "Processing k-mers to extract information:   0%|          | 0/419 [00:00<?, ?it/s]"
     ]
    },
    {
     "name": "stdout",
     "output_type": "stream",
     "text": [
      "\n",
      "Extract information related to signatures/variations...\n"
     ]
    },
    {
     "name": "stderr",
     "output_type": "stream",
     "text": [
      "Processing k-mers to extract information: 100%|██████████| 419/419 [00:38<00:00, 10.95it/s]\n"
     ]
    },
    {
     "name": "stdout",
     "output_type": "stream",
     "text": [
      "Execution time:  42.30687952041626\n",
      "Sample: 56.B1.W09.22_56.M1.W03.21 (Comparison_2: 12-mers)\n",
      "\n",
      "KEVOLVE: extraction mode\n",
      "\n",
      "Load sequences...\n",
      "Count k-mers...\n",
      "Generate matrices...\n",
      "Preprocessing...\n",
      "Solution search...\n",
      "\n",
      "Iteration: 1 | Attempt(s): 1 / 1\n",
      "Mean weighted score 0.913 Max weighted score 1.0 Mean unweighted score 0.897 Max unweighted score 1.0\n",
      "Number of genes : 1\n",
      "\n",
      "Identified solutions (423) saved at : data/comparisons/56.B1.W09.22_56.M1.W03.21/Comparison_2/12\n",
      "Execution time:  145.16983675956726\n",
      "\n",
      "KEVOLVE: motif analyzer mode\n",
      "\n",
      "\n",
      "Identifying perfect matches...\n",
      "\n",
      "Identifying variations...\n"
     ]
    },
    {
     "name": "stderr",
     "output_type": "stream",
     "text": [
      "Processing k-mers: 100%|██████████| 423/423 [00:00<00:00, 7263.89it/s]\n",
      "Processing k-mers for variations: 100%|██████████| 423/423 [00:04<00:00, 97.12it/s] \n",
      "Processing k-mers to extract information:   0%|          | 0/423 [00:00<?, ?it/s]"
     ]
    },
    {
     "name": "stdout",
     "output_type": "stream",
     "text": [
      "\n",
      "Extract information related to signatures/variations...\n"
     ]
    },
    {
     "name": "stderr",
     "output_type": "stream",
     "text": [
      "Processing k-mers to extract information: 100%|██████████| 423/423 [00:34<00:00, 12.40it/s]\n"
     ]
    },
    {
     "name": "stdout",
     "output_type": "stream",
     "text": [
      "Execution time:  38.556997776031494\n",
      "Sample: 56.B1.W09.22_56.M1.W03.21 (Comparison_2: 13-mers)\n",
      "\n",
      "KEVOLVE: extraction mode\n",
      "\n",
      "Load sequences...\n",
      "Count k-mers...\n",
      "Generate matrices...\n",
      "Preprocessing...\n",
      "Solution search...\n",
      "\n",
      "Iteration: 1 | Attempt(s): 1 / 1\n",
      "Mean weighted score 0.914 Max weighted score 1.0 Mean unweighted score 0.898 Max unweighted score 1.0\n",
      "Number of genes : 1\n",
      "\n",
      "Identified solutions (416) saved at : data/comparisons/56.B1.W09.22_56.M1.W03.21/Comparison_2/13\n",
      "Execution time:  145.67121195793152\n",
      "\n",
      "KEVOLVE: motif analyzer mode\n",
      "\n",
      "\n",
      "Identifying perfect matches...\n",
      "\n",
      "Identifying variations...\n"
     ]
    },
    {
     "name": "stderr",
     "output_type": "stream",
     "text": [
      "Processing k-mers: 100%|██████████| 416/416 [00:00<00:00, 7470.40it/s]\n",
      "Processing k-mers for variations: 100%|██████████| 416/416 [00:04<00:00, 91.60it/s] \n",
      "Processing k-mers to extract information:   0%|          | 1/416 [00:00<01:04,  6.42it/s]"
     ]
    },
    {
     "name": "stdout",
     "output_type": "stream",
     "text": [
      "\n",
      "Extract information related to signatures/variations...\n"
     ]
    },
    {
     "name": "stderr",
     "output_type": "stream",
     "text": [
      "Processing k-mers to extract information: 100%|██████████| 416/416 [00:26<00:00, 15.62it/s]\n"
     ]
    },
    {
     "name": "stdout",
     "output_type": "stream",
     "text": [
      "Execution time:  31.248137950897217\n",
      "Sample: 56.B1.W09.22_56.M1.W03.21 (Comparison_2: 14-mers)\n",
      "\n",
      "KEVOLVE: extraction mode\n",
      "\n",
      "Load sequences...\n",
      "Count k-mers...\n",
      "Generate matrices...\n",
      "Preprocessing...\n",
      "Solution search...\n",
      "\n",
      "Iteration: 1 | Attempt(s): 1 / 1\n",
      "Mean weighted score 0.914 Max weighted score 1.0 Mean unweighted score 0.898 Max unweighted score 1.0\n",
      "Number of genes : 1\n",
      "\n",
      "Identified solutions (408) saved at : data/comparisons/56.B1.W09.22_56.M1.W03.21/Comparison_2/14\n",
      "Execution time:  145.2098457813263\n",
      "\n",
      "KEVOLVE: motif analyzer mode\n",
      "\n",
      "\n",
      "Identifying perfect matches...\n",
      "\n",
      "Identifying variations...\n"
     ]
    },
    {
     "name": "stderr",
     "output_type": "stream",
     "text": [
      "Processing k-mers: 100%|██████████| 408/408 [00:00<00:00, 7061.76it/s]\n",
      "Processing k-mers for variations: 100%|██████████| 408/408 [00:04<00:00, 86.45it/s]\n",
      "Processing k-mers to extract information:   1%|          | 3/408 [00:00<00:20, 19.92it/s]"
     ]
    },
    {
     "name": "stdout",
     "output_type": "stream",
     "text": [
      "\n",
      "Extract information related to signatures/variations...\n"
     ]
    },
    {
     "name": "stderr",
     "output_type": "stream",
     "text": [
      "Processing k-mers to extract information: 100%|██████████| 408/408 [00:27<00:00, 15.01it/s]\n"
     ]
    },
    {
     "name": "stdout",
     "output_type": "stream",
     "text": [
      "Execution time:  31.98934006690979\n",
      "Sample: 56.B1.W09.22_56.M1.W03.21 (Comparison_2: 15-mers)\n",
      "\n",
      "KEVOLVE: extraction mode\n",
      "\n",
      "Load sequences...\n",
      "Count k-mers...\n",
      "Generate matrices...\n",
      "Preprocessing...\n",
      "Solution search...\n",
      "\n",
      "Iteration: 1 | Attempt(s): 1 / 1\n",
      "Mean weighted score 0.913 Max weighted score 1.0 Mean unweighted score 0.897 Max unweighted score 1.0\n",
      "Number of genes : 1\n",
      "\n",
      "Identified solutions (397) saved at : data/comparisons/56.B1.W09.22_56.M1.W03.21/Comparison_2/15\n",
      "Execution time:  145.19243454933167\n",
      "\n",
      "KEVOLVE: motif analyzer mode\n",
      "\n",
      "\n",
      "Identifying perfect matches...\n",
      "\n",
      "Identifying variations...\n"
     ]
    },
    {
     "name": "stderr",
     "output_type": "stream",
     "text": [
      "Processing k-mers: 100%|██████████| 397/397 [00:00<00:00, 6789.81it/s]\n",
      "Processing k-mers for variations: 100%|██████████| 397/397 [00:04<00:00, 82.20it/s]\n",
      "Processing k-mers to extract information:   0%|          | 0/397 [00:00<?, ?it/s]"
     ]
    },
    {
     "name": "stdout",
     "output_type": "stream",
     "text": [
      "\n",
      "Extract information related to signatures/variations...\n"
     ]
    },
    {
     "name": "stderr",
     "output_type": "stream",
     "text": [
      "Processing k-mers to extract information: 100%|██████████| 397/397 [00:37<00:00, 10.57it/s]\n"
     ]
    },
    {
     "name": "stdout",
     "output_type": "stream",
     "text": [
      "Execution time:  42.62904953956604\n",
      "Sample: 56.B1.W09.22_56.M1.W03.21 (Comparison_2: 16-mers)\n",
      "\n",
      "KEVOLVE: extraction mode\n",
      "\n",
      "Load sequences...\n",
      "Count k-mers...\n",
      "Generate matrices...\n",
      "Preprocessing...\n",
      "Solution search...\n",
      "\n",
      "Iteration: 1 | Attempt(s): 1 / 1\n",
      "Mean weighted score 0.912 Max weighted score 1.0 Mean unweighted score 0.896 Max unweighted score 1.0\n",
      "Number of genes : 1\n",
      "\n",
      "Identified solutions (384) saved at : data/comparisons/56.B1.W09.22_56.M1.W03.21/Comparison_2/16\n",
      "Execution time:  145.74762201309204\n",
      "\n",
      "KEVOLVE: motif analyzer mode\n",
      "\n",
      "\n",
      "Identifying perfect matches...\n",
      "\n",
      "Identifying variations...\n"
     ]
    },
    {
     "name": "stderr",
     "output_type": "stream",
     "text": [
      "Processing k-mers: 100%|██████████| 384/384 [00:00<00:00, 7139.46it/s]\n",
      "Processing k-mers for variations: 100%|██████████| 384/384 [00:04<00:00, 77.89it/s]\n",
      "Processing k-mers to extract information:   0%|          | 0/384 [00:00<?, ?it/s]"
     ]
    },
    {
     "name": "stdout",
     "output_type": "stream",
     "text": [
      "\n",
      "Extract information related to signatures/variations...\n"
     ]
    },
    {
     "name": "stderr",
     "output_type": "stream",
     "text": [
      "Processing k-mers to extract information: 100%|██████████| 384/384 [00:28<00:00, 13.64it/s]\n"
     ]
    },
    {
     "name": "stdout",
     "output_type": "stream",
     "text": [
      "Execution time:  33.156450033187866\n",
      "Sample: 56.B1.W09.22_56.M1.W03.21 (Comparison_2: 17-mers)\n",
      "\n",
      "KEVOLVE: extraction mode\n",
      "\n",
      "Load sequences...\n",
      "Count k-mers...\n",
      "Generate matrices...\n",
      "Preprocessing...\n",
      "Solution search...\n",
      "\n",
      "Iteration: 1 | Attempt(s): 1 / 1\n",
      "Mean weighted score 0.909 Max weighted score 1.0 Mean unweighted score 0.893 Max unweighted score 1.0\n",
      "Number of genes : 1\n",
      "\n",
      "Identified solutions (372) saved at : data/comparisons/56.B1.W09.22_56.M1.W03.21/Comparison_2/17\n",
      "Execution time:  145.34929180145264\n",
      "\n",
      "KEVOLVE: motif analyzer mode\n",
      "\n",
      "\n",
      "Identifying perfect matches...\n",
      "\n",
      "Identifying variations...\n"
     ]
    },
    {
     "name": "stderr",
     "output_type": "stream",
     "text": [
      "Processing k-mers: 100%|██████████| 372/372 [00:00<00:00, 7296.93it/s]\n",
      "Processing k-mers for variations: 100%|██████████| 372/372 [00:04<00:00, 74.72it/s]\n",
      "Processing k-mers to extract information:   0%|          | 0/372 [00:00<?, ?it/s]"
     ]
    },
    {
     "name": "stdout",
     "output_type": "stream",
     "text": [
      "\n",
      "Extract information related to signatures/variations...\n"
     ]
    },
    {
     "name": "stderr",
     "output_type": "stream",
     "text": [
      "Processing k-mers to extract information: 100%|██████████| 372/372 [00:26<00:00, 14.08it/s]\n"
     ]
    },
    {
     "name": "stdout",
     "output_type": "stream",
     "text": [
      "Execution time:  31.46837329864502\n",
      "Sample: 56.B1.W09.22_56.M1.W03.21 (Comparison_2: 18-mers)\n",
      "\n",
      "KEVOLVE: extraction mode\n",
      "\n",
      "Load sequences...\n",
      "Count k-mers...\n",
      "Generate matrices...\n",
      "Preprocessing...\n",
      "Solution search...\n",
      "\n",
      "Iteration: 1 | Attempt(s): 1 / 1\n",
      "Mean weighted score 0.909 Max weighted score 1.0 Mean unweighted score 0.893 Max unweighted score 1.0\n",
      "Number of genes : 1\n",
      "\n",
      "Identified solutions (360) saved at : data/comparisons/56.B1.W09.22_56.M1.W03.21/Comparison_2/18\n",
      "Execution time:  145.45311284065247\n",
      "\n",
      "KEVOLVE: motif analyzer mode\n",
      "\n",
      "\n",
      "Identifying perfect matches...\n",
      "\n",
      "Identifying variations...\n"
     ]
    },
    {
     "name": "stderr",
     "output_type": "stream",
     "text": [
      "Processing k-mers: 100%|██████████| 360/360 [00:00<00:00, 7428.51it/s]\n",
      "Processing k-mers for variations: 100%|██████████| 360/360 [00:04<00:00, 72.88it/s]\n",
      "Processing k-mers to extract information:   0%|          | 0/360 [00:00<?, ?it/s]"
     ]
    },
    {
     "name": "stdout",
     "output_type": "stream",
     "text": [
      "\n",
      "Extract information related to signatures/variations...\n"
     ]
    },
    {
     "name": "stderr",
     "output_type": "stream",
     "text": [
      "Processing k-mers to extract information: 100%|██████████| 360/360 [00:24<00:00, 14.59it/s]\n"
     ]
    },
    {
     "name": "stdout",
     "output_type": "stream",
     "text": [
      "Execution time:  29.68863606452942\n",
      "Sample: 56.B1.W09.22_56.M1.W03.21 (Comparison_2: 19-mers)\n",
      "\n",
      "KEVOLVE: extraction mode\n",
      "\n",
      "Load sequences...\n",
      "Count k-mers...\n",
      "Generate matrices...\n",
      "Preprocessing...\n",
      "Solution search...\n",
      "\n",
      "Iteration: 1 | Attempt(s): 1 / 1\n",
      "Mean weighted score 0.874 Max weighted score 1.0 Mean unweighted score 0.85 Max unweighted score 1.0\n",
      "Number of genes : 1\n",
      "\n",
      "Identified solutions (349) saved at : data/comparisons/56.B1.W09.22_56.M1.W03.21/Comparison_2/19\n",
      "Execution time:  145.41802191734314\n",
      "\n",
      "KEVOLVE: motif analyzer mode\n",
      "\n",
      "\n",
      "Identifying perfect matches...\n",
      "\n",
      "Identifying variations...\n"
     ]
    },
    {
     "name": "stderr",
     "output_type": "stream",
     "text": [
      "Processing k-mers: 100%|██████████| 349/349 [00:00<00:00, 7246.63it/s]\n",
      "Processing k-mers for variations: 100%|██████████| 349/349 [00:05<00:00, 69.07it/s]\n",
      "Processing k-mers to extract information:   0%|          | 0/349 [00:00<?, ?it/s]"
     ]
    },
    {
     "name": "stdout",
     "output_type": "stream",
     "text": [
      "\n",
      "Extract information related to signatures/variations...\n"
     ]
    },
    {
     "name": "stderr",
     "output_type": "stream",
     "text": [
      "Processing k-mers to extract information: 100%|██████████| 349/349 [00:24<00:00, 14.25it/s]\n"
     ]
    },
    {
     "name": "stdout",
     "output_type": "stream",
     "text": [
      "Execution time:  29.623395204544067\n",
      "Sample: 56.B1.W09.22_56.M1.W03.21 (Comparison_2: 20-mers)\n",
      "\n",
      "KEVOLVE: extraction mode\n",
      "\n",
      "Load sequences...\n",
      "Count k-mers...\n",
      "Generate matrices...\n",
      "Preprocessing...\n",
      "Solution search...\n",
      "\n",
      "Iteration: 1 | Attempt(s): 1 / 1\n",
      "Mean weighted score 0.876 Max weighted score 1.0 Mean unweighted score 0.852 Max unweighted score 1.0\n",
      "Number of genes : 1\n",
      "\n",
      "Identified solutions (339) saved at : data/comparisons/56.B1.W09.22_56.M1.W03.21/Comparison_2/20\n",
      "Execution time:  145.2912278175354\n",
      "\n",
      "KEVOLVE: motif analyzer mode\n",
      "\n",
      "\n",
      "Identifying perfect matches...\n",
      "\n",
      "Identifying variations...\n"
     ]
    },
    {
     "name": "stderr",
     "output_type": "stream",
     "text": [
      "Processing k-mers: 100%|██████████| 339/339 [00:00<00:00, 7252.95it/s]\n",
      "Processing k-mers for variations: 100%|██████████| 339/339 [00:05<00:00, 64.26it/s]\n",
      "Processing k-mers to extract information:   0%|          | 1/339 [00:00<00:57,  5.93it/s]"
     ]
    },
    {
     "name": "stdout",
     "output_type": "stream",
     "text": [
      "\n",
      "Extract information related to signatures/variations...\n"
     ]
    },
    {
     "name": "stderr",
     "output_type": "stream",
     "text": [
      "Processing k-mers to extract information: 100%|██████████| 339/339 [00:23<00:00, 14.51it/s]\n"
     ]
    },
    {
     "name": "stdout",
     "output_type": "stream",
     "text": [
      "Execution time:  28.70862579345703\n",
      "Sample: 56.B1.W09.22_56.M1.W03.21 (Comparison_2: 21-mers)\n",
      "\n",
      "KEVOLVE: extraction mode\n",
      "\n",
      "Load sequences...\n",
      "Count k-mers...\n",
      "Generate matrices...\n",
      "Preprocessing...\n",
      "Solution search...\n",
      "\n",
      "Iteration: 1 | Attempt(s): 1 / 1\n",
      "Mean weighted score 0.876 Max weighted score 1.0 Mean unweighted score 0.852 Max unweighted score 1.0\n",
      "Number of genes : 1\n",
      "\n",
      "Identified solutions (331) saved at : data/comparisons/56.B1.W09.22_56.M1.W03.21/Comparison_2/21\n",
      "Execution time:  145.28511667251587\n",
      "\n",
      "KEVOLVE: motif analyzer mode\n",
      "\n",
      "\n",
      "Identifying perfect matches...\n",
      "\n",
      "Identifying variations...\n"
     ]
    },
    {
     "name": "stderr",
     "output_type": "stream",
     "text": [
      "Processing k-mers: 100%|██████████| 331/331 [00:00<00:00, 7258.21it/s]\n",
      "Processing k-mers for variations: 100%|██████████| 331/331 [00:05<00:00, 60.71it/s]\n",
      "Processing k-mers to extract information:   0%|          | 1/331 [00:00<00:52,  6.30it/s]"
     ]
    },
    {
     "name": "stdout",
     "output_type": "stream",
     "text": [
      "\n",
      "Extract information related to signatures/variations...\n"
     ]
    },
    {
     "name": "stderr",
     "output_type": "stream",
     "text": [
      "Processing k-mers to extract information: 100%|██████████| 331/331 [00:21<00:00, 15.72it/s]\n"
     ]
    },
    {
     "name": "stdout",
     "output_type": "stream",
     "text": [
      "Execution time:  26.571890830993652\n",
      "Sample: 56.B1.W09.22_56.M1.W03.21 (Comparison_3: 9-mers)\n",
      "\n",
      "KEVOLVE: extraction mode\n",
      "\n",
      "Load sequences...\n",
      "Count k-mers...\n",
      "Generate matrices...\n",
      "Preprocessing...\n",
      "Solution search...\n",
      "\n",
      "Iteration: 1 | Attempt(s): 1 / 1\n",
      "Mean weighted score 0.772 Max weighted score 1.0 Mean unweighted score 0.666 Max unweighted score 1.0\n",
      "Number of genes : 1\n",
      "\n",
      "Identified solutions (118) saved at : data/comparisons/56.B1.W09.22_56.M1.W03.21/Comparison_3/9\n",
      "Execution time:  145.78312134742737\n",
      "\n",
      "KEVOLVE: motif analyzer mode\n",
      "\n",
      "\n",
      "Identifying perfect matches...\n",
      "\n",
      "Identifying variations...\n"
     ]
    },
    {
     "name": "stderr",
     "output_type": "stream",
     "text": [
      "Processing k-mers: 100%|██████████| 118/118 [00:00<00:00, 4563.27it/s]\n",
      "Processing k-mers for variations: 100%|██████████| 118/118 [00:01<00:00, 74.89it/s]\n",
      "Processing k-mers to extract information:   0%|          | 0/118 [00:00<?, ?it/s]"
     ]
    },
    {
     "name": "stdout",
     "output_type": "stream",
     "text": [
      "\n",
      "Extract information related to signatures/variations...\n"
     ]
    },
    {
     "name": "stderr",
     "output_type": "stream",
     "text": [
      "Processing k-mers to extract information: 100%|██████████| 118/118 [00:38<00:00,  3.10it/s]\n"
     ]
    },
    {
     "name": "stdout",
     "output_type": "stream",
     "text": [
      "Execution time:  39.65007543563843\n",
      "Sample: 56.B1.W09.22_56.M1.W03.21 (Comparison_3: 10-mers)\n",
      "\n",
      "KEVOLVE: extraction mode\n",
      "\n",
      "Load sequences...\n",
      "Count k-mers...\n",
      "Generate matrices...\n",
      "Preprocessing...\n",
      "Solution search...\n",
      "\n",
      "Iteration: 1 | Attempt(s): 1 / 1\n",
      "Mean weighted score 0.773 Max weighted score 1.0 Mean unweighted score 0.668 Max unweighted score 1.0\n",
      "Number of genes : 1\n",
      "\n",
      "Identified solutions (118) saved at : data/comparisons/56.B1.W09.22_56.M1.W03.21/Comparison_3/10\n",
      "Execution time:  147.19548106193542\n",
      "\n",
      "KEVOLVE: motif analyzer mode\n",
      "\n",
      "\n",
      "Identifying perfect matches...\n",
      "\n",
      "Identifying variations...\n"
     ]
    },
    {
     "name": "stderr",
     "output_type": "stream",
     "text": [
      "Processing k-mers: 100%|██████████| 118/118 [00:00<00:00, 5651.99it/s]\n",
      "Processing k-mers for variations: 100%|██████████| 118/118 [00:01<00:00, 67.97it/s]\n",
      "Processing k-mers to extract information:   0%|          | 0/118 [00:00<?, ?it/s]"
     ]
    },
    {
     "name": "stdout",
     "output_type": "stream",
     "text": [
      "\n",
      "Extract information related to signatures/variations...\n"
     ]
    },
    {
     "name": "stderr",
     "output_type": "stream",
     "text": [
      "Processing k-mers to extract information: 100%|██████████| 118/118 [00:15<00:00,  7.41it/s]\n"
     ]
    },
    {
     "name": "stdout",
     "output_type": "stream",
     "text": [
      "Execution time:  17.707953929901123\n",
      "Sample: 56.B1.W09.22_56.M1.W03.21 (Comparison_3: 11-mers)\n",
      "\n",
      "KEVOLVE: extraction mode\n",
      "\n",
      "Load sequences...\n",
      "Count k-mers...\n",
      "Generate matrices...\n",
      "Preprocessing...\n",
      "Solution search...\n",
      "\n",
      "Iteration: 1 | Attempt(s): 1 / 1\n",
      "Mean weighted score 0.775 Max weighted score 1.0 Mean unweighted score 0.672 Max unweighted score 1.0\n",
      "Number of genes : 1\n",
      "\n",
      "Identified solutions (114) saved at : data/comparisons/56.B1.W09.22_56.M1.W03.21/Comparison_3/11\n",
      "Execution time:  146.30134749412537\n",
      "\n",
      "KEVOLVE: motif analyzer mode\n",
      "\n",
      "\n",
      "Identifying perfect matches...\n",
      "\n",
      "Identifying variations...\n"
     ]
    },
    {
     "name": "stderr",
     "output_type": "stream",
     "text": [
      "Processing k-mers: 100%|██████████| 114/114 [00:00<00:00, 5587.37it/s]\n",
      "Processing k-mers for variations: 100%|██████████| 114/114 [00:01<00:00, 63.34it/s]\n",
      "Processing k-mers to extract information:   0%|          | 0/114 [00:00<?, ?it/s]"
     ]
    },
    {
     "name": "stdout",
     "output_type": "stream",
     "text": [
      "\n",
      "Extract information related to signatures/variations...\n"
     ]
    },
    {
     "name": "stderr",
     "output_type": "stream",
     "text": [
      "Processing k-mers to extract information: 100%|██████████| 114/114 [00:12<00:00,  9.41it/s]\n"
     ]
    },
    {
     "name": "stdout",
     "output_type": "stream",
     "text": [
      "Execution time:  13.958433628082275\n",
      "Sample: 56.B1.W09.22_56.M1.W03.21 (Comparison_3: 12-mers)\n",
      "\n",
      "KEVOLVE: extraction mode\n",
      "\n",
      "Load sequences...\n",
      "Count k-mers...\n",
      "Generate matrices...\n",
      "Preprocessing...\n",
      "Solution search...\n",
      "\n",
      "Iteration: 1 | Attempt(s): 1 / 1\n",
      "Mean weighted score 0.773 Max weighted score 1.0 Mean unweighted score 0.669 Max unweighted score 1.0\n",
      "Number of genes : 1\n",
      "\n",
      "Identified solutions (108) saved at : data/comparisons/56.B1.W09.22_56.M1.W03.21/Comparison_3/12\n",
      "Execution time:  146.16100931167603\n",
      "\n",
      "KEVOLVE: motif analyzer mode\n",
      "\n",
      "\n",
      "Identifying perfect matches...\n",
      "\n",
      "Identifying variations...\n"
     ]
    },
    {
     "name": "stderr",
     "output_type": "stream",
     "text": [
      "Processing k-mers: 100%|██████████| 108/108 [00:00<00:00, 5614.59it/s]\n",
      "Processing k-mers for variations: 100%|██████████| 108/108 [00:01<00:00, 59.81it/s]\n",
      "Processing k-mers to extract information:   0%|          | 0/108 [00:00<?, ?it/s]"
     ]
    },
    {
     "name": "stdout",
     "output_type": "stream",
     "text": [
      "\n",
      "Extract information related to signatures/variations...\n"
     ]
    },
    {
     "name": "stderr",
     "output_type": "stream",
     "text": [
      "Processing k-mers to extract information: 100%|██████████| 108/108 [00:10<00:00, 10.73it/s]\n"
     ]
    },
    {
     "name": "stdout",
     "output_type": "stream",
     "text": [
      "Execution time:  11.91287112236023\n",
      "Sample: 56.B1.W09.22_56.M1.W03.21 (Comparison_3: 13-mers)\n",
      "\n",
      "KEVOLVE: extraction mode\n",
      "\n",
      "Load sequences...\n",
      "Count k-mers...\n",
      "Generate matrices...\n",
      "Preprocessing...\n",
      "Solution search...\n",
      "\n",
      "Iteration: 1 | Attempt(s): 1 / 1\n",
      "Mean weighted score 0.773 Max weighted score 1.0 Mean unweighted score 0.671 Max unweighted score 1.0\n",
      "Number of genes : 1\n",
      "\n",
      "Identified solutions (96) saved at : data/comparisons/56.B1.W09.22_56.M1.W03.21/Comparison_3/13\n",
      "Execution time:  145.8803973197937\n",
      "\n",
      "KEVOLVE: motif analyzer mode\n",
      "\n",
      "\n",
      "Identifying perfect matches...\n",
      "\n",
      "Identifying variations...\n"
     ]
    },
    {
     "name": "stderr",
     "output_type": "stream",
     "text": [
      "Processing k-mers: 100%|██████████| 96/96 [00:00<00:00, 5630.41it/s]\n",
      "Processing k-mers for variations: 100%|██████████| 96/96 [00:01<00:00, 55.63it/s]\n",
      "Processing k-mers to extract information:   0%|          | 0/96 [00:00<?, ?it/s]"
     ]
    },
    {
     "name": "stdout",
     "output_type": "stream",
     "text": [
      "\n",
      "Extract information related to signatures/variations...\n"
     ]
    },
    {
     "name": "stderr",
     "output_type": "stream",
     "text": [
      "Processing k-mers to extract information: 100%|██████████| 96/96 [00:08<00:00, 11.80it/s]\n"
     ]
    },
    {
     "name": "stdout",
     "output_type": "stream",
     "text": [
      "Execution time:  9.898791313171387\n",
      "Sample: 56.B1.W09.22_56.M1.W03.21 (Comparison_3: 14-mers)\n",
      "\n",
      "KEVOLVE: extraction mode\n",
      "\n",
      "Load sequences...\n",
      "Count k-mers...\n",
      "Generate matrices...\n",
      "Preprocessing...\n",
      "Solution search...\n",
      "\n",
      "Iteration: 1 | Attempt(s): 1 / 1\n",
      "Mean weighted score 0.77 Max weighted score 1.0 Mean unweighted score 0.666 Max unweighted score 1.0\n",
      "Number of genes : 1\n",
      "\n",
      "Identified solutions (84) saved at : data/comparisons/56.B1.W09.22_56.M1.W03.21/Comparison_3/14\n",
      "Execution time:  179.06622219085693\n",
      "\n",
      "KEVOLVE: motif analyzer mode\n",
      "\n",
      "\n",
      "Identifying perfect matches...\n",
      "\n",
      "Identifying variations...\n"
     ]
    },
    {
     "name": "stderr",
     "output_type": "stream",
     "text": [
      "Processing k-mers: 100%|██████████| 84/84 [00:00<00:00, 2902.70it/s]\n",
      "Processing k-mers for variations: 100%|██████████| 84/84 [00:02<00:00, 30.04it/s]\n",
      "Processing k-mers to extract information:   0%|          | 0/84 [00:00<?, ?it/s]"
     ]
    },
    {
     "name": "stdout",
     "output_type": "stream",
     "text": [
      "\n",
      "Extract information related to signatures/variations...\n"
     ]
    },
    {
     "name": "stderr",
     "output_type": "stream",
     "text": [
      "Processing k-mers to extract information: 100%|██████████| 84/84 [00:12<00:00,  6.74it/s]\n"
     ]
    },
    {
     "name": "stdout",
     "output_type": "stream",
     "text": [
      "Execution time:  15.336390495300293\n",
      "Sample: 56.B1.W09.22_56.M1.W03.21 (Comparison_3: 15-mers)\n",
      "\n",
      "KEVOLVE: extraction mode\n",
      "\n",
      "Load sequences...\n",
      "Count k-mers...\n",
      "Generate matrices...\n",
      "Preprocessing...\n",
      "Solution search...\n",
      "\n",
      "Iteration: 1 | Attempt(s): 1 / 1\n",
      "Mean weighted score 0.771 Max weighted score 1.0 Mean unweighted score 0.668 Max unweighted score 1.0\n",
      "Number of genes : 1\n",
      "\n",
      "Identified solutions (72) saved at : data/comparisons/56.B1.W09.22_56.M1.W03.21/Comparison_3/15\n",
      "Execution time:  219.11198592185974\n",
      "\n",
      "KEVOLVE: motif analyzer mode\n",
      "\n",
      "\n",
      "Identifying perfect matches...\n",
      "\n",
      "Identifying variations...\n"
     ]
    },
    {
     "name": "stderr",
     "output_type": "stream",
     "text": [
      "Processing k-mers: 100%|██████████| 72/72 [00:00<00:00, 5321.88it/s]\n",
      "Processing k-mers for variations: 100%|██████████| 72/72 [00:01<00:00, 51.23it/s]\n",
      "Processing k-mers to extract information:   0%|          | 0/72 [00:00<?, ?it/s]"
     ]
    },
    {
     "name": "stdout",
     "output_type": "stream",
     "text": [
      "\n",
      "Extract information related to signatures/variations...\n"
     ]
    },
    {
     "name": "stderr",
     "output_type": "stream",
     "text": [
      "Processing k-mers to extract information: 100%|██████████| 72/72 [00:08<00:00,  8.51it/s]\n"
     ]
    },
    {
     "name": "stdout",
     "output_type": "stream",
     "text": [
      "Execution time:  9.905585289001465\n",
      "Sample: 56.B1.W09.22_56.M1.W03.21 (Comparison_3: 16-mers)\n",
      "\n",
      "KEVOLVE: extraction mode\n",
      "\n",
      "Load sequences...\n",
      "Count k-mers...\n",
      "Generate matrices...\n",
      "Preprocessing...\n",
      "Solution search...\n",
      "\n",
      "Iteration: 1 | Attempt(s): 1 / 1\n",
      "Mean weighted score 0.771 Max weighted score 1.0 Mean unweighted score 0.667 Max unweighted score 1.0\n",
      "Number of genes : 1\n",
      "\n",
      "Identified solutions (65) saved at : data/comparisons/56.B1.W09.22_56.M1.W03.21/Comparison_3/16\n",
      "Execution time:  212.49802327156067\n",
      "\n",
      "KEVOLVE: motif analyzer mode\n",
      "\n",
      "\n",
      "Identifying perfect matches...\n",
      "\n",
      "Identifying variations...\n"
     ]
    },
    {
     "name": "stderr",
     "output_type": "stream",
     "text": [
      "Processing k-mers: 100%|██████████| 65/65 [00:00<00:00, 5756.05it/s]\n",
      "Processing k-mers for variations: 100%|██████████| 65/65 [00:01<00:00, 49.25it/s]\n",
      "Processing k-mers to extract information:   0%|          | 0/65 [00:00<?, ?it/s]"
     ]
    },
    {
     "name": "stdout",
     "output_type": "stream",
     "text": [
      "\n",
      "Extract information related to signatures/variations...\n"
     ]
    },
    {
     "name": "stderr",
     "output_type": "stream",
     "text": [
      "Processing k-mers to extract information: 100%|██████████| 65/65 [00:03<00:00, 16.51it/s]\n"
     ]
    },
    {
     "name": "stdout",
     "output_type": "stream",
     "text": [
      "Execution time:  5.291146993637085\n",
      "Sample: 56.B1.W09.22_56.M1.W03.21 (Comparison_3: 17-mers)\n",
      "\n",
      "KEVOLVE: extraction mode\n",
      "\n",
      "Load sequences...\n",
      "Count k-mers...\n",
      "Generate matrices...\n",
      "Preprocessing...\n",
      "Solution search...\n",
      "\n",
      "Iteration: 1 | Attempt(s): 1 / 1\n",
      "Mean weighted score 0.768 Max weighted score 1.0 Mean unweighted score 0.663 Max unweighted score 1.0\n",
      "Number of genes : 1\n",
      "\n",
      "Identified solutions (59) saved at : data/comparisons/56.B1.W09.22_56.M1.W03.21/Comparison_3/17\n",
      "Execution time:  148.432879447937\n",
      "\n",
      "KEVOLVE: motif analyzer mode\n",
      "\n",
      "\n",
      "Identifying perfect matches...\n",
      "\n",
      "Identifying variations...\n"
     ]
    },
    {
     "name": "stderr",
     "output_type": "stream",
     "text": [
      "Processing k-mers: 100%|██████████| 59/59 [00:00<00:00, 5675.52it/s]\n",
      "Processing k-mers for variations: 100%|██████████| 59/59 [00:01<00:00, 43.98it/s]\n",
      "Processing k-mers to extract information:   0%|          | 0/59 [00:00<?, ?it/s]"
     ]
    },
    {
     "name": "stdout",
     "output_type": "stream",
     "text": [
      "\n",
      "Extract information related to signatures/variations...\n"
     ]
    },
    {
     "name": "stderr",
     "output_type": "stream",
     "text": [
      "Processing k-mers to extract information: 100%|██████████| 59/59 [00:04<00:00, 11.97it/s]\n"
     ]
    },
    {
     "name": "stdout",
     "output_type": "stream",
     "text": [
      "Execution time:  6.305626392364502\n",
      "Sample: 56.B1.W09.22_56.M1.W03.21 (Comparison_3: 18-mers)\n",
      "\n",
      "KEVOLVE: extraction mode\n",
      "\n",
      "Load sequences...\n",
      "Count k-mers...\n",
      "Generate matrices...\n",
      "Preprocessing...\n",
      "Solution search...\n",
      "\n",
      "Iteration: 1 | Attempt(s): 1 / 1\n",
      "Mean weighted score 0.769 Max weighted score 1.0 Mean unweighted score 0.664 Max unweighted score 1.0\n",
      "Number of genes : 1\n",
      "\n",
      "Identified solutions (53) saved at : data/comparisons/56.B1.W09.22_56.M1.W03.21/Comparison_3/18\n",
      "Execution time:  146.0422339439392\n",
      "\n",
      "KEVOLVE: motif analyzer mode\n",
      "\n",
      "\n",
      "Identifying perfect matches...\n",
      "\n",
      "Identifying variations...\n"
     ]
    },
    {
     "name": "stderr",
     "output_type": "stream",
     "text": [
      "Processing k-mers: 100%|██████████| 53/53 [00:00<00:00, 3248.45it/s]\n",
      "Processing k-mers for variations: 100%|██████████| 53/53 [00:01<00:00, 40.44it/s]\n",
      "Processing k-mers to extract information:   0%|          | 0/53 [00:00<?, ?it/s]"
     ]
    },
    {
     "name": "stdout",
     "output_type": "stream",
     "text": [
      "\n",
      "Extract information related to signatures/variations...\n"
     ]
    },
    {
     "name": "stderr",
     "output_type": "stream",
     "text": [
      "Processing k-mers to extract information: 100%|██████████| 53/53 [00:04<00:00, 11.39it/s]\n"
     ]
    },
    {
     "name": "stdout",
     "output_type": "stream",
     "text": [
      "Execution time:  6.00725245475769\n",
      "Sample: 56.B1.W09.22_56.M1.W03.21 (Comparison_3: 19-mers)\n",
      "\n",
      "KEVOLVE: extraction mode\n",
      "\n",
      "Load sequences...\n",
      "Count k-mers...\n",
      "Generate matrices...\n",
      "Preprocessing...\n",
      "Solution search...\n",
      "\n",
      "Iteration: 1 | Attempt(s): 1 / 1\n",
      "Mean weighted score 0.765 Max weighted score 1.0 Mean unweighted score 0.659 Max unweighted score 1.0\n",
      "Number of genes : 1\n",
      "\n",
      "Identified solutions (48) saved at : data/comparisons/56.B1.W09.22_56.M1.W03.21/Comparison_3/19\n",
      "Execution time:  145.8298373222351\n",
      "\n",
      "KEVOLVE: motif analyzer mode\n",
      "\n",
      "\n",
      "Identifying perfect matches...\n",
      "\n",
      "Identifying variations...\n"
     ]
    },
    {
     "name": "stderr",
     "output_type": "stream",
     "text": [
      "Processing k-mers: 100%|██████████| 48/48 [00:00<00:00, 5679.17it/s]\n",
      "Processing k-mers for variations: 100%|██████████| 48/48 [00:01<00:00, 40.70it/s]\n"
     ]
    },
    {
     "name": "stdout",
     "output_type": "stream",
     "text": [
      "\n",
      "Extract information related to signatures/variations...\n"
     ]
    },
    {
     "name": "stderr",
     "output_type": "stream",
     "text": [
      "Processing k-mers to extract information: 100%|██████████| 48/48 [00:03<00:00, 12.34it/s]\n"
     ]
    },
    {
     "name": "stdout",
     "output_type": "stream",
     "text": [
      "Execution time:  5.099600791931152\n",
      "Sample: 56.B1.W09.22_56.M1.W03.21 (Comparison_3: 20-mers)\n",
      "\n",
      "KEVOLVE: extraction mode\n",
      "\n",
      "Load sequences...\n",
      "Count k-mers...\n",
      "Generate matrices...\n",
      "Preprocessing...\n",
      "Solution search...\n",
      "\n",
      "Iteration: 1 | Attempt(s): 1 / 1\n",
      "Mean weighted score 0.764 Max weighted score 1.0 Mean unweighted score 0.657 Max unweighted score 1.0\n",
      "Number of genes : 1\n",
      "\n",
      "Identified solutions (44) saved at : data/comparisons/56.B1.W09.22_56.M1.W03.21/Comparison_3/20\n",
      "Execution time:  144.02669978141785\n",
      "\n",
      "KEVOLVE: motif analyzer mode\n",
      "\n",
      "\n",
      "Identifying perfect matches...\n",
      "\n",
      "Identifying variations...\n"
     ]
    },
    {
     "name": "stderr",
     "output_type": "stream",
     "text": [
      "Processing k-mers: 100%|██████████| 44/44 [00:00<00:00, 5387.36it/s]\n",
      "Processing k-mers for variations: 100%|██████████| 44/44 [00:01<00:00, 38.42it/s]\n",
      "Processing k-mers to extract information:   0%|          | 0/44 [00:00<?, ?it/s]"
     ]
    },
    {
     "name": "stdout",
     "output_type": "stream",
     "text": [
      "\n",
      "Extract information related to signatures/variations...\n"
     ]
    },
    {
     "name": "stderr",
     "output_type": "stream",
     "text": [
      "Processing k-mers to extract information: 100%|██████████| 44/44 [00:04<00:00, 10.57it/s]\n"
     ]
    },
    {
     "name": "stdout",
     "output_type": "stream",
     "text": [
      "Execution time:  5.340631008148193\n",
      "Sample: 56.B1.W09.22_56.M1.W03.21 (Comparison_3: 21-mers)\n",
      "\n",
      "KEVOLVE: extraction mode\n",
      "\n",
      "Load sequences...\n",
      "Count k-mers...\n",
      "Generate matrices...\n",
      "Preprocessing...\n",
      "Solution search...\n",
      "\n",
      "Iteration: 1 | Attempt(s): 1 / 1\n",
      "Mean weighted score 0.762 Max weighted score 1.0 Mean unweighted score 0.654 Max unweighted score 1.0\n",
      "Number of genes : 1\n",
      "\n",
      "Identified solutions (40) saved at : data/comparisons/56.B1.W09.22_56.M1.W03.21/Comparison_3/21\n",
      "Execution time:  144.7277889251709\n",
      "\n",
      "KEVOLVE: motif analyzer mode\n",
      "\n",
      "\n",
      "Identifying perfect matches...\n",
      "\n",
      "Identifying variations...\n"
     ]
    },
    {
     "name": "stderr",
     "output_type": "stream",
     "text": [
      "Processing k-mers: 100%|██████████| 40/40 [00:00<00:00, 5498.74it/s]\n",
      "Processing k-mers for variations: 100%|██████████| 40/40 [00:01<00:00, 35.73it/s]\n",
      "Processing k-mers to extract information:   0%|          | 0/40 [00:00<?, ?it/s]"
     ]
    },
    {
     "name": "stdout",
     "output_type": "stream",
     "text": [
      "\n",
      "Extract information related to signatures/variations...\n"
     ]
    },
    {
     "name": "stderr",
     "output_type": "stream",
     "text": [
      "Processing k-mers to extract information: 100%|██████████| 40/40 [00:03<00:00, 11.41it/s]\n"
     ]
    },
    {
     "name": "stdout",
     "output_type": "stream",
     "text": [
      "Execution time:  4.653433561325073\n",
      "Sample: 63.B1.W09.29_63.M1.W02.30 (Comparison_1: 9-mers)\n",
      "\n",
      "KEVOLVE: extraction mode\n",
      "\n",
      "Load sequences...\n",
      "Count k-mers...\n",
      "Generate matrices...\n",
      "Preprocessing...\n",
      "Solution search...\n",
      "\n",
      "Iteration: 1 | Attempt(s): 1 / 1\n",
      "Mean weighted score 0.997 Max weighted score 1.0 Mean unweighted score 0.993 Max unweighted score 1.0\n",
      "Number of genes : 1\n",
      "\n",
      "Identified solutions (1242) saved at : data/comparisons/63.B1.W09.29_63.M1.W02.30/Comparison_1/9\n",
      "Execution time:  146.42981600761414\n",
      "\n",
      "KEVOLVE: motif analyzer mode\n",
      "\n",
      "\n",
      "Identifying perfect matches...\n"
     ]
    },
    {
     "name": "stderr",
     "output_type": "stream",
     "text": [
      "Processing k-mers: 100%|██████████| 1242/1242 [00:00<00:00, 3138.50it/s]\n",
      "Processing k-mers for variations:   0%|          | 5/1242 [00:00<00:31, 39.45it/s]"
     ]
    },
    {
     "name": "stdout",
     "output_type": "stream",
     "text": [
      "\n",
      "Identifying variations...\n"
     ]
    },
    {
     "name": "stderr",
     "output_type": "stream",
     "text": [
      "Processing k-mers for variations: 100%|██████████| 1242/1242 [00:51<00:00, 24.03it/s]\n",
      "Processing k-mers to extract information:   0%|          | 0/1242 [00:00<?, ?it/s]"
     ]
    },
    {
     "name": "stdout",
     "output_type": "stream",
     "text": [
      "\n",
      "Extract information related to signatures/variations...\n"
     ]
    },
    {
     "name": "stderr",
     "output_type": "stream",
     "text": [
      "Processing k-mers to extract information: 100%|██████████| 1242/1242 [08:52<00:00,  2.33it/s]\n"
     ]
    },
    {
     "name": "stdout",
     "output_type": "stream",
     "text": [
      "Execution time:  584.34885430336\n",
      "Sample: 63.B1.W09.29_63.M1.W02.30 (Comparison_1: 10-mers)\n",
      "\n",
      "KEVOLVE: extraction mode\n",
      "\n",
      "Load sequences...\n",
      "Count k-mers...\n",
      "Generate matrices...\n",
      "Preprocessing...\n",
      "Solution search...\n",
      "\n",
      "Iteration: 1 | Attempt(s): 1 / 1\n",
      "Mean weighted score 0.997 Max weighted score 1.0 Mean unweighted score 0.992 Max unweighted score 1.0\n",
      "Number of genes : 1\n",
      "\n",
      "Identified solutions (1279) saved at : data/comparisons/63.B1.W09.29_63.M1.W02.30/Comparison_1/10\n",
      "Execution time:  227.25373911857605\n",
      "\n",
      "KEVOLVE: motif analyzer mode\n",
      "\n",
      "\n",
      "Identifying perfect matches...\n"
     ]
    },
    {
     "name": "stderr",
     "output_type": "stream",
     "text": [
      "Processing k-mers: 100%|██████████| 1279/1279 [00:00<00:00, 1360.55it/s]\n",
      "Processing k-mers for variations:   0%|          | 0/1279 [00:00<?, ?it/s]"
     ]
    },
    {
     "name": "stdout",
     "output_type": "stream",
     "text": [
      "\n",
      "Identifying variations...\n"
     ]
    },
    {
     "name": "stderr",
     "output_type": "stream",
     "text": [
      "Processing k-mers for variations: 100%|██████████| 1279/1279 [01:16<00:00, 16.80it/s]\n",
      "Processing k-mers to extract information:   0%|          | 0/1279 [00:00<?, ?it/s]"
     ]
    },
    {
     "name": "stdout",
     "output_type": "stream",
     "text": [
      "\n",
      "Extract information related to signatures/variations...\n"
     ]
    },
    {
     "name": "stderr",
     "output_type": "stream",
     "text": [
      "Processing k-mers to extract information: 100%|██████████| 1279/1279 [03:41<00:00,  5.78it/s]\n"
     ]
    },
    {
     "name": "stdout",
     "output_type": "stream",
     "text": [
      "Execution time:  298.5913465023041\n",
      "Sample: 63.B1.W09.29_63.M1.W02.30 (Comparison_1: 11-mers)\n",
      "\n",
      "KEVOLVE: extraction mode\n",
      "\n",
      "Load sequences...\n",
      "Count k-mers...\n",
      "Generate matrices...\n",
      "Preprocessing...\n",
      "Solution search...\n",
      "\n",
      "Iteration: 1 | Attempt(s): 1 / 1\n",
      "Mean weighted score 0.997 Max weighted score 1.0 Mean unweighted score 0.993 Max unweighted score 1.0\n",
      "Number of genes : 1\n",
      "\n",
      "Identified solutions (1309) saved at : data/comparisons/63.B1.W09.29_63.M1.W02.30/Comparison_1/11\n",
      "Execution time:  230.57858967781067\n",
      "\n",
      "KEVOLVE: motif analyzer mode\n",
      "\n",
      "\n",
      "Identifying perfect matches...\n"
     ]
    },
    {
     "name": "stderr",
     "output_type": "stream",
     "text": [
      "Processing k-mers: 100%|██████████| 1309/1309 [00:00<00:00, 1944.40it/s]\n",
      "Processing k-mers for variations:   0%|          | 0/1309 [00:00<?, ?it/s]"
     ]
    },
    {
     "name": "stdout",
     "output_type": "stream",
     "text": [
      "\n",
      "Identifying variations...\n"
     ]
    },
    {
     "name": "stderr",
     "output_type": "stream",
     "text": [
      "Processing k-mers for variations: 100%|██████████| 1309/1309 [01:31<00:00, 14.33it/s]\n",
      "Processing k-mers to extract information:   0%|          | 0/1309 [00:00<?, ?it/s]"
     ]
    },
    {
     "name": "stdout",
     "output_type": "stream",
     "text": [
      "\n",
      "Extract information related to signatures/variations...\n"
     ]
    },
    {
     "name": "stderr",
     "output_type": "stream",
     "text": [
      "Processing k-mers to extract information: 100%|██████████| 1309/1309 [03:05<00:00,  7.07it/s]\n"
     ]
    },
    {
     "name": "stdout",
     "output_type": "stream",
     "text": [
      "Execution time:  277.24322986602783\n",
      "Sample: 63.B1.W09.29_63.M1.W02.30 (Comparison_1: 12-mers)\n",
      "\n",
      "KEVOLVE: extraction mode\n",
      "\n",
      "Load sequences...\n",
      "Count k-mers...\n",
      "Generate matrices...\n",
      "Preprocessing...\n",
      "Solution search...\n",
      "\n",
      "Iteration: 1 | Attempt(s): 1 / 1\n",
      "Mean weighted score 0.997 Max weighted score 1.0 Mean unweighted score 0.993 Max unweighted score 1.0\n",
      "Number of genes : 1\n",
      "\n",
      "Identified solutions (1335) saved at : data/comparisons/63.B1.W09.29_63.M1.W02.30/Comparison_1/12\n",
      "Execution time:  227.9754536151886\n",
      "\n",
      "KEVOLVE: motif analyzer mode\n",
      "\n",
      "\n",
      "Identifying perfect matches...\n"
     ]
    },
    {
     "name": "stderr",
     "output_type": "stream",
     "text": [
      "Processing k-mers: 100%|██████████| 1335/1335 [00:00<00:00, 3527.66it/s]\n",
      "Processing k-mers for variations:   0%|          | 2/1335 [00:00<01:15, 17.61it/s]"
     ]
    },
    {
     "name": "stdout",
     "output_type": "stream",
     "text": [
      "\n",
      "Identifying variations...\n"
     ]
    },
    {
     "name": "stderr",
     "output_type": "stream",
     "text": [
      "Processing k-mers for variations: 100%|██████████| 1335/1335 [01:39<00:00, 13.44it/s]\n",
      "Processing k-mers to extract information:   0%|          | 0/1335 [00:00<?, ?it/s]"
     ]
    },
    {
     "name": "stdout",
     "output_type": "stream",
     "text": [
      "\n",
      "Extract information related to signatures/variations...\n"
     ]
    },
    {
     "name": "stderr",
     "output_type": "stream",
     "text": [
      "Processing k-mers to extract information: 100%|██████████| 1335/1335 [02:34<00:00,  8.63it/s]\n"
     ]
    },
    {
     "name": "stdout",
     "output_type": "stream",
     "text": [
      "Execution time:  254.529052734375\n",
      "Sample: 63.B1.W09.29_63.M1.W02.30 (Comparison_1: 13-mers)\n",
      "\n",
      "KEVOLVE: extraction mode\n",
      "\n",
      "Load sequences...\n",
      "Count k-mers...\n",
      "Generate matrices...\n",
      "Preprocessing...\n",
      "Solution search...\n",
      "\n",
      "Iteration: 1 | Attempt(s): 1 / 1\n",
      "Mean weighted score 0.998 Max weighted score 1.0 Mean unweighted score 0.995 Max unweighted score 1.0\n",
      "Number of genes : 1\n",
      "\n",
      "Identified solutions (1354) saved at : data/comparisons/63.B1.W09.29_63.M1.W02.30/Comparison_1/13\n",
      "Execution time:  224.795405626297\n",
      "\n",
      "KEVOLVE: motif analyzer mode\n",
      "\n",
      "\n",
      "Identifying perfect matches...\n"
     ]
    },
    {
     "name": "stderr",
     "output_type": "stream",
     "text": [
      "Processing k-mers: 100%|██████████| 1354/1354 [00:00<00:00, 1527.22it/s]\n",
      "Processing k-mers for variations:   0%|          | 0/1354 [00:00<?, ?it/s]"
     ]
    },
    {
     "name": "stdout",
     "output_type": "stream",
     "text": [
      "\n",
      "Identifying variations...\n"
     ]
    },
    {
     "name": "stderr",
     "output_type": "stream",
     "text": [
      "Processing k-mers for variations: 100%|██████████| 1354/1354 [01:46<00:00, 12.71it/s]\n",
      "Processing k-mers to extract information:   0%|          | 0/1354 [00:00<?, ?it/s]"
     ]
    },
    {
     "name": "stdout",
     "output_type": "stream",
     "text": [
      "\n",
      "Extract information related to signatures/variations...\n"
     ]
    },
    {
     "name": "stderr",
     "output_type": "stream",
     "text": [
      "Processing k-mers to extract information: 100%|██████████| 1354/1354 [02:01<00:00, 11.16it/s]\n"
     ]
    },
    {
     "name": "stdout",
     "output_type": "stream",
     "text": [
      "Execution time:  228.85355615615845\n",
      "Sample: 63.B1.W09.29_63.M1.W02.30 (Comparison_1: 14-mers)\n",
      "\n",
      "KEVOLVE: extraction mode\n",
      "\n",
      "Load sequences...\n",
      "Count k-mers...\n",
      "Generate matrices...\n",
      "Preprocessing...\n",
      "Solution search...\n",
      "\n",
      "Iteration: 1 | Attempt(s): 1 / 1\n",
      "Mean weighted score 0.998 Max weighted score 1.0 Mean unweighted score 0.994 Max unweighted score 1.0\n",
      "Number of genes : 1\n",
      "\n",
      "Identified solutions (1370) saved at : data/comparisons/63.B1.W09.29_63.M1.W02.30/Comparison_1/14\n",
      "Execution time:  228.06309700012207\n",
      "\n",
      "KEVOLVE: motif analyzer mode\n",
      "\n",
      "\n",
      "Identifying perfect matches...\n"
     ]
    },
    {
     "name": "stderr",
     "output_type": "stream",
     "text": [
      "Processing k-mers: 100%|██████████| 1370/1370 [00:00<00:00, 1403.60it/s]\n",
      "Processing k-mers for variations:   0%|          | 0/1370 [00:00<?, ?it/s]"
     ]
    },
    {
     "name": "stdout",
     "output_type": "stream",
     "text": [
      "\n",
      "Identifying variations...\n"
     ]
    },
    {
     "name": "stderr",
     "output_type": "stream",
     "text": [
      "Processing k-mers for variations: 100%|██████████| 1370/1370 [02:00<00:00, 11.38it/s]\n",
      "Processing k-mers to extract information:   0%|          | 0/1370 [00:00<?, ?it/s]"
     ]
    },
    {
     "name": "stdout",
     "output_type": "stream",
     "text": [
      "\n",
      "Extract information related to signatures/variations...\n"
     ]
    },
    {
     "name": "stderr",
     "output_type": "stream",
     "text": [
      "Processing k-mers to extract information: 100%|██████████| 1370/1370 [02:02<00:00, 11.17it/s]\n"
     ]
    },
    {
     "name": "stdout",
     "output_type": "stream",
     "text": [
      "Execution time:  244.04018998146057\n",
      "Sample: 63.B1.W09.29_63.M1.W02.30 (Comparison_1: 15-mers)\n",
      "\n",
      "KEVOLVE: extraction mode\n",
      "\n",
      "Load sequences...\n",
      "Count k-mers...\n",
      "Generate matrices...\n",
      "Preprocessing...\n",
      "Solution search...\n",
      "\n",
      "Iteration: 1 | Attempt(s): 1 / 1\n",
      "Mean weighted score 0.998 Max weighted score 1.0 Mean unweighted score 0.994 Max unweighted score 1.0\n",
      "Number of genes : 1\n",
      "\n",
      "Identified solutions (1387) saved at : data/comparisons/63.B1.W09.29_63.M1.W02.30/Comparison_1/15\n",
      "Execution time:  225.1445882320404\n",
      "\n",
      "KEVOLVE: motif analyzer mode\n",
      "\n",
      "\n",
      "Identifying perfect matches...\n"
     ]
    },
    {
     "name": "stderr",
     "output_type": "stream",
     "text": [
      "Processing k-mers: 100%|██████████| 1387/1387 [00:00<00:00, 3329.52it/s]\n",
      "Processing k-mers for variations:   0%|          | 0/1387 [00:00<?, ?it/s]"
     ]
    },
    {
     "name": "stdout",
     "output_type": "stream",
     "text": [
      "\n",
      "Identifying variations...\n"
     ]
    },
    {
     "name": "stderr",
     "output_type": "stream",
     "text": [
      "Processing k-mers for variations: 100%|██████████| 1387/1387 [02:04<00:00, 11.16it/s]\n",
      "Processing k-mers to extract information:   0%|          | 0/1387 [00:00<?, ?it/s]"
     ]
    },
    {
     "name": "stdout",
     "output_type": "stream",
     "text": [
      "\n",
      "Extract information related to signatures/variations...\n"
     ]
    },
    {
     "name": "stderr",
     "output_type": "stream",
     "text": [
      "Processing k-mers to extract information: 100%|██████████| 1387/1387 [02:09<00:00, 10.72it/s]\n"
     ]
    },
    {
     "name": "stdout",
     "output_type": "stream",
     "text": [
      "Execution time:  254.1688015460968\n",
      "Sample: 63.B1.W09.29_63.M1.W02.30 (Comparison_1: 16-mers)\n",
      "\n",
      "KEVOLVE: extraction mode\n",
      "\n",
      "Load sequences...\n",
      "Count k-mers...\n",
      "Generate matrices...\n",
      "Preprocessing...\n",
      "Solution search...\n",
      "\n",
      "Iteration: 1 | Attempt(s): 1 / 1\n",
      "Mean weighted score 0.998 Max weighted score 1.0 Mean unweighted score 0.994 Max unweighted score 1.0\n",
      "Number of genes : 1\n",
      "\n",
      "Identified solutions (1398) saved at : data/comparisons/63.B1.W09.29_63.M1.W02.30/Comparison_1/16\n",
      "Execution time:  225.803701877594\n",
      "\n",
      "KEVOLVE: motif analyzer mode\n",
      "\n",
      "\n",
      "Identifying perfect matches...\n"
     ]
    },
    {
     "name": "stderr",
     "output_type": "stream",
     "text": [
      "Processing k-mers: 100%|██████████| 1398/1398 [00:00<00:00, 1466.40it/s]\n",
      "Processing k-mers for variations:   0%|          | 0/1398 [00:00<?, ?it/s]"
     ]
    },
    {
     "name": "stdout",
     "output_type": "stream",
     "text": [
      "\n",
      "Identifying variations...\n"
     ]
    },
    {
     "name": "stderr",
     "output_type": "stream",
     "text": [
      "Processing k-mers for variations: 100%|██████████| 1398/1398 [02:15<00:00, 10.32it/s]\n",
      "Processing k-mers to extract information:   0%|          | 0/1398 [00:00<?, ?it/s]"
     ]
    },
    {
     "name": "stdout",
     "output_type": "stream",
     "text": [
      "\n",
      "Extract information related to signatures/variations...\n"
     ]
    },
    {
     "name": "stderr",
     "output_type": "stream",
     "text": [
      "Processing k-mers to extract information: 100%|██████████| 1398/1398 [02:27<00:00,  9.49it/s]\n"
     ]
    },
    {
     "name": "stdout",
     "output_type": "stream",
     "text": [
      "Execution time:  283.8187346458435\n",
      "Sample: 63.B1.W09.29_63.M1.W02.30 (Comparison_1: 17-mers)\n",
      "\n",
      "KEVOLVE: extraction mode\n",
      "\n",
      "Load sequences...\n",
      "Count k-mers...\n",
      "Generate matrices...\n",
      "Preprocessing...\n",
      "Solution search...\n",
      "\n",
      "Iteration: 1 | Attempt(s): 1 / 1\n",
      "Mean weighted score 0.997 Max weighted score 1.0 Mean unweighted score 0.993 Max unweighted score 1.0\n",
      "Number of genes : 1\n",
      "\n",
      "Identified solutions (1404) saved at : data/comparisons/63.B1.W09.29_63.M1.W02.30/Comparison_1/17\n",
      "Execution time:  220.98149800300598\n",
      "\n",
      "KEVOLVE: motif analyzer mode\n",
      "\n",
      "\n",
      "Identifying perfect matches...\n"
     ]
    },
    {
     "name": "stderr",
     "output_type": "stream",
     "text": [
      "Processing k-mers: 100%|██████████| 1404/1404 [00:00<00:00, 1456.67it/s]\n",
      "Processing k-mers for variations:   0%|          | 0/1404 [00:00<?, ?it/s]"
     ]
    },
    {
     "name": "stdout",
     "output_type": "stream",
     "text": [
      "\n",
      "Identifying variations...\n"
     ]
    },
    {
     "name": "stderr",
     "output_type": "stream",
     "text": [
      "Processing k-mers for variations: 100%|██████████| 1404/1404 [02:27<00:00,  9.54it/s]\n",
      "Processing k-mers to extract information:   0%|          | 0/1404 [00:00<?, ?it/s]"
     ]
    },
    {
     "name": "stdout",
     "output_type": "stream",
     "text": [
      "\n",
      "Extract information related to signatures/variations...\n"
     ]
    },
    {
     "name": "stderr",
     "output_type": "stream",
     "text": [
      "Processing k-mers to extract information: 100%|██████████| 1404/1404 [02:09<00:00, 10.87it/s]\n"
     ]
    },
    {
     "name": "stdout",
     "output_type": "stream",
     "text": [
      "Execution time:  277.37336778640747\n",
      "Sample: 63.B1.W09.29_63.M1.W02.30 (Comparison_1: 18-mers)\n",
      "\n",
      "KEVOLVE: extraction mode\n",
      "\n",
      "Load sequences...\n",
      "Count k-mers...\n",
      "Generate matrices...\n",
      "Preprocessing...\n",
      "Solution search...\n",
      "\n",
      "Iteration: 1 | Attempt(s): 1 / 1\n",
      "Mean weighted score 0.997 Max weighted score 1.0 Mean unweighted score 0.993 Max unweighted score 1.0\n",
      "Number of genes : 1\n",
      "\n",
      "Identified solutions (1414) saved at : data/comparisons/63.B1.W09.29_63.M1.W02.30/Comparison_1/18\n",
      "Execution time:  225.4135036468506\n",
      "\n",
      "KEVOLVE: motif analyzer mode\n",
      "\n",
      "\n",
      "Identifying perfect matches...\n"
     ]
    },
    {
     "name": "stderr",
     "output_type": "stream",
     "text": [
      "Processing k-mers: 100%|██████████| 1414/1414 [00:00<00:00, 1510.81it/s]\n",
      "Processing k-mers for variations:   0%|          | 0/1414 [00:00<?, ?it/s]"
     ]
    },
    {
     "name": "stdout",
     "output_type": "stream",
     "text": [
      "\n",
      "Identifying variations...\n"
     ]
    },
    {
     "name": "stderr",
     "output_type": "stream",
     "text": [
      "Processing k-mers for variations: 100%|██████████| 1414/1414 [02:37<00:00,  8.96it/s]\n",
      "Processing k-mers to extract information:   0%|          | 0/1414 [00:00<?, ?it/s]"
     ]
    },
    {
     "name": "stdout",
     "output_type": "stream",
     "text": [
      "\n",
      "Extract information related to signatures/variations...\n"
     ]
    },
    {
     "name": "stderr",
     "output_type": "stream",
     "text": [
      "Processing k-mers to extract information: 100%|██████████| 1414/1414 [02:08<00:00, 11.04it/s]\n"
     ]
    },
    {
     "name": "stdout",
     "output_type": "stream",
     "text": [
      "Execution time:  286.9046678543091\n",
      "Sample: 63.B1.W09.29_63.M1.W02.30 (Comparison_1: 19-mers)\n",
      "\n",
      "KEVOLVE: extraction mode\n",
      "\n",
      "Load sequences...\n",
      "Count k-mers...\n",
      "Generate matrices...\n",
      "Preprocessing...\n",
      "Solution search...\n",
      "\n",
      "Iteration: 1 | Attempt(s): 1 / 1\n",
      "Mean weighted score 0.997 Max weighted score 1.0 Mean unweighted score 0.992 Max unweighted score 1.0\n",
      "Number of genes : 1\n",
      "\n",
      "Identified solutions (1418) saved at : data/comparisons/63.B1.W09.29_63.M1.W02.30/Comparison_1/19\n",
      "Execution time:  222.49813795089722\n",
      "\n",
      "KEVOLVE: motif analyzer mode\n",
      "\n",
      "\n",
      "Identifying perfect matches...\n"
     ]
    },
    {
     "name": "stderr",
     "output_type": "stream",
     "text": [
      "Processing k-mers: 100%|██████████| 1418/1418 [00:01<00:00, 1345.87it/s]\n",
      "Processing k-mers for variations:   0%|          | 0/1418 [00:00<?, ?it/s]"
     ]
    },
    {
     "name": "stdout",
     "output_type": "stream",
     "text": [
      "\n",
      "Identifying variations...\n"
     ]
    },
    {
     "name": "stderr",
     "output_type": "stream",
     "text": [
      "Processing k-mers for variations: 100%|██████████| 1418/1418 [02:50<00:00,  8.30it/s]\n",
      "Processing k-mers to extract information:   0%|          | 1/1418 [00:00<03:49,  6.16it/s]"
     ]
    },
    {
     "name": "stdout",
     "output_type": "stream",
     "text": [
      "\n",
      "Extract information related to signatures/variations...\n"
     ]
    },
    {
     "name": "stderr",
     "output_type": "stream",
     "text": [
      "Processing k-mers to extract information: 100%|██████████| 1418/1418 [02:09<00:00, 10.95it/s]\n"
     ]
    },
    {
     "name": "stdout",
     "output_type": "stream",
     "text": [
      "Execution time:  301.36474537849426\n",
      "Sample: 63.B1.W09.29_63.M1.W02.30 (Comparison_1: 20-mers)\n",
      "\n",
      "KEVOLVE: extraction mode\n",
      "\n",
      "Load sequences...\n",
      "Count k-mers...\n",
      "Generate matrices...\n",
      "Preprocessing...\n",
      "Solution search...\n",
      "\n",
      "Iteration: 1 | Attempt(s): 1 / 1\n",
      "Mean weighted score 0.997 Max weighted score 1.0 Mean unweighted score 0.991 Max unweighted score 1.0\n",
      "Number of genes : 1\n",
      "\n",
      "Identified solutions (1420) saved at : data/comparisons/63.B1.W09.29_63.M1.W02.30/Comparison_1/20\n",
      "Execution time:  223.85664224624634\n",
      "\n",
      "KEVOLVE: motif analyzer mode\n",
      "\n",
      "\n",
      "Identifying perfect matches...\n"
     ]
    },
    {
     "name": "stderr",
     "output_type": "stream",
     "text": [
      "Processing k-mers: 100%|██████████| 1420/1420 [00:00<00:00, 3085.26it/s]\n",
      "Processing k-mers for variations:   0%|          | 0/1420 [00:00<?, ?it/s]"
     ]
    },
    {
     "name": "stdout",
     "output_type": "stream",
     "text": [
      "\n",
      "Identifying variations...\n"
     ]
    },
    {
     "name": "stderr",
     "output_type": "stream",
     "text": [
      "Processing k-mers for variations: 100%|██████████| 1420/1420 [02:53<00:00,  8.18it/s]\n"
     ]
    },
    {
     "name": "stdout",
     "output_type": "stream",
     "text": [
      "\n",
      "Extract information related to signatures/variations...\n"
     ]
    },
    {
     "name": "stderr",
     "output_type": "stream",
     "text": [
      "Processing k-mers to extract information: 100%|██████████| 1420/1420 [02:13<00:00, 10.66it/s]\n"
     ]
    },
    {
     "name": "stdout",
     "output_type": "stream",
     "text": [
      "Execution time:  307.49027585983276\n",
      "Sample: 63.B1.W09.29_63.M1.W02.30 (Comparison_1: 21-mers)\n",
      "\n",
      "KEVOLVE: extraction mode\n",
      "\n",
      "Load sequences...\n",
      "Count k-mers...\n",
      "Generate matrices...\n",
      "Preprocessing...\n",
      "Solution search...\n",
      "\n",
      "Iteration: 1 | Attempt(s): 1 / 1\n",
      "Mean weighted score 0.996 Max weighted score 1.0 Mean unweighted score 0.989 Max unweighted score 1.0\n",
      "Number of genes : 1\n",
      "\n",
      "Identified solutions (1421) saved at : data/comparisons/63.B1.W09.29_63.M1.W02.30/Comparison_1/21\n",
      "Execution time:  148.9375\n",
      "\n",
      "KEVOLVE: motif analyzer mode\n",
      "\n",
      "\n",
      "Identifying perfect matches...\n"
     ]
    },
    {
     "name": "stderr",
     "output_type": "stream",
     "text": [
      "Processing k-mers: 100%|██████████| 1421/1421 [00:00<00:00, 3310.75it/s]\n",
      "Processing k-mers for variations:   0%|          | 0/1421 [00:00<?, ?it/s]"
     ]
    },
    {
     "name": "stdout",
     "output_type": "stream",
     "text": [
      "\n",
      "Identifying variations...\n"
     ]
    },
    {
     "name": "stderr",
     "output_type": "stream",
     "text": [
      "Processing k-mers for variations: 100%|██████████| 1421/1421 [01:35<00:00, 14.83it/s]\n"
     ]
    },
    {
     "name": "stdout",
     "output_type": "stream",
     "text": [
      "\n",
      "Extract information related to signatures/variations...\n"
     ]
    },
    {
     "name": "stderr",
     "output_type": "stream",
     "text": [
      "Processing k-mers to extract information: 100%|██████████| 1421/1421 [01:10<00:00, 20.18it/s]\n"
     ]
    },
    {
     "name": "stdout",
     "output_type": "stream",
     "text": [
      "Execution time:  166.66222882270813\n",
      "Sample: 66.B1.W09.25_66.M1.W02.24 (Comparison_1: 9-mers)\n",
      "\n",
      "KEVOLVE: extraction mode\n",
      "\n",
      "Load sequences...\n",
      "Count k-mers...\n",
      "Generate matrices...\n",
      "Preprocessing...\n",
      "Solution search...\n",
      "\n",
      "Iteration: 1 | Attempt(s): 1 / 1\n",
      "Mean weighted score 0.998 Max weighted score 1.0 Mean unweighted score 0.996 Max unweighted score 1.0\n",
      "Number of genes : 1\n",
      "\n",
      "Identified solutions (1316) saved at : data/comparisons/66.B1.W09.25_66.M1.W02.24/Comparison_1/9\n",
      "Execution time:  145.59910202026367\n",
      "\n",
      "KEVOLVE: motif analyzer mode\n",
      "\n",
      "\n",
      "Identifying perfect matches...\n"
     ]
    },
    {
     "name": "stderr",
     "output_type": "stream",
     "text": [
      "Processing k-mers: 100%|██████████| 1316/1316 [00:00<00:00, 4725.70it/s]\n",
      "Processing k-mers for variations:   0%|          | 6/1316 [00:00<00:27, 47.34it/s]"
     ]
    },
    {
     "name": "stdout",
     "output_type": "stream",
     "text": [
      "\n",
      "Identifying variations...\n"
     ]
    },
    {
     "name": "stderr",
     "output_type": "stream",
     "text": [
      "Processing k-mers for variations: 100%|██████████| 1316/1316 [00:25<00:00, 50.85it/s]\n",
      "Processing k-mers to extract information:   0%|          | 0/1316 [00:00<?, ?it/s]"
     ]
    },
    {
     "name": "stdout",
     "output_type": "stream",
     "text": [
      "\n",
      "Extract information related to signatures/variations...\n"
     ]
    },
    {
     "name": "stderr",
     "output_type": "stream",
     "text": [
      "Processing k-mers to extract information: 100%|██████████| 1316/1316 [11:47<00:00,  1.86it/s]\n"
     ]
    },
    {
     "name": "stdout",
     "output_type": "stream",
     "text": [
      "Execution time:  733.837929725647\n",
      "Sample: 66.B1.W09.25_66.M1.W02.24 (Comparison_1: 10-mers)\n",
      "\n",
      "KEVOLVE: extraction mode\n",
      "\n",
      "Load sequences...\n",
      "Count k-mers...\n",
      "Generate matrices...\n",
      "Preprocessing...\n",
      "Solution search...\n",
      "\n",
      "Iteration: 1 | Attempt(s): 1 / 1\n",
      "Mean weighted score 0.998 Max weighted score 1.0 Mean unweighted score 0.994 Max unweighted score 1.0\n",
      "Number of genes : 1\n",
      "\n",
      "Identified solutions (1354) saved at : data/comparisons/66.B1.W09.25_66.M1.W02.24/Comparison_1/10\n",
      "Execution time:  145.6518590450287\n",
      "\n",
      "KEVOLVE: motif analyzer mode\n",
      "\n",
      "\n",
      "Identifying perfect matches...\n"
     ]
    },
    {
     "name": "stderr",
     "output_type": "stream",
     "text": [
      "Processing k-mers: 100%|██████████| 1354/1354 [00:00<00:00, 4532.41it/s]\n",
      "Processing k-mers for variations:   0%|          | 0/1354 [00:00<?, ?it/s]"
     ]
    },
    {
     "name": "stdout",
     "output_type": "stream",
     "text": [
      "\n",
      "Identifying variations...\n"
     ]
    },
    {
     "name": "stderr",
     "output_type": "stream",
     "text": [
      "Processing k-mers for variations: 100%|██████████| 1354/1354 [00:29<00:00, 45.75it/s]\n",
      "Processing k-mers to extract information:   0%|          | 0/1354 [00:00<?, ?it/s]"
     ]
    },
    {
     "name": "stdout",
     "output_type": "stream",
     "text": [
      "\n",
      "Extract information related to signatures/variations...\n"
     ]
    },
    {
     "name": "stderr",
     "output_type": "stream",
     "text": [
      "Processing k-mers to extract information: 100%|██████████| 1354/1354 [05:14<00:00,  4.30it/s]\n"
     ]
    },
    {
     "name": "stdout",
     "output_type": "stream",
     "text": [
      "Execution time:  344.6075179576874\n",
      "Sample: 66.B1.W09.25_66.M1.W02.24 (Comparison_1: 11-mers)\n",
      "\n",
      "KEVOLVE: extraction mode\n",
      "\n",
      "Load sequences...\n",
      "Count k-mers...\n",
      "Generate matrices...\n",
      "Preprocessing...\n",
      "Solution search...\n",
      "\n",
      "Iteration: 1 | Attempt(s): 1 / 1\n",
      "Mean weighted score 0.998 Max weighted score 1.0 Mean unweighted score 0.996 Max unweighted score 1.0\n",
      "Number of genes : 1\n",
      "\n",
      "Identified solutions (1383) saved at : data/comparisons/66.B1.W09.25_66.M1.W02.24/Comparison_1/11\n",
      "Execution time:  145.6908791065216\n",
      "\n",
      "KEVOLVE: motif analyzer mode\n",
      "\n",
      "\n",
      "Identifying perfect matches...\n"
     ]
    },
    {
     "name": "stderr",
     "output_type": "stream",
     "text": [
      "Processing k-mers: 100%|██████████| 1383/1383 [00:00<00:00, 4673.25it/s]\n",
      "Processing k-mers for variations:   0%|          | 3/1383 [00:00<00:47, 29.31it/s]"
     ]
    },
    {
     "name": "stdout",
     "output_type": "stream",
     "text": [
      "\n",
      "Identifying variations...\n"
     ]
    },
    {
     "name": "stderr",
     "output_type": "stream",
     "text": [
      "Processing k-mers for variations: 100%|██████████| 1383/1383 [00:33<00:00, 41.16it/s]\n",
      "Processing k-mers to extract information:   0%|          | 0/1383 [00:00<?, ?it/s]"
     ]
    },
    {
     "name": "stdout",
     "output_type": "stream",
     "text": [
      "\n",
      "Extract information related to signatures/variations...\n"
     ]
    },
    {
     "name": "stderr",
     "output_type": "stream",
     "text": [
      "Processing k-mers to extract information: 100%|██████████| 1383/1383 [03:54<00:00,  5.90it/s]\n"
     ]
    },
    {
     "name": "stdout",
     "output_type": "stream",
     "text": [
      "Execution time:  268.3964352607727\n",
      "Sample: 66.B1.W09.25_66.M1.W02.24 (Comparison_1: 12-mers)\n",
      "\n",
      "KEVOLVE: extraction mode\n",
      "\n",
      "Load sequences...\n",
      "Count k-mers...\n",
      "Generate matrices...\n",
      "Preprocessing...\n",
      "Solution search...\n",
      "\n",
      "Iteration: 1 | Attempt(s): 1 / 1\n",
      "Mean weighted score 0.997 Max weighted score 1.0 Mean unweighted score 0.994 Max unweighted score 1.0\n",
      "Number of genes : 1\n",
      "\n",
      "Identified solutions (1400) saved at : data/comparisons/66.B1.W09.25_66.M1.W02.24/Comparison_1/12\n",
      "Execution time:  145.11347651481628\n",
      "\n",
      "KEVOLVE: motif analyzer mode\n",
      "\n",
      "\n",
      "Identifying perfect matches...\n"
     ]
    },
    {
     "name": "stderr",
     "output_type": "stream",
     "text": [
      "Processing k-mers: 100%|██████████| 1400/1400 [00:00<00:00, 4643.11it/s]\n",
      "Processing k-mers for variations:   0%|          | 3/1400 [00:00<00:54, 25.76it/s]"
     ]
    },
    {
     "name": "stdout",
     "output_type": "stream",
     "text": [
      "\n",
      "Identifying variations...\n"
     ]
    },
    {
     "name": "stderr",
     "output_type": "stream",
     "text": [
      "Processing k-mers for variations: 100%|██████████| 1400/1400 [00:37<00:00, 37.66it/s]\n",
      "Processing k-mers to extract information:   0%|          | 0/1400 [00:00<?, ?it/s]"
     ]
    },
    {
     "name": "stdout",
     "output_type": "stream",
     "text": [
      "\n",
      "Extract information related to signatures/variations...\n"
     ]
    },
    {
     "name": "stderr",
     "output_type": "stream",
     "text": [
      "Processing k-mers to extract information: 100%|██████████| 1400/1400 [03:17<00:00,  7.11it/s]\n"
     ]
    },
    {
     "name": "stdout",
     "output_type": "stream",
     "text": [
      "Execution time:  234.50872898101807\n",
      "Sample: 66.B1.W09.25_66.M1.W02.24 (Comparison_1: 13-mers)\n",
      "\n",
      "KEVOLVE: extraction mode\n",
      "\n",
      "Load sequences...\n",
      "Count k-mers...\n",
      "Generate matrices...\n",
      "Preprocessing...\n",
      "Solution search...\n",
      "\n",
      "Iteration: 1 | Attempt(s): 1 / 1\n",
      "Mean weighted score 0.998 Max weighted score 1.0 Mean unweighted score 0.995 Max unweighted score 1.0\n",
      "Number of genes : 1\n",
      "\n",
      "Identified solutions (1417) saved at : data/comparisons/66.B1.W09.25_66.M1.W02.24/Comparison_1/13\n",
      "Execution time:  145.87553906440735\n",
      "\n",
      "KEVOLVE: motif analyzer mode\n",
      "\n",
      "\n",
      "Identifying perfect matches...\n"
     ]
    },
    {
     "name": "stderr",
     "output_type": "stream",
     "text": [
      "Processing k-mers: 100%|██████████| 1417/1417 [00:00<00:00, 4541.47it/s]\n",
      "Processing k-mers for variations:   0%|          | 0/1417 [00:00<?, ?it/s]"
     ]
    },
    {
     "name": "stdout",
     "output_type": "stream",
     "text": [
      "\n",
      "Identifying variations...\n"
     ]
    },
    {
     "name": "stderr",
     "output_type": "stream",
     "text": [
      "Processing k-mers for variations: 100%|██████████| 1417/1417 [00:41<00:00, 34.53it/s]\n",
      "Processing k-mers to extract information:   0%|          | 0/1417 [00:00<?, ?it/s]"
     ]
    },
    {
     "name": "stdout",
     "output_type": "stream",
     "text": [
      "\n",
      "Extract information related to signatures/variations...\n"
     ]
    },
    {
     "name": "stderr",
     "output_type": "stream",
     "text": [
      "Processing k-mers to extract information: 100%|██████████| 1417/1417 [02:56<00:00,  8.02it/s]\n"
     ]
    },
    {
     "name": "stdout",
     "output_type": "stream",
     "text": [
      "Execution time:  218.15654492378235\n",
      "Sample: 66.B1.W09.25_66.M1.W02.24 (Comparison_1: 14-mers)\n",
      "\n",
      "KEVOLVE: extraction mode\n",
      "\n",
      "Load sequences...\n",
      "Count k-mers...\n",
      "Generate matrices...\n",
      "Preprocessing...\n",
      "Solution search...\n",
      "\n",
      "Iteration: 1 | Attempt(s): 1 / 1\n",
      "Mean weighted score 0.997 Max weighted score 1.0 Mean unweighted score 0.994 Max unweighted score 1.0\n",
      "Number of genes : 1\n",
      "\n",
      "Identified solutions (1429) saved at : data/comparisons/66.B1.W09.25_66.M1.W02.24/Comparison_1/14\n",
      "Execution time:  145.47164726257324\n",
      "\n",
      "KEVOLVE: motif analyzer mode\n",
      "\n",
      "\n",
      "Identifying perfect matches...\n"
     ]
    },
    {
     "name": "stderr",
     "output_type": "stream",
     "text": [
      "Processing k-mers: 100%|██████████| 1429/1429 [00:00<00:00, 4598.68it/s]\n",
      "Processing k-mers for variations:   0%|          | 4/1429 [00:00<00:49, 28.84it/s]"
     ]
    },
    {
     "name": "stdout",
     "output_type": "stream",
     "text": [
      "\n",
      "Identifying variations...\n"
     ]
    },
    {
     "name": "stderr",
     "output_type": "stream",
     "text": [
      "Processing k-mers for variations: 100%|██████████| 1429/1429 [00:44<00:00, 31.97it/s]\n",
      "Processing k-mers to extract information:   0%|          | 0/1429 [00:00<?, ?it/s]"
     ]
    },
    {
     "name": "stdout",
     "output_type": "stream",
     "text": [
      "\n",
      "Extract information related to signatures/variations...\n"
     ]
    },
    {
     "name": "stderr",
     "output_type": "stream",
     "text": [
      "Processing k-mers to extract information: 100%|██████████| 1429/1429 [02:55<00:00,  8.12it/s]\n"
     ]
    },
    {
     "name": "stdout",
     "output_type": "stream",
     "text": [
      "Execution time:  221.0356092453003\n",
      "Sample: 66.B1.W09.25_66.M1.W02.24 (Comparison_1: 15-mers)\n",
      "\n",
      "KEVOLVE: extraction mode\n",
      "\n",
      "Load sequences...\n",
      "Count k-mers...\n",
      "Generate matrices...\n",
      "Preprocessing...\n",
      "Solution search...\n",
      "\n",
      "Iteration: 1 | Attempt(s): 1 / 1\n",
      "Mean weighted score 0.998 Max weighted score 1.0 Mean unweighted score 0.995 Max unweighted score 1.0\n",
      "Number of genes : 1\n",
      "\n",
      "Identified solutions (1439) saved at : data/comparisons/66.B1.W09.25_66.M1.W02.24/Comparison_1/15\n",
      "Execution time:  145.41251039505005\n",
      "\n",
      "KEVOLVE: motif analyzer mode\n",
      "\n",
      "\n",
      "Identifying perfect matches...\n"
     ]
    },
    {
     "name": "stderr",
     "output_type": "stream",
     "text": [
      "Processing k-mers: 100%|██████████| 1439/1439 [00:00<00:00, 4590.16it/s]\n",
      "Processing k-mers for variations:   0%|          | 3/1439 [00:00<00:51, 27.99it/s]"
     ]
    },
    {
     "name": "stdout",
     "output_type": "stream",
     "text": [
      "\n",
      "Identifying variations...\n"
     ]
    },
    {
     "name": "stderr",
     "output_type": "stream",
     "text": [
      "Processing k-mers for variations: 100%|██████████| 1439/1439 [00:48<00:00, 29.77it/s]\n",
      "Processing k-mers to extract information:   0%|          | 0/1439 [00:00<?, ?it/s]"
     ]
    },
    {
     "name": "stdout",
     "output_type": "stream",
     "text": [
      "\n",
      "Extract information related to signatures/variations...\n"
     ]
    },
    {
     "name": "stderr",
     "output_type": "stream",
     "text": [
      "Processing k-mers to extract information: 100%|██████████| 1439/1439 [02:44<00:00,  8.76it/s]\n"
     ]
    },
    {
     "name": "stdout",
     "output_type": "stream",
     "text": [
      "Execution time:  212.95909786224365\n",
      "Sample: 66.B1.W09.25_66.M1.W02.24 (Comparison_1: 16-mers)\n",
      "\n",
      "KEVOLVE: extraction mode\n",
      "\n",
      "Load sequences...\n",
      "Count k-mers...\n",
      "Generate matrices...\n",
      "Preprocessing...\n",
      "Solution search...\n",
      "\n",
      "Iteration: 1 | Attempt(s): 1 / 1\n",
      "Mean weighted score 0.997 Max weighted score 1.0 Mean unweighted score 0.994 Max unweighted score 1.0\n",
      "Number of genes : 1\n",
      "\n",
      "Identified solutions (1448) saved at : data/comparisons/66.B1.W09.25_66.M1.W02.24/Comparison_1/16\n",
      "Execution time:  145.85536360740662\n",
      "\n",
      "KEVOLVE: motif analyzer mode\n",
      "\n",
      "\n",
      "Identifying perfect matches...\n"
     ]
    },
    {
     "name": "stderr",
     "output_type": "stream",
     "text": [
      "Processing k-mers: 100%|██████████| 1448/1448 [00:00<00:00, 4569.09it/s]\n",
      "Processing k-mers for variations:   0%|          | 3/1448 [00:00<01:10, 20.47it/s]"
     ]
    },
    {
     "name": "stdout",
     "output_type": "stream",
     "text": [
      "\n",
      "Identifying variations...\n"
     ]
    },
    {
     "name": "stderr",
     "output_type": "stream",
     "text": [
      "Processing k-mers for variations: 100%|██████████| 1448/1448 [00:52<00:00, 27.71it/s]\n",
      "Processing k-mers to extract information:   0%|          | 0/1448 [00:00<?, ?it/s]"
     ]
    },
    {
     "name": "stdout",
     "output_type": "stream",
     "text": [
      "\n",
      "Extract information related to signatures/variations...\n"
     ]
    },
    {
     "name": "stderr",
     "output_type": "stream",
     "text": [
      "Processing k-mers to extract information: 100%|██████████| 1448/1448 [03:03<00:00,  7.89it/s]\n"
     ]
    },
    {
     "name": "stdout",
     "output_type": "stream",
     "text": [
      "Execution time:  236.10289907455444\n",
      "Sample: 66.B1.W09.25_66.M1.W02.24 (Comparison_1: 17-mers)\n",
      "\n",
      "KEVOLVE: extraction mode\n",
      "\n",
      "Load sequences...\n",
      "Count k-mers...\n",
      "Generate matrices...\n",
      "Preprocessing...\n",
      "Solution search...\n",
      "\n",
      "Iteration: 1 | Attempt(s): 1 / 1\n",
      "Mean weighted score 0.998 Max weighted score 1.0 Mean unweighted score 0.995 Max unweighted score 1.0\n",
      "Number of genes : 1\n",
      "\n",
      "Identified solutions (1459) saved at : data/comparisons/66.B1.W09.25_66.M1.W02.24/Comparison_1/17\n",
      "Execution time:  145.588365316391\n",
      "\n",
      "KEVOLVE: motif analyzer mode\n",
      "\n",
      "\n",
      "Identifying perfect matches...\n"
     ]
    },
    {
     "name": "stderr",
     "output_type": "stream",
     "text": [
      "Processing k-mers: 100%|██████████| 1459/1459 [00:00<00:00, 4558.98it/s]\n",
      "Processing k-mers for variations:   0%|          | 4/1459 [00:00<00:46, 31.11it/s]"
     ]
    },
    {
     "name": "stdout",
     "output_type": "stream",
     "text": [
      "\n",
      "Identifying variations...\n"
     ]
    },
    {
     "name": "stderr",
     "output_type": "stream",
     "text": [
      "Processing k-mers for variations: 100%|██████████| 1459/1459 [00:56<00:00, 26.04it/s]\n",
      "Processing k-mers to extract information:   0%|          | 0/1459 [00:00<?, ?it/s]"
     ]
    },
    {
     "name": "stdout",
     "output_type": "stream",
     "text": [
      "\n",
      "Extract information related to signatures/variations...\n"
     ]
    },
    {
     "name": "stderr",
     "output_type": "stream",
     "text": [
      "Processing k-mers to extract information: 100%|██████████| 1459/1459 [03:00<00:00,  8.08it/s]\n"
     ]
    },
    {
     "name": "stdout",
     "output_type": "stream",
     "text": [
      "Execution time:  236.95150113105774\n",
      "Sample: 66.B1.W09.25_66.M1.W02.24 (Comparison_1: 18-mers)\n",
      "\n",
      "KEVOLVE: extraction mode\n",
      "\n",
      "Load sequences...\n",
      "Count k-mers...\n",
      "Generate matrices...\n",
      "Preprocessing...\n",
      "Solution search...\n",
      "\n",
      "Iteration: 1 | Attempt(s): 1 / 1\n",
      "Mean weighted score 0.997 Max weighted score 1.0 Mean unweighted score 0.994 Max unweighted score 1.0\n",
      "Number of genes : 1\n",
      "\n",
      "Identified solutions (1466) saved at : data/comparisons/66.B1.W09.25_66.M1.W02.24/Comparison_1/18\n",
      "Execution time:  145.6155345439911\n",
      "\n",
      "KEVOLVE: motif analyzer mode\n",
      "\n",
      "\n",
      "Identifying perfect matches...\n"
     ]
    },
    {
     "name": "stderr",
     "output_type": "stream",
     "text": [
      "Processing k-mers: 100%|██████████| 1466/1466 [00:00<00:00, 4541.09it/s]\n",
      "Processing k-mers for variations:   0%|          | 3/1466 [00:00<00:59, 24.68it/s]"
     ]
    },
    {
     "name": "stdout",
     "output_type": "stream",
     "text": [
      "\n",
      "Identifying variations...\n"
     ]
    },
    {
     "name": "stderr",
     "output_type": "stream",
     "text": [
      "Processing k-mers for variations: 100%|██████████| 1466/1466 [00:59<00:00, 24.69it/s]\n",
      "Processing k-mers to extract information:   0%|          | 0/1466 [00:00<?, ?it/s]"
     ]
    },
    {
     "name": "stdout",
     "output_type": "stream",
     "text": [
      "\n",
      "Extract information related to signatures/variations...\n"
     ]
    },
    {
     "name": "stderr",
     "output_type": "stream",
     "text": [
      "Processing k-mers to extract information: 100%|██████████| 1466/1466 [02:55<00:00,  8.33it/s]\n"
     ]
    },
    {
     "name": "stdout",
     "output_type": "stream",
     "text": [
      "Execution time:  235.65292310714722\n",
      "Sample: 66.B1.W09.25_66.M1.W02.24 (Comparison_1: 19-mers)\n",
      "\n",
      "KEVOLVE: extraction mode\n",
      "\n",
      "Load sequences...\n",
      "Count k-mers...\n",
      "Generate matrices...\n",
      "Preprocessing...\n",
      "Solution search...\n",
      "\n",
      "Iteration: 1 | Attempt(s): 1 / 1\n",
      "Mean weighted score 0.997 Max weighted score 1.0 Mean unweighted score 0.994 Max unweighted score 1.0\n",
      "Number of genes : 1\n",
      "\n",
      "Identified solutions (1474) saved at : data/comparisons/66.B1.W09.25_66.M1.W02.24/Comparison_1/19\n",
      "Execution time:  145.76202702522278\n",
      "\n",
      "KEVOLVE: motif analyzer mode\n",
      "\n",
      "\n",
      "Identifying perfect matches...\n"
     ]
    },
    {
     "name": "stderr",
     "output_type": "stream",
     "text": [
      "Processing k-mers: 100%|██████████| 1474/1474 [00:00<00:00, 4460.82it/s]\n",
      "Processing k-mers for variations:   0%|          | 3/1474 [00:00<01:02, 23.65it/s]"
     ]
    },
    {
     "name": "stdout",
     "output_type": "stream",
     "text": [
      "\n",
      "Identifying variations...\n"
     ]
    },
    {
     "name": "stderr",
     "output_type": "stream",
     "text": [
      "Processing k-mers for variations: 100%|██████████| 1474/1474 [01:03<00:00, 23.26it/s]\n",
      "Processing k-mers to extract information:   0%|          | 0/1474 [00:00<?, ?it/s]"
     ]
    },
    {
     "name": "stdout",
     "output_type": "stream",
     "text": [
      "\n",
      "Extract information related to signatures/variations...\n"
     ]
    },
    {
     "name": "stderr",
     "output_type": "stream",
     "text": [
      "Processing k-mers to extract information: 100%|██████████| 1474/1474 [02:59<00:00,  8.21it/s]\n"
     ]
    },
    {
     "name": "stdout",
     "output_type": "stream",
     "text": [
      "Execution time:  243.27492475509644\n",
      "Sample: 66.B1.W09.25_66.M1.W02.24 (Comparison_1: 20-mers)\n",
      "\n",
      "KEVOLVE: extraction mode\n",
      "\n",
      "Load sequences...\n",
      "Count k-mers...\n",
      "Generate matrices...\n",
      "Preprocessing...\n",
      "Solution search...\n",
      "\n",
      "Iteration: 1 | Attempt(s): 1 / 1\n",
      "Mean weighted score 0.997 Max weighted score 1.0 Mean unweighted score 0.994 Max unweighted score 1.0\n",
      "Number of genes : 1\n",
      "\n",
      "Identified solutions (1474) saved at : data/comparisons/66.B1.W09.25_66.M1.W02.24/Comparison_1/20\n",
      "Execution time:  145.82504224777222\n",
      "\n",
      "KEVOLVE: motif analyzer mode\n",
      "\n",
      "\n",
      "Identifying perfect matches...\n"
     ]
    },
    {
     "name": "stderr",
     "output_type": "stream",
     "text": [
      "Processing k-mers: 100%|██████████| 1474/1474 [00:00<00:00, 4502.11it/s]\n",
      "Processing k-mers for variations:   0%|          | 3/1474 [00:00<01:05, 22.40it/s]"
     ]
    },
    {
     "name": "stdout",
     "output_type": "stream",
     "text": [
      "\n",
      "Identifying variations...\n"
     ]
    },
    {
     "name": "stderr",
     "output_type": "stream",
     "text": [
      "Processing k-mers for variations: 100%|██████████| 1474/1474 [01:06<00:00, 22.06it/s]\n",
      "Processing k-mers to extract information:   0%|          | 0/1474 [00:00<?, ?it/s]"
     ]
    },
    {
     "name": "stdout",
     "output_type": "stream",
     "text": [
      "\n",
      "Extract information related to signatures/variations...\n"
     ]
    },
    {
     "name": "stderr",
     "output_type": "stream",
     "text": [
      "Processing k-mers to extract information: 100%|██████████| 1474/1474 [02:55<00:00,  8.40it/s]\n"
     ]
    },
    {
     "name": "stdout",
     "output_type": "stream",
     "text": [
      "Execution time:  242.69952583312988\n",
      "Sample: 66.B1.W09.25_66.M1.W02.24 (Comparison_1: 21-mers)\n",
      "\n",
      "KEVOLVE: extraction mode\n",
      "\n",
      "Load sequences...\n",
      "Count k-mers...\n",
      "Generate matrices...\n",
      "Preprocessing...\n",
      "Solution search...\n",
      "\n",
      "Iteration: 1 | Attempt(s): 1 / 1\n",
      "Mean weighted score 0.997 Max weighted score 1.0 Mean unweighted score 0.994 Max unweighted score 1.0\n",
      "Number of genes : 1\n",
      "\n",
      "Identified solutions (1473) saved at : data/comparisons/66.B1.W09.25_66.M1.W02.24/Comparison_1/21\n",
      "Execution time:  145.78614783287048\n",
      "\n",
      "KEVOLVE: motif analyzer mode\n",
      "\n",
      "\n",
      "Identifying perfect matches...\n"
     ]
    },
    {
     "name": "stderr",
     "output_type": "stream",
     "text": [
      "Processing k-mers: 100%|██████████| 1473/1473 [00:00<00:00, 4521.22it/s]\n",
      "Processing k-mers for variations:   0%|          | 3/1473 [00:00<01:08, 21.38it/s]"
     ]
    },
    {
     "name": "stdout",
     "output_type": "stream",
     "text": [
      "\n",
      "Identifying variations...\n"
     ]
    },
    {
     "name": "stderr",
     "output_type": "stream",
     "text": [
      "Processing k-mers for variations: 100%|██████████| 1473/1473 [01:10<00:00, 20.87it/s]\n",
      "Processing k-mers to extract information:   0%|          | 0/1473 [00:00<?, ?it/s]"
     ]
    },
    {
     "name": "stdout",
     "output_type": "stream",
     "text": [
      "\n",
      "Extract information related to signatures/variations...\n"
     ]
    },
    {
     "name": "stderr",
     "output_type": "stream",
     "text": [
      "Processing k-mers to extract information: 100%|██████████| 1473/1473 [02:47<00:00,  8.81it/s]\n"
     ]
    },
    {
     "name": "stdout",
     "output_type": "stream",
     "text": [
      "Execution time:  238.1753692626953\n",
      "Sample: 66.B1.W09.25_66.M1.W02.24 (Comparison_2: 9-mers)\n",
      "\n",
      "KEVOLVE: extraction mode\n",
      "\n",
      "Load sequences...\n",
      "Count k-mers...\n",
      "Generate matrices...\n",
      "Preprocessing...\n",
      "Solution search...\n",
      "\n",
      "Iteration: 1 | Attempt(s): 1 / 1\n",
      "Mean weighted score 0.977 Max weighted score 1.0 Mean unweighted score 0.969 Max unweighted score 1.0\n",
      "Number of genes : 1\n",
      "\n",
      "Identified solutions (915) saved at : data/comparisons/66.B1.W09.25_66.M1.W02.24/Comparison_2/9\n",
      "Execution time:  144.89755606651306\n",
      "\n",
      "KEVOLVE: motif analyzer mode\n",
      "\n",
      "\n",
      "Identifying perfect matches...\n",
      "\n",
      "Identifying variations...\n"
     ]
    },
    {
     "name": "stderr",
     "output_type": "stream",
     "text": [
      "Processing k-mers: 100%|██████████| 915/915 [00:00<00:00, 6790.26it/s]\n",
      "Processing k-mers for variations: 100%|██████████| 915/915 [00:09<00:00, 94.75it/s] \n",
      "Processing k-mers to extract information:   0%|          | 0/915 [00:00<?, ?it/s]"
     ]
    },
    {
     "name": "stdout",
     "output_type": "stream",
     "text": [
      "\n",
      "Extract information related to signatures/variations...\n"
     ]
    },
    {
     "name": "stderr",
     "output_type": "stream",
     "text": [
      "Processing k-mers to extract information: 100%|██████████| 915/915 [04:42<00:00,  3.24it/s]\n"
     ]
    },
    {
     "name": "stdout",
     "output_type": "stream",
     "text": [
      "Execution time:  291.89282178878784\n",
      "Sample: 66.B1.W09.25_66.M1.W02.24 (Comparison_2: 10-mers)\n",
      "\n",
      "KEVOLVE: extraction mode\n",
      "\n",
      "Load sequences...\n",
      "Count k-mers...\n",
      "Generate matrices...\n",
      "Preprocessing...\n",
      "Solution search...\n",
      "\n",
      "Iteration: 1 | Attempt(s): 1 / 1\n",
      "Mean weighted score 0.974 Max weighted score 1.0 Mean unweighted score 0.965 Max unweighted score 1.0\n",
      "Number of genes : 1\n",
      "\n",
      "Identified solutions (939) saved at : data/comparisons/66.B1.W09.25_66.M1.W02.24/Comparison_2/10\n",
      "Execution time:  144.4553678035736\n",
      "\n",
      "KEVOLVE: motif analyzer mode\n",
      "\n",
      "\n",
      "Identifying perfect matches...\n",
      "\n",
      "Identifying variations...\n"
     ]
    },
    {
     "name": "stderr",
     "output_type": "stream",
     "text": [
      "Processing k-mers: 100%|██████████| 939/939 [00:00<00:00, 6487.52it/s]\n",
      "Processing k-mers for variations: 100%|██████████| 939/939 [00:11<00:00, 85.11it/s]\n",
      "Processing k-mers to extract information:   0%|          | 0/939 [00:00<?, ?it/s]"
     ]
    },
    {
     "name": "stdout",
     "output_type": "stream",
     "text": [
      "\n",
      "Extract information related to signatures/variations...\n"
     ]
    },
    {
     "name": "stderr",
     "output_type": "stream",
     "text": [
      "Processing k-mers to extract information: 100%|██████████| 939/939 [02:14<00:00,  6.98it/s]\n"
     ]
    },
    {
     "name": "stdout",
     "output_type": "stream",
     "text": [
      "Execution time:  145.82275676727295\n",
      "Sample: 66.B1.W09.25_66.M1.W02.24 (Comparison_2: 11-mers)\n",
      "\n",
      "KEVOLVE: extraction mode\n",
      "\n",
      "Load sequences...\n",
      "Count k-mers...\n",
      "Generate matrices...\n",
      "Preprocessing...\n",
      "Solution search...\n",
      "\n",
      "Iteration: 1 | Attempt(s): 1 / 1\n",
      "Mean weighted score 0.972 Max weighted score 1.0 Mean unweighted score 0.962 Max unweighted score 1.0\n",
      "Number of genes : 1\n",
      "\n",
      "Identified solutions (960) saved at : data/comparisons/66.B1.W09.25_66.M1.W02.24/Comparison_2/11\n",
      "Execution time:  144.7068510055542\n",
      "\n",
      "KEVOLVE: motif analyzer mode\n",
      "\n",
      "\n",
      "Identifying perfect matches...\n",
      "\n",
      "Identifying variations...\n"
     ]
    },
    {
     "name": "stderr",
     "output_type": "stream",
     "text": [
      "Processing k-mers: 100%|██████████| 960/960 [00:00<00:00, 6875.25it/s]\n",
      "Processing k-mers for variations: 100%|██████████| 960/960 [00:12<00:00, 77.31it/s]\n",
      "Processing k-mers to extract information:   0%|          | 0/960 [00:00<?, ?it/s]"
     ]
    },
    {
     "name": "stdout",
     "output_type": "stream",
     "text": [
      "\n",
      "Extract information related to signatures/variations...\n"
     ]
    },
    {
     "name": "stderr",
     "output_type": "stream",
     "text": [
      "Processing k-mers to extract information: 100%|██████████| 960/960 [01:46<00:00,  9.05it/s]\n"
     ]
    },
    {
     "name": "stdout",
     "output_type": "stream",
     "text": [
      "Execution time:  118.65432929992676\n",
      "Sample: 66.B1.W09.25_66.M1.W02.24 (Comparison_2: 12-mers)\n",
      "\n",
      "KEVOLVE: extraction mode\n",
      "\n",
      "Load sequences...\n",
      "Count k-mers...\n",
      "Generate matrices...\n",
      "Preprocessing...\n",
      "Solution search...\n",
      "\n",
      "Iteration: 1 | Attempt(s): 1 / 1\n",
      "Mean weighted score 0.971 Max weighted score 1.0 Mean unweighted score 0.96 Max unweighted score 1.0\n",
      "Number of genes : 1\n",
      "\n",
      "Identified solutions (982) saved at : data/comparisons/66.B1.W09.25_66.M1.W02.24/Comparison_2/12\n",
      "Execution time:  144.1930079460144\n",
      "\n",
      "KEVOLVE: motif analyzer mode\n",
      "\n",
      "\n",
      "Identifying perfect matches...\n",
      "\n",
      "Identifying variations...\n"
     ]
    },
    {
     "name": "stderr",
     "output_type": "stream",
     "text": [
      "Processing k-mers: 100%|██████████| 982/982 [00:00<00:00, 6521.24it/s]\n",
      "Processing k-mers for variations: 100%|██████████| 982/982 [00:13<00:00, 71.41it/s]\n",
      "Processing k-mers to extract information:   0%|          | 2/982 [00:00<01:04, 15.15it/s]"
     ]
    },
    {
     "name": "stdout",
     "output_type": "stream",
     "text": [
      "\n",
      "Extract information related to signatures/variations...\n"
     ]
    },
    {
     "name": "stderr",
     "output_type": "stream",
     "text": [
      "Processing k-mers to extract information: 100%|██████████| 982/982 [01:28<00:00, 11.15it/s]\n"
     ]
    },
    {
     "name": "stdout",
     "output_type": "stream",
     "text": [
      "Execution time:  102.0010597705841\n",
      "Sample: 66.B1.W09.25_66.M1.W02.24 (Comparison_2: 13-mers)\n",
      "\n",
      "KEVOLVE: extraction mode\n",
      "\n",
      "Load sequences...\n",
      "Count k-mers...\n",
      "Generate matrices...\n",
      "Preprocessing...\n",
      "Solution search...\n",
      "\n",
      "Iteration: 1 | Attempt(s): 1 / 1\n",
      "Mean weighted score 0.97 Max weighted score 1.0 Mean unweighted score 0.959 Max unweighted score 1.0\n",
      "Number of genes : 1\n",
      "\n",
      "Identified solutions (995) saved at : data/comparisons/66.B1.W09.25_66.M1.W02.24/Comparison_2/13\n",
      "Execution time:  144.15528798103333\n",
      "\n",
      "KEVOLVE: motif analyzer mode\n",
      "\n",
      "\n",
      "Identifying perfect matches...\n",
      "\n",
      "Identifying variations...\n"
     ]
    },
    {
     "name": "stderr",
     "output_type": "stream",
     "text": [
      "Processing k-mers: 100%|██████████| 995/995 [00:00<00:00, 6570.63it/s]\n",
      "Processing k-mers for variations: 100%|██████████| 995/995 [00:15<00:00, 66.15it/s]\n",
      "Processing k-mers to extract information:   0%|          | 0/995 [00:00<?, ?it/s]"
     ]
    },
    {
     "name": "stdout",
     "output_type": "stream",
     "text": [
      "\n",
      "Extract information related to signatures/variations...\n"
     ]
    },
    {
     "name": "stderr",
     "output_type": "stream",
     "text": [
      "Processing k-mers to extract information: 100%|██████████| 995/995 [01:20<00:00, 12.28it/s]\n"
     ]
    },
    {
     "name": "stdout",
     "output_type": "stream",
     "text": [
      "Execution time:  96.21881008148193\n",
      "Sample: 66.B1.W09.25_66.M1.W02.24 (Comparison_2: 14-mers)\n",
      "\n",
      "KEVOLVE: extraction mode\n",
      "\n",
      "Load sequences...\n",
      "Count k-mers...\n",
      "Generate matrices...\n",
      "Preprocessing...\n",
      "Solution search...\n",
      "\n",
      "Iteration: 1 | Attempt(s): 1 / 1\n",
      "Mean weighted score 0.967 Max weighted score 1.0 Mean unweighted score 0.955 Max unweighted score 1.0\n",
      "Number of genes : 1\n",
      "\n",
      "Identified solutions (1004) saved at : data/comparisons/66.B1.W09.25_66.M1.W02.24/Comparison_2/14\n",
      "Execution time:  144.17877340316772\n",
      "\n",
      "KEVOLVE: motif analyzer mode\n",
      "\n",
      "\n",
      "Identifying perfect matches...\n",
      "\n",
      "Identifying variations...\n"
     ]
    },
    {
     "name": "stderr",
     "output_type": "stream",
     "text": [
      "Processing k-mers: 100%|██████████| 1004/1004 [00:00<00:00, 6336.87it/s]\n",
      "Processing k-mers for variations: 100%|██████████| 1004/1004 [00:16<00:00, 61.87it/s]\n",
      "Processing k-mers to extract information:   0%|          | 0/1004 [00:00<?, ?it/s]"
     ]
    },
    {
     "name": "stdout",
     "output_type": "stream",
     "text": [
      "\n",
      "Extract information related to signatures/variations...\n"
     ]
    },
    {
     "name": "stderr",
     "output_type": "stream",
     "text": [
      "Processing k-mers to extract information: 100%|██████████| 1004/1004 [01:21<00:00, 12.31it/s]\n"
     ]
    },
    {
     "name": "stdout",
     "output_type": "stream",
     "text": [
      "Execution time:  97.99962329864502\n",
      "Sample: 66.B1.W09.25_66.M1.W02.24 (Comparison_2: 15-mers)\n",
      "\n",
      "KEVOLVE: extraction mode\n",
      "\n",
      "Load sequences...\n",
      "Count k-mers...\n",
      "Generate matrices...\n",
      "Preprocessing...\n",
      "Solution search...\n",
      "\n",
      "Iteration: 1 | Attempt(s): 1 / 1\n",
      "Mean weighted score 0.968 Max weighted score 1.0 Mean unweighted score 0.956 Max unweighted score 1.0\n",
      "Number of genes : 1\n",
      "\n",
      "Identified solutions (1008) saved at : data/comparisons/66.B1.W09.25_66.M1.W02.24/Comparison_2/15\n",
      "Execution time:  144.9372580051422\n",
      "\n",
      "KEVOLVE: motif analyzer mode\n",
      "\n",
      "\n",
      "Identifying perfect matches...\n",
      "\n",
      "Identifying variations...\n"
     ]
    },
    {
     "name": "stderr",
     "output_type": "stream",
     "text": [
      "Processing k-mers: 100%|██████████| 1008/1008 [00:00<00:00, 6639.87it/s]\n",
      "Processing k-mers for variations: 100%|██████████| 1008/1008 [00:17<00:00, 57.93it/s]\n",
      "Processing k-mers to extract information:   0%|          | 0/1008 [00:00<?, ?it/s]"
     ]
    },
    {
     "name": "stdout",
     "output_type": "stream",
     "text": [
      "\n",
      "Extract information related to signatures/variations...\n"
     ]
    },
    {
     "name": "stderr",
     "output_type": "stream",
     "text": [
      "Processing k-mers to extract information: 100%|██████████| 1008/1008 [01:16<00:00, 13.20it/s]\n"
     ]
    },
    {
     "name": "stdout",
     "output_type": "stream",
     "text": [
      "Execution time:  93.96153163909912\n",
      "Sample: 66.B1.W09.25_66.M1.W02.24 (Comparison_2: 16-mers)\n",
      "\n",
      "KEVOLVE: extraction mode\n",
      "\n",
      "Load sequences...\n",
      "Count k-mers...\n",
      "Generate matrices...\n",
      "Preprocessing...\n",
      "Solution search...\n",
      "\n",
      "Iteration: 1 | Attempt(s): 1 / 1\n",
      "Mean weighted score 0.964 Max weighted score 1.0 Mean unweighted score 0.95 Max unweighted score 1.0\n",
      "Number of genes : 1\n",
      "\n",
      "Identified solutions (998) saved at : data/comparisons/66.B1.W09.25_66.M1.W02.24/Comparison_2/16\n",
      "Execution time:  144.42993688583374\n",
      "\n",
      "KEVOLVE: motif analyzer mode\n",
      "\n",
      "\n",
      "Identifying perfect matches...\n",
      "\n",
      "Identifying variations...\n"
     ]
    },
    {
     "name": "stderr",
     "output_type": "stream",
     "text": [
      "Processing k-mers: 100%|██████████| 998/998 [00:00<00:00, 6515.93it/s]\n",
      "Processing k-mers for variations: 100%|██████████| 998/998 [00:18<00:00, 54.41it/s]\n",
      "Processing k-mers to extract information:   0%|          | 0/998 [00:00<?, ?it/s]"
     ]
    },
    {
     "name": "stdout",
     "output_type": "stream",
     "text": [
      "\n",
      "Extract information related to signatures/variations...\n"
     ]
    },
    {
     "name": "stderr",
     "output_type": "stream",
     "text": [
      "Processing k-mers to extract information: 100%|██████████| 998/998 [01:26<00:00, 11.58it/s]\n"
     ]
    },
    {
     "name": "stdout",
     "output_type": "stream",
     "text": [
      "Execution time:  104.6715931892395\n",
      "Sample: 66.B1.W09.25_66.M1.W02.24 (Comparison_2: 17-mers)\n",
      "\n",
      "KEVOLVE: extraction mode\n",
      "\n",
      "Load sequences...\n",
      "Count k-mers...\n",
      "Generate matrices...\n",
      "Preprocessing...\n",
      "Solution search...\n",
      "\n",
      "Iteration: 1 | Attempt(s): 1 / 1\n",
      "Mean weighted score 0.962 Max weighted score 1.0 Mean unweighted score 0.948 Max unweighted score 1.0\n",
      "Number of genes : 1\n",
      "\n",
      "Identified solutions (990) saved at : data/comparisons/66.B1.W09.25_66.M1.W02.24/Comparison_2/17\n",
      "Execution time:  144.73532223701477\n",
      "\n",
      "KEVOLVE: motif analyzer mode\n",
      "\n",
      "\n",
      "Identifying perfect matches...\n",
      "\n",
      "Identifying variations...\n"
     ]
    },
    {
     "name": "stderr",
     "output_type": "stream",
     "text": [
      "Processing k-mers: 100%|██████████| 990/990 [00:00<00:00, 6521.28it/s]\n",
      "Processing k-mers for variations: 100%|██████████| 990/990 [00:19<00:00, 51.28it/s]\n",
      "Processing k-mers to extract information:   0%|          | 0/990 [00:00<?, ?it/s]"
     ]
    },
    {
     "name": "stdout",
     "output_type": "stream",
     "text": [
      "\n",
      "Extract information related to signatures/variations...\n"
     ]
    },
    {
     "name": "stderr",
     "output_type": "stream",
     "text": [
      "Processing k-mers to extract information: 100%|██████████| 990/990 [01:24<00:00, 11.71it/s]\n"
     ]
    },
    {
     "name": "stdout",
     "output_type": "stream",
     "text": [
      "Execution time:  104.04000210762024\n",
      "Sample: 66.B1.W09.25_66.M1.W02.24 (Comparison_2: 18-mers)\n",
      "\n",
      "KEVOLVE: extraction mode\n",
      "\n",
      "Load sequences...\n",
      "Count k-mers...\n",
      "Generate matrices...\n",
      "Preprocessing...\n",
      "Solution search...\n",
      "\n",
      "Iteration: 1 | Attempt(s): 1 / 1\n",
      "Mean weighted score 0.961 Max weighted score 1.0 Mean unweighted score 0.947 Max unweighted score 1.0\n",
      "Number of genes : 1\n",
      "\n",
      "Identified solutions (984) saved at : data/comparisons/66.B1.W09.25_66.M1.W02.24/Comparison_2/18\n",
      "Execution time:  144.48752689361572\n",
      "\n",
      "KEVOLVE: motif analyzer mode\n",
      "\n",
      "\n",
      "Identifying perfect matches...\n",
      "\n",
      "Identifying variations...\n"
     ]
    },
    {
     "name": "stderr",
     "output_type": "stream",
     "text": [
      "Processing k-mers: 100%|██████████| 984/984 [00:00<00:00, 6585.79it/s]\n",
      "Processing k-mers for variations: 100%|██████████| 984/984 [00:20<00:00, 48.72it/s]\n",
      "Processing k-mers to extract information:   0%|          | 0/984 [00:00<?, ?it/s]"
     ]
    },
    {
     "name": "stdout",
     "output_type": "stream",
     "text": [
      "\n",
      "Extract information related to signatures/variations...\n"
     ]
    },
    {
     "name": "stderr",
     "output_type": "stream",
     "text": [
      "Processing k-mers to extract information: 100%|██████████| 984/984 [01:21<00:00, 12.12it/s]\n"
     ]
    },
    {
     "name": "stdout",
     "output_type": "stream",
     "text": [
      "Execution time:  101.57282304763794\n",
      "Sample: 66.B1.W09.25_66.M1.W02.24 (Comparison_2: 19-mers)\n",
      "\n",
      "KEVOLVE: extraction mode\n",
      "\n",
      "Load sequences...\n",
      "Count k-mers...\n",
      "Generate matrices...\n",
      "Preprocessing...\n",
      "Solution search...\n",
      "\n",
      "Iteration: 1 | Attempt(s): 1 / 1\n",
      "Mean weighted score 0.959 Max weighted score 1.0 Mean unweighted score 0.944 Max unweighted score 1.0\n",
      "Number of genes : 1\n",
      "\n",
      "Identified solutions (971) saved at : data/comparisons/66.B1.W09.25_66.M1.W02.24/Comparison_2/19\n",
      "Execution time:  144.48819589614868\n",
      "\n",
      "KEVOLVE: motif analyzer mode\n",
      "\n",
      "\n",
      "Identifying perfect matches...\n",
      "\n",
      "Identifying variations...\n"
     ]
    },
    {
     "name": "stderr",
     "output_type": "stream",
     "text": [
      "Processing k-mers: 100%|██████████| 971/971 [00:00<00:00, 6742.51it/s]\n",
      "Processing k-mers for variations: 100%|██████████| 971/971 [00:21<00:00, 46.19it/s]\n",
      "Processing k-mers to extract information:   0%|          | 0/971 [00:00<?, ?it/s]"
     ]
    },
    {
     "name": "stdout",
     "output_type": "stream",
     "text": [
      "\n",
      "Extract information related to signatures/variations...\n"
     ]
    },
    {
     "name": "stderr",
     "output_type": "stream",
     "text": [
      "Processing k-mers to extract information: 100%|██████████| 971/971 [01:21<00:00, 11.85it/s]\n"
     ]
    },
    {
     "name": "stdout",
     "output_type": "stream",
     "text": [
      "Execution time:  103.13756012916565\n",
      "Sample: 66.B1.W09.25_66.M1.W02.24 (Comparison_2: 20-mers)\n",
      "\n",
      "KEVOLVE: extraction mode\n",
      "\n",
      "Load sequences...\n",
      "Count k-mers...\n",
      "Generate matrices...\n",
      "Preprocessing...\n",
      "Solution search...\n",
      "\n",
      "Iteration: 1 | Attempt(s): 1 / 1\n",
      "Mean weighted score 0.959 Max weighted score 1.0 Mean unweighted score 0.944 Max unweighted score 1.0\n",
      "Number of genes : 1\n",
      "\n",
      "Identified solutions (959) saved at : data/comparisons/66.B1.W09.25_66.M1.W02.24/Comparison_2/20\n",
      "Execution time:  144.37403345108032\n",
      "\n",
      "KEVOLVE: motif analyzer mode\n",
      "\n",
      "\n",
      "Identifying perfect matches...\n",
      "\n",
      "Identifying variations...\n"
     ]
    },
    {
     "name": "stderr",
     "output_type": "stream",
     "text": [
      "Processing k-mers: 100%|██████████| 959/959 [00:00<00:00, 6416.71it/s]\n",
      "Processing k-mers for variations: 100%|██████████| 959/959 [00:21<00:00, 44.13it/s]\n",
      "Processing k-mers to extract information:   0%|          | 0/959 [00:00<?, ?it/s]"
     ]
    },
    {
     "name": "stdout",
     "output_type": "stream",
     "text": [
      "\n",
      "Extract information related to signatures/variations...\n"
     ]
    },
    {
     "name": "stderr",
     "output_type": "stream",
     "text": [
      "Processing k-mers to extract information: 100%|██████████| 959/959 [01:20<00:00, 11.88it/s]\n"
     ]
    },
    {
     "name": "stdout",
     "output_type": "stream",
     "text": [
      "Execution time:  102.65901565551758\n",
      "Sample: 66.B1.W09.25_66.M1.W02.24 (Comparison_2: 21-mers)\n",
      "\n",
      "KEVOLVE: extraction mode\n",
      "\n",
      "Load sequences...\n",
      "Count k-mers...\n",
      "Generate matrices...\n",
      "Preprocessing...\n",
      "Solution search...\n",
      "\n",
      "Iteration: 1 | Attempt(s): 1 / 1\n",
      "Mean weighted score 0.956 Max weighted score 1.0 Mean unweighted score 0.94 Max unweighted score 1.0\n",
      "Number of genes : 1\n",
      "\n",
      "Identified solutions (946) saved at : data/comparisons/66.B1.W09.25_66.M1.W02.24/Comparison_2/21\n",
      "Execution time:  144.86150431632996\n",
      "\n",
      "KEVOLVE: motif analyzer mode\n",
      "\n",
      "\n",
      "Identifying perfect matches...\n",
      "\n",
      "Identifying variations...\n"
     ]
    },
    {
     "name": "stderr",
     "output_type": "stream",
     "text": [
      "Processing k-mers: 100%|██████████| 946/946 [00:00<00:00, 6277.90it/s]\n",
      "Processing k-mers for variations: 100%|██████████| 946/946 [00:22<00:00, 42.01it/s]\n",
      "Processing k-mers to extract information:   0%|          | 0/946 [00:00<?, ?it/s]"
     ]
    },
    {
     "name": "stdout",
     "output_type": "stream",
     "text": [
      "\n",
      "Extract information related to signatures/variations...\n"
     ]
    },
    {
     "name": "stderr",
     "output_type": "stream",
     "text": [
      "Processing k-mers to extract information: 100%|██████████| 946/946 [01:13<00:00, 12.95it/s]\n"
     ]
    },
    {
     "name": "stdout",
     "output_type": "stream",
     "text": [
      "Execution time:  95.7658360004425\n",
      "Sample: 66.B1.W09.25_66.M1.W02.24 (Comparison_3: 9-mers)\n",
      "\n",
      "KEVOLVE: extraction mode\n",
      "\n",
      "Load sequences...\n",
      "Count k-mers...\n",
      "Generate matrices...\n",
      "Preprocessing...\n",
      "Solution search...\n",
      "\n",
      "Iteration: 1 | Attempt(s): 1 / 1\n",
      "Mean weighted score 0.91 Max weighted score 1.0 Mean unweighted score 0.899 Max unweighted score 1.0\n",
      "Number of genes : 1\n",
      "\n",
      "Identified solutions (443) saved at : data/comparisons/66.B1.W09.25_66.M1.W02.24/Comparison_3/9\n",
      "Execution time:  144.83699870109558\n",
      "\n",
      "KEVOLVE: motif analyzer mode\n",
      "\n",
      "\n",
      "Identifying perfect matches...\n",
      "\n",
      "Identifying variations...\n"
     ]
    },
    {
     "name": "stderr",
     "output_type": "stream",
     "text": [
      "Processing k-mers: 100%|██████████| 443/443 [00:00<00:00, 6874.87it/s]\n",
      "Processing k-mers for variations: 100%|██████████| 443/443 [00:03<00:00, 119.62it/s]\n",
      "Processing k-mers to extract information:   0%|          | 0/443 [00:00<?, ?it/s]"
     ]
    },
    {
     "name": "stdout",
     "output_type": "stream",
     "text": [
      "\n",
      "Extract information related to signatures/variations...\n"
     ]
    },
    {
     "name": "stderr",
     "output_type": "stream",
     "text": [
      "Processing k-mers to extract information: 100%|██████████| 443/443 [02:14<00:00,  3.30it/s]\n"
     ]
    },
    {
     "name": "stdout",
     "output_type": "stream",
     "text": [
      "Execution time:  138.10666298866272\n",
      "Sample: 66.B1.W09.25_66.M1.W02.24 (Comparison_3: 10-mers)\n",
      "\n",
      "KEVOLVE: extraction mode\n",
      "\n",
      "Load sequences...\n",
      "Count k-mers...\n",
      "Generate matrices...\n",
      "Preprocessing...\n",
      "Solution search...\n",
      "\n",
      "Iteration: 1 | Attempt(s): 1 / 1\n",
      "Mean weighted score 0.904 Max weighted score 1.0 Mean unweighted score 0.892 Max unweighted score 1.0\n",
      "Number of genes : 1\n",
      "\n",
      "Identified solutions (462) saved at : data/comparisons/66.B1.W09.25_66.M1.W02.24/Comparison_3/10\n",
      "Execution time:  144.0088174343109\n",
      "\n",
      "KEVOLVE: motif analyzer mode\n",
      "\n",
      "\n",
      "Identifying perfect matches...\n",
      "\n",
      "Identifying variations...\n"
     ]
    },
    {
     "name": "stderr",
     "output_type": "stream",
     "text": [
      "Processing k-mers: 100%|██████████| 462/462 [00:00<00:00, 7038.22it/s]\n",
      "Processing k-mers for variations: 100%|██████████| 462/462 [00:04<00:00, 108.58it/s]\n",
      "Processing k-mers to extract information:   0%|          | 0/462 [00:00<?, ?it/s]"
     ]
    },
    {
     "name": "stdout",
     "output_type": "stream",
     "text": [
      "\n",
      "Extract information related to signatures/variations...\n"
     ]
    },
    {
     "name": "stderr",
     "output_type": "stream",
     "text": [
      "Processing k-mers to extract information: 100%|██████████| 462/462 [01:04<00:00,  7.11it/s]\n"
     ]
    },
    {
     "name": "stdout",
     "output_type": "stream",
     "text": [
      "Execution time:  69.32434606552124\n",
      "Sample: 66.B1.W09.25_66.M1.W02.24 (Comparison_3: 11-mers)\n",
      "\n",
      "KEVOLVE: extraction mode\n",
      "\n",
      "Load sequences...\n",
      "Count k-mers...\n",
      "Generate matrices...\n",
      "Preprocessing...\n",
      "Solution search...\n",
      "\n",
      "Iteration: 1 | Attempt(s): 1 / 1\n",
      "Mean weighted score 0.904 Max weighted score 1.0 Mean unweighted score 0.892 Max unweighted score 1.0\n",
      "Number of genes : 1\n",
      "\n",
      "Identified solutions (473) saved at : data/comparisons/66.B1.W09.25_66.M1.W02.24/Comparison_3/11\n",
      "Execution time:  144.50207901000977\n",
      "\n",
      "KEVOLVE: motif analyzer mode\n",
      "\n",
      "\n",
      "Identifying perfect matches...\n",
      "\n",
      "Identifying variations...\n"
     ]
    },
    {
     "name": "stderr",
     "output_type": "stream",
     "text": [
      "Processing k-mers: 100%|██████████| 473/473 [00:00<00:00, 6964.08it/s]\n",
      "Processing k-mers for variations: 100%|██████████| 473/473 [00:04<00:00, 100.69it/s]\n"
     ]
    },
    {
     "name": "stdout",
     "output_type": "stream",
     "text": [
      "\n",
      "Extract information related to signatures/variations...\n"
     ]
    },
    {
     "name": "stderr",
     "output_type": "stream",
     "text": [
      "Processing k-mers to extract information: 100%|██████████| 473/473 [00:52<00:00,  9.01it/s]\n"
     ]
    },
    {
     "name": "stdout",
     "output_type": "stream",
     "text": [
      "Execution time:  57.273369550704956\n",
      "Sample: 66.B1.W09.25_66.M1.W02.24 (Comparison_3: 12-mers)\n",
      "\n",
      "KEVOLVE: extraction mode\n",
      "\n",
      "Load sequences...\n",
      "Count k-mers...\n",
      "Generate matrices...\n",
      "Preprocessing...\n",
      "Solution search...\n",
      "\n",
      "Iteration: 1 | Attempt(s): 1 / 1\n",
      "Mean weighted score 0.901 Max weighted score 1.0 Mean unweighted score 0.889 Max unweighted score 1.0\n",
      "Number of genes : 1\n",
      "\n",
      "Identified solutions (483) saved at : data/comparisons/66.B1.W09.25_66.M1.W02.24/Comparison_3/12\n",
      "Execution time:  144.83563566207886\n",
      "\n",
      "KEVOLVE: motif analyzer mode\n",
      "\n",
      "\n",
      "Identifying perfect matches...\n",
      "\n",
      "Identifying variations...\n"
     ]
    },
    {
     "name": "stderr",
     "output_type": "stream",
     "text": [
      "Processing k-mers: 100%|██████████| 483/483 [00:00<00:00, 6657.98it/s]\n",
      "Processing k-mers for variations: 100%|██████████| 483/483 [00:05<00:00, 93.34it/s]\n"
     ]
    },
    {
     "name": "stdout",
     "output_type": "stream",
     "text": [
      "\n",
      "Extract information related to signatures/variations...\n"
     ]
    },
    {
     "name": "stderr",
     "output_type": "stream",
     "text": [
      "Processing k-mers to extract information: 100%|██████████| 483/483 [00:43<00:00, 11.00it/s]\n"
     ]
    },
    {
     "name": "stdout",
     "output_type": "stream",
     "text": [
      "Execution time:  49.17441153526306\n",
      "Sample: 66.B1.W09.25_66.M1.W02.24 (Comparison_3: 13-mers)\n",
      "\n",
      "KEVOLVE: extraction mode\n",
      "\n",
      "Load sequences...\n",
      "Count k-mers...\n",
      "Generate matrices...\n",
      "Preprocessing...\n",
      "Solution search...\n",
      "\n",
      "Iteration: 1 | Attempt(s): 1 / 1\n",
      "Mean weighted score 0.902 Max weighted score 1.0 Mean unweighted score 0.89 Max unweighted score 1.0\n",
      "Number of genes : 1\n",
      "\n",
      "Identified solutions (488) saved at : data/comparisons/66.B1.W09.25_66.M1.W02.24/Comparison_3/13\n",
      "Execution time:  144.78409051895142\n",
      "\n",
      "KEVOLVE: motif analyzer mode\n",
      "\n",
      "\n",
      "Identifying perfect matches...\n",
      "\n",
      "Identifying variations...\n"
     ]
    },
    {
     "name": "stderr",
     "output_type": "stream",
     "text": [
      "Processing k-mers: 100%|██████████| 488/488 [00:00<00:00, 6877.73it/s]\n",
      "Processing k-mers for variations: 100%|██████████| 488/488 [00:05<00:00, 86.58it/s]\n",
      "Processing k-mers to extract information:   0%|          | 0/488 [00:00<?, ?it/s]"
     ]
    },
    {
     "name": "stdout",
     "output_type": "stream",
     "text": [
      "\n",
      "Extract information related to signatures/variations...\n"
     ]
    },
    {
     "name": "stderr",
     "output_type": "stream",
     "text": [
      "Processing k-mers to extract information: 100%|██████████| 488/488 [00:39<00:00, 12.50it/s]\n"
     ]
    },
    {
     "name": "stdout",
     "output_type": "stream",
     "text": [
      "Execution time:  44.771950006484985\n",
      "Sample: 66.B1.W09.25_66.M1.W02.24 (Comparison_3: 14-mers)\n",
      "\n",
      "KEVOLVE: extraction mode\n",
      "\n",
      "Load sequences...\n",
      "Count k-mers...\n",
      "Generate matrices...\n",
      "Preprocessing...\n",
      "Solution search...\n",
      "\n",
      "Iteration: 1 | Attempt(s): 1 / 1\n",
      "Mean weighted score 0.898 Max weighted score 1.0 Mean unweighted score 0.885 Max unweighted score 1.0\n",
      "Number of genes : 1\n",
      "\n",
      "Identified solutions (489) saved at : data/comparisons/66.B1.W09.25_66.M1.W02.24/Comparison_3/14\n",
      "Execution time:  144.61780786514282\n",
      "\n",
      "KEVOLVE: motif analyzer mode\n",
      "\n",
      "\n",
      "Identifying perfect matches...\n",
      "\n",
      "Identifying variations...\n"
     ]
    },
    {
     "name": "stderr",
     "output_type": "stream",
     "text": [
      "Processing k-mers: 100%|██████████| 489/489 [00:00<00:00, 7016.31it/s]\n",
      "Processing k-mers for variations: 100%|██████████| 489/489 [00:05<00:00, 81.62it/s]\n",
      "Processing k-mers to extract information:   0%|          | 0/489 [00:00<?, ?it/s]"
     ]
    },
    {
     "name": "stdout",
     "output_type": "stream",
     "text": [
      "\n",
      "Extract information related to signatures/variations...\n"
     ]
    },
    {
     "name": "stderr",
     "output_type": "stream",
     "text": [
      "Processing k-mers to extract information: 100%|██████████| 489/489 [00:38<00:00, 12.56it/s]\n"
     ]
    },
    {
     "name": "stdout",
     "output_type": "stream",
     "text": [
      "Execution time:  45.00800347328186\n",
      "Sample: 66.B1.W09.25_66.M1.W02.24 (Comparison_3: 15-mers)\n",
      "\n",
      "KEVOLVE: extraction mode\n",
      "\n",
      "Load sequences...\n",
      "Count k-mers...\n",
      "Generate matrices...\n",
      "Preprocessing...\n",
      "Solution search...\n",
      "\n",
      "Iteration: 1 | Attempt(s): 1 / 1\n",
      "Mean weighted score 0.894 Max weighted score 1.0 Mean unweighted score 0.881 Max unweighted score 1.0\n",
      "Number of genes : 1\n",
      "\n",
      "Identified solutions (487) saved at : data/comparisons/66.B1.W09.25_66.M1.W02.24/Comparison_3/15\n",
      "Execution time:  144.189514875412\n",
      "\n",
      "KEVOLVE: motif analyzer mode\n",
      "\n",
      "\n",
      "Identifying perfect matches...\n",
      "\n",
      "Identifying variations...\n"
     ]
    },
    {
     "name": "stderr",
     "output_type": "stream",
     "text": [
      "Processing k-mers: 100%|██████████| 487/487 [00:00<00:00, 6801.09it/s]\n",
      "Processing k-mers for variations: 100%|██████████| 487/487 [00:06<00:00, 76.84it/s]\n",
      "Processing k-mers to extract information:   0%|          | 0/487 [00:00<?, ?it/s]"
     ]
    },
    {
     "name": "stdout",
     "output_type": "stream",
     "text": [
      "\n",
      "Extract information related to signatures/variations...\n"
     ]
    },
    {
     "name": "stderr",
     "output_type": "stream",
     "text": [
      "Processing k-mers to extract information: 100%|██████████| 487/487 [00:36<00:00, 13.29it/s]\n"
     ]
    },
    {
     "name": "stdout",
     "output_type": "stream",
     "text": [
      "Execution time:  43.068347215652466\n",
      "Sample: 66.B1.W09.25_66.M1.W02.24 (Comparison_3: 16-mers)\n",
      "\n",
      "KEVOLVE: extraction mode\n",
      "\n",
      "Load sequences...\n",
      "Count k-mers...\n",
      "Generate matrices...\n",
      "Preprocessing...\n",
      "Solution search...\n",
      "\n",
      "Iteration: 1 | Attempt(s): 1 / 1\n",
      "Mean weighted score 0.892 Max weighted score 1.0 Mean unweighted score 0.878 Max unweighted score 1.0\n",
      "Number of genes : 1\n",
      "\n",
      "Identified solutions (481) saved at : data/comparisons/66.B1.W09.25_66.M1.W02.24/Comparison_3/16\n",
      "Execution time:  144.81002068519592\n",
      "\n",
      "KEVOLVE: motif analyzer mode\n",
      "\n",
      "\n",
      "Identifying perfect matches...\n",
      "\n",
      "Identifying variations...\n"
     ]
    },
    {
     "name": "stderr",
     "output_type": "stream",
     "text": [
      "Processing k-mers: 100%|██████████| 481/481 [00:00<00:00, 6722.45it/s]\n",
      "Processing k-mers for variations: 100%|██████████| 481/481 [00:06<00:00, 72.44it/s]\n",
      "Processing k-mers to extract information:   0%|          | 0/481 [00:00<?, ?it/s]"
     ]
    },
    {
     "name": "stdout",
     "output_type": "stream",
     "text": [
      "\n",
      "Extract information related to signatures/variations...\n"
     ]
    },
    {
     "name": "stderr",
     "output_type": "stream",
     "text": [
      "Processing k-mers to extract information: 100%|██████████| 481/481 [00:39<00:00, 12.19it/s]\n"
     ]
    },
    {
     "name": "stdout",
     "output_type": "stream",
     "text": [
      "Execution time:  46.200958251953125\n",
      "Sample: 66.B1.W09.25_66.M1.W02.24 (Comparison_3: 17-mers)\n",
      "\n",
      "KEVOLVE: extraction mode\n",
      "\n",
      "Load sequences...\n",
      "Count k-mers...\n",
      "Generate matrices...\n",
      "Preprocessing...\n",
      "Solution search...\n",
      "\n",
      "Iteration: 1 | Attempt(s): 1 / 1\n",
      "Mean weighted score 0.89 Max weighted score 1.0 Mean unweighted score 0.876 Max unweighted score 1.0\n",
      "Number of genes : 1\n",
      "\n",
      "Identified solutions (476) saved at : data/comparisons/66.B1.W09.25_66.M1.W02.24/Comparison_3/17\n",
      "Execution time:  144.64822840690613\n",
      "\n",
      "KEVOLVE: motif analyzer mode\n",
      "\n",
      "\n",
      "Identifying perfect matches...\n",
      "\n",
      "Identifying variations...\n"
     ]
    },
    {
     "name": "stderr",
     "output_type": "stream",
     "text": [
      "Processing k-mers: 100%|██████████| 476/476 [00:00<00:00, 6768.77it/s]\n",
      "Processing k-mers for variations: 100%|██████████| 476/476 [00:06<00:00, 69.22it/s]\n",
      "Processing k-mers to extract information:   0%|          | 1/476 [00:00<01:24,  5.59it/s]"
     ]
    },
    {
     "name": "stdout",
     "output_type": "stream",
     "text": [
      "\n",
      "Extract information related to signatures/variations...\n"
     ]
    },
    {
     "name": "stderr",
     "output_type": "stream",
     "text": [
      "Processing k-mers to extract information: 100%|██████████| 476/476 [00:37<00:00, 12.63it/s]\n"
     ]
    },
    {
     "name": "stdout",
     "output_type": "stream",
     "text": [
      "Execution time:  44.65167593955994\n",
      "Sample: 66.B1.W09.25_66.M1.W02.24 (Comparison_3: 18-mers)\n",
      "\n",
      "KEVOLVE: extraction mode\n",
      "\n",
      "Load sequences...\n",
      "Count k-mers...\n",
      "Generate matrices...\n",
      "Preprocessing...\n",
      "Solution search...\n",
      "\n",
      "Iteration: 1 | Attempt(s): 1 / 1\n",
      "Mean weighted score 0.888 Max weighted score 1.0 Mean unweighted score 0.873 Max unweighted score 1.0\n",
      "Number of genes : 1\n",
      "\n",
      "Identified solutions (472) saved at : data/comparisons/66.B1.W09.25_66.M1.W02.24/Comparison_3/18\n",
      "Execution time:  144.33028197288513\n",
      "\n",
      "KEVOLVE: motif analyzer mode\n",
      "\n",
      "\n",
      "Identifying perfect matches...\n",
      "\n",
      "Identifying variations...\n"
     ]
    },
    {
     "name": "stderr",
     "output_type": "stream",
     "text": [
      "Processing k-mers: 100%|██████████| 472/472 [00:00<00:00, 6726.19it/s]\n",
      "Processing k-mers for variations: 100%|██████████| 472/472 [00:07<00:00, 65.81it/s]\n",
      "Processing k-mers to extract information:   0%|          | 0/472 [00:00<?, ?it/s]"
     ]
    },
    {
     "name": "stdout",
     "output_type": "stream",
     "text": [
      "\n",
      "Extract information related to signatures/variations...\n"
     ]
    },
    {
     "name": "stderr",
     "output_type": "stream",
     "text": [
      "Processing k-mers to extract information: 100%|██████████| 472/472 [00:37<00:00, 12.47it/s]\n"
     ]
    },
    {
     "name": "stdout",
     "output_type": "stream",
     "text": [
      "Execution time:  45.113319396972656\n",
      "Sample: 66.B1.W09.25_66.M1.W02.24 (Comparison_3: 19-mers)\n",
      "\n",
      "KEVOLVE: extraction mode\n",
      "\n",
      "Load sequences...\n",
      "Count k-mers...\n",
      "Generate matrices...\n",
      "Preprocessing...\n",
      "Solution search...\n",
      "\n",
      "Iteration: 1 | Attempt(s): 1 / 1\n",
      "Mean weighted score 0.887 Max weighted score 1.0 Mean unweighted score 0.873 Max unweighted score 1.0\n",
      "Number of genes : 1\n",
      "\n",
      "Identified solutions (463) saved at : data/comparisons/66.B1.W09.25_66.M1.W02.24/Comparison_3/19\n",
      "Execution time:  145.09213423728943\n",
      "\n",
      "KEVOLVE: motif analyzer mode\n",
      "\n",
      "\n",
      "Identifying perfect matches...\n",
      "\n",
      "Identifying variations...\n"
     ]
    },
    {
     "name": "stderr",
     "output_type": "stream",
     "text": [
      "Processing k-mers: 100%|██████████| 463/463 [00:00<00:00, 6672.36it/s]\n",
      "Processing k-mers for variations: 100%|██████████| 463/463 [00:07<00:00, 62.39it/s]\n",
      "Processing k-mers to extract information:   0%|          | 0/463 [00:00<?, ?it/s]"
     ]
    },
    {
     "name": "stdout",
     "output_type": "stream",
     "text": [
      "\n",
      "Extract information related to signatures/variations...\n"
     ]
    },
    {
     "name": "stderr",
     "output_type": "stream",
     "text": [
      "Processing k-mers to extract information: 100%|██████████| 463/463 [00:37<00:00, 12.43it/s]\n"
     ]
    },
    {
     "name": "stdout",
     "output_type": "stream",
     "text": [
      "Execution time:  44.75544786453247\n",
      "Sample: 66.B1.W09.25_66.M1.W02.24 (Comparison_3: 20-mers)\n",
      "\n",
      "KEVOLVE: extraction mode\n",
      "\n",
      "Load sequences...\n",
      "Count k-mers...\n",
      "Generate matrices...\n",
      "Preprocessing...\n",
      "Solution search...\n",
      "\n",
      "Iteration: 1 | Attempt(s): 1 / 1\n",
      "Mean weighted score 0.886 Max weighted score 1.0 Mean unweighted score 0.871 Max unweighted score 1.0\n",
      "Number of genes : 1\n",
      "\n",
      "Identified solutions (453) saved at : data/comparisons/66.B1.W09.25_66.M1.W02.24/Comparison_3/20\n",
      "Execution time:  144.4549605846405\n",
      "\n",
      "KEVOLVE: motif analyzer mode\n",
      "\n",
      "\n",
      "Identifying perfect matches...\n",
      "\n",
      "Identifying variations...\n"
     ]
    },
    {
     "name": "stderr",
     "output_type": "stream",
     "text": [
      "Processing k-mers: 100%|██████████| 453/453 [00:00<00:00, 6761.15it/s]\n",
      "Processing k-mers for variations: 100%|██████████| 453/453 [00:07<00:00, 60.10it/s]\n",
      "Processing k-mers to extract information:   0%|          | 0/453 [00:00<?, ?it/s]"
     ]
    },
    {
     "name": "stdout",
     "output_type": "stream",
     "text": [
      "\n",
      "Extract information related to signatures/variations...\n"
     ]
    },
    {
     "name": "stderr",
     "output_type": "stream",
     "text": [
      "Processing k-mers to extract information: 100%|██████████| 453/453 [00:36<00:00, 12.57it/s]\n"
     ]
    },
    {
     "name": "stdout",
     "output_type": "stream",
     "text": [
      "Execution time:  43.659019470214844\n",
      "Sample: 66.B1.W09.25_66.M1.W02.24 (Comparison_3: 21-mers)\n",
      "\n",
      "KEVOLVE: extraction mode\n",
      "\n",
      "Load sequences...\n",
      "Count k-mers...\n",
      "Generate matrices...\n",
      "Preprocessing...\n",
      "Solution search...\n",
      "\n",
      "Iteration: 1 | Attempt(s): 1 / 1\n",
      "Mean weighted score 0.881 Max weighted score 1.0 Mean unweighted score 0.865 Max unweighted score 1.0\n",
      "Number of genes : 1\n",
      "\n",
      "Identified solutions (442) saved at : data/comparisons/66.B1.W09.25_66.M1.W02.24/Comparison_3/21\n",
      "Execution time:  144.59476590156555\n",
      "\n",
      "KEVOLVE: motif analyzer mode\n",
      "\n",
      "\n",
      "Identifying perfect matches...\n",
      "\n",
      "Identifying variations...\n"
     ]
    },
    {
     "name": "stderr",
     "output_type": "stream",
     "text": [
      "Processing k-mers: 100%|██████████| 442/442 [00:00<00:00, 6807.21it/s]\n",
      "Processing k-mers for variations: 100%|██████████| 442/442 [00:07<00:00, 57.43it/s]\n",
      "Processing k-mers to extract information:   0%|          | 1/442 [00:00<01:17,  5.73it/s]"
     ]
    },
    {
     "name": "stdout",
     "output_type": "stream",
     "text": [
      "\n",
      "Extract information related to signatures/variations...\n"
     ]
    },
    {
     "name": "stderr",
     "output_type": "stream",
     "text": [
      "Processing k-mers to extract information: 100%|██████████| 442/442 [00:33<00:00, 13.35it/s]\n"
     ]
    },
    {
     "name": "stdout",
     "output_type": "stream",
     "text": [
      "Execution time:  40.88838481903076\n"
     ]
    }
   ],
   "source": [
    "# Define the list of k-mer lengths to be explored\n",
    "k_lengths = [k for k in range(9, 22)]\n",
    "# Define the list of sample names/identifiers to process\n",
    "samples = [\"04.B1.W14.01_04.M1.W09.02\", \"05.B1.W14.04_05.M1.W08.03\", \n",
    "           \"27.B1.W13.06_27.M1.W10.07\", \"30.B1.W11.08_30.M1.W04.09\", \n",
    "           \"38.B1.W10.11_38.M1.W03.10\", \"39.B1.W11.12_39.M1.W03.13_39.M1.W05.14\",\n",
    "           \"53.B1.W14.17_53.M1.W07.16\", \"56.B1.W09.22_56.M1.W03.21\", \n",
    "           \"63.B1.W09.29_63.M1.W02.30\", \"66.B1.W09.25_66.M1.W02.24\"]\n",
    "\n",
    "# Loop through each sample in the list\n",
    "for sample in samples: \n",
    "    # Define the directory path for the current sample\n",
    "    directory = \"data/comparisons/\" + sample\n",
    "    # Get the list of subdirectories to process\n",
    "    subdirectories = [d for d in os.listdir(directory) if os.path.isdir(os.path.join(directory, d))]\n",
    "    \n",
    "    # Loop through each subdirectory in the list\n",
    "    for subdirectory in subdirectories:\n",
    "        # Loop through each k-mer length in the list\n",
    "        for k_length in k_lengths:\n",
    "            print(\"Sample: \" + sample + \" (\" + subdirectory + \": \" + str(k_length) + \"-mers)\")\n",
    "            # Create the folder to save results if it doesn't exist\n",
    "            if not os.path.exists(\"data/comparisons/\" + sample + \"/\" + subdirectory + \"/\" + str(k_length)): \n",
    "                os.makedirs(\"data/comparisons/\" + sample + \"/\" + subdirectory + \"/\" + str(k_length))\n",
    "            \n",
    "            # Define file and folder paths for the current iteration\n",
    "            fasta_file = \"data/comparisons/\" + sample + \"/\" + subdirectory + \"/\" + sample + \"_\" + subdirectory + \".fasta\" \n",
    "            reference_sequence_fasta = \"data/fasta/HCMV_Merlin_UL33_truncated.fasta\"\n",
    "            reference_sequence_genbank = \"data/fasta/NC_006273.gb\"\n",
    "            k_mers_folder = \"data/comparisons/\" + sample + \"/\" + subdirectory + \"/\" + str(k_length)\n",
    "            analysis_report_folder = \"data/comparisons/\" + sample + \"/\" + subdirectory + \"/\" + str(k_length)\n",
    "            \n",
    "            # Load the configuration from the JSON template file\n",
    "            with open(\"json/configuration.json\", \"r\") as template_file:\n",
    "                configuration = json.load(template_file)\n",
    "            \n",
    "            # Modify the configuration with current iteration values\n",
    "            configuration[\"parameters\"][\"k\"] = k_length\n",
    "            configuration[\"parameters\"][\"training_fasta\"] = fasta_file\n",
    "            configuration[\"parameters\"][\"k_mers_path\"] = k_mers_folder\n",
    "            configuration[\"parameters\"][\"reference_sequence_fasta\"] = reference_sequence_fasta\n",
    "            configuration[\"parameters\"][\"reference_sequence_genbank\"] = reference_sequence_genbank\n",
    "            configuration[\"parameters\"][\"analysis_report_path\"] = analysis_report_folder            \n",
    "            \n",
    "            # Convert the JSON data to the INI format\n",
    "            configuration_content = \"\"\n",
    "            for section, parameters in configuration.items():\n",
    "                configuration_content += f\"[{section}]\\n\"\n",
    "                for key, value in parameters.items():\n",
    "                    configuration_content += f\"{key} = {value}\\n\"\n",
    "                configuration_content += \"\\n\"\n",
    "                \n",
    "            # Save the configuration to an INI file\n",
    "            configuration_path = \"data/comparisons/\" + sample + \"/\" + subdirectory + \"/\" + str(k_length) + \"/configuration_file.ini\"\n",
    "            with open(configuration_path, \"w\") as configuration_file:\n",
    "                configuration_file.write(configuration_content)\n",
    "    \n",
    "            # Execute the k-mers extraction\n",
    "            command = \"python3 KEVOLVE/main.py --extract --config \" + configuration_path\n",
    "            subprocess.run(command, check=True, shell=True)\n",
    "            \n",
    "            # Analyze the extracted k-mers\n",
    "            command = \"python3 KEVOLVE/main.py --analyze --config \" + configuration_path\n",
    "            subprocess.run(command, check=True, shell=True)"
   ]
  },
  {
   "cell_type": "code",
   "execution_count": null,
   "id": "7f60466f-1e16-4bae-8dfd-9ade074d233f",
   "metadata": {},
   "outputs": [],
   "source": []
  }
 ],
 "metadata": {
  "kernelspec": {
   "display_name": "Python 3 (ipykernel)",
   "language": "python",
   "name": "python3"
  },
  "language_info": {
   "codemirror_mode": {
    "name": "ipython",
    "version": 3
   },
   "file_extension": ".py",
   "mimetype": "text/x-python",
   "name": "python",
   "nbconvert_exporter": "python",
   "pygments_lexer": "ipython3",
   "version": "3.10.12"
  }
 },
 "nbformat": 4,
 "nbformat_minor": 5
}
