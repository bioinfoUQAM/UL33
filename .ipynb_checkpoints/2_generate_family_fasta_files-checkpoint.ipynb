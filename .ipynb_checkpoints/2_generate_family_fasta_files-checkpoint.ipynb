{
 "cells": [
  {
   "cell_type": "code",
   "execution_count": 1,
   "id": "cc96e5a1",
   "metadata": {},
   "outputs": [],
   "source": [
    "# Import\n",
    "from Bio import SeqIO"
   ]
  },
  {
   "cell_type": "code",
   "execution_count": 4,
   "id": "4c325218",
   "metadata": {},
   "outputs": [
    {
     "ename": "FileNotFoundError",
     "evalue": "[Errno 2] No such file or directory: 'data/04.B1.W14.01/HaROLD/step_2/04.B1.W14.01.fasta'",
     "output_type": "error",
     "traceback": [
      "\u001b[0;31m---------------------------------------------------------------------------\u001b[0m",
      "\u001b[0;31mFileNotFoundError\u001b[0m                         Traceback (most recent call last)",
      "Cell \u001b[0;32mIn[4], line 42\u001b[0m\n\u001b[1;32m     40\u001b[0m fasta_path \u001b[38;5;241m=\u001b[39m \u001b[38;5;124m\"\u001b[39m\u001b[38;5;124mdata/\u001b[39m\u001b[38;5;124m\"\u001b[39m \u001b[38;5;241m+\u001b[39m sample \u001b[38;5;241m+\u001b[39m \u001b[38;5;124m\"\u001b[39m\u001b[38;5;124m/HaROLD/step_2/\u001b[39m\u001b[38;5;124m\"\u001b[39m \u001b[38;5;241m+\u001b[39m sample \u001b[38;5;241m+\u001b[39m \u001b[38;5;124m\"\u001b[39m\u001b[38;5;124m.fasta\u001b[39m\u001b[38;5;124m\"\u001b[39m\n\u001b[1;32m     41\u001b[0m \u001b[38;5;66;03m# Parse the fasta file and extract sequences and their IDs\u001b[39;00m\n\u001b[0;32m---> 42\u001b[0m data \u001b[38;5;241m=\u001b[39m [(record\u001b[38;5;241m.\u001b[39mid, \u001b[38;5;28mstr\u001b[39m(record\u001b[38;5;241m.\u001b[39mseq)) \u001b[38;5;28;01mfor\u001b[39;00m record \u001b[38;5;129;01min\u001b[39;00m \u001b[43mSeqIO\u001b[49m\u001b[38;5;241;43m.\u001b[39;49m\u001b[43mparse\u001b[49m\u001b[43m(\u001b[49m\u001b[43mfasta_path\u001b[49m\u001b[43m,\u001b[49m\u001b[43m \u001b[49m\u001b[38;5;124;43m\"\u001b[39;49m\u001b[38;5;124;43mfasta\u001b[39;49m\u001b[38;5;124;43m\"\u001b[39;49m\u001b[43m)\u001b[49m]\n\u001b[1;32m     43\u001b[0m all_data\u001b[38;5;241m.\u001b[39mextend(data)\n\u001b[1;32m     44\u001b[0m output_file_name \u001b[38;5;241m+\u001b[39m\u001b[38;5;241m=\u001b[39m sample \u001b[38;5;241m+\u001b[39m \u001b[38;5;124m\"\u001b[39m\u001b[38;5;124m_\u001b[39m\u001b[38;5;124m\"\u001b[39m\n",
      "File \u001b[0;32m~/.local/lib/python3.10/site-packages/Bio/SeqIO/__init__.py:605\u001b[0m, in \u001b[0;36mparse\u001b[0;34m(handle, format, alphabet)\u001b[0m\n\u001b[1;32m    603\u001b[0m iterator_generator \u001b[38;5;241m=\u001b[39m _FormatToIterator\u001b[38;5;241m.\u001b[39mget(\u001b[38;5;28mformat\u001b[39m)\n\u001b[1;32m    604\u001b[0m \u001b[38;5;28;01mif\u001b[39;00m iterator_generator:\n\u001b[0;32m--> 605\u001b[0m     \u001b[38;5;28;01mreturn\u001b[39;00m \u001b[43miterator_generator\u001b[49m\u001b[43m(\u001b[49m\u001b[43mhandle\u001b[49m\u001b[43m)\u001b[49m\n\u001b[1;32m    606\u001b[0m \u001b[38;5;28;01mif\u001b[39;00m \u001b[38;5;28mformat\u001b[39m \u001b[38;5;129;01min\u001b[39;00m AlignIO\u001b[38;5;241m.\u001b[39m_FormatToIterator:\n\u001b[1;32m    607\u001b[0m     \u001b[38;5;66;03m# Use Bio.AlignIO to read in the alignments\u001b[39;00m\n\u001b[1;32m    608\u001b[0m     \u001b[38;5;28;01mreturn\u001b[39;00m (r \u001b[38;5;28;01mfor\u001b[39;00m alignment \u001b[38;5;129;01min\u001b[39;00m AlignIO\u001b[38;5;241m.\u001b[39mparse(handle, \u001b[38;5;28mformat\u001b[39m) \u001b[38;5;28;01mfor\u001b[39;00m r \u001b[38;5;129;01min\u001b[39;00m alignment)\n",
      "File \u001b[0;32m~/.local/lib/python3.10/site-packages/Bio/SeqIO/FastaIO.py:223\u001b[0m, in \u001b[0;36mFastaIterator.__init__\u001b[0;34m(self, source, alphabet, title2ids)\u001b[0m\n\u001b[1;32m    204\u001b[0m     warnings\u001b[38;5;241m.\u001b[39mwarn(\n\u001b[1;32m    205\u001b[0m         \u001b[38;5;124m\"\u001b[39m\u001b[38;5;124mThe title2ids argument is deprecated. Instead, please use a \u001b[39m\u001b[38;5;124m\"\u001b[39m\n\u001b[1;32m    206\u001b[0m         \u001b[38;5;124m\"\u001b[39m\u001b[38;5;124mgenerator function to modify records returned by the parser. \u001b[39m\u001b[38;5;124m\"\u001b[39m\n\u001b[0;32m   (...)\u001b[0m\n\u001b[1;32m    220\u001b[0m         BiopythonDeprecationWarning,\n\u001b[1;32m    221\u001b[0m     )\n\u001b[1;32m    222\u001b[0m \u001b[38;5;28mself\u001b[39m\u001b[38;5;241m.\u001b[39mtitle2ids \u001b[38;5;241m=\u001b[39m title2ids\n\u001b[0;32m--> 223\u001b[0m \u001b[38;5;28;43msuper\u001b[39;49m\u001b[43m(\u001b[49m\u001b[43m)\u001b[49m\u001b[38;5;241;43m.\u001b[39;49m\u001b[38;5;21;43m__init__\u001b[39;49m\u001b[43m(\u001b[49m\u001b[43msource\u001b[49m\u001b[43m,\u001b[49m\u001b[43m \u001b[49m\u001b[43mmode\u001b[49m\u001b[38;5;241;43m=\u001b[39;49m\u001b[38;5;124;43m\"\u001b[39;49m\u001b[38;5;124;43mt\u001b[39;49m\u001b[38;5;124;43m\"\u001b[39;49m\u001b[43m,\u001b[49m\u001b[43m \u001b[49m\u001b[43mfmt\u001b[49m\u001b[38;5;241;43m=\u001b[39;49m\u001b[38;5;124;43m\"\u001b[39;49m\u001b[38;5;124;43mFasta\u001b[39;49m\u001b[38;5;124;43m\"\u001b[39;49m\u001b[43m)\u001b[49m\n",
      "File \u001b[0;32m~/.local/lib/python3.10/site-packages/Bio/SeqIO/Interfaces.py:45\u001b[0m, in \u001b[0;36mSequenceIterator.__init__\u001b[0;34m(self, source, alphabet, mode, fmt)\u001b[0m\n\u001b[1;32m     43\u001b[0m     \u001b[38;5;28;01mraise\u001b[39;00m \u001b[38;5;167;01mValueError\u001b[39;00m(\u001b[38;5;124m\"\u001b[39m\u001b[38;5;124mThe alphabet argument is no longer supported\u001b[39m\u001b[38;5;124m\"\u001b[39m)\n\u001b[1;32m     44\u001b[0m \u001b[38;5;28;01mtry\u001b[39;00m:\n\u001b[0;32m---> 45\u001b[0m     \u001b[38;5;28mself\u001b[39m\u001b[38;5;241m.\u001b[39mstream \u001b[38;5;241m=\u001b[39m \u001b[38;5;28;43mopen\u001b[39;49m\u001b[43m(\u001b[49m\u001b[43msource\u001b[49m\u001b[43m,\u001b[49m\u001b[43m \u001b[49m\u001b[38;5;124;43m\"\u001b[39;49m\u001b[38;5;124;43mr\u001b[39;49m\u001b[38;5;124;43m\"\u001b[39;49m\u001b[43m \u001b[49m\u001b[38;5;241;43m+\u001b[39;49m\u001b[43m \u001b[49m\u001b[43mmode\u001b[49m\u001b[43m)\u001b[49m\n\u001b[1;32m     46\u001b[0m     \u001b[38;5;28mself\u001b[39m\u001b[38;5;241m.\u001b[39mshould_close_stream \u001b[38;5;241m=\u001b[39m \u001b[38;5;28;01mTrue\u001b[39;00m\n\u001b[1;32m     47\u001b[0m \u001b[38;5;28;01mexcept\u001b[39;00m \u001b[38;5;167;01mTypeError\u001b[39;00m:  \u001b[38;5;66;03m# not a path, assume we received a stream\u001b[39;00m\n",
      "\u001b[0;31mFileNotFoundError\u001b[0m: [Errno 2] No such file or directory: 'data/04.B1.W14.01/HaROLD/step_2/04.B1.W14.01.fasta'"
     ]
    }
   ],
   "source": [
    "# Define list of samples to process\n",
    "samples = [\"04.B1.W14.01\", \"04.M1.W09.02\", \n",
    "           \"05.B1.W14.04\", \"05.M1.W08.03\",\n",
    "           \"27.B1.W13.06\", \"27.M1.W10.07\", \n",
    "           \"30.B1.W11.08\", \"30.M1.W04.09\", \n",
    "           \"38.B1.W10.11\", \"38.M1.W03.10\", \n",
    "           \"39.B1.W11.12\", \"39.M1.W03.13\", \"39.M1.W05.14\", \n",
    "           \"53.B1.W14.17\", \"53.M1.W07.16\", \n",
    "           \"56.B1.W09.22\", \"56.M1.W03.21\", \n",
    "           \"63.B1.W09.29\", \"63.M1.W02.30\", \n",
    "           \"66.B1.W09.25\", \"66.M1.W02.24\"]\n",
    "\n",
    "\n",
    "# Create an empty set to store the unique two-character prefixes\n",
    "families = set()\n",
    "\n",
    "# Iterate through each sample and add the first two characters to the set\n",
    "for sample in samples:\n",
    "    families.add(sample[:2])\n",
    "\n",
    "# Convert the set to a list and sort it\n",
    "families = sorted(list(families))\n",
    "\n",
    "# Load the sequences from the additional fasta files\n",
    "ad169_data = [(record.id, str(record.seq)) for record in SeqIO.parse(\"data/fasta/reference/HCMV_AD169_UL33.fasta\", \"fasta\")]\n",
    "merlin_data = [(record.id, str(record.seq)) for record in SeqIO.parse(\"data/fasta/reference/HCMV_Merlin_UL33.fasta\", \"fasta\")]\n",
    "toledo_data = [(record.id, str(record.seq)) for record in SeqIO.parse(\"data/fasta/reference/HCMV_Toledo_UL33.fasta\", \"fasta\")]\n",
    "towne_data = [(record.id, str(record.seq)) for record in SeqIO.parse(\"data/fasta/reference/HCMV_Towne_UL33.fasta\", \"fasta\")]\n",
    "\n",
    "# Loop over families\n",
    "for family in families:\n",
    "    # To store all sequences and their IDs for the current family\n",
    "    all_data = []\n",
    "    # To store concatenated sample names for the current family\n",
    "    output_file_name = \"\"  \n",
    "    # Loop over samples\n",
    "    for sample in samples:\n",
    "        # Check if the sample belongs to the current family\n",
    "        if sample.startswith(family):\n",
    "            fasta_path = \"data/\" + sample + \"/HaROLD/step_2/\" + sample + \".fasta\"\n",
    "            # Parse the fasta file and extract sequences and their IDs\n",
    "            data = [(record.id, str(record.seq)) for record in SeqIO.parse(fasta_path, \"fasta\")]\n",
    "            all_data.extend(data)\n",
    "            output_file_name += sample + \"_\"\n",
    "    # Add the sequences and IDs from HCMV_AD169_UL33.fasta and HCMV_Merlin_UL33.fasta\n",
    "    all_data.extend(ad169_data)\n",
    "    all_data.extend(merlin_data)\n",
    "    all_data.extend(toledo_data)\n",
    "    all_data.extend(towne_data)\n",
    "    \n",
    "    # Save sequences to a new fasta file\n",
    "    with open(\"data/fasta/\" + output_file_name[:-1] + \".fasta\", \"w\", newline='\\r\\n') as f_out:\n",
    "        for seq_id, seq in all_data: \n",
    "            f_out.write(f\">{seq_id}\\n{seq}\\n\")\n",
    "    print(output_file_name, \"successfully generated.\")"
   ]
  },
  {
   "cell_type": "code",
   "execution_count": null,
   "id": "2a815ce9",
   "metadata": {},
   "outputs": [],
   "source": []
  }
 ],
 "metadata": {
  "kernelspec": {
   "display_name": "Python 3 (ipykernel)",
   "language": "python",
   "name": "python3"
  },
  "language_info": {
   "codemirror_mode": {
    "name": "ipython",
    "version": 3
   },
   "file_extension": ".py",
   "mimetype": "text/x-python",
   "name": "python",
   "nbconvert_exporter": "python",
   "pygments_lexer": "ipython3",
   "version": "3.10.12"
  }
 },
 "nbformat": 4,
 "nbformat_minor": 5
}
