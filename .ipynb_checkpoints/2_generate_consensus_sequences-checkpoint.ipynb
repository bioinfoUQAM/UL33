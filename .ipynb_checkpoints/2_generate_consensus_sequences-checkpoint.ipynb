{
 "cells": [
  {
   "cell_type": "code",
   "execution_count": 3,
   "metadata": {},
   "outputs": [],
   "source": [
    "# Imports\n",
    "import os\n",
    "import subprocess\n",
    "from Bio import SeqIO"
   ]
  },
  {
   "cell_type": "code",
   "execution_count": 6,
   "metadata": {},
   "outputs": [
    {
     "name": "stdout",
     "output_type": "stream",
     "text": [
      "04.B1.W14.01 in process\n"
     ]
    },
    {
     "name": "stderr",
     "output_type": "stream",
     "text": [
      "[mpileup] 1 samples in 1 input files\n",
      "[mpileup] maximum number of reads per input file set to -d 500\n",
      "Note: the --sample option not given, applying all records regardless of the genotype\n",
      "Applied 175 variants\n",
      "[mpileup] 1 samples in 1 input files\n",
      "[mpileup] maximum number of reads per input file set to -d 500\n"
     ]
    },
    {
     "name": "stdout",
     "output_type": "stream",
     "text": [
      "Consensus sequence file for 04.B1.W14.01 moved to data/fasta/consensus/\n",
      "04.M1.W09.02 in process\n"
     ]
    },
    {
     "name": "stderr",
     "output_type": "stream",
     "text": [
      "Note: the --sample option not given, applying all records regardless of the genotype\n",
      "Applied 126 variants\n",
      "[mpileup] 1 samples in 1 input files\n",
      "[mpileup] maximum number of reads per input file set to -d 500\n"
     ]
    },
    {
     "name": "stdout",
     "output_type": "stream",
     "text": [
      "Consensus sequence file for 04.M1.W09.02 moved to data/fasta/consensus/\n",
      "05.B1.W14.04 in process\n"
     ]
    },
    {
     "name": "stderr",
     "output_type": "stream",
     "text": [
      "Note: the --sample option not given, applying all records regardless of the genotype\n",
      "Applied 11 variants\n",
      "[mpileup] 1 samples in 1 input files\n",
      "[mpileup] maximum number of reads per input file set to -d 500\n"
     ]
    },
    {
     "name": "stdout",
     "output_type": "stream",
     "text": [
      "Consensus sequence file for 05.B1.W14.04 moved to data/fasta/consensus/\n",
      "05.M1.W08.03 in process\n"
     ]
    },
    {
     "name": "stderr",
     "output_type": "stream",
     "text": [
      "Note: the --sample option not given, applying all records regardless of the genotype\n",
      "Applied 11 variants\n",
      "[mpileup] 1 samples in 1 input files\n",
      "[mpileup] maximum number of reads per input file set to -d 500\n"
     ]
    },
    {
     "name": "stdout",
     "output_type": "stream",
     "text": [
      "Consensus sequence file for 05.M1.W08.03 moved to data/fasta/consensus/\n",
      "27.B1.W13.06 in process\n"
     ]
    },
    {
     "name": "stderr",
     "output_type": "stream",
     "text": [
      "Note: the --sample option not given, applying all records regardless of the genotype\n",
      "Applied 152 variants\n",
      "[mpileup] 1 samples in 1 input files\n",
      "[mpileup] maximum number of reads per input file set to -d 500\n"
     ]
    },
    {
     "name": "stdout",
     "output_type": "stream",
     "text": [
      "Consensus sequence file for 27.B1.W13.06 moved to data/fasta/consensus/\n",
      "27.M1.W10.07 in process\n"
     ]
    },
    {
     "name": "stderr",
     "output_type": "stream",
     "text": [
      "Note: the --sample option not given, applying all records regardless of the genotype\n",
      "Applied 134 variants\n",
      "[mpileup] 1 samples in 1 input files\n",
      "[mpileup] maximum number of reads per input file set to -d 500\n"
     ]
    },
    {
     "name": "stdout",
     "output_type": "stream",
     "text": [
      "Consensus sequence file for 27.M1.W10.07 moved to data/fasta/consensus/\n",
      "30.B1.W11.08 in process\n"
     ]
    },
    {
     "name": "stderr",
     "output_type": "stream",
     "text": [
      "Note: the --sample option not given, applying all records regardless of the genotype\n",
      "Applied 47 variants\n",
      "[mpileup] 1 samples in 1 input files\n",
      "[mpileup] maximum number of reads per input file set to -d 500\n"
     ]
    },
    {
     "name": "stdout",
     "output_type": "stream",
     "text": [
      "Consensus sequence file for 30.B1.W11.08 moved to data/fasta/consensus/\n",
      "30.M1.W04.09 in process\n"
     ]
    },
    {
     "name": "stderr",
     "output_type": "stream",
     "text": [
      "Note: the --sample option not given, applying all records regardless of the genotype\n",
      "Applied 47 variants\n",
      "[mpileup] 1 samples in 1 input files\n",
      "[mpileup] maximum number of reads per input file set to -d 500\n"
     ]
    },
    {
     "name": "stdout",
     "output_type": "stream",
     "text": [
      "Consensus sequence file for 30.M1.W04.09 moved to data/fasta/consensus/\n",
      "38.B1.W10.11 in process\n"
     ]
    },
    {
     "name": "stderr",
     "output_type": "stream",
     "text": [
      "Note: the --sample option not given, applying all records regardless of the genotype\n",
      "Applied 159 variants\n",
      "[mpileup] 1 samples in 1 input files\n",
      "[mpileup] maximum number of reads per input file set to -d 500\n"
     ]
    },
    {
     "name": "stdout",
     "output_type": "stream",
     "text": [
      "Consensus sequence file for 38.B1.W10.11 moved to data/fasta/consensus/\n",
      "38.M1.W03.10 in process\n"
     ]
    },
    {
     "name": "stderr",
     "output_type": "stream",
     "text": [
      "Note: the --sample option not given, applying all records regardless of the genotype\n",
      "Applied 159 variants\n",
      "[mpileup] 1 samples in 1 input files\n",
      "[mpileup] maximum number of reads per input file set to -d 500\n"
     ]
    },
    {
     "name": "stdout",
     "output_type": "stream",
     "text": [
      "Consensus sequence file for 38.M1.W03.10 moved to data/fasta/consensus/\n",
      "39.B1.W11.12 in process\n"
     ]
    },
    {
     "name": "stderr",
     "output_type": "stream",
     "text": [
      "Note: the --sample option not given, applying all records regardless of the genotype\n",
      "Applied 145 variants\n",
      "[mpileup] 1 samples in 1 input files\n",
      "[mpileup] maximum number of reads per input file set to -d 500\n"
     ]
    },
    {
     "name": "stdout",
     "output_type": "stream",
     "text": [
      "Consensus sequence file for 39.B1.W11.12 moved to data/fasta/consensus/\n",
      "39.M1.W03.13 in process\n"
     ]
    },
    {
     "name": "stderr",
     "output_type": "stream",
     "text": [
      "Note: the --sample option not given, applying all records regardless of the genotype\n",
      "Applied 81 variants\n",
      "[mpileup] 1 samples in 1 input files\n",
      "[mpileup] maximum number of reads per input file set to -d 500\n"
     ]
    },
    {
     "name": "stdout",
     "output_type": "stream",
     "text": [
      "Consensus sequence file for 39.M1.W03.13 moved to data/fasta/consensus/\n",
      "39.M1.W05.14 in process\n"
     ]
    },
    {
     "name": "stderr",
     "output_type": "stream",
     "text": [
      "Note: the --sample option not given, applying all records regardless of the genotype\n",
      "Applied 30 variants\n",
      "[mpileup] 1 samples in 1 input files\n",
      "[mpileup] maximum number of reads per input file set to -d 500\n"
     ]
    },
    {
     "name": "stdout",
     "output_type": "stream",
     "text": [
      "Consensus sequence file for 39.M1.W05.14 moved to data/fasta/consensus/\n",
      "53.B1.W14.17 in process\n"
     ]
    },
    {
     "name": "stderr",
     "output_type": "stream",
     "text": [
      "Note: the --sample option not given, applying all records regardless of the genotype\n",
      "Applied 151 variants\n",
      "[mpileup] 1 samples in 1 input files\n",
      "[mpileup] maximum number of reads per input file set to -d 500\n"
     ]
    },
    {
     "name": "stdout",
     "output_type": "stream",
     "text": [
      "Consensus sequence file for 53.B1.W14.17 moved to data/fasta/consensus/\n",
      "53.M1.W07.16 in process\n"
     ]
    },
    {
     "name": "stderr",
     "output_type": "stream",
     "text": [
      "Note: the --sample option not given, applying all records regardless of the genotype\n",
      "Applied 156 variants\n",
      "[mpileup] 1 samples in 1 input files\n",
      "[mpileup] maximum number of reads per input file set to -d 500\n"
     ]
    },
    {
     "name": "stdout",
     "output_type": "stream",
     "text": [
      "Consensus sequence file for 53.M1.W07.16 moved to data/fasta/consensus/\n",
      "56.B1.W09.22 in process\n"
     ]
    },
    {
     "name": "stderr",
     "output_type": "stream",
     "text": [
      "Note: the --sample option not given, applying all records regardless of the genotype\n",
      "Applied 168 variants\n",
      "[mpileup] 1 samples in 1 input files\n",
      "[mpileup] maximum number of reads per input file set to -d 500\n"
     ]
    },
    {
     "name": "stdout",
     "output_type": "stream",
     "text": [
      "Consensus sequence file for 56.B1.W09.22 moved to data/fasta/consensus/\n",
      "56.M1.W03.21 in process\n"
     ]
    },
    {
     "name": "stderr",
     "output_type": "stream",
     "text": [
      "Note: the --sample option not given, applying all records regardless of the genotype\n",
      "Applied 143 variants\n",
      "[mpileup] 1 samples in 1 input files\n",
      "[mpileup] maximum number of reads per input file set to -d 500\n"
     ]
    },
    {
     "name": "stdout",
     "output_type": "stream",
     "text": [
      "Consensus sequence file for 56.M1.W03.21 moved to data/fasta/consensus/\n",
      "63.B1.W09.29 in process\n"
     ]
    },
    {
     "name": "stderr",
     "output_type": "stream",
     "text": [
      "Note: the --sample option not given, applying all records regardless of the genotype\n",
      "Applied 2 variants\n",
      "[mpileup] 1 samples in 1 input files\n",
      "[mpileup] maximum number of reads per input file set to -d 500\n"
     ]
    },
    {
     "name": "stdout",
     "output_type": "stream",
     "text": [
      "Consensus sequence file for 63.B1.W09.29 moved to data/fasta/consensus/\n",
      "63.M1.W02.30 in process\n"
     ]
    },
    {
     "name": "stderr",
     "output_type": "stream",
     "text": [
      "Note: the --sample option not given, applying all records regardless of the genotype\n",
      "Applied 2 variants\n",
      "[mpileup] 1 samples in 1 input files\n",
      "[mpileup] maximum number of reads per input file set to -d 500\n"
     ]
    },
    {
     "name": "stdout",
     "output_type": "stream",
     "text": [
      "Consensus sequence file for 63.M1.W02.30 moved to data/fasta/consensus/\n",
      "66.B1.W09.25 in process\n"
     ]
    },
    {
     "name": "stderr",
     "output_type": "stream",
     "text": [
      "Note: the --sample option not given, applying all records regardless of the genotype\n",
      "Applied 154 variants\n",
      "[mpileup] 1 samples in 1 input files\n",
      "[mpileup] maximum number of reads per input file set to -d 500\n"
     ]
    },
    {
     "name": "stdout",
     "output_type": "stream",
     "text": [
      "Consensus sequence file for 66.B1.W09.25 moved to data/fasta/consensus/\n",
      "66.M1.W02.24 in process\n",
      "Consensus sequence file for 66.M1.W02.24 moved to data/fasta/consensus/\n"
     ]
    },
    {
     "name": "stderr",
     "output_type": "stream",
     "text": [
      "Note: the --sample option not given, applying all records regardless of the genotype\n",
      "Applied 157 variants\n"
     ]
    },
    {
     "data": {
      "text/plain": [
       "21"
      ]
     },
     "execution_count": 6,
     "metadata": {},
     "output_type": "execute_result"
    }
   ],
   "source": [
    "# List of sample identifiers to process\n",
    "samples = [\"04.B1.W14.01\", \"04.M1.W09.02\", \n",
    "           \"05.B1.W14.04\", \"05.M1.W08.03\",\n",
    "           \"27.B1.W13.06\", \"27.M1.W10.07\", \n",
    "           \"30.B1.W11.08\", \"30.M1.W04.09\", \n",
    "           \"38.B1.W10.11\", \"38.M1.W03.10\", \n",
    "           \"39.B1.W11.12\", \"39.M1.W03.13\", \"39.M1.W05.14\", \n",
    "           \"53.B1.W14.17\", \"53.M1.W07.16\", \n",
    "           \"56.B1.W09.22\", \"56.M1.W03.21\", \n",
    "           \"63.B1.W09.29\", \"63.M1.W02.30\", \n",
    "           \"66.B1.W09.25\", \"66.M1.W02.24\"]\n",
    "\n",
    "# Index the reference FASTA file to prepare for alignment\n",
    "reference_fasta = \"data/fasta/reference/HCMV_Merlin_UL33.fasta\"\n",
    "output_directory = \"data/fasta/consensus/\"\n",
    "subprocess.run([\"samtools\", \"faidx\", reference_fasta], check=True)\n",
    "\n",
    "# Initialize a list to store consensus sequences\n",
    "all_consensus_records = []\n",
    "\n",
    "# Process each sample\n",
    "for sample in samples:\n",
    "    print(f\"{sample} in process\") \n",
    "    initial_path = f\"data/{sample}/\"\n",
    "    bam_file = f\"{initial_path}{sample}.bam\"\n",
    "    bcf_file = f\"{initial_path}{sample}.bcf\"\n",
    "    vcf_file = f\"{initial_path}{sample}.vcf\"\n",
    "    consensus_file = f\"{initial_path}/{sample}_consensus.fasta\"\n",
    "    \n",
    "    # Check for the existence of the BAM file\n",
    "    if not os.path.exists(bam_file):\n",
    "        print(f\"Error: BAM file for {sample} does not exist.\")\n",
    "        continue\n",
    "\n",
    "    try:\n",
    "        # Generate pileup from BAM file using the reference FASTA\n",
    "        subprocess.run([\"bcftools\", \"mpileup\", \"-f\", reference_fasta, bam_file, \"--max-depth\", \"500\", \"-Ou\", \"-o\", bcf_file], check=True)\n",
    "        # Call variants from the pileup data\n",
    "        subprocess.run([\"bcftools\", \"call\", \"-mv\", \"--ploidy\", \"1\", \"-Ov\", \"-o\", vcf_file, bcf_file], check=True)\n",
    "        # Compress and index the VCF for use in consensus\n",
    "        subprocess.run([\"bgzip\", \"-f\", vcf_file], check=True)\n",
    "        subprocess.run([\"bcftools\", \"index\", f\"{vcf_file}.gz\"], check=True)\n",
    "        # Generate a consensus sequence from the VCF\n",
    "        subprocess.run([\"bcftools\", \"consensus\", \"-f\", reference_fasta, \"-o\", consensus_file, f\"{vcf_file}.gz\"], check=True)\n",
    "    except subprocess.CalledProcessError as e:\n",
    "        print(f\"Error processing {sample}: {e}\")\n",
    "        continue\n",
    "\n",
    "    # Load consensus sequences into memory\n",
    "    consensus_records = list(SeqIO.parse(consensus_file, \"fasta\"))\n",
    "    for record in consensus_records:\n",
    "        record.id = f\"{sample}_consensus\"\n",
    "        record.description = f\"{sample}_consensus\"\n",
    "        all_consensus_records.append(record)\n",
    "\n",
    "    # Move each individual consensus file to the specified directory\n",
    "    new_consensus_file_path = os.path.join(output_directory, f\"{sample}_consensus.fasta\")\n",
    "    os.rename(consensus_file, new_consensus_file_path)\n",
    "    print(f\"Consensus sequence file for {sample} moved to {output_directory}\")\n",
    "\n",
    "# Write all consensus sequences to a single FASTA file\n",
    "SeqIO.write(all_consensus_records, \"data/fasta/consensus/all_consensus.fasta\", \"fasta\")\n"
   ]
  }
 ],
 "metadata": {
  "kernelspec": {
   "display_name": "Python 3 (ipykernel)",
   "language": "python",
   "name": "python3"
  },
  "language_info": {
   "codemirror_mode": {
    "name": "ipython",
    "version": 3
   },
   "file_extension": ".py",
   "mimetype": "text/x-python",
   "name": "python",
   "nbconvert_exporter": "python",
   "pygments_lexer": "ipython3",
   "version": "3.10.12"
  },
  "vscode": {
   "interpreter": {
    "hash": "c1d675c2f4f889dd09212fec10ba36e21d8557edcac2b728432b54c97897b7bb"
   }
  }
 },
 "nbformat": 4,
 "nbformat_minor": 4
}
