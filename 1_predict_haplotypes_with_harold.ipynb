{
 "cells": [
  {
   "cell_type": "code",
   "execution_count": 1,
   "metadata": {
    "vscode": {
     "languageId": "plaintext"
    }
   },
   "outputs": [],
   "source": [
    "# Imports\n",
    "import os\n",
    "import shutil\n",
    "import subprocess\n",
    "from Bio import SeqIO"
   ]
  },
  {
   "cell_type": "code",
   "execution_count": 2,
   "metadata": {},
   "outputs": [],
   "source": [
    "def generate_strandcount(sample):\n",
    "    # Define the command\n",
    "    command = \"java -cp lib/htsjdk-unspecified-SNAPSHOT.jar:lib/picocli-4.1.2.jar:lib/pal-1.5.1.jar:lib/cache2k-all-1.0.2.Final.jar:lib/commons-math3-3.6.1.jar:jar/MakeReadCount.jar makereadcount.MakeReadCount data/\" + sample + \"/\" + sample +\".bam\"\n",
    "    # Execute the command and capture the output\n",
    "    result = subprocess.run(command, shell=True, capture_output=True, text=True, check=True)\n",
    "    # Display the output\n",
    "    print(result.stdout)\n",
    "    # Move files\n",
    "    shutil.move(sample + \".log\", \"data/\" + sample + \"/\" + sample + \".log\")\n",
    "    shutil.move(sample + \".strandcount.csv\", \"data/\" + sample + \"/\" + sample + \".strandcount.csv\")\n",
    "    # Generate sample.txt\n",
    "    with open(\"data/\" + sample + \"/sample.txt\", 'w') as file:\n",
    "        file.write(sample + \".strandcount.csv\")"
   ]
  },
  {
   "cell_type": "code",
   "execution_count": 3,
   "metadata": {},
   "outputs": [],
   "source": [
    "def run_harold(sample):\n",
    "    # Define the command\n",
    "    command = \"java -Xmx16384m -jar jar/Cluster_RG/dist/HaROLD-2.0.jar --count-file data/\" + sample + \"/sample.txt --haplotypes 5 --alpha-frac 0.5 --gamma-cache 10000 -H -L --threads 12 -p data/\" + sample + \"/\" + sample\n",
    "    # Execute the command and capture the output\n",
    "    result = subprocess.run(command, shell=True, capture_output=True, text=True, check=True)\n",
    "    # Display the output\n",
    "    print(result.stdout)\n",
    "    # Rename the fasta file\n",
    "    current_path = \"data/\" + sample + \"/\" + sample + \"Haplo.fasta\"\n",
    "    new_path = \"data/\" + sample + \"/\" + sample + \".Haplo.fasta\"\n",
    "    os.rename(current_path, new_path)"
   ]
  },
  {
   "cell_type": "code",
   "execution_count": 4,
   "metadata": {},
   "outputs": [],
   "source": [
    "def refine_harold_ouput(sample):\n",
    "    # Define the command\n",
    "    command = \"java -Xmx16384m -cp lib/htsjdk-unspecified-SNAPSHOT.jar:lib/picocli-4.1.2.jar:lib/pal-1.5.1.jar:lib/commons-math3-3.6.1.jar:lib/cache2k-all-1.0.2.Final.jar:lib/flanagan.jar:jar/RefineHaplotypes.jar refineHaplotypes.RefineHaplotypes -t data/\"+ sample + \"/\" + sample + \" --bam data/\" + sample + \"/\" + sample + \".bam --baseFreq data/\"  + sample + \"/\" + sample + \".lld --refSequence data/fasta/HCMV_Merlin_UL33.fasta --hapAlignment data/\" + sample + \"/\" + sample + \".Haplo.fasta --iterate\"\n",
    "    # Execute the command and capture the output\n",
    "    result = subprocess.run(command, shell=True, capture_output=True, text=True, check=True)\n",
    "    # Display the output\n",
    "    print(result.stdout)"
   ]
  },
  {
   "cell_type": "code",
   "execution_count": 5,
   "metadata": {},
   "outputs": [],
   "source": [
    "# Define list of samples to process\n",
    "samples = [\"04.B1.W14.01\", \"04.M1.W09.02\", \n",
    "           \"05.B1.W14.04\", \"05.M1.W08.03\",\n",
    "           \"27.B1.W13.06\", \"27.M1.W10.07\", \n",
    "           \"30.B1.W11.08\", \"30.M1.W04.09\", \n",
    "           \"38.B1.W10.11\", \"38.M1.W03.10\", \n",
    "           \"39.B1.W11.12\", \"39.M1.W03.13\", \"39.M1.W05.14\", \n",
    "           \"53.B1.W14.17\", \"53.M1.W07.16\", \n",
    "           \"56.B1.W09.22\", \"56.M1.W03.21\", \n",
    "           \"63.B1.W09.29\", \"63.M1.W02.30\", \n",
    "           \"66.B1.W09.25\", \"66.M1.W02.24\"]\n",
    "\n",
    "# Loop through each sample in the list\n",
    "for sample in samples:\n",
    "    # Print the current sample name\n",
    "    print(\"Sample:\", sample)        \n",
    "    # Generate strand count for the current sample\n",
    "    generate_strandcount(sample)  \n",
    "    # Run the harold algorithm/tool on the current sample\n",
    "    run_harold(sample)        \n",
    "    # Refine the output obtained from harold for the current sample\n",
    "    refine_harold_ouput(sample)"
   ]
  }
 ],
 "metadata": {
  "kernelspec": {
   "display_name": "Python 3 (ipykernel)",
   "language": "python",
   "name": "python3"
  },
  "language_info": {
   "codemirror_mode": {
    "name": "ipython",
    "version": 3
   },
   "file_extension": ".py",
   "mimetype": "text/x-python",
   "name": "python",
   "nbconvert_exporter": "python",
   "pygments_lexer": "ipython3",
   "version": "3.10.12"
  },
  "vscode": {
   "interpreter": {
    "hash": "c1d675c2f4f889dd09212fec10ba36e21d8557edcac2b728432b54c97897b7bb"
   }
  }
 },
 "nbformat": 4,
 "nbformat_minor": 4
}
